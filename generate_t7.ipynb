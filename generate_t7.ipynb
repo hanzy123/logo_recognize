{
 "cells": [
  {
   "cell_type": "code",
   "execution_count": 67,
   "metadata": {
    "collapsed": false
   },
   "outputs": [],
   "source": [
    "require 'image';\n",
    "require 'xlua'"
   ]
  },
  {
   "cell_type": "code",
   "execution_count": 68,
   "metadata": {
    "collapsed": true
   },
   "outputs": [],
   "source": [
    "Imgs = {\n",
    "    data = torch.Tensor(2266, 3, 128, 128):zero():float(),\n",
    "    labels = torch.Tensor(5862),\n",
    "    size = function() return trsize end\n",
    "}"
   ]
  },
  {
   "cell_type": "code",
   "execution_count": 69,
   "metadata": {
    "collapsed": true
   },
   "outputs": [],
   "source": [
    "file = io.open('python_work/getlogo/logo_path.txt', 'r')"
   ]
  },
  {
   "cell_type": "code",
   "execution_count": 70,
   "metadata": {
    "collapsed": false
   },
   "outputs": [],
   "source": [
    "fun=function()  \n",
    "    Imgs.data[count] = image.scale(img1, 128, 128):float()  \n",
    "end  \n",
    "  \n",
    "tryCatch=function(fun)  \n",
    "    ret,errMessage=pcall(fun);\n",
    "    return ret,errMessage\n",
    "end  \n",
    "  "
   ]
  },
  {
   "cell_type": "code",
   "execution_count": 71,
   "metadata": {
    "collapsed": false
   },
   "outputs": [
    {
     "name": "stdout",
     "output_type": "stream",
     "text": [
      "\r",
      " [......................................................................................]                               \b\b\b\b\b\b\b\b\b\b\b\b\b\b\b\b\b\b\b\b\b\b\b\b\b\b\b\b\b\b ETA: 0ms | Step: 0ms\b\b\b\b\b\b\b\b\b\b\b\b\b\b\b\b\b\b\b\b\b\b\b\b\b\b\b\b\b\b\b\b\b\b\b\b\b\b\b\b\b\b\b\b\b\b\b\b\b\b\b\b\b\b\b\b\b\b\b\b\b\b\b\b\b\b\b\b\b "
     ]
    },
    {
     "data": {
      "text/plain": [
       "count = \t\n",
       "1\t\n"
      ]
     },
     "execution_count": 71,
     "metadata": {},
     "output_type": "execute_result"
    },
    {
     "data": {
      "text/plain": [
       "count = \t\n"
      ]
     },
     "execution_count": 71,
     "metadata": {},
     "output_type": "execute_result"
    },
    {
     "data": {
      "text/plain": [
       "2\t\n"
      ]
     },
     "execution_count": 71,
     "metadata": {},
     "output_type": "execute_result"
    },
    {
     "data": {
      "text/plain": [
       "count = \t\n",
       "3\t\n"
      ]
     },
     "execution_count": 71,
     "metadata": {},
     "output_type": "execute_result"
    },
    {
     "data": {
      "text/plain": [
       "count = \t\n",
       "4\t\n"
      ]
     },
     "execution_count": 71,
     "metadata": {},
     "output_type": "execute_result"
    },
    {
     "data": {
      "text/plain": [
       "count = \t\n",
       "5\t\n"
      ]
     },
     "execution_count": 71,
     "metadata": {},
     "output_type": "execute_result"
    },
    {
     "data": {
      "text/plain": [
       "count = \t\n",
       "6\t\n"
      ]
     },
     "execution_count": 71,
     "metadata": {},
     "output_type": "execute_result"
    },
    {
     "data": {
      "text/plain": [
       "count = \t\n",
       "7\t\n"
      ]
     },
     "execution_count": 71,
     "metadata": {},
     "output_type": "execute_result"
    },
    {
     "data": {
      "text/plain": [
       "count = \t\n",
       "8\t\n"
      ]
     },
     "execution_count": 71,
     "metadata": {},
     "output_type": "execute_result"
    },
    {
     "data": {
      "text/plain": [
       "count = \t\n",
       "9\t\n"
      ]
     },
     "execution_count": 71,
     "metadata": {},
     "output_type": "execute_result"
    },
    {
     "data": {
      "text/plain": [
       "count = \t\n",
       "10\t\n"
      ]
     },
     "execution_count": 71,
     "metadata": {},
     "output_type": "execute_result"
    },
    {
     "data": {
      "text/plain": [
       "count = \t\n",
       "11\t\n"
      ]
     },
     "execution_count": 71,
     "metadata": {},
     "output_type": "execute_result"
    },
    {
     "data": {
      "text/plain": [
       "count = \t\n",
       "12\t\n"
      ]
     },
     "execution_count": 71,
     "metadata": {},
     "output_type": "execute_result"
    },
    {
     "data": {
      "text/plain": [
       "count = \t\n",
       "13\t\n"
      ]
     },
     "execution_count": 71,
     "metadata": {},
     "output_type": "execute_result"
    },
    {
     "data": {
      "text/plain": [
       "count = \t\n",
       "14\t\n"
      ]
     },
     "execution_count": 71,
     "metadata": {},
     "output_type": "execute_result"
    },
    {
     "data": {
      "text/plain": [
       "count = \t\n",
       "15\t\n"
      ]
     },
     "execution_count": 71,
     "metadata": {},
     "output_type": "execute_result"
    },
    {
     "data": {
      "text/plain": [
       "count = \t\n",
       "16\t\n"
      ]
     },
     "execution_count": 71,
     "metadata": {},
     "output_type": "execute_result"
    },
    {
     "data": {
      "text/plain": [
       "count = \t\n",
       "17\t\n"
      ]
     },
     "execution_count": 71,
     "metadata": {},
     "output_type": "execute_result"
    },
    {
     "data": {
      "text/plain": [
       "count = \t\n",
       "18\t\n"
      ]
     },
     "execution_count": 71,
     "metadata": {},
     "output_type": "execute_result"
    },
    {
     "data": {
      "text/plain": [
       "count = \t\n",
       "19\t\n"
      ]
     },
     "execution_count": 71,
     "metadata": {},
     "output_type": "execute_result"
    },
    {
     "data": {
      "text/plain": [
       "count = \t\n",
       "20\t\n"
      ]
     },
     "execution_count": 71,
     "metadata": {},
     "output_type": "execute_result"
    },
    {
     "data": {
      "text/plain": [
       "count = \t\n",
       "21\t\n"
      ]
     },
     "execution_count": 71,
     "metadata": {},
     "output_type": "execute_result"
    },
    {
     "data": {
      "text/plain": [
       "count = \t\n",
       "22\t\n"
      ]
     },
     "execution_count": 71,
     "metadata": {},
     "output_type": "execute_result"
    },
    {
     "data": {
      "text/plain": [
       "count = \t\n",
       "23\t\n"
      ]
     },
     "execution_count": 71,
     "metadata": {},
     "output_type": "execute_result"
    },
    {
     "data": {
      "text/plain": [
       "count = \t\n",
       "24\t\n"
      ]
     },
     "execution_count": 71,
     "metadata": {},
     "output_type": "execute_result"
    },
    {
     "data": {
      "text/plain": [
       "count = \t\n",
       "25\t\n"
      ]
     },
     "execution_count": 71,
     "metadata": {},
     "output_type": "execute_result"
    },
    {
     "data": {
      "text/plain": [
       "count = \t\n",
       "26\t\n"
      ]
     },
     "execution_count": 71,
     "metadata": {},
     "output_type": "execute_result"
    },
    {
     "data": {
      "text/plain": [
       "count = \t\n",
       "27\t\n"
      ]
     },
     "execution_count": 71,
     "metadata": {},
     "output_type": "execute_result"
    },
    {
     "data": {
      "text/plain": [
       "count = \t\n",
       "28\t\n"
      ]
     },
     "execution_count": 71,
     "metadata": {},
     "output_type": "execute_result"
    },
    {
     "data": {
      "text/plain": [
       "count = \t\n",
       "29\t\n"
      ]
     },
     "execution_count": 71,
     "metadata": {},
     "output_type": "execute_result"
    },
    {
     "data": {
      "text/plain": [
       "count = \t\n",
       "30\t\n"
      ]
     },
     "execution_count": 71,
     "metadata": {},
     "output_type": "execute_result"
    },
    {
     "data": {
      "text/plain": [
       "count = \t\n",
       "31\t\n"
      ]
     },
     "execution_count": 71,
     "metadata": {},
     "output_type": "execute_result"
    },
    {
     "data": {
      "text/plain": [
       "count = \t\n",
       "32\t\n"
      ]
     },
     "execution_count": 71,
     "metadata": {},
     "output_type": "execute_result"
    },
    {
     "data": {
      "text/plain": [
       "count = \t\n",
       "33\t\n"
      ]
     },
     "execution_count": 71,
     "metadata": {},
     "output_type": "execute_result"
    },
    {
     "data": {
      "text/plain": [
       "count = \t\n",
       "34\t\n"
      ]
     },
     "execution_count": 71,
     "metadata": {},
     "output_type": "execute_result"
    },
    {
     "data": {
      "text/plain": [
       "count = \t\n",
       "35\t\n"
      ]
     },
     "execution_count": 71,
     "metadata": {},
     "output_type": "execute_result"
    },
    {
     "data": {
      "text/plain": [
       "count = \t\n",
       "36\t\n"
      ]
     },
     "execution_count": 71,
     "metadata": {},
     "output_type": "execute_result"
    },
    {
     "data": {
      "text/plain": [
       "count = \t\n",
       "37\t\n"
      ]
     },
     "execution_count": 71,
     "metadata": {},
     "output_type": "execute_result"
    },
    {
     "data": {
      "text/plain": [
       "count = \t\n",
       "38\t\n"
      ]
     },
     "execution_count": 71,
     "metadata": {},
     "output_type": "execute_result"
    },
    {
     "data": {
      "text/plain": [
       "count = \t\n",
       "39\t\n"
      ]
     },
     "execution_count": 71,
     "metadata": {},
     "output_type": "execute_result"
    },
    {
     "data": {
      "text/plain": [
       "count = \t\n",
       "40\t\n"
      ]
     },
     "execution_count": 71,
     "metadata": {},
     "output_type": "execute_result"
    },
    {
     "data": {
      "text/plain": [
       "count = \t\n",
       "41\t\n"
      ]
     },
     "execution_count": 71,
     "metadata": {},
     "output_type": "execute_result"
    },
    {
     "data": {
      "text/plain": [
       "count = \t\n",
       "42\t\n"
      ]
     },
     "execution_count": 71,
     "metadata": {},
     "output_type": "execute_result"
    },
    {
     "data": {
      "text/plain": [
       "count = \t\n",
       "43\t\n"
      ]
     },
     "execution_count": 71,
     "metadata": {},
     "output_type": "execute_result"
    },
    {
     "data": {
      "text/plain": [
       "count = \t\n",
       "44\t\n"
      ]
     },
     "execution_count": 71,
     "metadata": {},
     "output_type": "execute_result"
    },
    {
     "data": {
      "text/plain": [
       "count = \t\n",
       "45\t\n"
      ]
     },
     "execution_count": 71,
     "metadata": {},
     "output_type": "execute_result"
    },
    {
     "data": {
      "text/plain": [
       "count = \t\n",
       "46\t\n"
      ]
     },
     "execution_count": 71,
     "metadata": {},
     "output_type": "execute_result"
    },
    {
     "data": {
      "text/plain": [
       "count = \t\n",
       "47\t\n"
      ]
     },
     "execution_count": 71,
     "metadata": {},
     "output_type": "execute_result"
    },
    {
     "data": {
      "text/plain": [
       "count = \t\n",
       "48\t\n"
      ]
     },
     "execution_count": 71,
     "metadata": {},
     "output_type": "execute_result"
    },
    {
     "data": {
      "text/plain": [
       "count = \t\n",
       "49\t\n"
      ]
     },
     "execution_count": 71,
     "metadata": {},
     "output_type": "execute_result"
    },
    {
     "data": {
      "text/plain": [
       "count = \t\n",
       "50\t\n",
       "count = \t\n",
       "51\t\n"
      ]
     },
     "execution_count": 71,
     "metadata": {},
     "output_type": "execute_result"
    },
    {
     "data": {
      "text/plain": [
       "count = \t\n",
       "52\t\n"
      ]
     },
     "execution_count": 71,
     "metadata": {},
     "output_type": "execute_result"
    },
    {
     "data": {
      "text/plain": [
       "count = \t\n",
       "53\t\n"
      ]
     },
     "execution_count": 71,
     "metadata": {},
     "output_type": "execute_result"
    },
    {
     "data": {
      "text/plain": [
       "count = \t\n"
      ]
     },
     "execution_count": 71,
     "metadata": {},
     "output_type": "execute_result"
    },
    {
     "data": {
      "text/plain": [
       "54\t\n"
      ]
     },
     "execution_count": 71,
     "metadata": {},
     "output_type": "execute_result"
    },
    {
     "data": {
      "text/plain": [
       "count = \t\n",
       "55\t\n"
      ]
     },
     "execution_count": 71,
     "metadata": {},
     "output_type": "execute_result"
    },
    {
     "data": {
      "text/plain": [
       "count = \t\n",
       "56\t\n"
      ]
     },
     "execution_count": 71,
     "metadata": {},
     "output_type": "execute_result"
    },
    {
     "data": {
      "text/plain": [
       "count = \t\n",
       "57\t\n"
      ]
     },
     "execution_count": 71,
     "metadata": {},
     "output_type": "execute_result"
    },
    {
     "data": {
      "text/plain": [
       "count = \t\n",
       "58\t\n",
       "count = \t\n",
       "59\t\n"
      ]
     },
     "execution_count": 71,
     "metadata": {},
     "output_type": "execute_result"
    },
    {
     "data": {
      "text/plain": [
       "count = \t\n",
       "60\t\n"
      ]
     },
     "execution_count": 71,
     "metadata": {},
     "output_type": "execute_result"
    },
    {
     "data": {
      "text/plain": [
       "count = \t\n",
       "61\t\n"
      ]
     },
     "execution_count": 71,
     "metadata": {},
     "output_type": "execute_result"
    },
    {
     "data": {
      "text/plain": [
       "count = \t\n",
       "62\t\n"
      ]
     },
     "execution_count": 71,
     "metadata": {},
     "output_type": "execute_result"
    },
    {
     "data": {
      "text/plain": [
       "count = \t\n",
       "63\t\n"
      ]
     },
     "execution_count": 71,
     "metadata": {},
     "output_type": "execute_result"
    },
    {
     "data": {
      "text/plain": [
       "count = \t\n",
       "64\t\n",
       "count = \t\n",
       "65\t\n"
      ]
     },
     "execution_count": 71,
     "metadata": {},
     "output_type": "execute_result"
    },
    {
     "data": {
      "text/plain": [
       "count = \t\n",
       "66\t\n"
      ]
     },
     "execution_count": 71,
     "metadata": {},
     "output_type": "execute_result"
    },
    {
     "data": {
      "text/plain": [
       "count = \t\n",
       "67\t\n"
      ]
     },
     "execution_count": 71,
     "metadata": {},
     "output_type": "execute_result"
    },
    {
     "data": {
      "text/plain": [
       "count = \t\n",
       "68\t\n"
      ]
     },
     "execution_count": 71,
     "metadata": {},
     "output_type": "execute_result"
    },
    {
     "data": {
      "text/plain": [
       "count = \t\n",
       "69\t\n"
      ]
     },
     "execution_count": 71,
     "metadata": {},
     "output_type": "execute_result"
    },
    {
     "data": {
      "text/plain": [
       "count = \t\n",
       "70\t\n"
      ]
     },
     "execution_count": 71,
     "metadata": {},
     "output_type": "execute_result"
    },
    {
     "data": {
      "text/plain": [
       "count = \t\n",
       "71\t\n"
      ]
     },
     "execution_count": 71,
     "metadata": {},
     "output_type": "execute_result"
    },
    {
     "data": {
      "text/plain": [
       "count = \t\n",
       "72\t\n"
      ]
     },
     "execution_count": 71,
     "metadata": {},
     "output_type": "execute_result"
    },
    {
     "data": {
      "text/plain": [
       "count = \t\n",
       "73\t\n",
       "count = \t\n",
       "74\t\n"
      ]
     },
     "execution_count": 71,
     "metadata": {},
     "output_type": "execute_result"
    },
    {
     "data": {
      "text/plain": [
       "count = \t\n",
       "75\t\n"
      ]
     },
     "execution_count": 71,
     "metadata": {},
     "output_type": "execute_result"
    },
    {
     "data": {
      "text/plain": [
       "count = \t\n",
       "76\t\n",
       "count = \t\n",
       "77\t\n"
      ]
     },
     "execution_count": 71,
     "metadata": {},
     "output_type": "execute_result"
    },
    {
     "data": {
      "text/plain": [
       "count = \t\n",
       "78\t\n"
      ]
     },
     "execution_count": 71,
     "metadata": {},
     "output_type": "execute_result"
    },
    {
     "data": {
      "text/plain": [
       "count = \t\n",
       "79\t\n",
       "count = \t\n",
       "80\t\n"
      ]
     },
     "execution_count": 71,
     "metadata": {},
     "output_type": "execute_result"
    },
    {
     "data": {
      "text/plain": [
       "count = \t\n",
       "81\t\n"
      ]
     },
     "execution_count": 71,
     "metadata": {},
     "output_type": "execute_result"
    },
    {
     "data": {
      "text/plain": [
       "count = \t\n",
       "82\t\n"
      ]
     },
     "execution_count": 71,
     "metadata": {},
     "output_type": "execute_result"
    },
    {
     "data": {
      "text/plain": [
       "count = \t\n",
       "83\t\n"
      ]
     },
     "execution_count": 71,
     "metadata": {},
     "output_type": "execute_result"
    },
    {
     "data": {
      "text/plain": [
       "count = \t\n",
       "84\t\n"
      ]
     },
     "execution_count": 71,
     "metadata": {},
     "output_type": "execute_result"
    },
    {
     "data": {
      "text/plain": [
       "count = \t\n",
       "85\t\n"
      ]
     },
     "execution_count": 71,
     "metadata": {},
     "output_type": "execute_result"
    },
    {
     "data": {
      "text/plain": [
       "count = \t\n",
       "86\t\n"
      ]
     },
     "execution_count": 71,
     "metadata": {},
     "output_type": "execute_result"
    },
    {
     "data": {
      "text/plain": [
       "count = \t\n",
       "87\t\n"
      ]
     },
     "execution_count": 71,
     "metadata": {},
     "output_type": "execute_result"
    },
    {
     "data": {
      "text/plain": [
       "count = \t\n",
       "88\t\n"
      ]
     },
     "execution_count": 71,
     "metadata": {},
     "output_type": "execute_result"
    },
    {
     "data": {
      "text/plain": [
       "count = \t\n",
       "89\t\n"
      ]
     },
     "execution_count": 71,
     "metadata": {},
     "output_type": "execute_result"
    },
    {
     "data": {
      "text/plain": [
       "count = \t\n",
       "90\t"
      ]
     },
     "execution_count": 71,
     "metadata": {},
     "output_type": "execute_result"
    },
    {
     "data": {
      "text/plain": [
       "\n"
      ]
     },
     "execution_count": 71,
     "metadata": {},
     "output_type": "execute_result"
    },
    {
     "data": {
      "text/plain": [
       "count = \t\n",
       "91\t\n"
      ]
     },
     "execution_count": 71,
     "metadata": {},
     "output_type": "execute_result"
    },
    {
     "data": {
      "text/plain": [
       "count = \t\n",
       "92\t\n"
      ]
     },
     "execution_count": 71,
     "metadata": {},
     "output_type": "execute_result"
    },
    {
     "data": {
      "text/plain": [
       "count = \t\n",
       "93\t\n"
      ]
     },
     "execution_count": 71,
     "metadata": {},
     "output_type": "execute_result"
    },
    {
     "data": {
      "text/plain": [
       "count = \t\n",
       "94\t\n"
      ]
     },
     "execution_count": 71,
     "metadata": {},
     "output_type": "execute_result"
    },
    {
     "data": {
      "text/plain": [
       "count = \t\n",
       "95\t\n"
      ]
     },
     "execution_count": 71,
     "metadata": {},
     "output_type": "execute_result"
    },
    {
     "data": {
      "text/plain": [
       "count = \t\n",
       "96\t\n"
      ]
     },
     "execution_count": 71,
     "metadata": {},
     "output_type": "execute_result"
    },
    {
     "data": {
      "text/plain": [
       "count = \t\n",
       "97\t\n"
      ]
     },
     "execution_count": 71,
     "metadata": {},
     "output_type": "execute_result"
    },
    {
     "data": {
      "text/plain": [
       "count = \t\n",
       "98\t\n"
      ]
     },
     "execution_count": 71,
     "metadata": {},
     "output_type": "execute_result"
    },
    {
     "data": {
      "text/plain": [
       "count = \t\n",
       "99\t\n"
      ]
     },
     "execution_count": 71,
     "metadata": {},
     "output_type": "execute_result"
    },
    {
     "data": {
      "text/plain": [
       "no\t\n"
      ]
     },
     "execution_count": 71,
     "metadata": {},
     "output_type": "execute_result"
    },
    {
     "data": {
      "text/plain": [
       "count = \t\n",
       "100\t\n"
      ]
     },
     "execution_count": 71,
     "metadata": {},
     "output_type": "execute_result"
    },
    {
     "data": {
      "text/plain": [
       "count = \t\n",
       "101\t\n"
      ]
     },
     "execution_count": 71,
     "metadata": {},
     "output_type": "execute_result"
    },
    {
     "data": {
      "text/plain": [
       "count = \t\n",
       "102\t\n"
      ]
     },
     "execution_count": 71,
     "metadata": {},
     "output_type": "execute_result"
    },
    {
     "data": {
      "text/plain": [
       "count = \t\n",
       "103\t\n"
      ]
     },
     "execution_count": 71,
     "metadata": {},
     "output_type": "execute_result"
    },
    {
     "data": {
      "text/plain": [
       "count = \t\n",
       "104\t\n"
      ]
     },
     "execution_count": 71,
     "metadata": {},
     "output_type": "execute_result"
    },
    {
     "data": {
      "text/plain": [
       "count = \t\n",
       "105\t\n"
      ]
     },
     "execution_count": 71,
     "metadata": {},
     "output_type": "execute_result"
    },
    {
     "data": {
      "text/plain": [
       "count = \t\n",
       "106\t\n"
      ]
     },
     "execution_count": 71,
     "metadata": {},
     "output_type": "execute_result"
    },
    {
     "data": {
      "text/plain": [
       "count = \t\n",
       "107\t\n"
      ]
     },
     "execution_count": 71,
     "metadata": {},
     "output_type": "execute_result"
    },
    {
     "data": {
      "text/plain": [
       "count = \t\n",
       "108\t\n"
      ]
     },
     "execution_count": 71,
     "metadata": {},
     "output_type": "execute_result"
    },
    {
     "data": {
      "text/plain": [
       "count = \t\n",
       "109\t\n"
      ]
     },
     "execution_count": 71,
     "metadata": {},
     "output_type": "execute_result"
    },
    {
     "data": {
      "text/plain": [
       "count = \t\n",
       "110\t\n"
      ]
     },
     "execution_count": 71,
     "metadata": {},
     "output_type": "execute_result"
    },
    {
     "data": {
      "text/plain": [
       "count = \t\n",
       "111\t\n"
      ]
     },
     "execution_count": 71,
     "metadata": {},
     "output_type": "execute_result"
    },
    {
     "data": {
      "text/plain": [
       "count = \t\n",
       "112\t\n"
      ]
     },
     "execution_count": 71,
     "metadata": {},
     "output_type": "execute_result"
    },
    {
     "data": {
      "text/plain": [
       "count = \t\n",
       "113\t\n"
      ]
     },
     "execution_count": 71,
     "metadata": {},
     "output_type": "execute_result"
    },
    {
     "data": {
      "text/plain": [
       "count = \t\n",
       "114\t\n"
      ]
     },
     "execution_count": 71,
     "metadata": {},
     "output_type": "execute_result"
    },
    {
     "data": {
      "text/plain": [
       "count = \t\n",
       "115\t\n"
      ]
     },
     "execution_count": 71,
     "metadata": {},
     "output_type": "execute_result"
    },
    {
     "data": {
      "text/plain": [
       "count = \t\n",
       "116\t\n"
      ]
     },
     "execution_count": 71,
     "metadata": {},
     "output_type": "execute_result"
    },
    {
     "data": {
      "text/plain": [
       "count = \t\n",
       "117\t\n"
      ]
     },
     "execution_count": 71,
     "metadata": {},
     "output_type": "execute_result"
    },
    {
     "data": {
      "text/plain": [
       "count = \t\n",
       "118\t\n"
      ]
     },
     "execution_count": 71,
     "metadata": {},
     "output_type": "execute_result"
    },
    {
     "data": {
      "text/plain": [
       "count = \t\n",
       "119\t\n"
      ]
     },
     "execution_count": 71,
     "metadata": {},
     "output_type": "execute_result"
    },
    {
     "data": {
      "text/plain": [
       "count = \t\n",
       "120\t\n"
      ]
     },
     "execution_count": 71,
     "metadata": {},
     "output_type": "execute_result"
    },
    {
     "data": {
      "text/plain": [
       "count = \t\n",
       "121\t\n"
      ]
     },
     "execution_count": 71,
     "metadata": {},
     "output_type": "execute_result"
    },
    {
     "data": {
      "text/plain": [
       "count = \t\n",
       "122\t\n"
      ]
     },
     "execution_count": 71,
     "metadata": {},
     "output_type": "execute_result"
    },
    {
     "data": {
      "text/plain": [
       "count = \t\n",
       "123\t\n"
      ]
     },
     "execution_count": 71,
     "metadata": {},
     "output_type": "execute_result"
    },
    {
     "data": {
      "text/plain": [
       "count = \t\n",
       "124\t\n"
      ]
     },
     "execution_count": 71,
     "metadata": {},
     "output_type": "execute_result"
    },
    {
     "data": {
      "text/plain": [
       "count = \t\n",
       "125\t\n"
      ]
     },
     "execution_count": 71,
     "metadata": {},
     "output_type": "execute_result"
    },
    {
     "data": {
      "text/plain": [
       "count = \t\n",
       "126\t\n"
      ]
     },
     "execution_count": 71,
     "metadata": {},
     "output_type": "execute_result"
    },
    {
     "data": {
      "text/plain": [
       "count = \t\n",
       "127\t\n"
      ]
     },
     "execution_count": 71,
     "metadata": {},
     "output_type": "execute_result"
    },
    {
     "data": {
      "text/plain": [
       "count = \t\n",
       "128\t\n"
      ]
     },
     "execution_count": 71,
     "metadata": {},
     "output_type": "execute_result"
    },
    {
     "data": {
      "text/plain": [
       "count = \t\n",
       "129\t\n"
      ]
     },
     "execution_count": 71,
     "metadata": {},
     "output_type": "execute_result"
    },
    {
     "data": {
      "text/plain": [
       "count = \t\n",
       "130\t\n"
      ]
     },
     "execution_count": 71,
     "metadata": {},
     "output_type": "execute_result"
    },
    {
     "data": {
      "text/plain": [
       "count = \t\n",
       "131\t\n"
      ]
     },
     "execution_count": 71,
     "metadata": {},
     "output_type": "execute_result"
    },
    {
     "data": {
      "text/plain": [
       "count = \t\n",
       "132\t\n"
      ]
     },
     "execution_count": 71,
     "metadata": {},
     "output_type": "execute_result"
    },
    {
     "data": {
      "text/plain": [
       "count = \t\n",
       "133\t\n"
      ]
     },
     "execution_count": 71,
     "metadata": {},
     "output_type": "execute_result"
    },
    {
     "data": {
      "text/plain": [
       "count = \t\n",
       "134\t\n"
      ]
     },
     "execution_count": 71,
     "metadata": {},
     "output_type": "execute_result"
    },
    {
     "data": {
      "text/plain": [
       "count = \t\n",
       "135\t\n"
      ]
     },
     "execution_count": 71,
     "metadata": {},
     "output_type": "execute_result"
    },
    {
     "data": {
      "text/plain": [
       "count = \t\n",
       "136\t\n"
      ]
     },
     "execution_count": 71,
     "metadata": {},
     "output_type": "execute_result"
    },
    {
     "data": {
      "text/plain": [
       "count = \t\n",
       "137\t\n"
      ]
     },
     "execution_count": 71,
     "metadata": {},
     "output_type": "execute_result"
    },
    {
     "data": {
      "text/plain": [
       "count = \t\n",
       "138\t\n"
      ]
     },
     "execution_count": 71,
     "metadata": {},
     "output_type": "execute_result"
    },
    {
     "data": {
      "text/plain": [
       "count = \t\n",
       "139\t\n"
      ]
     },
     "execution_count": 71,
     "metadata": {},
     "output_type": "execute_result"
    },
    {
     "data": {
      "text/plain": [
       "count = \t\n",
       "140\t\n"
      ]
     },
     "execution_count": 71,
     "metadata": {},
     "output_type": "execute_result"
    },
    {
     "data": {
      "text/plain": [
       "count = \t\n",
       "141\t\n"
      ]
     },
     "execution_count": 71,
     "metadata": {},
     "output_type": "execute_result"
    },
    {
     "data": {
      "text/plain": [
       "count = \t\n",
       "142\t\n"
      ]
     },
     "execution_count": 71,
     "metadata": {},
     "output_type": "execute_result"
    },
    {
     "data": {
      "text/plain": [
       "count = \t\n",
       "143\t\n"
      ]
     },
     "execution_count": 71,
     "metadata": {},
     "output_type": "execute_result"
    },
    {
     "data": {
      "text/plain": [
       "count = \t\n",
       "144\t\n"
      ]
     },
     "execution_count": 71,
     "metadata": {},
     "output_type": "execute_result"
    },
    {
     "data": {
      "text/plain": [
       "count = \t\n",
       "145\t\n"
      ]
     },
     "execution_count": 71,
     "metadata": {},
     "output_type": "execute_result"
    },
    {
     "data": {
      "text/plain": [
       "count = \t\n",
       "146\t\n"
      ]
     },
     "execution_count": 71,
     "metadata": {},
     "output_type": "execute_result"
    },
    {
     "data": {
      "text/plain": [
       "no\t\n"
      ]
     },
     "execution_count": 71,
     "metadata": {},
     "output_type": "execute_result"
    },
    {
     "data": {
      "text/plain": [
       "count = \t\n",
       "147\t\n"
      ]
     },
     "execution_count": 71,
     "metadata": {},
     "output_type": "execute_result"
    },
    {
     "data": {
      "text/plain": [
       "count = \t\n",
       "148\t\n"
      ]
     },
     "execution_count": 71,
     "metadata": {},
     "output_type": "execute_result"
    },
    {
     "data": {
      "text/plain": [
       "no\t\n"
      ]
     },
     "execution_count": 71,
     "metadata": {},
     "output_type": "execute_result"
    },
    {
     "data": {
      "text/plain": [
       "count = \t\n",
       "149\t\n"
      ]
     },
     "execution_count": 71,
     "metadata": {},
     "output_type": "execute_result"
    },
    {
     "data": {
      "text/plain": [
       "count = \t\n",
       "150\t\n"
      ]
     },
     "execution_count": 71,
     "metadata": {},
     "output_type": "execute_result"
    },
    {
     "data": {
      "text/plain": [
       "count = \t\n",
       "151\t\n"
      ]
     },
     "execution_count": 71,
     "metadata": {},
     "output_type": "execute_result"
    },
    {
     "data": {
      "text/plain": [
       "count = \t\n"
      ]
     },
     "execution_count": 71,
     "metadata": {},
     "output_type": "execute_result"
    },
    {
     "data": {
      "text/plain": [
       "152\t\n"
      ]
     },
     "execution_count": 71,
     "metadata": {},
     "output_type": "execute_result"
    },
    {
     "data": {
      "text/plain": [
       "count = \t\n",
       "153\t\n"
      ]
     },
     "execution_count": 71,
     "metadata": {},
     "output_type": "execute_result"
    },
    {
     "data": {
      "text/plain": [
       "count = \t\n",
       "154\t\n"
      ]
     },
     "execution_count": 71,
     "metadata": {},
     "output_type": "execute_result"
    },
    {
     "data": {
      "text/plain": [
       "count = \t\n",
       "155\t\n"
      ]
     },
     "execution_count": 71,
     "metadata": {},
     "output_type": "execute_result"
    },
    {
     "data": {
      "text/plain": [
       "count = \t\n",
       "156\t\n"
      ]
     },
     "execution_count": 71,
     "metadata": {},
     "output_type": "execute_result"
    },
    {
     "data": {
      "text/plain": [
       "count = \t\n",
       "157\t\n"
      ]
     },
     "execution_count": 71,
     "metadata": {},
     "output_type": "execute_result"
    },
    {
     "data": {
      "text/plain": [
       "no\t\n"
      ]
     },
     "execution_count": 71,
     "metadata": {},
     "output_type": "execute_result"
    },
    {
     "data": {
      "text/plain": [
       "count = \t\n",
       "158\t\n"
      ]
     },
     "execution_count": 71,
     "metadata": {},
     "output_type": "execute_result"
    },
    {
     "data": {
      "text/plain": [
       "count = \t\n",
       "159\t\n"
      ]
     },
     "execution_count": 71,
     "metadata": {},
     "output_type": "execute_result"
    },
    {
     "data": {
      "text/plain": [
       "count = \t\n",
       "160\t\n"
      ]
     },
     "execution_count": 71,
     "metadata": {},
     "output_type": "execute_result"
    },
    {
     "data": {
      "text/plain": [
       "count = \t\n",
       "161\t\n"
      ]
     },
     "execution_count": 71,
     "metadata": {},
     "output_type": "execute_result"
    },
    {
     "data": {
      "text/plain": [
       "count = \t\n",
       "162\t\n"
      ]
     },
     "execution_count": 71,
     "metadata": {},
     "output_type": "execute_result"
    },
    {
     "data": {
      "text/plain": [
       "count = \t\n",
       "163\t\n"
      ]
     },
     "execution_count": 71,
     "metadata": {},
     "output_type": "execute_result"
    },
    {
     "data": {
      "text/plain": [
       "count = \t\n",
       "164\t\n"
      ]
     },
     "execution_count": 71,
     "metadata": {},
     "output_type": "execute_result"
    },
    {
     "data": {
      "text/plain": [
       "count = \t\n",
       "165\t\n"
      ]
     },
     "execution_count": 71,
     "metadata": {},
     "output_type": "execute_result"
    },
    {
     "data": {
      "text/plain": [
       "count = \t\n",
       "166\t\n"
      ]
     },
     "execution_count": 71,
     "metadata": {},
     "output_type": "execute_result"
    },
    {
     "data": {
      "text/plain": [
       "count = \t\n",
       "167\t\n"
      ]
     },
     "execution_count": 71,
     "metadata": {},
     "output_type": "execute_result"
    },
    {
     "data": {
      "text/plain": [
       "count = \t\n",
       "168\t\n"
      ]
     },
     "execution_count": 71,
     "metadata": {},
     "output_type": "execute_result"
    },
    {
     "data": {
      "text/plain": [
       "count = \t\n",
       "169\t\n"
      ]
     },
     "execution_count": 71,
     "metadata": {},
     "output_type": "execute_result"
    },
    {
     "data": {
      "text/plain": [
       "count = \t\n",
       "170\t\n"
      ]
     },
     "execution_count": 71,
     "metadata": {},
     "output_type": "execute_result"
    },
    {
     "data": {
      "text/plain": [
       "count = \t\n",
       "171\t\n"
      ]
     },
     "execution_count": 71,
     "metadata": {},
     "output_type": "execute_result"
    },
    {
     "data": {
      "text/plain": [
       "count = \t\n",
       "172\t\n"
      ]
     },
     "execution_count": 71,
     "metadata": {},
     "output_type": "execute_result"
    },
    {
     "data": {
      "text/plain": [
       "count = \t\n",
       "173\t\n"
      ]
     },
     "execution_count": 71,
     "metadata": {},
     "output_type": "execute_result"
    },
    {
     "data": {
      "text/plain": [
       "count = \t\n",
       "174\t\n"
      ]
     },
     "execution_count": 71,
     "metadata": {},
     "output_type": "execute_result"
    },
    {
     "data": {
      "text/plain": [
       "count = \t\n",
       "175\t"
      ]
     },
     "execution_count": 71,
     "metadata": {},
     "output_type": "execute_result"
    },
    {
     "data": {
      "text/plain": [
       "\n"
      ]
     },
     "execution_count": 71,
     "metadata": {},
     "output_type": "execute_result"
    },
    {
     "data": {
      "text/plain": [
       "count = \t\n",
       "176\t\n"
      ]
     },
     "execution_count": 71,
     "metadata": {},
     "output_type": "execute_result"
    },
    {
     "data": {
      "text/plain": [
       "count = \t\n",
       "177\t\n"
      ]
     },
     "execution_count": 71,
     "metadata": {},
     "output_type": "execute_result"
    },
    {
     "data": {
      "text/plain": [
       "count = \t\n",
       "178\t\n"
      ]
     },
     "execution_count": 71,
     "metadata": {},
     "output_type": "execute_result"
    },
    {
     "data": {
      "text/plain": [
       "count = \t\n",
       "179\t\n"
      ]
     },
     "execution_count": 71,
     "metadata": {},
     "output_type": "execute_result"
    },
    {
     "data": {
      "text/plain": [
       "count = \t\n",
       "180\t\n"
      ]
     },
     "execution_count": 71,
     "metadata": {},
     "output_type": "execute_result"
    },
    {
     "data": {
      "text/plain": [
       "count = \t\n",
       "181\t\n"
      ]
     },
     "execution_count": 71,
     "metadata": {},
     "output_type": "execute_result"
    },
    {
     "data": {
      "text/plain": [
       "count = \t\n",
       "182\t\n"
      ]
     },
     "execution_count": 71,
     "metadata": {},
     "output_type": "execute_result"
    },
    {
     "data": {
      "text/plain": [
       "count = \t\n",
       "183\t\n"
      ]
     },
     "execution_count": 71,
     "metadata": {},
     "output_type": "execute_result"
    },
    {
     "data": {
      "text/plain": [
       "count = \t\n",
       "184\t\n"
      ]
     },
     "execution_count": 71,
     "metadata": {},
     "output_type": "execute_result"
    },
    {
     "data": {
      "text/plain": [
       "count = \t\n",
       "185\t\n"
      ]
     },
     "execution_count": 71,
     "metadata": {},
     "output_type": "execute_result"
    },
    {
     "data": {
      "text/plain": [
       "count = \t\n",
       "186\t\n",
       "no\t\n"
      ]
     },
     "execution_count": 71,
     "metadata": {},
     "output_type": "execute_result"
    },
    {
     "data": {
      "text/plain": [
       "count = \t\n",
       "187\t\n"
      ]
     },
     "execution_count": 71,
     "metadata": {},
     "output_type": "execute_result"
    },
    {
     "data": {
      "text/plain": [
       "count = \t"
      ]
     },
     "execution_count": 71,
     "metadata": {},
     "output_type": "execute_result"
    },
    {
     "data": {
      "text/plain": [
       "\n",
       "188\t\n"
      ]
     },
     "execution_count": 71,
     "metadata": {},
     "output_type": "execute_result"
    },
    {
     "data": {
      "text/plain": [
       "count = \t\n",
       "189\t\n"
      ]
     },
     "execution_count": 71,
     "metadata": {},
     "output_type": "execute_result"
    },
    {
     "data": {
      "text/plain": [
       "count = \t\n",
       "190\t\n"
      ]
     },
     "execution_count": 71,
     "metadata": {},
     "output_type": "execute_result"
    },
    {
     "data": {
      "text/plain": [
       "count = \t\n",
       "191\t\n"
      ]
     },
     "execution_count": 71,
     "metadata": {},
     "output_type": "execute_result"
    },
    {
     "data": {
      "text/plain": [
       "count = \t\n",
       "192\t\n"
      ]
     },
     "execution_count": 71,
     "metadata": {},
     "output_type": "execute_result"
    },
    {
     "data": {
      "text/plain": [
       "count = \t\n",
       "193\t\n"
      ]
     },
     "execution_count": 71,
     "metadata": {},
     "output_type": "execute_result"
    },
    {
     "data": {
      "text/plain": [
       "count = \t\n",
       "194\t\n"
      ]
     },
     "execution_count": 71,
     "metadata": {},
     "output_type": "execute_result"
    },
    {
     "data": {
      "text/plain": [
       "count = \t\n"
      ]
     },
     "execution_count": 71,
     "metadata": {},
     "output_type": "execute_result"
    },
    {
     "data": {
      "text/plain": [
       "195\t\n"
      ]
     },
     "execution_count": 71,
     "metadata": {},
     "output_type": "execute_result"
    },
    {
     "data": {
      "text/plain": [
       "count = \t\n",
       "196\t\n"
      ]
     },
     "execution_count": 71,
     "metadata": {},
     "output_type": "execute_result"
    },
    {
     "data": {
      "text/plain": [
       "count = \t\n",
       "197\t\n"
      ]
     },
     "execution_count": 71,
     "metadata": {},
     "output_type": "execute_result"
    },
    {
     "data": {
      "text/plain": [
       "count = \t\n",
       "198\t\n"
      ]
     },
     "execution_count": 71,
     "metadata": {},
     "output_type": "execute_result"
    },
    {
     "data": {
      "text/plain": [
       "count = \t\n"
      ]
     },
     "execution_count": 71,
     "metadata": {},
     "output_type": "execute_result"
    },
    {
     "data": {
      "text/plain": [
       "199\t\n"
      ]
     },
     "execution_count": 71,
     "metadata": {},
     "output_type": "execute_result"
    },
    {
     "data": {
      "text/plain": [
       "count = \t\n",
       "200\t\n"
      ]
     },
     "execution_count": 71,
     "metadata": {},
     "output_type": "execute_result"
    },
    {
     "data": {
      "text/plain": [
       "count = \t\n",
       "201\t\n"
      ]
     },
     "execution_count": 71,
     "metadata": {},
     "output_type": "execute_result"
    },
    {
     "data": {
      "text/plain": [
       "count = \t\n",
       "202\t\n"
      ]
     },
     "execution_count": 71,
     "metadata": {},
     "output_type": "execute_result"
    },
    {
     "data": {
      "text/plain": [
       "count = \t\n",
       "203\t\n"
      ]
     },
     "execution_count": 71,
     "metadata": {},
     "output_type": "execute_result"
    },
    {
     "data": {
      "text/plain": [
       "count = \t\n",
       "204\t\n"
      ]
     },
     "execution_count": 71,
     "metadata": {},
     "output_type": "execute_result"
    },
    {
     "data": {
      "text/plain": [
       "count = \t\n",
       "205\t\n"
      ]
     },
     "execution_count": 71,
     "metadata": {},
     "output_type": "execute_result"
    },
    {
     "data": {
      "text/plain": [
       "count = \t\n",
       "206\t\n"
      ]
     },
     "execution_count": 71,
     "metadata": {},
     "output_type": "execute_result"
    },
    {
     "data": {
      "text/plain": [
       "count = \t\n",
       "207\t\n"
      ]
     },
     "execution_count": 71,
     "metadata": {},
     "output_type": "execute_result"
    },
    {
     "data": {
      "text/plain": [
       "count = \t\n",
       "208\t\n"
      ]
     },
     "execution_count": 71,
     "metadata": {},
     "output_type": "execute_result"
    },
    {
     "data": {
      "text/plain": [
       "count = \t\n",
       "209\t\n"
      ]
     },
     "execution_count": 71,
     "metadata": {},
     "output_type": "execute_result"
    },
    {
     "data": {
      "text/plain": [
       "count = \t\n",
       "210\t\n"
      ]
     },
     "execution_count": 71,
     "metadata": {},
     "output_type": "execute_result"
    },
    {
     "data": {
      "text/plain": [
       "no\t\n"
      ]
     },
     "execution_count": 71,
     "metadata": {},
     "output_type": "execute_result"
    },
    {
     "data": {
      "text/plain": [
       "count = \t\n",
       "211\t\n"
      ]
     },
     "execution_count": 71,
     "metadata": {},
     "output_type": "execute_result"
    },
    {
     "data": {
      "text/plain": [
       "count = \t\n",
       "212\t\n"
      ]
     },
     "execution_count": 71,
     "metadata": {},
     "output_type": "execute_result"
    },
    {
     "data": {
      "text/plain": [
       "count = \t\n",
       "213\t\n"
      ]
     },
     "execution_count": 71,
     "metadata": {},
     "output_type": "execute_result"
    },
    {
     "data": {
      "text/plain": [
       "count = \t\n",
       "214\t\n"
      ]
     },
     "execution_count": 71,
     "metadata": {},
     "output_type": "execute_result"
    },
    {
     "data": {
      "text/plain": [
       "count = \t\n",
       "215\t\n"
      ]
     },
     "execution_count": 71,
     "metadata": {},
     "output_type": "execute_result"
    },
    {
     "data": {
      "text/plain": [
       "count = \t"
      ]
     },
     "execution_count": 71,
     "metadata": {},
     "output_type": "execute_result"
    },
    {
     "data": {
      "text/plain": [
       "\n",
       "216\t\n"
      ]
     },
     "execution_count": 71,
     "metadata": {},
     "output_type": "execute_result"
    },
    {
     "data": {
      "text/plain": [
       "count = \t\n",
       "217\t\n"
      ]
     },
     "execution_count": 71,
     "metadata": {},
     "output_type": "execute_result"
    },
    {
     "data": {
      "text/plain": [
       "count = \t\n",
       "218\t\n"
      ]
     },
     "execution_count": 71,
     "metadata": {},
     "output_type": "execute_result"
    },
    {
     "data": {
      "text/plain": [
       "count = \t"
      ]
     },
     "execution_count": 71,
     "metadata": {},
     "output_type": "execute_result"
    },
    {
     "data": {
      "text/plain": [
       "\n",
       "219\t\n"
      ]
     },
     "execution_count": 71,
     "metadata": {},
     "output_type": "execute_result"
    },
    {
     "data": {
      "text/plain": [
       "count = \t\n",
       "220\t\n"
      ]
     },
     "execution_count": 71,
     "metadata": {},
     "output_type": "execute_result"
    },
    {
     "data": {
      "text/plain": [
       "count = \t\n",
       "221\t\n"
      ]
     },
     "execution_count": 71,
     "metadata": {},
     "output_type": "execute_result"
    },
    {
     "data": {
      "text/plain": [
       "count = \t\n",
       "222\t\n"
      ]
     },
     "execution_count": 71,
     "metadata": {},
     "output_type": "execute_result"
    },
    {
     "data": {
      "text/plain": [
       "count = \t\n",
       "223\t\n"
      ]
     },
     "execution_count": 71,
     "metadata": {},
     "output_type": "execute_result"
    },
    {
     "data": {
      "text/plain": [
       "count = \t\n",
       "224\t\n"
      ]
     },
     "execution_count": 71,
     "metadata": {},
     "output_type": "execute_result"
    },
    {
     "data": {
      "text/plain": [
       "count = \t\n",
       "225\t\n"
      ]
     },
     "execution_count": 71,
     "metadata": {},
     "output_type": "execute_result"
    },
    {
     "data": {
      "text/plain": [
       "count = \t\n",
       "226\t\n"
      ]
     },
     "execution_count": 71,
     "metadata": {},
     "output_type": "execute_result"
    },
    {
     "data": {
      "text/plain": [
       "count = \t\n",
       "227\t\n"
      ]
     },
     "execution_count": 71,
     "metadata": {},
     "output_type": "execute_result"
    },
    {
     "data": {
      "text/plain": [
       "count = \t\n",
       "228\t\n"
      ]
     },
     "execution_count": 71,
     "metadata": {},
     "output_type": "execute_result"
    },
    {
     "data": {
      "text/plain": [
       "count = \t\n",
       "229\t\n"
      ]
     },
     "execution_count": 71,
     "metadata": {},
     "output_type": "execute_result"
    },
    {
     "data": {
      "text/plain": [
       "count = \t\n",
       "230\t\n"
      ]
     },
     "execution_count": 71,
     "metadata": {},
     "output_type": "execute_result"
    },
    {
     "data": {
      "text/plain": [
       "count = \t\n",
       "231\t\n"
      ]
     },
     "execution_count": 71,
     "metadata": {},
     "output_type": "execute_result"
    },
    {
     "data": {
      "text/plain": [
       "count = \t\n",
       "232\t\n"
      ]
     },
     "execution_count": 71,
     "metadata": {},
     "output_type": "execute_result"
    },
    {
     "data": {
      "text/plain": [
       "count = \t\n",
       "233\t\n"
      ]
     },
     "execution_count": 71,
     "metadata": {},
     "output_type": "execute_result"
    },
    {
     "data": {
      "text/plain": [
       "count = \t\n",
       "234\t\n"
      ]
     },
     "execution_count": 71,
     "metadata": {},
     "output_type": "execute_result"
    },
    {
     "data": {
      "text/plain": [
       "count = \t\n",
       "235\t\n"
      ]
     },
     "execution_count": 71,
     "metadata": {},
     "output_type": "execute_result"
    },
    {
     "data": {
      "text/plain": [
       "count = \t\n",
       "236\t\n"
      ]
     },
     "execution_count": 71,
     "metadata": {},
     "output_type": "execute_result"
    },
    {
     "data": {
      "text/plain": [
       "count = \t\n",
       "237\t\n"
      ]
     },
     "execution_count": 71,
     "metadata": {},
     "output_type": "execute_result"
    },
    {
     "data": {
      "text/plain": [
       "count = \t\n",
       "238\t\n"
      ]
     },
     "execution_count": 71,
     "metadata": {},
     "output_type": "execute_result"
    },
    {
     "data": {
      "text/plain": [
       "count = \t\n",
       "239\t\n"
      ]
     },
     "execution_count": 71,
     "metadata": {},
     "output_type": "execute_result"
    },
    {
     "data": {
      "text/plain": [
       "count = \t\n",
       "240\t\n"
      ]
     },
     "execution_count": 71,
     "metadata": {},
     "output_type": "execute_result"
    },
    {
     "data": {
      "text/plain": [
       "count = \t\n",
       "241\t\n"
      ]
     },
     "execution_count": 71,
     "metadata": {},
     "output_type": "execute_result"
    },
    {
     "data": {
      "text/plain": [
       "count = \t\n",
       "242\t\n"
      ]
     },
     "execution_count": 71,
     "metadata": {},
     "output_type": "execute_result"
    },
    {
     "data": {
      "text/plain": [
       "count = \t\n",
       "243\t\n"
      ]
     },
     "execution_count": 71,
     "metadata": {},
     "output_type": "execute_result"
    },
    {
     "data": {
      "text/plain": [
       "count = \t\n",
       "244\t\n"
      ]
     },
     "execution_count": 71,
     "metadata": {},
     "output_type": "execute_result"
    },
    {
     "data": {
      "text/plain": [
       "count = \t\n",
       "245\t\n"
      ]
     },
     "execution_count": 71,
     "metadata": {},
     "output_type": "execute_result"
    },
    {
     "data": {
      "text/plain": [
       "count = \t\n",
       "246\t\n"
      ]
     },
     "execution_count": 71,
     "metadata": {},
     "output_type": "execute_result"
    },
    {
     "data": {
      "text/plain": [
       "count = \t\n",
       "247\t\n"
      ]
     },
     "execution_count": 71,
     "metadata": {},
     "output_type": "execute_result"
    },
    {
     "data": {
      "text/plain": [
       "count = \t\n",
       "248\t\n"
      ]
     },
     "execution_count": 71,
     "metadata": {},
     "output_type": "execute_result"
    },
    {
     "data": {
      "text/plain": [
       "count = \t\n",
       "249\t\n"
      ]
     },
     "execution_count": 71,
     "metadata": {},
     "output_type": "execute_result"
    },
    {
     "data": {
      "text/plain": [
       "count = \t\n",
       "250\t\n"
      ]
     },
     "execution_count": 71,
     "metadata": {},
     "output_type": "execute_result"
    },
    {
     "data": {
      "text/plain": [
       "count = \t\n",
       "251\t\n"
      ]
     },
     "execution_count": 71,
     "metadata": {},
     "output_type": "execute_result"
    },
    {
     "data": {
      "text/plain": [
       "count = \t\n",
       "252\t\n"
      ]
     },
     "execution_count": 71,
     "metadata": {},
     "output_type": "execute_result"
    },
    {
     "data": {
      "text/plain": [
       "count = \t\n",
       "253\t\n"
      ]
     },
     "execution_count": 71,
     "metadata": {},
     "output_type": "execute_result"
    },
    {
     "data": {
      "text/plain": [
       "count = \t\n",
       "254\t\n"
      ]
     },
     "execution_count": 71,
     "metadata": {},
     "output_type": "execute_result"
    },
    {
     "data": {
      "text/plain": [
       "count = \t\n",
       "255\t\n"
      ]
     },
     "execution_count": 71,
     "metadata": {},
     "output_type": "execute_result"
    },
    {
     "data": {
      "text/plain": [
       "count = \t\n",
       "256\t\n"
      ]
     },
     "execution_count": 71,
     "metadata": {},
     "output_type": "execute_result"
    },
    {
     "data": {
      "text/plain": [
       "count = \t\n",
       "257\t\n"
      ]
     },
     "execution_count": 71,
     "metadata": {},
     "output_type": "execute_result"
    },
    {
     "data": {
      "text/plain": [
       "count = \t\n",
       "258\t\n"
      ]
     },
     "execution_count": 71,
     "metadata": {},
     "output_type": "execute_result"
    },
    {
     "data": {
      "text/plain": [
       "count = \t\n",
       "259\t\n"
      ]
     },
     "execution_count": 71,
     "metadata": {},
     "output_type": "execute_result"
    },
    {
     "data": {
      "text/plain": [
       "count = \t\n",
       "260\t\n"
      ]
     },
     "execution_count": 71,
     "metadata": {},
     "output_type": "execute_result"
    },
    {
     "data": {
      "text/plain": [
       "count = \t\n",
       "261\t\n"
      ]
     },
     "execution_count": 71,
     "metadata": {},
     "output_type": "execute_result"
    },
    {
     "data": {
      "text/plain": [
       "count = \t\n",
       "262\t\n"
      ]
     },
     "execution_count": 71,
     "metadata": {},
     "output_type": "execute_result"
    },
    {
     "data": {
      "text/plain": [
       "count = \t\n",
       "263\t\n"
      ]
     },
     "execution_count": 71,
     "metadata": {},
     "output_type": "execute_result"
    },
    {
     "data": {
      "text/plain": [
       "count = \t\n",
       "264\t\n"
      ]
     },
     "execution_count": 71,
     "metadata": {},
     "output_type": "execute_result"
    },
    {
     "data": {
      "text/plain": [
       "count = \t\n",
       "265\t\n"
      ]
     },
     "execution_count": 71,
     "metadata": {},
     "output_type": "execute_result"
    },
    {
     "data": {
      "text/plain": [
       "count = \t\n",
       "266\t\n"
      ]
     },
     "execution_count": 71,
     "metadata": {},
     "output_type": "execute_result"
    },
    {
     "data": {
      "text/plain": [
       "count = \t\n",
       "267\t\n"
      ]
     },
     "execution_count": 71,
     "metadata": {},
     "output_type": "execute_result"
    },
    {
     "data": {
      "text/plain": [
       "count = \t\n",
       "268\t\n"
      ]
     },
     "execution_count": 71,
     "metadata": {},
     "output_type": "execute_result"
    },
    {
     "data": {
      "text/plain": [
       "count = \t\n",
       "269\t\n"
      ]
     },
     "execution_count": 71,
     "metadata": {},
     "output_type": "execute_result"
    },
    {
     "data": {
      "text/plain": [
       "count = \t\n",
       "270\t\n"
      ]
     },
     "execution_count": 71,
     "metadata": {},
     "output_type": "execute_result"
    },
    {
     "data": {
      "text/plain": [
       "count = \t\n",
       "271\t\n"
      ]
     },
     "execution_count": 71,
     "metadata": {},
     "output_type": "execute_result"
    },
    {
     "data": {
      "text/plain": [
       "count = \t\n",
       "272\t\n"
      ]
     },
     "execution_count": 71,
     "metadata": {},
     "output_type": "execute_result"
    },
    {
     "data": {
      "text/plain": [
       "count = \t\n",
       "273\t\n"
      ]
     },
     "execution_count": 71,
     "metadata": {},
     "output_type": "execute_result"
    },
    {
     "data": {
      "text/plain": [
       "count = \t\n",
       "274\t\n"
      ]
     },
     "execution_count": 71,
     "metadata": {},
     "output_type": "execute_result"
    },
    {
     "data": {
      "text/plain": [
       "count = \t\n",
       "275\t\n"
      ]
     },
     "execution_count": 71,
     "metadata": {},
     "output_type": "execute_result"
    },
    {
     "data": {
      "text/plain": [
       "count = \t\n",
       "276\t\n"
      ]
     },
     "execution_count": 71,
     "metadata": {},
     "output_type": "execute_result"
    },
    {
     "data": {
      "text/plain": [
       "count = \t\n",
       "277\t\n"
      ]
     },
     "execution_count": 71,
     "metadata": {},
     "output_type": "execute_result"
    },
    {
     "data": {
      "text/plain": [
       "count = \t\n",
       "278\t\n"
      ]
     },
     "execution_count": 71,
     "metadata": {},
     "output_type": "execute_result"
    },
    {
     "data": {
      "text/plain": [
       "count = \t\n",
       "279\t\n"
      ]
     },
     "execution_count": 71,
     "metadata": {},
     "output_type": "execute_result"
    },
    {
     "data": {
      "text/plain": [
       "count = \t\n",
       "280\t\n"
      ]
     },
     "execution_count": 71,
     "metadata": {},
     "output_type": "execute_result"
    },
    {
     "data": {
      "text/plain": [
       "count = \t\n",
       "281\t\n"
      ]
     },
     "execution_count": 71,
     "metadata": {},
     "output_type": "execute_result"
    },
    {
     "data": {
      "text/plain": [
       "count = \t\n",
       "282\t\n"
      ]
     },
     "execution_count": 71,
     "metadata": {},
     "output_type": "execute_result"
    },
    {
     "data": {
      "text/plain": [
       "no\t\n"
      ]
     },
     "execution_count": 71,
     "metadata": {},
     "output_type": "execute_result"
    },
    {
     "data": {
      "text/plain": [
       "count = \t\n",
       "283\t\n"
      ]
     },
     "execution_count": 71,
     "metadata": {},
     "output_type": "execute_result"
    },
    {
     "data": {
      "text/plain": [
       "count = \t\n",
       "284\t\n"
      ]
     },
     "execution_count": 71,
     "metadata": {},
     "output_type": "execute_result"
    },
    {
     "data": {
      "text/plain": [
       "count = \t\n",
       "285\t\n"
      ]
     },
     "execution_count": 71,
     "metadata": {},
     "output_type": "execute_result"
    },
    {
     "data": {
      "text/plain": [
       "count = \t\n",
       "286\t\n"
      ]
     },
     "execution_count": 71,
     "metadata": {},
     "output_type": "execute_result"
    },
    {
     "data": {
      "text/plain": [
       "count = \t\n",
       "287\t\n"
      ]
     },
     "execution_count": 71,
     "metadata": {},
     "output_type": "execute_result"
    },
    {
     "data": {
      "text/plain": [
       "count = \t\n",
       "288\t\n"
      ]
     },
     "execution_count": 71,
     "metadata": {},
     "output_type": "execute_result"
    },
    {
     "data": {
      "text/plain": [
       "count = \t\n",
       "289\t\n"
      ]
     },
     "execution_count": 71,
     "metadata": {},
     "output_type": "execute_result"
    },
    {
     "data": {
      "text/plain": [
       "count = \t\n",
       "290\t\n"
      ]
     },
     "execution_count": 71,
     "metadata": {},
     "output_type": "execute_result"
    },
    {
     "data": {
      "text/plain": [
       "count = \t\n",
       "291\t\n"
      ]
     },
     "execution_count": 71,
     "metadata": {},
     "output_type": "execute_result"
    },
    {
     "data": {
      "text/plain": [
       "count = \t\n",
       "292\t\n"
      ]
     },
     "execution_count": 71,
     "metadata": {},
     "output_type": "execute_result"
    },
    {
     "data": {
      "text/plain": [
       "count = \t\n",
       "293\t\n"
      ]
     },
     "execution_count": 71,
     "metadata": {},
     "output_type": "execute_result"
    },
    {
     "data": {
      "text/plain": [
       "count = \t\n",
       "294\t\n"
      ]
     },
     "execution_count": 71,
     "metadata": {},
     "output_type": "execute_result"
    },
    {
     "data": {
      "text/plain": [
       "count = \t\n",
       "295\t\n"
      ]
     },
     "execution_count": 71,
     "metadata": {},
     "output_type": "execute_result"
    },
    {
     "data": {
      "text/plain": [
       "count = \t\n",
       "296\t\n"
      ]
     },
     "execution_count": 71,
     "metadata": {},
     "output_type": "execute_result"
    },
    {
     "data": {
      "text/plain": [
       "count = \t\n",
       "297\t\n"
      ]
     },
     "execution_count": 71,
     "metadata": {},
     "output_type": "execute_result"
    },
    {
     "data": {
      "text/plain": [
       "count = \t\n",
       "298\t\n"
      ]
     },
     "execution_count": 71,
     "metadata": {},
     "output_type": "execute_result"
    },
    {
     "data": {
      "text/plain": [
       "count = \t\n",
       "299\t\n"
      ]
     },
     "execution_count": 71,
     "metadata": {},
     "output_type": "execute_result"
    },
    {
     "data": {
      "text/plain": [
       "count = \t\n",
       "300\t\n"
      ]
     },
     "execution_count": 71,
     "metadata": {},
     "output_type": "execute_result"
    },
    {
     "data": {
      "text/plain": [
       "count = \t\n",
       "301\t\n"
      ]
     },
     "execution_count": 71,
     "metadata": {},
     "output_type": "execute_result"
    },
    {
     "data": {
      "text/plain": [
       "count = \t\n",
       "302\t\n"
      ]
     },
     "execution_count": 71,
     "metadata": {},
     "output_type": "execute_result"
    },
    {
     "data": {
      "text/plain": [
       "count = \t\n",
       "303\t\n"
      ]
     },
     "execution_count": 71,
     "metadata": {},
     "output_type": "execute_result"
    },
    {
     "data": {
      "text/plain": [
       "count = \t\n",
       "304\t\n"
      ]
     },
     "execution_count": 71,
     "metadata": {},
     "output_type": "execute_result"
    },
    {
     "data": {
      "text/plain": [
       "count = \t\n",
       "305\t\n"
      ]
     },
     "execution_count": 71,
     "metadata": {},
     "output_type": "execute_result"
    },
    {
     "data": {
      "text/plain": [
       "count = \t\n",
       "306\t\n"
      ]
     },
     "execution_count": 71,
     "metadata": {},
     "output_type": "execute_result"
    },
    {
     "data": {
      "text/plain": [
       "count = \t\n",
       "307\t\n"
      ]
     },
     "execution_count": 71,
     "metadata": {},
     "output_type": "execute_result"
    },
    {
     "data": {
      "text/plain": [
       "count = \t\n",
       "308\t\n"
      ]
     },
     "execution_count": 71,
     "metadata": {},
     "output_type": "execute_result"
    },
    {
     "data": {
      "text/plain": [
       "count = \t\n",
       "309\t\n"
      ]
     },
     "execution_count": 71,
     "metadata": {},
     "output_type": "execute_result"
    },
    {
     "data": {
      "text/plain": [
       "count = \t\n",
       "310\t\n"
      ]
     },
     "execution_count": 71,
     "metadata": {},
     "output_type": "execute_result"
    },
    {
     "data": {
      "text/plain": [
       "count = \t\n",
       "311\t\n"
      ]
     },
     "execution_count": 71,
     "metadata": {},
     "output_type": "execute_result"
    },
    {
     "data": {
      "text/plain": [
       "count = \t\n",
       "312\t\n"
      ]
     },
     "execution_count": 71,
     "metadata": {},
     "output_type": "execute_result"
    },
    {
     "data": {
      "text/plain": [
       "count = \t\n",
       "313\t\n"
      ]
     },
     "execution_count": 71,
     "metadata": {},
     "output_type": "execute_result"
    },
    {
     "data": {
      "text/plain": [
       "count = \t\n",
       "314\t\n"
      ]
     },
     "execution_count": 71,
     "metadata": {},
     "output_type": "execute_result"
    },
    {
     "data": {
      "text/plain": [
       "count = \t\n",
       "315\t\n"
      ]
     },
     "execution_count": 71,
     "metadata": {},
     "output_type": "execute_result"
    },
    {
     "data": {
      "text/plain": [
       "count = \t\n",
       "316\t\n"
      ]
     },
     "execution_count": 71,
     "metadata": {},
     "output_type": "execute_result"
    },
    {
     "data": {
      "text/plain": [
       "count = \t\n",
       "317\t\n"
      ]
     },
     "execution_count": 71,
     "metadata": {},
     "output_type": "execute_result"
    },
    {
     "data": {
      "text/plain": [
       "count = \t\n",
       "318\t\n"
      ]
     },
     "execution_count": 71,
     "metadata": {},
     "output_type": "execute_result"
    },
    {
     "data": {
      "text/plain": [
       "count = \t\n",
       "319\t\n"
      ]
     },
     "execution_count": 71,
     "metadata": {},
     "output_type": "execute_result"
    },
    {
     "data": {
      "text/plain": [
       "count = \t\n",
       "320\t\n"
      ]
     },
     "execution_count": 71,
     "metadata": {},
     "output_type": "execute_result"
    },
    {
     "data": {
      "text/plain": [
       "count = \t\n",
       "321\t\n"
      ]
     },
     "execution_count": 71,
     "metadata": {},
     "output_type": "execute_result"
    },
    {
     "data": {
      "text/plain": [
       "count = \t\n",
       "322\t\n"
      ]
     },
     "execution_count": 71,
     "metadata": {},
     "output_type": "execute_result"
    },
    {
     "data": {
      "text/plain": [
       "count = \t\n",
       "323\t\n"
      ]
     },
     "execution_count": 71,
     "metadata": {},
     "output_type": "execute_result"
    },
    {
     "data": {
      "text/plain": [
       "count = \t\n",
       "324\t\n"
      ]
     },
     "execution_count": 71,
     "metadata": {},
     "output_type": "execute_result"
    },
    {
     "data": {
      "text/plain": [
       "count = \t\n",
       "325\t\n"
      ]
     },
     "execution_count": 71,
     "metadata": {},
     "output_type": "execute_result"
    },
    {
     "data": {
      "text/plain": [
       "count = \t\n",
       "326\t\n"
      ]
     },
     "execution_count": 71,
     "metadata": {},
     "output_type": "execute_result"
    },
    {
     "data": {
      "text/plain": [
       "count = \t\n",
       "327\t\n"
      ]
     },
     "execution_count": 71,
     "metadata": {},
     "output_type": "execute_result"
    },
    {
     "data": {
      "text/plain": [
       "count = \t\n",
       "328\t\n"
      ]
     },
     "execution_count": 71,
     "metadata": {},
     "output_type": "execute_result"
    },
    {
     "data": {
      "text/plain": [
       "count = \t\n",
       "329\t\n"
      ]
     },
     "execution_count": 71,
     "metadata": {},
     "output_type": "execute_result"
    },
    {
     "data": {
      "text/plain": [
       "count = \t\n",
       "330\t\n"
      ]
     },
     "execution_count": 71,
     "metadata": {},
     "output_type": "execute_result"
    },
    {
     "data": {
      "text/plain": [
       "count = \t\n",
       "331\t\n"
      ]
     },
     "execution_count": 71,
     "metadata": {},
     "output_type": "execute_result"
    },
    {
     "data": {
      "text/plain": [
       "count = \t\n",
       "332\t\n"
      ]
     },
     "execution_count": 71,
     "metadata": {},
     "output_type": "execute_result"
    },
    {
     "data": {
      "text/plain": [
       "count = \t\n",
       "333\t\n"
      ]
     },
     "execution_count": 71,
     "metadata": {},
     "output_type": "execute_result"
    },
    {
     "data": {
      "text/plain": [
       "count = \t\n",
       "334\t\n"
      ]
     },
     "execution_count": 71,
     "metadata": {},
     "output_type": "execute_result"
    },
    {
     "data": {
      "text/plain": [
       "count = \t\n",
       "335\t\n"
      ]
     },
     "execution_count": 71,
     "metadata": {},
     "output_type": "execute_result"
    },
    {
     "data": {
      "text/plain": [
       "count = \t\n",
       "336\t\n"
      ]
     },
     "execution_count": 71,
     "metadata": {},
     "output_type": "execute_result"
    },
    {
     "data": {
      "text/plain": [
       "count = \t\n",
       "337\t\n"
      ]
     },
     "execution_count": 71,
     "metadata": {},
     "output_type": "execute_result"
    },
    {
     "data": {
      "text/plain": [
       "count = \t\n",
       "338\t\n"
      ]
     },
     "execution_count": 71,
     "metadata": {},
     "output_type": "execute_result"
    },
    {
     "data": {
      "text/plain": [
       "count = \t\n",
       "339\t\n"
      ]
     },
     "execution_count": 71,
     "metadata": {},
     "output_type": "execute_result"
    },
    {
     "data": {
      "text/plain": [
       "count = \t\n",
       "340\t\n"
      ]
     },
     "execution_count": 71,
     "metadata": {},
     "output_type": "execute_result"
    },
    {
     "data": {
      "text/plain": [
       "count = \t\n",
       "341\t\n"
      ]
     },
     "execution_count": 71,
     "metadata": {},
     "output_type": "execute_result"
    },
    {
     "data": {
      "text/plain": [
       "count = \t\n",
       "342\t\n"
      ]
     },
     "execution_count": 71,
     "metadata": {},
     "output_type": "execute_result"
    },
    {
     "data": {
      "text/plain": [
       "count = \t\n"
      ]
     },
     "execution_count": 71,
     "metadata": {},
     "output_type": "execute_result"
    },
    {
     "data": {
      "text/plain": [
       "343\t\n"
      ]
     },
     "execution_count": 71,
     "metadata": {},
     "output_type": "execute_result"
    },
    {
     "data": {
      "text/plain": [
       "count = \t\n",
       "344\t\n"
      ]
     },
     "execution_count": 71,
     "metadata": {},
     "output_type": "execute_result"
    },
    {
     "data": {
      "text/plain": [
       "count = \t\n",
       "345\t\n"
      ]
     },
     "execution_count": 71,
     "metadata": {},
     "output_type": "execute_result"
    },
    {
     "data": {
      "text/plain": [
       "count = \t\n",
       "346\t\n"
      ]
     },
     "execution_count": 71,
     "metadata": {},
     "output_type": "execute_result"
    },
    {
     "data": {
      "text/plain": [
       "count = \t\n",
       "347\t\n"
      ]
     },
     "execution_count": 71,
     "metadata": {},
     "output_type": "execute_result"
    },
    {
     "data": {
      "text/plain": [
       "count = \t\n",
       "348\t\n"
      ]
     },
     "execution_count": 71,
     "metadata": {},
     "output_type": "execute_result"
    },
    {
     "data": {
      "text/plain": [
       "no\t\n"
      ]
     },
     "execution_count": 71,
     "metadata": {},
     "output_type": "execute_result"
    },
    {
     "data": {
      "text/plain": [
       "count = \t\n",
       "349\t\n"
      ]
     },
     "execution_count": 71,
     "metadata": {},
     "output_type": "execute_result"
    },
    {
     "data": {
      "text/plain": [
       "count = \t\n",
       "350\t\n"
      ]
     },
     "execution_count": 71,
     "metadata": {},
     "output_type": "execute_result"
    },
    {
     "data": {
      "text/plain": [
       "count = \t\n",
       "351\t\n"
      ]
     },
     "execution_count": 71,
     "metadata": {},
     "output_type": "execute_result"
    },
    {
     "data": {
      "text/plain": [
       "count = \t\n",
       "352\t\n"
      ]
     },
     "execution_count": 71,
     "metadata": {},
     "output_type": "execute_result"
    },
    {
     "data": {
      "text/plain": [
       "count = \t\n",
       "353\t\n"
      ]
     },
     "execution_count": 71,
     "metadata": {},
     "output_type": "execute_result"
    },
    {
     "data": {
      "text/plain": [
       "count = \t\n",
       "354\t\n"
      ]
     },
     "execution_count": 71,
     "metadata": {},
     "output_type": "execute_result"
    },
    {
     "data": {
      "text/plain": [
       "count = \t\n",
       "355\t\n"
      ]
     },
     "execution_count": 71,
     "metadata": {},
     "output_type": "execute_result"
    },
    {
     "data": {
      "text/plain": [
       "count = \t\n",
       "356\t\n"
      ]
     },
     "execution_count": 71,
     "metadata": {},
     "output_type": "execute_result"
    },
    {
     "data": {
      "text/plain": [
       "count = \t\n",
       "357\t\n"
      ]
     },
     "execution_count": 71,
     "metadata": {},
     "output_type": "execute_result"
    },
    {
     "data": {
      "text/plain": [
       "count = \t\n",
       "358\t\n"
      ]
     },
     "execution_count": 71,
     "metadata": {},
     "output_type": "execute_result"
    },
    {
     "data": {
      "text/plain": [
       "count = \t\n",
       "359\t\n"
      ]
     },
     "execution_count": 71,
     "metadata": {},
     "output_type": "execute_result"
    },
    {
     "data": {
      "text/plain": [
       "count = \t\n",
       "360\t\n"
      ]
     },
     "execution_count": 71,
     "metadata": {},
     "output_type": "execute_result"
    },
    {
     "data": {
      "text/plain": [
       "count = \t\n",
       "361\t\n"
      ]
     },
     "execution_count": 71,
     "metadata": {},
     "output_type": "execute_result"
    },
    {
     "data": {
      "text/plain": [
       "count = \t\n"
      ]
     },
     "execution_count": 71,
     "metadata": {},
     "output_type": "execute_result"
    },
    {
     "data": {
      "text/plain": [
       "362\t\n"
      ]
     },
     "execution_count": 71,
     "metadata": {},
     "output_type": "execute_result"
    },
    {
     "data": {
      "text/plain": [
       "count = \t\n",
       "363\t\n"
      ]
     },
     "execution_count": 71,
     "metadata": {},
     "output_type": "execute_result"
    },
    {
     "data": {
      "text/plain": [
       "count = \t\n",
       "364\t\n"
      ]
     },
     "execution_count": 71,
     "metadata": {},
     "output_type": "execute_result"
    },
    {
     "data": {
      "text/plain": [
       "count = \t\n",
       "365\t\n"
      ]
     },
     "execution_count": 71,
     "metadata": {},
     "output_type": "execute_result"
    },
    {
     "data": {
      "text/plain": [
       "count = \t\n",
       "366\t\n"
      ]
     },
     "execution_count": 71,
     "metadata": {},
     "output_type": "execute_result"
    },
    {
     "data": {
      "text/plain": [
       "count = \t\n",
       "367\t\n"
      ]
     },
     "execution_count": 71,
     "metadata": {},
     "output_type": "execute_result"
    },
    {
     "data": {
      "text/plain": [
       "count = \t\n",
       "368\t\n"
      ]
     },
     "execution_count": 71,
     "metadata": {},
     "output_type": "execute_result"
    },
    {
     "data": {
      "text/plain": [
       "count = \t\n",
       "369\t\n"
      ]
     },
     "execution_count": 71,
     "metadata": {},
     "output_type": "execute_result"
    },
    {
     "data": {
      "text/plain": [
       "count = \t\n",
       "370\t\n"
      ]
     },
     "execution_count": 71,
     "metadata": {},
     "output_type": "execute_result"
    },
    {
     "data": {
      "text/plain": [
       "count = \t\n",
       "371\t\n"
      ]
     },
     "execution_count": 71,
     "metadata": {},
     "output_type": "execute_result"
    },
    {
     "data": {
      "text/plain": [
       "count = \t\n",
       "372\t\n"
      ]
     },
     "execution_count": 71,
     "metadata": {},
     "output_type": "execute_result"
    },
    {
     "data": {
      "text/plain": [
       "count = \t\n",
       "373\t\n"
      ]
     },
     "execution_count": 71,
     "metadata": {},
     "output_type": "execute_result"
    },
    {
     "data": {
      "text/plain": [
       "count = \t\n",
       "374\t\n"
      ]
     },
     "execution_count": 71,
     "metadata": {},
     "output_type": "execute_result"
    },
    {
     "data": {
      "text/plain": [
       "count = \t\n",
       "375\t\n"
      ]
     },
     "execution_count": 71,
     "metadata": {},
     "output_type": "execute_result"
    },
    {
     "data": {
      "text/plain": [
       "count = \t\n",
       "376\t\n"
      ]
     },
     "execution_count": 71,
     "metadata": {},
     "output_type": "execute_result"
    },
    {
     "data": {
      "text/plain": [
       "count = \t\n",
       "377\t\n"
      ]
     },
     "execution_count": 71,
     "metadata": {},
     "output_type": "execute_result"
    },
    {
     "data": {
      "text/plain": [
       "count = \t\n",
       "378\t\n"
      ]
     },
     "execution_count": 71,
     "metadata": {},
     "output_type": "execute_result"
    },
    {
     "data": {
      "text/plain": [
       "count = \t\n",
       "379\t\n"
      ]
     },
     "execution_count": 71,
     "metadata": {},
     "output_type": "execute_result"
    },
    {
     "data": {
      "text/plain": [
       "count = \t\n",
       "380\t\n"
      ]
     },
     "execution_count": 71,
     "metadata": {},
     "output_type": "execute_result"
    },
    {
     "data": {
      "text/plain": [
       "count = \t\n",
       "381\t\n"
      ]
     },
     "execution_count": 71,
     "metadata": {},
     "output_type": "execute_result"
    },
    {
     "data": {
      "text/plain": [
       "count = \t\n",
       "382\t\n"
      ]
     },
     "execution_count": 71,
     "metadata": {},
     "output_type": "execute_result"
    },
    {
     "data": {
      "text/plain": [
       "count = \t\n",
       "383\t\n"
      ]
     },
     "execution_count": 71,
     "metadata": {},
     "output_type": "execute_result"
    },
    {
     "data": {
      "text/plain": [
       "count = \t\n",
       "384\t\n"
      ]
     },
     "execution_count": 71,
     "metadata": {},
     "output_type": "execute_result"
    },
    {
     "data": {
      "text/plain": [
       "count = \t\n",
       "385\t\n"
      ]
     },
     "execution_count": 71,
     "metadata": {},
     "output_type": "execute_result"
    },
    {
     "data": {
      "text/plain": [
       "count = \t\n",
       "386\t\n"
      ]
     },
     "execution_count": 71,
     "metadata": {},
     "output_type": "execute_result"
    },
    {
     "data": {
      "text/plain": [
       "count = \t\n",
       "387\t\n"
      ]
     },
     "execution_count": 71,
     "metadata": {},
     "output_type": "execute_result"
    },
    {
     "data": {
      "text/plain": [
       "count = \t\n",
       "388\t\n"
      ]
     },
     "execution_count": 71,
     "metadata": {},
     "output_type": "execute_result"
    },
    {
     "data": {
      "text/plain": [
       "count = \t\n",
       "389\t\n"
      ]
     },
     "execution_count": 71,
     "metadata": {},
     "output_type": "execute_result"
    },
    {
     "data": {
      "text/plain": [
       "count = \t\n",
       "390\t\n"
      ]
     },
     "execution_count": 71,
     "metadata": {},
     "output_type": "execute_result"
    },
    {
     "data": {
      "text/plain": [
       "count = \t\n",
       "391\t\n"
      ]
     },
     "execution_count": 71,
     "metadata": {},
     "output_type": "execute_result"
    },
    {
     "data": {
      "text/plain": [
       "count = \t\n",
       "392\t\n"
      ]
     },
     "execution_count": 71,
     "metadata": {},
     "output_type": "execute_result"
    },
    {
     "data": {
      "text/plain": [
       "count = \t\n",
       "393\t\n"
      ]
     },
     "execution_count": 71,
     "metadata": {},
     "output_type": "execute_result"
    },
    {
     "data": {
      "text/plain": [
       "count = \t\n",
       "394\t\n"
      ]
     },
     "execution_count": 71,
     "metadata": {},
     "output_type": "execute_result"
    },
    {
     "data": {
      "text/plain": [
       "count = \t\n",
       "395\t\n"
      ]
     },
     "execution_count": 71,
     "metadata": {},
     "output_type": "execute_result"
    },
    {
     "data": {
      "text/plain": [
       "count = \t\n",
       "396\t\n"
      ]
     },
     "execution_count": 71,
     "metadata": {},
     "output_type": "execute_result"
    },
    {
     "data": {
      "text/plain": [
       "count = \t\n",
       "397\t\n"
      ]
     },
     "execution_count": 71,
     "metadata": {},
     "output_type": "execute_result"
    },
    {
     "data": {
      "text/plain": [
       "count = \t\n",
       "398\t\n"
      ]
     },
     "execution_count": 71,
     "metadata": {},
     "output_type": "execute_result"
    },
    {
     "data": {
      "text/plain": [
       "count = \t\n",
       "399\t\n"
      ]
     },
     "execution_count": 71,
     "metadata": {},
     "output_type": "execute_result"
    },
    {
     "data": {
      "text/plain": [
       "count = \t\n",
       "400\t\n"
      ]
     },
     "execution_count": 71,
     "metadata": {},
     "output_type": "execute_result"
    },
    {
     "data": {
      "text/plain": [
       "count = \t\n",
       "401\t\n"
      ]
     },
     "execution_count": 71,
     "metadata": {},
     "output_type": "execute_result"
    },
    {
     "data": {
      "text/plain": [
       "count = \t\n",
       "402\t\n"
      ]
     },
     "execution_count": 71,
     "metadata": {},
     "output_type": "execute_result"
    },
    {
     "data": {
      "text/plain": [
       "count = \t\n",
       "403\t\n"
      ]
     },
     "execution_count": 71,
     "metadata": {},
     "output_type": "execute_result"
    },
    {
     "data": {
      "text/plain": [
       "count = \t\n",
       "404\t\n"
      ]
     },
     "execution_count": 71,
     "metadata": {},
     "output_type": "execute_result"
    },
    {
     "data": {
      "text/plain": [
       "count = \t\n",
       "405\t\n"
      ]
     },
     "execution_count": 71,
     "metadata": {},
     "output_type": "execute_result"
    },
    {
     "data": {
      "text/plain": [
       "count = \t\n",
       "406\t\n"
      ]
     },
     "execution_count": 71,
     "metadata": {},
     "output_type": "execute_result"
    },
    {
     "data": {
      "text/plain": [
       "count = \t\n",
       "407\t\n"
      ]
     },
     "execution_count": 71,
     "metadata": {},
     "output_type": "execute_result"
    },
    {
     "data": {
      "text/plain": [
       "count = \t\n",
       "408\t\n"
      ]
     },
     "execution_count": 71,
     "metadata": {},
     "output_type": "execute_result"
    },
    {
     "data": {
      "text/plain": [
       "count = \t\n",
       "409\t\n"
      ]
     },
     "execution_count": 71,
     "metadata": {},
     "output_type": "execute_result"
    },
    {
     "data": {
      "text/plain": [
       "count = \t\n",
       "410\t\n"
      ]
     },
     "execution_count": 71,
     "metadata": {},
     "output_type": "execute_result"
    },
    {
     "data": {
      "text/plain": [
       "count = \t\n",
       "411\t\n"
      ]
     },
     "execution_count": 71,
     "metadata": {},
     "output_type": "execute_result"
    },
    {
     "data": {
      "text/plain": [
       "count = \t\n",
       "412\t\n"
      ]
     },
     "execution_count": 71,
     "metadata": {},
     "output_type": "execute_result"
    },
    {
     "data": {
      "text/plain": [
       "count = \t\n",
       "413\t\n"
      ]
     },
     "execution_count": 71,
     "metadata": {},
     "output_type": "execute_result"
    },
    {
     "data": {
      "text/plain": [
       "count = \t\n",
       "414\t\n"
      ]
     },
     "execution_count": 71,
     "metadata": {},
     "output_type": "execute_result"
    },
    {
     "data": {
      "text/plain": [
       "count = \t\n",
       "415\t\n"
      ]
     },
     "execution_count": 71,
     "metadata": {},
     "output_type": "execute_result"
    },
    {
     "data": {
      "text/plain": [
       "count = \t\n",
       "416\t\n"
      ]
     },
     "execution_count": 71,
     "metadata": {},
     "output_type": "execute_result"
    },
    {
     "data": {
      "text/plain": [
       "count = \t\n",
       "417\t\n"
      ]
     },
     "execution_count": 71,
     "metadata": {},
     "output_type": "execute_result"
    },
    {
     "data": {
      "text/plain": [
       "count = \t\n",
       "418\t\n"
      ]
     },
     "execution_count": 71,
     "metadata": {},
     "output_type": "execute_result"
    },
    {
     "data": {
      "text/plain": [
       "count = \t\n",
       "419\t\n"
      ]
     },
     "execution_count": 71,
     "metadata": {},
     "output_type": "execute_result"
    },
    {
     "data": {
      "text/plain": [
       "count = \t\n",
       "420\t\n"
      ]
     },
     "execution_count": 71,
     "metadata": {},
     "output_type": "execute_result"
    },
    {
     "data": {
      "text/plain": [
       "count = \t\n",
       "421\t\n"
      ]
     },
     "execution_count": 71,
     "metadata": {},
     "output_type": "execute_result"
    },
    {
     "data": {
      "text/plain": [
       "count = \t\n",
       "422\t\n"
      ]
     },
     "execution_count": 71,
     "metadata": {},
     "output_type": "execute_result"
    },
    {
     "data": {
      "text/plain": [
       "count = \t\n",
       "423\t\n"
      ]
     },
     "execution_count": 71,
     "metadata": {},
     "output_type": "execute_result"
    },
    {
     "data": {
      "text/plain": [
       "count = \t\n",
       "424\t\n"
      ]
     },
     "execution_count": 71,
     "metadata": {},
     "output_type": "execute_result"
    },
    {
     "data": {
      "text/plain": [
       "count = \t\n",
       "425\t\n"
      ]
     },
     "execution_count": 71,
     "metadata": {},
     "output_type": "execute_result"
    },
    {
     "data": {
      "text/plain": [
       "count = \t\n",
       "426\t\n"
      ]
     },
     "execution_count": 71,
     "metadata": {},
     "output_type": "execute_result"
    },
    {
     "data": {
      "text/plain": [
       "count = \t\n",
       "427\t\n"
      ]
     },
     "execution_count": 71,
     "metadata": {},
     "output_type": "execute_result"
    },
    {
     "data": {
      "text/plain": [
       "count = \t\n",
       "428\t\n"
      ]
     },
     "execution_count": 71,
     "metadata": {},
     "output_type": "execute_result"
    },
    {
     "data": {
      "text/plain": [
       "count = \t\n",
       "429\t\n"
      ]
     },
     "execution_count": 71,
     "metadata": {},
     "output_type": "execute_result"
    },
    {
     "data": {
      "text/plain": [
       "count = \t\n",
       "430\t\n"
      ]
     },
     "execution_count": 71,
     "metadata": {},
     "output_type": "execute_result"
    },
    {
     "data": {
      "text/plain": [
       "count = \t\n",
       "431\t\n"
      ]
     },
     "execution_count": 71,
     "metadata": {},
     "output_type": "execute_result"
    },
    {
     "data": {
      "text/plain": [
       "count = \t\n",
       "432\t\n"
      ]
     },
     "execution_count": 71,
     "metadata": {},
     "output_type": "execute_result"
    },
    {
     "data": {
      "text/plain": [
       "count = \t\n",
       "433\t\n"
      ]
     },
     "execution_count": 71,
     "metadata": {},
     "output_type": "execute_result"
    },
    {
     "data": {
      "text/plain": [
       "count = \t\n",
       "434\t\n"
      ]
     },
     "execution_count": 71,
     "metadata": {},
     "output_type": "execute_result"
    },
    {
     "data": {
      "text/plain": [
       "count = \t\n",
       "435\t\n"
      ]
     },
     "execution_count": 71,
     "metadata": {},
     "output_type": "execute_result"
    },
    {
     "data": {
      "text/plain": [
       "count = \t\n",
       "436\t\n"
      ]
     },
     "execution_count": 71,
     "metadata": {},
     "output_type": "execute_result"
    },
    {
     "data": {
      "text/plain": [
       "count = \t\n",
       "437\t\n"
      ]
     },
     "execution_count": 71,
     "metadata": {},
     "output_type": "execute_result"
    },
    {
     "data": {
      "text/plain": [
       "count = \t\n",
       "438\t\n"
      ]
     },
     "execution_count": 71,
     "metadata": {},
     "output_type": "execute_result"
    },
    {
     "data": {
      "text/plain": [
       "count = \t\n",
       "439\t\n"
      ]
     },
     "execution_count": 71,
     "metadata": {},
     "output_type": "execute_result"
    },
    {
     "data": {
      "text/plain": [
       "count = \t\n",
       "440\t\n"
      ]
     },
     "execution_count": 71,
     "metadata": {},
     "output_type": "execute_result"
    },
    {
     "data": {
      "text/plain": [
       "count = \t\n",
       "441\t\n"
      ]
     },
     "execution_count": 71,
     "metadata": {},
     "output_type": "execute_result"
    },
    {
     "data": {
      "text/plain": [
       "count = \t\n",
       "442\t\n"
      ]
     },
     "execution_count": 71,
     "metadata": {},
     "output_type": "execute_result"
    },
    {
     "data": {
      "text/plain": [
       "count = \t\n",
       "443\t\n"
      ]
     },
     "execution_count": 71,
     "metadata": {},
     "output_type": "execute_result"
    },
    {
     "data": {
      "text/plain": [
       "count = \t\n",
       "444\t\n"
      ]
     },
     "execution_count": 71,
     "metadata": {},
     "output_type": "execute_result"
    },
    {
     "data": {
      "text/plain": [
       "count = \t\n",
       "445\t\n"
      ]
     },
     "execution_count": 71,
     "metadata": {},
     "output_type": "execute_result"
    },
    {
     "data": {
      "text/plain": [
       "count = \t\n",
       "446\t\n"
      ]
     },
     "execution_count": 71,
     "metadata": {},
     "output_type": "execute_result"
    },
    {
     "data": {
      "text/plain": [
       "count = \t\n",
       "447\t\n"
      ]
     },
     "execution_count": 71,
     "metadata": {},
     "output_type": "execute_result"
    },
    {
     "data": {
      "text/plain": [
       "count = \t\n",
       "448\t\n"
      ]
     },
     "execution_count": 71,
     "metadata": {},
     "output_type": "execute_result"
    },
    {
     "data": {
      "text/plain": [
       "count = \t\n",
       "449\t\n"
      ]
     },
     "execution_count": 71,
     "metadata": {},
     "output_type": "execute_result"
    },
    {
     "data": {
      "text/plain": [
       "count = \t\n",
       "450\t\n"
      ]
     },
     "execution_count": 71,
     "metadata": {},
     "output_type": "execute_result"
    },
    {
     "data": {
      "text/plain": [
       "count = \t\n",
       "451\t\n"
      ]
     },
     "execution_count": 71,
     "metadata": {},
     "output_type": "execute_result"
    },
    {
     "data": {
      "text/plain": [
       "count = \t\n",
       "452\t\n"
      ]
     },
     "execution_count": 71,
     "metadata": {},
     "output_type": "execute_result"
    },
    {
     "data": {
      "text/plain": [
       "count = \t\n",
       "453\t\n"
      ]
     },
     "execution_count": 71,
     "metadata": {},
     "output_type": "execute_result"
    },
    {
     "data": {
      "text/plain": [
       "count = \t\n",
       "454\t\n"
      ]
     },
     "execution_count": 71,
     "metadata": {},
     "output_type": "execute_result"
    },
    {
     "data": {
      "text/plain": [
       "count = \t\n",
       "455\t\n"
      ]
     },
     "execution_count": 71,
     "metadata": {},
     "output_type": "execute_result"
    },
    {
     "data": {
      "text/plain": [
       "count = \t\n",
       "456\t\n"
      ]
     },
     "execution_count": 71,
     "metadata": {},
     "output_type": "execute_result"
    },
    {
     "data": {
      "text/plain": [
       "count = \t\n",
       "457\t\n"
      ]
     },
     "execution_count": 71,
     "metadata": {},
     "output_type": "execute_result"
    },
    {
     "data": {
      "text/plain": [
       "count = \t\n",
       "458\t\n"
      ]
     },
     "execution_count": 71,
     "metadata": {},
     "output_type": "execute_result"
    },
    {
     "data": {
      "text/plain": [
       "count = \t\n",
       "459\t\n"
      ]
     },
     "execution_count": 71,
     "metadata": {},
     "output_type": "execute_result"
    },
    {
     "data": {
      "text/plain": [
       "count = \t\n",
       "460\t\n"
      ]
     },
     "execution_count": 71,
     "metadata": {},
     "output_type": "execute_result"
    },
    {
     "data": {
      "text/plain": [
       "count = \t\n",
       "461\t\n"
      ]
     },
     "execution_count": 71,
     "metadata": {},
     "output_type": "execute_result"
    },
    {
     "data": {
      "text/plain": [
       "count = \t\n",
       "462\t\n"
      ]
     },
     "execution_count": 71,
     "metadata": {},
     "output_type": "execute_result"
    },
    {
     "data": {
      "text/plain": [
       "count = \t\n",
       "463\t\n"
      ]
     },
     "execution_count": 71,
     "metadata": {},
     "output_type": "execute_result"
    },
    {
     "data": {
      "text/plain": [
       "count = \t\n",
       "464\t\n"
      ]
     },
     "execution_count": 71,
     "metadata": {},
     "output_type": "execute_result"
    },
    {
     "data": {
      "text/plain": [
       "count = \t\n",
       "465\t\n"
      ]
     },
     "execution_count": 71,
     "metadata": {},
     "output_type": "execute_result"
    },
    {
     "data": {
      "text/plain": [
       "count = \t\n",
       "466\t\n"
      ]
     },
     "execution_count": 71,
     "metadata": {},
     "output_type": "execute_result"
    },
    {
     "data": {
      "text/plain": [
       "count = \t\n",
       "467\t\n"
      ]
     },
     "execution_count": 71,
     "metadata": {},
     "output_type": "execute_result"
    },
    {
     "data": {
      "text/plain": [
       "count = \t\n",
       "468\t\n"
      ]
     },
     "execution_count": 71,
     "metadata": {},
     "output_type": "execute_result"
    },
    {
     "data": {
      "text/plain": [
       "count = \t\n",
       "469\t\n"
      ]
     },
     "execution_count": 71,
     "metadata": {},
     "output_type": "execute_result"
    },
    {
     "data": {
      "text/plain": [
       "count = \t\n",
       "470\t\n"
      ]
     },
     "execution_count": 71,
     "metadata": {},
     "output_type": "execute_result"
    },
    {
     "data": {
      "text/plain": [
       "count = \t\n",
       "471\t\n"
      ]
     },
     "execution_count": 71,
     "metadata": {},
     "output_type": "execute_result"
    },
    {
     "data": {
      "text/plain": [
       "count = \t\n",
       "472\t\n"
      ]
     },
     "execution_count": 71,
     "metadata": {},
     "output_type": "execute_result"
    },
    {
     "data": {
      "text/plain": [
       "count = \t\n",
       "473\t\n"
      ]
     },
     "execution_count": 71,
     "metadata": {},
     "output_type": "execute_result"
    },
    {
     "data": {
      "text/plain": [
       "count = \t\n",
       "474\t\n"
      ]
     },
     "execution_count": 71,
     "metadata": {},
     "output_type": "execute_result"
    },
    {
     "data": {
      "text/plain": [
       "count = \t\n",
       "475\t\n"
      ]
     },
     "execution_count": 71,
     "metadata": {},
     "output_type": "execute_result"
    },
    {
     "data": {
      "text/plain": [
       "count = \t\n",
       "476\t\n"
      ]
     },
     "execution_count": 71,
     "metadata": {},
     "output_type": "execute_result"
    },
    {
     "data": {
      "text/plain": [
       "count = \t\n",
       "477\t\n"
      ]
     },
     "execution_count": 71,
     "metadata": {},
     "output_type": "execute_result"
    },
    {
     "data": {
      "text/plain": [
       "count = \t\n",
       "478\t\n"
      ]
     },
     "execution_count": 71,
     "metadata": {},
     "output_type": "execute_result"
    },
    {
     "name": "stdout",
     "output_type": "stream",
     "text": [
      "\r",
      " [=================>....................................................................]                               \b\b\b\b\b\b\b\b\b\b\b\b\b\b\b\b\b\b\b\b\b\b\b\b\b\b\b\b\b\b ETA: 18m18s | Step: 614ms\b\b\b\b\b\b\b\b\b\b\b\b\b\b\b\b\b\b\b\b\b\b\b\b\b\b\b\b\b\b\b\b\b\b\b\b\b\b\b\b\b\b\b\b\b\b\b\b\b\b\b\b\b\b\b\b\b\b\b\b\b\b\b\b\b\b\b\b\b\b\b\b\b\b "
     ]
    },
    {
     "data": {
      "text/plain": [
       "count = \t\n",
       "479\t\n"
      ]
     },
     "execution_count": 71,
     "metadata": {},
     "output_type": "execute_result"
    },
    {
     "data": {
      "text/plain": [
       "count = \t\n",
       "480\t\n"
      ]
     },
     "execution_count": 71,
     "metadata": {},
     "output_type": "execute_result"
    },
    {
     "data": {
      "text/plain": [
       "count = \t\n",
       "481\t\n",
       "count = \t\n",
       "482\t\n"
      ]
     },
     "execution_count": 71,
     "metadata": {},
     "output_type": "execute_result"
    },
    {
     "data": {
      "text/plain": [
       "count = \t\n",
       "483\t\n"
      ]
     },
     "execution_count": 71,
     "metadata": {},
     "output_type": "execute_result"
    },
    {
     "data": {
      "text/plain": [
       "count = \t\n",
       "484\t\n"
      ]
     },
     "execution_count": 71,
     "metadata": {},
     "output_type": "execute_result"
    },
    {
     "data": {
      "text/plain": [
       "count = \t\n",
       "485\t\n"
      ]
     },
     "execution_count": 71,
     "metadata": {},
     "output_type": "execute_result"
    },
    {
     "data": {
      "text/plain": [
       "count = \t\n",
       "486\t\n"
      ]
     },
     "execution_count": 71,
     "metadata": {},
     "output_type": "execute_result"
    },
    {
     "data": {
      "text/plain": [
       "count = \t\n",
       "487\t\n"
      ]
     },
     "execution_count": 71,
     "metadata": {},
     "output_type": "execute_result"
    },
    {
     "data": {
      "text/plain": [
       "count = \t\n",
       "488\t\n"
      ]
     },
     "execution_count": 71,
     "metadata": {},
     "output_type": "execute_result"
    },
    {
     "data": {
      "text/plain": [
       "count = \t\n",
       "489\t\n"
      ]
     },
     "execution_count": 71,
     "metadata": {},
     "output_type": "execute_result"
    },
    {
     "data": {
      "text/plain": [
       "count = \t\n",
       "490\t\n"
      ]
     },
     "execution_count": 71,
     "metadata": {},
     "output_type": "execute_result"
    },
    {
     "data": {
      "text/plain": [
       "count = \t\n",
       "491\t\n"
      ]
     },
     "execution_count": 71,
     "metadata": {},
     "output_type": "execute_result"
    },
    {
     "data": {
      "text/plain": [
       "count = \t\n",
       "492\t\n"
      ]
     },
     "execution_count": 71,
     "metadata": {},
     "output_type": "execute_result"
    },
    {
     "data": {
      "text/plain": [
       "count = \t\n",
       "493\t\n"
      ]
     },
     "execution_count": 71,
     "metadata": {},
     "output_type": "execute_result"
    },
    {
     "data": {
      "text/plain": [
       "count = \t\n",
       "494\t\n"
      ]
     },
     "execution_count": 71,
     "metadata": {},
     "output_type": "execute_result"
    },
    {
     "data": {
      "text/plain": [
       "count = \t\n"
      ]
     },
     "execution_count": 71,
     "metadata": {},
     "output_type": "execute_result"
    },
    {
     "data": {
      "text/plain": [
       "495\t\n"
      ]
     },
     "execution_count": 71,
     "metadata": {},
     "output_type": "execute_result"
    },
    {
     "data": {
      "text/plain": [
       "count = \t\n",
       "496\t\n"
      ]
     },
     "execution_count": 71,
     "metadata": {},
     "output_type": "execute_result"
    },
    {
     "data": {
      "text/plain": [
       "count = \t\n",
       "497\t\n"
      ]
     },
     "execution_count": 71,
     "metadata": {},
     "output_type": "execute_result"
    },
    {
     "data": {
      "text/plain": [
       "count = \t\n",
       "498\t\n"
      ]
     },
     "execution_count": 71,
     "metadata": {},
     "output_type": "execute_result"
    },
    {
     "data": {
      "text/plain": [
       "count = \t\n",
       "499\t\n"
      ]
     },
     "execution_count": 71,
     "metadata": {},
     "output_type": "execute_result"
    },
    {
     "data": {
      "text/plain": [
       "count = \t\n",
       "500\t\n"
      ]
     },
     "execution_count": 71,
     "metadata": {},
     "output_type": "execute_result"
    },
    {
     "data": {
      "text/plain": [
       "no\t\n"
      ]
     },
     "execution_count": 71,
     "metadata": {},
     "output_type": "execute_result"
    },
    {
     "data": {
      "text/plain": [
       "count = \t\n",
       "501\t\n"
      ]
     },
     "execution_count": 71,
     "metadata": {},
     "output_type": "execute_result"
    },
    {
     "data": {
      "text/plain": [
       "count = \t\n",
       "502\t\n"
      ]
     },
     "execution_count": 71,
     "metadata": {},
     "output_type": "execute_result"
    },
    {
     "data": {
      "text/plain": [
       "count = \t\n",
       "503\t\n"
      ]
     },
     "execution_count": 71,
     "metadata": {},
     "output_type": "execute_result"
    },
    {
     "data": {
      "text/plain": [
       "count = \t\n",
       "504\t\n"
      ]
     },
     "execution_count": 71,
     "metadata": {},
     "output_type": "execute_result"
    },
    {
     "data": {
      "text/plain": [
       "count = \t\n",
       "505\t\n"
      ]
     },
     "execution_count": 71,
     "metadata": {},
     "output_type": "execute_result"
    },
    {
     "data": {
      "text/plain": [
       "count = \t\n",
       "506\t\n"
      ]
     },
     "execution_count": 71,
     "metadata": {},
     "output_type": "execute_result"
    },
    {
     "data": {
      "text/plain": [
       "count = \t\n",
       "507\t\n"
      ]
     },
     "execution_count": 71,
     "metadata": {},
     "output_type": "execute_result"
    },
    {
     "data": {
      "text/plain": [
       "count = \t\n",
       "508\t\n"
      ]
     },
     "execution_count": 71,
     "metadata": {},
     "output_type": "execute_result"
    },
    {
     "data": {
      "text/plain": [
       "count = \t\n",
       "509\t\n"
      ]
     },
     "execution_count": 71,
     "metadata": {},
     "output_type": "execute_result"
    },
    {
     "data": {
      "text/plain": [
       "count = \t\n",
       "510\t\n"
      ]
     },
     "execution_count": 71,
     "metadata": {},
     "output_type": "execute_result"
    },
    {
     "data": {
      "text/plain": [
       "count = \t\n",
       "511\t\n"
      ]
     },
     "execution_count": 71,
     "metadata": {},
     "output_type": "execute_result"
    },
    {
     "data": {
      "text/plain": [
       "count = \t\n",
       "512\t\n"
      ]
     },
     "execution_count": 71,
     "metadata": {},
     "output_type": "execute_result"
    },
    {
     "data": {
      "text/plain": [
       "count = \t\n",
       "513\t\n"
      ]
     },
     "execution_count": 71,
     "metadata": {},
     "output_type": "execute_result"
    },
    {
     "data": {
      "text/plain": [
       "count = \t\n",
       "514\t\n"
      ]
     },
     "execution_count": 71,
     "metadata": {},
     "output_type": "execute_result"
    },
    {
     "data": {
      "text/plain": [
       "count = \t\n",
       "515\t\n"
      ]
     },
     "execution_count": 71,
     "metadata": {},
     "output_type": "execute_result"
    },
    {
     "data": {
      "text/plain": [
       "count = \t\n",
       "516\t\n"
      ]
     },
     "execution_count": 71,
     "metadata": {},
     "output_type": "execute_result"
    },
    {
     "data": {
      "text/plain": [
       "count = \t\n",
       "517\t\n"
      ]
     },
     "execution_count": 71,
     "metadata": {},
     "output_type": "execute_result"
    },
    {
     "data": {
      "text/plain": [
       "no\t\n"
      ]
     },
     "execution_count": 71,
     "metadata": {},
     "output_type": "execute_result"
    },
    {
     "data": {
      "text/plain": [
       "count = \t\n",
       "518\t\n"
      ]
     },
     "execution_count": 71,
     "metadata": {},
     "output_type": "execute_result"
    },
    {
     "data": {
      "text/plain": [
       "count = \t\n",
       "519\t\n"
      ]
     },
     "execution_count": 71,
     "metadata": {},
     "output_type": "execute_result"
    },
    {
     "data": {
      "text/plain": [
       "count = \t\n",
       "520\t\n"
      ]
     },
     "execution_count": 71,
     "metadata": {},
     "output_type": "execute_result"
    },
    {
     "data": {
      "text/plain": [
       "count = \t\n",
       "521\t\n"
      ]
     },
     "execution_count": 71,
     "metadata": {},
     "output_type": "execute_result"
    },
    {
     "data": {
      "text/plain": [
       "count = \t\n",
       "522\t\n"
      ]
     },
     "execution_count": 71,
     "metadata": {},
     "output_type": "execute_result"
    },
    {
     "data": {
      "text/plain": [
       "count = \t\n",
       "523\t\n"
      ]
     },
     "execution_count": 71,
     "metadata": {},
     "output_type": "execute_result"
    },
    {
     "data": {
      "text/plain": [
       "count = \t\n",
       "524\t\n"
      ]
     },
     "execution_count": 71,
     "metadata": {},
     "output_type": "execute_result"
    },
    {
     "data": {
      "text/plain": [
       "count = \t\n",
       "525\t\n"
      ]
     },
     "execution_count": 71,
     "metadata": {},
     "output_type": "execute_result"
    },
    {
     "data": {
      "text/plain": [
       "count = \t\n",
       "526\t\n"
      ]
     },
     "execution_count": 71,
     "metadata": {},
     "output_type": "execute_result"
    },
    {
     "data": {
      "text/plain": [
       "count = \t\n",
       "527\t\n"
      ]
     },
     "execution_count": 71,
     "metadata": {},
     "output_type": "execute_result"
    },
    {
     "data": {
      "text/plain": [
       "count = \t\n"
      ]
     },
     "execution_count": 71,
     "metadata": {},
     "output_type": "execute_result"
    },
    {
     "data": {
      "text/plain": [
       "528\t\n"
      ]
     },
     "execution_count": 71,
     "metadata": {},
     "output_type": "execute_result"
    },
    {
     "data": {
      "text/plain": [
       "count = \t\n",
       "529\t\n"
      ]
     },
     "execution_count": 71,
     "metadata": {},
     "output_type": "execute_result"
    },
    {
     "data": {
      "text/plain": [
       "count = \t\n",
       "530\t\n"
      ]
     },
     "execution_count": 71,
     "metadata": {},
     "output_type": "execute_result"
    },
    {
     "data": {
      "text/plain": [
       "count = \t\n",
       "531\t\n"
      ]
     },
     "execution_count": 71,
     "metadata": {},
     "output_type": "execute_result"
    },
    {
     "data": {
      "text/plain": [
       "count = \t\n",
       "532\t\n"
      ]
     },
     "execution_count": 71,
     "metadata": {},
     "output_type": "execute_result"
    },
    {
     "data": {
      "text/plain": [
       "count = \t\n",
       "533\t\n"
      ]
     },
     "execution_count": 71,
     "metadata": {},
     "output_type": "execute_result"
    },
    {
     "data": {
      "text/plain": [
       "count = \t\n",
       "534\t\n"
      ]
     },
     "execution_count": 71,
     "metadata": {},
     "output_type": "execute_result"
    },
    {
     "data": {
      "text/plain": [
       "count = \t\n",
       "535\t\n"
      ]
     },
     "execution_count": 71,
     "metadata": {},
     "output_type": "execute_result"
    },
    {
     "data": {
      "text/plain": [
       "count = \t\n",
       "536\t\n"
      ]
     },
     "execution_count": 71,
     "metadata": {},
     "output_type": "execute_result"
    },
    {
     "data": {
      "text/plain": [
       "no\t\n"
      ]
     },
     "execution_count": 71,
     "metadata": {},
     "output_type": "execute_result"
    },
    {
     "data": {
      "text/plain": [
       "count = \t\n",
       "537\t\n"
      ]
     },
     "execution_count": 71,
     "metadata": {},
     "output_type": "execute_result"
    },
    {
     "data": {
      "text/plain": [
       "count = \t\n",
       "538\t\n"
      ]
     },
     "execution_count": 71,
     "metadata": {},
     "output_type": "execute_result"
    },
    {
     "data": {
      "text/plain": [
       "count = \t\n",
       "539\t\n"
      ]
     },
     "execution_count": 71,
     "metadata": {},
     "output_type": "execute_result"
    },
    {
     "data": {
      "text/plain": [
       "count = \t\n",
       "540\t\n"
      ]
     },
     "execution_count": 71,
     "metadata": {},
     "output_type": "execute_result"
    },
    {
     "data": {
      "text/plain": [
       "count = \t\n",
       "541\t\n"
      ]
     },
     "execution_count": 71,
     "metadata": {},
     "output_type": "execute_result"
    },
    {
     "data": {
      "text/plain": [
       "count = \t\n",
       "542\t\n"
      ]
     },
     "execution_count": 71,
     "metadata": {},
     "output_type": "execute_result"
    },
    {
     "data": {
      "text/plain": [
       "count = \t\n",
       "543\t\n"
      ]
     },
     "execution_count": 71,
     "metadata": {},
     "output_type": "execute_result"
    },
    {
     "data": {
      "text/plain": [
       "count = \t\n",
       "544\t\n"
      ]
     },
     "execution_count": 71,
     "metadata": {},
     "output_type": "execute_result"
    },
    {
     "data": {
      "text/plain": [
       "count = \t\n",
       "545\t\n"
      ]
     },
     "execution_count": 71,
     "metadata": {},
     "output_type": "execute_result"
    },
    {
     "data": {
      "text/plain": [
       "count = \t\n",
       "546\t\n"
      ]
     },
     "execution_count": 71,
     "metadata": {},
     "output_type": "execute_result"
    },
    {
     "data": {
      "text/plain": [
       "count = \t\n",
       "547\t\n"
      ]
     },
     "execution_count": 71,
     "metadata": {},
     "output_type": "execute_result"
    },
    {
     "data": {
      "text/plain": [
       "count = \t\n",
       "548\t\n"
      ]
     },
     "execution_count": 71,
     "metadata": {},
     "output_type": "execute_result"
    },
    {
     "data": {
      "text/plain": [
       "count = \t\n",
       "549\t\n"
      ]
     },
     "execution_count": 71,
     "metadata": {},
     "output_type": "execute_result"
    },
    {
     "data": {
      "text/plain": [
       "count = \t\n",
       "550\t\n"
      ]
     },
     "execution_count": 71,
     "metadata": {},
     "output_type": "execute_result"
    },
    {
     "data": {
      "text/plain": [
       "count = \t\n",
       "551\t\n"
      ]
     },
     "execution_count": 71,
     "metadata": {},
     "output_type": "execute_result"
    },
    {
     "data": {
      "text/plain": [
       "count = \t\n",
       "552\t\n"
      ]
     },
     "execution_count": 71,
     "metadata": {},
     "output_type": "execute_result"
    },
    {
     "data": {
      "text/plain": [
       "count = \t\n",
       "553\t\n"
      ]
     },
     "execution_count": 71,
     "metadata": {},
     "output_type": "execute_result"
    },
    {
     "data": {
      "text/plain": [
       "count = \t\n",
       "554\t\n"
      ]
     },
     "execution_count": 71,
     "metadata": {},
     "output_type": "execute_result"
    },
    {
     "data": {
      "text/plain": [
       "count = \t\n",
       "555\t\n"
      ]
     },
     "execution_count": 71,
     "metadata": {},
     "output_type": "execute_result"
    },
    {
     "data": {
      "text/plain": [
       "count = \t\n",
       "556\t\n"
      ]
     },
     "execution_count": 71,
     "metadata": {},
     "output_type": "execute_result"
    },
    {
     "data": {
      "text/plain": [
       "count = \t\n",
       "557\t\n"
      ]
     },
     "execution_count": 71,
     "metadata": {},
     "output_type": "execute_result"
    },
    {
     "data": {
      "text/plain": [
       "count = \t\n",
       "558\t\n"
      ]
     },
     "execution_count": 71,
     "metadata": {},
     "output_type": "execute_result"
    },
    {
     "data": {
      "text/plain": [
       "count = \t\n",
       "559\t\n"
      ]
     },
     "execution_count": 71,
     "metadata": {},
     "output_type": "execute_result"
    },
    {
     "data": {
      "text/plain": [
       "count = \t\n",
       "560\t\n"
      ]
     },
     "execution_count": 71,
     "metadata": {},
     "output_type": "execute_result"
    },
    {
     "data": {
      "text/plain": [
       "count = \t\n",
       "561\t\n"
      ]
     },
     "execution_count": 71,
     "metadata": {},
     "output_type": "execute_result"
    },
    {
     "data": {
      "text/plain": [
       "count = \t\n",
       "562\t\n"
      ]
     },
     "execution_count": 71,
     "metadata": {},
     "output_type": "execute_result"
    },
    {
     "data": {
      "text/plain": [
       "count = \t\n",
       "563\t\n"
      ]
     },
     "execution_count": 71,
     "metadata": {},
     "output_type": "execute_result"
    },
    {
     "data": {
      "text/plain": [
       "count = \t\n",
       "564\t\n"
      ]
     },
     "execution_count": 71,
     "metadata": {},
     "output_type": "execute_result"
    },
    {
     "data": {
      "text/plain": [
       "count = \t\n",
       "565\t\n"
      ]
     },
     "execution_count": 71,
     "metadata": {},
     "output_type": "execute_result"
    },
    {
     "data": {
      "text/plain": [
       "count = \t\n",
       "566\t\n"
      ]
     },
     "execution_count": 71,
     "metadata": {},
     "output_type": "execute_result"
    },
    {
     "data": {
      "text/plain": [
       "count = \t\n",
       "567\t\n"
      ]
     },
     "execution_count": 71,
     "metadata": {},
     "output_type": "execute_result"
    },
    {
     "data": {
      "text/plain": [
       "count = \t\n",
       "568\t\n"
      ]
     },
     "execution_count": 71,
     "metadata": {},
     "output_type": "execute_result"
    },
    {
     "data": {
      "text/plain": [
       "count = \t\n",
       "569\t\n"
      ]
     },
     "execution_count": 71,
     "metadata": {},
     "output_type": "execute_result"
    },
    {
     "data": {
      "text/plain": [
       "count = \t\n",
       "570\t\n"
      ]
     },
     "execution_count": 71,
     "metadata": {},
     "output_type": "execute_result"
    },
    {
     "data": {
      "text/plain": [
       "count = \t\n",
       "571\t\n"
      ]
     },
     "execution_count": 71,
     "metadata": {},
     "output_type": "execute_result"
    },
    {
     "data": {
      "text/plain": [
       "count = \t\n",
       "572\t\n"
      ]
     },
     "execution_count": 71,
     "metadata": {},
     "output_type": "execute_result"
    },
    {
     "data": {
      "text/plain": [
       "count = \t\n",
       "573\t\n"
      ]
     },
     "execution_count": 71,
     "metadata": {},
     "output_type": "execute_result"
    },
    {
     "data": {
      "text/plain": [
       "count = \t\n",
       "574\t\n"
      ]
     },
     "execution_count": 71,
     "metadata": {},
     "output_type": "execute_result"
    },
    {
     "data": {
      "text/plain": [
       "count = \t\n",
       "575\t\n"
      ]
     },
     "execution_count": 71,
     "metadata": {},
     "output_type": "execute_result"
    },
    {
     "data": {
      "text/plain": [
       "count = \t\n",
       "576\t\n"
      ]
     },
     "execution_count": 71,
     "metadata": {},
     "output_type": "execute_result"
    },
    {
     "data": {
      "text/plain": [
       "count = \t\n",
       "577\t\n"
      ]
     },
     "execution_count": 71,
     "metadata": {},
     "output_type": "execute_result"
    },
    {
     "data": {
      "text/plain": [
       "count = \t\n",
       "578\t\n",
       "count = \t\n",
       "579\t\n"
      ]
     },
     "execution_count": 71,
     "metadata": {},
     "output_type": "execute_result"
    },
    {
     "data": {
      "text/plain": [
       "count = \t\n",
       "580\t\n"
      ]
     },
     "execution_count": 71,
     "metadata": {},
     "output_type": "execute_result"
    },
    {
     "data": {
      "text/plain": [
       "count = \t\n",
       "581\t\n"
      ]
     },
     "execution_count": 71,
     "metadata": {},
     "output_type": "execute_result"
    },
    {
     "data": {
      "text/plain": [
       "count = \t\n",
       "582\t\n"
      ]
     },
     "execution_count": 71,
     "metadata": {},
     "output_type": "execute_result"
    },
    {
     "data": {
      "text/plain": [
       "count = \t\n",
       "583\t\n"
      ]
     },
     "execution_count": 71,
     "metadata": {},
     "output_type": "execute_result"
    },
    {
     "data": {
      "text/plain": [
       "count = \t\n",
       "584\t\n"
      ]
     },
     "execution_count": 71,
     "metadata": {},
     "output_type": "execute_result"
    },
    {
     "data": {
      "text/plain": [
       "count = \t\n",
       "585\t\n"
      ]
     },
     "execution_count": 71,
     "metadata": {},
     "output_type": "execute_result"
    },
    {
     "data": {
      "text/plain": [
       "count = \t\n",
       "586\t\n",
       "count = \t\n",
       "587\t\n"
      ]
     },
     "execution_count": 71,
     "metadata": {},
     "output_type": "execute_result"
    },
    {
     "data": {
      "text/plain": [
       "count = \t\n",
       "588\t\n"
      ]
     },
     "execution_count": 71,
     "metadata": {},
     "output_type": "execute_result"
    },
    {
     "data": {
      "text/plain": [
       "count = \t\n",
       "589\t\n"
      ]
     },
     "execution_count": 71,
     "metadata": {},
     "output_type": "execute_result"
    },
    {
     "data": {
      "text/plain": [
       "count = \t\n",
       "590\t\n"
      ]
     },
     "execution_count": 71,
     "metadata": {},
     "output_type": "execute_result"
    },
    {
     "data": {
      "text/plain": [
       "count = \t\n",
       "591\t\n"
      ]
     },
     "execution_count": 71,
     "metadata": {},
     "output_type": "execute_result"
    },
    {
     "data": {
      "text/plain": [
       "count = \t\n",
       "592\t\n"
      ]
     },
     "execution_count": 71,
     "metadata": {},
     "output_type": "execute_result"
    },
    {
     "data": {
      "text/plain": [
       "count = \t\n",
       "593\t\n"
      ]
     },
     "execution_count": 71,
     "metadata": {},
     "output_type": "execute_result"
    },
    {
     "data": {
      "text/plain": [
       "count = \t\n",
       "594\t\n"
      ]
     },
     "execution_count": 71,
     "metadata": {},
     "output_type": "execute_result"
    },
    {
     "data": {
      "text/plain": [
       "count = \t\n",
       "595\t\n"
      ]
     },
     "execution_count": 71,
     "metadata": {},
     "output_type": "execute_result"
    },
    {
     "data": {
      "text/plain": [
       "count = \t\n",
       "596\t\n"
      ]
     },
     "execution_count": 71,
     "metadata": {},
     "output_type": "execute_result"
    },
    {
     "data": {
      "text/plain": [
       "count = \t\n",
       "597\t\n"
      ]
     },
     "execution_count": 71,
     "metadata": {},
     "output_type": "execute_result"
    },
    {
     "data": {
      "text/plain": [
       "count = \t\n",
       "598\t\n"
      ]
     },
     "execution_count": 71,
     "metadata": {},
     "output_type": "execute_result"
    },
    {
     "data": {
      "text/plain": [
       "count = \t\n",
       "599\t\n"
      ]
     },
     "execution_count": 71,
     "metadata": {},
     "output_type": "execute_result"
    },
    {
     "data": {
      "text/plain": [
       "count = \t\n",
       "600\t\n"
      ]
     },
     "execution_count": 71,
     "metadata": {},
     "output_type": "execute_result"
    },
    {
     "data": {
      "text/plain": [
       "count = \t\n",
       "601\t\n"
      ]
     },
     "execution_count": 71,
     "metadata": {},
     "output_type": "execute_result"
    },
    {
     "data": {
      "text/plain": [
       "count = \t\n",
       "602\t\n"
      ]
     },
     "execution_count": 71,
     "metadata": {},
     "output_type": "execute_result"
    },
    {
     "data": {
      "text/plain": [
       "count = \t\n",
       "603\t\n"
      ]
     },
     "execution_count": 71,
     "metadata": {},
     "output_type": "execute_result"
    },
    {
     "data": {
      "text/plain": [
       "count = \t\n",
       "604\t\n"
      ]
     },
     "execution_count": 71,
     "metadata": {},
     "output_type": "execute_result"
    },
    {
     "data": {
      "text/plain": [
       "count = \t\n",
       "605\t\n"
      ]
     },
     "execution_count": 71,
     "metadata": {},
     "output_type": "execute_result"
    },
    {
     "data": {
      "text/plain": [
       "count = \t\n",
       "606\t\n"
      ]
     },
     "execution_count": 71,
     "metadata": {},
     "output_type": "execute_result"
    },
    {
     "data": {
      "text/plain": [
       "count = \t\n",
       "607\t\n"
      ]
     },
     "execution_count": 71,
     "metadata": {},
     "output_type": "execute_result"
    },
    {
     "data": {
      "text/plain": [
       "count = \t\n",
       "608\t\n"
      ]
     },
     "execution_count": 71,
     "metadata": {},
     "output_type": "execute_result"
    },
    {
     "data": {
      "text/plain": [
       "count = \t\n",
       "609\t\n"
      ]
     },
     "execution_count": 71,
     "metadata": {},
     "output_type": "execute_result"
    },
    {
     "data": {
      "text/plain": [
       "count = \t\n",
       "610\t\n"
      ]
     },
     "execution_count": 71,
     "metadata": {},
     "output_type": "execute_result"
    },
    {
     "data": {
      "text/plain": [
       "count = \t\n",
       "611\t\n"
      ]
     },
     "execution_count": 71,
     "metadata": {},
     "output_type": "execute_result"
    },
    {
     "data": {
      "text/plain": [
       "count = \t\n",
       "612\t\n"
      ]
     },
     "execution_count": 71,
     "metadata": {},
     "output_type": "execute_result"
    },
    {
     "data": {
      "text/plain": [
       "count = \t\n",
       "613\t\n"
      ]
     },
     "execution_count": 71,
     "metadata": {},
     "output_type": "execute_result"
    },
    {
     "data": {
      "text/plain": [
       "count = \t\n",
       "614\t\n"
      ]
     },
     "execution_count": 71,
     "metadata": {},
     "output_type": "execute_result"
    },
    {
     "data": {
      "text/plain": [
       "count = \t\n",
       "615\t\n"
      ]
     },
     "execution_count": 71,
     "metadata": {},
     "output_type": "execute_result"
    },
    {
     "data": {
      "text/plain": [
       "count = \t\n",
       "616\t\n"
      ]
     },
     "execution_count": 71,
     "metadata": {},
     "output_type": "execute_result"
    },
    {
     "data": {
      "text/plain": [
       "count = \t\n",
       "617\t\n"
      ]
     },
     "execution_count": 71,
     "metadata": {},
     "output_type": "execute_result"
    },
    {
     "data": {
      "text/plain": [
       "count = \t\n",
       "618\t\n"
      ]
     },
     "execution_count": 71,
     "metadata": {},
     "output_type": "execute_result"
    },
    {
     "data": {
      "text/plain": [
       "count = \t\n",
       "619\t\n"
      ]
     },
     "execution_count": 71,
     "metadata": {},
     "output_type": "execute_result"
    },
    {
     "data": {
      "text/plain": [
       "count = \t\n",
       "620\t\n"
      ]
     },
     "execution_count": 71,
     "metadata": {},
     "output_type": "execute_result"
    },
    {
     "data": {
      "text/plain": [
       "no\t\n"
      ]
     },
     "execution_count": 71,
     "metadata": {},
     "output_type": "execute_result"
    },
    {
     "data": {
      "text/plain": [
       "count = \t\n",
       "621\t\n"
      ]
     },
     "execution_count": 71,
     "metadata": {},
     "output_type": "execute_result"
    },
    {
     "data": {
      "text/plain": [
       "count = \t\n",
       "622\t\n"
      ]
     },
     "execution_count": 71,
     "metadata": {},
     "output_type": "execute_result"
    },
    {
     "data": {
      "text/plain": [
       "count = \t\n",
       "623\t\n"
      ]
     },
     "execution_count": 71,
     "metadata": {},
     "output_type": "execute_result"
    },
    {
     "data": {
      "text/plain": [
       "count = \t\n",
       "624\t\n"
      ]
     },
     "execution_count": 71,
     "metadata": {},
     "output_type": "execute_result"
    },
    {
     "data": {
      "text/plain": [
       "count = \t\n",
       "625\t\n"
      ]
     },
     "execution_count": 71,
     "metadata": {},
     "output_type": "execute_result"
    },
    {
     "data": {
      "text/plain": [
       "count = \t\n",
       "626\t\n"
      ]
     },
     "execution_count": 71,
     "metadata": {},
     "output_type": "execute_result"
    },
    {
     "data": {
      "text/plain": [
       "count = \t\n",
       "627\t\n"
      ]
     },
     "execution_count": 71,
     "metadata": {},
     "output_type": "execute_result"
    },
    {
     "data": {
      "text/plain": [
       "count = \t\n",
       "628\t\n"
      ]
     },
     "execution_count": 71,
     "metadata": {},
     "output_type": "execute_result"
    },
    {
     "data": {
      "text/plain": [
       "count = \t\n",
       "629\t\n"
      ]
     },
     "execution_count": 71,
     "metadata": {},
     "output_type": "execute_result"
    },
    {
     "data": {
      "text/plain": [
       "count = \t\n",
       "630\t\n"
      ]
     },
     "execution_count": 71,
     "metadata": {},
     "output_type": "execute_result"
    },
    {
     "data": {
      "text/plain": [
       "count = \t\n",
       "631\t\n"
      ]
     },
     "execution_count": 71,
     "metadata": {},
     "output_type": "execute_result"
    },
    {
     "data": {
      "text/plain": [
       "count = \t\n",
       "632\t\n"
      ]
     },
     "execution_count": 71,
     "metadata": {},
     "output_type": "execute_result"
    },
    {
     "data": {
      "text/plain": [
       "count = \t\n",
       "633\t\n"
      ]
     },
     "execution_count": 71,
     "metadata": {},
     "output_type": "execute_result"
    },
    {
     "data": {
      "text/plain": [
       "count = \t\n",
       "634\t\n"
      ]
     },
     "execution_count": 71,
     "metadata": {},
     "output_type": "execute_result"
    },
    {
     "data": {
      "text/plain": [
       "count = \t\n",
       "635\t\n"
      ]
     },
     "execution_count": 71,
     "metadata": {},
     "output_type": "execute_result"
    },
    {
     "data": {
      "text/plain": [
       "count = \t\n",
       "636\t\n"
      ]
     },
     "execution_count": 71,
     "metadata": {},
     "output_type": "execute_result"
    },
    {
     "data": {
      "text/plain": [
       "count = \t\n",
       "637\t\n"
      ]
     },
     "execution_count": 71,
     "metadata": {},
     "output_type": "execute_result"
    },
    {
     "data": {
      "text/plain": [
       "count = \t\n",
       "638\t\n"
      ]
     },
     "execution_count": 71,
     "metadata": {},
     "output_type": "execute_result"
    },
    {
     "data": {
      "text/plain": [
       "count = \t\n",
       "639\t\n"
      ]
     },
     "execution_count": 71,
     "metadata": {},
     "output_type": "execute_result"
    },
    {
     "data": {
      "text/plain": [
       "count = \t\n",
       "640\t\n"
      ]
     },
     "execution_count": 71,
     "metadata": {},
     "output_type": "execute_result"
    },
    {
     "data": {
      "text/plain": [
       "count = \t\n",
       "641\t\n"
      ]
     },
     "execution_count": 71,
     "metadata": {},
     "output_type": "execute_result"
    },
    {
     "data": {
      "text/plain": [
       "count = \t\n",
       "642\t\n"
      ]
     },
     "execution_count": 71,
     "metadata": {},
     "output_type": "execute_result"
    },
    {
     "data": {
      "text/plain": [
       "count = \t\n",
       "643\t\n"
      ]
     },
     "execution_count": 71,
     "metadata": {},
     "output_type": "execute_result"
    },
    {
     "data": {
      "text/plain": [
       "count = \t\n",
       "644\t\n"
      ]
     },
     "execution_count": 71,
     "metadata": {},
     "output_type": "execute_result"
    },
    {
     "data": {
      "text/plain": [
       "count = \t\n",
       "645\t\n"
      ]
     },
     "execution_count": 71,
     "metadata": {},
     "output_type": "execute_result"
    },
    {
     "data": {
      "text/plain": [
       "count = \t\n",
       "646\t\n"
      ]
     },
     "execution_count": 71,
     "metadata": {},
     "output_type": "execute_result"
    },
    {
     "data": {
      "text/plain": [
       "count = \t\n",
       "647\t\n"
      ]
     },
     "execution_count": 71,
     "metadata": {},
     "output_type": "execute_result"
    },
    {
     "data": {
      "text/plain": [
       "count = \t\n",
       "648\t\n"
      ]
     },
     "execution_count": 71,
     "metadata": {},
     "output_type": "execute_result"
    },
    {
     "data": {
      "text/plain": [
       "count = \t\n",
       "649\t\n"
      ]
     },
     "execution_count": 71,
     "metadata": {},
     "output_type": "execute_result"
    },
    {
     "data": {
      "text/plain": [
       "count = \t\n",
       "650\t\n"
      ]
     },
     "execution_count": 71,
     "metadata": {},
     "output_type": "execute_result"
    },
    {
     "data": {
      "text/plain": [
       "count = \t\n",
       "651\t\n"
      ]
     },
     "execution_count": 71,
     "metadata": {},
     "output_type": "execute_result"
    },
    {
     "data": {
      "text/plain": [
       "count = \t\n",
       "652\t\n"
      ]
     },
     "execution_count": 71,
     "metadata": {},
     "output_type": "execute_result"
    },
    {
     "data": {
      "text/plain": [
       "no\t\n"
      ]
     },
     "execution_count": 71,
     "metadata": {},
     "output_type": "execute_result"
    },
    {
     "data": {
      "text/plain": [
       "count = \t\n",
       "653\t\n"
      ]
     },
     "execution_count": 71,
     "metadata": {},
     "output_type": "execute_result"
    },
    {
     "data": {
      "text/plain": [
       "count = \t\n",
       "654\t\n"
      ]
     },
     "execution_count": 71,
     "metadata": {},
     "output_type": "execute_result"
    },
    {
     "data": {
      "text/plain": [
       "count = \t\n",
       "655\t\n"
      ]
     },
     "execution_count": 71,
     "metadata": {},
     "output_type": "execute_result"
    },
    {
     "data": {
      "text/plain": [
       "count = \t\n",
       "656\t\n"
      ]
     },
     "execution_count": 71,
     "metadata": {},
     "output_type": "execute_result"
    },
    {
     "data": {
      "text/plain": [
       "count = \t\n",
       "657\t\n"
      ]
     },
     "execution_count": 71,
     "metadata": {},
     "output_type": "execute_result"
    },
    {
     "data": {
      "text/plain": [
       "count = \t\n",
       "658\t\n"
      ]
     },
     "execution_count": 71,
     "metadata": {},
     "output_type": "execute_result"
    },
    {
     "data": {
      "text/plain": [
       "count = \t\n",
       "659\t\n"
      ]
     },
     "execution_count": 71,
     "metadata": {},
     "output_type": "execute_result"
    },
    {
     "data": {
      "text/plain": [
       "count = \t\n",
       "660\t\n"
      ]
     },
     "execution_count": 71,
     "metadata": {},
     "output_type": "execute_result"
    },
    {
     "data": {
      "text/plain": [
       "count = \t\n",
       "661\t\n"
      ]
     },
     "execution_count": 71,
     "metadata": {},
     "output_type": "execute_result"
    },
    {
     "data": {
      "text/plain": [
       "count = \t\n",
       "662\t\n"
      ]
     },
     "execution_count": 71,
     "metadata": {},
     "output_type": "execute_result"
    },
    {
     "data": {
      "text/plain": [
       "count = \t\n",
       "663\t\n"
      ]
     },
     "execution_count": 71,
     "metadata": {},
     "output_type": "execute_result"
    },
    {
     "data": {
      "text/plain": [
       "count = \t\n",
       "664\t\n"
      ]
     },
     "execution_count": 71,
     "metadata": {},
     "output_type": "execute_result"
    },
    {
     "data": {
      "text/plain": [
       "count = \t\n",
       "665\t\n"
      ]
     },
     "execution_count": 71,
     "metadata": {},
     "output_type": "execute_result"
    },
    {
     "data": {
      "text/plain": [
       "count = \t\n",
       "666\t\n"
      ]
     },
     "execution_count": 71,
     "metadata": {},
     "output_type": "execute_result"
    },
    {
     "data": {
      "text/plain": [
       "count = \t\n",
       "667\t\n"
      ]
     },
     "execution_count": 71,
     "metadata": {},
     "output_type": "execute_result"
    },
    {
     "data": {
      "text/plain": [
       "count = \t\n",
       "668\t\n"
      ]
     },
     "execution_count": 71,
     "metadata": {},
     "output_type": "execute_result"
    },
    {
     "data": {
      "text/plain": [
       "count = \t\n",
       "669\t\n"
      ]
     },
     "execution_count": 71,
     "metadata": {},
     "output_type": "execute_result"
    },
    {
     "data": {
      "text/plain": [
       "count = \t\n",
       "670\t\n"
      ]
     },
     "execution_count": 71,
     "metadata": {},
     "output_type": "execute_result"
    },
    {
     "data": {
      "text/plain": [
       "count = \t\n",
       "671\t\n"
      ]
     },
     "execution_count": 71,
     "metadata": {},
     "output_type": "execute_result"
    },
    {
     "data": {
      "text/plain": [
       "count = \t\n"
      ]
     },
     "execution_count": 71,
     "metadata": {},
     "output_type": "execute_result"
    },
    {
     "data": {
      "text/plain": [
       "672\t\n"
      ]
     },
     "execution_count": 71,
     "metadata": {},
     "output_type": "execute_result"
    },
    {
     "data": {
      "text/plain": [
       "count = \t\n",
       "673\t\n"
      ]
     },
     "execution_count": 71,
     "metadata": {},
     "output_type": "execute_result"
    },
    {
     "data": {
      "text/plain": [
       "count = \t\n",
       "674\t\n"
      ]
     },
     "execution_count": 71,
     "metadata": {},
     "output_type": "execute_result"
    },
    {
     "data": {
      "text/plain": [
       "count = \t\n",
       "675\t\n"
      ]
     },
     "execution_count": 71,
     "metadata": {},
     "output_type": "execute_result"
    },
    {
     "data": {
      "text/plain": [
       "count = \t\n",
       "676\t\n"
      ]
     },
     "execution_count": 71,
     "metadata": {},
     "output_type": "execute_result"
    },
    {
     "data": {
      "text/plain": [
       "count = \t\n",
       "677\t\n"
      ]
     },
     "execution_count": 71,
     "metadata": {},
     "output_type": "execute_result"
    },
    {
     "data": {
      "text/plain": [
       "count = \t\n",
       "678\t\n"
      ]
     },
     "execution_count": 71,
     "metadata": {},
     "output_type": "execute_result"
    },
    {
     "data": {
      "text/plain": [
       "count = \t\n",
       "679\t\n"
      ]
     },
     "execution_count": 71,
     "metadata": {},
     "output_type": "execute_result"
    },
    {
     "data": {
      "text/plain": [
       "count = \t\n",
       "680\t\n"
      ]
     },
     "execution_count": 71,
     "metadata": {},
     "output_type": "execute_result"
    },
    {
     "data": {
      "text/plain": [
       "count = \t\n"
      ]
     },
     "execution_count": 71,
     "metadata": {},
     "output_type": "execute_result"
    },
    {
     "data": {
      "text/plain": [
       "681\t\n"
      ]
     },
     "execution_count": 71,
     "metadata": {},
     "output_type": "execute_result"
    },
    {
     "data": {
      "text/plain": [
       "count = \t\n",
       "682\t\n"
      ]
     },
     "execution_count": 71,
     "metadata": {},
     "output_type": "execute_result"
    },
    {
     "data": {
      "text/plain": [
       "count = \t\n",
       "683\t\n"
      ]
     },
     "execution_count": 71,
     "metadata": {},
     "output_type": "execute_result"
    },
    {
     "data": {
      "text/plain": [
       "count = \t\n",
       "684\t\n"
      ]
     },
     "execution_count": 71,
     "metadata": {},
     "output_type": "execute_result"
    },
    {
     "data": {
      "text/plain": [
       "count = \t\n",
       "685\t\n"
      ]
     },
     "execution_count": 71,
     "metadata": {},
     "output_type": "execute_result"
    },
    {
     "data": {
      "text/plain": [
       "count = \t\n",
       "686\t\n"
      ]
     },
     "execution_count": 71,
     "metadata": {},
     "output_type": "execute_result"
    },
    {
     "data": {
      "text/plain": [
       "count = \t\n",
       "687\t\n"
      ]
     },
     "execution_count": 71,
     "metadata": {},
     "output_type": "execute_result"
    },
    {
     "data": {
      "text/plain": [
       "count = \t\n",
       "688\t\n"
      ]
     },
     "execution_count": 71,
     "metadata": {},
     "output_type": "execute_result"
    },
    {
     "data": {
      "text/plain": [
       "count = \t\n",
       "689\t\n"
      ]
     },
     "execution_count": 71,
     "metadata": {},
     "output_type": "execute_result"
    },
    {
     "data": {
      "text/plain": [
       "count = \t\n",
       "690\t\n"
      ]
     },
     "execution_count": 71,
     "metadata": {},
     "output_type": "execute_result"
    },
    {
     "data": {
      "text/plain": [
       "count = \t\n",
       "691\t\n"
      ]
     },
     "execution_count": 71,
     "metadata": {},
     "output_type": "execute_result"
    },
    {
     "data": {
      "text/plain": [
       "count = \t\n",
       "692\t\n"
      ]
     },
     "execution_count": 71,
     "metadata": {},
     "output_type": "execute_result"
    },
    {
     "data": {
      "text/plain": [
       "count = \t\n",
       "693\t\n"
      ]
     },
     "execution_count": 71,
     "metadata": {},
     "output_type": "execute_result"
    },
    {
     "data": {
      "text/plain": [
       "count = \t\n",
       "694\t\n"
      ]
     },
     "execution_count": 71,
     "metadata": {},
     "output_type": "execute_result"
    },
    {
     "data": {
      "text/plain": [
       "count = \t\n",
       "695\t\n"
      ]
     },
     "execution_count": 71,
     "metadata": {},
     "output_type": "execute_result"
    },
    {
     "data": {
      "text/plain": [
       "count = \t\n",
       "696\t\n"
      ]
     },
     "execution_count": 71,
     "metadata": {},
     "output_type": "execute_result"
    },
    {
     "data": {
      "text/plain": [
       "count = \t\n",
       "697\t\n"
      ]
     },
     "execution_count": 71,
     "metadata": {},
     "output_type": "execute_result"
    },
    {
     "data": {
      "text/plain": [
       "count = \t\n",
       "698\t\n"
      ]
     },
     "execution_count": 71,
     "metadata": {},
     "output_type": "execute_result"
    },
    {
     "data": {
      "text/plain": [
       "count = \t\n",
       "699\t\n"
      ]
     },
     "execution_count": 71,
     "metadata": {},
     "output_type": "execute_result"
    },
    {
     "data": {
      "text/plain": [
       "count = \t\n",
       "700\t\n"
      ]
     },
     "execution_count": 71,
     "metadata": {},
     "output_type": "execute_result"
    },
    {
     "data": {
      "text/plain": [
       "count = \t\n",
       "701\t\n"
      ]
     },
     "execution_count": 71,
     "metadata": {},
     "output_type": "execute_result"
    },
    {
     "data": {
      "text/plain": [
       "count = \t\n",
       "702\t\n"
      ]
     },
     "execution_count": 71,
     "metadata": {},
     "output_type": "execute_result"
    },
    {
     "data": {
      "text/plain": [
       "count = \t\n",
       "703\t\n"
      ]
     },
     "execution_count": 71,
     "metadata": {},
     "output_type": "execute_result"
    },
    {
     "data": {
      "text/plain": [
       "count = \t\n",
       "704\t\n"
      ]
     },
     "execution_count": 71,
     "metadata": {},
     "output_type": "execute_result"
    },
    {
     "data": {
      "text/plain": [
       "count = \t\n",
       "705\t\n"
      ]
     },
     "execution_count": 71,
     "metadata": {},
     "output_type": "execute_result"
    },
    {
     "data": {
      "text/plain": [
       "count = \t\n",
       "706\t\n"
      ]
     },
     "execution_count": 71,
     "metadata": {},
     "output_type": "execute_result"
    },
    {
     "data": {
      "text/plain": [
       "count = \t\n",
       "707\t\n"
      ]
     },
     "execution_count": 71,
     "metadata": {},
     "output_type": "execute_result"
    },
    {
     "data": {
      "text/plain": [
       "count = \t\n",
       "708\t\n"
      ]
     },
     "execution_count": 71,
     "metadata": {},
     "output_type": "execute_result"
    },
    {
     "data": {
      "text/plain": [
       "count = \t\n",
       "709\t\n"
      ]
     },
     "execution_count": 71,
     "metadata": {},
     "output_type": "execute_result"
    },
    {
     "data": {
      "text/plain": [
       "count = \t\n",
       "710\t\n"
      ]
     },
     "execution_count": 71,
     "metadata": {},
     "output_type": "execute_result"
    },
    {
     "data": {
      "text/plain": [
       "count = \t\n",
       "711\t\n"
      ]
     },
     "execution_count": 71,
     "metadata": {},
     "output_type": "execute_result"
    },
    {
     "data": {
      "text/plain": [
       "count = \t\n",
       "712\t\n"
      ]
     },
     "execution_count": 71,
     "metadata": {},
     "output_type": "execute_result"
    },
    {
     "data": {
      "text/plain": [
       "count = \t\n",
       "713\t\n"
      ]
     },
     "execution_count": 71,
     "metadata": {},
     "output_type": "execute_result"
    },
    {
     "data": {
      "text/plain": [
       "count = \t\n",
       "714\t\n"
      ]
     },
     "execution_count": 71,
     "metadata": {},
     "output_type": "execute_result"
    },
    {
     "data": {
      "text/plain": [
       "count = \t\n",
       "715\t\n"
      ]
     },
     "execution_count": 71,
     "metadata": {},
     "output_type": "execute_result"
    },
    {
     "data": {
      "text/plain": [
       "count = \t\n",
       "716\t\n"
      ]
     },
     "execution_count": 71,
     "metadata": {},
     "output_type": "execute_result"
    },
    {
     "data": {
      "text/plain": [
       "count = \t\n",
       "717\t\n"
      ]
     },
     "execution_count": 71,
     "metadata": {},
     "output_type": "execute_result"
    },
    {
     "data": {
      "text/plain": [
       "count = \t\n",
       "718\t\n"
      ]
     },
     "execution_count": 71,
     "metadata": {},
     "output_type": "execute_result"
    },
    {
     "data": {
      "text/plain": [
       "count = \t\n",
       "719\t\n"
      ]
     },
     "execution_count": 71,
     "metadata": {},
     "output_type": "execute_result"
    },
    {
     "data": {
      "text/plain": [
       "no\t\n"
      ]
     },
     "execution_count": 71,
     "metadata": {},
     "output_type": "execute_result"
    },
    {
     "data": {
      "text/plain": [
       "count = \t\n",
       "720\t\n"
      ]
     },
     "execution_count": 71,
     "metadata": {},
     "output_type": "execute_result"
    },
    {
     "data": {
      "text/plain": [
       "count = \t\n",
       "721\t\n"
      ]
     },
     "execution_count": 71,
     "metadata": {},
     "output_type": "execute_result"
    },
    {
     "data": {
      "text/plain": [
       "count = \t\n",
       "722\t\n"
      ]
     },
     "execution_count": 71,
     "metadata": {},
     "output_type": "execute_result"
    },
    {
     "data": {
      "text/plain": [
       "count = \t\n",
       "723\t\n"
      ]
     },
     "execution_count": 71,
     "metadata": {},
     "output_type": "execute_result"
    },
    {
     "data": {
      "text/plain": [
       "count = \t\n",
       "724\t\n"
      ]
     },
     "execution_count": 71,
     "metadata": {},
     "output_type": "execute_result"
    },
    {
     "data": {
      "text/plain": [
       "count = \t\n",
       "725\t\n"
      ]
     },
     "execution_count": 71,
     "metadata": {},
     "output_type": "execute_result"
    },
    {
     "data": {
      "text/plain": [
       "count = \t\n",
       "726\t\n"
      ]
     },
     "execution_count": 71,
     "metadata": {},
     "output_type": "execute_result"
    },
    {
     "data": {
      "text/plain": [
       "count = \t\n",
       "727\t\n"
      ]
     },
     "execution_count": 71,
     "metadata": {},
     "output_type": "execute_result"
    },
    {
     "data": {
      "text/plain": [
       "count = \t\n",
       "728\t\n"
      ]
     },
     "execution_count": 71,
     "metadata": {},
     "output_type": "execute_result"
    },
    {
     "data": {
      "text/plain": [
       "count = \t\n",
       "729\t\n"
      ]
     },
     "execution_count": 71,
     "metadata": {},
     "output_type": "execute_result"
    },
    {
     "data": {
      "text/plain": [
       "count = \t\n",
       "730\t\n"
      ]
     },
     "execution_count": 71,
     "metadata": {},
     "output_type": "execute_result"
    },
    {
     "data": {
      "text/plain": [
       "count = \t\n",
       "731\t\n"
      ]
     },
     "execution_count": 71,
     "metadata": {},
     "output_type": "execute_result"
    },
    {
     "data": {
      "text/plain": [
       "count = \t\n",
       "732\t\n"
      ]
     },
     "execution_count": 71,
     "metadata": {},
     "output_type": "execute_result"
    },
    {
     "data": {
      "text/plain": [
       "count = \t\n",
       "733\t\n"
      ]
     },
     "execution_count": 71,
     "metadata": {},
     "output_type": "execute_result"
    },
    {
     "data": {
      "text/plain": [
       "count = \t\n",
       "734\t\n"
      ]
     },
     "execution_count": 71,
     "metadata": {},
     "output_type": "execute_result"
    },
    {
     "data": {
      "text/plain": [
       "count = \t\n",
       "735\t\n"
      ]
     },
     "execution_count": 71,
     "metadata": {},
     "output_type": "execute_result"
    },
    {
     "data": {
      "text/plain": [
       "count = \t\n",
       "736\t\n"
      ]
     },
     "execution_count": 71,
     "metadata": {},
     "output_type": "execute_result"
    },
    {
     "data": {
      "text/plain": [
       "count = \t\n",
       "737\t\n"
      ]
     },
     "execution_count": 71,
     "metadata": {},
     "output_type": "execute_result"
    },
    {
     "data": {
      "text/plain": [
       "count = \t\n",
       "738\t\n"
      ]
     },
     "execution_count": 71,
     "metadata": {},
     "output_type": "execute_result"
    },
    {
     "data": {
      "text/plain": [
       "count = \t\n",
       "739\t\n"
      ]
     },
     "execution_count": 71,
     "metadata": {},
     "output_type": "execute_result"
    },
    {
     "data": {
      "text/plain": [
       "count = \t\n",
       "740\t\n"
      ]
     },
     "execution_count": 71,
     "metadata": {},
     "output_type": "execute_result"
    },
    {
     "data": {
      "text/plain": [
       "count = \t\n",
       "741\t\n"
      ]
     },
     "execution_count": 71,
     "metadata": {},
     "output_type": "execute_result"
    },
    {
     "data": {
      "text/plain": [
       "count = \t\n",
       "742\t\n"
      ]
     },
     "execution_count": 71,
     "metadata": {},
     "output_type": "execute_result"
    },
    {
     "data": {
      "text/plain": [
       "count = \t\n",
       "743\t\n"
      ]
     },
     "execution_count": 71,
     "metadata": {},
     "output_type": "execute_result"
    },
    {
     "data": {
      "text/plain": [
       "count = \t\n",
       "744\t\n"
      ]
     },
     "execution_count": 71,
     "metadata": {},
     "output_type": "execute_result"
    },
    {
     "data": {
      "text/plain": [
       "count = \t\n",
       "745\t\n"
      ]
     },
     "execution_count": 71,
     "metadata": {},
     "output_type": "execute_result"
    },
    {
     "data": {
      "text/plain": [
       "count = \t\n",
       "746\t\n"
      ]
     },
     "execution_count": 71,
     "metadata": {},
     "output_type": "execute_result"
    },
    {
     "data": {
      "text/plain": [
       "count = \t\n",
       "747\t\n"
      ]
     },
     "execution_count": 71,
     "metadata": {},
     "output_type": "execute_result"
    },
    {
     "data": {
      "text/plain": [
       "count = \t\n",
       "748\t\n"
      ]
     },
     "execution_count": 71,
     "metadata": {},
     "output_type": "execute_result"
    },
    {
     "data": {
      "text/plain": [
       "count = \t\n",
       "749\t\n"
      ]
     },
     "execution_count": 71,
     "metadata": {},
     "output_type": "execute_result"
    },
    {
     "data": {
      "text/plain": [
       "count = \t\n",
       "750\t\n"
      ]
     },
     "execution_count": 71,
     "metadata": {},
     "output_type": "execute_result"
    },
    {
     "data": {
      "text/plain": [
       "count = \t\n",
       "751\t\n"
      ]
     },
     "execution_count": 71,
     "metadata": {},
     "output_type": "execute_result"
    },
    {
     "data": {
      "text/plain": [
       "count = \t\n",
       "752\t\n"
      ]
     },
     "execution_count": 71,
     "metadata": {},
     "output_type": "execute_result"
    },
    {
     "data": {
      "text/plain": [
       "count = \t\n",
       "753\t\n"
      ]
     },
     "execution_count": 71,
     "metadata": {},
     "output_type": "execute_result"
    },
    {
     "data": {
      "text/plain": [
       "count = \t\n",
       "754\t\n"
      ]
     },
     "execution_count": 71,
     "metadata": {},
     "output_type": "execute_result"
    },
    {
     "data": {
      "text/plain": [
       "count = \t\n",
       "755\t\n"
      ]
     },
     "execution_count": 71,
     "metadata": {},
     "output_type": "execute_result"
    },
    {
     "data": {
      "text/plain": [
       "count = \t\n",
       "756\t\n"
      ]
     },
     "execution_count": 71,
     "metadata": {},
     "output_type": "execute_result"
    },
    {
     "data": {
      "text/plain": [
       "count = \t\n",
       "757\t\n"
      ]
     },
     "execution_count": 71,
     "metadata": {},
     "output_type": "execute_result"
    },
    {
     "data": {
      "text/plain": [
       "count = \t\n",
       "758\t\n"
      ]
     },
     "execution_count": 71,
     "metadata": {},
     "output_type": "execute_result"
    },
    {
     "data": {
      "text/plain": [
       "count = \t\n",
       "759\t\n"
      ]
     },
     "execution_count": 71,
     "metadata": {},
     "output_type": "execute_result"
    },
    {
     "data": {
      "text/plain": [
       "count = \t\n",
       "760\t\n"
      ]
     },
     "execution_count": 71,
     "metadata": {},
     "output_type": "execute_result"
    },
    {
     "data": {
      "text/plain": [
       "count = \t\n",
       "761\t\n"
      ]
     },
     "execution_count": 71,
     "metadata": {},
     "output_type": "execute_result"
    },
    {
     "data": {
      "text/plain": [
       "count = \t\n",
       "762\t\n"
      ]
     },
     "execution_count": 71,
     "metadata": {},
     "output_type": "execute_result"
    },
    {
     "data": {
      "text/plain": [
       "count = \t\n",
       "763\t\n"
      ]
     },
     "execution_count": 71,
     "metadata": {},
     "output_type": "execute_result"
    },
    {
     "data": {
      "text/plain": [
       "count = \t\n",
       "764\t\n"
      ]
     },
     "execution_count": 71,
     "metadata": {},
     "output_type": "execute_result"
    },
    {
     "data": {
      "text/plain": [
       "count = \t\n",
       "765\t\n"
      ]
     },
     "execution_count": 71,
     "metadata": {},
     "output_type": "execute_result"
    },
    {
     "data": {
      "text/plain": [
       "count = \t\n",
       "766\t\n"
      ]
     },
     "execution_count": 71,
     "metadata": {},
     "output_type": "execute_result"
    },
    {
     "data": {
      "text/plain": [
       "count = \t\n",
       "767\t\n"
      ]
     },
     "execution_count": 71,
     "metadata": {},
     "output_type": "execute_result"
    },
    {
     "data": {
      "text/plain": [
       "count = \t\n",
       "768\t\n",
       "count = \t\n",
       "769\t\n"
      ]
     },
     "execution_count": 71,
     "metadata": {},
     "output_type": "execute_result"
    },
    {
     "data": {
      "text/plain": [
       "count = \t\n",
       "770\t\n"
      ]
     },
     "execution_count": 71,
     "metadata": {},
     "output_type": "execute_result"
    },
    {
     "data": {
      "text/plain": [
       "count = \t"
      ]
     },
     "execution_count": 71,
     "metadata": {},
     "output_type": "execute_result"
    },
    {
     "data": {
      "text/plain": [
       "\n",
       "771\t\n"
      ]
     },
     "execution_count": 71,
     "metadata": {},
     "output_type": "execute_result"
    },
    {
     "data": {
      "text/plain": [
       "count = \t\n",
       "772\t\n"
      ]
     },
     "execution_count": 71,
     "metadata": {},
     "output_type": "execute_result"
    },
    {
     "data": {
      "text/plain": [
       "count = \t\n",
       "773\t\n"
      ]
     },
     "execution_count": 71,
     "metadata": {},
     "output_type": "execute_result"
    },
    {
     "data": {
      "text/plain": [
       "count = \t\n",
       "774\t\n"
      ]
     },
     "execution_count": 71,
     "metadata": {},
     "output_type": "execute_result"
    },
    {
     "data": {
      "text/plain": [
       "count = \t\n",
       "775\t\n"
      ]
     },
     "execution_count": 71,
     "metadata": {},
     "output_type": "execute_result"
    },
    {
     "data": {
      "text/plain": [
       "count = \t\n",
       "776\t\n"
      ]
     },
     "execution_count": 71,
     "metadata": {},
     "output_type": "execute_result"
    },
    {
     "data": {
      "text/plain": [
       "count = \t\n",
       "777\t\n"
      ]
     },
     "execution_count": 71,
     "metadata": {},
     "output_type": "execute_result"
    },
    {
     "data": {
      "text/plain": [
       "count = \t\n",
       "778\t\n"
      ]
     },
     "execution_count": 71,
     "metadata": {},
     "output_type": "execute_result"
    },
    {
     "data": {
      "text/plain": [
       "count = \t\n",
       "779\t\n"
      ]
     },
     "execution_count": 71,
     "metadata": {},
     "output_type": "execute_result"
    },
    {
     "data": {
      "text/plain": [
       "count = \t\n",
       "780\t\n"
      ]
     },
     "execution_count": 71,
     "metadata": {},
     "output_type": "execute_result"
    },
    {
     "data": {
      "text/plain": [
       "count = \t\n",
       "781\t\n"
      ]
     },
     "execution_count": 71,
     "metadata": {},
     "output_type": "execute_result"
    },
    {
     "data": {
      "text/plain": [
       "count = \t\n",
       "782\t\n"
      ]
     },
     "execution_count": 71,
     "metadata": {},
     "output_type": "execute_result"
    },
    {
     "data": {
      "text/plain": [
       "count = \t\n",
       "783\t\n"
      ]
     },
     "execution_count": 71,
     "metadata": {},
     "output_type": "execute_result"
    },
    {
     "data": {
      "text/plain": [
       "count = \t\n",
       "784\t\n"
      ]
     },
     "execution_count": 71,
     "metadata": {},
     "output_type": "execute_result"
    },
    {
     "data": {
      "text/plain": [
       "count = \t\n",
       "785\t\n"
      ]
     },
     "execution_count": 71,
     "metadata": {},
     "output_type": "execute_result"
    },
    {
     "data": {
      "text/plain": [
       "count = \t\n",
       "786\t\n"
      ]
     },
     "execution_count": 71,
     "metadata": {},
     "output_type": "execute_result"
    },
    {
     "data": {
      "text/plain": [
       "count = \t\n",
       "787\t\n"
      ]
     },
     "execution_count": 71,
     "metadata": {},
     "output_type": "execute_result"
    },
    {
     "data": {
      "text/plain": [
       "count = \t\n",
       "788\t\n"
      ]
     },
     "execution_count": 71,
     "metadata": {},
     "output_type": "execute_result"
    },
    {
     "data": {
      "text/plain": [
       "count = \t\n",
       "789\t\n"
      ]
     },
     "execution_count": 71,
     "metadata": {},
     "output_type": "execute_result"
    },
    {
     "data": {
      "text/plain": [
       "count = \t\n",
       "790\t\n"
      ]
     },
     "execution_count": 71,
     "metadata": {},
     "output_type": "execute_result"
    },
    {
     "data": {
      "text/plain": [
       "count = \t\n",
       "791\t\n"
      ]
     },
     "execution_count": 71,
     "metadata": {},
     "output_type": "execute_result"
    },
    {
     "data": {
      "text/plain": [
       "count = \t\n",
       "792\t\n"
      ]
     },
     "execution_count": 71,
     "metadata": {},
     "output_type": "execute_result"
    },
    {
     "data": {
      "text/plain": [
       "count = \t\n"
      ]
     },
     "execution_count": 71,
     "metadata": {},
     "output_type": "execute_result"
    },
    {
     "data": {
      "text/plain": [
       "793\t\n"
      ]
     },
     "execution_count": 71,
     "metadata": {},
     "output_type": "execute_result"
    },
    {
     "data": {
      "text/plain": [
       "count = \t\n",
       "794\t\n"
      ]
     },
     "execution_count": 71,
     "metadata": {},
     "output_type": "execute_result"
    },
    {
     "data": {
      "text/plain": [
       "count = \t\n",
       "795\t\n"
      ]
     },
     "execution_count": 71,
     "metadata": {},
     "output_type": "execute_result"
    },
    {
     "data": {
      "text/plain": [
       "count = \t\n",
       "796\t\n"
      ]
     },
     "execution_count": 71,
     "metadata": {},
     "output_type": "execute_result"
    },
    {
     "data": {
      "text/plain": [
       "count = \t\n",
       "797\t\n"
      ]
     },
     "execution_count": 71,
     "metadata": {},
     "output_type": "execute_result"
    },
    {
     "data": {
      "text/plain": [
       "count = \t\n",
       "798\t\n"
      ]
     },
     "execution_count": 71,
     "metadata": {},
     "output_type": "execute_result"
    },
    {
     "data": {
      "text/plain": [
       "count = \t\n",
       "799\t\n"
      ]
     },
     "execution_count": 71,
     "metadata": {},
     "output_type": "execute_result"
    },
    {
     "data": {
      "text/plain": [
       "count = \t\n",
       "800\t\n"
      ]
     },
     "execution_count": 71,
     "metadata": {},
     "output_type": "execute_result"
    },
    {
     "data": {
      "text/plain": [
       "count = \t\n",
       "801\t\n"
      ]
     },
     "execution_count": 71,
     "metadata": {},
     "output_type": "execute_result"
    },
    {
     "data": {
      "text/plain": [
       "count = \t\n",
       "802\t\n"
      ]
     },
     "execution_count": 71,
     "metadata": {},
     "output_type": "execute_result"
    },
    {
     "data": {
      "text/plain": [
       "count = \t"
      ]
     },
     "execution_count": 71,
     "metadata": {},
     "output_type": "execute_result"
    },
    {
     "data": {
      "text/plain": [
       "\n",
       "803\t\n"
      ]
     },
     "execution_count": 71,
     "metadata": {},
     "output_type": "execute_result"
    },
    {
     "data": {
      "text/plain": [
       "count = \t\n",
       "804\t\n"
      ]
     },
     "execution_count": 71,
     "metadata": {},
     "output_type": "execute_result"
    },
    {
     "data": {
      "text/plain": [
       "no\t\n"
      ]
     },
     "execution_count": 71,
     "metadata": {},
     "output_type": "execute_result"
    },
    {
     "data": {
      "text/plain": [
       "count = \t\n",
       "805\t\n"
      ]
     },
     "execution_count": 71,
     "metadata": {},
     "output_type": "execute_result"
    },
    {
     "data": {
      "text/plain": [
       "count = \t\n",
       "806\t\n"
      ]
     },
     "execution_count": 71,
     "metadata": {},
     "output_type": "execute_result"
    },
    {
     "data": {
      "text/plain": [
       "count = \t\n",
       "807\t\n"
      ]
     },
     "execution_count": 71,
     "metadata": {},
     "output_type": "execute_result"
    },
    {
     "data": {
      "text/plain": [
       "count = \t\n",
       "808\t\n"
      ]
     },
     "execution_count": 71,
     "metadata": {},
     "output_type": "execute_result"
    },
    {
     "data": {
      "text/plain": [
       "count = \t\n",
       "809\t\n"
      ]
     },
     "execution_count": 71,
     "metadata": {},
     "output_type": "execute_result"
    },
    {
     "data": {
      "text/plain": [
       "count = \t\n",
       "810\t\n"
      ]
     },
     "execution_count": 71,
     "metadata": {},
     "output_type": "execute_result"
    },
    {
     "data": {
      "text/plain": [
       "count = \t\n",
       "811\t\n"
      ]
     },
     "execution_count": 71,
     "metadata": {},
     "output_type": "execute_result"
    },
    {
     "data": {
      "text/plain": [
       "count = \t\n",
       "812\t\n"
      ]
     },
     "execution_count": 71,
     "metadata": {},
     "output_type": "execute_result"
    },
    {
     "data": {
      "text/plain": [
       "count = \t\n",
       "813\t\n"
      ]
     },
     "execution_count": 71,
     "metadata": {},
     "output_type": "execute_result"
    },
    {
     "data": {
      "text/plain": [
       "count = \t\n",
       "814\t\n"
      ]
     },
     "execution_count": 71,
     "metadata": {},
     "output_type": "execute_result"
    },
    {
     "data": {
      "text/plain": [
       "count = \t\n",
       "815\t\n"
      ]
     },
     "execution_count": 71,
     "metadata": {},
     "output_type": "execute_result"
    },
    {
     "data": {
      "text/plain": [
       "count = \t\n",
       "816\t\n"
      ]
     },
     "execution_count": 71,
     "metadata": {},
     "output_type": "execute_result"
    },
    {
     "data": {
      "text/plain": [
       "count = \t\n",
       "817\t\n"
      ]
     },
     "execution_count": 71,
     "metadata": {},
     "output_type": "execute_result"
    },
    {
     "data": {
      "text/plain": [
       "count = \t\n",
       "818\t\n"
      ]
     },
     "execution_count": 71,
     "metadata": {},
     "output_type": "execute_result"
    },
    {
     "data": {
      "text/plain": [
       "count = \t\n",
       "819\t\n"
      ]
     },
     "execution_count": 71,
     "metadata": {},
     "output_type": "execute_result"
    },
    {
     "data": {
      "text/plain": [
       "count = \t\n",
       "820\t\n"
      ]
     },
     "execution_count": 71,
     "metadata": {},
     "output_type": "execute_result"
    },
    {
     "data": {
      "text/plain": [
       "count = \t\n",
       "821\t\n"
      ]
     },
     "execution_count": 71,
     "metadata": {},
     "output_type": "execute_result"
    },
    {
     "data": {
      "text/plain": [
       "count = \t\n",
       "822\t\n"
      ]
     },
     "execution_count": 71,
     "metadata": {},
     "output_type": "execute_result"
    },
    {
     "data": {
      "text/plain": [
       "count = \t\n",
       "823\t\n"
      ]
     },
     "execution_count": 71,
     "metadata": {},
     "output_type": "execute_result"
    },
    {
     "data": {
      "text/plain": [
       "count = \t\n",
       "824\t\n"
      ]
     },
     "execution_count": 71,
     "metadata": {},
     "output_type": "execute_result"
    },
    {
     "data": {
      "text/plain": [
       "count = \t\n",
       "825\t\n"
      ]
     },
     "execution_count": 71,
     "metadata": {},
     "output_type": "execute_result"
    },
    {
     "data": {
      "text/plain": [
       "count = \t\n",
       "826\t\n"
      ]
     },
     "execution_count": 71,
     "metadata": {},
     "output_type": "execute_result"
    },
    {
     "data": {
      "text/plain": [
       "count = \t\n",
       "827\t\n"
      ]
     },
     "execution_count": 71,
     "metadata": {},
     "output_type": "execute_result"
    },
    {
     "data": {
      "text/plain": [
       "count = \t\n",
       "828\t\n"
      ]
     },
     "execution_count": 71,
     "metadata": {},
     "output_type": "execute_result"
    },
    {
     "data": {
      "text/plain": [
       "count = \t\n",
       "829\t\n"
      ]
     },
     "execution_count": 71,
     "metadata": {},
     "output_type": "execute_result"
    },
    {
     "data": {
      "text/plain": [
       "count = \t\n",
       "830\t\n"
      ]
     },
     "execution_count": 71,
     "metadata": {},
     "output_type": "execute_result"
    },
    {
     "data": {
      "text/plain": [
       "count = \t\n",
       "831\t\n"
      ]
     },
     "execution_count": 71,
     "metadata": {},
     "output_type": "execute_result"
    },
    {
     "data": {
      "text/plain": [
       "count = \t\n",
       "832\t\n"
      ]
     },
     "execution_count": 71,
     "metadata": {},
     "output_type": "execute_result"
    },
    {
     "data": {
      "text/plain": [
       "count = \t\n",
       "833\t\n"
      ]
     },
     "execution_count": 71,
     "metadata": {},
     "output_type": "execute_result"
    },
    {
     "data": {
      "text/plain": [
       "count = \t\n",
       "834\t\n",
       "count = \t\n",
       "835\t\n"
      ]
     },
     "execution_count": 71,
     "metadata": {},
     "output_type": "execute_result"
    },
    {
     "data": {
      "text/plain": [
       "count = \t\n",
       "836\t\n"
      ]
     },
     "execution_count": 71,
     "metadata": {},
     "output_type": "execute_result"
    },
    {
     "data": {
      "text/plain": [
       "count = \t\n",
       "837\t\n"
      ]
     },
     "execution_count": 71,
     "metadata": {},
     "output_type": "execute_result"
    },
    {
     "data": {
      "text/plain": [
       "count = \t\n",
       "838\t\n"
      ]
     },
     "execution_count": 71,
     "metadata": {},
     "output_type": "execute_result"
    },
    {
     "data": {
      "text/plain": [
       "count = \t\n",
       "839\t\n"
      ]
     },
     "execution_count": 71,
     "metadata": {},
     "output_type": "execute_result"
    },
    {
     "data": {
      "text/plain": [
       "count = \t\n",
       "840\t\n"
      ]
     },
     "execution_count": 71,
     "metadata": {},
     "output_type": "execute_result"
    },
    {
     "data": {
      "text/plain": [
       "count = \t\n",
       "841\t\n"
      ]
     },
     "execution_count": 71,
     "metadata": {},
     "output_type": "execute_result"
    },
    {
     "data": {
      "text/plain": [
       "count = \t\n",
       "842\t\n"
      ]
     },
     "execution_count": 71,
     "metadata": {},
     "output_type": "execute_result"
    },
    {
     "data": {
      "text/plain": [
       "count = \t\n",
       "843\t\n"
      ]
     },
     "execution_count": 71,
     "metadata": {},
     "output_type": "execute_result"
    },
    {
     "data": {
      "text/plain": [
       "count = \t\n",
       "844\t\n"
      ]
     },
     "execution_count": 71,
     "metadata": {},
     "output_type": "execute_result"
    },
    {
     "data": {
      "text/plain": [
       "count = \t\n",
       "845\t\n"
      ]
     },
     "execution_count": 71,
     "metadata": {},
     "output_type": "execute_result"
    },
    {
     "data": {
      "text/plain": [
       "count = \t\n",
       "846\t\n"
      ]
     },
     "execution_count": 71,
     "metadata": {},
     "output_type": "execute_result"
    },
    {
     "data": {
      "text/plain": [
       "count = \t\n",
       "847\t\n"
      ]
     },
     "execution_count": 71,
     "metadata": {},
     "output_type": "execute_result"
    },
    {
     "data": {
      "text/plain": [
       "count = \t\n",
       "848\t\n"
      ]
     },
     "execution_count": 71,
     "metadata": {},
     "output_type": "execute_result"
    },
    {
     "data": {
      "text/plain": [
       "count = \t\n",
       "849\t\n"
      ]
     },
     "execution_count": 71,
     "metadata": {},
     "output_type": "execute_result"
    },
    {
     "data": {
      "text/plain": [
       "count = \t\n",
       "850\t\n"
      ]
     },
     "execution_count": 71,
     "metadata": {},
     "output_type": "execute_result"
    },
    {
     "data": {
      "text/plain": [
       "count = \t\n",
       "851\t\n"
      ]
     },
     "execution_count": 71,
     "metadata": {},
     "output_type": "execute_result"
    },
    {
     "data": {
      "text/plain": [
       "count = \t\n",
       "852\t\n"
      ]
     },
     "execution_count": 71,
     "metadata": {},
     "output_type": "execute_result"
    },
    {
     "data": {
      "text/plain": [
       "no\t\n"
      ]
     },
     "execution_count": 71,
     "metadata": {},
     "output_type": "execute_result"
    },
    {
     "data": {
      "text/plain": [
       "count = \t\n",
       "853\t\n"
      ]
     },
     "execution_count": 71,
     "metadata": {},
     "output_type": "execute_result"
    },
    {
     "data": {
      "text/plain": [
       "count = \t\n"
      ]
     },
     "execution_count": 71,
     "metadata": {},
     "output_type": "execute_result"
    },
    {
     "data": {
      "text/plain": [
       "854\t\n"
      ]
     },
     "execution_count": 71,
     "metadata": {},
     "output_type": "execute_result"
    },
    {
     "data": {
      "text/plain": [
       "count = \t\n",
       "855\t\n"
      ]
     },
     "execution_count": 71,
     "metadata": {},
     "output_type": "execute_result"
    },
    {
     "data": {
      "text/plain": [
       "count = \t\n",
       "856\t\n",
       "count = \t\n",
       "857\t\n"
      ]
     },
     "execution_count": 71,
     "metadata": {},
     "output_type": "execute_result"
    },
    {
     "data": {
      "text/plain": [
       "count = \t\n",
       "858\t\n"
      ]
     },
     "execution_count": 71,
     "metadata": {},
     "output_type": "execute_result"
    },
    {
     "data": {
      "text/plain": [
       "count = \t\n",
       "859\t\n"
      ]
     },
     "execution_count": 71,
     "metadata": {},
     "output_type": "execute_result"
    },
    {
     "data": {
      "text/plain": [
       "count = \t\n",
       "860\t\n"
      ]
     },
     "execution_count": 71,
     "metadata": {},
     "output_type": "execute_result"
    },
    {
     "data": {
      "text/plain": [
       "count = \t\n",
       "861\t\n"
      ]
     },
     "execution_count": 71,
     "metadata": {},
     "output_type": "execute_result"
    },
    {
     "data": {
      "text/plain": [
       "count = \t\n",
       "862\t\n"
      ]
     },
     "execution_count": 71,
     "metadata": {},
     "output_type": "execute_result"
    },
    {
     "data": {
      "text/plain": [
       "count = \t\n",
       "863\t\n"
      ]
     },
     "execution_count": 71,
     "metadata": {},
     "output_type": "execute_result"
    },
    {
     "data": {
      "text/plain": [
       "count = \t\n",
       "864\t\n"
      ]
     },
     "execution_count": 71,
     "metadata": {},
     "output_type": "execute_result"
    },
    {
     "data": {
      "text/plain": [
       "count = \t\n",
       "865\t\n"
      ]
     },
     "execution_count": 71,
     "metadata": {},
     "output_type": "execute_result"
    },
    {
     "data": {
      "text/plain": [
       "count = \t\n",
       "866\t\n"
      ]
     },
     "execution_count": 71,
     "metadata": {},
     "output_type": "execute_result"
    },
    {
     "data": {
      "text/plain": [
       "count = \t\n",
       "867\t\n"
      ]
     },
     "execution_count": 71,
     "metadata": {},
     "output_type": "execute_result"
    },
    {
     "data": {
      "text/plain": [
       "count = \t\n",
       "868\t\n"
      ]
     },
     "execution_count": 71,
     "metadata": {},
     "output_type": "execute_result"
    },
    {
     "data": {
      "text/plain": [
       "count = \t\n",
       "869\t\n"
      ]
     },
     "execution_count": 71,
     "metadata": {},
     "output_type": "execute_result"
    },
    {
     "data": {
      "text/plain": [
       "no\t\n"
      ]
     },
     "execution_count": 71,
     "metadata": {},
     "output_type": "execute_result"
    },
    {
     "data": {
      "text/plain": [
       "count = \t\n",
       "870\t\n"
      ]
     },
     "execution_count": 71,
     "metadata": {},
     "output_type": "execute_result"
    },
    {
     "data": {
      "text/plain": [
       "no\t\n"
      ]
     },
     "execution_count": 71,
     "metadata": {},
     "output_type": "execute_result"
    },
    {
     "data": {
      "text/plain": [
       "count = \t\n",
       "871\t\n"
      ]
     },
     "execution_count": 71,
     "metadata": {},
     "output_type": "execute_result"
    },
    {
     "data": {
      "text/plain": [
       "count = \t\n",
       "872\t\n"
      ]
     },
     "execution_count": 71,
     "metadata": {},
     "output_type": "execute_result"
    },
    {
     "data": {
      "text/plain": [
       "count = \t\n",
       "873\t\n"
      ]
     },
     "execution_count": 71,
     "metadata": {},
     "output_type": "execute_result"
    },
    {
     "data": {
      "text/plain": [
       "count = \t\n",
       "874\t\n"
      ]
     },
     "execution_count": 71,
     "metadata": {},
     "output_type": "execute_result"
    },
    {
     "data": {
      "text/plain": [
       "count = \t\n",
       "875\t\n"
      ]
     },
     "execution_count": 71,
     "metadata": {},
     "output_type": "execute_result"
    },
    {
     "data": {
      "text/plain": [
       "count = \t\n",
       "876\t\n"
      ]
     },
     "execution_count": 71,
     "metadata": {},
     "output_type": "execute_result"
    },
    {
     "data": {
      "text/plain": [
       "count = \t\n",
       "877\t\n"
      ]
     },
     "execution_count": 71,
     "metadata": {},
     "output_type": "execute_result"
    },
    {
     "data": {
      "text/plain": [
       "count = \t\n",
       "878\t\n"
      ]
     },
     "execution_count": 71,
     "metadata": {},
     "output_type": "execute_result"
    },
    {
     "data": {
      "text/plain": [
       "count = \t\n",
       "879\t\n"
      ]
     },
     "execution_count": 71,
     "metadata": {},
     "output_type": "execute_result"
    },
    {
     "data": {
      "text/plain": [
       "count = \t\n",
       "880\t\n"
      ]
     },
     "execution_count": 71,
     "metadata": {},
     "output_type": "execute_result"
    },
    {
     "data": {
      "text/plain": [
       "count = \t\n",
       "881\t\n"
      ]
     },
     "execution_count": 71,
     "metadata": {},
     "output_type": "execute_result"
    },
    {
     "data": {
      "text/plain": [
       "count = \t\n",
       "882\t\n"
      ]
     },
     "execution_count": 71,
     "metadata": {},
     "output_type": "execute_result"
    },
    {
     "data": {
      "text/plain": [
       "count = \t\n",
       "883\t\n"
      ]
     },
     "execution_count": 71,
     "metadata": {},
     "output_type": "execute_result"
    },
    {
     "data": {
      "text/plain": [
       "count = \t\n",
       "884\t\n"
      ]
     },
     "execution_count": 71,
     "metadata": {},
     "output_type": "execute_result"
    },
    {
     "data": {
      "text/plain": [
       "count = \t\n",
       "885\t\n"
      ]
     },
     "execution_count": 71,
     "metadata": {},
     "output_type": "execute_result"
    },
    {
     "data": {
      "text/plain": [
       "count = \t\n",
       "886\t\n"
      ]
     },
     "execution_count": 71,
     "metadata": {},
     "output_type": "execute_result"
    },
    {
     "data": {
      "text/plain": [
       "count = \t\n",
       "887\t\n"
      ]
     },
     "execution_count": 71,
     "metadata": {},
     "output_type": "execute_result"
    },
    {
     "data": {
      "text/plain": [
       "count = \t\n",
       "888\t\n"
      ]
     },
     "execution_count": 71,
     "metadata": {},
     "output_type": "execute_result"
    },
    {
     "data": {
      "text/plain": [
       "count = \t\n",
       "889\t\n"
      ]
     },
     "execution_count": 71,
     "metadata": {},
     "output_type": "execute_result"
    },
    {
     "data": {
      "text/plain": [
       "count = \t\n",
       "890\t\n"
      ]
     },
     "execution_count": 71,
     "metadata": {},
     "output_type": "execute_result"
    },
    {
     "data": {
      "text/plain": [
       "count = \t\n",
       "891\t\n"
      ]
     },
     "execution_count": 71,
     "metadata": {},
     "output_type": "execute_result"
    },
    {
     "data": {
      "text/plain": [
       "count = \t\n",
       "892\t\n"
      ]
     },
     "execution_count": 71,
     "metadata": {},
     "output_type": "execute_result"
    },
    {
     "data": {
      "text/plain": [
       "count = \t\n",
       "893\t\n"
      ]
     },
     "execution_count": 71,
     "metadata": {},
     "output_type": "execute_result"
    },
    {
     "data": {
      "text/plain": [
       "count = \t\n",
       "894\t\n"
      ]
     },
     "execution_count": 71,
     "metadata": {},
     "output_type": "execute_result"
    },
    {
     "data": {
      "text/plain": [
       "count = \t\n",
       "895\t\n"
      ]
     },
     "execution_count": 71,
     "metadata": {},
     "output_type": "execute_result"
    },
    {
     "data": {
      "text/plain": [
       "count = \t\n",
       "896\t\n"
      ]
     },
     "execution_count": 71,
     "metadata": {},
     "output_type": "execute_result"
    },
    {
     "data": {
      "text/plain": [
       "count = \t\n",
       "897\t\n"
      ]
     },
     "execution_count": 71,
     "metadata": {},
     "output_type": "execute_result"
    },
    {
     "data": {
      "text/plain": [
       "count = \t\n",
       "898\t\n"
      ]
     },
     "execution_count": 71,
     "metadata": {},
     "output_type": "execute_result"
    },
    {
     "data": {
      "text/plain": [
       "count = \t\n",
       "899\t\n"
      ]
     },
     "execution_count": 71,
     "metadata": {},
     "output_type": "execute_result"
    },
    {
     "data": {
      "text/plain": [
       "count = \t\n",
       "900\t\n"
      ]
     },
     "execution_count": 71,
     "metadata": {},
     "output_type": "execute_result"
    },
    {
     "data": {
      "text/plain": [
       "count = \t\n",
       "901\t\n"
      ]
     },
     "execution_count": 71,
     "metadata": {},
     "output_type": "execute_result"
    },
    {
     "data": {
      "text/plain": [
       "count = \t\n",
       "902\t\n"
      ]
     },
     "execution_count": 71,
     "metadata": {},
     "output_type": "execute_result"
    },
    {
     "data": {
      "text/plain": [
       "count = \t\n",
       "903\t\n"
      ]
     },
     "execution_count": 71,
     "metadata": {},
     "output_type": "execute_result"
    },
    {
     "data": {
      "text/plain": [
       "count = \t\n",
       "904\t\n"
      ]
     },
     "execution_count": 71,
     "metadata": {},
     "output_type": "execute_result"
    },
    {
     "data": {
      "text/plain": [
       "count = \t\n",
       "905\t\n"
      ]
     },
     "execution_count": 71,
     "metadata": {},
     "output_type": "execute_result"
    },
    {
     "data": {
      "text/plain": [
       "count = \t\n",
       "906\t\n"
      ]
     },
     "execution_count": 71,
     "metadata": {},
     "output_type": "execute_result"
    },
    {
     "data": {
      "text/plain": [
       "count = \t\n",
       "907\t\n"
      ]
     },
     "execution_count": 71,
     "metadata": {},
     "output_type": "execute_result"
    },
    {
     "data": {
      "text/plain": [
       "count = \t\n",
       "908\t\n"
      ]
     },
     "execution_count": 71,
     "metadata": {},
     "output_type": "execute_result"
    },
    {
     "data": {
      "text/plain": [
       "count = \t\n",
       "909\t\n"
      ]
     },
     "execution_count": 71,
     "metadata": {},
     "output_type": "execute_result"
    },
    {
     "data": {
      "text/plain": [
       "count = \t\n",
       "910\t\n"
      ]
     },
     "execution_count": 71,
     "metadata": {},
     "output_type": "execute_result"
    },
    {
     "data": {
      "text/plain": [
       "count = \t\n",
       "911\t\n"
      ]
     },
     "execution_count": 71,
     "metadata": {},
     "output_type": "execute_result"
    },
    {
     "data": {
      "text/plain": [
       "count = \t\n",
       "912\t\n"
      ]
     },
     "execution_count": 71,
     "metadata": {},
     "output_type": "execute_result"
    },
    {
     "data": {
      "text/plain": [
       "count = \t\n",
       "913\t"
      ]
     },
     "execution_count": 71,
     "metadata": {},
     "output_type": "execute_result"
    },
    {
     "data": {
      "text/plain": [
       "\n"
      ]
     },
     "execution_count": 71,
     "metadata": {},
     "output_type": "execute_result"
    },
    {
     "data": {
      "text/plain": [
       "count = \t\n",
       "914\t\n"
      ]
     },
     "execution_count": 71,
     "metadata": {},
     "output_type": "execute_result"
    },
    {
     "data": {
      "text/plain": [
       "count = \t\n",
       "915\t\n"
      ]
     },
     "execution_count": 71,
     "metadata": {},
     "output_type": "execute_result"
    },
    {
     "data": {
      "text/plain": [
       "count = \t\n",
       "916\t\n"
      ]
     },
     "execution_count": 71,
     "metadata": {},
     "output_type": "execute_result"
    },
    {
     "data": {
      "text/plain": [
       "count = \t\n",
       "917\t\n"
      ]
     },
     "execution_count": 71,
     "metadata": {},
     "output_type": "execute_result"
    },
    {
     "data": {
      "text/plain": [
       "count = \t\n",
       "918\t\n"
      ]
     },
     "execution_count": 71,
     "metadata": {},
     "output_type": "execute_result"
    },
    {
     "data": {
      "text/plain": [
       "count = \t\n",
       "919\t\n"
      ]
     },
     "execution_count": 71,
     "metadata": {},
     "output_type": "execute_result"
    },
    {
     "data": {
      "text/plain": [
       "count = \t\n",
       "920\t\n"
      ]
     },
     "execution_count": 71,
     "metadata": {},
     "output_type": "execute_result"
    },
    {
     "data": {
      "text/plain": [
       "count = \t\n",
       "921\t\n"
      ]
     },
     "execution_count": 71,
     "metadata": {},
     "output_type": "execute_result"
    },
    {
     "data": {
      "text/plain": [
       "count = \t\n",
       "922\t\n"
      ]
     },
     "execution_count": 71,
     "metadata": {},
     "output_type": "execute_result"
    },
    {
     "data": {
      "text/plain": [
       "count = \t\n",
       "923\t\n"
      ]
     },
     "execution_count": 71,
     "metadata": {},
     "output_type": "execute_result"
    },
    {
     "data": {
      "text/plain": [
       "count = \t\n",
       "924\t\n"
      ]
     },
     "execution_count": 71,
     "metadata": {},
     "output_type": "execute_result"
    },
    {
     "data": {
      "text/plain": [
       "count = \t\n",
       "925\t\n"
      ]
     },
     "execution_count": 71,
     "metadata": {},
     "output_type": "execute_result"
    },
    {
     "data": {
      "text/plain": [
       "count = \t\n",
       "926\t\n"
      ]
     },
     "execution_count": 71,
     "metadata": {},
     "output_type": "execute_result"
    },
    {
     "data": {
      "text/plain": [
       "count = \t\n",
       "927\t\n"
      ]
     },
     "execution_count": 71,
     "metadata": {},
     "output_type": "execute_result"
    },
    {
     "data": {
      "text/plain": [
       "count = \t\n",
       "928\t\n"
      ]
     },
     "execution_count": 71,
     "metadata": {},
     "output_type": "execute_result"
    },
    {
     "data": {
      "text/plain": [
       "count = \t\n",
       "929\t\n"
      ]
     },
     "execution_count": 71,
     "metadata": {},
     "output_type": "execute_result"
    },
    {
     "data": {
      "text/plain": [
       "count = \t\n",
       "930\t\n"
      ]
     },
     "execution_count": 71,
     "metadata": {},
     "output_type": "execute_result"
    },
    {
     "data": {
      "text/plain": [
       "count = \t\n",
       "931\t\n"
      ]
     },
     "execution_count": 71,
     "metadata": {},
     "output_type": "execute_result"
    },
    {
     "data": {
      "text/plain": [
       "count = \t\n",
       "932\t\n"
      ]
     },
     "execution_count": 71,
     "metadata": {},
     "output_type": "execute_result"
    },
    {
     "data": {
      "text/plain": [
       "count = \t\n",
       "933\t\n"
      ]
     },
     "execution_count": 71,
     "metadata": {},
     "output_type": "execute_result"
    },
    {
     "data": {
      "text/plain": [
       "count = \t\n",
       "934\t\n"
      ]
     },
     "execution_count": 71,
     "metadata": {},
     "output_type": "execute_result"
    },
    {
     "data": {
      "text/plain": [
       "count = \t\n",
       "935\t\n"
      ]
     },
     "execution_count": 71,
     "metadata": {},
     "output_type": "execute_result"
    },
    {
     "data": {
      "text/plain": [
       "count = \t\n",
       "936\t\n"
      ]
     },
     "execution_count": 71,
     "metadata": {},
     "output_type": "execute_result"
    },
    {
     "data": {
      "text/plain": [
       "count = \t\n",
       "937\t\n"
      ]
     },
     "execution_count": 71,
     "metadata": {},
     "output_type": "execute_result"
    },
    {
     "data": {
      "text/plain": [
       "count = \t\n",
       "938\t\n"
      ]
     },
     "execution_count": 71,
     "metadata": {},
     "output_type": "execute_result"
    },
    {
     "data": {
      "text/plain": [
       "count = \t\n",
       "939\t\n"
      ]
     },
     "execution_count": 71,
     "metadata": {},
     "output_type": "execute_result"
    },
    {
     "data": {
      "text/plain": [
       "count = \t\n",
       "940\t\n"
      ]
     },
     "execution_count": 71,
     "metadata": {},
     "output_type": "execute_result"
    },
    {
     "data": {
      "text/plain": [
       "count = \t\n",
       "941\t\n"
      ]
     },
     "execution_count": 71,
     "metadata": {},
     "output_type": "execute_result"
    },
    {
     "data": {
      "text/plain": [
       "count = \t\n",
       "942\t\n"
      ]
     },
     "execution_count": 71,
     "metadata": {},
     "output_type": "execute_result"
    },
    {
     "data": {
      "text/plain": [
       "count = \t\n",
       "943\t\n"
      ]
     },
     "execution_count": 71,
     "metadata": {},
     "output_type": "execute_result"
    },
    {
     "data": {
      "text/plain": [
       "count = \t\n",
       "944\t\n"
      ]
     },
     "execution_count": 71,
     "metadata": {},
     "output_type": "execute_result"
    },
    {
     "data": {
      "text/plain": [
       "count = \t\n",
       "945\t\n"
      ]
     },
     "execution_count": 71,
     "metadata": {},
     "output_type": "execute_result"
    },
    {
     "data": {
      "text/plain": [
       "count = \t\n",
       "946\t\n"
      ]
     },
     "execution_count": 71,
     "metadata": {},
     "output_type": "execute_result"
    },
    {
     "data": {
      "text/plain": [
       "count = \t\n",
       "947\t\n"
      ]
     },
     "execution_count": 71,
     "metadata": {},
     "output_type": "execute_result"
    },
    {
     "data": {
      "text/plain": [
       "count = \t\n",
       "948\t\n"
      ]
     },
     "execution_count": 71,
     "metadata": {},
     "output_type": "execute_result"
    },
    {
     "data": {
      "text/plain": [
       "count = \t\n",
       "949\t\n"
      ]
     },
     "execution_count": 71,
     "metadata": {},
     "output_type": "execute_result"
    },
    {
     "data": {
      "text/plain": [
       "count = \t\n"
      ]
     },
     "execution_count": 71,
     "metadata": {},
     "output_type": "execute_result"
    },
    {
     "data": {
      "text/plain": [
       "950\t\n"
      ]
     },
     "execution_count": 71,
     "metadata": {},
     "output_type": "execute_result"
    },
    {
     "data": {
      "text/plain": [
       "count = \t\n",
       "951\t\n"
      ]
     },
     "execution_count": 71,
     "metadata": {},
     "output_type": "execute_result"
    },
    {
     "data": {
      "text/plain": [
       "count = \t\n",
       "952\t\n"
      ]
     },
     "execution_count": 71,
     "metadata": {},
     "output_type": "execute_result"
    },
    {
     "data": {
      "text/plain": [
       "count = \t\n",
       "953\t\n"
      ]
     },
     "execution_count": 71,
     "metadata": {},
     "output_type": "execute_result"
    },
    {
     "data": {
      "text/plain": [
       "count = \t\n",
       "954\t\n"
      ]
     },
     "execution_count": 71,
     "metadata": {},
     "output_type": "execute_result"
    },
    {
     "data": {
      "text/plain": [
       "count = \t\n",
       "955\t\n"
      ]
     },
     "execution_count": 71,
     "metadata": {},
     "output_type": "execute_result"
    },
    {
     "data": {
      "text/plain": [
       "count = \t\n",
       "956\t\n"
      ]
     },
     "execution_count": 71,
     "metadata": {},
     "output_type": "execute_result"
    },
    {
     "data": {
      "text/plain": [
       "count = \t\n",
       "957\t\n"
      ]
     },
     "execution_count": 71,
     "metadata": {},
     "output_type": "execute_result"
    },
    {
     "data": {
      "text/plain": [
       "count = \t\n",
       "958\t\n"
      ]
     },
     "execution_count": 71,
     "metadata": {},
     "output_type": "execute_result"
    },
    {
     "data": {
      "text/plain": [
       "count = \t\n",
       "959\t\n"
      ]
     },
     "execution_count": 71,
     "metadata": {},
     "output_type": "execute_result"
    },
    {
     "data": {
      "text/plain": [
       "count = \t\n",
       "960\t\n"
      ]
     },
     "execution_count": 71,
     "metadata": {},
     "output_type": "execute_result"
    },
    {
     "data": {
      "text/plain": [
       "count = \t\n",
       "961\t\n"
      ]
     },
     "execution_count": 71,
     "metadata": {},
     "output_type": "execute_result"
    },
    {
     "data": {
      "text/plain": [
       "count = \t\n",
       "962\t\n"
      ]
     },
     "execution_count": 71,
     "metadata": {},
     "output_type": "execute_result"
    },
    {
     "data": {
      "text/plain": [
       "count = \t\n",
       "963\t\n"
      ]
     },
     "execution_count": 71,
     "metadata": {},
     "output_type": "execute_result"
    },
    {
     "data": {
      "text/plain": [
       "count = \t\n",
       "964\t\n"
      ]
     },
     "execution_count": 71,
     "metadata": {},
     "output_type": "execute_result"
    },
    {
     "data": {
      "text/plain": [
       "count = \t\n",
       "965\t\n"
      ]
     },
     "execution_count": 71,
     "metadata": {},
     "output_type": "execute_result"
    },
    {
     "data": {
      "text/plain": [
       "count = \t\n",
       "966\t\n"
      ]
     },
     "execution_count": 71,
     "metadata": {},
     "output_type": "execute_result"
    },
    {
     "data": {
      "text/plain": [
       "count = \t\n",
       "967\t\n"
      ]
     },
     "execution_count": 71,
     "metadata": {},
     "output_type": "execute_result"
    },
    {
     "data": {
      "text/plain": [
       "count = \t\n",
       "968\t\n"
      ]
     },
     "execution_count": 71,
     "metadata": {},
     "output_type": "execute_result"
    },
    {
     "data": {
      "text/plain": [
       "count = \t\n",
       "969\t\n"
      ]
     },
     "execution_count": 71,
     "metadata": {},
     "output_type": "execute_result"
    },
    {
     "data": {
      "text/plain": [
       "count = \t\n",
       "970\t\n"
      ]
     },
     "execution_count": 71,
     "metadata": {},
     "output_type": "execute_result"
    },
    {
     "data": {
      "text/plain": [
       "count = \t\n",
       "971\t\n"
      ]
     },
     "execution_count": 71,
     "metadata": {},
     "output_type": "execute_result"
    },
    {
     "data": {
      "text/plain": [
       "count = \t\n",
       "972\t\n"
      ]
     },
     "execution_count": 71,
     "metadata": {},
     "output_type": "execute_result"
    },
    {
     "data": {
      "text/plain": [
       "count = \t\n",
       "973\t\n"
      ]
     },
     "execution_count": 71,
     "metadata": {},
     "output_type": "execute_result"
    },
    {
     "data": {
      "text/plain": [
       "count = \t\n",
       "974\t\n"
      ]
     },
     "execution_count": 71,
     "metadata": {},
     "output_type": "execute_result"
    },
    {
     "data": {
      "text/plain": [
       "count = \t\n",
       "975\t\n"
      ]
     },
     "execution_count": 71,
     "metadata": {},
     "output_type": "execute_result"
    },
    {
     "data": {
      "text/plain": [
       "count = \t\n",
       "976\t\n"
      ]
     },
     "execution_count": 71,
     "metadata": {},
     "output_type": "execute_result"
    },
    {
     "data": {
      "text/plain": [
       "count = \t\n",
       "977\t\n"
      ]
     },
     "execution_count": 71,
     "metadata": {},
     "output_type": "execute_result"
    },
    {
     "data": {
      "text/plain": [
       "count = \t\n",
       "978\t\n"
      ]
     },
     "execution_count": 71,
     "metadata": {},
     "output_type": "execute_result"
    },
    {
     "data": {
      "text/plain": [
       "count = \t\n",
       "979\t\n"
      ]
     },
     "execution_count": 71,
     "metadata": {},
     "output_type": "execute_result"
    },
    {
     "data": {
      "text/plain": [
       "count = \t\n",
       "980\t\n"
      ]
     },
     "execution_count": 71,
     "metadata": {},
     "output_type": "execute_result"
    },
    {
     "data": {
      "text/plain": [
       "count = \t\n"
      ]
     },
     "execution_count": 71,
     "metadata": {},
     "output_type": "execute_result"
    },
    {
     "data": {
      "text/plain": [
       "981\t\n"
      ]
     },
     "execution_count": 71,
     "metadata": {},
     "output_type": "execute_result"
    },
    {
     "data": {
      "text/plain": [
       "count = \t\n",
       "982\t\n"
      ]
     },
     "execution_count": 71,
     "metadata": {},
     "output_type": "execute_result"
    },
    {
     "data": {
      "text/plain": [
       "count = \t\n",
       "983\t\n"
      ]
     },
     "execution_count": 71,
     "metadata": {},
     "output_type": "execute_result"
    },
    {
     "data": {
      "text/plain": [
       "count = \t\n",
       "984\t\n"
      ]
     },
     "execution_count": 71,
     "metadata": {},
     "output_type": "execute_result"
    },
    {
     "data": {
      "text/plain": [
       "count = \t\n",
       "985\t\n"
      ]
     },
     "execution_count": 71,
     "metadata": {},
     "output_type": "execute_result"
    },
    {
     "data": {
      "text/plain": [
       "count = \t\n",
       "986\t\n"
      ]
     },
     "execution_count": 71,
     "metadata": {},
     "output_type": "execute_result"
    },
    {
     "data": {
      "text/plain": [
       "count = \t\n",
       "987\t\n"
      ]
     },
     "execution_count": 71,
     "metadata": {},
     "output_type": "execute_result"
    },
    {
     "data": {
      "text/plain": [
       "count = \t\n",
       "988\t\n"
      ]
     },
     "execution_count": 71,
     "metadata": {},
     "output_type": "execute_result"
    },
    {
     "data": {
      "text/plain": [
       "count = \t\n",
       "989\t\n"
      ]
     },
     "execution_count": 71,
     "metadata": {},
     "output_type": "execute_result"
    },
    {
     "data": {
      "text/plain": [
       "count = \t\n",
       "990\t\n"
      ]
     },
     "execution_count": 71,
     "metadata": {},
     "output_type": "execute_result"
    },
    {
     "data": {
      "text/plain": [
       "count = \t\n",
       "991\t\n"
      ]
     },
     "execution_count": 71,
     "metadata": {},
     "output_type": "execute_result"
    },
    {
     "data": {
      "text/plain": [
       "count = \t\n",
       "992\t\n"
      ]
     },
     "execution_count": 71,
     "metadata": {},
     "output_type": "execute_result"
    },
    {
     "data": {
      "text/plain": [
       "count = \t\n",
       "993\t\n"
      ]
     },
     "execution_count": 71,
     "metadata": {},
     "output_type": "execute_result"
    },
    {
     "data": {
      "text/plain": [
       "count = \t\n",
       "994\t\n"
      ]
     },
     "execution_count": 71,
     "metadata": {},
     "output_type": "execute_result"
    },
    {
     "data": {
      "text/plain": [
       "count = \t\n",
       "995\t\n"
      ]
     },
     "execution_count": 71,
     "metadata": {},
     "output_type": "execute_result"
    },
    {
     "data": {
      "text/plain": [
       "no\t\n"
      ]
     },
     "execution_count": 71,
     "metadata": {},
     "output_type": "execute_result"
    },
    {
     "data": {
      "text/plain": [
       "count = \t\n",
       "996\t\n"
      ]
     },
     "execution_count": 71,
     "metadata": {},
     "output_type": "execute_result"
    },
    {
     "data": {
      "text/plain": [
       "count = \t\n",
       "997\t\n"
      ]
     },
     "execution_count": 71,
     "metadata": {},
     "output_type": "execute_result"
    },
    {
     "data": {
      "text/plain": [
       "count = \t\n",
       "998\t\n"
      ]
     },
     "execution_count": 71,
     "metadata": {},
     "output_type": "execute_result"
    },
    {
     "data": {
      "text/plain": [
       "count = \t\n",
       "999\t\n"
      ]
     },
     "execution_count": 71,
     "metadata": {},
     "output_type": "execute_result"
    },
    {
     "data": {
      "text/plain": [
       "count = \t\n",
       "1000\t\n"
      ]
     },
     "execution_count": 71,
     "metadata": {},
     "output_type": "execute_result"
    },
    {
     "data": {
      "text/plain": [
       "count = \t\n",
       "1001\t\n"
      ]
     },
     "execution_count": 71,
     "metadata": {},
     "output_type": "execute_result"
    },
    {
     "data": {
      "text/plain": [
       "count = \t\n",
       "1002\t\n"
      ]
     },
     "execution_count": 71,
     "metadata": {},
     "output_type": "execute_result"
    },
    {
     "data": {
      "text/plain": [
       "count = \t\n",
       "1003\t\n"
      ]
     },
     "execution_count": 71,
     "metadata": {},
     "output_type": "execute_result"
    },
    {
     "data": {
      "text/plain": [
       "count = \t\n",
       "1004\t\n"
      ]
     },
     "execution_count": 71,
     "metadata": {},
     "output_type": "execute_result"
    },
    {
     "data": {
      "text/plain": [
       "count = \t\n",
       "1005\t\n"
      ]
     },
     "execution_count": 71,
     "metadata": {},
     "output_type": "execute_result"
    },
    {
     "data": {
      "text/plain": [
       "count = \t\n",
       "1006\t\n"
      ]
     },
     "execution_count": 71,
     "metadata": {},
     "output_type": "execute_result"
    },
    {
     "data": {
      "text/plain": [
       "count = \t\n",
       "1007\t\n"
      ]
     },
     "execution_count": 71,
     "metadata": {},
     "output_type": "execute_result"
    },
    {
     "data": {
      "text/plain": [
       "count = \t\n",
       "1008\t\n"
      ]
     },
     "execution_count": 71,
     "metadata": {},
     "output_type": "execute_result"
    },
    {
     "data": {
      "text/plain": [
       "count = \t\n",
       "1009\t\n"
      ]
     },
     "execution_count": 71,
     "metadata": {},
     "output_type": "execute_result"
    },
    {
     "data": {
      "text/plain": [
       "count = \t\n",
       "1010\t\n"
      ]
     },
     "execution_count": 71,
     "metadata": {},
     "output_type": "execute_result"
    },
    {
     "data": {
      "text/plain": [
       "count = \t\n",
       "1011\t\n"
      ]
     },
     "execution_count": 71,
     "metadata": {},
     "output_type": "execute_result"
    },
    {
     "data": {
      "text/plain": [
       "count = \t\n",
       "1012\t\n"
      ]
     },
     "execution_count": 71,
     "metadata": {},
     "output_type": "execute_result"
    },
    {
     "data": {
      "text/plain": [
       "count = \t\n",
       "1013\t\n"
      ]
     },
     "execution_count": 71,
     "metadata": {},
     "output_type": "execute_result"
    },
    {
     "data": {
      "text/plain": [
       "count = \t\n",
       "1014\t\n"
      ]
     },
     "execution_count": 71,
     "metadata": {},
     "output_type": "execute_result"
    },
    {
     "data": {
      "text/plain": [
       "count = \t\n",
       "1015\t\n"
      ]
     },
     "execution_count": 71,
     "metadata": {},
     "output_type": "execute_result"
    },
    {
     "data": {
      "text/plain": [
       "count = \t\n",
       "1016\t\n"
      ]
     },
     "execution_count": 71,
     "metadata": {},
     "output_type": "execute_result"
    },
    {
     "data": {
      "text/plain": [
       "count = \t\n",
       "1017\t\n"
      ]
     },
     "execution_count": 71,
     "metadata": {},
     "output_type": "execute_result"
    },
    {
     "data": {
      "text/plain": [
       "count = \t\n",
       "1018\t\n"
      ]
     },
     "execution_count": 71,
     "metadata": {},
     "output_type": "execute_result"
    },
    {
     "data": {
      "text/plain": [
       "count = \t\n",
       "1019\t\n"
      ]
     },
     "execution_count": 71,
     "metadata": {},
     "output_type": "execute_result"
    },
    {
     "data": {
      "text/plain": [
       "count = \t\n",
       "1020\t\n"
      ]
     },
     "execution_count": 71,
     "metadata": {},
     "output_type": "execute_result"
    },
    {
     "data": {
      "text/plain": [
       "count = \t\n",
       "1021\t\n"
      ]
     },
     "execution_count": 71,
     "metadata": {},
     "output_type": "execute_result"
    },
    {
     "data": {
      "text/plain": [
       "count = \t\n",
       "1022\t\n"
      ]
     },
     "execution_count": 71,
     "metadata": {},
     "output_type": "execute_result"
    },
    {
     "data": {
      "text/plain": [
       "count = \t\n",
       "1023\t\n"
      ]
     },
     "execution_count": 71,
     "metadata": {},
     "output_type": "execute_result"
    },
    {
     "data": {
      "text/plain": [
       "count = \t\n",
       "1024\t\n"
      ]
     },
     "execution_count": 71,
     "metadata": {},
     "output_type": "execute_result"
    },
    {
     "data": {
      "text/plain": [
       "count = \t\n",
       "1025\t\n"
      ]
     },
     "execution_count": 71,
     "metadata": {},
     "output_type": "execute_result"
    },
    {
     "data": {
      "text/plain": [
       "count = \t\n",
       "1026\t\n"
      ]
     },
     "execution_count": 71,
     "metadata": {},
     "output_type": "execute_result"
    },
    {
     "data": {
      "text/plain": [
       "count = \t\n",
       "1027\t\n"
      ]
     },
     "execution_count": 71,
     "metadata": {},
     "output_type": "execute_result"
    },
    {
     "data": {
      "text/plain": [
       "count = \t\n",
       "1028\t\n"
      ]
     },
     "execution_count": 71,
     "metadata": {},
     "output_type": "execute_result"
    },
    {
     "data": {
      "text/plain": [
       "count = \t\n",
       "1029\t\n"
      ]
     },
     "execution_count": 71,
     "metadata": {},
     "output_type": "execute_result"
    },
    {
     "name": "stdout",
     "output_type": "stream",
     "text": [
      "\r",
      " [======================================>...............................................]                               \b\b\b\b\b\b\b\b\b\b\b\b\b\b\b\b\b\b\b\b\b\b\b\b\b\b\b\b\b\b ETA: 5m58s | Step: 290ms\b\b\b\b\b\b\b\b\b\b\b\b\b\b\b\b\b\b\b\b\b\b\b\b\b\b\b\b\b\b\b\b\b\b\b\b\b\b\b\b\b\b\b\b\b\b\b\b\b\b\b\b\b\b\b\b\b\b\b\b\b\b\b\b\b\b\b\b\b\b\b\b\b "
     ]
    },
    {
     "data": {
      "text/plain": [
       "count = \t\n",
       "1030\t\n"
      ]
     },
     "execution_count": 71,
     "metadata": {},
     "output_type": "execute_result"
    },
    {
     "data": {
      "text/plain": [
       "count = \t\n",
       "1031\t\n",
       "count = \t\n",
       "1032\t\n"
      ]
     },
     "execution_count": 71,
     "metadata": {},
     "output_type": "execute_result"
    },
    {
     "data": {
      "text/plain": [
       "count = \t\n",
       "1033\t\n"
      ]
     },
     "execution_count": 71,
     "metadata": {},
     "output_type": "execute_result"
    },
    {
     "data": {
      "text/plain": [
       "count = \t\n",
       "1034\t\n"
      ]
     },
     "execution_count": 71,
     "metadata": {},
     "output_type": "execute_result"
    },
    {
     "data": {
      "text/plain": [
       "count = \t\n",
       "1035\t\n"
      ]
     },
     "execution_count": 71,
     "metadata": {},
     "output_type": "execute_result"
    },
    {
     "data": {
      "text/plain": [
       "count = \t\n",
       "1036\t\n"
      ]
     },
     "execution_count": 71,
     "metadata": {},
     "output_type": "execute_result"
    },
    {
     "data": {
      "text/plain": [
       "count = \t\n",
       "1037\t\n"
      ]
     },
     "execution_count": 71,
     "metadata": {},
     "output_type": "execute_result"
    },
    {
     "data": {
      "text/plain": [
       "count = \t\n",
       "1038\t\n"
      ]
     },
     "execution_count": 71,
     "metadata": {},
     "output_type": "execute_result"
    },
    {
     "data": {
      "text/plain": [
       "count = \t\n",
       "1039\t\n"
      ]
     },
     "execution_count": 71,
     "metadata": {},
     "output_type": "execute_result"
    },
    {
     "data": {
      "text/plain": [
       "count = \t\n",
       "1040\t\n"
      ]
     },
     "execution_count": 71,
     "metadata": {},
     "output_type": "execute_result"
    },
    {
     "data": {
      "text/plain": [
       "count = \t\n",
       "1041\t\n"
      ]
     },
     "execution_count": 71,
     "metadata": {},
     "output_type": "execute_result"
    },
    {
     "data": {
      "text/plain": [
       "count = \t\n",
       "1042\t\n",
       "count = \t\n",
       "1043\t\n"
      ]
     },
     "execution_count": 71,
     "metadata": {},
     "output_type": "execute_result"
    },
    {
     "data": {
      "text/plain": [
       "count = \t\n",
       "1044\t\n"
      ]
     },
     "execution_count": 71,
     "metadata": {},
     "output_type": "execute_result"
    },
    {
     "data": {
      "text/plain": [
       "count = \t\n",
       "1045\t\n"
      ]
     },
     "execution_count": 71,
     "metadata": {},
     "output_type": "execute_result"
    },
    {
     "data": {
      "text/plain": [
       "count = \t\n",
       "1046\t\n"
      ]
     },
     "execution_count": 71,
     "metadata": {},
     "output_type": "execute_result"
    },
    {
     "data": {
      "text/plain": [
       "count = \t\n",
       "1047\t\n"
      ]
     },
     "execution_count": 71,
     "metadata": {},
     "output_type": "execute_result"
    },
    {
     "data": {
      "text/plain": [
       "count = \t\n",
       "1048\t\n"
      ]
     },
     "execution_count": 71,
     "metadata": {},
     "output_type": "execute_result"
    },
    {
     "data": {
      "text/plain": [
       "count = \t\n",
       "1049\t\n"
      ]
     },
     "execution_count": 71,
     "metadata": {},
     "output_type": "execute_result"
    },
    {
     "data": {
      "text/plain": [
       "count = \t\n",
       "1050\t\n"
      ]
     },
     "execution_count": 71,
     "metadata": {},
     "output_type": "execute_result"
    },
    {
     "data": {
      "text/plain": [
       "count = \t\n",
       "1051\t\n"
      ]
     },
     "execution_count": 71,
     "metadata": {},
     "output_type": "execute_result"
    },
    {
     "data": {
      "text/plain": [
       "count = \t\n",
       "1052\t\n"
      ]
     },
     "execution_count": 71,
     "metadata": {},
     "output_type": "execute_result"
    },
    {
     "data": {
      "text/plain": [
       "count = \t\n",
       "1053\t\n"
      ]
     },
     "execution_count": 71,
     "metadata": {},
     "output_type": "execute_result"
    },
    {
     "data": {
      "text/plain": [
       "count = \t\n",
       "1054\t\n"
      ]
     },
     "execution_count": 71,
     "metadata": {},
     "output_type": "execute_result"
    },
    {
     "data": {
      "text/plain": [
       "count = \t\n",
       "1055\t\n"
      ]
     },
     "execution_count": 71,
     "metadata": {},
     "output_type": "execute_result"
    },
    {
     "data": {
      "text/plain": [
       "count = \t\n",
       "1056\t\n"
      ]
     },
     "execution_count": 71,
     "metadata": {},
     "output_type": "execute_result"
    },
    {
     "data": {
      "text/plain": [
       "no\t\n"
      ]
     },
     "execution_count": 71,
     "metadata": {},
     "output_type": "execute_result"
    },
    {
     "data": {
      "text/plain": [
       "count = \t\n",
       "1057\t\n"
      ]
     },
     "execution_count": 71,
     "metadata": {},
     "output_type": "execute_result"
    },
    {
     "data": {
      "text/plain": [
       "count = \t\n",
       "1058\t\n"
      ]
     },
     "execution_count": 71,
     "metadata": {},
     "output_type": "execute_result"
    },
    {
     "data": {
      "text/plain": [
       "count = \t\n",
       "1059\t\n"
      ]
     },
     "execution_count": 71,
     "metadata": {},
     "output_type": "execute_result"
    },
    {
     "data": {
      "text/plain": [
       "count = \t\n",
       "1060\t\n"
      ]
     },
     "execution_count": 71,
     "metadata": {},
     "output_type": "execute_result"
    },
    {
     "data": {
      "text/plain": [
       "count = \t\n",
       "1061\t\n"
      ]
     },
     "execution_count": 71,
     "metadata": {},
     "output_type": "execute_result"
    },
    {
     "data": {
      "text/plain": [
       "count = \t\n",
       "1062\t\n"
      ]
     },
     "execution_count": 71,
     "metadata": {},
     "output_type": "execute_result"
    },
    {
     "data": {
      "text/plain": [
       "count = \t\n",
       "1063\t\n"
      ]
     },
     "execution_count": 71,
     "metadata": {},
     "output_type": "execute_result"
    },
    {
     "data": {
      "text/plain": [
       "count = \t\n",
       "1064\t\n"
      ]
     },
     "execution_count": 71,
     "metadata": {},
     "output_type": "execute_result"
    },
    {
     "data": {
      "text/plain": [
       "count = \t\n",
       "1065\t\n"
      ]
     },
     "execution_count": 71,
     "metadata": {},
     "output_type": "execute_result"
    },
    {
     "data": {
      "text/plain": [
       "count = \t\n",
       "1066\t\n"
      ]
     },
     "execution_count": 71,
     "metadata": {},
     "output_type": "execute_result"
    },
    {
     "data": {
      "text/plain": [
       "count = \t\n",
       "1067\t\n"
      ]
     },
     "execution_count": 71,
     "metadata": {},
     "output_type": "execute_result"
    },
    {
     "data": {
      "text/plain": [
       "count = \t\n",
       "1068\t\n"
      ]
     },
     "execution_count": 71,
     "metadata": {},
     "output_type": "execute_result"
    },
    {
     "data": {
      "text/plain": [
       "count = \t\n",
       "1069\t\n"
      ]
     },
     "execution_count": 71,
     "metadata": {},
     "output_type": "execute_result"
    },
    {
     "data": {
      "text/plain": [
       "count = \t\n",
       "1070\t\n"
      ]
     },
     "execution_count": 71,
     "metadata": {},
     "output_type": "execute_result"
    },
    {
     "data": {
      "text/plain": [
       "count = \t\n",
       "1071\t\n"
      ]
     },
     "execution_count": 71,
     "metadata": {},
     "output_type": "execute_result"
    },
    {
     "data": {
      "text/plain": [
       "count = \t\n",
       "1072\t\n"
      ]
     },
     "execution_count": 71,
     "metadata": {},
     "output_type": "execute_result"
    },
    {
     "data": {
      "text/plain": [
       "count = \t\n",
       "1073\t\n"
      ]
     },
     "execution_count": 71,
     "metadata": {},
     "output_type": "execute_result"
    },
    {
     "data": {
      "text/plain": [
       "count = \t\n",
       "1074\t\n"
      ]
     },
     "execution_count": 71,
     "metadata": {},
     "output_type": "execute_result"
    },
    {
     "data": {
      "text/plain": [
       "count = \t\n",
       "1075\t\n"
      ]
     },
     "execution_count": 71,
     "metadata": {},
     "output_type": "execute_result"
    },
    {
     "data": {
      "text/plain": [
       "count = \t\n",
       "1076\t\n"
      ]
     },
     "execution_count": 71,
     "metadata": {},
     "output_type": "execute_result"
    },
    {
     "data": {
      "text/plain": [
       "count = \t\n",
       "1077\t\n"
      ]
     },
     "execution_count": 71,
     "metadata": {},
     "output_type": "execute_result"
    },
    {
     "data": {
      "text/plain": [
       "count = \t\n",
       "1078\t\n"
      ]
     },
     "execution_count": 71,
     "metadata": {},
     "output_type": "execute_result"
    },
    {
     "data": {
      "text/plain": [
       "count = \t\n",
       "1079\t\n"
      ]
     },
     "execution_count": 71,
     "metadata": {},
     "output_type": "execute_result"
    },
    {
     "data": {
      "text/plain": [
       "count = \t\n",
       "1080\t\n"
      ]
     },
     "execution_count": 71,
     "metadata": {},
     "output_type": "execute_result"
    },
    {
     "data": {
      "text/plain": [
       "no\t\n"
      ]
     },
     "execution_count": 71,
     "metadata": {},
     "output_type": "execute_result"
    },
    {
     "data": {
      "text/plain": [
       "count = \t\n",
       "1081\t\n"
      ]
     },
     "execution_count": 71,
     "metadata": {},
     "output_type": "execute_result"
    },
    {
     "data": {
      "text/plain": [
       "count = \t\n",
       "1082\t\n"
      ]
     },
     "execution_count": 71,
     "metadata": {},
     "output_type": "execute_result"
    },
    {
     "data": {
      "text/plain": [
       "count = \t\n",
       "1083\t\n"
      ]
     },
     "execution_count": 71,
     "metadata": {},
     "output_type": "execute_result"
    },
    {
     "data": {
      "text/plain": [
       "count = \t\n",
       "1084\t\n"
      ]
     },
     "execution_count": 71,
     "metadata": {},
     "output_type": "execute_result"
    },
    {
     "data": {
      "text/plain": [
       "count = \t\n",
       "1085\t\n"
      ]
     },
     "execution_count": 71,
     "metadata": {},
     "output_type": "execute_result"
    },
    {
     "data": {
      "text/plain": [
       "count = \t\n",
       "1086\t\n"
      ]
     },
     "execution_count": 71,
     "metadata": {},
     "output_type": "execute_result"
    },
    {
     "data": {
      "text/plain": [
       "count = \t\n",
       "1087\t\n"
      ]
     },
     "execution_count": 71,
     "metadata": {},
     "output_type": "execute_result"
    },
    {
     "data": {
      "text/plain": [
       "count = \t\n",
       "1088\t\n",
       "count = \t\n",
       "1089\t\n"
      ]
     },
     "execution_count": 71,
     "metadata": {},
     "output_type": "execute_result"
    },
    {
     "data": {
      "text/plain": [
       "count = \t\n",
       "1090\t\n"
      ]
     },
     "execution_count": 71,
     "metadata": {},
     "output_type": "execute_result"
    },
    {
     "data": {
      "text/plain": [
       "count = \t\n",
       "1091\t\n"
      ]
     },
     "execution_count": 71,
     "metadata": {},
     "output_type": "execute_result"
    },
    {
     "data": {
      "text/plain": [
       "count = \t\n",
       "1092\t\n"
      ]
     },
     "execution_count": 71,
     "metadata": {},
     "output_type": "execute_result"
    },
    {
     "data": {
      "text/plain": [
       "count = \t\n",
       "1093\t\n"
      ]
     },
     "execution_count": 71,
     "metadata": {},
     "output_type": "execute_result"
    },
    {
     "data": {
      "text/plain": [
       "count = \t\n",
       "1094\t\n"
      ]
     },
     "execution_count": 71,
     "metadata": {},
     "output_type": "execute_result"
    },
    {
     "data": {
      "text/plain": [
       "count = \t\n",
       "1095\t\n"
      ]
     },
     "execution_count": 71,
     "metadata": {},
     "output_type": "execute_result"
    },
    {
     "data": {
      "text/plain": [
       "count = \t\n",
       "1096\t\n"
      ]
     },
     "execution_count": 71,
     "metadata": {},
     "output_type": "execute_result"
    },
    {
     "data": {
      "text/plain": [
       "count = \t\n",
       "1097\t\n"
      ]
     },
     "execution_count": 71,
     "metadata": {},
     "output_type": "execute_result"
    },
    {
     "data": {
      "text/plain": [
       "count = \t\n",
       "1098\t\n"
      ]
     },
     "execution_count": 71,
     "metadata": {},
     "output_type": "execute_result"
    },
    {
     "data": {
      "text/plain": [
       "count = \t\n",
       "1099\t\n"
      ]
     },
     "execution_count": 71,
     "metadata": {},
     "output_type": "execute_result"
    },
    {
     "data": {
      "text/plain": [
       "count = \t\n",
       "1100\t\n"
      ]
     },
     "execution_count": 71,
     "metadata": {},
     "output_type": "execute_result"
    },
    {
     "data": {
      "text/plain": [
       "count = \t\n",
       "1101\t\n"
      ]
     },
     "execution_count": 71,
     "metadata": {},
     "output_type": "execute_result"
    },
    {
     "data": {
      "text/plain": [
       "count = \t\n",
       "1102\t\n"
      ]
     },
     "execution_count": 71,
     "metadata": {},
     "output_type": "execute_result"
    },
    {
     "data": {
      "text/plain": [
       "count = \t\n",
       "1103\t\n"
      ]
     },
     "execution_count": 71,
     "metadata": {},
     "output_type": "execute_result"
    },
    {
     "data": {
      "text/plain": [
       "count = \t\n",
       "1104\t\n"
      ]
     },
     "execution_count": 71,
     "metadata": {},
     "output_type": "execute_result"
    },
    {
     "data": {
      "text/plain": [
       "no\t\n",
       "count = \t\n",
       "1105\t\n"
      ]
     },
     "execution_count": 71,
     "metadata": {},
     "output_type": "execute_result"
    },
    {
     "data": {
      "text/plain": [
       "count = \t\n",
       "1106\t\n"
      ]
     },
     "execution_count": 71,
     "metadata": {},
     "output_type": "execute_result"
    },
    {
     "data": {
      "text/plain": [
       "count = \t\n",
       "1107\t\n"
      ]
     },
     "execution_count": 71,
     "metadata": {},
     "output_type": "execute_result"
    },
    {
     "data": {
      "text/plain": [
       "count = \t\n",
       "1108\t\n"
      ]
     },
     "execution_count": 71,
     "metadata": {},
     "output_type": "execute_result"
    },
    {
     "data": {
      "text/plain": [
       "count = \t\n",
       "1109\t\n"
      ]
     },
     "execution_count": 71,
     "metadata": {},
     "output_type": "execute_result"
    },
    {
     "data": {
      "text/plain": [
       "count = \t\n",
       "1110\t\n"
      ]
     },
     "execution_count": 71,
     "metadata": {},
     "output_type": "execute_result"
    },
    {
     "data": {
      "text/plain": [
       "count = \t\n",
       "1111\t\n"
      ]
     },
     "execution_count": 71,
     "metadata": {},
     "output_type": "execute_result"
    },
    {
     "data": {
      "text/plain": [
       "no\t\n"
      ]
     },
     "execution_count": 71,
     "metadata": {},
     "output_type": "execute_result"
    },
    {
     "data": {
      "text/plain": [
       "count = \t\n",
       "1112\t\n"
      ]
     },
     "execution_count": 71,
     "metadata": {},
     "output_type": "execute_result"
    },
    {
     "data": {
      "text/plain": [
       "count = \t\n",
       "1113\t\n"
      ]
     },
     "execution_count": 71,
     "metadata": {},
     "output_type": "execute_result"
    },
    {
     "data": {
      "text/plain": [
       "count = \t\n",
       "1114\t\n",
       "count = \t\n",
       "1115\t\n"
      ]
     },
     "execution_count": 71,
     "metadata": {},
     "output_type": "execute_result"
    },
    {
     "data": {
      "text/plain": [
       "count = \t\n",
       "1116\t\n"
      ]
     },
     "execution_count": 71,
     "metadata": {},
     "output_type": "execute_result"
    },
    {
     "data": {
      "text/plain": [
       "count = \t\n",
       "1117\t\n"
      ]
     },
     "execution_count": 71,
     "metadata": {},
     "output_type": "execute_result"
    },
    {
     "data": {
      "text/plain": [
       "count = \t\n",
       "1118\t\n"
      ]
     },
     "execution_count": 71,
     "metadata": {},
     "output_type": "execute_result"
    },
    {
     "data": {
      "text/plain": [
       "count = \t\n",
       "1119\t\n"
      ]
     },
     "execution_count": 71,
     "metadata": {},
     "output_type": "execute_result"
    },
    {
     "data": {
      "text/plain": [
       "count = \t\n",
       "1120\t\n"
      ]
     },
     "execution_count": 71,
     "metadata": {},
     "output_type": "execute_result"
    },
    {
     "data": {
      "text/plain": [
       "count = \t\n",
       "1121\t\n"
      ]
     },
     "execution_count": 71,
     "metadata": {},
     "output_type": "execute_result"
    },
    {
     "data": {
      "text/plain": [
       "count = \t\n",
       "1122\t\n"
      ]
     },
     "execution_count": 71,
     "metadata": {},
     "output_type": "execute_result"
    },
    {
     "data": {
      "text/plain": [
       "count = \t\n",
       "1123\t\n"
      ]
     },
     "execution_count": 71,
     "metadata": {},
     "output_type": "execute_result"
    },
    {
     "data": {
      "text/plain": [
       "count = \t\n",
       "1124\t\n"
      ]
     },
     "execution_count": 71,
     "metadata": {},
     "output_type": "execute_result"
    },
    {
     "data": {
      "text/plain": [
       "count = \t\n",
       "1125\t\n"
      ]
     },
     "execution_count": 71,
     "metadata": {},
     "output_type": "execute_result"
    },
    {
     "data": {
      "text/plain": [
       "count = \t\n",
       "1126\t\n"
      ]
     },
     "execution_count": 71,
     "metadata": {},
     "output_type": "execute_result"
    },
    {
     "data": {
      "text/plain": [
       "count = \t\n",
       "1127\t\n"
      ]
     },
     "execution_count": 71,
     "metadata": {},
     "output_type": "execute_result"
    },
    {
     "data": {
      "text/plain": [
       "count = \t\n",
       "1128\t\n"
      ]
     },
     "execution_count": 71,
     "metadata": {},
     "output_type": "execute_result"
    },
    {
     "data": {
      "text/plain": [
       "count = \t\n",
       "1129\t\n"
      ]
     },
     "execution_count": 71,
     "metadata": {},
     "output_type": "execute_result"
    },
    {
     "data": {
      "text/plain": [
       "count = \t\n",
       "1130\t\n"
      ]
     },
     "execution_count": 71,
     "metadata": {},
     "output_type": "execute_result"
    },
    {
     "data": {
      "text/plain": [
       "count = \t\n",
       "1131\t\n"
      ]
     },
     "execution_count": 71,
     "metadata": {},
     "output_type": "execute_result"
    },
    {
     "data": {
      "text/plain": [
       "count = \t\n",
       "1132\t\n"
      ]
     },
     "execution_count": 71,
     "metadata": {},
     "output_type": "execute_result"
    },
    {
     "data": {
      "text/plain": [
       "count = \t\n",
       "1133\t\n"
      ]
     },
     "execution_count": 71,
     "metadata": {},
     "output_type": "execute_result"
    },
    {
     "data": {
      "text/plain": [
       "count = \t\n",
       "1134\t\n"
      ]
     },
     "execution_count": 71,
     "metadata": {},
     "output_type": "execute_result"
    },
    {
     "data": {
      "text/plain": [
       "count = \t\n",
       "1135\t\n"
      ]
     },
     "execution_count": 71,
     "metadata": {},
     "output_type": "execute_result"
    },
    {
     "data": {
      "text/plain": [
       "count = \t\n",
       "1136\t\n"
      ]
     },
     "execution_count": 71,
     "metadata": {},
     "output_type": "execute_result"
    },
    {
     "data": {
      "text/plain": [
       "count = \t\n"
      ]
     },
     "execution_count": 71,
     "metadata": {},
     "output_type": "execute_result"
    },
    {
     "data": {
      "text/plain": [
       "1137\t\n"
      ]
     },
     "execution_count": 71,
     "metadata": {},
     "output_type": "execute_result"
    },
    {
     "data": {
      "text/plain": [
       "count = \t\n",
       "1138\t\n"
      ]
     },
     "execution_count": 71,
     "metadata": {},
     "output_type": "execute_result"
    },
    {
     "data": {
      "text/plain": [
       "count = \t\n",
       "1139\t\n"
      ]
     },
     "execution_count": 71,
     "metadata": {},
     "output_type": "execute_result"
    },
    {
     "data": {
      "text/plain": [
       "no\t\n"
      ]
     },
     "execution_count": 71,
     "metadata": {},
     "output_type": "execute_result"
    },
    {
     "data": {
      "text/plain": [
       "count = \t\n",
       "1140\t\n"
      ]
     },
     "execution_count": 71,
     "metadata": {},
     "output_type": "execute_result"
    },
    {
     "data": {
      "text/plain": [
       "count = \t\n",
       "1141\t\n"
      ]
     },
     "execution_count": 71,
     "metadata": {},
     "output_type": "execute_result"
    },
    {
     "data": {
      "text/plain": [
       "count = \t\n",
       "1142\t\n"
      ]
     },
     "execution_count": 71,
     "metadata": {},
     "output_type": "execute_result"
    },
    {
     "data": {
      "text/plain": [
       "count = \t\n",
       "1143\t\n"
      ]
     },
     "execution_count": 71,
     "metadata": {},
     "output_type": "execute_result"
    },
    {
     "data": {
      "text/plain": [
       "count = \t\n",
       "1144\t\n"
      ]
     },
     "execution_count": 71,
     "metadata": {},
     "output_type": "execute_result"
    },
    {
     "data": {
      "text/plain": [
       "count = \t\n",
       "1145\t\n"
      ]
     },
     "execution_count": 71,
     "metadata": {},
     "output_type": "execute_result"
    },
    {
     "data": {
      "text/plain": [
       "count = \t\n",
       "1146\t\n"
      ]
     },
     "execution_count": 71,
     "metadata": {},
     "output_type": "execute_result"
    },
    {
     "data": {
      "text/plain": [
       "count = \t\n",
       "1147\t\n"
      ]
     },
     "execution_count": 71,
     "metadata": {},
     "output_type": "execute_result"
    },
    {
     "data": {
      "text/plain": [
       "count = \t\n",
       "1148\t\n"
      ]
     },
     "execution_count": 71,
     "metadata": {},
     "output_type": "execute_result"
    },
    {
     "data": {
      "text/plain": [
       "count = \t\n",
       "1149\t\n",
       "count = \t\n",
       "1150\t\n"
      ]
     },
     "execution_count": 71,
     "metadata": {},
     "output_type": "execute_result"
    },
    {
     "data": {
      "text/plain": [
       "count = \t\n",
       "1151\t\n"
      ]
     },
     "execution_count": 71,
     "metadata": {},
     "output_type": "execute_result"
    },
    {
     "data": {
      "text/plain": [
       "count = \t\n",
       "1152\t\n"
      ]
     },
     "execution_count": 71,
     "metadata": {},
     "output_type": "execute_result"
    },
    {
     "data": {
      "text/plain": [
       "count = \t\n",
       "1153\t\n"
      ]
     },
     "execution_count": 71,
     "metadata": {},
     "output_type": "execute_result"
    },
    {
     "data": {
      "text/plain": [
       "count = \t\n",
       "1154\t\n"
      ]
     },
     "execution_count": 71,
     "metadata": {},
     "output_type": "execute_result"
    },
    {
     "data": {
      "text/plain": [
       "count = \t\n",
       "1155\t\n"
      ]
     },
     "execution_count": 71,
     "metadata": {},
     "output_type": "execute_result"
    },
    {
     "data": {
      "text/plain": [
       "count = \t\n",
       "1156\t\n"
      ]
     },
     "execution_count": 71,
     "metadata": {},
     "output_type": "execute_result"
    },
    {
     "data": {
      "text/plain": [
       "count = \t\n",
       "1157\t\n"
      ]
     },
     "execution_count": 71,
     "metadata": {},
     "output_type": "execute_result"
    },
    {
     "data": {
      "text/plain": [
       "count = \t\n",
       "1158\t\n"
      ]
     },
     "execution_count": 71,
     "metadata": {},
     "output_type": "execute_result"
    },
    {
     "data": {
      "text/plain": [
       "count = \t\n",
       "1159\t\n"
      ]
     },
     "execution_count": 71,
     "metadata": {},
     "output_type": "execute_result"
    },
    {
     "data": {
      "text/plain": [
       "count = \t\n",
       "1160\t\n"
      ]
     },
     "execution_count": 71,
     "metadata": {},
     "output_type": "execute_result"
    },
    {
     "data": {
      "text/plain": [
       "count = \t\n",
       "1161\t\n"
      ]
     },
     "execution_count": 71,
     "metadata": {},
     "output_type": "execute_result"
    },
    {
     "data": {
      "text/plain": [
       "count = \t\n",
       "1162\t\n"
      ]
     },
     "execution_count": 71,
     "metadata": {},
     "output_type": "execute_result"
    },
    {
     "data": {
      "text/plain": [
       "count = \t\n",
       "1163\t\n"
      ]
     },
     "execution_count": 71,
     "metadata": {},
     "output_type": "execute_result"
    },
    {
     "data": {
      "text/plain": [
       "count = \t\n",
       "1164\t\n"
      ]
     },
     "execution_count": 71,
     "metadata": {},
     "output_type": "execute_result"
    },
    {
     "data": {
      "text/plain": [
       "count = \t\n",
       "1165\t\n"
      ]
     },
     "execution_count": 71,
     "metadata": {},
     "output_type": "execute_result"
    },
    {
     "data": {
      "text/plain": [
       "count = \t\n",
       "1166\t\n"
      ]
     },
     "execution_count": 71,
     "metadata": {},
     "output_type": "execute_result"
    },
    {
     "data": {
      "text/plain": [
       "count = \t\n",
       "1167\t\n"
      ]
     },
     "execution_count": 71,
     "metadata": {},
     "output_type": "execute_result"
    },
    {
     "data": {
      "text/plain": [
       "count = \t\n"
      ]
     },
     "execution_count": 71,
     "metadata": {},
     "output_type": "execute_result"
    },
    {
     "data": {
      "text/plain": [
       "1168\t\n"
      ]
     },
     "execution_count": 71,
     "metadata": {},
     "output_type": "execute_result"
    },
    {
     "data": {
      "text/plain": [
       "count = \t\n",
       "1169\t\n"
      ]
     },
     "execution_count": 71,
     "metadata": {},
     "output_type": "execute_result"
    },
    {
     "data": {
      "text/plain": [
       "count = \t\n",
       "1170\t\n"
      ]
     },
     "execution_count": 71,
     "metadata": {},
     "output_type": "execute_result"
    },
    {
     "data": {
      "text/plain": [
       "count = \t\n",
       "1171\t\n"
      ]
     },
     "execution_count": 71,
     "metadata": {},
     "output_type": "execute_result"
    },
    {
     "data": {
      "text/plain": [
       "count = \t\n",
       "1172\t\n"
      ]
     },
     "execution_count": 71,
     "metadata": {},
     "output_type": "execute_result"
    },
    {
     "data": {
      "text/plain": [
       "count = \t\n",
       "1173\t\n"
      ]
     },
     "execution_count": 71,
     "metadata": {},
     "output_type": "execute_result"
    },
    {
     "data": {
      "text/plain": [
       "count = \t\n",
       "1174\t\n"
      ]
     },
     "execution_count": 71,
     "metadata": {},
     "output_type": "execute_result"
    },
    {
     "data": {
      "text/plain": [
       "count = \t\n",
       "1175\t\n"
      ]
     },
     "execution_count": 71,
     "metadata": {},
     "output_type": "execute_result"
    },
    {
     "data": {
      "text/plain": [
       "count = \t\n",
       "1176\t\n"
      ]
     },
     "execution_count": 71,
     "metadata": {},
     "output_type": "execute_result"
    },
    {
     "data": {
      "text/plain": [
       "count = \t\n",
       "1177\t\n"
      ]
     },
     "execution_count": 71,
     "metadata": {},
     "output_type": "execute_result"
    },
    {
     "data": {
      "text/plain": [
       "count = \t\n",
       "1178\t\n"
      ]
     },
     "execution_count": 71,
     "metadata": {},
     "output_type": "execute_result"
    },
    {
     "data": {
      "text/plain": [
       "count = \t\n",
       "1179\t\n"
      ]
     },
     "execution_count": 71,
     "metadata": {},
     "output_type": "execute_result"
    },
    {
     "data": {
      "text/plain": [
       "count = \t\n",
       "1180\t\n"
      ]
     },
     "execution_count": 71,
     "metadata": {},
     "output_type": "execute_result"
    },
    {
     "data": {
      "text/plain": [
       "count = \t\n",
       "1181\t\n"
      ]
     },
     "execution_count": 71,
     "metadata": {},
     "output_type": "execute_result"
    },
    {
     "data": {
      "text/plain": [
       "count = \t\n",
       "1182\t\n"
      ]
     },
     "execution_count": 71,
     "metadata": {},
     "output_type": "execute_result"
    },
    {
     "data": {
      "text/plain": [
       "count = \t\n",
       "1183\t\n"
      ]
     },
     "execution_count": 71,
     "metadata": {},
     "output_type": "execute_result"
    },
    {
     "data": {
      "text/plain": [
       "count = \t\n",
       "1184\t\n"
      ]
     },
     "execution_count": 71,
     "metadata": {},
     "output_type": "execute_result"
    },
    {
     "data": {
      "text/plain": [
       "count = \t\n",
       "1185\t\n"
      ]
     },
     "execution_count": 71,
     "metadata": {},
     "output_type": "execute_result"
    },
    {
     "data": {
      "text/plain": [
       "no\t\n"
      ]
     },
     "execution_count": 71,
     "metadata": {},
     "output_type": "execute_result"
    },
    {
     "data": {
      "text/plain": [
       "count = \t\n",
       "1186\t\n"
      ]
     },
     "execution_count": 71,
     "metadata": {},
     "output_type": "execute_result"
    },
    {
     "data": {
      "text/plain": [
       "count = \t\n",
       "1187\t\n"
      ]
     },
     "execution_count": 71,
     "metadata": {},
     "output_type": "execute_result"
    },
    {
     "data": {
      "text/plain": [
       "count = \t\n",
       "1188\t\n"
      ]
     },
     "execution_count": 71,
     "metadata": {},
     "output_type": "execute_result"
    },
    {
     "data": {
      "text/plain": [
       "count = \t\n",
       "1189\t\n"
      ]
     },
     "execution_count": 71,
     "metadata": {},
     "output_type": "execute_result"
    },
    {
     "data": {
      "text/plain": [
       "count = \t\n",
       "1190\t\n"
      ]
     },
     "execution_count": 71,
     "metadata": {},
     "output_type": "execute_result"
    },
    {
     "data": {
      "text/plain": [
       "count = \t\n",
       "1191\t\n"
      ]
     },
     "execution_count": 71,
     "metadata": {},
     "output_type": "execute_result"
    },
    {
     "data": {
      "text/plain": [
       "count = \t\n",
       "1192\t\n"
      ]
     },
     "execution_count": 71,
     "metadata": {},
     "output_type": "execute_result"
    },
    {
     "data": {
      "text/plain": [
       "count = \t\n",
       "1193\t\n"
      ]
     },
     "execution_count": 71,
     "metadata": {},
     "output_type": "execute_result"
    },
    {
     "data": {
      "text/plain": [
       "count = \t\n",
       "1194\t\n"
      ]
     },
     "execution_count": 71,
     "metadata": {},
     "output_type": "execute_result"
    },
    {
     "data": {
      "text/plain": [
       "count = \t\n",
       "1195\t\n"
      ]
     },
     "execution_count": 71,
     "metadata": {},
     "output_type": "execute_result"
    },
    {
     "data": {
      "text/plain": [
       "count = \t\n",
       "1196\t\n"
      ]
     },
     "execution_count": 71,
     "metadata": {},
     "output_type": "execute_result"
    },
    {
     "data": {
      "text/plain": [
       "count = \t\n",
       "1197\t\n"
      ]
     },
     "execution_count": 71,
     "metadata": {},
     "output_type": "execute_result"
    },
    {
     "data": {
      "text/plain": [
       "count = \t\n",
       "1198\t\n"
      ]
     },
     "execution_count": 71,
     "metadata": {},
     "output_type": "execute_result"
    },
    {
     "data": {
      "text/plain": [
       "count = \t\n",
       "1199\t\n"
      ]
     },
     "execution_count": 71,
     "metadata": {},
     "output_type": "execute_result"
    },
    {
     "data": {
      "text/plain": [
       "count = \t\n",
       "1200\t\n"
      ]
     },
     "execution_count": 71,
     "metadata": {},
     "output_type": "execute_result"
    },
    {
     "data": {
      "text/plain": [
       "count = \t\n",
       "1201\t\n"
      ]
     },
     "execution_count": 71,
     "metadata": {},
     "output_type": "execute_result"
    },
    {
     "data": {
      "text/plain": [
       "count = \t\n",
       "1202\t\n"
      ]
     },
     "execution_count": 71,
     "metadata": {},
     "output_type": "execute_result"
    },
    {
     "data": {
      "text/plain": [
       "count = \t\n",
       "1203\t\n"
      ]
     },
     "execution_count": 71,
     "metadata": {},
     "output_type": "execute_result"
    },
    {
     "data": {
      "text/plain": [
       "count = \t\n",
       "1204\t\n"
      ]
     },
     "execution_count": 71,
     "metadata": {},
     "output_type": "execute_result"
    },
    {
     "data": {
      "text/plain": [
       "count = \t\n",
       "1205\t\n"
      ]
     },
     "execution_count": 71,
     "metadata": {},
     "output_type": "execute_result"
    },
    {
     "data": {
      "text/plain": [
       "count = \t\n",
       "1206\t\n"
      ]
     },
     "execution_count": 71,
     "metadata": {},
     "output_type": "execute_result"
    },
    {
     "data": {
      "text/plain": [
       "count = \t\n",
       "1207\t\n"
      ]
     },
     "execution_count": 71,
     "metadata": {},
     "output_type": "execute_result"
    },
    {
     "data": {
      "text/plain": [
       "count = \t\n",
       "1208\t\n"
      ]
     },
     "execution_count": 71,
     "metadata": {},
     "output_type": "execute_result"
    },
    {
     "data": {
      "text/plain": [
       "count = \t\n",
       "1209\t\n"
      ]
     },
     "execution_count": 71,
     "metadata": {},
     "output_type": "execute_result"
    },
    {
     "data": {
      "text/plain": [
       "count = \t\n",
       "1210\t\n"
      ]
     },
     "execution_count": 71,
     "metadata": {},
     "output_type": "execute_result"
    },
    {
     "data": {
      "text/plain": [
       "count = \t\n",
       "1211\t\n"
      ]
     },
     "execution_count": 71,
     "metadata": {},
     "output_type": "execute_result"
    },
    {
     "data": {
      "text/plain": [
       "count = \t\n",
       "1212\t\n"
      ]
     },
     "execution_count": 71,
     "metadata": {},
     "output_type": "execute_result"
    },
    {
     "data": {
      "text/plain": [
       "count = \t\n",
       "1213\t\n"
      ]
     },
     "execution_count": 71,
     "metadata": {},
     "output_type": "execute_result"
    },
    {
     "data": {
      "text/plain": [
       "count = \t\n",
       "1214\t\n"
      ]
     },
     "execution_count": 71,
     "metadata": {},
     "output_type": "execute_result"
    },
    {
     "data": {
      "text/plain": [
       "count = \t\n",
       "1215\t\n"
      ]
     },
     "execution_count": 71,
     "metadata": {},
     "output_type": "execute_result"
    },
    {
     "data": {
      "text/plain": [
       "count = \t\n",
       "1216\t\n"
      ]
     },
     "execution_count": 71,
     "metadata": {},
     "output_type": "execute_result"
    },
    {
     "data": {
      "text/plain": [
       "count = \t\n",
       "1217\t\n"
      ]
     },
     "execution_count": 71,
     "metadata": {},
     "output_type": "execute_result"
    },
    {
     "data": {
      "text/plain": [
       "count = \t\n",
       "1218\t\n"
      ]
     },
     "execution_count": 71,
     "metadata": {},
     "output_type": "execute_result"
    },
    {
     "data": {
      "text/plain": [
       "count = \t\n",
       "1219\t\n"
      ]
     },
     "execution_count": 71,
     "metadata": {},
     "output_type": "execute_result"
    },
    {
     "data": {
      "text/plain": [
       "count = \t\n",
       "1220\t\n"
      ]
     },
     "execution_count": 71,
     "metadata": {},
     "output_type": "execute_result"
    },
    {
     "data": {
      "text/plain": [
       "count = \t\n",
       "1221\t\n"
      ]
     },
     "execution_count": 71,
     "metadata": {},
     "output_type": "execute_result"
    },
    {
     "data": {
      "text/plain": [
       "count = \t\n",
       "1222\t\n"
      ]
     },
     "execution_count": 71,
     "metadata": {},
     "output_type": "execute_result"
    },
    {
     "data": {
      "text/plain": [
       "count = \t\n",
       "1223\t\n"
      ]
     },
     "execution_count": 71,
     "metadata": {},
     "output_type": "execute_result"
    },
    {
     "data": {
      "text/plain": [
       "count = \t\n",
       "1224\t\n"
      ]
     },
     "execution_count": 71,
     "metadata": {},
     "output_type": "execute_result"
    },
    {
     "data": {
      "text/plain": [
       "count = \t\n",
       "1225\t\n"
      ]
     },
     "execution_count": 71,
     "metadata": {},
     "output_type": "execute_result"
    },
    {
     "data": {
      "text/plain": [
       "count = \t\n",
       "1226\t\n"
      ]
     },
     "execution_count": 71,
     "metadata": {},
     "output_type": "execute_result"
    },
    {
     "data": {
      "text/plain": [
       "count = \t\n",
       "1227\t\n"
      ]
     },
     "execution_count": 71,
     "metadata": {},
     "output_type": "execute_result"
    },
    {
     "data": {
      "text/plain": [
       "count = \t\n",
       "1228\t\n"
      ]
     },
     "execution_count": 71,
     "metadata": {},
     "output_type": "execute_result"
    },
    {
     "data": {
      "text/plain": [
       "count = \t\n"
      ]
     },
     "execution_count": 71,
     "metadata": {},
     "output_type": "execute_result"
    },
    {
     "data": {
      "text/plain": [
       "1229\t\n"
      ]
     },
     "execution_count": 71,
     "metadata": {},
     "output_type": "execute_result"
    },
    {
     "data": {
      "text/plain": [
       "count = \t\n",
       "1230\t\n"
      ]
     },
     "execution_count": 71,
     "metadata": {},
     "output_type": "execute_result"
    },
    {
     "data": {
      "text/plain": [
       "count = \t\n",
       "1231\t\n"
      ]
     },
     "execution_count": 71,
     "metadata": {},
     "output_type": "execute_result"
    },
    {
     "data": {
      "text/plain": [
       "count = \t\n",
       "1232\t\n"
      ]
     },
     "execution_count": 71,
     "metadata": {},
     "output_type": "execute_result"
    },
    {
     "data": {
      "text/plain": [
       "count = \t\n",
       "1233\t\n"
      ]
     },
     "execution_count": 71,
     "metadata": {},
     "output_type": "execute_result"
    },
    {
     "data": {
      "text/plain": [
       "count = \t\n",
       "1234\t\n"
      ]
     },
     "execution_count": 71,
     "metadata": {},
     "output_type": "execute_result"
    },
    {
     "data": {
      "text/plain": [
       "count = \t\n",
       "1235\t\n"
      ]
     },
     "execution_count": 71,
     "metadata": {},
     "output_type": "execute_result"
    },
    {
     "data": {
      "text/plain": [
       "count = \t\n",
       "1236\t\n"
      ]
     },
     "execution_count": 71,
     "metadata": {},
     "output_type": "execute_result"
    },
    {
     "data": {
      "text/plain": [
       "count = \t\n",
       "1237\t\n"
      ]
     },
     "execution_count": 71,
     "metadata": {},
     "output_type": "execute_result"
    },
    {
     "data": {
      "text/plain": [
       "count = \t\n",
       "1238\t\n"
      ]
     },
     "execution_count": 71,
     "metadata": {},
     "output_type": "execute_result"
    },
    {
     "data": {
      "text/plain": [
       "count = \t\n",
       "1239\t\n"
      ]
     },
     "execution_count": 71,
     "metadata": {},
     "output_type": "execute_result"
    },
    {
     "data": {
      "text/plain": [
       "count = \t\n",
       "1240\t\n"
      ]
     },
     "execution_count": 71,
     "metadata": {},
     "output_type": "execute_result"
    },
    {
     "data": {
      "text/plain": [
       "count = \t\n",
       "1241\t\n"
      ]
     },
     "execution_count": 71,
     "metadata": {},
     "output_type": "execute_result"
    },
    {
     "data": {
      "text/plain": [
       "count = \t\n",
       "1242\t\n"
      ]
     },
     "execution_count": 71,
     "metadata": {},
     "output_type": "execute_result"
    },
    {
     "data": {
      "text/plain": [
       "count = \t\n",
       "1243\t\n"
      ]
     },
     "execution_count": 71,
     "metadata": {},
     "output_type": "execute_result"
    },
    {
     "data": {
      "text/plain": [
       "count = \t\n",
       "1244\t\n"
      ]
     },
     "execution_count": 71,
     "metadata": {},
     "output_type": "execute_result"
    },
    {
     "data": {
      "text/plain": [
       "count = \t\n",
       "1245\t\n"
      ]
     },
     "execution_count": 71,
     "metadata": {},
     "output_type": "execute_result"
    },
    {
     "data": {
      "text/plain": [
       "count = \t\n",
       "1246\t\n"
      ]
     },
     "execution_count": 71,
     "metadata": {},
     "output_type": "execute_result"
    },
    {
     "data": {
      "text/plain": [
       "count = \t\n",
       "1247\t\n"
      ]
     },
     "execution_count": 71,
     "metadata": {},
     "output_type": "execute_result"
    },
    {
     "data": {
      "text/plain": [
       "count = \t\n",
       "1248\t\n"
      ]
     },
     "execution_count": 71,
     "metadata": {},
     "output_type": "execute_result"
    },
    {
     "data": {
      "text/plain": [
       "count = \t\n",
       "1249\t\n"
      ]
     },
     "execution_count": 71,
     "metadata": {},
     "output_type": "execute_result"
    },
    {
     "data": {
      "text/plain": [
       "count = \t\n",
       "1250\t\n"
      ]
     },
     "execution_count": 71,
     "metadata": {},
     "output_type": "execute_result"
    },
    {
     "data": {
      "text/plain": [
       "count = \t\n",
       "1251\t\n"
      ]
     },
     "execution_count": 71,
     "metadata": {},
     "output_type": "execute_result"
    },
    {
     "data": {
      "text/plain": [
       "count = \t\n",
       "1252\t\n"
      ]
     },
     "execution_count": 71,
     "metadata": {},
     "output_type": "execute_result"
    },
    {
     "data": {
      "text/plain": [
       "count = \t\n",
       "1253\t\n"
      ]
     },
     "execution_count": 71,
     "metadata": {},
     "output_type": "execute_result"
    },
    {
     "data": {
      "text/plain": [
       "count = \t\n",
       "1254\t\n"
      ]
     },
     "execution_count": 71,
     "metadata": {},
     "output_type": "execute_result"
    },
    {
     "data": {
      "text/plain": [
       "count = \t\n",
       "1255\t\n"
      ]
     },
     "execution_count": 71,
     "metadata": {},
     "output_type": "execute_result"
    },
    {
     "data": {
      "text/plain": [
       "count = \t\n",
       "1256\t\n"
      ]
     },
     "execution_count": 71,
     "metadata": {},
     "output_type": "execute_result"
    },
    {
     "data": {
      "text/plain": [
       "count = \t\n",
       "1257\t\n"
      ]
     },
     "execution_count": 71,
     "metadata": {},
     "output_type": "execute_result"
    },
    {
     "data": {
      "text/plain": [
       "count = \t\n",
       "1258\t\n"
      ]
     },
     "execution_count": 71,
     "metadata": {},
     "output_type": "execute_result"
    },
    {
     "data": {
      "text/plain": [
       "count = \t\n"
      ]
     },
     "execution_count": 71,
     "metadata": {},
     "output_type": "execute_result"
    },
    {
     "data": {
      "text/plain": [
       "1259\t\n"
      ]
     },
     "execution_count": 71,
     "metadata": {},
     "output_type": "execute_result"
    },
    {
     "data": {
      "text/plain": [
       "count = \t\n",
       "1260\t\n"
      ]
     },
     "execution_count": 71,
     "metadata": {},
     "output_type": "execute_result"
    },
    {
     "data": {
      "text/plain": [
       "count = \t\n",
       "1261\t\n"
      ]
     },
     "execution_count": 71,
     "metadata": {},
     "output_type": "execute_result"
    },
    {
     "data": {
      "text/plain": [
       "count = \t\n",
       "1262\t\n"
      ]
     },
     "execution_count": 71,
     "metadata": {},
     "output_type": "execute_result"
    },
    {
     "data": {
      "text/plain": [
       "count = \t\n",
       "1263\t\n"
      ]
     },
     "execution_count": 71,
     "metadata": {},
     "output_type": "execute_result"
    },
    {
     "data": {
      "text/plain": [
       "count = \t\n",
       "1264\t\n"
      ]
     },
     "execution_count": 71,
     "metadata": {},
     "output_type": "execute_result"
    },
    {
     "data": {
      "text/plain": [
       "count = \t\n",
       "1265\t\n"
      ]
     },
     "execution_count": 71,
     "metadata": {},
     "output_type": "execute_result"
    },
    {
     "data": {
      "text/plain": [
       "count = \t\n",
       "1266\t\n"
      ]
     },
     "execution_count": 71,
     "metadata": {},
     "output_type": "execute_result"
    },
    {
     "data": {
      "text/plain": [
       "count = \t\n",
       "1267\t\n"
      ]
     },
     "execution_count": 71,
     "metadata": {},
     "output_type": "execute_result"
    },
    {
     "data": {
      "text/plain": [
       "count = \t\n",
       "1268\t\n"
      ]
     },
     "execution_count": 71,
     "metadata": {},
     "output_type": "execute_result"
    },
    {
     "data": {
      "text/plain": [
       "count = \t\n",
       "1269\t\n"
      ]
     },
     "execution_count": 71,
     "metadata": {},
     "output_type": "execute_result"
    },
    {
     "data": {
      "text/plain": [
       "count = \t\n",
       "1270\t\n"
      ]
     },
     "execution_count": 71,
     "metadata": {},
     "output_type": "execute_result"
    },
    {
     "data": {
      "text/plain": [
       "count = \t\n",
       "1271\t\n"
      ]
     },
     "execution_count": 71,
     "metadata": {},
     "output_type": "execute_result"
    },
    {
     "data": {
      "text/plain": [
       "count = \t\n",
       "1272\t\n"
      ]
     },
     "execution_count": 71,
     "metadata": {},
     "output_type": "execute_result"
    },
    {
     "data": {
      "text/plain": [
       "count = \t\n",
       "1273\t\n"
      ]
     },
     "execution_count": 71,
     "metadata": {},
     "output_type": "execute_result"
    },
    {
     "data": {
      "text/plain": [
       "count = \t\n",
       "1274\t\n"
      ]
     },
     "execution_count": 71,
     "metadata": {},
     "output_type": "execute_result"
    },
    {
     "data": {
      "text/plain": [
       "count = \t\n",
       "1275\t\n"
      ]
     },
     "execution_count": 71,
     "metadata": {},
     "output_type": "execute_result"
    },
    {
     "data": {
      "text/plain": [
       "count = \t\n",
       "1276\t\n"
      ]
     },
     "execution_count": 71,
     "metadata": {},
     "output_type": "execute_result"
    },
    {
     "data": {
      "text/plain": [
       "count = \t\n",
       "1277\t\n"
      ]
     },
     "execution_count": 71,
     "metadata": {},
     "output_type": "execute_result"
    },
    {
     "data": {
      "text/plain": [
       "count = \t\n",
       "1278\t\n"
      ]
     },
     "execution_count": 71,
     "metadata": {},
     "output_type": "execute_result"
    },
    {
     "data": {
      "text/plain": [
       "count = \t\n",
       "1279\t\n"
      ]
     },
     "execution_count": 71,
     "metadata": {},
     "output_type": "execute_result"
    },
    {
     "data": {
      "text/plain": [
       "count = \t\n",
       "1280\t\n"
      ]
     },
     "execution_count": 71,
     "metadata": {},
     "output_type": "execute_result"
    },
    {
     "data": {
      "text/plain": [
       "count = \t\n",
       "1281\t\n"
      ]
     },
     "execution_count": 71,
     "metadata": {},
     "output_type": "execute_result"
    },
    {
     "data": {
      "text/plain": [
       "count = \t\n",
       "1282\t\n"
      ]
     },
     "execution_count": 71,
     "metadata": {},
     "output_type": "execute_result"
    },
    {
     "data": {
      "text/plain": [
       "count = \t\n",
       "1283\t\n"
      ]
     },
     "execution_count": 71,
     "metadata": {},
     "output_type": "execute_result"
    },
    {
     "data": {
      "text/plain": [
       "count = \t\n",
       "1284\t\n"
      ]
     },
     "execution_count": 71,
     "metadata": {},
     "output_type": "execute_result"
    },
    {
     "data": {
      "text/plain": [
       "count = \t\n",
       "1285\t\n"
      ]
     },
     "execution_count": 71,
     "metadata": {},
     "output_type": "execute_result"
    },
    {
     "data": {
      "text/plain": [
       "count = \t\n",
       "1286\t\n"
      ]
     },
     "execution_count": 71,
     "metadata": {},
     "output_type": "execute_result"
    },
    {
     "data": {
      "text/plain": [
       "count = \t\n",
       "1287\t\n"
      ]
     },
     "execution_count": 71,
     "metadata": {},
     "output_type": "execute_result"
    },
    {
     "data": {
      "text/plain": [
       "count = \t\n",
       "1288\t\n"
      ]
     },
     "execution_count": 71,
     "metadata": {},
     "output_type": "execute_result"
    },
    {
     "data": {
      "text/plain": [
       "count = \t\n",
       "1289\t\n"
      ]
     },
     "execution_count": 71,
     "metadata": {},
     "output_type": "execute_result"
    },
    {
     "data": {
      "text/plain": [
       "count = \t\n",
       "1290\t\n"
      ]
     },
     "execution_count": 71,
     "metadata": {},
     "output_type": "execute_result"
    },
    {
     "data": {
      "text/plain": [
       "count = \t\n",
       "1291\t\n"
      ]
     },
     "execution_count": 71,
     "metadata": {},
     "output_type": "execute_result"
    },
    {
     "data": {
      "text/plain": [
       "count = \t\n",
       "1292\t\n"
      ]
     },
     "execution_count": 71,
     "metadata": {},
     "output_type": "execute_result"
    },
    {
     "data": {
      "text/plain": [
       "count = \t\n",
       "1293\t\n"
      ]
     },
     "execution_count": 71,
     "metadata": {},
     "output_type": "execute_result"
    },
    {
     "data": {
      "text/plain": [
       "count = \t\n",
       "1294\t\n"
      ]
     },
     "execution_count": 71,
     "metadata": {},
     "output_type": "execute_result"
    },
    {
     "data": {
      "text/plain": [
       "count = \t\n",
       "1295\t\n"
      ]
     },
     "execution_count": 71,
     "metadata": {},
     "output_type": "execute_result"
    },
    {
     "data": {
      "text/plain": [
       "count = \t\n",
       "1296\t\n"
      ]
     },
     "execution_count": 71,
     "metadata": {},
     "output_type": "execute_result"
    },
    {
     "data": {
      "text/plain": [
       "count = \t\n",
       "1297\t\n"
      ]
     },
     "execution_count": 71,
     "metadata": {},
     "output_type": "execute_result"
    },
    {
     "data": {
      "text/plain": [
       "count = \t\n",
       "1298\t\n"
      ]
     },
     "execution_count": 71,
     "metadata": {},
     "output_type": "execute_result"
    },
    {
     "data": {
      "text/plain": [
       "count = \t\n",
       "1299\t\n"
      ]
     },
     "execution_count": 71,
     "metadata": {},
     "output_type": "execute_result"
    },
    {
     "data": {
      "text/plain": [
       "count = \t\n",
       "1300\t\n"
      ]
     },
     "execution_count": 71,
     "metadata": {},
     "output_type": "execute_result"
    },
    {
     "data": {
      "text/plain": [
       "count = \t\n",
       "1301\t\n"
      ]
     },
     "execution_count": 71,
     "metadata": {},
     "output_type": "execute_result"
    },
    {
     "data": {
      "text/plain": [
       "count = \t\n",
       "1302\t\n"
      ]
     },
     "execution_count": 71,
     "metadata": {},
     "output_type": "execute_result"
    },
    {
     "data": {
      "text/plain": [
       "count = \t\n",
       "1303\t\n"
      ]
     },
     "execution_count": 71,
     "metadata": {},
     "output_type": "execute_result"
    },
    {
     "data": {
      "text/plain": [
       "count = \t\n",
       "1304\t\n"
      ]
     },
     "execution_count": 71,
     "metadata": {},
     "output_type": "execute_result"
    },
    {
     "data": {
      "text/plain": [
       "count = \t\n",
       "1305\t\n"
      ]
     },
     "execution_count": 71,
     "metadata": {},
     "output_type": "execute_result"
    },
    {
     "data": {
      "text/plain": [
       "count = \t\n",
       "1306\t\n"
      ]
     },
     "execution_count": 71,
     "metadata": {},
     "output_type": "execute_result"
    },
    {
     "data": {
      "text/plain": [
       "count = \t\n",
       "1307\t\n"
      ]
     },
     "execution_count": 71,
     "metadata": {},
     "output_type": "execute_result"
    },
    {
     "data": {
      "text/plain": [
       "count = \t\n",
       "1308\t\n"
      ]
     },
     "execution_count": 71,
     "metadata": {},
     "output_type": "execute_result"
    },
    {
     "data": {
      "text/plain": [
       "count = \t\n",
       "1309\t\n"
      ]
     },
     "execution_count": 71,
     "metadata": {},
     "output_type": "execute_result"
    },
    {
     "data": {
      "text/plain": [
       "count = \t\n",
       "1310\t\n"
      ]
     },
     "execution_count": 71,
     "metadata": {},
     "output_type": "execute_result"
    },
    {
     "data": {
      "text/plain": [
       "count = \t\n",
       "1311\t\n"
      ]
     },
     "execution_count": 71,
     "metadata": {},
     "output_type": "execute_result"
    },
    {
     "data": {
      "text/plain": [
       "count = \t\n",
       "1312\t\n"
      ]
     },
     "execution_count": 71,
     "metadata": {},
     "output_type": "execute_result"
    },
    {
     "data": {
      "text/plain": [
       "count = \t\n"
      ]
     },
     "execution_count": 71,
     "metadata": {},
     "output_type": "execute_result"
    },
    {
     "data": {
      "text/plain": [
       "1313\t\n"
      ]
     },
     "execution_count": 71,
     "metadata": {},
     "output_type": "execute_result"
    },
    {
     "data": {
      "text/plain": [
       "count = \t\n",
       "1314\t\n"
      ]
     },
     "execution_count": 71,
     "metadata": {},
     "output_type": "execute_result"
    },
    {
     "data": {
      "text/plain": [
       "count = \t\n",
       "1315\t\n"
      ]
     },
     "execution_count": 71,
     "metadata": {},
     "output_type": "execute_result"
    },
    {
     "data": {
      "text/plain": [
       "count = \t\n",
       "1316\t\n"
      ]
     },
     "execution_count": 71,
     "metadata": {},
     "output_type": "execute_result"
    },
    {
     "data": {
      "text/plain": [
       "count = \t\n",
       "1317\t\n"
      ]
     },
     "execution_count": 71,
     "metadata": {},
     "output_type": "execute_result"
    },
    {
     "data": {
      "text/plain": [
       "count = \t\n",
       "1318\t\n"
      ]
     },
     "execution_count": 71,
     "metadata": {},
     "output_type": "execute_result"
    },
    {
     "data": {
      "text/plain": [
       "count = \t\n",
       "1319\t\n"
      ]
     },
     "execution_count": 71,
     "metadata": {},
     "output_type": "execute_result"
    },
    {
     "data": {
      "text/plain": [
       "count = \t\n",
       "1320\t\n"
      ]
     },
     "execution_count": 71,
     "metadata": {},
     "output_type": "execute_result"
    },
    {
     "data": {
      "text/plain": [
       "count = \t\n",
       "1321\t\n"
      ]
     },
     "execution_count": 71,
     "metadata": {},
     "output_type": "execute_result"
    },
    {
     "data": {
      "text/plain": [
       "count = \t\n",
       "1322\t\n"
      ]
     },
     "execution_count": 71,
     "metadata": {},
     "output_type": "execute_result"
    },
    {
     "data": {
      "text/plain": [
       "count = \t\n",
       "1323\t\n"
      ]
     },
     "execution_count": 71,
     "metadata": {},
     "output_type": "execute_result"
    },
    {
     "data": {
      "text/plain": [
       "count = \t\n",
       "1324\t\n"
      ]
     },
     "execution_count": 71,
     "metadata": {},
     "output_type": "execute_result"
    },
    {
     "data": {
      "text/plain": [
       "count = \t\n",
       "1325\t\n"
      ]
     },
     "execution_count": 71,
     "metadata": {},
     "output_type": "execute_result"
    },
    {
     "data": {
      "text/plain": [
       "count = \t\n",
       "1326\t\n"
      ]
     },
     "execution_count": 71,
     "metadata": {},
     "output_type": "execute_result"
    },
    {
     "data": {
      "text/plain": [
       "count = \t\n",
       "1327\t\n"
      ]
     },
     "execution_count": 71,
     "metadata": {},
     "output_type": "execute_result"
    },
    {
     "data": {
      "text/plain": [
       "count = \t\n",
       "1328\t\n"
      ]
     },
     "execution_count": 71,
     "metadata": {},
     "output_type": "execute_result"
    },
    {
     "data": {
      "text/plain": [
       "count = \t\n",
       "1329\t\n"
      ]
     },
     "execution_count": 71,
     "metadata": {},
     "output_type": "execute_result"
    },
    {
     "data": {
      "text/plain": [
       "count = \t\n",
       "1330\t\n"
      ]
     },
     "execution_count": 71,
     "metadata": {},
     "output_type": "execute_result"
    },
    {
     "data": {
      "text/plain": [
       "count = \t\n",
       "1331\t\n"
      ]
     },
     "execution_count": 71,
     "metadata": {},
     "output_type": "execute_result"
    },
    {
     "data": {
      "text/plain": [
       "count = \t\n",
       "1332\t\n"
      ]
     },
     "execution_count": 71,
     "metadata": {},
     "output_type": "execute_result"
    },
    {
     "data": {
      "text/plain": [
       "count = \t\n",
       "1333\t\n"
      ]
     },
     "execution_count": 71,
     "metadata": {},
     "output_type": "execute_result"
    },
    {
     "data": {
      "text/plain": [
       "count = \t\n",
       "1334\t\n"
      ]
     },
     "execution_count": 71,
     "metadata": {},
     "output_type": "execute_result"
    },
    {
     "data": {
      "text/plain": [
       "count = \t\n",
       "1335\t\n"
      ]
     },
     "execution_count": 71,
     "metadata": {},
     "output_type": "execute_result"
    },
    {
     "data": {
      "text/plain": [
       "count = \t\n",
       "1336\t\n"
      ]
     },
     "execution_count": 71,
     "metadata": {},
     "output_type": "execute_result"
    },
    {
     "data": {
      "text/plain": [
       "count = \t\n",
       "1337\t\n"
      ]
     },
     "execution_count": 71,
     "metadata": {},
     "output_type": "execute_result"
    },
    {
     "data": {
      "text/plain": [
       "count = \t\n",
       "1338\t\n"
      ]
     },
     "execution_count": 71,
     "metadata": {},
     "output_type": "execute_result"
    },
    {
     "data": {
      "text/plain": [
       "count = \t\n",
       "1339\t\n"
      ]
     },
     "execution_count": 71,
     "metadata": {},
     "output_type": "execute_result"
    },
    {
     "data": {
      "text/plain": [
       "count = \t\n",
       "1340\t\n"
      ]
     },
     "execution_count": 71,
     "metadata": {},
     "output_type": "execute_result"
    },
    {
     "data": {
      "text/plain": [
       "count = \t\n",
       "1341\t\n"
      ]
     },
     "execution_count": 71,
     "metadata": {},
     "output_type": "execute_result"
    },
    {
     "data": {
      "text/plain": [
       "count = \t\n",
       "1342\t\n"
      ]
     },
     "execution_count": 71,
     "metadata": {},
     "output_type": "execute_result"
    },
    {
     "data": {
      "text/plain": [
       "count = \t\n",
       "1343\t\n"
      ]
     },
     "execution_count": 71,
     "metadata": {},
     "output_type": "execute_result"
    },
    {
     "data": {
      "text/plain": [
       "count = \t\n",
       "1344\t\n"
      ]
     },
     "execution_count": 71,
     "metadata": {},
     "output_type": "execute_result"
    },
    {
     "data": {
      "text/plain": [
       "count = \t\n",
       "1345\t\n"
      ]
     },
     "execution_count": 71,
     "metadata": {},
     "output_type": "execute_result"
    },
    {
     "data": {
      "text/plain": [
       "count = \t\n",
       "1346\t\n"
      ]
     },
     "execution_count": 71,
     "metadata": {},
     "output_type": "execute_result"
    },
    {
     "data": {
      "text/plain": [
       "count = \t\n",
       "1347\t\n"
      ]
     },
     "execution_count": 71,
     "metadata": {},
     "output_type": "execute_result"
    },
    {
     "data": {
      "text/plain": [
       "count = \t\n",
       "1348\t\n"
      ]
     },
     "execution_count": 71,
     "metadata": {},
     "output_type": "execute_result"
    },
    {
     "data": {
      "text/plain": [
       "count = \t\n",
       "1349\t\n"
      ]
     },
     "execution_count": 71,
     "metadata": {},
     "output_type": "execute_result"
    },
    {
     "data": {
      "text/plain": [
       "count = \t\n",
       "1350\t\n"
      ]
     },
     "execution_count": 71,
     "metadata": {},
     "output_type": "execute_result"
    },
    {
     "data": {
      "text/plain": [
       "count = \t\n",
       "1351\t\n"
      ]
     },
     "execution_count": 71,
     "metadata": {},
     "output_type": "execute_result"
    },
    {
     "data": {
      "text/plain": [
       "count = \t\n",
       "1352\t\n"
      ]
     },
     "execution_count": 71,
     "metadata": {},
     "output_type": "execute_result"
    },
    {
     "data": {
      "text/plain": [
       "count = \t\n",
       "1353\t\n"
      ]
     },
     "execution_count": 71,
     "metadata": {},
     "output_type": "execute_result"
    },
    {
     "data": {
      "text/plain": [
       "count = \t\n",
       "1354\t\n"
      ]
     },
     "execution_count": 71,
     "metadata": {},
     "output_type": "execute_result"
    },
    {
     "data": {
      "text/plain": [
       "count = \t\n",
       "1355\t\n"
      ]
     },
     "execution_count": 71,
     "metadata": {},
     "output_type": "execute_result"
    },
    {
     "data": {
      "text/plain": [
       "count = \t\n",
       "1356\t\n"
      ]
     },
     "execution_count": 71,
     "metadata": {},
     "output_type": "execute_result"
    },
    {
     "data": {
      "text/plain": [
       "count = \t\n",
       "1357\t\n"
      ]
     },
     "execution_count": 71,
     "metadata": {},
     "output_type": "execute_result"
    },
    {
     "data": {
      "text/plain": [
       "count = \t\n",
       "1358\t\n"
      ]
     },
     "execution_count": 71,
     "metadata": {},
     "output_type": "execute_result"
    },
    {
     "data": {
      "text/plain": [
       "count = \t\n",
       "1359\t\n"
      ]
     },
     "execution_count": 71,
     "metadata": {},
     "output_type": "execute_result"
    },
    {
     "data": {
      "text/plain": [
       "count = \t\n",
       "1360\t\n"
      ]
     },
     "execution_count": 71,
     "metadata": {},
     "output_type": "execute_result"
    },
    {
     "data": {
      "text/plain": [
       "count = \t\n",
       "1361\t\n"
      ]
     },
     "execution_count": 71,
     "metadata": {},
     "output_type": "execute_result"
    },
    {
     "data": {
      "text/plain": [
       "count = \t\n",
       "1362\t\n"
      ]
     },
     "execution_count": 71,
     "metadata": {},
     "output_type": "execute_result"
    },
    {
     "data": {
      "text/plain": [
       "count = \t\n",
       "1363\t\n"
      ]
     },
     "execution_count": 71,
     "metadata": {},
     "output_type": "execute_result"
    },
    {
     "data": {
      "text/plain": [
       "count = \t\n",
       "1364\t\n"
      ]
     },
     "execution_count": 71,
     "metadata": {},
     "output_type": "execute_result"
    },
    {
     "data": {
      "text/plain": [
       "count = \t\n",
       "1365\t\n"
      ]
     },
     "execution_count": 71,
     "metadata": {},
     "output_type": "execute_result"
    },
    {
     "data": {
      "text/plain": [
       "count = \t\n",
       "1366\t\n"
      ]
     },
     "execution_count": 71,
     "metadata": {},
     "output_type": "execute_result"
    },
    {
     "data": {
      "text/plain": [
       "count = \t\n",
       "1367\t\n"
      ]
     },
     "execution_count": 71,
     "metadata": {},
     "output_type": "execute_result"
    },
    {
     "data": {
      "text/plain": [
       "count = \t\n",
       "1368\t\n"
      ]
     },
     "execution_count": 71,
     "metadata": {},
     "output_type": "execute_result"
    },
    {
     "data": {
      "text/plain": [
       "count = \t\n",
       "1369\t\n"
      ]
     },
     "execution_count": 71,
     "metadata": {},
     "output_type": "execute_result"
    },
    {
     "data": {
      "text/plain": [
       "count = \t\n",
       "1370\t\n"
      ]
     },
     "execution_count": 71,
     "metadata": {},
     "output_type": "execute_result"
    },
    {
     "data": {
      "text/plain": [
       "count = \t\n",
       "1371\t\n"
      ]
     },
     "execution_count": 71,
     "metadata": {},
     "output_type": "execute_result"
    },
    {
     "data": {
      "text/plain": [
       "count = \t\n",
       "1372\t\n"
      ]
     },
     "execution_count": 71,
     "metadata": {},
     "output_type": "execute_result"
    },
    {
     "data": {
      "text/plain": [
       "count = \t\n",
       "1373\t\n"
      ]
     },
     "execution_count": 71,
     "metadata": {},
     "output_type": "execute_result"
    },
    {
     "data": {
      "text/plain": [
       "count = \t\n",
       "1374\t\n"
      ]
     },
     "execution_count": 71,
     "metadata": {},
     "output_type": "execute_result"
    },
    {
     "data": {
      "text/plain": [
       "count = \t\n",
       "1375\t\n"
      ]
     },
     "execution_count": 71,
     "metadata": {},
     "output_type": "execute_result"
    },
    {
     "data": {
      "text/plain": [
       "count = \t\n",
       "1376\t\n"
      ]
     },
     "execution_count": 71,
     "metadata": {},
     "output_type": "execute_result"
    },
    {
     "data": {
      "text/plain": [
       "count = \t\n",
       "1377\t\n"
      ]
     },
     "execution_count": 71,
     "metadata": {},
     "output_type": "execute_result"
    },
    {
     "data": {
      "text/plain": [
       "count = \t\n",
       "1378\t\n"
      ]
     },
     "execution_count": 71,
     "metadata": {},
     "output_type": "execute_result"
    },
    {
     "data": {
      "text/plain": [
       "count = \t\n",
       "1379\t\n"
      ]
     },
     "execution_count": 71,
     "metadata": {},
     "output_type": "execute_result"
    },
    {
     "data": {
      "text/plain": [
       "count = \t\n",
       "1380\t\n"
      ]
     },
     "execution_count": 71,
     "metadata": {},
     "output_type": "execute_result"
    },
    {
     "data": {
      "text/plain": [
       "count = \t\n",
       "1381\t\n"
      ]
     },
     "execution_count": 71,
     "metadata": {},
     "output_type": "execute_result"
    },
    {
     "data": {
      "text/plain": [
       "count = \t\n",
       "1382\t\n"
      ]
     },
     "execution_count": 71,
     "metadata": {},
     "output_type": "execute_result"
    },
    {
     "data": {
      "text/plain": [
       "count = \t\n",
       "1383\t\n"
      ]
     },
     "execution_count": 71,
     "metadata": {},
     "output_type": "execute_result"
    },
    {
     "data": {
      "text/plain": [
       "count = \t\n",
       "1384\t\n"
      ]
     },
     "execution_count": 71,
     "metadata": {},
     "output_type": "execute_result"
    },
    {
     "data": {
      "text/plain": [
       "count = \t\n",
       "1385\t\n"
      ]
     },
     "execution_count": 71,
     "metadata": {},
     "output_type": "execute_result"
    },
    {
     "data": {
      "text/plain": [
       "count = \t\n",
       "1386\t\n"
      ]
     },
     "execution_count": 71,
     "metadata": {},
     "output_type": "execute_result"
    },
    {
     "data": {
      "text/plain": [
       "count = \t\n",
       "1387\t\n"
      ]
     },
     "execution_count": 71,
     "metadata": {},
     "output_type": "execute_result"
    },
    {
     "data": {
      "text/plain": [
       "count = \t\n",
       "1388\t\n"
      ]
     },
     "execution_count": 71,
     "metadata": {},
     "output_type": "execute_result"
    },
    {
     "data": {
      "text/plain": [
       "count = \t\n",
       "1389\t\n"
      ]
     },
     "execution_count": 71,
     "metadata": {},
     "output_type": "execute_result"
    },
    {
     "data": {
      "text/plain": [
       "count = \t\n",
       "1390\t\n"
      ]
     },
     "execution_count": 71,
     "metadata": {},
     "output_type": "execute_result"
    },
    {
     "data": {
      "text/plain": [
       "count = \t\n",
       "1391\t\n"
      ]
     },
     "execution_count": 71,
     "metadata": {},
     "output_type": "execute_result"
    },
    {
     "data": {
      "text/plain": [
       "count = \t\n",
       "1392\t\n"
      ]
     },
     "execution_count": 71,
     "metadata": {},
     "output_type": "execute_result"
    },
    {
     "data": {
      "text/plain": [
       "count = \t\n",
       "1393\t\n"
      ]
     },
     "execution_count": 71,
     "metadata": {},
     "output_type": "execute_result"
    },
    {
     "data": {
      "text/plain": [
       "count = \t\n",
       "1394\t\n"
      ]
     },
     "execution_count": 71,
     "metadata": {},
     "output_type": "execute_result"
    },
    {
     "data": {
      "text/plain": [
       "count = \t\n",
       "1395\t\n"
      ]
     },
     "execution_count": 71,
     "metadata": {},
     "output_type": "execute_result"
    },
    {
     "data": {
      "text/plain": [
       "count = \t\n",
       "1396\t\n"
      ]
     },
     "execution_count": 71,
     "metadata": {},
     "output_type": "execute_result"
    },
    {
     "data": {
      "text/plain": [
       "count = \t\n",
       "1397\t\n"
      ]
     },
     "execution_count": 71,
     "metadata": {},
     "output_type": "execute_result"
    },
    {
     "data": {
      "text/plain": [
       "count = \t\n",
       "1398\t\n"
      ]
     },
     "execution_count": 71,
     "metadata": {},
     "output_type": "execute_result"
    },
    {
     "data": {
      "text/plain": [
       "count = \t\n",
       "1399\t\n"
      ]
     },
     "execution_count": 71,
     "metadata": {},
     "output_type": "execute_result"
    },
    {
     "data": {
      "text/plain": [
       "count = \t\n",
       "1400\t\n"
      ]
     },
     "execution_count": 71,
     "metadata": {},
     "output_type": "execute_result"
    },
    {
     "data": {
      "text/plain": [
       "count = \t\n"
      ]
     },
     "execution_count": 71,
     "metadata": {},
     "output_type": "execute_result"
    },
    {
     "data": {
      "text/plain": [
       "1401\t\n"
      ]
     },
     "execution_count": 71,
     "metadata": {},
     "output_type": "execute_result"
    },
    {
     "data": {
      "text/plain": [
       "count = \t\n",
       "1402\t\n"
      ]
     },
     "execution_count": 71,
     "metadata": {},
     "output_type": "execute_result"
    },
    {
     "data": {
      "text/plain": [
       "no\t\n"
      ]
     },
     "execution_count": 71,
     "metadata": {},
     "output_type": "execute_result"
    },
    {
     "data": {
      "text/plain": [
       "count = \t\n",
       "1403\t\n"
      ]
     },
     "execution_count": 71,
     "metadata": {},
     "output_type": "execute_result"
    },
    {
     "data": {
      "text/plain": [
       "count = \t"
      ]
     },
     "execution_count": 71,
     "metadata": {},
     "output_type": "execute_result"
    },
    {
     "data": {
      "text/plain": [
       "\n",
       "1404\t\n"
      ]
     },
     "execution_count": 71,
     "metadata": {},
     "output_type": "execute_result"
    },
    {
     "data": {
      "text/plain": [
       "count = \t\n",
       "1405\t\n"
      ]
     },
     "execution_count": 71,
     "metadata": {},
     "output_type": "execute_result"
    },
    {
     "data": {
      "text/plain": [
       "count = \t\n",
       "1406\t\n"
      ]
     },
     "execution_count": 71,
     "metadata": {},
     "output_type": "execute_result"
    },
    {
     "data": {
      "text/plain": [
       "count = \t\n",
       "1407\t\n"
      ]
     },
     "execution_count": 71,
     "metadata": {},
     "output_type": "execute_result"
    },
    {
     "data": {
      "text/plain": [
       "count = \t\n",
       "1408\t\n"
      ]
     },
     "execution_count": 71,
     "metadata": {},
     "output_type": "execute_result"
    },
    {
     "data": {
      "text/plain": [
       "count = \t\n",
       "1409\t\n"
      ]
     },
     "execution_count": 71,
     "metadata": {},
     "output_type": "execute_result"
    },
    {
     "data": {
      "text/plain": [
       "count = \t\n",
       "1410\t\n"
      ]
     },
     "execution_count": 71,
     "metadata": {},
     "output_type": "execute_result"
    },
    {
     "data": {
      "text/plain": [
       "count = \t\n",
       "1411\t\n"
      ]
     },
     "execution_count": 71,
     "metadata": {},
     "output_type": "execute_result"
    },
    {
     "data": {
      "text/plain": [
       "count = \t\n",
       "1412\t\n"
      ]
     },
     "execution_count": 71,
     "metadata": {},
     "output_type": "execute_result"
    },
    {
     "data": {
      "text/plain": [
       "count = \t\n",
       "1413\t\n"
      ]
     },
     "execution_count": 71,
     "metadata": {},
     "output_type": "execute_result"
    },
    {
     "data": {
      "text/plain": [
       "count = \t\n",
       "1414\t\n"
      ]
     },
     "execution_count": 71,
     "metadata": {},
     "output_type": "execute_result"
    },
    {
     "data": {
      "text/plain": [
       "count = \t\n",
       "1415\t\n"
      ]
     },
     "execution_count": 71,
     "metadata": {},
     "output_type": "execute_result"
    },
    {
     "data": {
      "text/plain": [
       "count = \t\n",
       "1416\t\n"
      ]
     },
     "execution_count": 71,
     "metadata": {},
     "output_type": "execute_result"
    },
    {
     "data": {
      "text/plain": [
       "count = \t\n",
       "1417\t\n"
      ]
     },
     "execution_count": 71,
     "metadata": {},
     "output_type": "execute_result"
    },
    {
     "data": {
      "text/plain": [
       "count = \t\n",
       "1418\t\n"
      ]
     },
     "execution_count": 71,
     "metadata": {},
     "output_type": "execute_result"
    },
    {
     "data": {
      "text/plain": [
       "count = \t\n",
       "1419\t\n"
      ]
     },
     "execution_count": 71,
     "metadata": {},
     "output_type": "execute_result"
    },
    {
     "data": {
      "text/plain": [
       "count = \t\n",
       "1420\t\n"
      ]
     },
     "execution_count": 71,
     "metadata": {},
     "output_type": "execute_result"
    },
    {
     "data": {
      "text/plain": [
       "count = \t\n",
       "1421\t\n"
      ]
     },
     "execution_count": 71,
     "metadata": {},
     "output_type": "execute_result"
    },
    {
     "data": {
      "text/plain": [
       "count = \t\n",
       "1422\t\n"
      ]
     },
     "execution_count": 71,
     "metadata": {},
     "output_type": "execute_result"
    },
    {
     "data": {
      "text/plain": [
       "count = \t\n",
       "1423\t\n"
      ]
     },
     "execution_count": 71,
     "metadata": {},
     "output_type": "execute_result"
    },
    {
     "data": {
      "text/plain": [
       "count = \t\n",
       "1424\t\n"
      ]
     },
     "execution_count": 71,
     "metadata": {},
     "output_type": "execute_result"
    },
    {
     "data": {
      "text/plain": [
       "count = \t\n",
       "1425\t\n"
      ]
     },
     "execution_count": 71,
     "metadata": {},
     "output_type": "execute_result"
    },
    {
     "data": {
      "text/plain": [
       "count = \t\n",
       "1426\t\n"
      ]
     },
     "execution_count": 71,
     "metadata": {},
     "output_type": "execute_result"
    },
    {
     "data": {
      "text/plain": [
       "count = \t\n",
       "1427\t\n"
      ]
     },
     "execution_count": 71,
     "metadata": {},
     "output_type": "execute_result"
    },
    {
     "data": {
      "text/plain": [
       "count = \t\n",
       "1428\t\n"
      ]
     },
     "execution_count": 71,
     "metadata": {},
     "output_type": "execute_result"
    },
    {
     "data": {
      "text/plain": [
       "count = \t\n",
       "1429\t\n"
      ]
     },
     "execution_count": 71,
     "metadata": {},
     "output_type": "execute_result"
    },
    {
     "data": {
      "text/plain": [
       "count = \t\n",
       "1430\t\n"
      ]
     },
     "execution_count": 71,
     "metadata": {},
     "output_type": "execute_result"
    },
    {
     "data": {
      "text/plain": [
       "count = \t\n",
       "1431\t\n"
      ]
     },
     "execution_count": 71,
     "metadata": {},
     "output_type": "execute_result"
    },
    {
     "data": {
      "text/plain": [
       "count = \t\n",
       "1432\t\n"
      ]
     },
     "execution_count": 71,
     "metadata": {},
     "output_type": "execute_result"
    },
    {
     "data": {
      "text/plain": [
       "count = \t\n",
       "1433\t\n"
      ]
     },
     "execution_count": 71,
     "metadata": {},
     "output_type": "execute_result"
    },
    {
     "data": {
      "text/plain": [
       "count = \t\n",
       "1434\t\n"
      ]
     },
     "execution_count": 71,
     "metadata": {},
     "output_type": "execute_result"
    },
    {
     "data": {
      "text/plain": [
       "count = \t\n",
       "1435\t\n"
      ]
     },
     "execution_count": 71,
     "metadata": {},
     "output_type": "execute_result"
    },
    {
     "data": {
      "text/plain": [
       "count = \t\n",
       "1436\t\n"
      ]
     },
     "execution_count": 71,
     "metadata": {},
     "output_type": "execute_result"
    },
    {
     "data": {
      "text/plain": [
       "count = \t\n",
       "1437\t\n"
      ]
     },
     "execution_count": 71,
     "metadata": {},
     "output_type": "execute_result"
    },
    {
     "data": {
      "text/plain": [
       "count = \t\n",
       "1438\t\n"
      ]
     },
     "execution_count": 71,
     "metadata": {},
     "output_type": "execute_result"
    },
    {
     "data": {
      "text/plain": [
       "count = \t\n",
       "1439\t\n"
      ]
     },
     "execution_count": 71,
     "metadata": {},
     "output_type": "execute_result"
    },
    {
     "data": {
      "text/plain": [
       "count = \t\n",
       "1440\t\n"
      ]
     },
     "execution_count": 71,
     "metadata": {},
     "output_type": "execute_result"
    },
    {
     "data": {
      "text/plain": [
       "count = \t\n",
       "1441\t\n"
      ]
     },
     "execution_count": 71,
     "metadata": {},
     "output_type": "execute_result"
    },
    {
     "data": {
      "text/plain": [
       "count = \t\n",
       "1442\t\n"
      ]
     },
     "execution_count": 71,
     "metadata": {},
     "output_type": "execute_result"
    },
    {
     "data": {
      "text/plain": [
       "count = \t\n",
       "1443\t\n"
      ]
     },
     "execution_count": 71,
     "metadata": {},
     "output_type": "execute_result"
    },
    {
     "data": {
      "text/plain": [
       "count = \t\n",
       "1444\t\n"
      ]
     },
     "execution_count": 71,
     "metadata": {},
     "output_type": "execute_result"
    },
    {
     "data": {
      "text/plain": [
       "count = \t\n",
       "1445\t\n"
      ]
     },
     "execution_count": 71,
     "metadata": {},
     "output_type": "execute_result"
    },
    {
     "data": {
      "text/plain": [
       "count = \t\n",
       "1446\t\n"
      ]
     },
     "execution_count": 71,
     "metadata": {},
     "output_type": "execute_result"
    },
    {
     "data": {
      "text/plain": [
       "count = \t\n",
       "1447\t\n"
      ]
     },
     "execution_count": 71,
     "metadata": {},
     "output_type": "execute_result"
    },
    {
     "data": {
      "text/plain": [
       "count = \t\n"
      ]
     },
     "execution_count": 71,
     "metadata": {},
     "output_type": "execute_result"
    },
    {
     "data": {
      "text/plain": [
       "1448\t\n"
      ]
     },
     "execution_count": 71,
     "metadata": {},
     "output_type": "execute_result"
    },
    {
     "data": {
      "text/plain": [
       "count = \t\n",
       "1449\t\n"
      ]
     },
     "execution_count": 71,
     "metadata": {},
     "output_type": "execute_result"
    },
    {
     "data": {
      "text/plain": [
       "count = \t\n",
       "1450\t\n"
      ]
     },
     "execution_count": 71,
     "metadata": {},
     "output_type": "execute_result"
    },
    {
     "data": {
      "text/plain": [
       "count = \t\n",
       "1451\t\n"
      ]
     },
     "execution_count": 71,
     "metadata": {},
     "output_type": "execute_result"
    },
    {
     "data": {
      "text/plain": [
       "count = \t\n",
       "1452\t\n"
      ]
     },
     "execution_count": 71,
     "metadata": {},
     "output_type": "execute_result"
    },
    {
     "data": {
      "text/plain": [
       "count = \t\n",
       "1453\t\n"
      ]
     },
     "execution_count": 71,
     "metadata": {},
     "output_type": "execute_result"
    },
    {
     "data": {
      "text/plain": [
       "count = \t\n",
       "1454\t\n"
      ]
     },
     "execution_count": 71,
     "metadata": {},
     "output_type": "execute_result"
    },
    {
     "data": {
      "text/plain": [
       "count = \t\n",
       "1455\t\n"
      ]
     },
     "execution_count": 71,
     "metadata": {},
     "output_type": "execute_result"
    },
    {
     "data": {
      "text/plain": [
       "count = \t\n",
       "1456\t\n",
       "count = \t\n",
       "1457\t\n"
      ]
     },
     "execution_count": 71,
     "metadata": {},
     "output_type": "execute_result"
    },
    {
     "data": {
      "text/plain": [
       "count = \t\n",
       "1458\t\n"
      ]
     },
     "execution_count": 71,
     "metadata": {},
     "output_type": "execute_result"
    },
    {
     "data": {
      "text/plain": [
       "count = \t\n",
       "1459\t\n"
      ]
     },
     "execution_count": 71,
     "metadata": {},
     "output_type": "execute_result"
    },
    {
     "data": {
      "text/plain": [
       "count = \t\n",
       "1460\t\n"
      ]
     },
     "execution_count": 71,
     "metadata": {},
     "output_type": "execute_result"
    },
    {
     "data": {
      "text/plain": [
       "count = \t\n",
       "1461\t\n"
      ]
     },
     "execution_count": 71,
     "metadata": {},
     "output_type": "execute_result"
    },
    {
     "data": {
      "text/plain": [
       "count = \t\n",
       "1462\t\n"
      ]
     },
     "execution_count": 71,
     "metadata": {},
     "output_type": "execute_result"
    },
    {
     "data": {
      "text/plain": [
       "count = \t\n",
       "1463\t\n"
      ]
     },
     "execution_count": 71,
     "metadata": {},
     "output_type": "execute_result"
    },
    {
     "data": {
      "text/plain": [
       "no\t\n"
      ]
     },
     "execution_count": 71,
     "metadata": {},
     "output_type": "execute_result"
    },
    {
     "data": {
      "text/plain": [
       "count = \t\n",
       "1464\t\n"
      ]
     },
     "execution_count": 71,
     "metadata": {},
     "output_type": "execute_result"
    },
    {
     "data": {
      "text/plain": [
       "count = \t\n",
       "1465\t\n"
      ]
     },
     "execution_count": 71,
     "metadata": {},
     "output_type": "execute_result"
    },
    {
     "data": {
      "text/plain": [
       "count = \t\n",
       "1466\t\n"
      ]
     },
     "execution_count": 71,
     "metadata": {},
     "output_type": "execute_result"
    },
    {
     "data": {
      "text/plain": [
       "count = \t\n",
       "1467\t\n"
      ]
     },
     "execution_count": 71,
     "metadata": {},
     "output_type": "execute_result"
    },
    {
     "data": {
      "text/plain": [
       "count = \t\n",
       "1468\t\n"
      ]
     },
     "execution_count": 71,
     "metadata": {},
     "output_type": "execute_result"
    },
    {
     "data": {
      "text/plain": [
       "count = \t\n",
       "1469\t\n"
      ]
     },
     "execution_count": 71,
     "metadata": {},
     "output_type": "execute_result"
    },
    {
     "data": {
      "text/plain": [
       "count = \t\n",
       "1470\t\n"
      ]
     },
     "execution_count": 71,
     "metadata": {},
     "output_type": "execute_result"
    },
    {
     "data": {
      "text/plain": [
       "count = \t"
      ]
     },
     "execution_count": 71,
     "metadata": {},
     "output_type": "execute_result"
    },
    {
     "data": {
      "text/plain": [
       "\n",
       "1471\t\n"
      ]
     },
     "execution_count": 71,
     "metadata": {},
     "output_type": "execute_result"
    },
    {
     "data": {
      "text/plain": [
       "count = \t\n",
       "1472\t\n"
      ]
     },
     "execution_count": 71,
     "metadata": {},
     "output_type": "execute_result"
    },
    {
     "data": {
      "text/plain": [
       "count = \t\n",
       "1473\t\n"
      ]
     },
     "execution_count": 71,
     "metadata": {},
     "output_type": "execute_result"
    },
    {
     "data": {
      "text/plain": [
       "count = \t\n",
       "1474\t\n"
      ]
     },
     "execution_count": 71,
     "metadata": {},
     "output_type": "execute_result"
    },
    {
     "data": {
      "text/plain": [
       "count = \t\n",
       "1475\t\n"
      ]
     },
     "execution_count": 71,
     "metadata": {},
     "output_type": "execute_result"
    },
    {
     "data": {
      "text/plain": [
       "count = \t\n",
       "1476\t\n"
      ]
     },
     "execution_count": 71,
     "metadata": {},
     "output_type": "execute_result"
    },
    {
     "data": {
      "text/plain": [
       "count = \t\n",
       "1477\t\n"
      ]
     },
     "execution_count": 71,
     "metadata": {},
     "output_type": "execute_result"
    },
    {
     "data": {
      "text/plain": [
       "count = \t\n",
       "1478\t\n"
      ]
     },
     "execution_count": 71,
     "metadata": {},
     "output_type": "execute_result"
    },
    {
     "data": {
      "text/plain": [
       "count = \t\n",
       "1479\t\n"
      ]
     },
     "execution_count": 71,
     "metadata": {},
     "output_type": "execute_result"
    },
    {
     "data": {
      "text/plain": [
       "count = \t\n",
       "1480\t\n"
      ]
     },
     "execution_count": 71,
     "metadata": {},
     "output_type": "execute_result"
    },
    {
     "data": {
      "text/plain": [
       "count = \t\n",
       "1481\t\n"
      ]
     },
     "execution_count": 71,
     "metadata": {},
     "output_type": "execute_result"
    },
    {
     "data": {
      "text/plain": [
       "count = \t\n",
       "1482\t\n"
      ]
     },
     "execution_count": 71,
     "metadata": {},
     "output_type": "execute_result"
    },
    {
     "data": {
      "text/plain": [
       "count = \t\n",
       "1483\t\n"
      ]
     },
     "execution_count": 71,
     "metadata": {},
     "output_type": "execute_result"
    },
    {
     "data": {
      "text/plain": [
       "count = \t\n",
       "1484\t\n"
      ]
     },
     "execution_count": 71,
     "metadata": {},
     "output_type": "execute_result"
    },
    {
     "data": {
      "text/plain": [
       "count = \t\n",
       "1485\t\n"
      ]
     },
     "execution_count": 71,
     "metadata": {},
     "output_type": "execute_result"
    },
    {
     "data": {
      "text/plain": [
       "count = \t\n",
       "1486\t\n"
      ]
     },
     "execution_count": 71,
     "metadata": {},
     "output_type": "execute_result"
    },
    {
     "data": {
      "text/plain": [
       "count = \t\n",
       "1487\t\n"
      ]
     },
     "execution_count": 71,
     "metadata": {},
     "output_type": "execute_result"
    },
    {
     "data": {
      "text/plain": [
       "count = \t\n",
       "1488\t\n"
      ]
     },
     "execution_count": 71,
     "metadata": {},
     "output_type": "execute_result"
    },
    {
     "data": {
      "text/plain": [
       "count = \t\n",
       "1489\t\n"
      ]
     },
     "execution_count": 71,
     "metadata": {},
     "output_type": "execute_result"
    },
    {
     "data": {
      "text/plain": [
       "count = \t\n",
       "1490\t\n"
      ]
     },
     "execution_count": 71,
     "metadata": {},
     "output_type": "execute_result"
    },
    {
     "data": {
      "text/plain": [
       "count = \t\n",
       "1491\t\n"
      ]
     },
     "execution_count": 71,
     "metadata": {},
     "output_type": "execute_result"
    },
    {
     "data": {
      "text/plain": [
       "count = \t\n",
       "1492\t\n"
      ]
     },
     "execution_count": 71,
     "metadata": {},
     "output_type": "execute_result"
    },
    {
     "data": {
      "text/plain": [
       "count = \t\n",
       "1493\t\n"
      ]
     },
     "execution_count": 71,
     "metadata": {},
     "output_type": "execute_result"
    },
    {
     "data": {
      "text/plain": [
       "count = \t\n",
       "1494\t\n"
      ]
     },
     "execution_count": 71,
     "metadata": {},
     "output_type": "execute_result"
    },
    {
     "data": {
      "text/plain": [
       "count = \t\n",
       "1495\t\n"
      ]
     },
     "execution_count": 71,
     "metadata": {},
     "output_type": "execute_result"
    },
    {
     "data": {
      "text/plain": [
       "count = \t\n",
       "1496\t\n"
      ]
     },
     "execution_count": 71,
     "metadata": {},
     "output_type": "execute_result"
    },
    {
     "data": {
      "text/plain": [
       "count = \t\n",
       "1497\t\n"
      ]
     },
     "execution_count": 71,
     "metadata": {},
     "output_type": "execute_result"
    },
    {
     "data": {
      "text/plain": [
       "count = \t\n",
       "1498\t\n"
      ]
     },
     "execution_count": 71,
     "metadata": {},
     "output_type": "execute_result"
    },
    {
     "data": {
      "text/plain": [
       "count = \t\n",
       "1499\t\n"
      ]
     },
     "execution_count": 71,
     "metadata": {},
     "output_type": "execute_result"
    },
    {
     "data": {
      "text/plain": [
       "count = \t\n",
       "1500\t\n"
      ]
     },
     "execution_count": 71,
     "metadata": {},
     "output_type": "execute_result"
    },
    {
     "data": {
      "text/plain": [
       "count = \t\n",
       "1501\t\n"
      ]
     },
     "execution_count": 71,
     "metadata": {},
     "output_type": "execute_result"
    },
    {
     "data": {
      "text/plain": [
       "count = \t\n",
       "1502\t\n"
      ]
     },
     "execution_count": 71,
     "metadata": {},
     "output_type": "execute_result"
    },
    {
     "data": {
      "text/plain": [
       "count = \t\n",
       "1503\t\n"
      ]
     },
     "execution_count": 71,
     "metadata": {},
     "output_type": "execute_result"
    },
    {
     "data": {
      "text/plain": [
       "count = \t\n",
       "1504\t\n"
      ]
     },
     "execution_count": 71,
     "metadata": {},
     "output_type": "execute_result"
    },
    {
     "data": {
      "text/plain": [
       "count = \t\n",
       "1505\t\n"
      ]
     },
     "execution_count": 71,
     "metadata": {},
     "output_type": "execute_result"
    },
    {
     "data": {
      "text/plain": [
       "count = \t\n",
       "1506\t\n"
      ]
     },
     "execution_count": 71,
     "metadata": {},
     "output_type": "execute_result"
    },
    {
     "data": {
      "text/plain": [
       "count = \t\n",
       "1507\t\n"
      ]
     },
     "execution_count": 71,
     "metadata": {},
     "output_type": "execute_result"
    },
    {
     "data": {
      "text/plain": [
       "count = \t\n",
       "1508\t\n"
      ]
     },
     "execution_count": 71,
     "metadata": {},
     "output_type": "execute_result"
    },
    {
     "data": {
      "text/plain": [
       "count = \t\n",
       "1509\t\n"
      ]
     },
     "execution_count": 71,
     "metadata": {},
     "output_type": "execute_result"
    },
    {
     "data": {
      "text/plain": [
       "count = \t\n",
       "1510\t\n"
      ]
     },
     "execution_count": 71,
     "metadata": {},
     "output_type": "execute_result"
    },
    {
     "data": {
      "text/plain": [
       "count = \t\n",
       "1511\t\n"
      ]
     },
     "execution_count": 71,
     "metadata": {},
     "output_type": "execute_result"
    },
    {
     "data": {
      "text/plain": [
       "count = \t\n",
       "1512\t\n"
      ]
     },
     "execution_count": 71,
     "metadata": {},
     "output_type": "execute_result"
    },
    {
     "data": {
      "text/plain": [
       "count = \t\n",
       "1513\t\n"
      ]
     },
     "execution_count": 71,
     "metadata": {},
     "output_type": "execute_result"
    },
    {
     "data": {
      "text/plain": [
       "count = \t\n",
       "1514\t\n"
      ]
     },
     "execution_count": 71,
     "metadata": {},
     "output_type": "execute_result"
    },
    {
     "data": {
      "text/plain": [
       "count = \t\n",
       "1515\t\n"
      ]
     },
     "execution_count": 71,
     "metadata": {},
     "output_type": "execute_result"
    },
    {
     "data": {
      "text/plain": [
       "count = \t\n",
       "1516\t\n"
      ]
     },
     "execution_count": 71,
     "metadata": {},
     "output_type": "execute_result"
    },
    {
     "data": {
      "text/plain": [
       "count = \t\n",
       "1517\t\n"
      ]
     },
     "execution_count": 71,
     "metadata": {},
     "output_type": "execute_result"
    },
    {
     "data": {
      "text/plain": [
       "count = \t\n",
       "1518\t\n"
      ]
     },
     "execution_count": 71,
     "metadata": {},
     "output_type": "execute_result"
    },
    {
     "data": {
      "text/plain": [
       "count = \t\n",
       "1519\t\n"
      ]
     },
     "execution_count": 71,
     "metadata": {},
     "output_type": "execute_result"
    },
    {
     "data": {
      "text/plain": [
       "count = \t\n",
       "1520\t\n"
      ]
     },
     "execution_count": 71,
     "metadata": {},
     "output_type": "execute_result"
    },
    {
     "data": {
      "text/plain": [
       "count = \t\n",
       "1521\t\n"
      ]
     },
     "execution_count": 71,
     "metadata": {},
     "output_type": "execute_result"
    },
    {
     "data": {
      "text/plain": [
       "count = \t\n",
       "1522\t\n"
      ]
     },
     "execution_count": 71,
     "metadata": {},
     "output_type": "execute_result"
    },
    {
     "data": {
      "text/plain": [
       "count = \t\n",
       "1523\t\n"
      ]
     },
     "execution_count": 71,
     "metadata": {},
     "output_type": "execute_result"
    },
    {
     "data": {
      "text/plain": [
       "count = \t\n",
       "1524\t\n"
      ]
     },
     "execution_count": 71,
     "metadata": {},
     "output_type": "execute_result"
    },
    {
     "data": {
      "text/plain": [
       "count = \t\n",
       "1525\t\n"
      ]
     },
     "execution_count": 71,
     "metadata": {},
     "output_type": "execute_result"
    },
    {
     "data": {
      "text/plain": [
       "count = \t\n",
       "1526\t\n"
      ]
     },
     "execution_count": 71,
     "metadata": {},
     "output_type": "execute_result"
    },
    {
     "data": {
      "text/plain": [
       "count = \t\n",
       "1527\t\n",
       "count = \t\n",
       "1528\t\n"
      ]
     },
     "execution_count": 71,
     "metadata": {},
     "output_type": "execute_result"
    },
    {
     "data": {
      "text/plain": [
       "count = \t\n",
       "1529\t\n"
      ]
     },
     "execution_count": 71,
     "metadata": {},
     "output_type": "execute_result"
    },
    {
     "data": {
      "text/plain": [
       "count = \t\n"
      ]
     },
     "execution_count": 71,
     "metadata": {},
     "output_type": "execute_result"
    },
    {
     "data": {
      "text/plain": [
       "1530\t\n"
      ]
     },
     "execution_count": 71,
     "metadata": {},
     "output_type": "execute_result"
    },
    {
     "data": {
      "text/plain": [
       "count = \t\n",
       "1531\t\n",
       "count = \t\n",
       "1532\t\n"
      ]
     },
     "execution_count": 71,
     "metadata": {},
     "output_type": "execute_result"
    },
    {
     "data": {
      "text/plain": [
       "count = \t\n",
       "1533\t\n"
      ]
     },
     "execution_count": 71,
     "metadata": {},
     "output_type": "execute_result"
    },
    {
     "data": {
      "text/plain": [
       "no\t\n"
      ]
     },
     "execution_count": 71,
     "metadata": {},
     "output_type": "execute_result"
    },
    {
     "data": {
      "text/plain": [
       "count = \t\n",
       "1534\t\n"
      ]
     },
     "execution_count": 71,
     "metadata": {},
     "output_type": "execute_result"
    },
    {
     "data": {
      "text/plain": [
       "count = \t\n",
       "1535\t\n"
      ]
     },
     "execution_count": 71,
     "metadata": {},
     "output_type": "execute_result"
    },
    {
     "data": {
      "text/plain": [
       "count = \t\n",
       "1536\t\n"
      ]
     },
     "execution_count": 71,
     "metadata": {},
     "output_type": "execute_result"
    },
    {
     "data": {
      "text/plain": [
       "count = \t\n",
       "1537\t\n"
      ]
     },
     "execution_count": 71,
     "metadata": {},
     "output_type": "execute_result"
    },
    {
     "data": {
      "text/plain": [
       "count = \t\n",
       "1538\t\n"
      ]
     },
     "execution_count": 71,
     "metadata": {},
     "output_type": "execute_result"
    },
    {
     "data": {
      "text/plain": [
       "count = \t\n",
       "1539\t\n"
      ]
     },
     "execution_count": 71,
     "metadata": {},
     "output_type": "execute_result"
    },
    {
     "data": {
      "text/plain": [
       "count = \t\n",
       "1540\t\n"
      ]
     },
     "execution_count": 71,
     "metadata": {},
     "output_type": "execute_result"
    },
    {
     "data": {
      "text/plain": [
       "count = \t\n",
       "1541\t\n"
      ]
     },
     "execution_count": 71,
     "metadata": {},
     "output_type": "execute_result"
    },
    {
     "data": {
      "text/plain": [
       "count = \t\n",
       "1542\t\n"
      ]
     },
     "execution_count": 71,
     "metadata": {},
     "output_type": "execute_result"
    },
    {
     "data": {
      "text/plain": [
       "count = \t\n",
       "1543\t\n",
       "count = \t\n",
       "1544\t\n"
      ]
     },
     "execution_count": 71,
     "metadata": {},
     "output_type": "execute_result"
    },
    {
     "data": {
      "text/plain": [
       "count = \t\n",
       "1545\t\n"
      ]
     },
     "execution_count": 71,
     "metadata": {},
     "output_type": "execute_result"
    },
    {
     "data": {
      "text/plain": [
       "count = \t\n",
       "1546\t\n"
      ]
     },
     "execution_count": 71,
     "metadata": {},
     "output_type": "execute_result"
    },
    {
     "data": {
      "text/plain": [
       "count = \t\n",
       "1547\t\n"
      ]
     },
     "execution_count": 71,
     "metadata": {},
     "output_type": "execute_result"
    },
    {
     "data": {
      "text/plain": [
       "count = \t\n",
       "1548\t\n"
      ]
     },
     "execution_count": 71,
     "metadata": {},
     "output_type": "execute_result"
    },
    {
     "data": {
      "text/plain": [
       "count = \t\n",
       "1549\t\n"
      ]
     },
     "execution_count": 71,
     "metadata": {},
     "output_type": "execute_result"
    },
    {
     "data": {
      "text/plain": [
       "count = \t\n",
       "1550\t\n"
      ]
     },
     "execution_count": 71,
     "metadata": {},
     "output_type": "execute_result"
    },
    {
     "data": {
      "text/plain": [
       "count = \t\n",
       "1551\t\n"
      ]
     },
     "execution_count": 71,
     "metadata": {},
     "output_type": "execute_result"
    },
    {
     "data": {
      "text/plain": [
       "count = \t\n",
       "1552\t\n"
      ]
     },
     "execution_count": 71,
     "metadata": {},
     "output_type": "execute_result"
    },
    {
     "data": {
      "text/plain": [
       "count = \t\n",
       "1553\t\n"
      ]
     },
     "execution_count": 71,
     "metadata": {},
     "output_type": "execute_result"
    },
    {
     "data": {
      "text/plain": [
       "count = \t\n",
       "1554\t\n"
      ]
     },
     "execution_count": 71,
     "metadata": {},
     "output_type": "execute_result"
    },
    {
     "data": {
      "text/plain": [
       "count = \t\n",
       "1555\t\n"
      ]
     },
     "execution_count": 71,
     "metadata": {},
     "output_type": "execute_result"
    },
    {
     "data": {
      "text/plain": [
       "count = \t\n",
       "1556\t\n"
      ]
     },
     "execution_count": 71,
     "metadata": {},
     "output_type": "execute_result"
    },
    {
     "data": {
      "text/plain": [
       "count = \t\n",
       "1557\t\n"
      ]
     },
     "execution_count": 71,
     "metadata": {},
     "output_type": "execute_result"
    },
    {
     "data": {
      "text/plain": [
       "count = \t\n",
       "1558\t\n"
      ]
     },
     "execution_count": 71,
     "metadata": {},
     "output_type": "execute_result"
    },
    {
     "name": "stdout",
     "output_type": "stream",
     "text": [
      "\r",
      " [==========================================================>...........................]                               \b\b\b\b\b\b\b\b\b\b\b\b\b\b\b\b\b\b\b\b\b\b\b\b\b\b\b\b\b\b ETA: 2m17s | Step: 194ms\b\b\b\b\b\b\b\b\b\b\b\b\b\b\b\b\b\b\b\b\b\b\b\b\b\b\b\b\b\b\b\b\b\b\b\b\b\b\b\b\b\b\b\b\b\b\b\b\b\b\b\b\b\b\b\b\b\b\b\b\b\b\b\b\b\b\b\b\b\b\b\b\b "
     ]
    },
    {
     "data": {
      "text/plain": [
       "count = \t\n",
       "1559\t\n"
      ]
     },
     "execution_count": 71,
     "metadata": {},
     "output_type": "execute_result"
    },
    {
     "data": {
      "text/plain": [
       "count = \t\n",
       "1560\t\n"
      ]
     },
     "execution_count": 71,
     "metadata": {},
     "output_type": "execute_result"
    },
    {
     "data": {
      "text/plain": [
       "count = \t\n",
       "1561\t\n"
      ]
     },
     "execution_count": 71,
     "metadata": {},
     "output_type": "execute_result"
    },
    {
     "data": {
      "text/plain": [
       "count = \t\n",
       "1562\t\n"
      ]
     },
     "execution_count": 71,
     "metadata": {},
     "output_type": "execute_result"
    },
    {
     "data": {
      "text/plain": [
       "count = \t\n",
       "1563\t\n"
      ]
     },
     "execution_count": 71,
     "metadata": {},
     "output_type": "execute_result"
    },
    {
     "data": {
      "text/plain": [
       "count = \t\n",
       "1564\t\n"
      ]
     },
     "execution_count": 71,
     "metadata": {},
     "output_type": "execute_result"
    },
    {
     "data": {
      "text/plain": [
       "count = \t\n",
       "1565\t"
      ]
     },
     "execution_count": 71,
     "metadata": {},
     "output_type": "execute_result"
    },
    {
     "data": {
      "text/plain": [
       "\n"
      ]
     },
     "execution_count": 71,
     "metadata": {},
     "output_type": "execute_result"
    },
    {
     "data": {
      "text/plain": [
       "count = \t\n",
       "1566\t\n"
      ]
     },
     "execution_count": 71,
     "metadata": {},
     "output_type": "execute_result"
    },
    {
     "data": {
      "text/plain": [
       "count = \t\n",
       "1567\t\n"
      ]
     },
     "execution_count": 71,
     "metadata": {},
     "output_type": "execute_result"
    },
    {
     "data": {
      "text/plain": [
       "count = \t\n",
       "1568\t\n"
      ]
     },
     "execution_count": 71,
     "metadata": {},
     "output_type": "execute_result"
    },
    {
     "data": {
      "text/plain": [
       "count = \t\n",
       "1569\t\n"
      ]
     },
     "execution_count": 71,
     "metadata": {},
     "output_type": "execute_result"
    },
    {
     "data": {
      "text/plain": [
       "count = \t\n",
       "1570\t\n"
      ]
     },
     "execution_count": 71,
     "metadata": {},
     "output_type": "execute_result"
    },
    {
     "data": {
      "text/plain": [
       "count = \t\n",
       "1571\t\n"
      ]
     },
     "execution_count": 71,
     "metadata": {},
     "output_type": "execute_result"
    },
    {
     "data": {
      "text/plain": [
       "count = \t\n",
       "1572\t\n"
      ]
     },
     "execution_count": 71,
     "metadata": {},
     "output_type": "execute_result"
    },
    {
     "data": {
      "text/plain": [
       "count = \t\n",
       "1573\t\n"
      ]
     },
     "execution_count": 71,
     "metadata": {},
     "output_type": "execute_result"
    },
    {
     "data": {
      "text/plain": [
       "count = \t\n",
       "1574\t\n"
      ]
     },
     "execution_count": 71,
     "metadata": {},
     "output_type": "execute_result"
    },
    {
     "data": {
      "text/plain": [
       "count = \t\n",
       "1575\t\n"
      ]
     },
     "execution_count": 71,
     "metadata": {},
     "output_type": "execute_result"
    },
    {
     "data": {
      "text/plain": [
       "count = \t\n",
       "1576\t\n"
      ]
     },
     "execution_count": 71,
     "metadata": {},
     "output_type": "execute_result"
    },
    {
     "data": {
      "text/plain": [
       "count = \t\n",
       "1577\t\n"
      ]
     },
     "execution_count": 71,
     "metadata": {},
     "output_type": "execute_result"
    },
    {
     "data": {
      "text/plain": [
       "count = \t\n",
       "1578\t\n"
      ]
     },
     "execution_count": 71,
     "metadata": {},
     "output_type": "execute_result"
    },
    {
     "data": {
      "text/plain": [
       "count = \t\n",
       "1579\t\n",
       "count = \t\n",
       "1580\t\n"
      ]
     },
     "execution_count": 71,
     "metadata": {},
     "output_type": "execute_result"
    },
    {
     "data": {
      "text/plain": [
       "count = \t\n",
       "1581\t\n"
      ]
     },
     "execution_count": 71,
     "metadata": {},
     "output_type": "execute_result"
    },
    {
     "data": {
      "text/plain": [
       "count = \t\n",
       "1582\t\n"
      ]
     },
     "execution_count": 71,
     "metadata": {},
     "output_type": "execute_result"
    },
    {
     "data": {
      "text/plain": [
       "count = \t\n",
       "1583\t\n"
      ]
     },
     "execution_count": 71,
     "metadata": {},
     "output_type": "execute_result"
    },
    {
     "data": {
      "text/plain": [
       "count = \t\n",
       "1584\t\n"
      ]
     },
     "execution_count": 71,
     "metadata": {},
     "output_type": "execute_result"
    },
    {
     "data": {
      "text/plain": [
       "count = \t\n",
       "1585\t\n"
      ]
     },
     "execution_count": 71,
     "metadata": {},
     "output_type": "execute_result"
    },
    {
     "data": {
      "text/plain": [
       "count = \t\n",
       "1586\t\n"
      ]
     },
     "execution_count": 71,
     "metadata": {},
     "output_type": "execute_result"
    },
    {
     "data": {
      "text/plain": [
       "count = \t\n",
       "1587\t\n"
      ]
     },
     "execution_count": 71,
     "metadata": {},
     "output_type": "execute_result"
    },
    {
     "data": {
      "text/plain": [
       "count = \t\n",
       "1588\t\n"
      ]
     },
     "execution_count": 71,
     "metadata": {},
     "output_type": "execute_result"
    },
    {
     "data": {
      "text/plain": [
       "count = \t\n",
       "1589\t\n"
      ]
     },
     "execution_count": 71,
     "metadata": {},
     "output_type": "execute_result"
    },
    {
     "data": {
      "text/plain": [
       "count = \t\n",
       "1590\t\n"
      ]
     },
     "execution_count": 71,
     "metadata": {},
     "output_type": "execute_result"
    },
    {
     "data": {
      "text/plain": [
       "count = \t\n",
       "1591\t\n"
      ]
     },
     "execution_count": 71,
     "metadata": {},
     "output_type": "execute_result"
    },
    {
     "data": {
      "text/plain": [
       "count = \t\n",
       "1592\t\n"
      ]
     },
     "execution_count": 71,
     "metadata": {},
     "output_type": "execute_result"
    },
    {
     "data": {
      "text/plain": [
       "count = \t\n",
       "1593\t\n"
      ]
     },
     "execution_count": 71,
     "metadata": {},
     "output_type": "execute_result"
    },
    {
     "data": {
      "text/plain": [
       "count = \t\n",
       "1594\t\n"
      ]
     },
     "execution_count": 71,
     "metadata": {},
     "output_type": "execute_result"
    },
    {
     "data": {
      "text/plain": [
       "count = \t\n",
       "1595\t\n"
      ]
     },
     "execution_count": 71,
     "metadata": {},
     "output_type": "execute_result"
    },
    {
     "data": {
      "text/plain": [
       "count = \t\n",
       "1596\t\n"
      ]
     },
     "execution_count": 71,
     "metadata": {},
     "output_type": "execute_result"
    },
    {
     "data": {
      "text/plain": [
       "count = \t\n",
       "1597\t\n"
      ]
     },
     "execution_count": 71,
     "metadata": {},
     "output_type": "execute_result"
    },
    {
     "data": {
      "text/plain": [
       "count = \t\n",
       "1598\t\n"
      ]
     },
     "execution_count": 71,
     "metadata": {},
     "output_type": "execute_result"
    },
    {
     "data": {
      "text/plain": [
       "count = \t\n",
       "1599\t\n",
       "count = \t\n",
       "1600\t\n"
      ]
     },
     "execution_count": 71,
     "metadata": {},
     "output_type": "execute_result"
    },
    {
     "data": {
      "text/plain": [
       "count = \t\n",
       "1601\t\n"
      ]
     },
     "execution_count": 71,
     "metadata": {},
     "output_type": "execute_result"
    },
    {
     "data": {
      "text/plain": [
       "count = \t\n",
       "1602\t\n"
      ]
     },
     "execution_count": 71,
     "metadata": {},
     "output_type": "execute_result"
    },
    {
     "data": {
      "text/plain": [
       "count = \t\n",
       "1603\t\n"
      ]
     },
     "execution_count": 71,
     "metadata": {},
     "output_type": "execute_result"
    },
    {
     "data": {
      "text/plain": [
       "count = \t\n",
       "1604\t\n"
      ]
     },
     "execution_count": 71,
     "metadata": {},
     "output_type": "execute_result"
    },
    {
     "data": {
      "text/plain": [
       "no\t\n"
      ]
     },
     "execution_count": 71,
     "metadata": {},
     "output_type": "execute_result"
    },
    {
     "data": {
      "text/plain": [
       "count = \t\n",
       "1605\t\n"
      ]
     },
     "execution_count": 71,
     "metadata": {},
     "output_type": "execute_result"
    },
    {
     "data": {
      "text/plain": [
       "count = \t\n",
       "1606\t\n"
      ]
     },
     "execution_count": 71,
     "metadata": {},
     "output_type": "execute_result"
    },
    {
     "data": {
      "text/plain": [
       "count = \t\n",
       "1607\t\n",
       "count = \t\n",
       "1608\t\n"
      ]
     },
     "execution_count": 71,
     "metadata": {},
     "output_type": "execute_result"
    },
    {
     "data": {
      "text/plain": [
       "count = \t\n",
       "1609\t\n"
      ]
     },
     "execution_count": 71,
     "metadata": {},
     "output_type": "execute_result"
    },
    {
     "data": {
      "text/plain": [
       "count = \t\n"
      ]
     },
     "execution_count": 71,
     "metadata": {},
     "output_type": "execute_result"
    },
    {
     "data": {
      "text/plain": [
       "1610\t\n",
       "count = \t\n",
       "1611\t\n"
      ]
     },
     "execution_count": 71,
     "metadata": {},
     "output_type": "execute_result"
    },
    {
     "data": {
      "text/plain": [
       "count = \t\n",
       "1612\t\n",
       "count = \t\n",
       "1613\t\n"
      ]
     },
     "execution_count": 71,
     "metadata": {},
     "output_type": "execute_result"
    },
    {
     "data": {
      "text/plain": [
       "count = \t\n",
       "1614\t\n"
      ]
     },
     "execution_count": 71,
     "metadata": {},
     "output_type": "execute_result"
    },
    {
     "data": {
      "text/plain": [
       "count = \t\n",
       "1615\t\n"
      ]
     },
     "execution_count": 71,
     "metadata": {},
     "output_type": "execute_result"
    },
    {
     "data": {
      "text/plain": [
       "count = \t\n",
       "1616\t\n"
      ]
     },
     "execution_count": 71,
     "metadata": {},
     "output_type": "execute_result"
    },
    {
     "data": {
      "text/plain": [
       "count = \t\n",
       "1617\t\n"
      ]
     },
     "execution_count": 71,
     "metadata": {},
     "output_type": "execute_result"
    },
    {
     "data": {
      "text/plain": [
       "count = \t\n",
       "1618\t\n"
      ]
     },
     "execution_count": 71,
     "metadata": {},
     "output_type": "execute_result"
    },
    {
     "data": {
      "text/plain": [
       "count = \t\n",
       "1619\t\n",
       "count = \t\n",
       "1620\t\n"
      ]
     },
     "execution_count": 71,
     "metadata": {},
     "output_type": "execute_result"
    },
    {
     "data": {
      "text/plain": [
       "count = \t\n",
       "1621\t\n"
      ]
     },
     "execution_count": 71,
     "metadata": {},
     "output_type": "execute_result"
    },
    {
     "data": {
      "text/plain": [
       "count = \t\n",
       "1622\t\n"
      ]
     },
     "execution_count": 71,
     "metadata": {},
     "output_type": "execute_result"
    },
    {
     "data": {
      "text/plain": [
       "count = \t\n",
       "1623\t\n"
      ]
     },
     "execution_count": 71,
     "metadata": {},
     "output_type": "execute_result"
    },
    {
     "data": {
      "text/plain": [
       "count = \t\n",
       "1624\t\n"
      ]
     },
     "execution_count": 71,
     "metadata": {},
     "output_type": "execute_result"
    },
    {
     "data": {
      "text/plain": [
       "count = \t\n",
       "1625\t\n"
      ]
     },
     "execution_count": 71,
     "metadata": {},
     "output_type": "execute_result"
    },
    {
     "data": {
      "text/plain": [
       "count = \t\n",
       "1626\t\n"
      ]
     },
     "execution_count": 71,
     "metadata": {},
     "output_type": "execute_result"
    },
    {
     "data": {
      "text/plain": [
       "count = \t\n",
       "1627\t\n"
      ]
     },
     "execution_count": 71,
     "metadata": {},
     "output_type": "execute_result"
    },
    {
     "data": {
      "text/plain": [
       "count = \t\n"
      ]
     },
     "execution_count": 71,
     "metadata": {},
     "output_type": "execute_result"
    },
    {
     "data": {
      "text/plain": [
       "1628\t\n"
      ]
     },
     "execution_count": 71,
     "metadata": {},
     "output_type": "execute_result"
    },
    {
     "data": {
      "text/plain": [
       "count = \t\n",
       "1629\t\n"
      ]
     },
     "execution_count": 71,
     "metadata": {},
     "output_type": "execute_result"
    },
    {
     "data": {
      "text/plain": [
       "count = \t\n",
       "1630\t\n",
       "count = \t\n",
       "1631\t\n"
      ]
     },
     "execution_count": 71,
     "metadata": {},
     "output_type": "execute_result"
    },
    {
     "data": {
      "text/plain": [
       "count = \t\n",
       "1632\t\n"
      ]
     },
     "execution_count": 71,
     "metadata": {},
     "output_type": "execute_result"
    },
    {
     "data": {
      "text/plain": [
       "count = \t\n",
       "1633\t\n"
      ]
     },
     "execution_count": 71,
     "metadata": {},
     "output_type": "execute_result"
    },
    {
     "data": {
      "text/plain": [
       "count = \t\n",
       "1634\t\n"
      ]
     },
     "execution_count": 71,
     "metadata": {},
     "output_type": "execute_result"
    },
    {
     "data": {
      "text/plain": [
       "count = \t\n",
       "1635\t\n"
      ]
     },
     "execution_count": 71,
     "metadata": {},
     "output_type": "execute_result"
    },
    {
     "data": {
      "text/plain": [
       "count = \t\n",
       "1636\t\n"
      ]
     },
     "execution_count": 71,
     "metadata": {},
     "output_type": "execute_result"
    },
    {
     "data": {
      "text/plain": [
       "count = \t\n",
       "1637\t\n"
      ]
     },
     "execution_count": 71,
     "metadata": {},
     "output_type": "execute_result"
    },
    {
     "data": {
      "text/plain": [
       "count = \t\n",
       "1638\t\n"
      ]
     },
     "execution_count": 71,
     "metadata": {},
     "output_type": "execute_result"
    },
    {
     "data": {
      "text/plain": [
       "count = \t\n",
       "1639\t\n"
      ]
     },
     "execution_count": 71,
     "metadata": {},
     "output_type": "execute_result"
    },
    {
     "data": {
      "text/plain": [
       "count = \t\n",
       "1640\t\n",
       "no\t\n"
      ]
     },
     "execution_count": 71,
     "metadata": {},
     "output_type": "execute_result"
    },
    {
     "data": {
      "text/plain": [
       "count = \t\n",
       "1641\t\n"
      ]
     },
     "execution_count": 71,
     "metadata": {},
     "output_type": "execute_result"
    },
    {
     "data": {
      "text/plain": [
       "count = \t\n",
       "1642\t\n"
      ]
     },
     "execution_count": 71,
     "metadata": {},
     "output_type": "execute_result"
    },
    {
     "data": {
      "text/plain": [
       "count = \t\n",
       "1643\t\n"
      ]
     },
     "execution_count": 71,
     "metadata": {},
     "output_type": "execute_result"
    },
    {
     "data": {
      "text/plain": [
       "count = \t\n",
       "1644\t\n"
      ]
     },
     "execution_count": 71,
     "metadata": {},
     "output_type": "execute_result"
    },
    {
     "data": {
      "text/plain": [
       "count = \t\n",
       "1645\t\n"
      ]
     },
     "execution_count": 71,
     "metadata": {},
     "output_type": "execute_result"
    },
    {
     "data": {
      "text/plain": [
       "count = \t\n",
       "1646\t\n"
      ]
     },
     "execution_count": 71,
     "metadata": {},
     "output_type": "execute_result"
    },
    {
     "data": {
      "text/plain": [
       "count = \t\n",
       "1647\t\n"
      ]
     },
     "execution_count": 71,
     "metadata": {},
     "output_type": "execute_result"
    },
    {
     "data": {
      "text/plain": [
       "count = \t\n"
      ]
     },
     "execution_count": 71,
     "metadata": {},
     "output_type": "execute_result"
    },
    {
     "data": {
      "text/plain": [
       "1648\t\n"
      ]
     },
     "execution_count": 71,
     "metadata": {},
     "output_type": "execute_result"
    },
    {
     "data": {
      "text/plain": [
       "count = \t\n",
       "1649\t\n"
      ]
     },
     "execution_count": 71,
     "metadata": {},
     "output_type": "execute_result"
    },
    {
     "data": {
      "text/plain": [
       "count = \t\n",
       "1650\t\n"
      ]
     },
     "execution_count": 71,
     "metadata": {},
     "output_type": "execute_result"
    },
    {
     "data": {
      "text/plain": [
       "count = \t\n",
       "1651\t\n"
      ]
     },
     "execution_count": 71,
     "metadata": {},
     "output_type": "execute_result"
    },
    {
     "data": {
      "text/plain": [
       "count = \t\n",
       "1652\t\n"
      ]
     },
     "execution_count": 71,
     "metadata": {},
     "output_type": "execute_result"
    },
    {
     "data": {
      "text/plain": [
       "count = \t\n",
       "1653\t\n"
      ]
     },
     "execution_count": 71,
     "metadata": {},
     "output_type": "execute_result"
    },
    {
     "data": {
      "text/plain": [
       "count = \t\n",
       "1654\t\n"
      ]
     },
     "execution_count": 71,
     "metadata": {},
     "output_type": "execute_result"
    },
    {
     "data": {
      "text/plain": [
       "count = \t\n",
       "1655\t\n"
      ]
     },
     "execution_count": 71,
     "metadata": {},
     "output_type": "execute_result"
    },
    {
     "data": {
      "text/plain": [
       "count = \t\n",
       "1656\t\n"
      ]
     },
     "execution_count": 71,
     "metadata": {},
     "output_type": "execute_result"
    },
    {
     "data": {
      "text/plain": [
       "count = \t\n",
       "1657\t\n"
      ]
     },
     "execution_count": 71,
     "metadata": {},
     "output_type": "execute_result"
    },
    {
     "data": {
      "text/plain": [
       "count = \t\n",
       "1658\t\n"
      ]
     },
     "execution_count": 71,
     "metadata": {},
     "output_type": "execute_result"
    },
    {
     "data": {
      "text/plain": [
       "count = \t\n",
       "1659\t\n"
      ]
     },
     "execution_count": 71,
     "metadata": {},
     "output_type": "execute_result"
    },
    {
     "data": {
      "text/plain": [
       "count = \t\n",
       "1660\t\n"
      ]
     },
     "execution_count": 71,
     "metadata": {},
     "output_type": "execute_result"
    },
    {
     "data": {
      "text/plain": [
       "count = \t\n",
       "1661\t\n"
      ]
     },
     "execution_count": 71,
     "metadata": {},
     "output_type": "execute_result"
    },
    {
     "data": {
      "text/plain": [
       "count = \t\n",
       "1662\t\n"
      ]
     },
     "execution_count": 71,
     "metadata": {},
     "output_type": "execute_result"
    },
    {
     "data": {
      "text/plain": [
       "count = \t\n",
       "1663\t\n"
      ]
     },
     "execution_count": 71,
     "metadata": {},
     "output_type": "execute_result"
    },
    {
     "data": {
      "text/plain": [
       "count = \t\n",
       "1664\t\n"
      ]
     },
     "execution_count": 71,
     "metadata": {},
     "output_type": "execute_result"
    },
    {
     "data": {
      "text/plain": [
       "no\t\n"
      ]
     },
     "execution_count": 71,
     "metadata": {},
     "output_type": "execute_result"
    },
    {
     "data": {
      "text/plain": [
       "count = \t\n",
       "1665\t\n"
      ]
     },
     "execution_count": 71,
     "metadata": {},
     "output_type": "execute_result"
    },
    {
     "data": {
      "text/plain": [
       "count = \t\n",
       "1666\t\n"
      ]
     },
     "execution_count": 71,
     "metadata": {},
     "output_type": "execute_result"
    },
    {
     "data": {
      "text/plain": [
       "count = \t\n",
       "1667\t\n"
      ]
     },
     "execution_count": 71,
     "metadata": {},
     "output_type": "execute_result"
    },
    {
     "data": {
      "text/plain": [
       "count = \t\n",
       "1668\t\n"
      ]
     },
     "execution_count": 71,
     "metadata": {},
     "output_type": "execute_result"
    },
    {
     "data": {
      "text/plain": [
       "count = \t\n",
       "1669\t\n"
      ]
     },
     "execution_count": 71,
     "metadata": {},
     "output_type": "execute_result"
    },
    {
     "data": {
      "text/plain": [
       "count = \t\n",
       "1670\t\n"
      ]
     },
     "execution_count": 71,
     "metadata": {},
     "output_type": "execute_result"
    },
    {
     "data": {
      "text/plain": [
       "count = \t\n",
       "1671\t\n"
      ]
     },
     "execution_count": 71,
     "metadata": {},
     "output_type": "execute_result"
    },
    {
     "data": {
      "text/plain": [
       "count = \t\n",
       "1672\t\n"
      ]
     },
     "execution_count": 71,
     "metadata": {},
     "output_type": "execute_result"
    },
    {
     "data": {
      "text/plain": [
       "count = \t\n",
       "1673\t\n",
       "count = \t\n",
       "1674\t\n"
      ]
     },
     "execution_count": 71,
     "metadata": {},
     "output_type": "execute_result"
    },
    {
     "data": {
      "text/plain": [
       "count = \t\n",
       "1675\t\n"
      ]
     },
     "execution_count": 71,
     "metadata": {},
     "output_type": "execute_result"
    },
    {
     "data": {
      "text/plain": [
       "count = \t\n",
       "1676\t\n"
      ]
     },
     "execution_count": 71,
     "metadata": {},
     "output_type": "execute_result"
    },
    {
     "data": {
      "text/plain": [
       "count = \t\n",
       "1677\t\n"
      ]
     },
     "execution_count": 71,
     "metadata": {},
     "output_type": "execute_result"
    },
    {
     "data": {
      "text/plain": [
       "count = \t\n",
       "1678\t\n"
      ]
     },
     "execution_count": 71,
     "metadata": {},
     "output_type": "execute_result"
    },
    {
     "data": {
      "text/plain": [
       "count = \t\n",
       "1679\t\n"
      ]
     },
     "execution_count": 71,
     "metadata": {},
     "output_type": "execute_result"
    },
    {
     "data": {
      "text/plain": [
       "count = \t\n",
       "1680\t\n"
      ]
     },
     "execution_count": 71,
     "metadata": {},
     "output_type": "execute_result"
    },
    {
     "data": {
      "text/plain": [
       "count = \t\n",
       "1681\t\n"
      ]
     },
     "execution_count": 71,
     "metadata": {},
     "output_type": "execute_result"
    },
    {
     "data": {
      "text/plain": [
       "count = \t\n",
       "1682\t\n"
      ]
     },
     "execution_count": 71,
     "metadata": {},
     "output_type": "execute_result"
    },
    {
     "data": {
      "text/plain": [
       "count = \t\n",
       "1683\t\n",
       "count = \t\n",
       "1684\t\n"
      ]
     },
     "execution_count": 71,
     "metadata": {},
     "output_type": "execute_result"
    },
    {
     "data": {
      "text/plain": [
       "count = \t\n",
       "1685\t\n"
      ]
     },
     "execution_count": 71,
     "metadata": {},
     "output_type": "execute_result"
    },
    {
     "data": {
      "text/plain": [
       "count = \t\n",
       "1686\t\n"
      ]
     },
     "execution_count": 71,
     "metadata": {},
     "output_type": "execute_result"
    },
    {
     "data": {
      "text/plain": [
       "count = \t\n",
       "1687\t\n"
      ]
     },
     "execution_count": 71,
     "metadata": {},
     "output_type": "execute_result"
    },
    {
     "data": {
      "text/plain": [
       "count = \t\n",
       "1688\t\n"
      ]
     },
     "execution_count": 71,
     "metadata": {},
     "output_type": "execute_result"
    },
    {
     "data": {
      "text/plain": [
       "count = \t\n",
       "1689\t\n"
      ]
     },
     "execution_count": 71,
     "metadata": {},
     "output_type": "execute_result"
    },
    {
     "data": {
      "text/plain": [
       "count = \t\n",
       "1690\t\n"
      ]
     },
     "execution_count": 71,
     "metadata": {},
     "output_type": "execute_result"
    },
    {
     "data": {
      "text/plain": [
       "count = \t\n",
       "1691\t\n"
      ]
     },
     "execution_count": 71,
     "metadata": {},
     "output_type": "execute_result"
    },
    {
     "data": {
      "text/plain": [
       "count = \t\n"
      ]
     },
     "execution_count": 71,
     "metadata": {},
     "output_type": "execute_result"
    },
    {
     "data": {
      "text/plain": [
       "1692\t\n"
      ]
     },
     "execution_count": 71,
     "metadata": {},
     "output_type": "execute_result"
    },
    {
     "data": {
      "text/plain": [
       "count = \t\n",
       "1693\t\n"
      ]
     },
     "execution_count": 71,
     "metadata": {},
     "output_type": "execute_result"
    },
    {
     "data": {
      "text/plain": [
       "count = \t\n",
       "1694\t\n"
      ]
     },
     "execution_count": 71,
     "metadata": {},
     "output_type": "execute_result"
    },
    {
     "data": {
      "text/plain": [
       "count = \t\n",
       "1695\t\n"
      ]
     },
     "execution_count": 71,
     "metadata": {},
     "output_type": "execute_result"
    },
    {
     "data": {
      "text/plain": [
       "count = \t\n",
       "1696\t\n"
      ]
     },
     "execution_count": 71,
     "metadata": {},
     "output_type": "execute_result"
    },
    {
     "data": {
      "text/plain": [
       "count = \t\n",
       "1697\t\n"
      ]
     },
     "execution_count": 71,
     "metadata": {},
     "output_type": "execute_result"
    },
    {
     "data": {
      "text/plain": [
       "count = \t\n",
       "1698\t\n"
      ]
     },
     "execution_count": 71,
     "metadata": {},
     "output_type": "execute_result"
    },
    {
     "data": {
      "text/plain": [
       "count = \t\n",
       "1699\t\n"
      ]
     },
     "execution_count": 71,
     "metadata": {},
     "output_type": "execute_result"
    },
    {
     "data": {
      "text/plain": [
       "count = \t\n",
       "1700\t\n"
      ]
     },
     "execution_count": 71,
     "metadata": {},
     "output_type": "execute_result"
    },
    {
     "data": {
      "text/plain": [
       "count = \t\n",
       "1701\t\n"
      ]
     },
     "execution_count": 71,
     "metadata": {},
     "output_type": "execute_result"
    },
    {
     "data": {
      "text/plain": [
       "count = \t\n",
       "1702\t\n"
      ]
     },
     "execution_count": 71,
     "metadata": {},
     "output_type": "execute_result"
    },
    {
     "data": {
      "text/plain": [
       "count = \t\n",
       "1703\t\n"
      ]
     },
     "execution_count": 71,
     "metadata": {},
     "output_type": "execute_result"
    },
    {
     "data": {
      "text/plain": [
       "count = \t\n",
       "1704\t\n"
      ]
     },
     "execution_count": 71,
     "metadata": {},
     "output_type": "execute_result"
    },
    {
     "data": {
      "text/plain": [
       "count = \t\n",
       "1705\t\n"
      ]
     },
     "execution_count": 71,
     "metadata": {},
     "output_type": "execute_result"
    },
    {
     "data": {
      "text/plain": [
       "count = \t\n",
       "1706\t\n"
      ]
     },
     "execution_count": 71,
     "metadata": {},
     "output_type": "execute_result"
    },
    {
     "data": {
      "text/plain": [
       "count = \t\n",
       "1707\t\n"
      ]
     },
     "execution_count": 71,
     "metadata": {},
     "output_type": "execute_result"
    },
    {
     "data": {
      "text/plain": [
       "count = \t\n",
       "1708\t\n"
      ]
     },
     "execution_count": 71,
     "metadata": {},
     "output_type": "execute_result"
    },
    {
     "data": {
      "text/plain": [
       "count = \t\n",
       "1709\t\n"
      ]
     },
     "execution_count": 71,
     "metadata": {},
     "output_type": "execute_result"
    },
    {
     "data": {
      "text/plain": [
       "count = \t\n",
       "1710\t\n"
      ]
     },
     "execution_count": 71,
     "metadata": {},
     "output_type": "execute_result"
    },
    {
     "data": {
      "text/plain": [
       "count = \t\n",
       "1711\t\n"
      ]
     },
     "execution_count": 71,
     "metadata": {},
     "output_type": "execute_result"
    },
    {
     "data": {
      "text/plain": [
       "count = \t\n",
       "1712\t\n"
      ]
     },
     "execution_count": 71,
     "metadata": {},
     "output_type": "execute_result"
    },
    {
     "data": {
      "text/plain": [
       "count = \t\n",
       "1713\t\n"
      ]
     },
     "execution_count": 71,
     "metadata": {},
     "output_type": "execute_result"
    },
    {
     "data": {
      "text/plain": [
       "count = \t\n",
       "1714\t\n"
      ]
     },
     "execution_count": 71,
     "metadata": {},
     "output_type": "execute_result"
    },
    {
     "data": {
      "text/plain": [
       "count = \t\n",
       "1715\t\n"
      ]
     },
     "execution_count": 71,
     "metadata": {},
     "output_type": "execute_result"
    },
    {
     "data": {
      "text/plain": [
       "count = \t\n",
       "1716\t\n"
      ]
     },
     "execution_count": 71,
     "metadata": {},
     "output_type": "execute_result"
    },
    {
     "data": {
      "text/plain": [
       "count = \t\n",
       "1717\t\n"
      ]
     },
     "execution_count": 71,
     "metadata": {},
     "output_type": "execute_result"
    },
    {
     "data": {
      "text/plain": [
       "count = \t\n",
       "1718\t\n"
      ]
     },
     "execution_count": 71,
     "metadata": {},
     "output_type": "execute_result"
    },
    {
     "data": {
      "text/plain": [
       "count = \t\n",
       "1719\t\n"
      ]
     },
     "execution_count": 71,
     "metadata": {},
     "output_type": "execute_result"
    },
    {
     "data": {
      "text/plain": [
       "count = \t\n",
       "1720\t\n",
       "count = \t\n",
       "1721\t\n"
      ]
     },
     "execution_count": 71,
     "metadata": {},
     "output_type": "execute_result"
    },
    {
     "data": {
      "text/plain": [
       "count = \t\n",
       "1722\t\n",
       "count = \t\n",
       "1723\t\n"
      ]
     },
     "execution_count": 71,
     "metadata": {},
     "output_type": "execute_result"
    },
    {
     "data": {
      "text/plain": [
       "count = \t\n",
       "1724\t\n"
      ]
     },
     "execution_count": 71,
     "metadata": {},
     "output_type": "execute_result"
    },
    {
     "data": {
      "text/plain": [
       "count = \t\n",
       "1725\t\n"
      ]
     },
     "execution_count": 71,
     "metadata": {},
     "output_type": "execute_result"
    },
    {
     "data": {
      "text/plain": [
       "count = \t\n",
       "1726\t\n"
      ]
     },
     "execution_count": 71,
     "metadata": {},
     "output_type": "execute_result"
    },
    {
     "data": {
      "text/plain": [
       "count = \t\n",
       "1727\t\n"
      ]
     },
     "execution_count": 71,
     "metadata": {},
     "output_type": "execute_result"
    },
    {
     "data": {
      "text/plain": [
       "count = \t\n",
       "1728\t\n"
      ]
     },
     "execution_count": 71,
     "metadata": {},
     "output_type": "execute_result"
    },
    {
     "data": {
      "text/plain": [
       "count = \t\n",
       "1729\t\n"
      ]
     },
     "execution_count": 71,
     "metadata": {},
     "output_type": "execute_result"
    },
    {
     "data": {
      "text/plain": [
       "count = \t\n",
       "1730\t\n"
      ]
     },
     "execution_count": 71,
     "metadata": {},
     "output_type": "execute_result"
    },
    {
     "data": {
      "text/plain": [
       "count = \t\n",
       "1731\t\n"
      ]
     },
     "execution_count": 71,
     "metadata": {},
     "output_type": "execute_result"
    },
    {
     "data": {
      "text/plain": [
       "count = \t\n",
       "1732\t\n"
      ]
     },
     "execution_count": 71,
     "metadata": {},
     "output_type": "execute_result"
    },
    {
     "data": {
      "text/plain": [
       "count = \t\n",
       "1733\t\n"
      ]
     },
     "execution_count": 71,
     "metadata": {},
     "output_type": "execute_result"
    },
    {
     "data": {
      "text/plain": [
       "count = \t\n",
       "1734\t\n"
      ]
     },
     "execution_count": 71,
     "metadata": {},
     "output_type": "execute_result"
    },
    {
     "data": {
      "text/plain": [
       "count = \t\n",
       "1735\t\n"
      ]
     },
     "execution_count": 71,
     "metadata": {},
     "output_type": "execute_result"
    },
    {
     "data": {
      "text/plain": [
       "count = \t\n",
       "1736\t\n"
      ]
     },
     "execution_count": 71,
     "metadata": {},
     "output_type": "execute_result"
    },
    {
     "data": {
      "text/plain": [
       "count = \t\n",
       "1737\t\n"
      ]
     },
     "execution_count": 71,
     "metadata": {},
     "output_type": "execute_result"
    },
    {
     "data": {
      "text/plain": [
       "count = \t\n",
       "1738\t\n"
      ]
     },
     "execution_count": 71,
     "metadata": {},
     "output_type": "execute_result"
    },
    {
     "data": {
      "text/plain": [
       "count = \t\n",
       "1739\t\n"
      ]
     },
     "execution_count": 71,
     "metadata": {},
     "output_type": "execute_result"
    },
    {
     "data": {
      "text/plain": [
       "count = \t\n",
       "1740\t\n"
      ]
     },
     "execution_count": 71,
     "metadata": {},
     "output_type": "execute_result"
    },
    {
     "data": {
      "text/plain": [
       "count = \t\n",
       "1741\t\n"
      ]
     },
     "execution_count": 71,
     "metadata": {},
     "output_type": "execute_result"
    },
    {
     "data": {
      "text/plain": [
       "count = \t\n",
       "1742\t\n"
      ]
     },
     "execution_count": 71,
     "metadata": {},
     "output_type": "execute_result"
    },
    {
     "data": {
      "text/plain": [
       "count = \t\n",
       "1743\t\n"
      ]
     },
     "execution_count": 71,
     "metadata": {},
     "output_type": "execute_result"
    },
    {
     "data": {
      "text/plain": [
       "count = \t\n",
       "1744\t\n"
      ]
     },
     "execution_count": 71,
     "metadata": {},
     "output_type": "execute_result"
    },
    {
     "data": {
      "text/plain": [
       "count = \t\n",
       "1745\t\n"
      ]
     },
     "execution_count": 71,
     "metadata": {},
     "output_type": "execute_result"
    },
    {
     "data": {
      "text/plain": [
       "count = \t\n",
       "1746\t\n"
      ]
     },
     "execution_count": 71,
     "metadata": {},
     "output_type": "execute_result"
    },
    {
     "data": {
      "text/plain": [
       "count = \t\n",
       "1747\t\n"
      ]
     },
     "execution_count": 71,
     "metadata": {},
     "output_type": "execute_result"
    },
    {
     "data": {
      "text/plain": [
       "count = \t\n",
       "1748\t\n"
      ]
     },
     "execution_count": 71,
     "metadata": {},
     "output_type": "execute_result"
    },
    {
     "data": {
      "text/plain": [
       "count = \t\n",
       "1749\t\n"
      ]
     },
     "execution_count": 71,
     "metadata": {},
     "output_type": "execute_result"
    },
    {
     "data": {
      "text/plain": [
       "count = \t\n",
       "1750\t\n"
      ]
     },
     "execution_count": 71,
     "metadata": {},
     "output_type": "execute_result"
    },
    {
     "data": {
      "text/plain": [
       "count = \t\n",
       "1751\t\n"
      ]
     },
     "execution_count": 71,
     "metadata": {},
     "output_type": "execute_result"
    },
    {
     "data": {
      "text/plain": [
       "count = \t\n",
       "1752\t\n"
      ]
     },
     "execution_count": 71,
     "metadata": {},
     "output_type": "execute_result"
    },
    {
     "data": {
      "text/plain": [
       "count = \t\n",
       "1753\t\n"
      ]
     },
     "execution_count": 71,
     "metadata": {},
     "output_type": "execute_result"
    },
    {
     "data": {
      "text/plain": [
       "count = \t\n",
       "1754\t\n"
      ]
     },
     "execution_count": 71,
     "metadata": {},
     "output_type": "execute_result"
    },
    {
     "data": {
      "text/plain": [
       "count = \t\n",
       "1755\t\n"
      ]
     },
     "execution_count": 71,
     "metadata": {},
     "output_type": "execute_result"
    },
    {
     "data": {
      "text/plain": [
       "count = \t\n",
       "1756\t\n"
      ]
     },
     "execution_count": 71,
     "metadata": {},
     "output_type": "execute_result"
    },
    {
     "data": {
      "text/plain": [
       "count = \t\n",
       "1757\t\n"
      ]
     },
     "execution_count": 71,
     "metadata": {},
     "output_type": "execute_result"
    },
    {
     "data": {
      "text/plain": [
       "count = \t\n",
       "1758\t\n"
      ]
     },
     "execution_count": 71,
     "metadata": {},
     "output_type": "execute_result"
    },
    {
     "data": {
      "text/plain": [
       "count = \t\n",
       "1759\t\n"
      ]
     },
     "execution_count": 71,
     "metadata": {},
     "output_type": "execute_result"
    },
    {
     "data": {
      "text/plain": [
       "no\t\n"
      ]
     },
     "execution_count": 71,
     "metadata": {},
     "output_type": "execute_result"
    },
    {
     "data": {
      "text/plain": [
       "count = \t\n",
       "1760\t\n"
      ]
     },
     "execution_count": 71,
     "metadata": {},
     "output_type": "execute_result"
    },
    {
     "data": {
      "text/plain": [
       "count = \t\n",
       "1761\t\n"
      ]
     },
     "execution_count": 71,
     "metadata": {},
     "output_type": "execute_result"
    },
    {
     "data": {
      "text/plain": [
       "count = \t\n",
       "1762\t\n"
      ]
     },
     "execution_count": 71,
     "metadata": {},
     "output_type": "execute_result"
    },
    {
     "data": {
      "text/plain": [
       "count = \t"
      ]
     },
     "execution_count": 71,
     "metadata": {},
     "output_type": "execute_result"
    },
    {
     "data": {
      "text/plain": [
       "\n",
       "1763\t\n"
      ]
     },
     "execution_count": 71,
     "metadata": {},
     "output_type": "execute_result"
    },
    {
     "data": {
      "text/plain": [
       "count = \t\n",
       "1764\t\n"
      ]
     },
     "execution_count": 71,
     "metadata": {},
     "output_type": "execute_result"
    },
    {
     "data": {
      "text/plain": [
       "no\t\n"
      ]
     },
     "execution_count": 71,
     "metadata": {},
     "output_type": "execute_result"
    },
    {
     "data": {
      "text/plain": [
       "count = \t\n",
       "1765\t\n"
      ]
     },
     "execution_count": 71,
     "metadata": {},
     "output_type": "execute_result"
    },
    {
     "data": {
      "text/plain": [
       "count = \t\n",
       "1766\t\n"
      ]
     },
     "execution_count": 71,
     "metadata": {},
     "output_type": "execute_result"
    },
    {
     "data": {
      "text/plain": [
       "count = \t\n",
       "1767\t\n"
      ]
     },
     "execution_count": 71,
     "metadata": {},
     "output_type": "execute_result"
    },
    {
     "data": {
      "text/plain": [
       "no\t\n"
      ]
     },
     "execution_count": 71,
     "metadata": {},
     "output_type": "execute_result"
    },
    {
     "data": {
      "text/plain": [
       "count = \t\n",
       "1768\t\n"
      ]
     },
     "execution_count": 71,
     "metadata": {},
     "output_type": "execute_result"
    },
    {
     "data": {
      "text/plain": [
       "count = \t\n",
       "1769\t\n"
      ]
     },
     "execution_count": 71,
     "metadata": {},
     "output_type": "execute_result"
    },
    {
     "data": {
      "text/plain": [
       "count = \t\n",
       "1770\t\n",
       "no\t\n"
      ]
     },
     "execution_count": 71,
     "metadata": {},
     "output_type": "execute_result"
    },
    {
     "data": {
      "text/plain": [
       "count = \t\n",
       "1771\t\n",
       "count = \t\n",
       "1772\t\n"
      ]
     },
     "execution_count": 71,
     "metadata": {},
     "output_type": "execute_result"
    },
    {
     "data": {
      "text/plain": [
       "count = \t\n",
       "1773\t\n"
      ]
     },
     "execution_count": 71,
     "metadata": {},
     "output_type": "execute_result"
    },
    {
     "data": {
      "text/plain": [
       "count = \t\n",
       "1774\t\n"
      ]
     },
     "execution_count": 71,
     "metadata": {},
     "output_type": "execute_result"
    },
    {
     "data": {
      "text/plain": [
       "count = \t\n",
       "1775\t\n"
      ]
     },
     "execution_count": 71,
     "metadata": {},
     "output_type": "execute_result"
    },
    {
     "data": {
      "text/plain": [
       "count = \t\n",
       "1776\t\n"
      ]
     },
     "execution_count": 71,
     "metadata": {},
     "output_type": "execute_result"
    },
    {
     "data": {
      "text/plain": [
       "count = \t\n",
       "1777\t\n"
      ]
     },
     "execution_count": 71,
     "metadata": {},
     "output_type": "execute_result"
    },
    {
     "data": {
      "text/plain": [
       "count = \t\n",
       "1778\t\n"
      ]
     },
     "execution_count": 71,
     "metadata": {},
     "output_type": "execute_result"
    },
    {
     "data": {
      "text/plain": [
       "count = \t\n",
       "1779\t\n"
      ]
     },
     "execution_count": 71,
     "metadata": {},
     "output_type": "execute_result"
    },
    {
     "data": {
      "text/plain": [
       "count = \t\n",
       "1780\t\n"
      ]
     },
     "execution_count": 71,
     "metadata": {},
     "output_type": "execute_result"
    },
    {
     "data": {
      "text/plain": [
       "count = \t\n",
       "1781\t\n"
      ]
     },
     "execution_count": 71,
     "metadata": {},
     "output_type": "execute_result"
    },
    {
     "data": {
      "text/plain": [
       "count = \t\n"
      ]
     },
     "execution_count": 71,
     "metadata": {},
     "output_type": "execute_result"
    },
    {
     "data": {
      "text/plain": [
       "1782\t\n"
      ]
     },
     "execution_count": 71,
     "metadata": {},
     "output_type": "execute_result"
    },
    {
     "data": {
      "text/plain": [
       "count = \t\n",
       "1783\t\n"
      ]
     },
     "execution_count": 71,
     "metadata": {},
     "output_type": "execute_result"
    },
    {
     "data": {
      "text/plain": [
       "count = \t\n",
       "1784\t\n",
       "count = \t\n",
       "1785\t\n"
      ]
     },
     "execution_count": 71,
     "metadata": {},
     "output_type": "execute_result"
    },
    {
     "data": {
      "text/plain": [
       "count = \t\n",
       "1786\t\n"
      ]
     },
     "execution_count": 71,
     "metadata": {},
     "output_type": "execute_result"
    },
    {
     "data": {
      "text/plain": [
       "count = \t\n",
       "1787\t\n"
      ]
     },
     "execution_count": 71,
     "metadata": {},
     "output_type": "execute_result"
    },
    {
     "data": {
      "text/plain": [
       "count = \t\n",
       "1788\t\n"
      ]
     },
     "execution_count": 71,
     "metadata": {},
     "output_type": "execute_result"
    },
    {
     "data": {
      "text/plain": [
       "count = \t\n",
       "1789\t\n"
      ]
     },
     "execution_count": 71,
     "metadata": {},
     "output_type": "execute_result"
    },
    {
     "data": {
      "text/plain": [
       "count = \t\n",
       "1790\t\n"
      ]
     },
     "execution_count": 71,
     "metadata": {},
     "output_type": "execute_result"
    },
    {
     "data": {
      "text/plain": [
       "count = \t\n",
       "1791\t\n"
      ]
     },
     "execution_count": 71,
     "metadata": {},
     "output_type": "execute_result"
    },
    {
     "data": {
      "text/plain": [
       "count = \t\n",
       "1792\t\n"
      ]
     },
     "execution_count": 71,
     "metadata": {},
     "output_type": "execute_result"
    },
    {
     "data": {
      "text/plain": [
       "count = \t\n",
       "1793\t\n"
      ]
     },
     "execution_count": 71,
     "metadata": {},
     "output_type": "execute_result"
    },
    {
     "data": {
      "text/plain": [
       "count = \t\n",
       "1794\t\n"
      ]
     },
     "execution_count": 71,
     "metadata": {},
     "output_type": "execute_result"
    },
    {
     "data": {
      "text/plain": [
       "count = \t\n",
       "1795\t\n"
      ]
     },
     "execution_count": 71,
     "metadata": {},
     "output_type": "execute_result"
    },
    {
     "data": {
      "text/plain": [
       "count = \t\n",
       "1796\t\n"
      ]
     },
     "execution_count": 71,
     "metadata": {},
     "output_type": "execute_result"
    },
    {
     "data": {
      "text/plain": [
       "count = \t\n",
       "1797\t\n"
      ]
     },
     "execution_count": 71,
     "metadata": {},
     "output_type": "execute_result"
    },
    {
     "data": {
      "text/plain": [
       "count = \t\n",
       "1798\t\n"
      ]
     },
     "execution_count": 71,
     "metadata": {},
     "output_type": "execute_result"
    },
    {
     "data": {
      "text/plain": [
       "count = \t\n",
       "1799\t"
      ]
     },
     "execution_count": 71,
     "metadata": {},
     "output_type": "execute_result"
    },
    {
     "data": {
      "text/plain": [
       "\n"
      ]
     },
     "execution_count": 71,
     "metadata": {},
     "output_type": "execute_result"
    },
    {
     "data": {
      "text/plain": [
       "count = \t\n",
       "1800\t\n"
      ]
     },
     "execution_count": 71,
     "metadata": {},
     "output_type": "execute_result"
    },
    {
     "data": {
      "text/plain": [
       "count = \t\n",
       "1801\t\n",
       "count = \t\n",
       "1802\t\n"
      ]
     },
     "execution_count": 71,
     "metadata": {},
     "output_type": "execute_result"
    },
    {
     "data": {
      "text/plain": [
       "count = \t\n",
       "1803\t\n"
      ]
     },
     "execution_count": 71,
     "metadata": {},
     "output_type": "execute_result"
    },
    {
     "data": {
      "text/plain": [
       "count = \t\n",
       "1804\t\n"
      ]
     },
     "execution_count": 71,
     "metadata": {},
     "output_type": "execute_result"
    },
    {
     "data": {
      "text/plain": [
       "count = \t\n",
       "1805\t\n"
      ]
     },
     "execution_count": 71,
     "metadata": {},
     "output_type": "execute_result"
    },
    {
     "data": {
      "text/plain": [
       "count = \t\n",
       "1806\t\n"
      ]
     },
     "execution_count": 71,
     "metadata": {},
     "output_type": "execute_result"
    },
    {
     "data": {
      "text/plain": [
       "count = \t\n",
       "1807\t\n"
      ]
     },
     "execution_count": 71,
     "metadata": {},
     "output_type": "execute_result"
    },
    {
     "data": {
      "text/plain": [
       "count = \t\n",
       "1808\t\n"
      ]
     },
     "execution_count": 71,
     "metadata": {},
     "output_type": "execute_result"
    },
    {
     "data": {
      "text/plain": [
       "no\t\n"
      ]
     },
     "execution_count": 71,
     "metadata": {},
     "output_type": "execute_result"
    },
    {
     "data": {
      "text/plain": [
       "count = \t\n",
       "1809\t\n"
      ]
     },
     "execution_count": 71,
     "metadata": {},
     "output_type": "execute_result"
    },
    {
     "data": {
      "text/plain": [
       "count = \t\n",
       "1810\t\n"
      ]
     },
     "execution_count": 71,
     "metadata": {},
     "output_type": "execute_result"
    },
    {
     "data": {
      "text/plain": [
       "count = \t\n",
       "1811\t\n"
      ]
     },
     "execution_count": 71,
     "metadata": {},
     "output_type": "execute_result"
    },
    {
     "data": {
      "text/plain": [
       "count = \t\n",
       "1812\t\n"
      ]
     },
     "execution_count": 71,
     "metadata": {},
     "output_type": "execute_result"
    },
    {
     "data": {
      "text/plain": [
       "count = \t\n",
       "1813\t\n",
       "count = \t\n",
       "1814\t\n"
      ]
     },
     "execution_count": 71,
     "metadata": {},
     "output_type": "execute_result"
    },
    {
     "data": {
      "text/plain": [
       "count = \t\n",
       "1815\t\n"
      ]
     },
     "execution_count": 71,
     "metadata": {},
     "output_type": "execute_result"
    },
    {
     "data": {
      "text/plain": [
       "count = \t\n",
       "1816\t\n"
      ]
     },
     "execution_count": 71,
     "metadata": {},
     "output_type": "execute_result"
    },
    {
     "data": {
      "text/plain": [
       "count = \t\n",
       "1817\t\n"
      ]
     },
     "execution_count": 71,
     "metadata": {},
     "output_type": "execute_result"
    },
    {
     "data": {
      "text/plain": [
       "count = \t\n",
       "1818\t\n"
      ]
     },
     "execution_count": 71,
     "metadata": {},
     "output_type": "execute_result"
    },
    {
     "data": {
      "text/plain": [
       "count = \t\n",
       "1819\t\n"
      ]
     },
     "execution_count": 71,
     "metadata": {},
     "output_type": "execute_result"
    },
    {
     "data": {
      "text/plain": [
       "count = \t\n",
       "1820\t\n"
      ]
     },
     "execution_count": 71,
     "metadata": {},
     "output_type": "execute_result"
    },
    {
     "data": {
      "text/plain": [
       "count = \t\n",
       "1821\t\n"
      ]
     },
     "execution_count": 71,
     "metadata": {},
     "output_type": "execute_result"
    },
    {
     "data": {
      "text/plain": [
       "count = \t\n",
       "1822\t\n"
      ]
     },
     "execution_count": 71,
     "metadata": {},
     "output_type": "execute_result"
    },
    {
     "data": {
      "text/plain": [
       "count = \t\n",
       "1823\t\n"
      ]
     },
     "execution_count": 71,
     "metadata": {},
     "output_type": "execute_result"
    },
    {
     "data": {
      "text/plain": [
       "count = \t\n",
       "1824\t\n"
      ]
     },
     "execution_count": 71,
     "metadata": {},
     "output_type": "execute_result"
    },
    {
     "data": {
      "text/plain": [
       "count = \t\n",
       "1825\t\n"
      ]
     },
     "execution_count": 71,
     "metadata": {},
     "output_type": "execute_result"
    },
    {
     "data": {
      "text/plain": [
       "count = \t\n",
       "1826\t\n"
      ]
     },
     "execution_count": 71,
     "metadata": {},
     "output_type": "execute_result"
    },
    {
     "data": {
      "text/plain": [
       "count = \t\n",
       "1827\t\n"
      ]
     },
     "execution_count": 71,
     "metadata": {},
     "output_type": "execute_result"
    },
    {
     "data": {
      "text/plain": [
       "count = \t\n",
       "1828\t\n"
      ]
     },
     "execution_count": 71,
     "metadata": {},
     "output_type": "execute_result"
    },
    {
     "data": {
      "text/plain": [
       "count = \t\n",
       "1829\t\n"
      ]
     },
     "execution_count": 71,
     "metadata": {},
     "output_type": "execute_result"
    },
    {
     "data": {
      "text/plain": [
       "count = \t\n",
       "1830\t\n"
      ]
     },
     "execution_count": 71,
     "metadata": {},
     "output_type": "execute_result"
    },
    {
     "data": {
      "text/plain": [
       "count = \t\n",
       "1831\t\n"
      ]
     },
     "execution_count": 71,
     "metadata": {},
     "output_type": "execute_result"
    },
    {
     "data": {
      "text/plain": [
       "count = \t\n",
       "1832\t\n"
      ]
     },
     "execution_count": 71,
     "metadata": {},
     "output_type": "execute_result"
    },
    {
     "data": {
      "text/plain": [
       "count = \t\n",
       "1833\t\n"
      ]
     },
     "execution_count": 71,
     "metadata": {},
     "output_type": "execute_result"
    },
    {
     "data": {
      "text/plain": [
       "count = \t\n"
      ]
     },
     "execution_count": 71,
     "metadata": {},
     "output_type": "execute_result"
    },
    {
     "data": {
      "text/plain": [
       "1834\t\n"
      ]
     },
     "execution_count": 71,
     "metadata": {},
     "output_type": "execute_result"
    },
    {
     "data": {
      "text/plain": [
       "count = \t\n"
      ]
     },
     "execution_count": 71,
     "metadata": {},
     "output_type": "execute_result"
    },
    {
     "data": {
      "text/plain": [
       "1835\t\n"
      ]
     },
     "execution_count": 71,
     "metadata": {},
     "output_type": "execute_result"
    },
    {
     "data": {
      "text/plain": [
       "count = \t\n",
       "1836\t\n"
      ]
     },
     "execution_count": 71,
     "metadata": {},
     "output_type": "execute_result"
    },
    {
     "data": {
      "text/plain": [
       "count = \t\n",
       "1837\t\n"
      ]
     },
     "execution_count": 71,
     "metadata": {},
     "output_type": "execute_result"
    },
    {
     "data": {
      "text/plain": [
       "count = \t\n",
       "1838\t\n"
      ]
     },
     "execution_count": 71,
     "metadata": {},
     "output_type": "execute_result"
    },
    {
     "data": {
      "text/plain": [
       "count = \t\n",
       "1839\t\n"
      ]
     },
     "execution_count": 71,
     "metadata": {},
     "output_type": "execute_result"
    },
    {
     "data": {
      "text/plain": [
       "count = \t\n",
       "1840\t\n"
      ]
     },
     "execution_count": 71,
     "metadata": {},
     "output_type": "execute_result"
    },
    {
     "data": {
      "text/plain": [
       "count = \t\n",
       "1841\t\n"
      ]
     },
     "execution_count": 71,
     "metadata": {},
     "output_type": "execute_result"
    },
    {
     "data": {
      "text/plain": [
       "count = \t\n",
       "1842\t\n"
      ]
     },
     "execution_count": 71,
     "metadata": {},
     "output_type": "execute_result"
    },
    {
     "data": {
      "text/plain": [
       "count = \t\n",
       "1843\t\n"
      ]
     },
     "execution_count": 71,
     "metadata": {},
     "output_type": "execute_result"
    },
    {
     "data": {
      "text/plain": [
       "count = \t\n",
       "1844\t\n"
      ]
     },
     "execution_count": 71,
     "metadata": {},
     "output_type": "execute_result"
    },
    {
     "data": {
      "text/plain": [
       "count = \t\n",
       "1845\t\n"
      ]
     },
     "execution_count": 71,
     "metadata": {},
     "output_type": "execute_result"
    },
    {
     "data": {
      "text/plain": [
       "count = \t\n",
       "1846\t\n"
      ]
     },
     "execution_count": 71,
     "metadata": {},
     "output_type": "execute_result"
    },
    {
     "data": {
      "text/plain": [
       "count = \t\n",
       "1847\t\n"
      ]
     },
     "execution_count": 71,
     "metadata": {},
     "output_type": "execute_result"
    },
    {
     "data": {
      "text/plain": [
       "count = \t\n",
       "1848\t\n"
      ]
     },
     "execution_count": 71,
     "metadata": {},
     "output_type": "execute_result"
    },
    {
     "data": {
      "text/plain": [
       "count = \t\n",
       "1849\t\n"
      ]
     },
     "execution_count": 71,
     "metadata": {},
     "output_type": "execute_result"
    },
    {
     "data": {
      "text/plain": [
       "count = \t\n",
       "1850\t\n"
      ]
     },
     "execution_count": 71,
     "metadata": {},
     "output_type": "execute_result"
    },
    {
     "data": {
      "text/plain": [
       "count = \t\n",
       "1851\t\n"
      ]
     },
     "execution_count": 71,
     "metadata": {},
     "output_type": "execute_result"
    },
    {
     "data": {
      "text/plain": [
       "count = \t\n",
       "1852\t\n"
      ]
     },
     "execution_count": 71,
     "metadata": {},
     "output_type": "execute_result"
    },
    {
     "data": {
      "text/plain": [
       "count = \t\n",
       "1853\t\n"
      ]
     },
     "execution_count": 71,
     "metadata": {},
     "output_type": "execute_result"
    },
    {
     "data": {
      "text/plain": [
       "count = \t\n",
       "1854\t\n"
      ]
     },
     "execution_count": 71,
     "metadata": {},
     "output_type": "execute_result"
    },
    {
     "data": {
      "text/plain": [
       "count = \t\n",
       "1855\t\n"
      ]
     },
     "execution_count": 71,
     "metadata": {},
     "output_type": "execute_result"
    },
    {
     "data": {
      "text/plain": [
       "count = \t\n",
       "1856\t\n"
      ]
     },
     "execution_count": 71,
     "metadata": {},
     "output_type": "execute_result"
    },
    {
     "data": {
      "text/plain": [
       "count = \t\n",
       "1857\t\n"
      ]
     },
     "execution_count": 71,
     "metadata": {},
     "output_type": "execute_result"
    },
    {
     "data": {
      "text/plain": [
       "count = \t\n",
       "1858\t\n"
      ]
     },
     "execution_count": 71,
     "metadata": {},
     "output_type": "execute_result"
    },
    {
     "data": {
      "text/plain": [
       "count = \t\n",
       "1859\t\n"
      ]
     },
     "execution_count": 71,
     "metadata": {},
     "output_type": "execute_result"
    },
    {
     "data": {
      "text/plain": [
       "count = \t"
      ]
     },
     "execution_count": 71,
     "metadata": {},
     "output_type": "execute_result"
    },
    {
     "data": {
      "text/plain": [
       "\n",
       "1860\t\n"
      ]
     },
     "execution_count": 71,
     "metadata": {},
     "output_type": "execute_result"
    },
    {
     "data": {
      "text/plain": [
       "count = \t"
      ]
     },
     "execution_count": 71,
     "metadata": {},
     "output_type": "execute_result"
    },
    {
     "data": {
      "text/plain": [
       "\n",
       "1861\t\n"
      ]
     },
     "execution_count": 71,
     "metadata": {},
     "output_type": "execute_result"
    },
    {
     "data": {
      "text/plain": [
       "count = \t\n",
       "1862\t\n"
      ]
     },
     "execution_count": 71,
     "metadata": {},
     "output_type": "execute_result"
    },
    {
     "data": {
      "text/plain": [
       "count = \t\n",
       "1863\t\n"
      ]
     },
     "execution_count": 71,
     "metadata": {},
     "output_type": "execute_result"
    },
    {
     "data": {
      "text/plain": [
       "count = \t\n",
       "1864\t\n"
      ]
     },
     "execution_count": 71,
     "metadata": {},
     "output_type": "execute_result"
    },
    {
     "data": {
      "text/plain": [
       "count = \t\n",
       "1865\t\n"
      ]
     },
     "execution_count": 71,
     "metadata": {},
     "output_type": "execute_result"
    },
    {
     "data": {
      "text/plain": [
       "count = \t\n",
       "1866\t\n"
      ]
     },
     "execution_count": 71,
     "metadata": {},
     "output_type": "execute_result"
    },
    {
     "data": {
      "text/plain": [
       "count = \t\n",
       "1867\t\n"
      ]
     },
     "execution_count": 71,
     "metadata": {},
     "output_type": "execute_result"
    },
    {
     "data": {
      "text/plain": [
       "count = \t\n",
       "1868\t\n"
      ]
     },
     "execution_count": 71,
     "metadata": {},
     "output_type": "execute_result"
    },
    {
     "data": {
      "text/plain": [
       "count = \t\n",
       "1869\t\n"
      ]
     },
     "execution_count": 71,
     "metadata": {},
     "output_type": "execute_result"
    },
    {
     "data": {
      "text/plain": [
       "count = \t\n",
       "1870\t\n"
      ]
     },
     "execution_count": 71,
     "metadata": {},
     "output_type": "execute_result"
    },
    {
     "data": {
      "text/plain": [
       "count = \t\n",
       "1871\t\n"
      ]
     },
     "execution_count": 71,
     "metadata": {},
     "output_type": "execute_result"
    },
    {
     "data": {
      "text/plain": [
       "count = \t\n",
       "1872\t\n"
      ]
     },
     "execution_count": 71,
     "metadata": {},
     "output_type": "execute_result"
    },
    {
     "data": {
      "text/plain": [
       "count = \t\n",
       "1873\t\n"
      ]
     },
     "execution_count": 71,
     "metadata": {},
     "output_type": "execute_result"
    },
    {
     "data": {
      "text/plain": [
       "count = \t\n",
       "1874\t\n"
      ]
     },
     "execution_count": 71,
     "metadata": {},
     "output_type": "execute_result"
    },
    {
     "data": {
      "text/plain": [
       "count = \t\n",
       "1875\t\n"
      ]
     },
     "execution_count": 71,
     "metadata": {},
     "output_type": "execute_result"
    },
    {
     "data": {
      "text/plain": [
       "count = \t\n",
       "1876\t\n"
      ]
     },
     "execution_count": 71,
     "metadata": {},
     "output_type": "execute_result"
    },
    {
     "data": {
      "text/plain": [
       "count = \t\n",
       "1877\t\n"
      ]
     },
     "execution_count": 71,
     "metadata": {},
     "output_type": "execute_result"
    },
    {
     "data": {
      "text/plain": [
       "count = \t\n",
       "1878\t\n"
      ]
     },
     "execution_count": 71,
     "metadata": {},
     "output_type": "execute_result"
    },
    {
     "data": {
      "text/plain": [
       "count = \t\n",
       "1879\t\n"
      ]
     },
     "execution_count": 71,
     "metadata": {},
     "output_type": "execute_result"
    },
    {
     "data": {
      "text/plain": [
       "count = \t\n",
       "1880\t\n"
      ]
     },
     "execution_count": 71,
     "metadata": {},
     "output_type": "execute_result"
    },
    {
     "data": {
      "text/plain": [
       "count = \t\n",
       "1881\t\n"
      ]
     },
     "execution_count": 71,
     "metadata": {},
     "output_type": "execute_result"
    },
    {
     "data": {
      "text/plain": [
       "count = \t\n",
       "1882\t\n"
      ]
     },
     "execution_count": 71,
     "metadata": {},
     "output_type": "execute_result"
    },
    {
     "data": {
      "text/plain": [
       "count = \t\n",
       "1883\t\n"
      ]
     },
     "execution_count": 71,
     "metadata": {},
     "output_type": "execute_result"
    },
    {
     "data": {
      "text/plain": [
       "count = \t\n",
       "1884\t\n"
      ]
     },
     "execution_count": 71,
     "metadata": {},
     "output_type": "execute_result"
    },
    {
     "data": {
      "text/plain": [
       "count = \t\n",
       "1885\t\n"
      ]
     },
     "execution_count": 71,
     "metadata": {},
     "output_type": "execute_result"
    },
    {
     "data": {
      "text/plain": [
       "count = \t\n",
       "1886\t\n"
      ]
     },
     "execution_count": 71,
     "metadata": {},
     "output_type": "execute_result"
    },
    {
     "data": {
      "text/plain": [
       "count = \t\n",
       "1887\t\n"
      ]
     },
     "execution_count": 71,
     "metadata": {},
     "output_type": "execute_result"
    },
    {
     "data": {
      "text/plain": [
       "count = \t\n",
       "1888\t\n"
      ]
     },
     "execution_count": 71,
     "metadata": {},
     "output_type": "execute_result"
    },
    {
     "data": {
      "text/plain": [
       "count = \t\n",
       "1889\t\n"
      ]
     },
     "execution_count": 71,
     "metadata": {},
     "output_type": "execute_result"
    },
    {
     "data": {
      "text/plain": [
       "count = \t\n",
       "1890\t\n"
      ]
     },
     "execution_count": 71,
     "metadata": {},
     "output_type": "execute_result"
    },
    {
     "data": {
      "text/plain": [
       "count = \t\n",
       "1891\t\n"
      ]
     },
     "execution_count": 71,
     "metadata": {},
     "output_type": "execute_result"
    },
    {
     "data": {
      "text/plain": [
       "count = \t\n",
       "1892\t\n"
      ]
     },
     "execution_count": 71,
     "metadata": {},
     "output_type": "execute_result"
    },
    {
     "data": {
      "text/plain": [
       "count = \t\n",
       "1893\t\n"
      ]
     },
     "execution_count": 71,
     "metadata": {},
     "output_type": "execute_result"
    },
    {
     "data": {
      "text/plain": [
       "count = \t\n",
       "1894\t\n"
      ]
     },
     "execution_count": 71,
     "metadata": {},
     "output_type": "execute_result"
    },
    {
     "data": {
      "text/plain": [
       "count = \t\n",
       "1895\t\n"
      ]
     },
     "execution_count": 71,
     "metadata": {},
     "output_type": "execute_result"
    },
    {
     "data": {
      "text/plain": [
       "count = \t\n",
       "1896\t\n"
      ]
     },
     "execution_count": 71,
     "metadata": {},
     "output_type": "execute_result"
    },
    {
     "data": {
      "text/plain": [
       "count = \t\n",
       "1897\t\n"
      ]
     },
     "execution_count": 71,
     "metadata": {},
     "output_type": "execute_result"
    },
    {
     "data": {
      "text/plain": [
       "no\t\n"
      ]
     },
     "execution_count": 71,
     "metadata": {},
     "output_type": "execute_result"
    },
    {
     "data": {
      "text/plain": [
       "count = \t\n",
       "1898\t\n"
      ]
     },
     "execution_count": 71,
     "metadata": {},
     "output_type": "execute_result"
    },
    {
     "data": {
      "text/plain": [
       "count = \t\n",
       "1899\t\n"
      ]
     },
     "execution_count": 71,
     "metadata": {},
     "output_type": "execute_result"
    },
    {
     "data": {
      "text/plain": [
       "count = \t\n",
       "1900\t\n"
      ]
     },
     "execution_count": 71,
     "metadata": {},
     "output_type": "execute_result"
    },
    {
     "data": {
      "text/plain": [
       "count = \t\n",
       "1901\t\n"
      ]
     },
     "execution_count": 71,
     "metadata": {},
     "output_type": "execute_result"
    },
    {
     "data": {
      "text/plain": [
       "count = \t\n",
       "1902\t\n"
      ]
     },
     "execution_count": 71,
     "metadata": {},
     "output_type": "execute_result"
    },
    {
     "data": {
      "text/plain": [
       "count = \t\n",
       "1903\t\n"
      ]
     },
     "execution_count": 71,
     "metadata": {},
     "output_type": "execute_result"
    },
    {
     "data": {
      "text/plain": [
       "count = \t\n",
       "1904\t\n"
      ]
     },
     "execution_count": 71,
     "metadata": {},
     "output_type": "execute_result"
    },
    {
     "data": {
      "text/plain": [
       "count = \t\n",
       "1905\t\n"
      ]
     },
     "execution_count": 71,
     "metadata": {},
     "output_type": "execute_result"
    },
    {
     "data": {
      "text/plain": [
       "count = \t\n",
       "1906\t"
      ]
     },
     "execution_count": 71,
     "metadata": {},
     "output_type": "execute_result"
    },
    {
     "data": {
      "text/plain": [
       "\n"
      ]
     },
     "execution_count": 71,
     "metadata": {},
     "output_type": "execute_result"
    },
    {
     "data": {
      "text/plain": [
       "count = \t\n",
       "1907\t\n"
      ]
     },
     "execution_count": 71,
     "metadata": {},
     "output_type": "execute_result"
    },
    {
     "data": {
      "text/plain": [
       "count = \t\n",
       "1908\t\n"
      ]
     },
     "execution_count": 71,
     "metadata": {},
     "output_type": "execute_result"
    },
    {
     "data": {
      "text/plain": [
       "no\t\n"
      ]
     },
     "execution_count": 71,
     "metadata": {},
     "output_type": "execute_result"
    },
    {
     "data": {
      "text/plain": [
       "count = \t\n",
       "1909\t\n"
      ]
     },
     "execution_count": 71,
     "metadata": {},
     "output_type": "execute_result"
    },
    {
     "data": {
      "text/plain": [
       "count = \t\n",
       "1910\t\n"
      ]
     },
     "execution_count": 71,
     "metadata": {},
     "output_type": "execute_result"
    },
    {
     "data": {
      "text/plain": [
       "count = \t\n",
       "1911\t\n"
      ]
     },
     "execution_count": 71,
     "metadata": {},
     "output_type": "execute_result"
    },
    {
     "data": {
      "text/plain": [
       "count = \t\n",
       "1912\t\n"
      ]
     },
     "execution_count": 71,
     "metadata": {},
     "output_type": "execute_result"
    },
    {
     "data": {
      "text/plain": [
       "count = \t\n",
       "1913\t\n"
      ]
     },
     "execution_count": 71,
     "metadata": {},
     "output_type": "execute_result"
    },
    {
     "data": {
      "text/plain": [
       "count = \t\n"
      ]
     },
     "execution_count": 71,
     "metadata": {},
     "output_type": "execute_result"
    },
    {
     "data": {
      "text/plain": [
       "1914\t\n"
      ]
     },
     "execution_count": 71,
     "metadata": {},
     "output_type": "execute_result"
    },
    {
     "data": {
      "text/plain": [
       "count = \t\n",
       "1915\t\n"
      ]
     },
     "execution_count": 71,
     "metadata": {},
     "output_type": "execute_result"
    },
    {
     "data": {
      "text/plain": [
       "count = \t\n",
       "1916\t\n"
      ]
     },
     "execution_count": 71,
     "metadata": {},
     "output_type": "execute_result"
    },
    {
     "data": {
      "text/plain": [
       "count = \t\n",
       "1917\t\n"
      ]
     },
     "execution_count": 71,
     "metadata": {},
     "output_type": "execute_result"
    },
    {
     "data": {
      "text/plain": [
       "count = \t\n",
       "1918\t\n"
      ]
     },
     "execution_count": 71,
     "metadata": {},
     "output_type": "execute_result"
    },
    {
     "data": {
      "text/plain": [
       "count = \t\n",
       "1919\t\n"
      ]
     },
     "execution_count": 71,
     "metadata": {},
     "output_type": "execute_result"
    },
    {
     "data": {
      "text/plain": [
       "count = \t\n",
       "1920\t\n"
      ]
     },
     "execution_count": 71,
     "metadata": {},
     "output_type": "execute_result"
    },
    {
     "data": {
      "text/plain": [
       "count = \t\n",
       "1921\t\n"
      ]
     },
     "execution_count": 71,
     "metadata": {},
     "output_type": "execute_result"
    },
    {
     "data": {
      "text/plain": [
       "count = \t\n",
       "1922\t\n"
      ]
     },
     "execution_count": 71,
     "metadata": {},
     "output_type": "execute_result"
    },
    {
     "data": {
      "text/plain": [
       "count = \t\n"
      ]
     },
     "execution_count": 71,
     "metadata": {},
     "output_type": "execute_result"
    },
    {
     "data": {
      "text/plain": [
       "1923\t\n"
      ]
     },
     "execution_count": 71,
     "metadata": {},
     "output_type": "execute_result"
    },
    {
     "data": {
      "text/plain": [
       "count = \t\n",
       "1924\t\n"
      ]
     },
     "execution_count": 71,
     "metadata": {},
     "output_type": "execute_result"
    },
    {
     "data": {
      "text/plain": [
       "count = \t\n",
       "1925\t\n"
      ]
     },
     "execution_count": 71,
     "metadata": {},
     "output_type": "execute_result"
    },
    {
     "data": {
      "text/plain": [
       "count = \t\n",
       "1926\t\n"
      ]
     },
     "execution_count": 71,
     "metadata": {},
     "output_type": "execute_result"
    },
    {
     "data": {
      "text/plain": [
       "count = \t\n",
       "1927\t\n"
      ]
     },
     "execution_count": 71,
     "metadata": {},
     "output_type": "execute_result"
    },
    {
     "data": {
      "text/plain": [
       "count = \t\n",
       "1928\t\n"
      ]
     },
     "execution_count": 71,
     "metadata": {},
     "output_type": "execute_result"
    },
    {
     "data": {
      "text/plain": [
       "count = \t\n",
       "1929\t\n"
      ]
     },
     "execution_count": 71,
     "metadata": {},
     "output_type": "execute_result"
    },
    {
     "data": {
      "text/plain": [
       "count = \t\n",
       "1930\t\n"
      ]
     },
     "execution_count": 71,
     "metadata": {},
     "output_type": "execute_result"
    },
    {
     "data": {
      "text/plain": [
       "count = \t\n",
       "1931\t\n"
      ]
     },
     "execution_count": 71,
     "metadata": {},
     "output_type": "execute_result"
    },
    {
     "data": {
      "text/plain": [
       "count = \t\n",
       "1932\t\n"
      ]
     },
     "execution_count": 71,
     "metadata": {},
     "output_type": "execute_result"
    },
    {
     "data": {
      "text/plain": [
       "count = \t\n",
       "1933\t\n"
      ]
     },
     "execution_count": 71,
     "metadata": {},
     "output_type": "execute_result"
    },
    {
     "data": {
      "text/plain": [
       "count = \t\n",
       "1934\t\n"
      ]
     },
     "execution_count": 71,
     "metadata": {},
     "output_type": "execute_result"
    },
    {
     "data": {
      "text/plain": [
       "count = \t\n",
       "1935\t\n"
      ]
     },
     "execution_count": 71,
     "metadata": {},
     "output_type": "execute_result"
    },
    {
     "data": {
      "text/plain": [
       "count = \t\n",
       "1936\t\n"
      ]
     },
     "execution_count": 71,
     "metadata": {},
     "output_type": "execute_result"
    },
    {
     "data": {
      "text/plain": [
       "count = \t\n",
       "1937\t\n"
      ]
     },
     "execution_count": 71,
     "metadata": {},
     "output_type": "execute_result"
    },
    {
     "data": {
      "text/plain": [
       "count = \t\n",
       "1938\t\n"
      ]
     },
     "execution_count": 71,
     "metadata": {},
     "output_type": "execute_result"
    },
    {
     "data": {
      "text/plain": [
       "count = \t\n",
       "1939\t\n"
      ]
     },
     "execution_count": 71,
     "metadata": {},
     "output_type": "execute_result"
    },
    {
     "data": {
      "text/plain": [
       "count = \t\n",
       "1940\t\n"
      ]
     },
     "execution_count": 71,
     "metadata": {},
     "output_type": "execute_result"
    },
    {
     "data": {
      "text/plain": [
       "count = \t\n",
       "1941\t\n"
      ]
     },
     "execution_count": 71,
     "metadata": {},
     "output_type": "execute_result"
    },
    {
     "data": {
      "text/plain": [
       "count = \t\n",
       "1942\t\n"
      ]
     },
     "execution_count": 71,
     "metadata": {},
     "output_type": "execute_result"
    },
    {
     "data": {
      "text/plain": [
       "count = \t\n",
       "1943\t\n"
      ]
     },
     "execution_count": 71,
     "metadata": {},
     "output_type": "execute_result"
    },
    {
     "data": {
      "text/plain": [
       "count = \t\n",
       "1944\t\n"
      ]
     },
     "execution_count": 71,
     "metadata": {},
     "output_type": "execute_result"
    },
    {
     "data": {
      "text/plain": [
       "count = \t\n",
       "1945\t\n"
      ]
     },
     "execution_count": 71,
     "metadata": {},
     "output_type": "execute_result"
    },
    {
     "data": {
      "text/plain": [
       "count = \t\n",
       "1946\t\n"
      ]
     },
     "execution_count": 71,
     "metadata": {},
     "output_type": "execute_result"
    },
    {
     "data": {
      "text/plain": [
       "count = \t\n",
       "1947\t\n"
      ]
     },
     "execution_count": 71,
     "metadata": {},
     "output_type": "execute_result"
    },
    {
     "data": {
      "text/plain": [
       "count = \t\n"
      ]
     },
     "execution_count": 71,
     "metadata": {},
     "output_type": "execute_result"
    },
    {
     "data": {
      "text/plain": [
       "1948\t\n"
      ]
     },
     "execution_count": 71,
     "metadata": {},
     "output_type": "execute_result"
    },
    {
     "data": {
      "text/plain": [
       "count = \t\n",
       "1949\t\n"
      ]
     },
     "execution_count": 71,
     "metadata": {},
     "output_type": "execute_result"
    },
    {
     "data": {
      "text/plain": [
       "count = \t\n",
       "1950\t\n"
      ]
     },
     "execution_count": 71,
     "metadata": {},
     "output_type": "execute_result"
    },
    {
     "data": {
      "text/plain": [
       "count = \t\n",
       "1951\t\n"
      ]
     },
     "execution_count": 71,
     "metadata": {},
     "output_type": "execute_result"
    },
    {
     "data": {
      "text/plain": [
       "count = \t\n",
       "1952\t\n"
      ]
     },
     "execution_count": 71,
     "metadata": {},
     "output_type": "execute_result"
    },
    {
     "data": {
      "text/plain": [
       "count = \t\n",
       "1953\t\n"
      ]
     },
     "execution_count": 71,
     "metadata": {},
     "output_type": "execute_result"
    },
    {
     "data": {
      "text/plain": [
       "count = \t\n",
       "1954\t\n"
      ]
     },
     "execution_count": 71,
     "metadata": {},
     "output_type": "execute_result"
    },
    {
     "data": {
      "text/plain": [
       "count = \t\n",
       "1955\t\n"
      ]
     },
     "execution_count": 71,
     "metadata": {},
     "output_type": "execute_result"
    },
    {
     "data": {
      "text/plain": [
       "count = \t\n",
       "1956\t\n"
      ]
     },
     "execution_count": 71,
     "metadata": {},
     "output_type": "execute_result"
    },
    {
     "data": {
      "text/plain": [
       "count = \t\n",
       "1957\t\n"
      ]
     },
     "execution_count": 71,
     "metadata": {},
     "output_type": "execute_result"
    },
    {
     "data": {
      "text/plain": [
       "no\t\n"
      ]
     },
     "execution_count": 71,
     "metadata": {},
     "output_type": "execute_result"
    },
    {
     "data": {
      "text/plain": [
       "count = \t\n",
       "1958\t\n"
      ]
     },
     "execution_count": 71,
     "metadata": {},
     "output_type": "execute_result"
    },
    {
     "data": {
      "text/plain": [
       "count = \t\n",
       "1959\t\n"
      ]
     },
     "execution_count": 71,
     "metadata": {},
     "output_type": "execute_result"
    },
    {
     "data": {
      "text/plain": [
       "count = \t\n",
       "1960\t\n"
      ]
     },
     "execution_count": 71,
     "metadata": {},
     "output_type": "execute_result"
    },
    {
     "data": {
      "text/plain": [
       "count = \t\n",
       "1961\t\n"
      ]
     },
     "execution_count": 71,
     "metadata": {},
     "output_type": "execute_result"
    },
    {
     "data": {
      "text/plain": [
       "count = \t"
      ]
     },
     "execution_count": 71,
     "metadata": {},
     "output_type": "execute_result"
    },
    {
     "data": {
      "text/plain": [
       "\n",
       "1962\t\n"
      ]
     },
     "execution_count": 71,
     "metadata": {},
     "output_type": "execute_result"
    },
    {
     "data": {
      "text/plain": [
       "count = \t\n",
       "1963\t\n"
      ]
     },
     "execution_count": 71,
     "metadata": {},
     "output_type": "execute_result"
    },
    {
     "data": {
      "text/plain": [
       "count = \t\n",
       "1964\t\n"
      ]
     },
     "execution_count": 71,
     "metadata": {},
     "output_type": "execute_result"
    },
    {
     "data": {
      "text/plain": [
       "count = \t\n",
       "1965\t\n"
      ]
     },
     "execution_count": 71,
     "metadata": {},
     "output_type": "execute_result"
    },
    {
     "data": {
      "text/plain": [
       "count = \t\n",
       "1966\t\n"
      ]
     },
     "execution_count": 71,
     "metadata": {},
     "output_type": "execute_result"
    },
    {
     "data": {
      "text/plain": [
       "count = \t\n",
       "1967\t\n"
      ]
     },
     "execution_count": 71,
     "metadata": {},
     "output_type": "execute_result"
    },
    {
     "data": {
      "text/plain": [
       "count = \t\n",
       "1968\t\n"
      ]
     },
     "execution_count": 71,
     "metadata": {},
     "output_type": "execute_result"
    },
    {
     "data": {
      "text/plain": [
       "count = \t\n",
       "1969\t\n"
      ]
     },
     "execution_count": 71,
     "metadata": {},
     "output_type": "execute_result"
    },
    {
     "data": {
      "text/plain": [
       "count = \t\n",
       "1970\t\n"
      ]
     },
     "execution_count": 71,
     "metadata": {},
     "output_type": "execute_result"
    },
    {
     "data": {
      "text/plain": [
       "count = \t\n",
       "1971\t\n"
      ]
     },
     "execution_count": 71,
     "metadata": {},
     "output_type": "execute_result"
    },
    {
     "data": {
      "text/plain": [
       "count = \t\n",
       "1972\t\n"
      ]
     },
     "execution_count": 71,
     "metadata": {},
     "output_type": "execute_result"
    },
    {
     "data": {
      "text/plain": [
       "count = \t\n",
       "1973\t\n"
      ]
     },
     "execution_count": 71,
     "metadata": {},
     "output_type": "execute_result"
    },
    {
     "data": {
      "text/plain": [
       "count = \t\n",
       "1974\t\n"
      ]
     },
     "execution_count": 71,
     "metadata": {},
     "output_type": "execute_result"
    },
    {
     "data": {
      "text/plain": [
       "count = \t\n",
       "1975\t\n"
      ]
     },
     "execution_count": 71,
     "metadata": {},
     "output_type": "execute_result"
    },
    {
     "data": {
      "text/plain": [
       "count = \t\n",
       "1976\t\n"
      ]
     },
     "execution_count": 71,
     "metadata": {},
     "output_type": "execute_result"
    },
    {
     "data": {
      "text/plain": [
       "count = \t\n",
       "1977\t\n"
      ]
     },
     "execution_count": 71,
     "metadata": {},
     "output_type": "execute_result"
    },
    {
     "data": {
      "text/plain": [
       "count = \t\n",
       "1978\t\n"
      ]
     },
     "execution_count": 71,
     "metadata": {},
     "output_type": "execute_result"
    },
    {
     "data": {
      "text/plain": [
       "count = \t\n",
       "1979\t\n"
      ]
     },
     "execution_count": 71,
     "metadata": {},
     "output_type": "execute_result"
    },
    {
     "data": {
      "text/plain": [
       "count = \t\n",
       "1980\t\n"
      ]
     },
     "execution_count": 71,
     "metadata": {},
     "output_type": "execute_result"
    },
    {
     "data": {
      "text/plain": [
       "count = \t\n",
       "1981\t\n"
      ]
     },
     "execution_count": 71,
     "metadata": {},
     "output_type": "execute_result"
    },
    {
     "data": {
      "text/plain": [
       "count = \t\n",
       "1982\t\n"
      ]
     },
     "execution_count": 71,
     "metadata": {},
     "output_type": "execute_result"
    },
    {
     "data": {
      "text/plain": [
       "count = \t\n",
       "1983\t\n"
      ]
     },
     "execution_count": 71,
     "metadata": {},
     "output_type": "execute_result"
    },
    {
     "data": {
      "text/plain": [
       "count = \t\n",
       "1984\t\n"
      ]
     },
     "execution_count": 71,
     "metadata": {},
     "output_type": "execute_result"
    },
    {
     "data": {
      "text/plain": [
       "count = \t\n",
       "1985\t\n"
      ]
     },
     "execution_count": 71,
     "metadata": {},
     "output_type": "execute_result"
    },
    {
     "data": {
      "text/plain": [
       "count = \t\n",
       "1986\t\n"
      ]
     },
     "execution_count": 71,
     "metadata": {},
     "output_type": "execute_result"
    },
    {
     "data": {
      "text/plain": [
       "count = \t\n",
       "1987\t\n"
      ]
     },
     "execution_count": 71,
     "metadata": {},
     "output_type": "execute_result"
    },
    {
     "data": {
      "text/plain": [
       "count = \t\n",
       "1988\t\n"
      ]
     },
     "execution_count": 71,
     "metadata": {},
     "output_type": "execute_result"
    },
    {
     "data": {
      "text/plain": [
       "count = \t\n",
       "1989\t\n",
       "no\t\n"
      ]
     },
     "execution_count": 71,
     "metadata": {},
     "output_type": "execute_result"
    },
    {
     "data": {
      "text/plain": [
       "count = \t\n",
       "1990\t\n"
      ]
     },
     "execution_count": 71,
     "metadata": {},
     "output_type": "execute_result"
    },
    {
     "data": {
      "text/plain": [
       "count = \t\n",
       "1991\t\n"
      ]
     },
     "execution_count": 71,
     "metadata": {},
     "output_type": "execute_result"
    },
    {
     "data": {
      "text/plain": [
       "count = \t\n",
       "1992\t\n"
      ]
     },
     "execution_count": 71,
     "metadata": {},
     "output_type": "execute_result"
    },
    {
     "data": {
      "text/plain": [
       "count = \t\n",
       "1993\t\n"
      ]
     },
     "execution_count": 71,
     "metadata": {},
     "output_type": "execute_result"
    },
    {
     "data": {
      "text/plain": [
       "count = \t\n",
       "1994\t\n"
      ]
     },
     "execution_count": 71,
     "metadata": {},
     "output_type": "execute_result"
    },
    {
     "data": {
      "text/plain": [
       "count = \t\n"
      ]
     },
     "execution_count": 71,
     "metadata": {},
     "output_type": "execute_result"
    },
    {
     "data": {
      "text/plain": [
       "1995\t\n"
      ]
     },
     "execution_count": 71,
     "metadata": {},
     "output_type": "execute_result"
    },
    {
     "data": {
      "text/plain": [
       "count = \t\n",
       "1996\t\n"
      ]
     },
     "execution_count": 71,
     "metadata": {},
     "output_type": "execute_result"
    },
    {
     "data": {
      "text/plain": [
       "count = \t\n",
       "1997\t\n"
      ]
     },
     "execution_count": 71,
     "metadata": {},
     "output_type": "execute_result"
    },
    {
     "data": {
      "text/plain": [
       "count = \t\n",
       "1998\t\n"
      ]
     },
     "execution_count": 71,
     "metadata": {},
     "output_type": "execute_result"
    },
    {
     "data": {
      "text/plain": [
       "count = \t"
      ]
     },
     "execution_count": 71,
     "metadata": {},
     "output_type": "execute_result"
    },
    {
     "data": {
      "text/plain": [
       "\n",
       "1999\t\n"
      ]
     },
     "execution_count": 71,
     "metadata": {},
     "output_type": "execute_result"
    },
    {
     "data": {
      "text/plain": [
       "count = \t\n",
       "2000\t\n"
      ]
     },
     "execution_count": 71,
     "metadata": {},
     "output_type": "execute_result"
    },
    {
     "data": {
      "text/plain": [
       "count = \t\n",
       "2001\t\n"
      ]
     },
     "execution_count": 71,
     "metadata": {},
     "output_type": "execute_result"
    },
    {
     "data": {
      "text/plain": [
       "count = \t\n",
       "2002\t\n"
      ]
     },
     "execution_count": 71,
     "metadata": {},
     "output_type": "execute_result"
    },
    {
     "data": {
      "text/plain": [
       "count = \t\n",
       "2003\t\n"
      ]
     },
     "execution_count": 71,
     "metadata": {},
     "output_type": "execute_result"
    },
    {
     "data": {
      "text/plain": [
       "count = \t\n",
       "2004\t\n"
      ]
     },
     "execution_count": 71,
     "metadata": {},
     "output_type": "execute_result"
    },
    {
     "data": {
      "text/plain": [
       "count = \t\n",
       "2005\t\n"
      ]
     },
     "execution_count": 71,
     "metadata": {},
     "output_type": "execute_result"
    },
    {
     "data": {
      "text/plain": [
       "count = \t\n",
       "2006\t\n",
       "count = \t\n",
       "2007\t\n"
      ]
     },
     "execution_count": 71,
     "metadata": {},
     "output_type": "execute_result"
    },
    {
     "data": {
      "text/plain": [
       "count = \t\n",
       "2008\t\n"
      ]
     },
     "execution_count": 71,
     "metadata": {},
     "output_type": "execute_result"
    },
    {
     "data": {
      "text/plain": [
       "count = \t\n",
       "2009\t\n"
      ]
     },
     "execution_count": 71,
     "metadata": {},
     "output_type": "execute_result"
    },
    {
     "data": {
      "text/plain": [
       "count = \t\n",
       "2010\t\n"
      ]
     },
     "execution_count": 71,
     "metadata": {},
     "output_type": "execute_result"
    },
    {
     "data": {
      "text/plain": [
       "count = \t\n",
       "2011\t\n"
      ]
     },
     "execution_count": 71,
     "metadata": {},
     "output_type": "execute_result"
    },
    {
     "data": {
      "text/plain": [
       "count = \t\n",
       "2012\t\n"
      ]
     },
     "execution_count": 71,
     "metadata": {},
     "output_type": "execute_result"
    },
    {
     "data": {
      "text/plain": [
       "count = \t\n",
       "2013\t\n"
      ]
     },
     "execution_count": 71,
     "metadata": {},
     "output_type": "execute_result"
    },
    {
     "data": {
      "text/plain": [
       "count = \t\n",
       "2014\t\n"
      ]
     },
     "execution_count": 71,
     "metadata": {},
     "output_type": "execute_result"
    },
    {
     "data": {
      "text/plain": [
       "count = \t\n",
       "2015\t\n"
      ]
     },
     "execution_count": 71,
     "metadata": {},
     "output_type": "execute_result"
    },
    {
     "data": {
      "text/plain": [
       "count = \t\n",
       "2016\t\n"
      ]
     },
     "execution_count": 71,
     "metadata": {},
     "output_type": "execute_result"
    },
    {
     "data": {
      "text/plain": [
       "no\t\n"
      ]
     },
     "execution_count": 71,
     "metadata": {},
     "output_type": "execute_result"
    },
    {
     "data": {
      "text/plain": [
       "count = \t\n",
       "2017\t\n"
      ]
     },
     "execution_count": 71,
     "metadata": {},
     "output_type": "execute_result"
    },
    {
     "data": {
      "text/plain": [
       "count = \t\n",
       "2018\t\n"
      ]
     },
     "execution_count": 71,
     "metadata": {},
     "output_type": "execute_result"
    },
    {
     "data": {
      "text/plain": [
       "count = \t\n",
       "2019\t\n"
      ]
     },
     "execution_count": 71,
     "metadata": {},
     "output_type": "execute_result"
    },
    {
     "data": {
      "text/plain": [
       "count = \t\n",
       "2020\t\n"
      ]
     },
     "execution_count": 71,
     "metadata": {},
     "output_type": "execute_result"
    },
    {
     "data": {
      "text/plain": [
       "count = \t\n",
       "2021\t\n"
      ]
     },
     "execution_count": 71,
     "metadata": {},
     "output_type": "execute_result"
    },
    {
     "data": {
      "text/plain": [
       "count = \t\n",
       "2022\t\n"
      ]
     },
     "execution_count": 71,
     "metadata": {},
     "output_type": "execute_result"
    },
    {
     "data": {
      "text/plain": [
       "count = \t\n",
       "2023\t\n"
      ]
     },
     "execution_count": 71,
     "metadata": {},
     "output_type": "execute_result"
    },
    {
     "data": {
      "text/plain": [
       "count = \t\n",
       "2024\t\n"
      ]
     },
     "execution_count": 71,
     "metadata": {},
     "output_type": "execute_result"
    },
    {
     "data": {
      "text/plain": [
       "count = \t\n",
       "2025\t\n"
      ]
     },
     "execution_count": 71,
     "metadata": {},
     "output_type": "execute_result"
    },
    {
     "data": {
      "text/plain": [
       "count = \t\n",
       "2026\t\n"
      ]
     },
     "execution_count": 71,
     "metadata": {},
     "output_type": "execute_result"
    },
    {
     "data": {
      "text/plain": [
       "count = \t\n",
       "2027\t\n"
      ]
     },
     "execution_count": 71,
     "metadata": {},
     "output_type": "execute_result"
    },
    {
     "data": {
      "text/plain": [
       "count = \t\n",
       "2028\t\n"
      ]
     },
     "execution_count": 71,
     "metadata": {},
     "output_type": "execute_result"
    },
    {
     "data": {
      "text/plain": [
       "count = \t\n",
       "2029\t\n"
      ]
     },
     "execution_count": 71,
     "metadata": {},
     "output_type": "execute_result"
    },
    {
     "data": {
      "text/plain": [
       "count = \t\n",
       "2030\t\n"
      ]
     },
     "execution_count": 71,
     "metadata": {},
     "output_type": "execute_result"
    },
    {
     "data": {
      "text/plain": [
       "count = \t\n",
       "2031\t\n"
      ]
     },
     "execution_count": 71,
     "metadata": {},
     "output_type": "execute_result"
    },
    {
     "data": {
      "text/plain": [
       "count = \t\n",
       "2032\t\n"
      ]
     },
     "execution_count": 71,
     "metadata": {},
     "output_type": "execute_result"
    },
    {
     "data": {
      "text/plain": [
       "count = \t\n",
       "2033\t\n"
      ]
     },
     "execution_count": 71,
     "metadata": {},
     "output_type": "execute_result"
    },
    {
     "data": {
      "text/plain": [
       "count = \t\n",
       "2034\t\n"
      ]
     },
     "execution_count": 71,
     "metadata": {},
     "output_type": "execute_result"
    },
    {
     "data": {
      "text/plain": [
       "count = \t\n",
       "2035\t\n"
      ]
     },
     "execution_count": 71,
     "metadata": {},
     "output_type": "execute_result"
    },
    {
     "data": {
      "text/plain": [
       "count = \t\n",
       "2036\t\n"
      ]
     },
     "execution_count": 71,
     "metadata": {},
     "output_type": "execute_result"
    },
    {
     "data": {
      "text/plain": [
       "count = \t\n",
       "2037\t\n"
      ]
     },
     "execution_count": 71,
     "metadata": {},
     "output_type": "execute_result"
    },
    {
     "data": {
      "text/plain": [
       "count = \t\n",
       "2038\t\n"
      ]
     },
     "execution_count": 71,
     "metadata": {},
     "output_type": "execute_result"
    },
    {
     "data": {
      "text/plain": [
       "count = \t\n",
       "2039\t\n"
      ]
     },
     "execution_count": 71,
     "metadata": {},
     "output_type": "execute_result"
    },
    {
     "data": {
      "text/plain": [
       "count = \t\n",
       "2040\t\n"
      ]
     },
     "execution_count": 71,
     "metadata": {},
     "output_type": "execute_result"
    },
    {
     "data": {
      "text/plain": [
       "count = \t\n",
       "2041\t\n"
      ]
     },
     "execution_count": 71,
     "metadata": {},
     "output_type": "execute_result"
    },
    {
     "data": {
      "text/plain": [
       "count = \t\n",
       "2042\t\n"
      ]
     },
     "execution_count": 71,
     "metadata": {},
     "output_type": "execute_result"
    },
    {
     "data": {
      "text/plain": [
       "count = \t\n",
       "2043\t\n"
      ]
     },
     "execution_count": 71,
     "metadata": {},
     "output_type": "execute_result"
    },
    {
     "data": {
      "text/plain": [
       "count = \t\n",
       "2044\t\n"
      ]
     },
     "execution_count": 71,
     "metadata": {},
     "output_type": "execute_result"
    },
    {
     "data": {
      "text/plain": [
       "count = \t\n",
       "2045\t\n"
      ]
     },
     "execution_count": 71,
     "metadata": {},
     "output_type": "execute_result"
    },
    {
     "data": {
      "text/plain": [
       "count = \t\n",
       "2046\t\n"
      ]
     },
     "execution_count": 71,
     "metadata": {},
     "output_type": "execute_result"
    },
    {
     "data": {
      "text/plain": [
       "count = \t\n",
       "2047\t\n"
      ]
     },
     "execution_count": 71,
     "metadata": {},
     "output_type": "execute_result"
    },
    {
     "data": {
      "text/plain": [
       "count = \t\n",
       "2048\t\n"
      ]
     },
     "execution_count": 71,
     "metadata": {},
     "output_type": "execute_result"
    },
    {
     "data": {
      "text/plain": [
       "count = \t\n",
       "2049\t\n"
      ]
     },
     "execution_count": 71,
     "metadata": {},
     "output_type": "execute_result"
    },
    {
     "data": {
      "text/plain": [
       "count = \t\n",
       "2050\t\n"
      ]
     },
     "execution_count": 71,
     "metadata": {},
     "output_type": "execute_result"
    },
    {
     "data": {
      "text/plain": [
       "count = \t\n",
       "2051\t\n"
      ]
     },
     "execution_count": 71,
     "metadata": {},
     "output_type": "execute_result"
    },
    {
     "data": {
      "text/plain": [
       "count = \t\n",
       "2052\t\n"
      ]
     },
     "execution_count": 71,
     "metadata": {},
     "output_type": "execute_result"
    },
    {
     "data": {
      "text/plain": [
       "count = \t\n",
       "2053\t\n"
      ]
     },
     "execution_count": 71,
     "metadata": {},
     "output_type": "execute_result"
    },
    {
     "data": {
      "text/plain": [
       "count = \t\n",
       "2054\t\n"
      ]
     },
     "execution_count": 71,
     "metadata": {},
     "output_type": "execute_result"
    },
    {
     "data": {
      "text/plain": [
       "count = \t\n",
       "2055\t\n"
      ]
     },
     "execution_count": 71,
     "metadata": {},
     "output_type": "execute_result"
    },
    {
     "data": {
      "text/plain": [
       "count = \t\n",
       "2056\t\n"
      ]
     },
     "execution_count": 71,
     "metadata": {},
     "output_type": "execute_result"
    },
    {
     "data": {
      "text/plain": [
       "count = \t\n",
       "2057\t\n",
       "count = \t\n",
       "2058\t\n"
      ]
     },
     "execution_count": 71,
     "metadata": {},
     "output_type": "execute_result"
    },
    {
     "data": {
      "text/plain": [
       "count = \t\n",
       "2059\t\n"
      ]
     },
     "execution_count": 71,
     "metadata": {},
     "output_type": "execute_result"
    },
    {
     "data": {
      "text/plain": [
       "count = \t\n",
       "2060\t\n"
      ]
     },
     "execution_count": 71,
     "metadata": {},
     "output_type": "execute_result"
    },
    {
     "data": {
      "text/plain": [
       "count = \t\n",
       "2061\t\n",
       "count = \t\n",
       "2062\t\n"
      ]
     },
     "execution_count": 71,
     "metadata": {},
     "output_type": "execute_result"
    },
    {
     "data": {
      "text/plain": [
       "count = \t\n",
       "2063\t\n"
      ]
     },
     "execution_count": 71,
     "metadata": {},
     "output_type": "execute_result"
    },
    {
     "data": {
      "text/plain": [
       "count = \t\n",
       "2064\t\n"
      ]
     },
     "execution_count": 71,
     "metadata": {},
     "output_type": "execute_result"
    },
    {
     "data": {
      "text/plain": [
       "count = \t\n",
       "2065\t\n"
      ]
     },
     "execution_count": 71,
     "metadata": {},
     "output_type": "execute_result"
    },
    {
     "data": {
      "text/plain": [
       "count = \t\n",
       "2066\t\n"
      ]
     },
     "execution_count": 71,
     "metadata": {},
     "output_type": "execute_result"
    },
    {
     "data": {
      "text/plain": [
       "count = \t\n",
       "2067\t\n"
      ]
     },
     "execution_count": 71,
     "metadata": {},
     "output_type": "execute_result"
    },
    {
     "data": {
      "text/plain": [
       "count = \t\n",
       "2068\t\n"
      ]
     },
     "execution_count": 71,
     "metadata": {},
     "output_type": "execute_result"
    },
    {
     "data": {
      "text/plain": [
       "count = \t\n",
       "2069\t\n"
      ]
     },
     "execution_count": 71,
     "metadata": {},
     "output_type": "execute_result"
    },
    {
     "data": {
      "text/plain": [
       "count = \t\n",
       "2070\t\n"
      ]
     },
     "execution_count": 71,
     "metadata": {},
     "output_type": "execute_result"
    },
    {
     "data": {
      "text/plain": [
       "count = \t\n",
       "2071\t\n"
      ]
     },
     "execution_count": 71,
     "metadata": {},
     "output_type": "execute_result"
    },
    {
     "data": {
      "text/plain": [
       "count = \t\n",
       "2072\t\n"
      ]
     },
     "execution_count": 71,
     "metadata": {},
     "output_type": "execute_result"
    },
    {
     "data": {
      "text/plain": [
       "count = \t\n",
       "2073\t\n"
      ]
     },
     "execution_count": 71,
     "metadata": {},
     "output_type": "execute_result"
    },
    {
     "data": {
      "text/plain": [
       "count = \t\n",
       "2074\t\n"
      ]
     },
     "execution_count": 71,
     "metadata": {},
     "output_type": "execute_result"
    },
    {
     "data": {
      "text/plain": [
       "count = \t\n",
       "2075\t\n"
      ]
     },
     "execution_count": 71,
     "metadata": {},
     "output_type": "execute_result"
    },
    {
     "data": {
      "text/plain": [
       "count = \t\n",
       "2076\t\n"
      ]
     },
     "execution_count": 71,
     "metadata": {},
     "output_type": "execute_result"
    },
    {
     "data": {
      "text/plain": [
       "count = \t\n",
       "2077\t\n"
      ]
     },
     "execution_count": 71,
     "metadata": {},
     "output_type": "execute_result"
    },
    {
     "data": {
      "text/plain": [
       "count = \t\n",
       "2078\t\n"
      ]
     },
     "execution_count": 71,
     "metadata": {},
     "output_type": "execute_result"
    },
    {
     "data": {
      "text/plain": [
       "count = \t\n",
       "2079\t\n"
      ]
     },
     "execution_count": 71,
     "metadata": {},
     "output_type": "execute_result"
    },
    {
     "data": {
      "text/plain": [
       "count = \t\n",
       "2080\t\n"
      ]
     },
     "execution_count": 71,
     "metadata": {},
     "output_type": "execute_result"
    },
    {
     "data": {
      "text/plain": [
       "count = \t\n",
       "2081\t\n"
      ]
     },
     "execution_count": 71,
     "metadata": {},
     "output_type": "execute_result"
    },
    {
     "data": {
      "text/plain": [
       "count = \t\n",
       "2082\t\n"
      ]
     },
     "execution_count": 71,
     "metadata": {},
     "output_type": "execute_result"
    },
    {
     "data": {
      "text/plain": [
       "count = \t\n",
       "2083\t\n"
      ]
     },
     "execution_count": 71,
     "metadata": {},
     "output_type": "execute_result"
    },
    {
     "data": {
      "text/plain": [
       "count = \t\n",
       "2084\t\n"
      ]
     },
     "execution_count": 71,
     "metadata": {},
     "output_type": "execute_result"
    },
    {
     "data": {
      "text/plain": [
       "count = \t\n",
       "2085\t\n"
      ]
     },
     "execution_count": 71,
     "metadata": {},
     "output_type": "execute_result"
    },
    {
     "data": {
      "text/plain": [
       "count = \t\n",
       "2086\t\n"
      ]
     },
     "execution_count": 71,
     "metadata": {},
     "output_type": "execute_result"
    },
    {
     "data": {
      "text/plain": [
       "count = \t\n",
       "2087\t\n"
      ]
     },
     "execution_count": 71,
     "metadata": {},
     "output_type": "execute_result"
    },
    {
     "data": {
      "text/plain": [
       "count = \t\n",
       "2088\t\n"
      ]
     },
     "execution_count": 71,
     "metadata": {},
     "output_type": "execute_result"
    },
    {
     "data": {
      "text/plain": [
       "count = \t\n",
       "2089\t\n"
      ]
     },
     "execution_count": 71,
     "metadata": {},
     "output_type": "execute_result"
    },
    {
     "data": {
      "text/plain": [
       "no\t\n"
      ]
     },
     "execution_count": 71,
     "metadata": {},
     "output_type": "execute_result"
    },
    {
     "data": {
      "text/plain": [
       "count = \t\n",
       "2090\t\n"
      ]
     },
     "execution_count": 71,
     "metadata": {},
     "output_type": "execute_result"
    },
    {
     "data": {
      "text/plain": [
       "count = \t\n",
       "2091\t\n"
      ]
     },
     "execution_count": 71,
     "metadata": {},
     "output_type": "execute_result"
    },
    {
     "data": {
      "text/plain": [
       "count = \t\n",
       "2092\t\n"
      ]
     },
     "execution_count": 71,
     "metadata": {},
     "output_type": "execute_result"
    },
    {
     "data": {
      "text/plain": [
       "count = \t\n",
       "2093\t\n"
      ]
     },
     "execution_count": 71,
     "metadata": {},
     "output_type": "execute_result"
    },
    {
     "data": {
      "text/plain": [
       "count = \t\n",
       "2094\t\n"
      ]
     },
     "execution_count": 71,
     "metadata": {},
     "output_type": "execute_result"
    },
    {
     "data": {
      "text/plain": [
       "count = \t\n",
       "2095\t\n"
      ]
     },
     "execution_count": 71,
     "metadata": {},
     "output_type": "execute_result"
    },
    {
     "data": {
      "text/plain": [
       "count = \t\n",
       "2096\t\n"
      ]
     },
     "execution_count": 71,
     "metadata": {},
     "output_type": "execute_result"
    },
    {
     "data": {
      "text/plain": [
       "count = \t\n",
       "2097\t\n"
      ]
     },
     "execution_count": 71,
     "metadata": {},
     "output_type": "execute_result"
    },
    {
     "data": {
      "text/plain": [
       "count = \t\n",
       "2098\t\n"
      ]
     },
     "execution_count": 71,
     "metadata": {},
     "output_type": "execute_result"
    },
    {
     "data": {
      "text/plain": [
       "count = \t\n",
       "2099\t\n"
      ]
     },
     "execution_count": 71,
     "metadata": {},
     "output_type": "execute_result"
    },
    {
     "data": {
      "text/plain": [
       "count = \t\n",
       "2100\t\n"
      ]
     },
     "execution_count": 71,
     "metadata": {},
     "output_type": "execute_result"
    },
    {
     "data": {
      "text/plain": [
       "count = \t\n",
       "2101\t\n"
      ]
     },
     "execution_count": 71,
     "metadata": {},
     "output_type": "execute_result"
    },
    {
     "data": {
      "text/plain": [
       "count = \t\n",
       "2102\t\n"
      ]
     },
     "execution_count": 71,
     "metadata": {},
     "output_type": "execute_result"
    },
    {
     "data": {
      "text/plain": [
       "count = \t\n",
       "2103\t\n"
      ]
     },
     "execution_count": 71,
     "metadata": {},
     "output_type": "execute_result"
    },
    {
     "data": {
      "text/plain": [
       "count = \t\n",
       "2104\t\n"
      ]
     },
     "execution_count": 71,
     "metadata": {},
     "output_type": "execute_result"
    },
    {
     "data": {
      "text/plain": [
       "count = \t\n",
       "2105\t\n"
      ]
     },
     "execution_count": 71,
     "metadata": {},
     "output_type": "execute_result"
    },
    {
     "data": {
      "text/plain": [
       "count = \t\n",
       "2106\t\n"
      ]
     },
     "execution_count": 71,
     "metadata": {},
     "output_type": "execute_result"
    },
    {
     "data": {
      "text/plain": [
       "count = \t\n",
       "2107\t\n"
      ]
     },
     "execution_count": 71,
     "metadata": {},
     "output_type": "execute_result"
    },
    {
     "data": {
      "text/plain": [
       "count = \t\n",
       "2108\t\n"
      ]
     },
     "execution_count": 71,
     "metadata": {},
     "output_type": "execute_result"
    },
    {
     "data": {
      "text/plain": [
       "count = \t\n",
       "2109\t\n"
      ]
     },
     "execution_count": 71,
     "metadata": {},
     "output_type": "execute_result"
    },
    {
     "data": {
      "text/plain": [
       "count = \t\n",
       "2110\t\n"
      ]
     },
     "execution_count": 71,
     "metadata": {},
     "output_type": "execute_result"
    },
    {
     "data": {
      "text/plain": [
       "count = \t\n",
       "2111\t\n"
      ]
     },
     "execution_count": 71,
     "metadata": {},
     "output_type": "execute_result"
    },
    {
     "data": {
      "text/plain": [
       "count = \t\n",
       "2112\t\n"
      ]
     },
     "execution_count": 71,
     "metadata": {},
     "output_type": "execute_result"
    },
    {
     "data": {
      "text/plain": [
       "count = \t\n",
       "2113\t\n"
      ]
     },
     "execution_count": 71,
     "metadata": {},
     "output_type": "execute_result"
    },
    {
     "data": {
      "text/plain": [
       "count = \t\n",
       "2114\t\n"
      ]
     },
     "execution_count": 71,
     "metadata": {},
     "output_type": "execute_result"
    },
    {
     "data": {
      "text/plain": [
       "count = \t\n",
       "2115\t\n"
      ]
     },
     "execution_count": 71,
     "metadata": {},
     "output_type": "execute_result"
    },
    {
     "data": {
      "text/plain": [
       "count = \t\n",
       "2116\t\n"
      ]
     },
     "execution_count": 71,
     "metadata": {},
     "output_type": "execute_result"
    },
    {
     "data": {
      "text/plain": [
       "count = \t\n",
       "2117\t\n"
      ]
     },
     "execution_count": 71,
     "metadata": {},
     "output_type": "execute_result"
    },
    {
     "data": {
      "text/plain": [
       "count = \t\n",
       "2118\t\n"
      ]
     },
     "execution_count": 71,
     "metadata": {},
     "output_type": "execute_result"
    },
    {
     "data": {
      "text/plain": [
       "count = \t\n",
       "2119\t\n"
      ]
     },
     "execution_count": 71,
     "metadata": {},
     "output_type": "execute_result"
    },
    {
     "data": {
      "text/plain": [
       "count = \t\n",
       "2120\t\n"
      ]
     },
     "execution_count": 71,
     "metadata": {},
     "output_type": "execute_result"
    },
    {
     "name": "stdout",
     "output_type": "stream",
     "text": [
      "\r",
      " [===============================================================================>......]                               \b\b\b\b\b\b\b\b\b\b\b\b\b\b\b\b\b\b\b\b\b\b\b\b\b\b\b\b\b\b ETA: 20s867ms | Step: 144ms\b\b\b\b\b\b\b\b\b\b\b\b\b\b\b\b\b\b\b\b\b\b\b\b\b\b\b\b\b\b\b\b\b\b\b\b\b\b\b\b\b\b\b\b\b\b\b\b\b\b\b\b\b\b\b\b\b\b\b\b\b\b\b\b\b\b\b\b\b\b\b\b\b\b\b\b "
     ]
    },
    {
     "data": {
      "text/plain": [
       "count = \t\n",
       "2121\t\n"
      ]
     },
     "execution_count": 71,
     "metadata": {},
     "output_type": "execute_result"
    },
    {
     "data": {
      "text/plain": [
       "count = \t\n",
       "2122\t\n"
      ]
     },
     "execution_count": 71,
     "metadata": {},
     "output_type": "execute_result"
    },
    {
     "data": {
      "text/plain": [
       "count = \t\n",
       "2123\t\n"
      ]
     },
     "execution_count": 71,
     "metadata": {},
     "output_type": "execute_result"
    },
    {
     "data": {
      "text/plain": [
       "no\t\n"
      ]
     },
     "execution_count": 71,
     "metadata": {},
     "output_type": "execute_result"
    },
    {
     "data": {
      "text/plain": [
       "count = \t\n",
       "2124\t\n"
      ]
     },
     "execution_count": 71,
     "metadata": {},
     "output_type": "execute_result"
    },
    {
     "data": {
      "text/plain": [
       "count = \t\n",
       "2125\t\n"
      ]
     },
     "execution_count": 71,
     "metadata": {},
     "output_type": "execute_result"
    },
    {
     "data": {
      "text/plain": [
       "count = \t\n",
       "2126\t\n"
      ]
     },
     "execution_count": 71,
     "metadata": {},
     "output_type": "execute_result"
    },
    {
     "data": {
      "text/plain": [
       "count = \t\n",
       "2127\t\n"
      ]
     },
     "execution_count": 71,
     "metadata": {},
     "output_type": "execute_result"
    },
    {
     "data": {
      "text/plain": [
       "count = \t\n",
       "2128\t\n"
      ]
     },
     "execution_count": 71,
     "metadata": {},
     "output_type": "execute_result"
    },
    {
     "data": {
      "text/plain": [
       "no\t\n"
      ]
     },
     "execution_count": 71,
     "metadata": {},
     "output_type": "execute_result"
    },
    {
     "data": {
      "text/plain": [
       "count = \t\n",
       "2129\t\n"
      ]
     },
     "execution_count": 71,
     "metadata": {},
     "output_type": "execute_result"
    },
    {
     "data": {
      "text/plain": [
       "count = \t\n",
       "2130\t\n"
      ]
     },
     "execution_count": 71,
     "metadata": {},
     "output_type": "execute_result"
    },
    {
     "data": {
      "text/plain": [
       "count = \t\n",
       "2131\t\n"
      ]
     },
     "execution_count": 71,
     "metadata": {},
     "output_type": "execute_result"
    },
    {
     "data": {
      "text/plain": [
       "count = \t\n",
       "2132\t\n"
      ]
     },
     "execution_count": 71,
     "metadata": {},
     "output_type": "execute_result"
    },
    {
     "data": {
      "text/plain": [
       "count = \t\n",
       "2133\t\n"
      ]
     },
     "execution_count": 71,
     "metadata": {},
     "output_type": "execute_result"
    },
    {
     "data": {
      "text/plain": [
       "count = \t\n",
       "2134\t\n"
      ]
     },
     "execution_count": 71,
     "metadata": {},
     "output_type": "execute_result"
    },
    {
     "data": {
      "text/plain": [
       "count = \t\n",
       "2135\t\n"
      ]
     },
     "execution_count": 71,
     "metadata": {},
     "output_type": "execute_result"
    },
    {
     "data": {
      "text/plain": [
       "count = \t\n",
       "2136\t\n"
      ]
     },
     "execution_count": 71,
     "metadata": {},
     "output_type": "execute_result"
    },
    {
     "data": {
      "text/plain": [
       "count = \t\n",
       "2137\t\n"
      ]
     },
     "execution_count": 71,
     "metadata": {},
     "output_type": "execute_result"
    },
    {
     "data": {
      "text/plain": [
       "no\t\n"
      ]
     },
     "execution_count": 71,
     "metadata": {},
     "output_type": "execute_result"
    },
    {
     "data": {
      "text/plain": [
       "count = \t\n",
       "2138\t\n"
      ]
     },
     "execution_count": 71,
     "metadata": {},
     "output_type": "execute_result"
    },
    {
     "data": {
      "text/plain": [
       "count = \t\n",
       "2139\t\n"
      ]
     },
     "execution_count": 71,
     "metadata": {},
     "output_type": "execute_result"
    },
    {
     "data": {
      "text/plain": [
       "count = \t\n",
       "2140\t\n"
      ]
     },
     "execution_count": 71,
     "metadata": {},
     "output_type": "execute_result"
    },
    {
     "data": {
      "text/plain": [
       "count = \t\n",
       "2141\t\n"
      ]
     },
     "execution_count": 71,
     "metadata": {},
     "output_type": "execute_result"
    },
    {
     "data": {
      "text/plain": [
       "count = \t\n",
       "2142\t\n"
      ]
     },
     "execution_count": 71,
     "metadata": {},
     "output_type": "execute_result"
    },
    {
     "data": {
      "text/plain": [
       "no\t\n"
      ]
     },
     "execution_count": 71,
     "metadata": {},
     "output_type": "execute_result"
    },
    {
     "data": {
      "text/plain": [
       "count = \t\n",
       "2143\t\n"
      ]
     },
     "execution_count": 71,
     "metadata": {},
     "output_type": "execute_result"
    },
    {
     "data": {
      "text/plain": [
       "count = \t\n",
       "2144\t\n"
      ]
     },
     "execution_count": 71,
     "metadata": {},
     "output_type": "execute_result"
    },
    {
     "data": {
      "text/plain": [
       "count = \t\n",
       "2145\t\n"
      ]
     },
     "execution_count": 71,
     "metadata": {},
     "output_type": "execute_result"
    },
    {
     "data": {
      "text/plain": [
       "count = \t\n",
       "2146\t\n"
      ]
     },
     "execution_count": 71,
     "metadata": {},
     "output_type": "execute_result"
    },
    {
     "data": {
      "text/plain": [
       "count = \t\n",
       "2147\t\n"
      ]
     },
     "execution_count": 71,
     "metadata": {},
     "output_type": "execute_result"
    },
    {
     "data": {
      "text/plain": [
       "count = \t\n",
       "2148\t\n"
      ]
     },
     "execution_count": 71,
     "metadata": {},
     "output_type": "execute_result"
    },
    {
     "data": {
      "text/plain": [
       "count = \t\n",
       "2149\t\n"
      ]
     },
     "execution_count": 71,
     "metadata": {},
     "output_type": "execute_result"
    },
    {
     "data": {
      "text/plain": [
       "count = \t\n",
       "2150\t\n"
      ]
     },
     "execution_count": 71,
     "metadata": {},
     "output_type": "execute_result"
    },
    {
     "data": {
      "text/plain": [
       "count = \t\n",
       "2151\t\n"
      ]
     },
     "execution_count": 71,
     "metadata": {},
     "output_type": "execute_result"
    },
    {
     "data": {
      "text/plain": [
       "count = \t\n",
       "2152\t\n"
      ]
     },
     "execution_count": 71,
     "metadata": {},
     "output_type": "execute_result"
    },
    {
     "data": {
      "text/plain": [
       "count = \t\n",
       "2153\t\n"
      ]
     },
     "execution_count": 71,
     "metadata": {},
     "output_type": "execute_result"
    },
    {
     "data": {
      "text/plain": [
       "count = \t\n",
       "2154\t\n"
      ]
     },
     "execution_count": 71,
     "metadata": {},
     "output_type": "execute_result"
    },
    {
     "data": {
      "text/plain": [
       "count = \t\n"
      ]
     },
     "execution_count": 71,
     "metadata": {},
     "output_type": "execute_result"
    },
    {
     "data": {
      "text/plain": [
       "2155\t\n"
      ]
     },
     "execution_count": 71,
     "metadata": {},
     "output_type": "execute_result"
    },
    {
     "data": {
      "text/plain": [
       "no\t\n"
      ]
     },
     "execution_count": 71,
     "metadata": {},
     "output_type": "execute_result"
    },
    {
     "data": {
      "text/plain": [
       "count = \t\n",
       "2156\t\n"
      ]
     },
     "execution_count": 71,
     "metadata": {},
     "output_type": "execute_result"
    },
    {
     "data": {
      "text/plain": [
       "count = \t\n",
       "2157\t\n"
      ]
     },
     "execution_count": 71,
     "metadata": {},
     "output_type": "execute_result"
    },
    {
     "data": {
      "text/plain": [
       "count = \t\n",
       "2158\t\n"
      ]
     },
     "execution_count": 71,
     "metadata": {},
     "output_type": "execute_result"
    },
    {
     "data": {
      "text/plain": [
       "count = \t\n",
       "2159\t\n"
      ]
     },
     "execution_count": 71,
     "metadata": {},
     "output_type": "execute_result"
    },
    {
     "data": {
      "text/plain": [
       "count = \t\n",
       "2160\t\n"
      ]
     },
     "execution_count": 71,
     "metadata": {},
     "output_type": "execute_result"
    },
    {
     "data": {
      "text/plain": [
       "count = \t\n",
       "2161\t\n"
      ]
     },
     "execution_count": 71,
     "metadata": {},
     "output_type": "execute_result"
    },
    {
     "data": {
      "text/plain": [
       "count = \t\n",
       "2162\t\n"
      ]
     },
     "execution_count": 71,
     "metadata": {},
     "output_type": "execute_result"
    },
    {
     "data": {
      "text/plain": [
       "count = \t\n",
       "2163\t\n"
      ]
     },
     "execution_count": 71,
     "metadata": {},
     "output_type": "execute_result"
    },
    {
     "data": {
      "text/plain": [
       "count = \t\n",
       "2164\t\n"
      ]
     },
     "execution_count": 71,
     "metadata": {},
     "output_type": "execute_result"
    },
    {
     "data": {
      "text/plain": [
       "count = \t\n",
       "2165\t\n"
      ]
     },
     "execution_count": 71,
     "metadata": {},
     "output_type": "execute_result"
    },
    {
     "data": {
      "text/plain": [
       "count = \t\n",
       "2166\t\n"
      ]
     },
     "execution_count": 71,
     "metadata": {},
     "output_type": "execute_result"
    },
    {
     "data": {
      "text/plain": [
       "count = \t\n",
       "2167\t\n"
      ]
     },
     "execution_count": 71,
     "metadata": {},
     "output_type": "execute_result"
    },
    {
     "data": {
      "text/plain": [
       "count = \t\n",
       "2168\t\n"
      ]
     },
     "execution_count": 71,
     "metadata": {},
     "output_type": "execute_result"
    },
    {
     "data": {
      "text/plain": [
       "count = \t\n",
       "2169\t\n"
      ]
     },
     "execution_count": 71,
     "metadata": {},
     "output_type": "execute_result"
    },
    {
     "data": {
      "text/plain": [
       "count = \t\n",
       "2170\t\n"
      ]
     },
     "execution_count": 71,
     "metadata": {},
     "output_type": "execute_result"
    },
    {
     "data": {
      "text/plain": [
       "count = \t\n",
       "2171\t\n"
      ]
     },
     "execution_count": 71,
     "metadata": {},
     "output_type": "execute_result"
    },
    {
     "data": {
      "text/plain": [
       "count = \t\n",
       "2172\t\n"
      ]
     },
     "execution_count": 71,
     "metadata": {},
     "output_type": "execute_result"
    },
    {
     "data": {
      "text/plain": [
       "count = \t\n",
       "2173\t\n"
      ]
     },
     "execution_count": 71,
     "metadata": {},
     "output_type": "execute_result"
    },
    {
     "data": {
      "text/plain": [
       "count = \t\n",
       "2174\t\n"
      ]
     },
     "execution_count": 71,
     "metadata": {},
     "output_type": "execute_result"
    },
    {
     "data": {
      "text/plain": [
       "count = \t\n",
       "2175\t\n"
      ]
     },
     "execution_count": 71,
     "metadata": {},
     "output_type": "execute_result"
    },
    {
     "data": {
      "text/plain": [
       "count = \t\n",
       "2176\t\n"
      ]
     },
     "execution_count": 71,
     "metadata": {},
     "output_type": "execute_result"
    },
    {
     "data": {
      "text/plain": [
       "count = \t\n",
       "2177\t\n"
      ]
     },
     "execution_count": 71,
     "metadata": {},
     "output_type": "execute_result"
    },
    {
     "data": {
      "text/plain": [
       "count = \t\n",
       "2178\t\n"
      ]
     },
     "execution_count": 71,
     "metadata": {},
     "output_type": "execute_result"
    },
    {
     "data": {
      "text/plain": [
       "count = \t\n",
       "2179\t\n"
      ]
     },
     "execution_count": 71,
     "metadata": {},
     "output_type": "execute_result"
    },
    {
     "data": {
      "text/plain": [
       "count = \t\n",
       "2180\t\n"
      ]
     },
     "execution_count": 71,
     "metadata": {},
     "output_type": "execute_result"
    },
    {
     "data": {
      "text/plain": [
       "count = \t\n",
       "2181\t\n"
      ]
     },
     "execution_count": 71,
     "metadata": {},
     "output_type": "execute_result"
    },
    {
     "data": {
      "text/plain": [
       "count = \t\n",
       "2182\t\n"
      ]
     },
     "execution_count": 71,
     "metadata": {},
     "output_type": "execute_result"
    },
    {
     "data": {
      "text/plain": [
       "count = \t\n",
       "2183\t\n"
      ]
     },
     "execution_count": 71,
     "metadata": {},
     "output_type": "execute_result"
    },
    {
     "data": {
      "text/plain": [
       "count = \t\n",
       "2184\t\n"
      ]
     },
     "execution_count": 71,
     "metadata": {},
     "output_type": "execute_result"
    },
    {
     "data": {
      "text/plain": [
       "count = \t\n",
       "2185\t\n"
      ]
     },
     "execution_count": 71,
     "metadata": {},
     "output_type": "execute_result"
    },
    {
     "data": {
      "text/plain": [
       "count = \t\n",
       "2186\t\n"
      ]
     },
     "execution_count": 71,
     "metadata": {},
     "output_type": "execute_result"
    },
    {
     "data": {
      "text/plain": [
       "count = \t\n",
       "2187\t\n"
      ]
     },
     "execution_count": 71,
     "metadata": {},
     "output_type": "execute_result"
    },
    {
     "data": {
      "text/plain": [
       "count = \t\n",
       "2188\t\n"
      ]
     },
     "execution_count": 71,
     "metadata": {},
     "output_type": "execute_result"
    },
    {
     "data": {
      "text/plain": [
       "count = \t\n",
       "2189\t\n"
      ]
     },
     "execution_count": 71,
     "metadata": {},
     "output_type": "execute_result"
    },
    {
     "data": {
      "text/plain": [
       "count = \t\n",
       "2190\t\n"
      ]
     },
     "execution_count": 71,
     "metadata": {},
     "output_type": "execute_result"
    },
    {
     "data": {
      "text/plain": [
       "count = \t\n",
       "2191\t\n"
      ]
     },
     "execution_count": 71,
     "metadata": {},
     "output_type": "execute_result"
    },
    {
     "data": {
      "text/plain": [
       "count = \t\n",
       "2192\t\n"
      ]
     },
     "execution_count": 71,
     "metadata": {},
     "output_type": "execute_result"
    },
    {
     "data": {
      "text/plain": [
       "count = \t\n",
       "2193\t\n"
      ]
     },
     "execution_count": 71,
     "metadata": {},
     "output_type": "execute_result"
    },
    {
     "data": {
      "text/plain": [
       "count = \t\n",
       "2194\t\n"
      ]
     },
     "execution_count": 71,
     "metadata": {},
     "output_type": "execute_result"
    },
    {
     "data": {
      "text/plain": [
       "count = \t\n",
       "2195\t\n"
      ]
     },
     "execution_count": 71,
     "metadata": {},
     "output_type": "execute_result"
    },
    {
     "data": {
      "text/plain": [
       "count = \t\n",
       "2196\t\n"
      ]
     },
     "execution_count": 71,
     "metadata": {},
     "output_type": "execute_result"
    },
    {
     "data": {
      "text/plain": [
       "count = \t\n",
       "2197\t\n"
      ]
     },
     "execution_count": 71,
     "metadata": {},
     "output_type": "execute_result"
    },
    {
     "data": {
      "text/plain": [
       "count = \t\n",
       "2198\t\n"
      ]
     },
     "execution_count": 71,
     "metadata": {},
     "output_type": "execute_result"
    },
    {
     "data": {
      "text/plain": [
       "count = \t\n",
       "2199\t\n"
      ]
     },
     "execution_count": 71,
     "metadata": {},
     "output_type": "execute_result"
    },
    {
     "data": {
      "text/plain": [
       "count = \t\n",
       "2200\t\n"
      ]
     },
     "execution_count": 71,
     "metadata": {},
     "output_type": "execute_result"
    },
    {
     "data": {
      "text/plain": [
       "count = \t\n",
       "2201\t\n"
      ]
     },
     "execution_count": 71,
     "metadata": {},
     "output_type": "execute_result"
    },
    {
     "data": {
      "text/plain": [
       "count = \t\n",
       "2202\t\n"
      ]
     },
     "execution_count": 71,
     "metadata": {},
     "output_type": "execute_result"
    },
    {
     "data": {
      "text/plain": [
       "count = \t\n",
       "2203\t\n"
      ]
     },
     "execution_count": 71,
     "metadata": {},
     "output_type": "execute_result"
    },
    {
     "data": {
      "text/plain": [
       "count = \t\n",
       "2204\t\n"
      ]
     },
     "execution_count": 71,
     "metadata": {},
     "output_type": "execute_result"
    },
    {
     "data": {
      "text/plain": [
       "count = \t\n",
       "2205\t\n"
      ]
     },
     "execution_count": 71,
     "metadata": {},
     "output_type": "execute_result"
    },
    {
     "data": {
      "text/plain": [
       "count = \t\n",
       "2206\t\n"
      ]
     },
     "execution_count": 71,
     "metadata": {},
     "output_type": "execute_result"
    },
    {
     "data": {
      "text/plain": [
       "count = \t\n",
       "2207\t\n"
      ]
     },
     "execution_count": 71,
     "metadata": {},
     "output_type": "execute_result"
    },
    {
     "data": {
      "text/plain": [
       "count = \t\n",
       "2208\t\n"
      ]
     },
     "execution_count": 71,
     "metadata": {},
     "output_type": "execute_result"
    },
    {
     "data": {
      "text/plain": [
       "count = \t\n",
       "2209\t\n"
      ]
     },
     "execution_count": 71,
     "metadata": {},
     "output_type": "execute_result"
    },
    {
     "data": {
      "text/plain": [
       "count = \t\n",
       "2210\t\n"
      ]
     },
     "execution_count": 71,
     "metadata": {},
     "output_type": "execute_result"
    },
    {
     "data": {
      "text/plain": [
       "count = \t\n",
       "2211\t\n"
      ]
     },
     "execution_count": 71,
     "metadata": {},
     "output_type": "execute_result"
    },
    {
     "data": {
      "text/plain": [
       "count = \t\n",
       "2212\t\n"
      ]
     },
     "execution_count": 71,
     "metadata": {},
     "output_type": "execute_result"
    },
    {
     "data": {
      "text/plain": [
       "count = \t\n",
       "2213\t\n"
      ]
     },
     "execution_count": 71,
     "metadata": {},
     "output_type": "execute_result"
    },
    {
     "data": {
      "text/plain": [
       "count = \t\n",
       "2214\t\n"
      ]
     },
     "execution_count": 71,
     "metadata": {},
     "output_type": "execute_result"
    },
    {
     "data": {
      "text/plain": [
       "count = \t\n",
       "2215\t\n"
      ]
     },
     "execution_count": 71,
     "metadata": {},
     "output_type": "execute_result"
    },
    {
     "data": {
      "text/plain": [
       "count = \t\n",
       "2216\t\n"
      ]
     },
     "execution_count": 71,
     "metadata": {},
     "output_type": "execute_result"
    },
    {
     "data": {
      "text/plain": [
       "count = \t\n",
       "2217\t\n"
      ]
     },
     "execution_count": 71,
     "metadata": {},
     "output_type": "execute_result"
    },
    {
     "data": {
      "text/plain": [
       "count = \t\n",
       "2218\t\n"
      ]
     },
     "execution_count": 71,
     "metadata": {},
     "output_type": "execute_result"
    },
    {
     "data": {
      "text/plain": [
       "count = \t\n",
       "2219\t\n"
      ]
     },
     "execution_count": 71,
     "metadata": {},
     "output_type": "execute_result"
    }
   ],
   "source": [
    "if file then\n",
    "    count = 1\n",
    "    for line in file:lines() do\n",
    "        xlua.progress(count, 2266)\n",
    "        imgAnchor = line\n",
    "        img1 = image.load(imgAnchor);\n",
    "        a,b = tryCatch(fun);\n",
    "        if a == true then \n",
    "            if a == true then\n",
    "            print(\"count = \")\n",
    "            print(count)\n",
    "            count = count + 1\n",
    "        end\n",
    "        else\n",
    "            print('no')\n",
    "        end\n",
    "    end\n",
    "else\n",
    "    print('File do not exists!')   \n",
    "end"
   ]
  },
  {
   "cell_type": "code",
   "execution_count": 72,
   "metadata": {
    "collapsed": false
   },
   "outputs": [
    {
     "data": {
      "text/plain": [
       "\n"
      ]
     },
     "execution_count": 72,
     "metadata": {},
     "output_type": "execute_result"
    }
   ],
   "source": [
    "torch.save('Imgs.t7', Imgs)"
   ]
  },
  {
   "cell_type": "code",
   "execution_count": 74,
   "metadata": {
    "collapsed": true
   },
   "outputs": [],
   "source": [
    "trainset = torch.load('lua_work/Imgs.t7')"
   ]
  },
  {
   "cell_type": "code",
   "execution_count": 75,
   "metadata": {
    "collapsed": false
   },
   "outputs": [
    {
     "data": {
      "text/plain": [
       " 2266\n",
       "    3\n",
       "  128\n",
       "  128\n",
       "[torch.LongStorage of size 4]\n",
       "\n"
      ]
     },
     "execution_count": 75,
     "metadata": {},
     "output_type": "execute_result"
    }
   ],
   "source": [
    "trainset.data:size()"
   ]
  },
  {
   "cell_type": "code",
   "execution_count": 86,
   "metadata": {
    "collapsed": false
   },
   "outputs": [
    {
     "data": {
      "text/plain": [
       "(1,.,.) = \n",
       " Columns 1 to 9\n",
       "  0.9882  0.9725  0.9412  0.9137  0.8980  0.8902  0.8941  0.9020  0.9098\n",
       "  1.0000  0.9882  0.9686  0.9490  0.9412  0.9373  0.9412  0.9490  0.9451\n",
       "  1.0000  0.9961  0.9882  0.9843  0.9804  0.9843  0.9882  0.9922  0.9765\n",
       "  0.9922  0.9922  0.9922  0.9961  0.9961  1.0000  1.0000  1.0000  0.9882\n",
       "  0.9922  0.9961  0.9961  1.0000  1.0000  1.0000  1.0000  1.0000  0.9922\n",
       "  1.0000  1.0000  1.0000  1.0000  1.0000  1.0000  1.0000  1.0000  1.0000\n",
       "  1.0000  1.0000  1.0000  1.0000  1.0000  1.0000  1.0000  1.0000  1.0000\n",
       "  1.0000  1.0000  0.9922  0.9922  0.9922  0.9961  1.0000  1.0000  1.0000\n",
       "  1.0000  1.0000  1.0000  1.0000  1.0000  1.0000  1.0000  1.0000  1.0000\n",
       "  1.0000  1.0000  1.0000  1.0000  1.0000  1.0000  1.0000  1.0000  1.0000\n",
       "  1.0000  1.0000  1.0000  1.0000  1.0000  1.0000  1.0000  1.0000  1.0000\n",
       "  1.0000  1.0000  1.0000  1.0000  1.0000  1.0000  1.0000  1.0000  1.0000\n",
       "  1.0000  1.0000  1.0000  1.0000  1.0000  1.0000  1.0000  1.0000  1.0000\n",
       "  1.0000  1.0000  1.0000  1.0000  1.0000  1.0000  1.0000  1.0000  1.0000\n",
       "  1.0000  1.0000  1.0000  1.0000  1.0000  1.0000  1.0000  1.0000  1.0000\n",
       "  1.0000  1.0000  1.0000  1.0000  1.0000  1.0000  1.0000  1.0000  1.0000\n",
       "  0.9608  0.9686  0.9725  0.9765  0.9882  0.9961  1.0000  1.0000  1.0000\n",
       "  0.9686  0.9686  0.9725  0.9843  0.9882  0.9961  1.0000  1.0000  1.0000\n",
       "  0.9725  0.9725  0.9765  0.9843  0.9961  1.0000  1.0000  1.0000  1.0000\n",
       "  0.9765  0.9843  0.9843  0.9882  0.9961  1.0000  1.0000  1.0000  1.0000\n",
       "  0.9882  0.9882  0.9961  0.9961  1.0000  1.0000  1.0000  1.0000  1.0000\n",
       "  0.9961  0.9961  1.0000  1.0000  1.0000  1.0000  1.0000  1.0000  1.0000\n",
       "  1.0000  1.0000  1.0000  1.0000  1.0000  1.0000  1.0000  1.0000  1.0000\n",
       "  1.0000  1.0000  1.0000  1.0000  1.0000  1.0000  1.0000  1.0000  1.0000\n",
       "  1.0000  1.0000  1.0000  1.0000  1.0000  1.0000  1.0000  1.0000  1.0000\n",
       "  1.0000  1.0000  1.0000  1.0000  1.0000  1.0000  1.0000  1.0000  1.0000\n",
       "  1.0000  1.0000  1.0000  1.0000  1.0000  0.9961  0.9961  0.9961  0.9961\n",
       "  1.0000  1.0000  1.0000  0.9961  0.9961  0.9961  0.9882  0.9961  0.9961\n",
       "  0.9961  0.9961  0.9961  0.9882  0.9882  0.9882  0.9882  0.9882  0.9961\n",
       "  0.9882  0.9882  0.9882  0.9843  0.9843  0.9843  0.9843  0.9882  0.9961\n",
       "  0.9882  0.9843  0.9843  0.9843  0.9843  0.9843  0.9843  0.9882  0.9804\n",
       "  0.9843  0.9843  0.9843  0.9765  0.9765  0.9765  0.9843  0.9882  0.9647\n",
       "  1.0000  0.9608  0.9216  0.9451  1.0000  1.0000  1.0000  1.0000  1.0000\n",
       "  1.0000  0.9686  0.9294  0.9490  1.0000  1.0000  1.0000  1.0000  1.0000\n",
       "  1.0000  0.9765  0.9412  0.9569  1.0000  1.0000  1.0000  1.0000  1.0000\n",
       "  1.0000  0.9882  0.9490  0.9608  1.0000  1.0000  1.0000  1.0000  1.0000\n",
       "  1.0000  1.0000  0.9608  0.9686  1.0000  1.0000  1.0000  1.0000  1.0000\n",
       "  1.0000  1.0000  0.9765  0.9725  0.9961  1.0000  1.0000  0.9882  0.9765\n",
       "  1.0000  1.0000  0.9961  0.9843  0.9882  0.9961  0.9882  0.9765  0.9608\n",
       "  1.0000  1.0000  1.0000  0.9882  0.9843  0.9882  0.9882  0.9765  0.9451\n",
       "  1.0000  1.0000  1.0000  0.9961  0.9843  0.9843  0.9882  0.9765  0.9569\n",
       "  1.0000  1.0000  1.0000  1.0000  0.9843  0.9843  0.9961  0.9882  0.9569\n",
       "  1.0000  1.0000  1.0000  1.0000  0.9843  0.9882  1.0000  1.0000  0.9608\n",
       "  0.9882  1.0000  1.0000  1.0000  0.9843  0.9961  1.0000  1.0000  0.9725\n",
       "  0.9686  0.9961  1.0000  1.0000  0.9843  1.0000  1.0000  1.0000  0.9843\n",
       "  0.9490  0.9843  1.0000  1.0000  0.9882  1.0000  1.0000  1.0000  0.9961\n",
       "  0.9333  0.9765  1.0000  1.0000  0.9882  1.0000  1.0000  1.0000  1.0000\n",
       "  0.9294  0.9725  1.0000  1.0000  0.9882  1.0000  1.0000  1.0000  1.0000\n",
       "  1.0000  1.0000  0.9216  0.9294  1.0000  1.0000  1.0000  0.9333  0.9294\n",
       "  1.0000  1.0000  0.9216  0.9294  1.0000  1.0000  1.0000  0.9412  0.9333\n",
       "  1.0000  1.0000  0.9294  0.9333  1.0000  1.0000  1.0000  0.9451  0.9451\n",
       "  1.0000  1.0000  0.9294  0.9412  1.0000  1.0000  1.0000  0.9490  0.9686\n",
       "  1.0000  1.0000  0.9333  0.9451  1.0000  1.0000  1.0000  0.9569  0.9882\n",
       "  1.0000  0.9961  0.9412  0.9569  1.0000  1.0000  1.0000  0.9686  1.0000\n",
       "  1.0000  0.9882  0.9451  0.9686  1.0000  1.0000  1.0000  0.9843  1.0000\n",
       "  1.0000  0.9843  0.9569  0.9725  1.0000  1.0000  1.00"
      ]
     },
     "execution_count": 86,
     "metadata": {},
     "output_type": "execute_result"
    },
    {
     "data": {
      "text/plain": [
       "00  0.9961  1.0000\n",
       "  1.0000  0.9804  0.9451  0.9765  1.0000  1.0000  1.0000  1.0000  1.0000\n",
       "  1.0000  0.9725  0.9608  0.9961  1.0000  1.0000  0.9922  1.0000  1.0000\n",
       "  0.9804  0.9686  0.9725  1.0000  1.0000  1.0000  0.9843  1.0000  0.9255\n",
       "  0.9608  0.9686  0.9765  1.0000  1.0000  1.0000  0.9961  1.0000  0.8314\n",
       "  0.9608  0.9686  0.9843  1.0000  1.0000  1.0000  0.9961  1.0000  0.7569\n",
       "  0.9529  0.9608  0.9882  1.0000  1.0000  1.0000  0.9961  1.0000  0.6784\n",
       "  0.9569  0.9608  0.9882  1.0000  1.0000  1.0000  0.9647  0.9608  0.6118\n",
       "  0.9490  0.9608  0.9882  1.0000  1.0000  1.0000  0.9373  0.9137  0.5647\n",
       "  1.0000  1.0000  0.9922  0.9922  0.9569  0.8784  0.9490  0.9412  0.7725\n",
       "  1.0000  1.0000  1.0000  0.9922  0.9569  0.8824  0.9529  0.8706  0.7725\n",
       "  1.0000  1.0000  1.0000  1.0000  0.9451  0.8980  0.9647  0.7725  0.7725\n",
       "  1.0000  1.0000  1.0000  1.0000  0.9412  0.9216  0.9725  0.6902  0.7686\n",
       "  1.0000  1.0000  1.0000  0.9961  0.9529  0.9451  0.9765  0.6392  0.7725\n",
       "  1.0000  1.0000  1.0000  0.9882  0.9608  0.9569  0.9451  0.6157  0.7686\n",
       "  1.0000  1.0000  1.0000  0.9882  0.9608  0.9529  0.9216  0.6118  0.7686\n",
       "  1.0000  1.0000  1.0000  0.9765  0.9608  0.9529  0.9176  0.6275  0.7725\n",
       "  0.9843  1.0000  1.0000  0.9843  0.9686  1.0000  0.8157  0.6784  0.7725\n",
       "  0.9882  1.0000  1.0000  0.9765  0.9608  1.0000  0.7961  0.7020  0.7765\n",
       "  0.9843  1.0000  1.0000  0.9725  0.9333  1.0000  0.7490  0.7216  0.7804\n",
       "  0.9725  1.0000  1.0000  0.9725  0.9255  1.0000  0.7098  0.7608  0.7882\n",
       "  0.9686  1.0000  1.0000  0.9686  0.9333  1.0000  0.7020  0.8039  0.7843\n",
       "  0.9608  1.0000  1.0000  0.9686  0.9490  0.9176  0.7059  0.8392  0.7882\n",
       "  0.9529  1.0000  1.0000  0.9490  0.9686  0.8157  0.7098  0.8510  0.7804\n",
       "  0.9490  1.0000  1.0000  0.9373  0.9725  0.7490  0.7137  0.8471  0.7765\n",
       "  1.0000  1.0000  0.9059  0.9137  1.0000  0.7529  0.7765  0.8549  0.8000\n",
       "  1.0000  1.0000  0.9059  0.9176  1.0000  0.7176  0.7686  0.8471  0.8000\n",
       "  1.0000  0.9882  0.9137  0.9216  0.9961  0.6745  0.7608  0.8275  0.8000\n",
       "  1.0000  0.9647  0.9216  0.9373  0.9686  0.6353  0.7569  0.8196  0.8000\n",
       "  1.0000  0.9529  0.9216  0.9686  0.9294  0.6235  0.7608  0.8235  0.8078\n",
       "  1.0000  0.9529  0.9216  0.9882  0.8667  0.6275  0.7725  0.8196  0.8078\n",
       "  1.0000  0.9569  0.9059  1.0000  0.8157  0.6588  0.7725  0.8078  0.8078\n",
       "  1.0000  0.9529  0.8941  1.0000  0.7961  0.6863  0.7804  0.7961  0.8118\n",
       "  1.0000  0.9569  0.8941  1.0000  0.7294  0.7373  0.7843  0.7843  0.8235\n",
       "  1.0000  0.9451  0.8902  1.0000  0.7490  0.7490  0.7843  0.7882  0.8314\n",
       "  1.0000  0.9412  0.8941  1.0000  0.7490  0.7608  0.7804  0.7882  0.8314\n",
       "  1.0000  0.9333  0.9059  1.0000  0.7569  0.7843  0.7765  0.7882  0.8353\n",
       "  1.0000  0.9294  0.9216  0.9804  0.7725  0.8157  0.7765  0.7804  0.8353\n",
       "  1.0000  0.9216  0.9216  0.9255  0.7804  0.8431  0.7725  0.7725  0.8353\n",
       "  1.0000  0.9176  0.9098  0.8667  0.7686  0.8549  0.7725  0.7647  0.8392\n",
       "  1.0000  0.9176  0.8941  0.8235  0.7529  0.8549  0.7686  0.7647  0.8392\n",
       "  0.9333  0.9451  1.0000  0.7529  0.7451  0.8275  0.8118  0.8039  0.7686\n",
       "  0.9333  0.9451  1.0000  0.7412  0.7529  0.8275  0.8157  0.8039  0.7686\n",
       "  0.9294  0.9569  1.0000  0.7216  0.7569  0.8235  0.8078  0.8000  0.7725\n",
       "  0.9294  0.9608  1.0000  0.6902  0.7608  0.8235  0.8118  0.7961  0.7725\n",
       "  0.9294  0.9765  0.9804  0.6588  0.7686  0.8196  0.8039  0.7922  0.7765\n",
       "  0.9255  0.9843  0.9451  0.6431  0.7765  0.8157  0.8039  0.7804  0.7843\n",
       "  0.9333  1.0000  0.9294  0.6314  0.7882  0.8118  0.8039  0.7765  0.7961\n",
       "  0.9333  1.0000  0.9294  0.6353  0.8000  0.8078  0.7961  0.7725  0.8000\n",
       "  0.9412  1.0000  0.8392  0.6824  0.7961  0.8353  0.7804  0.7804  0.8039\n",
       "  0.9451  1.0000  0.8275  0.6941  0.8000  0.8275  0.7686  0.7725  0.8118\n",
       "  0.9412  1.0000  0.8000  0.7059  0.8039  0.8196  0.7569  0.7725  0.8157\n",
       "  0.9412  1.0000  0.7529  0.7216  0.8118  0.8196  0.7569  0.7765  0.8196\n",
       "  0.9412  1.0000  0.7137  0.7451  0.8314  0.8157  0.7529  0.7804  0.8235\n",
       "  0.9373  0.9961  0.6745  0.7686  0.8471  0.8157  0.7451  0.7765  0.8275\n",
       "  0.9255  0.9843  0.6314  0.7804  0.8549  0.8118  0.7333  0.7686  0.8314\n",
       "  0.9137  0.9686  0.6078  0.7804  0.8588  0.8078  0.7294  0.76"
      ]
     },
     "execution_count": 86,
     "metadata": {},
     "output_type": "execute_result"
    },
    {
     "data": {
      "text/plain": [
       "08  0.8314\n",
       "  0.9216  0.9412  0.6941  0.8196  0.7569  0.7804  0.8078  0.8314  0.8275\n",
       "  0.9255  0.9255  0.6902  0.8196  0.7608  0.7804  0.8078  0.8314  0.8275\n",
       "  0.9294  0.8863  0.6902  0.8196  0.7686  0.7686  0.7961  0.8353  0.8275\n",
       "  0.9333  0.8392  0.6941  0.8196  0.7765  0.7647  0.7922  0.8353  0.8275\n",
       "  0.9451  0.7843  0.6980  0.8235  0.7882  0.7569  0.7882  0.8392  0.8314\n",
       "  0.9608  0.7412  0.7020  0.8235  0.8000  0.7490  0.7843  0.8392  0.8314\n",
       "  0.9804  0.7176  0.7059  0.8314  0.8039  0.7451  0.7725  0.8353  0.8392\n",
       "  0.9961  0.7098  0.7176  0.8392  0.8118  0.7373  0.7725  0.8353  0.8392\n",
       "  1.0000  0.6588  0.7529  0.8275  0.8157  0.7490  0.7686  0.8275  0.8510\n",
       "  0.9961  0.6549  0.7569  0.8275  0.8118  0.7451  0.7686  0.8275  0.8588\n",
       "  0.9647  0.6471  0.7647  0.8314  0.8078  0.7412  0.7686  0.8314  0.8588\n",
       "  0.9451  0.6431  0.7765  0.8431  0.8078  0.7412  0.7608  0.8275  0.8510\n",
       "  0.9176  0.6471  0.8000  0.8588  0.8118  0.7333  0.7608  0.8235  0.8431\n",
       "  0.8863  0.6431  0.8118  0.8745  0.8118  0.7294  0.7569  0.8196  0.8392\n",
       "  0.8471  0.6235  0.8078  0.8706  0.8078  0.7294  0.7569  0.8196  0.8471\n",
       "  0.8157  0.6039  0.8039  0.8667  0.8039  0.7294  0.7608  0.8235  0.8510\n",
       "\n",
       "Columns 10 to 18\n",
       "  0.9176  0.9294  0.9373  0.9412  0.9373  0.9333  0.9294  0.8353  0.9529\n",
       "  0.9529  0.9608  0.9686  0.9725  0.9725  0.9647  0.9647  0.8980  0.9843\n",
       "  0.9843  0.9922  0.9961  1.0000  1.0000  0.9961  0.9922  0.9725  1.0000\n",
       "  0.9922  0.9961  1.0000  1.0000  1.0000  1.0000  1.0000  1.0000  1.0000\n",
       "  0.9922  0.9961  1.0000  1.0000  1.0000  1.0000  1.0000  1.0000  1.0000\n",
       "  1.0000  1.0000  1.0000  1.0000  1.0000  1.0000  1.0000  1.0000  1.0000\n",
       "  1.0000  1.0000  1.0000  0.9961  1.0000  1.0000  1.0000  1.0000  1.0000\n",
       "  0.9961  0.9922  0.9922  0.9922  0.9922  0.9961  0.9961  1.0000  0.9961\n",
       "  1.0000  1.0000  1.0000  1.0000  1.0000  1.0000  1.0000  1.0000  0.9451\n",
       "  1.0000  1.0000  1.0000  1.0000  1.0000  1.0000  1.0000  0.9804  0.9804\n",
       "  1.0000  1.0000  1.0000  1.0000  1.0000  1.0000  1.0000  0.9490  0.9843\n",
       "  1.0000  1.0000  1.0000  1.0000  1.0000  1.0000  1.0000  0.9569  0.9882\n",
       "  1.0000  1.0000  1.0000  1.0000  1.0000  1.0000  1.0000  0.9765  0.9804\n",
       "  1.0000  1.0000  1.0000  1.0000  1.0000  1.0000  1.0000  1.0000  0.9725\n",
       "  1.0000  1.0000  1.0000  1.0000  1.0000  1.0000  1.0000  1.0000  1.0000\n",
       "  1.0000  1.0000  1.0000  1.0000  1.0000  1.0000  1.0000  1.0000  1.0000\n",
       "  1.0000  1.0000  1.0000  0.9961  0.9882  0.9882  0.9843  1.0000  0.9451\n",
       "  1.0000  1.0000  1.0000  0.9961  0.9882  0.9882  0.9843  1.0000  0.9412\n",
       "  1.0000  1.0000  1.0000  0.9961  0.9882  0.9843  0.9843  1.0000  0.9490\n",
       "  1.0000  1.0000  0.9961  0.9882  0.9843  0.9843  0.9765  0.9843  1.0000\n",
       "  1.0000  1.0000  0.9961  0.9882  0.9843  0.9843  0.9765  0.9608  1.0000\n",
       "  1.0000  0.9961  0.9961  0.9882  0.9843  0.9843  0.9765  0.9608  1.0000\n",
       "  1.0000  0.9961  0.9961  0.9882  0.9843  0.9843  0.9843  0.9922  0.8784\n",
       "  1.0000  0.9961  0.9961  0.9882  0.9882  0.9882  0.9882  1.0000  0.7804\n",
       "  0.9922  0.9961  0.9843  0.9922  0.9961  0.9882  0.9922  1.0000  0.6549\n",
       "  0.9882  1.0000  1.0000  1.0000  1.0000  0.9961  0.9922  0.9569  0.6471\n",
       "  0.9882  1.0000  1.0000  1.0000  1.0000  1.0000  0.9882  0.8353  0.6314\n",
       "  0.9922  0.9961  1.0000  1.0000  1.0000  1.0000  0.9647  0.7451  0.6510\n",
       "  1.0000  0.9922  1.0000  1.0000  1.0000  1.0000  0.8824  0.7059  0.6863\n",
       "  1.0000  0.9922  1.0000  1.0000  1.0000  1.0000  0.7333  0.7020  0.7294\n",
       "  1.0000  0.9922  1.0000  1.0000  1.0000  0.9882  0.5451  0.7294  0.7686\n",
       "  1.0000  0.9961  1.0000  1.0000  1.0000  0.9451  0.4196  0.7529  0.7922\n",
       "  1.0000  1.0000  0.9059  0.8745  1.0000  1.0000  0.7725  0.7255  0.7765\n",
       "  1.0000  1.0000  0.9176  0.8863  1.0000  0.9020  0.7608  0.7333  0.7647\n",
       "  1.0000  1.0000  0.9412  0.9098  0.9608  0.7686  0.7490  0.7333  0.7490\n",
       "  1.0000  1.0000  0.9490  0.9412  0.9137  0.6627  0.7686  0.7373  0.7529\n",
       "  1.0000  0.9961  0.9686  0.9725  0.8392  0.6235  0.8039  0.7451  0.7647\n",
       "  1.0000  0.9882  0.9882  0.9922  0.7412  0.6471  0.8275  0.7412  0.7882\n",
       "  0.9765  0.9725  0.9961  0.9961  0.6471  0.6941  0.8353  0.7333  0.8157\n",
       "  0.9569  0.9608  0.9961  1.0000  0.6000  0.7412  0."
      ]
     },
     "execution_count": 86,
     "metadata": {},
     "output_type": "execute_result"
    },
    {
     "data": {
      "text/plain": [
       "8196  0.7373  0.8392\n",
       "  0.9216  0.9725  1.0000  0.8588  0.6667  0.7412  0.8471  0.7608  0.8196\n",
       "  0.9176  0.9725  1.0000  0.8235  0.7020  0.7725  0.8392  0.7647  0.8196\n",
       "  0.9255  0.9765  1.0000  0.7412  0.7412  0.8000  0.8235  0.7725  0.8275\n",
       "  0.9294  0.9765  0.9569  0.6863  0.7765  0.8235  0.8078  0.7804  0.8314\n",
       "  0.9333  0.9843  0.8784  0.6745  0.8196  0.8431  0.7882  0.7922  0.8353\n",
       "  0.9333  0.9647  0.7647  0.6941  0.8431  0.8431  0.7843  0.7961  0.8471\n",
       "  0.9294  0.9294  0.6353  0.7176  0.8471  0.8392  0.7804  0.7882  0.8549\n",
       "  0.9098  0.8980  0.5569  0.7294  0.8431  0.8275  0.7843  0.7843  0.8667\n",
       "  1.0000  1.0000  0.7020  0.7804  0.7765  0.8392  0.8078  0.7608  0.8549\n",
       "  1.0000  0.9333  0.6902  0.7804  0.7843  0.8275  0.8118  0.7608  0.8392\n",
       "  1.0000  0.8039  0.6863  0.7804  0.7922  0.8157  0.8118  0.7725  0.8078\n",
       "  1.0000  0.6941  0.6824  0.7882  0.8000  0.8039  0.8118  0.7804  0.7804\n",
       "  0.9882  0.6353  0.7020  0.7922  0.8000  0.7922  0.8157  0.7922  0.7569\n",
       "  0.9059  0.6275  0.7216  0.7882  0.7922  0.7882  0.8235  0.8039  0.7490\n",
       "  0.8157  0.6471  0.7373  0.7765  0.7882  0.7843  0.8314  0.8039  0.7373\n",
       "  0.7686  0.6863  0.7529  0.7725  0.7804  0.7882  0.8392  0.7961  0.7255\n",
       "  0.6510  0.7255  0.7765  0.7686  0.7725  0.8000  0.8392  0.8118  0.6353\n",
       "  0.6588  0.7490  0.7882  0.7686  0.7647  0.8000  0.8392  0.8235  0.6235\n",
       "  0.6667  0.7686  0.8000  0.7843  0.7529  0.8000  0.8431  0.8392  0.6275\n",
       "  0.6824  0.7961  0.8196  0.7922  0.7451  0.8039  0.8471  0.8353  0.6196\n",
       "  0.7020  0.8235  0.8431  0.8000  0.7294  0.8078  0.8392  0.8275  0.6118\n",
       "  0.7137  0.8471  0.8549  0.8078  0.7216  0.8118  0.8431  0.8275  0.6235\n",
       "  0.7216  0.8549  0.8549  0.8078  0.7098  0.8118  0.8510  0.8471  0.6431\n",
       "  0.7137  0.8510  0.8549  0.8039  0.7059  0.8157  0.8588  0.8667  0.6667\n",
       "  0.8784  0.7843  0.7059  0.7608  0.8510  0.8275  0.7412  0.7020  0.7098\n",
       "  0.8706  0.7843  0.7098  0.7686  0.8510  0.8275  0.7451  0.7098  0.7529\n",
       "  0.8667  0.7843  0.7176  0.7725  0.8510  0.8275  0.7451  0.7059  0.8078\n",
       "  0.8588  0.7804  0.7216  0.7765  0.8510  0.8235  0.7451  0.6902  0.8706\n",
       "  0.8471  0.7804  0.7333  0.7843  0.8431  0.8196  0.7451  0.6667  0.9255\n",
       "  0.8353  0.7804  0.7490  0.7961  0.8431  0.8078  0.7490  0.6667  0.9765\n",
       "  0.8157  0.7804  0.7608  0.8039  0.8431  0.8039  0.7412  0.6745  1.0000\n",
       "  0.8039  0.7765  0.7843  0.8157  0.8353  0.7961  0.7412  0.6745  1.0000\n",
       "  0.7843  0.7765  0.8000  0.8275  0.8314  0.7843  0.7412  0.7137  1.0000\n",
       "  0.7725  0.7765  0.8157  0.8431  0.8275  0.7765  0.7373  0.7137  1.0000\n",
       "  0.7647  0.7804  0.8314  0.8549  0.8157  0.7647  0.7255  0.7333  1.0000\n",
       "  0.7529  0.7804  0.8431  0.8588  0.8118  0.7529  0.7255  0.7725  1.0000\n",
       "  0.7412  0.7804  0.8549  0.8706  0.8157  0.7490  0.7294  0.8235  1.0000\n",
       "  0.7216  0.7765  0.8667  0.8784  0.8078  0.7490  0.7294  0.8667  1.0000\n",
       "  0.7137  0.7725  0.8706  0.8863  0.8118  0.7490  0.7373  0.9059  1.0000\n",
       "  0.7098  0.7686  0.8745  0.8863  0.8118  0.7529  0.7412  0.9255  1.0000\n",
       "  0.7412  0.8078  0.8235  0.8118  0.7843  0.7020  0.7059  0.9294  1.0000\n",
       "  0.7451  0.8039  0.8196  0.8157  0.7843  0.7020  0.7176  0.9373  1.0000\n",
       "  0.7569  0.7922  0.8118  0.8235  0.7804  0.6941  0.7373  0.9647  1.0000\n",
       "  0.7647  0.7843  0.8000  0.8314  0.7804  0.6941  0.7608  0.9804  1.0000\n",
       "  0.7765  0.7765  0.7843  0.8392  0.7804  0.6863  0.7804  0.9843  1.0000\n",
       "  0.7843  0.7686  0.7725  0.8471  0.7804  0.6745  0.8000  0.9843  1.0000\n",
       "  0.7961  0.7569  0.7569  0.8549  0.7843  0.6627  0.8039  1.0000  1.0000\n",
       "  0.8039  0.7490  0.7412  0.8588  0.7882  0.6549  0.7843  1.0000  1.0000\n",
       "  0.8000  0.7451  0.7647  0.8314  0.8157  0.6431  0.8549  1.0000  1.0000\n",
       "  0.8039  0.7412  0.7529  0.8314  0.8235  0.6431  0.8431  1.0000  1.0000\n",
       "  0.8039  0.7333  0.7490  0.8314  0.8275  0.6510  0.8431  1.0000  1.0000\n",
       "  0.8118  0.7255  0.7412  0.8314  0.8314  0.6588  0.8549  1.0000  1.0000\n",
       "  0.8078  0.7216  0.7333  0.8275  0.8392  0.6706  0.8706  1.0000  1.0000\n",
       "  0.8078  0.7098  0.7294  0.8275  0.8392  0.6824  0.8902  1.0000  1.0000\n",
       "  0.8078  0.7098  0.7255  0.8275  0.8471  0.6980  0.9059  0.9961  0.9882\n",
       "  0.8118  0.7098  0.7255  0.8235  0.8471  0.6941  0.9176  0."
      ]
     },
     "execution_count": 86,
     "metadata": {},
     "output_type": "execute_result"
    },
    {
     "data": {
      "text/plain": [
       "9922  0.9765\n",
       "  0.7255  0.7255  0.8471  0.9255  0.8588  0.6431  0.8510  0.9843  0.9608\n",
       "  0.7255  0.7255  0.8431  0.9255  0.8627  0.6431  0.8588  0.9882  0.9686\n",
       "  0.7294  0.7373  0.8471  0.9255  0.8549  0.6549  0.8784  1.0000  0.9843\n",
       "  0.7412  0.7412  0.8392  0.9137  0.8471  0.6627  0.8980  1.0000  0.9922\n",
       "  0.7451  0.7490  0.8392  0.9020  0.8431  0.6745  0.9294  1.0000  0.9961\n",
       "  0.7569  0.7490  0.8275  0.8863  0.8314  0.6824  0.9529  1.0000  0.9961\n",
       "  0.7725  0.7569  0.8196  0.8706  0.8196  0.6824  0.9686  1.0000  0.9843\n",
       "  0.7804  0.7647  0.8157  0.8471  0.8000  0.6824  0.9765  1.0000  0.9804\n",
       "  0.7843  0.7686  0.7686  0.8431  0.7725  0.7137  0.9961  1.0000  0.9843\n",
       "  0.7961  0.7765  0.7608  0.8235  0.7490  0.7216  0.9961  0.9922  0.9686\n",
       "  0.8118  0.7765  0.7647  0.8039  0.7333  0.7373  0.9961  1.0000  0.9608\n",
       "  0.8275  0.7725  0.7647  0.7804  0.7137  0.7608  1.0000  1.0000  0.9686\n",
       "  0.8392  0.7725  0.7725  0.7647  0.7020  0.7961  1.0000  1.0000  0.9765\n",
       "  0.8471  0.7647  0.7725  0.7490  0.6902  0.8235  1.0000  1.0000  1.0000\n",
       "  0.8549  0.7725  0.7765  0.7373  0.6824  0.8510  1.0000  1.0000  1.0000\n",
       "  0.8549  0.7686  0.7804  0.7294  0.6784  0.8588  1.0000  1.0000  1.0000\n",
       "  0.7647  0.7333  0.7882  0.7922  0.6863  0.9020  0.9843  1.0000  1.0000\n",
       "  0.7686  0.7333  0.7922  0.7922  0.6902  0.9098  0.9843  1.0000  1.0000\n",
       "  0.7686  0.7333  0.7882  0.7922  0.6980  0.9098  0.9804  1.0000  1.0000\n",
       "  0.7765  0.7412  0.7804  0.7922  0.7020  0.9176  0.9804  1.0000  1.0000\n",
       "  0.7804  0.7451  0.7804  0.7922  0.7137  0.9255  0.9765  1.0000  1.0000\n",
       "  0.7882  0.7412  0.7843  0.8000  0.7216  0.9294  0.9686  1.0000  1.0000\n",
       "  0.7961  0.7529  0.7843  0.8000  0.7294  0.9333  0.9569  1.0000  1.0000\n",
       "  0.8000  0.7569  0.7882  0.8000  0.7294  0.9255  0.9490  1.0000  1.0000\n",
       "  0.7804  0.7608  0.7922  0.8078  0.6980  0.9843  0.9216  1.0000  1.0000\n",
       "  0.7843  0.7725  0.8000  0.8157  0.7020  0.9843  0.9137  1.0000  1.0000\n",
       "  0.7961  0.7804  0.8039  0.8196  0.7059  0.9804  0.9059  1.0000  1.0000\n",
       "  0.8000  0.7922  0.8078  0.8157  0.7098  0.9804  0.9020  1.0000  1.0000\n",
       "  0.8039  0.7922  0.8039  0.8078  0.7020  0.9804  0.8863  1.0000  1.0000\n",
       "  0.8078  0.7961  0.8000  0.8039  0.7059  0.9765  0.8745  1.0000  1.0000\n",
       "  0.8118  0.8078  0.8039  0.8157  0.7137  0.9843  0.8745  1.0000  1.0000\n",
       "  0.8235  0.8157  0.8157  0.8196  0.7216  0.9922  0.8824  1.0000  1.0000\n",
       "\n",
       "Columns 19 to 27\n",
       "  1.0000  0.9333  0.8235  0.8588  0.9647  0.9725  0.8941  0.8824  1.0000\n",
       "  1.0000  0.9686  0.9020  0.9333  1.0000  0.9922  0.9333  0.9608  0.8510\n",
       "  1.0000  0.9882  0.9569  0.9765  1.0000  0.9882  0.9686  0.9882  0.6627\n",
       "  0.9961  0.9765  0.9922  1.0000  0.9961  0.9686  1.0000  0.9020  0.6510\n",
       "  0.9608  0.9725  1.0000  1.0000  0.9686  0.9647  1.0000  0.7686  0.7451\n",
       "  0.9451  0.9804  1.0000  1.0000  0.9412  0.9725  0.9216  0.7098  0.8235\n",
       "  0.9412  0.9882  1.0000  0.9882  0.9020  0.9373  0.7490  0.7922  0.8314\n",
       "  0.9451  0.9961  1.0000  0.9569  0.8588  0.9137  0.6588  0.9333  0.8157\n",
       "  0.9725  1.0000  0.9804  0.9176  0.9216  0.6667  0.7412  0.8824  0.8784\n",
       "  0.9961  1.0000  0.9608  0.9412  0.8078  0.6235  0.8078  0.9059  0.7804\n",
       "  0.9961  1.0000  0.9569  0.9529  0.6784  0.6118  0.8510  0.8902  0.7490\n",
       "  1.0000  0.9725  0.9804  0.9059  0.6235  0.7098  0.8667  0.8353  0.7843\n",
       "  1.0000  0.9608  1.0000  0.8235  0.6471  0.8275  0.8627  0.8118  0.7725\n",
       "  0.9843  0.9686  0.9804  0.7451  0.7137  0.8745  0.8392  0.8235  0.7216\n",
       "  0.9608  0.9451  0.8392  0.7020  0.8078  0.8941  0.8196  0.8157  0.7490\n",
       "  0.8941  0.8980  0.6902  0.6902  0.8824  0.9255  0.8000  0.7882  0.8431\n",
       "  0.9608  1.0000  0.7490  0.7451  0.7294  0.7804  0.9294  0.8902  0.7255\n",
       "  0.9961  0.9020  0.7490  0.7490  0.7137  0.8039  0.9059  0.9020  0.6941\n",
       "  1.0000  0.6902  0.7412  0.7647  0.7176  0.8275  0.8824  0.8745  0.6902\n",
       "  0.9216  0.5882  0.7490  0.7725  0.7490  0.8314  0.8588  0.7804  0.7529\n",
       "  0.7882  0.6078  0.7569  0.7843  0.7922  0.8196  0.8353  0.6824  0.8627\n",
       "  0.6784  0.6745  0.7765  0.7922  0.8196  0.8118  0.7882  0.6745  0.9490\n",
       "  0.6353  0.7137  0.7922  0.8000  0.8314  0.8157  0.7176  0.7490  0.9608\n",
       "  0.6549  0.7294  0.8000  0.8118  0.8235  0.8196  "
      ]
     },
     "execution_count": 86,
     "metadata": {},
     "output_type": "execute_result"
    },
    {
     "data": {
      "text/plain": [
       "0.6431  0.8000  0.9255\n",
       "  0.6941  0.7882  0.8196  0.8039  0.8784  0.7686  0.6078  0.9176  0.9020\n",
       "  0.7176  0.7961  0.8235  0.8196  0.8627  0.7176  0.6392  0.8980  0.9059\n",
       "  0.7294  0.8078  0.8314  0.8471  0.8471  0.6706  0.7255  0.9098  0.9176\n",
       "  0.7490  0.8157  0.8392  0.8667  0.8157  0.6431  0.8157  0.9137  0.9294\n",
       "  0.7686  0.8196  0.8275  0.8627  0.7843  0.6549  0.8784  0.9020  0.9569\n",
       "  0.7647  0.8039  0.8118  0.8471  0.7725  0.7098  0.9216  0.8863  0.9843\n",
       "  0.7569  0.7922  0.8039  0.8510  0.7922  0.8118  0.9412  0.8745  1.0000\n",
       "  0.7608  0.7961  0.8118  0.8667  0.8314  0.8980  0.9569  0.8745  1.0000\n",
       "  0.8039  0.9373  0.8510  0.7608  0.5294  0.8275  0.9176  0.9843  1.0000\n",
       "  0.8157  0.9216  0.8549  0.7490  0.5961  0.8784  0.9216  0.9843  1.0000\n",
       "  0.8275  0.9020  0.8667  0.7137  0.6941  0.9451  0.9294  0.9882  1.0000\n",
       "  0.8392  0.8824  0.8510  0.6824  0.8000  0.9922  0.9333  0.9882  1.0000\n",
       "  0.8314  0.8510  0.8196  0.6706  0.9059  0.9961  0.9451  0.9961  1.0000\n",
       "  0.8157  0.8353  0.7765  0.6902  0.9922  1.0000  0.9569  0.9961  1.0000\n",
       "  0.7882  0.8196  0.7294  0.7255  1.0000  1.0000  0.9725  1.0000  1.0000\n",
       "  0.7725  0.8118  0.6824  0.7333  1.0000  0.9961  0.9843  1.0000  1.0000\n",
       "  0.8039  0.7569  0.6196  0.8784  1.0000  0.9922  1.0000  1.0000  1.0000\n",
       "  0.8118  0.7412  0.5961  0.8980  1.0000  0.9922  1.0000  1.0000  1.0000\n",
       "  0.8118  0.7176  0.5882  0.9608  1.0000  1.0000  1.0000  1.0000  0.9882\n",
       "  0.8078  0.6902  0.6078  1.0000  0.9647  1.0000  1.0000  1.0000  0.9843\n",
       "  0.7922  0.6627  0.6549  1.0000  0.9529  1.0000  1.0000  1.0000  0.9765\n",
       "  0.7804  0.6588  0.7451  0.9882  0.9490  1.0000  1.0000  1.0000  0.9725\n",
       "  0.7804  0.6784  0.8510  0.9490  0.9451  1.0000  1.0000  1.0000  0.9686\n",
       "  0.7843  0.7020  0.9216  0.9216  0.9412  1.0000  1.0000  1.0000  0.9686\n",
       "  0.8235  0.6000  0.8941  0.9137  1.0000  1.0000  1.0000  0.9451  0.9569\n",
       "  0.8118  0.6627  0.9294  0.9216  0.9961  1.0000  1.0000  0.9451  0.9569\n",
       "  0.7804  0.7490  0.9725  0.9294  0.9961  1.0000  1.0000  0.9490  0.9569\n",
       "  0.7412  0.8353  0.9961  0.9412  0.9922  1.0000  1.0000  0.9490  0.9608\n",
       "  0.7020  0.9020  1.0000  0.9490  0.9961  1.0000  1.0000  0.9490  0.9608\n",
       "  0.6706  0.9647  0.9961  0.9647  1.0000  1.0000  1.0000  0.9569  0.9686\n",
       "  0.6588  1.0000  0.9961  0.9843  1.0000  1.0000  0.9961  0.9608  0.9686\n",
       "  0.6235  1.0000  1.0000  1.0000  1.0000  1.0000  0.9843  0.9608  0.9725\n",
       "  0.6980  1.0000  1.0000  1.0000  1.0000  1.0000  0.9765  0.9686  0.9765\n",
       "  0.6824  1.0000  1.0000  1.0000  1.0000  0.9843  0.9725  0.9686  0.9765\n",
       "  0.7020  1.0000  1.0000  1.0000  1.0000  0.9647  0.9608  0.9725  0.9843\n",
       "  0.7294  0.9804  1.0000  1.0000  1.0000  0.9490  0.9569  0.9765  0.9843\n",
       "  0.7647  0.9569  1.0000  1.0000  1.0000  0.9412  0.9490  0.9765  0.9882\n",
       "  0.8039  0.9451  1.0000  1.0000  1.0000  0.9373  0.9451  0.9765  0.9882\n",
       "  0.8510  0.9294  1.0000  1.0000  1.0000  0.9294  0.9451  0.9843  0.9882\n",
       "  0.8784  0.9216  1.0000  1.0000  1.0000  0.9294  0.9451  0.9843  0.9882\n",
       "  0.9647  0.9725  1.0000  1.0000  0.9608  0.9412  0.9961  1.0000  1.0000\n",
       "  0.9804  0.9686  1.0000  1.0000  0.9608  0.9412  0.9961  1.0000  1.0000\n",
       "  0.9961  0.9686  1.0000  1.0000  0.9647  0.9451  0.9961  1.0000  1.0000\n",
       "  0.9961  0.9608  1.0000  1.0000  0.9608  0.9451  0.9961  1.0000  1.0000\n",
       "  0.9882  0.9569  1.0000  1.0000  0.9529  0.9490  0.9961  1.0000  1.0000\n",
       "  0.9686  0.9451  1.0000  1.0000  0.9529  0.9569  0.9961  1.0000  1.0000\n",
       "  0.9569  0.9294  1.0000  1.0000  0.9608  0.9569  1.0000  1.0000  1.0000\n",
       "  0.9412  0.9137  1.0000  1.0000  0.9647  0.9569  1.0000  1.0000  1.0000\n",
       "  0.9333  0.9137  1.0000  1.0000  0.9765  0.9686  1.0000  1.0000  1.0000\n",
       "  0.9137  0.9098  1.0000  1.0000  0.9804  0.9725  1.0000  1.0000  1.0000\n",
       "  0.8980  0.9059  1.0000  1.0000  0.9961  0.9765  1.0000  1.0000  1.0000\n",
       "  0.8784  0.9020  1.0000  1.0000  1.0000  0.9843  1.0000  1.0000  0.9961\n",
       "  0.8588  0.9020  1.0000  1.0000  1.0000  0.9882  1.0000  1.0000  0.9961\n",
       "  0.8510  0.9020  1.0000  1.0000  1.0000  0.9843  1.0000  1.0000  0.9882\n",
       "  0.8353  0.8941  1.0000  1.0000  1.0000  0.9804  1.0000  1.0000  0.9882\n",
       "  0.8314  0.8941  1.0000  1.0000  1.0000  0.9843  1.0000  "
      ]
     },
     "execution_count": 86,
     "metadata": {},
     "output_type": "execute_result"
    },
    {
     "data": {
      "text/plain": [
       "1.0000  0.9882\n",
       "  1.0000  0.9686  0.9569  0.9569  0.9922  1.0000  1.0000  1.0000  1.0000\n",
       "  1.0000  0.9569  0.9451  0.9686  1.0000  1.0000  1.0000  1.0000  0.9765\n",
       "  0.9882  0.9373  0.9412  0.9608  0.9961  1.0000  1.0000  1.0000  0.9961\n",
       "  0.9725  0.9137  0.9216  0.9569  0.9922  1.0000  1.0000  1.0000  0.9882\n",
       "  0.9608  0.9137  0.9137  0.9569  0.9961  1.0000  1.0000  1.0000  1.0000\n",
       "  0.9608  0.9216  0.9294  0.9608  0.9882  1.0000  1.0000  1.0000  0.9961\n",
       "  0.9686  0.9255  0.9412  0.9765  0.9294  0.9059  0.9059  0.8941  0.8392\n",
       "  0.9608  0.9333  0.9569  0.9725  0.8706  0.7961  0.8196  0.8039  0.7490\n",
       "  0.9765  0.9686  0.9765  1.0000  0.8549  0.8980  0.9373  0.9255  0.8667\n",
       "  0.9882  0.9843  1.0000  1.0000  0.8784  0.9294  0.9804  0.9647  0.9098\n",
       "  0.9922  0.9882  1.0000  1.0000  0.8902  0.9569  1.0000  0.9843  0.9529\n",
       "  0.9882  0.9882  1.0000  1.0000  0.8863  0.9765  1.0000  0.9882  0.9765\n",
       "  0.9765  0.9843  0.9961  0.9961  0.8784  0.9765  1.0000  0.9882  0.9804\n",
       "  0.9686  0.9725  0.9765  0.9725  0.8588  0.9804  1.0000  1.0000  0.9765\n",
       "  0.9529  0.9608  0.9569  0.9490  0.8471  0.9804  1.0000  1.0000  0.9647\n",
       "  0.9490  0.9490  0.9490  0.9373  0.8392  0.9725  1.0000  1.0000  0.9686\n",
       "  0.9373  0.9725  1.0000  0.9098  0.9137  0.9451  0.9137  0.7490  0.9020\n",
       "  0.9490  0.9765  1.0000  0.9137  0.9255  0.9451  0.8902  0.7451  0.8627\n",
       "  0.9647  0.9882  1.0000  0.9098  0.9373  0.9529  0.8902  0.7882  0.8471\n",
       "  0.9843  0.9961  1.0000  0.9020  0.9529  0.9490  0.9059  0.8588  0.8588\n",
       "  0.9882  1.0000  1.0000  0.8902  0.9608  0.9451  0.8902  0.9137  0.8824\n",
       "  0.9961  1.0000  0.9765  0.8745  0.9647  0.9333  0.8353  0.9412  0.9137\n",
       "  0.9882  0.9882  0.9412  0.8471  0.9490  0.9059  0.7961  0.9686  0.9569\n",
       "  0.9765  0.9804  0.9137  0.8157  0.9294  0.8784  0.7804  0.9922  0.9882\n",
       "  0.9608  0.9373  0.8510  0.7569  0.7333  0.7373  0.7137  0.9373  0.9569\n",
       "  0.9490  0.9608  0.9569  0.9333  0.9373  0.9451  0.8549  0.9686  0.9843\n",
       "  0.9373  0.9490  1.0000  1.0000  1.0000  1.0000  0.9451  0.9451  0.9569\n",
       "  0.9294  0.9451  0.9961  1.0000  1.0000  1.0000  0.9451  0.9255  0.9098\n",
       "  0.9529  0.9608  1.0000  1.0000  1.0000  1.0000  0.9490  0.9176  0.9333\n",
       "  0.9686  0.9725  1.0000  1.0000  1.0000  1.0000  0.9451  0.9216  0.9333\n",
       "  0.9843  0.9843  1.0000  1.0000  1.0000  1.0000  0.9529  0.9059  0.9333\n",
       "  0.9725  0.9725  1.0000  1.0000  1.0000  1.0000  0.9686  0.9020  0.9255\n",
       "  1.0000  1.0000  1.0000  1.0000  1.0000  1.0000  1.0000  1.0000  1.0000\n",
       "  1.0000  1.0000  1.0000  1.0000  1.0000  1.0000  1.0000  1.0000  1.0000\n",
       "  1.0000  1.0000  1.0000  1.0000  1.0000  1.0000  1.0000  1.0000  1.0000\n",
       "  1.0000  1.0000  1.0000  1.0000  1.0000  1.0000  1.0000  1.0000  1.0000\n",
       "  1.0000  1.0000  1.0000  1.0000  1.0000  1.0000  1.0000  1.0000  1.0000\n",
       "  1.0000  1.0000  1.0000  1.0000  1.0000  1.0000  1.0000  1.0000  1.0000\n",
       "  1.0000  1.0000  1.0000  1.0000  1.0000  1.0000  1.0000  1.0000  1.0000\n",
       "  1.0000  1.0000  1.0000  1.0000  1.0000  1.0000  1.0000  1.0000  1.0000\n",
       "  1.0000  1.0000  1.0000  1.0000  1.0000  1.0000  1.0000  1.0000  1.0000\n",
       "  1.0000  1.0000  1.0000  1.0000  1.0000  1.0000  1.0000  1.0000  1.0000\n",
       "  1.0000  1.0000  1.0000  1.0000  1.0000  1.0000  1.0000  1.0000  1.0000\n",
       "  1.0000  1.0000  1.0000  1.0000  1.0000  1.0000  1.0000  1.0000  1.0000\n",
       "  1.0000  1.0000  1.0000  1.0000  1.0000  1.0000  1.0000  1.0000  1.0000\n",
       "  1.0000  1.0000  1.0000  1.0000  1.0000  1.0000  1.0000  1.0000  1.0000\n",
       "  1.0000  1.0000  1.0000  1.0000  1.0000  1.0000  1.0000  1.0000  1.0000\n",
       "  1.0000  1.0000  1.0000  1.0000  1.0000  1.0000  1.0000  1.0000  1.0000\n",
       "\n",
       "Columns 28 to 36\n",
       "  0.8980  0.8824  0.8941  0.8431  0.7608  0.7098  0.8157  0.8824  0.8196\n",
       "  0.7451  0.7647  0.7882  0.7333  0.6980  0.6510  0.7333  0.8078  0.8157\n",
       "  0.6588  0.7333  0.7569  0.7176  0.7294  0.7843  0.8039  0.8157  0.8157\n",
       "  0.7098  0.7961  0.7843  0.7647  0.8078  0.8392  0.8039  0.7647  0.7686\n",
       "  0.7765  0.8000  0.7529  0.7647  0.8196  0.8784  0.7843  0.7059  0.7333\n",
       "  0.8039  0.7725  0.7333  0.7882  0.8314  0.8314  0.6941  0.5804  0.6039\n",
       "  0.8078  0.7608  0.7608  0.8118  0.8078  0.6588  0.6353  0.6353  0.6588\n",
       "  0.8078  0.7569  0.7843  0.7647  0.6824  0.7059"
      ]
     },
     "execution_count": 86,
     "metadata": {},
     "output_type": "execute_result"
    },
    {
     "data": {
      "text/plain": [
       "  0.8784  1.0000  1.0000\n",
       "  0.7333  0.7451  0.7843  0.6863  0.7176  0.9608  0.9882  1.0000  0.9608\n",
       "  0.7216  0.6902  0.7255  0.7137  0.9059  0.9843  0.9843  1.0000  0.9529\n",
       "  0.6980  0.6745  0.6392  0.8353  1.0000  0.9608  0.9882  0.9882  0.9647\n",
       "  0.6784  0.6588  0.6196  0.9922  1.0000  0.9373  0.9843  1.0000  1.0000\n",
       "  0.6980  0.5882  0.7529  1.0000  1.0000  0.9176  0.9882  1.0000  1.0000\n",
       "  0.7451  0.5725  0.9255  1.0000  0.9686  0.9451  0.9843  1.0000  1.0000\n",
       "  0.7490  0.7725  0.9922  0.9608  0.9961  0.9608  0.9686  0.9765  1.0000\n",
       "  0.7176  1.0000  0.9608  0.8863  0.9961  0.9569  0.9608  0.9843  1.0000\n",
       "  0.5843  0.9294  0.9137  0.9451  1.0000  1.0000  0.9490  0.9059  0.9569\n",
       "  0.7490  0.9333  0.9333  0.9804  1.0000  1.0000  0.9569  0.9137  0.9608\n",
       "  0.9451  0.9373  0.9569  0.9961  0.9843  1.0000  0.9608  0.9176  0.9608\n",
       "  1.0000  0.9412  0.9765  1.0000  0.9882  1.0000  0.9765  0.9333  0.9686\n",
       "  1.0000  0.9412  1.0000  1.0000  1.0000  1.0000  0.9961  0.9490  0.9725\n",
       "  0.9569  0.9529  1.0000  1.0000  1.0000  1.0000  1.0000  0.9686  0.9725\n",
       "  0.9373  0.9608  1.0000  1.0000  1.0000  1.0000  1.0000  0.9765  0.9765\n",
       "  0.9176  0.9725  1.0000  1.0000  1.0000  1.0000  1.0000  0.9961  0.9843\n",
       "  0.8980  0.9843  1.0000  1.0000  1.0000  1.0000  1.0000  1.0000  0.9843\n",
       "  0.9137  0.9882  1.0000  1.0000  1.0000  1.0000  1.0000  1.0000  0.9843\n",
       "  0.9451  1.0000  0.9961  1.0000  1.0000  1.0000  1.0000  1.0000  0.9843\n",
       "  0.9843  1.0000  0.9843  0.9961  1.0000  1.0000  1.0000  1.0000  0.9843\n",
       "  1.0000  1.0000  0.9647  0.9765  1.0000  0.9843  1.0000  1.0000  0.9843\n",
       "  1.0000  1.0000  0.9451  0.9569  1.0000  0.9686  0.9961  1.0000  0.9765\n",
       "  1.0000  1.0000  0.9294  0.9373  1.0000  0.9569  0.9882  1.0000  0.9765\n",
       "  1.0000  1.0000  0.9216  0.9294  1.0000  0.9451  0.9843  1.0000  0.9765\n",
       "  1.0000  0.9608  0.9294  0.9843  1.0000  0.9725  0.9843  1.0000  1.0000\n",
       "  1.0000  0.9608  0.9294  0.9843  1.0000  0.9725  0.9843  1.0000  1.0000\n",
       "  1.0000  0.9608  0.9333  0.9882  1.0000  0.9725  0.9843  1.0000  1.0000\n",
       "  1.0000  0.9608  0.9412  0.9882  1.0000  0.9686  0.9843  1.0000  1.0000\n",
       "  1.0000  0.9686  0.9451  0.9882  1.0000  0.9686  0.9843  1.0000  1.0000\n",
       "  1.0000  0.9686  0.9490  0.9961  1.0000  0.9686  0.9882  1.0000  1.0000\n",
       "  1.0000  0.9725  0.9608  0.9961  1.0000  0.9686  0.9882  1.0000  1.0000\n",
       "  1.0000  0.9725  0.9725  0.9961  1.0000  0.9686  0.9961  1.0000  1.0000\n",
       "  0.9882  0.9765  0.9765  1.0000  1.0000  0.9608  0.9961  1.0000  1.0000\n",
       "  0.9843  0.9765  0.9882  1.0000  1.0000  0.9608  0.9961  1.0000  1.0000\n",
       "  0.9725  0.9843  1.0000  1.0000  1.0000  0.9608  1.0000  1.0000  1.0000\n",
       "  0.9686  0.9843  1.0000  1.0000  0.9882  0.9608  1.0000  1.0000  1.0000\n",
       "  0.9608  0.9882  1.0000  1.0000  0.9843  0.9608  1.0000  1.0000  1.0000\n",
       "  0.9569  0.9882  1.0000  1.0000  0.9765  0.9608  1.0000  1.0000  0.9961\n",
       "  0.9490  0.9882  1.0000  1.0000  0.9765  0.9608  1.0000  1.0000  0.9882\n",
       "  0.9490  0.9882  1.0000  1.0000  0.9725  0.9608  1.0000  1.0000  0.9882\n",
       "  1.0000  1.0000  0.9765  0.9961  1.0000  0.9686  0.9843  1.0000  1.0000\n",
       "  1.0000  1.0000  0.9765  0.9961  1.0000  0.9686  0.9843  1.0000  1.0000\n",
       "  1.0000  1.0000  0.9843  0.9961  1.0000  0.9686  0.9843  1.0000  1.0000\n",
       "  1.0000  1.0000  0.9882  0.9961  1.0000  0.9725  0.9843  1.0000  1.0000\n",
       "  1.0000  1.0000  0.9961  0.9961  1.0000  0.9725  0.9843  1.0000  1.0000\n",
       "  1.0000  1.0000  1.0000  0.9961  1.0000  0.9765  0.9882  1.0000  1.0000\n",
       "  1.0000  1.0000  1.0000  0.9961  0.9882  0.9843  0.9882  1.0000  1.0000\n",
       "  1.0000  1.0000  1.0000  1.0000  0.9765  0.9843  0.9882  1.0000  1.0000\n",
       "  1.0000  1.0000  1.0000  1.0000  0.9686  0.9882  0.9961  1.0000  1.0000\n",
       "  1.0000  1.0000  1.0000  1.0000  0.9490  0.9961  0.9961  1.0000  1.0000\n",
       "  1.0000  1.0000  1.0000  1.0000  0.9412  0.9961  0.9961  0.9961  0.9961\n",
       "  1.0000  1.0000  1.0000  1.0000  0.9294  1.0000  1.0000  0.9961  0.9961\n",
       "  1.0000  1.0000  1.0000  1.0000  0.9176  1.0000  1.0000  0.9961  0.9882\n",
       "  1.0000  1.0000  1.0000  1.0000  0.9137  1.0000  1.0000  0.9961  0.9882\n",
       "  1.0000  1.0000  1.0000  1.0000  0.9059  1.0000  1.0000  0.9961  0.9843\n",
       "  1.0000  1.0000  1.0000  1.0000  0.9059  1.0000  1.0000"
      ]
     },
     "execution_count": 86,
     "metadata": {},
     "output_type": "execute_result"
    },
    {
     "data": {
      "text/plain": [
       "  0.9961  0.9843\n",
       "  1.0000  1.0000  1.0000  0.9961  0.9490  1.0000  1.0000  1.0000  1.0000\n",
       "  1.0000  1.0000  1.0000  0.9961  0.9490  1.0000  1.0000  1.0000  1.0000\n",
       "  0.9961  1.0000  1.0000  1.0000  0.9569  1.0000  1.0000  1.0000  1.0000\n",
       "  0.9961  1.0000  1.0000  1.0000  0.9608  1.0000  1.0000  1.0000  1.0000\n",
       "  0.9882  1.0000  1.0000  1.0000  0.9686  1.0000  1.0000  1.0000  1.0000\n",
       "  0.9882  0.9961  1.0000  1.0000  0.9725  1.0000  1.0000  1.0000  1.0000\n",
       "  0.9843  0.9961  1.0000  1.0000  0.9765  1.0000  1.0000  1.0000  1.0000\n",
       "  0.9765  0.9961  1.0000  1.0000  0.9843  1.0000  1.0000  1.0000  1.0000\n",
       "  0.9725  0.9882  1.0000  1.0000  0.9882  1.0000  1.0000  1.0000  1.0000\n",
       "  0.9725  0.9882  1.0000  1.0000  1.0000  1.0000  1.0000  1.0000  1.0000\n",
       "  0.9686  0.9882  1.0000  1.0000  1.0000  1.0000  1.0000  1.0000  1.0000\n",
       "  0.9608  0.9843  1.0000  1.0000  1.0000  1.0000  1.0000  1.0000  1.0000\n",
       "  0.9608  0.9843  1.0000  1.0000  1.0000  1.0000  1.0000  1.0000  1.0000\n",
       "  0.9569  0.9843  1.0000  1.0000  1.0000  1.0000  1.0000  1.0000  1.0000\n",
       "  0.9569  0.9843  1.0000  1.0000  1.0000  1.0000  1.0000  1.0000  1.0000\n",
       "  0.9569  0.9843  1.0000  1.0000  1.0000  1.0000  1.0000  1.0000  1.0000\n",
       "  0.9725  0.9608  0.9725  0.9961  1.0000  1.0000  1.0000  1.0000  0.9882\n",
       "  0.9608  0.9529  0.9569  0.9804  0.9961  1.0000  1.0000  1.0000  0.9804\n",
       "  0.9686  0.9569  0.9686  0.9882  1.0000  1.0000  1.0000  1.0000  0.9843\n",
       "  0.9686  0.9490  0.9333  0.9608  1.0000  1.0000  0.9882  0.9765  0.9804\n",
       "  0.9725  0.9569  0.9569  0.9804  1.0000  1.0000  1.0000  1.0000  0.9882\n",
       "  0.9608  0.9725  0.9843  1.0000  0.9882  1.0000  1.0000  1.0000  0.9804\n",
       "  0.8275  0.9216  1.0000  0.9647  0.8353  0.8824  0.8784  0.8392  0.8118\n",
       "  0.7608  0.9137  1.0000  0.9490  0.7529  0.7922  0.7961  0.7608  0.7373\n",
       "  0.8471  0.8941  1.0000  0.9373  0.8392  0.9373  0.9373  0.9059  0.8431\n",
       "  0.8824  0.8784  1.0000  0.9176  0.8588  0.9647  0.9569  0.9451  0.8902\n",
       "  0.9176  0.8549  1.0000  0.8824  0.9059  0.9961  0.9725  0.9725  0.9255\n",
       "  0.9490  0.8392  1.0000  0.8667  0.9608  1.0000  0.9843  0.9882  0.9412\n",
       "  0.9490  0.8275  0.9608  0.8549  0.9647  1.0000  0.9961  0.9882  0.9412\n",
       "  0.9412  0.8431  0.8627  0.8431  0.9373  1.0000  1.0000  0.9843  0.9373\n",
       "  0.9373  0.8902  0.7882  0.8824  0.9294  0.9922  1.0000  0.9725  0.9176\n",
       "  0.9451  0.9373  0.7647  0.9333  0.9490  0.9882  1.0000  0.9569  0.9059\n",
       "  0.9529  1.0000  1.0000  0.9922  0.9569  1.0000  0.8275  0.9098  0.9176\n",
       "  0.9608  1.0000  1.0000  0.9882  0.9686  0.9569  0.8353  0.8941  0.8980\n",
       "  0.9725  1.0000  1.0000  0.9882  0.9804  0.8980  0.8667  0.8824  0.8902\n",
       "  0.9882  1.0000  1.0000  0.9843  0.9725  0.8588  0.9137  0.8863  0.9059\n",
       "  0.9725  0.9882  1.0000  0.9843  0.9529  0.8392  0.9451  0.8824  0.9294\n",
       "  0.9294  0.9647  1.0000  0.9843  0.9137  0.8392  0.9569  0.8510  0.9294\n",
       "  0.8824  0.9451  0.9647  0.9765  0.8510  0.8667  0.9569  0.8157  0.9216\n",
       "  0.8431  0.9176  0.9176  0.9490  0.7961  0.8902  0.9529  0.7843  0.9098\n",
       "  0.8039  0.7961  0.8235  0.7804  0.7569  0.9569  0.8784  0.8078  0.7843\n",
       "  0.9294  0.9725  0.9725  0.9216  0.9294  0.9569  0.9333  0.9333  0.9490\n",
       "  0.9922  1.0000  1.0000  0.9961  0.9961  0.9686  0.9725  1.0000  1.0000\n",
       "  0.9686  1.0000  1.0000  0.9686  0.9725  0.9843  0.9843  0.9922  1.0000\n",
       "  0.9647  1.0000  1.0000  0.9843  0.9569  1.0000  1.0000  0.9765  0.9725\n",
       "  0.9725  1.0000  1.0000  0.9961  0.9569  1.0000  1.0000  0.9843  0.9608\n",
       "  0.9765  1.0000  1.0000  0.9961  0.9647  1.0000  1.0000  0.9765  0.9451\n",
       "  0.9843  1.0000  1.0000  1.0000  0.9686  1.0000  1.0000  0.9765  0.9373\n",
       "  1.0000  1.0000  1.0000  1.0000  1.0000  1.0000  1.0000  1.0000  1.0000\n",
       "  1.0000  1.0000  1.0000  1.0000  1.0000  1.0000  1.0000  1.0000  1.0000\n",
       "  1.0000  1.0000  1.0000  1.0000  1.0000  1.0000  1.0000  1.0000  1.0000\n",
       "  1.0000  1.0000  1.0000  1.0000  1.0000  1.0000  1.0000  1.0000  1.0000\n",
       "  1.0000  1.0000  1.0000  1.0000  1.0000  1.0000  1.0000  1.0000  1.0000\n",
       "  1.0000  1.0000  1.0000  1.0000  1.0000  1.0000  1.0000  1.0000  1.0000\n",
       "  1.0000  1.0000  1.0000  1.0000  1.0000  1.0000  1.0000  1.0000  1.0000\n",
       "  1.0000  1.0000  1.0000  1.0000  1.0000  1.0000  1.0000  1.0000"
      ]
     },
     "execution_count": 86,
     "metadata": {},
     "output_type": "execute_result"
    },
    {
     "data": {
      "text/plain": [
       "  1.0000\n",
       "  1.0000  1.0000  1.0000  1.0000  1.0000  1.0000  1.0000  1.0000  1.0000\n",
       "  1.0000  1.0000  1.0000  1.0000  1.0000  1.0000  1.0000  1.0000  1.0000\n",
       "  1.0000  1.0000  1.0000  1.0000  1.0000  1.0000  1.0000  1.0000  1.0000\n",
       "  1.0000  1.0000  1.0000  1.0000  1.0000  1.0000  1.0000  1.0000  1.0000\n",
       "  1.0000  1.0000  1.0000  1.0000  1.0000  1.0000  1.0000  1.0000  1.0000\n",
       "  1.0000  1.0000  1.0000  1.0000  1.0000  1.0000  1.0000  1.0000  1.0000\n",
       "  1.0000  1.0000  1.0000  1.0000  1.0000  1.0000  1.0000  1.0000  1.0000\n",
       "  1.0000  1.0000  1.0000  1.0000  1.0000  1.0000  1.0000  1.0000  1.0000\n",
       "\n",
       "Columns 37 to 45\n",
       "  0.7020  0.6627  0.7255  0.8039  0.7922  0.6196  0.8510  0.9020  0.8902\n",
       "  0.7843  0.7725  0.7843  0.7961  0.7922  0.6627  0.6667  0.9137  0.9176\n",
       "  0.8157  0.8353  0.8431  0.8275  0.8275  0.7255  0.5569  0.8392  0.9765\n",
       "  0.8157  0.8784  0.9176  0.9098  0.8667  0.7843  0.6549  0.6941  0.9804\n",
       "  0.8314  0.9216  0.9333  0.8941  0.8549  0.8549  0.8039  0.6235  0.8471\n",
       "  0.7333  0.8431  0.8745  0.8471  0.8118  0.8863  0.8549  0.6706  0.6588\n",
       "  0.6980  0.7373  0.7882  0.8353  0.7882  0.8314  0.8275  0.7373  0.5882\n",
       "  0.8471  0.6784  0.6667  0.7412  0.7922  0.7490  0.7961  0.7608  0.6549\n",
       "  0.9882  0.8510  0.5412  0.6980  0.7451  0.7843  0.8000  0.7490  0.7412\n",
       "  0.9725  0.9255  0.6627  0.6471  0.7529  0.7529  0.7765  0.7922  0.8118\n",
       "  0.9451  0.9961  0.8275  0.6039  0.7569  0.7451  0.7882  0.8588  0.8627\n",
       "  0.9216  0.9843  0.9608  0.6353  0.7216  0.7608  0.8431  0.9137  0.8863\n",
       "  0.9294  0.9922  1.0000  0.7216  0.6510  0.7608  0.8824  0.9216  0.8627\n",
       "  0.9843  1.0000  1.0000  0.8039  0.5922  0.7451  0.8902  0.8902  0.8118\n",
       "  1.0000  1.0000  0.9804  0.8941  0.5961  0.7216  0.8745  0.8667  0.7647\n",
       "  1.0000  1.0000  0.9333  0.9804  0.6353  0.7176  0.8588  0.8588  0.7529\n",
       "  1.0000  1.0000  1.0000  0.9843  0.7216  0.4902  0.7882  0.9216  0.9294\n",
       "  1.0000  1.0000  1.0000  0.9765  0.8196  0.5647  0.7765  0.8980  0.9216\n",
       "  1.0000  1.0000  1.0000  0.9725  0.9333  0.6667  0.7490  0.8627  0.9176\n",
       "  1.0000  1.0000  1.0000  0.9608  0.9961  0.7686  0.7137  0.8196  0.9020\n",
       "  1.0000  1.0000  1.0000  0.9569  0.9922  0.8471  0.6902  0.7843  0.8784\n",
       "  1.0000  1.0000  0.9882  0.9490  0.9686  0.9333  0.6941  0.7490  0.8510\n",
       "  1.0000  1.0000  0.9765  0.9451  0.9647  1.0000  0.7176  0.7294  0.8118\n",
       "  0.9961  0.9961  0.9725  0.9490  0.9686  1.0000  0.7137  0.6941  0.7765\n",
       "  0.9843  0.9843  0.9725  0.9569  0.9686  1.0000  0.8627  0.6235  0.7608\n",
       "  0.9725  0.9725  0.9765  0.9725  0.9686  0.9922  0.8863  0.6118  0.7412\n",
       "  0.9608  0.9686  0.9882  0.9882  0.9725  0.9686  0.9608  0.6353  0.7137\n",
       "  0.9569  0.9686  1.0000  1.0000  0.9843  0.9529  1.0000  0.6745  0.6824\n",
       "  0.9490  0.9686  1.0000  1.0000  1.0000  0.9412  1.0000  0.7529  0.6510\n",
       "  0.9490  0.9686  1.0000  1.0000  1.0000  0.9412  0.9804  0.8588  0.6549\n",
       "  0.9451  0.9686  1.0000  1.0000  1.0000  0.9490  0.9333  0.9725  0.6824\n",
       "  0.9451  0.9686  1.0000  1.0000  1.0000  0.9451  0.9059  1.0000  0.7020\n",
       "  1.0000  0.9176  0.8784  0.9882  1.0000  1.0000  0.9490  0.9059  0.6627\n",
       "  1.0000  0.9176  0.8863  0.9882  1.0000  1.0000  0.9490  0.9294  0.7412\n",
       "  1.0000  0.9216  0.8902  0.9882  1.0000  1.0000  0.9569  0.9686  0.8588\n",
       "  1.0000  0.9294  0.9020  0.9882  1.0000  1.0000  0.9569  0.9725  0.9529\n",
       "  1.0000  0.9412  0.9137  0.9882  1.0000  1.0000  0.9529  0.9765  1.0000\n",
       "  1.0000  0.9451  0.9294  0.9882  1.0000  1.0000  0.9529  0.9765  1.0000\n",
       "  1.0000  0.9569  0.9412  0.9843  1.0000  1.0000  0.9647  0.9843  1.0000\n",
       "  1.0000  0.9725  0.9569  0.9843  1.0000  1.0000  0.9843  1.0000  1.0000\n",
       "  1.0000  0.9843  0.9725  0.9843  0.9961  1.0000  0.9843  1.0000  1.0000\n",
       "  1.0000  0.9961  0.9961  0.9843  0.9725  0.9843  0.9961  1.0000  1.0000\n",
       "  0.9961  1.0000  1.0000  0.9765  0.9569  0.9569  1.0000  1.0000  0.9961\n",
       "  0.9961  1.0000  1.0000  0.9765  0.9333  0.9373  1.0000  1.0000  0.9608\n",
       "  0.9882  1.0000  1.0000  0.9765  0.9216  0.9255  1.0000  1.0000  0.9451\n",
       "  0.9882  1.0000  1.0000  0.9765  0.9137  0.9373  1.0000  1.0000  0.9529\n",
       "  0.9882  1.0000  1.0000  0.9765  0.8941  0.9412  1.0000  1.0000  0.9608\n",
       "  0.9882  1.0000  1.0000  0.9725  0.8784  0.9333  1.00"
      ]
     },
     "execution_count": 86,
     "metadata": {},
     "output_type": "execute_result"
    },
    {
     "data": {
      "text/plain": [
       "00  1.0000  0.9608\n",
       "  1.0000  1.0000  1.0000  0.9882  0.9569  0.9373  0.9529  0.9961  1.0000\n",
       "  1.0000  1.0000  1.0000  0.9882  0.9569  0.9412  0.9569  0.9961  1.0000\n",
       "  1.0000  1.0000  1.0000  0.9882  0.9569  0.9490  0.9608  0.9843  1.0000\n",
       "  1.0000  1.0000  1.0000  0.9882  0.9569  0.9490  0.9608  0.9725  1.0000\n",
       "  1.0000  1.0000  1.0000  0.9882  0.9686  0.9569  0.9686  0.9765  1.0000\n",
       "  1.0000  1.0000  1.0000  0.9882  0.9725  0.9686  0.9725  0.9882  1.0000\n",
       "  1.0000  1.0000  1.0000  0.9882  0.9765  0.9686  0.9765  1.0000  1.0000\n",
       "  1.0000  1.0000  1.0000  0.9961  0.9843  0.9608  0.9843  1.0000  1.0000\n",
       "  1.0000  1.0000  1.0000  0.9961  0.9882  0.9843  0.9882  1.0000  1.0000\n",
       "  1.0000  1.0000  1.0000  0.9961  0.9961  0.9961  1.0000  1.0000  0.9961\n",
       "  0.9961  0.9961  0.9961  0.9961  1.0000  1.0000  1.0000  1.0000  0.9961\n",
       "  0.9961  0.9961  0.9961  1.0000  1.0000  1.0000  1.0000  1.0000  1.0000\n",
       "  0.9882  0.9882  0.9961  1.0000  0.9961  1.0000  1.0000  1.0000  1.0000\n",
       "  0.9843  0.9843  0.9882  1.0000  0.9961  1.0000  1.0000  1.0000  1.0000\n",
       "  0.9843  0.9843  0.9882  1.0000  0.9882  1.0000  1.0000  1.0000  1.0000\n",
       "  0.9765  0.9843  0.9882  1.0000  0.9843  1.0000  1.0000  1.0000  1.0000\n",
       "  1.0000  1.0000  1.0000  1.0000  1.0000  1.0000  1.0000  1.0000  1.0000\n",
       "  1.0000  1.0000  1.0000  1.0000  1.0000  1.0000  1.0000  1.0000  1.0000\n",
       "  1.0000  1.0000  1.0000  1.0000  1.0000  1.0000  1.0000  1.0000  1.0000\n",
       "  1.0000  1.0000  1.0000  1.0000  1.0000  1.0000  1.0000  1.0000  1.0000\n",
       "  1.0000  1.0000  1.0000  1.0000  1.0000  1.0000  1.0000  1.0000  1.0000\n",
       "  1.0000  1.0000  1.0000  1.0000  1.0000  1.0000  1.0000  1.0000  1.0000\n",
       "  1.0000  1.0000  1.0000  1.0000  1.0000  1.0000  1.0000  1.0000  1.0000\n",
       "  1.0000  1.0000  1.0000  1.0000  1.0000  1.0000  1.0000  1.0000  1.0000\n",
       "  1.0000  1.0000  1.0000  1.0000  1.0000  1.0000  1.0000  1.0000  1.0000\n",
       "  1.0000  1.0000  1.0000  1.0000  1.0000  1.0000  1.0000  1.0000  1.0000\n",
       "  1.0000  1.0000  1.0000  1.0000  1.0000  1.0000  1.0000  1.0000  1.0000\n",
       "  1.0000  1.0000  1.0000  1.0000  1.0000  1.0000  1.0000  1.0000  1.0000\n",
       "  1.0000  1.0000  1.0000  1.0000  1.0000  1.0000  1.0000  1.0000  1.0000\n",
       "  1.0000  1.0000  1.0000  1.0000  1.0000  1.0000  1.0000  1.0000  1.0000\n",
       "  1.0000  1.0000  1.0000  1.0000  1.0000  1.0000  1.0000  1.0000  1.0000\n",
       "  1.0000  1.0000  1.0000  1.0000  1.0000  1.0000  1.0000  1.0000  1.0000\n",
       "  0.9765  0.9765  0.9843  0.9804  1.0000  1.0000  1.0000  1.0000  1.0000\n",
       "  0.9686  0.9725  0.9765  0.9804  1.0000  1.0000  1.0000  1.0000  1.0000\n",
       "  0.9725  0.9686  0.9686  0.9765  0.9882  1.0000  1.0000  1.0000  1.0000\n",
       "  0.9608  0.9333  0.9373  0.9686  0.9843  0.9961  1.0000  0.9961  0.9882\n",
       "  0.9725  0.9608  0.9529  0.9647  0.9765  0.9882  0.9882  0.9882  0.9843\n",
       "  0.9882  0.9725  0.9725  0.9725  0.9804  0.9843  0.9922  0.9922  0.9804\n",
       "  0.8745  0.9647  0.9882  0.9490  0.9961  1.0000  1.0000  1.0000  0.9961\n",
       "  0.8392  1.0000  1.0000  1.0000  1.0000  1.0000  1.0000  1.0000  1.0000\n",
       "  0.8118  1.0000  1.0000  1.0000  1.0000  0.9725  0.9647  0.9333  1.0000\n",
       "  0.8431  1.0000  1.0000  1.0000  0.8941  0.8118  0.7843  0.7451  0.8196\n",
       "  0.8588  1.0000  1.0000  0.9569  0.8392  0.8392  0.8588  0.8392  0.8745\n",
       "  0.8471  1.0000  1.0000  0.8471  0.8275  0.8902  0.9216  0.9176  0.9333\n",
       "  0.8549  1.0000  0.9373  0.8078  0.9098  0.9373  0.9020  0.8863  0.9137\n",
       "  0.8745  0.9765  0.8902  0.8431  0.8824  0.8627  0.8275  0.8431  0.8235\n",
       "  0.8824  0.9294  0.8314  0.8863  0.9176  0.8902  0.9608  1.0000  0.9059\n",
       "  0.8745  0.8784  0.7765  0.8980  0.8588  0.8392  0.9922  1.0000  0.8902\n",
       "  0.8745  0.7961  0.9020  0.9529  0.9451  0.8196  0.9020  0.9098  0.8824\n",
       "  0.8784  0.7843  0.8863  0.9686  0.9647  0.8627  0.9490  0.9882  0.9373\n",
       "  0.8941  0.7922  0.8627  0.9843  0.9373  0.8824  0.9451  1.0000  0.8706\n",
       "  0.9333  0.8157  0.8471  0.9843  0.9608  0.9412  0.9608  1.0000  0.9255\n",
       "  0.9569  0.8353  0.8353  0.9412  0.9333  0.9255  0.8863  0.9294  0.8824\n",
       "  0.9490  0.8588  0.8353  0.8902  0.9647  1.0000  0.9765  0.9804  0.9882\n",
       "  0.9333  0.8745  0.8588  0.8549  0.8392  0.9137  0.9961  1.0000  1.0000\n",
       "  0.9059  0.8745  0.8745  0.8275  0.8549  0.8941  0.9765  0.96"
      ]
     },
     "execution_count": 86,
     "metadata": {},
     "output_type": "execute_result"
    },
    {
     "data": {
      "text/plain": [
       "86  1.0000\n",
       "  0.7765  0.7843  0.8431  0.9176  0.7529  0.7882  0.8745  0.9412  0.9020\n",
       "  0.9529  0.9294  0.9333  0.9686  0.9294  0.8118  0.7294  0.7608  0.8392\n",
       "  1.0000  1.0000  0.9922  0.9725  0.9725  0.9412  0.9490  0.9882  1.0000\n",
       "  1.0000  0.9922  0.9725  0.9765  0.9608  0.9765  0.9882  0.9961  0.9922\n",
       "  0.9608  0.9647  0.9882  1.0000  0.9843  0.9765  0.9451  0.9176  0.9333\n",
       "  0.9608  0.9765  1.0000  1.0000  1.0000  1.0000  0.9765  0.9608  0.9608\n",
       "  0.9451  0.9765  1.0000  1.0000  1.0000  1.0000  0.9882  0.9608  0.9412\n",
       "  0.9333  0.9725  1.0000  1.0000  1.0000  1.0000  0.9882  0.9686  0.9725\n",
       "  1.0000  1.0000  1.0000  1.0000  1.0000  1.0000  1.0000  1.0000  1.0000\n",
       "  1.0000  1.0000  1.0000  1.0000  1.0000  1.0000  1.0000  1.0000  1.0000\n",
       "  1.0000  1.0000  1.0000  1.0000  1.0000  1.0000  1.0000  1.0000  1.0000\n",
       "  1.0000  1.0000  1.0000  1.0000  1.0000  1.0000  1.0000  1.0000  1.0000\n",
       "  1.0000  1.0000  1.0000  1.0000  1.0000  1.0000  1.0000  1.0000  1.0000\n",
       "  1.0000  1.0000  1.0000  1.0000  1.0000  1.0000  1.0000  1.0000  1.0000\n",
       "  1.0000  1.0000  1.0000  1.0000  1.0000  1.0000  1.0000  1.0000  1.0000\n",
       "  1.0000  1.0000  1.0000  1.0000  1.0000  1.0000  1.0000  1.0000  1.0000\n",
       "  1.0000  1.0000  1.0000  1.0000  1.0000  1.0000  1.0000  1.0000  1.0000\n",
       "  1.0000  1.0000  1.0000  1.0000  1.0000  1.0000  1.0000  1.0000  1.0000\n",
       "  1.0000  1.0000  1.0000  1.0000  1.0000  1.0000  1.0000  1.0000  1.0000\n",
       "  1.0000  1.0000  1.0000  1.0000  1.0000  1.0000  1.0000  1.0000  1.0000\n",
       "  1.0000  1.0000  1.0000  1.0000  1.0000  1.0000  1.0000  1.0000  1.0000\n",
       "  1.0000  1.0000  1.0000  1.0000  1.0000  1.0000  1.0000  1.0000  1.0000\n",
       "  1.0000  1.0000  1.0000  1.0000  1.0000  1.0000  1.0000  1.0000  1.0000\n",
       "  1.0000  1.0000  1.0000  1.0000  1.0000  1.0000  1.0000  1.0000  1.0000\n",
       "\n",
       "Columns 46 to 54\n",
       "  0.9137  0.9569  0.9333  1.0000  1.0000  1.0000  1.0000  1.0000  1.0000\n",
       "  0.9451  0.9765  0.9961  1.0000  1.0000  1.0000  1.0000  1.0000  1.0000\n",
       "  0.9882  1.0000  1.0000  1.0000  1.0000  1.0000  1.0000  1.0000  1.0000\n",
       "  0.9961  1.0000  1.0000  1.0000  1.0000  1.0000  1.0000  1.0000  1.0000\n",
       "  1.0000  1.0000  1.0000  1.0000  1.0000  1.0000  1.0000  1.0000  1.0000\n",
       "  0.9882  0.9961  1.0000  1.0000  1.0000  1.0000  1.0000  1.0000  1.0000\n",
       "  0.8157  0.9608  0.9608  1.0000  1.0000  1.0000  1.0000  1.0000  1.0000\n",
       "  0.6627  0.9725  0.9216  1.0000  1.0000  1.0000  1.0000  1.0000  1.0000\n",
       "  0.6275  0.7843  0.9294  0.9922  0.9843  1.0000  0.9961  0.9725  1.0000\n",
       "  0.6941  0.7451  0.9647  0.9843  0.9843  1.0000  1.0000  0.9804  0.9922\n",
       "  0.7529  0.6784  0.9725  0.9843  0.9882  1.0000  1.0000  0.9961  0.9843\n",
       "  0.8118  0.6431  0.9490  0.9961  1.0000  0.9961  1.0000  1.0000  0.9922\n",
       "  0.8275  0.6549  0.8784  0.9725  1.0000  0.9922  0.9804  1.0000  1.0000\n",
       "  0.7725  0.6824  0.7882  0.8784  0.9922  1.0000  0.9686  1.0000  1.0000\n",
       "  0.6784  0.7137  0.7373  0.7333  0.9569  1.0000  0.9765  1.0000  1.0000\n",
       "  0.6196  0.7412  0.7176  0.6235  0.9255  1.0000  0.9843  1.0000  1.0000\n",
       "  0.8235  0.7020  0.6941  0.6314  1.0000  1.0000  1.0000  1.0000  1.0000\n",
       "  0.8275  0.7020  0.6980  0.6039  0.9451  1.0000  1.0000  1.0000  1.0000\n",
       "  0.8275  0.7176  0.7098  0.5843  0.8157  1.0000  1.0000  1.0000  1.0000\n",
       "  0.8353  0.7373  0.7176  0.6078  0.7098  1.0000  1.0000  1.0000  1.0000\n",
       "  0.8392  0.7608  0.7373  0.6784  0.6510  1.0000  1.0000  0.9882  1.0000\n",
       "  0.8392  0.8000  0.7569  0.7647  0.6431  0.9333  1.0000  0.9804  0.9882\n",
       "  0.8353  0.8235  0.7882  0.8314  0.6549  0.8196  1.0000  0.9725  0.9765\n",
       "  0.8275  0.8431  0.8039  0.8706  0.6824  0.7569  1.0000  0.9686  0.9725\n",
       "  0.8118  0.8627  0.7882  0.8706  0.7765  0.6314  0.9882  0.9725  0.9725\n",
       "  0.8157  0.8627  0.7961  0.8784  0.7961  0.6588  0.9529  0.9922  0.9725\n",
       "  0.8157  0.8392  0.7922  0.8588  0.8000  0.6824  0.8784  1.0000  0.9686\n",
       "  0.8039  0.8235  0.7961  0.8157  0.7961  0.7098  0.8118  1.0000  0.9725\n",
       "  0.7922  0.8157  0.8039  0.7686  0.7961  0.7451  0.7608  1.0000  0.9843\n",
       "  0.7882  0.8039  0.7922  0.7216  0.8078  0.7922  0.7333  0.9608  0.9843\n",
       "  0.8078  0.8118  0.7765  0.6863  0.8196  0.8157  0.7020  0.8588  0.9804\n",
       "  0.8275  0.8157  0.7647  0.6745  0.8275  0.8275  0."
      ]
     },
     "execution_count": 86,
     "metadata": {},
     "output_type": "execute_result"
    },
    {
     "data": {
      "text/plain": [
       "6863  0.7804  0.9647\n",
       "  0.7294  0.8078  0.8000  0.6941  0.7804  0.9059  0.7373  0.8000  1.0000\n",
       "  0.7098  0.8118  0.7882  0.7137  0.7882  0.8824  0.7490  0.7529  1.0000\n",
       "  0.6667  0.8235  0.7765  0.7490  0.7922  0.8627  0.7765  0.6824  0.9490\n",
       "  0.6510  0.8118  0.7647  0.7882  0.7922  0.8314  0.8000  0.6431  0.8745\n",
       "  0.6549  0.7882  0.7686  0.8235  0.7922  0.8000  0.8196  0.6510  0.7882\n",
       "  0.7020  0.7490  0.7725  0.8627  0.7922  0.7843  0.8235  0.7020  0.7020\n",
       "  0.7608  0.7020  0.7725  0.8902  0.7922  0.7765  0.8157  0.7647  0.6235\n",
       "  0.7882  0.6627  0.7686  0.9176  0.7961  0.7647  0.8078  0.8235  0.6000\n",
       "  0.8392  0.6627  0.7490  0.9176  0.7843  0.7804  0.8157  0.8078  0.6353\n",
       "  0.8667  0.6431  0.7608  0.9176  0.7961  0.7725  0.8078  0.8275  0.6588\n",
       "  0.9294  0.6353  0.7765  0.9020  0.8118  0.7608  0.7922  0.8431  0.6706\n",
       "  0.9882  0.6392  0.7647  0.8784  0.8157  0.7608  0.7922  0.8588  0.6941\n",
       "  1.0000  0.6745  0.7529  0.8471  0.8118  0.7647  0.7961  0.8588  0.7255\n",
       "  1.0000  0.7451  0.7451  0.8235  0.7961  0.7765  0.8078  0.8431  0.7608\n",
       "  0.9843  0.8275  0.7569  0.8078  0.7843  0.7882  0.8118  0.8078  0.7804\n",
       "  0.9725  0.8824  0.7725  0.8078  0.7725  0.7961  0.8157  0.7843  0.7882\n",
       "  1.0000  0.9608  0.4549  0.8000  0.8275  0.8000  0.7216  0.7529  0.7725\n",
       "  1.0000  0.9882  0.4784  0.8157  0.8314  0.8039  0.7294  0.7569  0.7765\n",
       "  1.0000  1.0000  0.5098  0.8275  0.8353  0.8118  0.7333  0.7569  0.7804\n",
       "  1.0000  1.0000  0.5412  0.8235  0.8275  0.8157  0.7490  0.7647  0.7961\n",
       "  1.0000  1.0000  0.5804  0.8039  0.8039  0.8196  0.7647  0.7647  0.8118\n",
       "  1.0000  1.0000  0.6314  0.7882  0.7922  0.8314  0.7804  0.7647  0.8235\n",
       "  1.0000  1.0000  0.6863  0.7686  0.7843  0.8471  0.7882  0.7608  0.8235\n",
       "  1.0000  1.0000  0.7137  0.7569  0.7804  0.8627  0.8039  0.7608  0.8275\n",
       "  1.0000  1.0000  0.7765  0.7529  0.7608  0.8392  0.8118  0.7686  0.8235\n",
       "  1.0000  1.0000  0.7882  0.7333  0.7490  0.8392  0.8196  0.7804  0.8196\n",
       "  1.0000  1.0000  0.8118  0.7255  0.7412  0.8392  0.8314  0.7882  0.8196\n",
       "  1.0000  1.0000  0.8510  0.7333  0.7373  0.8353  0.8314  0.7961  0.8196\n",
       "  1.0000  0.9882  0.8863  0.7412  0.7294  0.8314  0.8314  0.8000  0.8157\n",
       "  0.9804  0.9725  0.9098  0.7569  0.7294  0.8157  0.8275  0.7882  0.8157\n",
       "  0.9686  0.9608  0.9216  0.7725  0.7373  0.8118  0.8196  0.7882  0.8039\n",
       "  0.9608  0.9490  0.9294  0.7843  0.7333  0.8078  0.8157  0.7843  0.8039\n",
       "  1.0000  0.9961  0.9922  0.7647  0.6275  0.8588  0.8588  0.7804  0.7647\n",
       "  1.0000  0.9961  0.9922  0.7804  0.6353  0.8510  0.8588  0.7804  0.7647\n",
       "  1.0000  0.9961  0.9922  0.8118  0.6431  0.8431  0.8588  0.7804  0.7608\n",
       "  1.0000  0.9961  0.9922  0.8510  0.6471  0.8314  0.8549  0.7882  0.7608\n",
       "  1.0000  0.9961  0.9922  0.8902  0.6549  0.8196  0.8431  0.7843  0.7569\n",
       "  1.0000  0.9961  0.9922  0.9294  0.6627  0.8000  0.8392  0.7882  0.7529\n",
       "  1.0000  0.9961  0.9922  0.9490  0.6549  0.7882  0.8235  0.7882  0.7529\n",
       "  1.0000  0.9961  0.9922  0.9529  0.6549  0.7647  0.8196  0.7804  0.7529\n",
       "  1.0000  1.0000  1.0000  1.0000  0.6431  0.7647  0.8510  0.7294  0.7647\n",
       "  1.0000  1.0000  1.0000  1.0000  0.6471  0.7529  0.8353  0.7255  0.7608\n",
       "  1.0000  1.0000  1.0000  1.0000  0.6627  0.7373  0.8235  0.7255  0.7569\n",
       "  1.0000  1.0000  1.0000  0.9961  0.6980  0.7255  0.8039  0.7294  0.7529\n",
       "  1.0000  1.0000  1.0000  1.0000  0.7294  0.7098  0.7882  0.7333  0.7451\n",
       "  1.0000  1.0000  1.0000  1.0000  0.7569  0.7020  0.7765  0.7412  0.7412\n",
       "  1.0000  1.0000  1.0000  1.0000  0.7804  0.6980  0.7686  0.7451  0.7373\n",
       "  1.0000  1.0000  1.0000  1.0000  0.7961  0.6941  0.7608  0.7451  0.7333\n",
       "  1.0000  1.0000  0.9961  0.9059  0.6196  0.5137  0.7137  0.8275  0.9412\n",
       "  1.0000  0.9961  0.9882  1.0000  0.7922  0.6549  0.8314  0.9176  0.9373\n",
       "  0.9882  0.9765  0.9725  1.0000  0.8902  0.6392  0.8118  0.9333  0.9412\n",
       "  0.9765  0.9686  0.9608  1.0000  1.0000  0.5922  0.6941  0.8196  0.7961\n",
       "  0.9725  0.9608  0.9569  1.0000  0.8824  0.5098  0.6000  0.6784  0.6353\n",
       "  0.9686  0.9569  0.9529  1.0000  0.9882  0.8196  0.9529  0.9843  0.9608\n",
       "  0.9843  0.9725  0.9686  0.9451  0.8353  0.7569  0.8549  0.8353  0.8588\n",
       "  1.0000  1.0000  0.9922  1.0000  0.7882  0.6667  0.7294  0."
      ]
     },
     "execution_count": 86,
     "metadata": {},
     "output_type": "execute_result"
    },
    {
     "data": {
      "text/plain": [
       "7098  0.8118\n",
       "  1.0000  1.0000  1.0000  1.0000  0.8275  0.8235  0.8784  0.8706  0.9137\n",
       "  0.8314  0.9686  1.0000  1.0000  0.8392  0.8235  0.8863  0.9098  0.9686\n",
       "  0.8275  0.8980  1.0000  1.0000  0.8314  0.8431  0.9333  0.9529  0.9647\n",
       "  0.8667  0.8196  0.8392  1.0000  0.8510  0.8941  0.9804  0.9882  0.9529\n",
       "  0.9569  0.9176  0.8745  0.9961  0.8824  0.9294  0.9961  1.0000  0.9882\n",
       "  0.9255  0.9255  0.8510  0.9137  0.8784  0.9686  1.0000  1.0000  0.9843\n",
       "  0.9294  0.9255  0.8784  0.8000  0.8235  0.9608  1.0000  1.0000  0.9137\n",
       "  0.8235  0.8431  0.8510  0.7569  0.7804  0.9098  0.9843  0.9686  0.8510\n",
       "  0.8392  0.9333  0.8863  0.9216  0.7922  0.9608  1.0000  1.0000  0.9686\n",
       "  0.8784  0.9647  0.9961  0.9020  0.8235  0.9686  1.0000  1.0000  0.9294\n",
       "  0.7490  0.7451  0.7961  0.6863  0.7098  0.8902  1.0000  1.0000  0.9569\n",
       "  0.8863  0.8627  0.9059  0.7255  0.8000  0.9647  1.0000  1.0000  1.0000\n",
       "  0.9608  0.9529  0.9608  0.7412  0.7765  0.8902  0.9569  0.9765  0.9137\n",
       "  1.0000  0.9569  0.8902  0.8471  0.7804  0.8353  0.8980  0.9373  0.9451\n",
       "  1.0000  0.9412  0.8667  0.9882  0.8157  0.8196  0.8510  0.8510  0.8706\n",
       "  0.9059  0.8863  0.8863  1.0000  0.8824  0.8824  0.9137  0.8784  0.9098\n",
       "  0.8314  0.8784  0.9882  1.0000  0.9490  0.8431  0.8353  0.8039  0.8157\n",
       "  0.8941  0.9412  0.9843  1.0000  1.0000  0.9490  0.9569  0.9490  0.9608\n",
       "  1.0000  0.9725  0.9333  0.9882  0.9608  0.9412  0.9569  0.9569  0.9412\n",
       "  0.9686  0.9647  0.9686  0.9137  0.9333  0.9373  0.9608  1.0000  1.0000\n",
       "  0.9765  0.9843  0.9922  0.9725  1.0000  0.8706  0.8196  0.9059  0.9176\n",
       "  0.9843  1.0000  1.0000  1.0000  1.0000  0.7765  0.6353  0.7255  0.7451\n",
       "  0.9608  1.0000  1.0000  1.0000  1.0000  0.7569  0.6235  0.7843  0.8431\n",
       "  1.0000  1.0000  1.0000  0.8784  1.0000  0.7137  0.6000  0.7882  0.8392\n",
       "  1.0000  1.0000  1.0000  0.9647  1.0000  0.8275  0.7020  0.8314  0.8314\n",
       "  1.0000  1.0000  1.0000  0.9451  1.0000  0.8078  0.6784  0.8118  0.8118\n",
       "  1.0000  1.0000  1.0000  0.9294  1.0000  0.7882  0.6627  0.7882  0.7882\n",
       "  1.0000  1.0000  1.0000  0.9373  1.0000  0.7961  0.6706  0.7922  0.7961\n",
       "  1.0000  1.0000  1.0000  0.9686  1.0000  0.8275  0.6980  0.8196  0.8235\n",
       "  1.0000  1.0000  1.0000  1.0000  1.0000  0.8549  0.7255  0.8471  0.8510\n",
       "  1.0000  1.0000  1.0000  1.0000  1.0000  0.8549  0.7176  0.8431  0.8510\n",
       "  1.0000  1.0000  1.0000  0.9843  1.0000  0.8275  0.6902  0.8118  0.8157\n",
       "  1.0000  1.0000  1.0000  0.9647  1.0000  0.7804  0.6902  0.7686  0.7647\n",
       "  1.0000  1.0000  1.0000  0.9843  1.0000  0.7922  0.6510  0.7294  0.7333\n",
       "  1.0000  1.0000  1.0000  1.0000  1.0000  0.8235  0.6588  0.7569  0.7647\n",
       "  1.0000  1.0000  1.0000  1.0000  1.0000  0.8863  0.6902  0.7804  0.7804\n",
       "  1.0000  1.0000  1.0000  1.0000  1.0000  0.8549  0.6431  0.6902  0.6784\n",
       "  1.0000  1.0000  1.0000  0.9765  1.0000  1.0000  0.9569  0.9961  0.9765\n",
       "  1.0000  1.0000  1.0000  0.8353  0.9255  1.0000  1.0000  1.0000  1.0000\n",
       "  1.0000  1.0000  1.0000  0.7686  0.8314  0.9725  1.0000  1.0000  0.9922\n",
       "\n",
       "Columns 55 to 63\n",
       "  1.0000  1.0000  1.0000  1.0000  1.0000  1.0000  1.0000  1.0000  1.0000\n",
       "  1.0000  1.0000  1.0000  1.0000  1.0000  1.0000  1.0000  1.0000  1.0000\n",
       "  1.0000  1.0000  1.0000  1.0000  1.0000  1.0000  1.0000  1.0000  1.0000\n",
       "  1.0000  1.0000  1.0000  1.0000  1.0000  1.0000  1.0000  1.0000  1.0000\n",
       "  1.0000  1.0000  1.0000  1.0000  1.0000  1.0000  1.0000  1.0000  1.0000\n",
       "  1.0000  1.0000  1.0000  1.0000  1.0000  1.0000  1.0000  1.0000  1.0000\n",
       "  1.0000  1.0000  1.0000  1.0000  1.0000  1.0000  1.0000  1.0000  1.0000\n",
       "  1.0000  1.0000  1.0000  1.0000  1.0000  1.0000  1.0000  1.0000  1.0000\n",
       "  1.0000  0.9922  1.0000  1.0000  1.0000  1.0000  1.0000  1.0000  1.0000\n",
       "  1.0000  1.0000  1.0000  1.0000  1.0000  1.0000  1.0000  1.0000  1.0000\n",
       "  0.9961  1.0000  1.0000  1.0000  1.0000  1.0000  1.0000  1.0000  1.0000\n",
       "  0.9843  1.0000  1.0000  1.0000  1.0000  1.0000  1.0000  1.0000  1.0000\n",
       "  0.9843  1.0000  1.0000  1.0000  1.0000  1.0000  1.0000  1.0000  1.0000\n",
       "  0.9843  1.0000  1.0000  1.0000  1.0000  1.0000  1.0000  1.0000  1.0000\n",
       "  0.9843  1.0000  1.0000  1.0000  1.0000  1.0000  1.0000  1.0000  1.0000\n",
       "  0.9804  1.0000  1.0000  1.0000  1.0000  1.0000  "
      ]
     },
     "execution_count": 86,
     "metadata": {},
     "output_type": "execute_result"
    },
    {
     "data": {
      "text/plain": [
       "1.0000  1.0000  1.0000\n",
       "  0.9529  0.9882  1.0000  1.0000  0.9490  0.8863  0.9608  1.0000  1.0000\n",
       "  0.9647  0.9882  1.0000  1.0000  0.9490  0.8941  0.9686  1.0000  1.0000\n",
       "  0.9686  0.9961  1.0000  1.0000  0.9569  0.9137  0.9843  1.0000  1.0000\n",
       "  0.9725  0.9961  1.0000  1.0000  0.9569  0.9333  1.0000  1.0000  1.0000\n",
       "  0.9843  0.9961  1.0000  1.0000  0.9608  0.9608  1.0000  1.0000  0.9922\n",
       "  0.9843  0.9961  1.0000  0.9961  0.9725  0.9882  1.0000  1.0000  0.9647\n",
       "  0.9686  1.0000  0.9961  0.9843  0.9843  1.0000  1.0000  1.0000  0.9451\n",
       "  0.9608  1.0000  0.9843  0.9725  0.9882  1.0000  1.0000  1.0000  0.9451\n",
       "  0.9961  0.9922  0.9765  0.9569  0.9961  1.0000  1.0000  1.0000  0.9333\n",
       "  0.9961  0.9961  0.9725  0.9608  1.0000  1.0000  1.0000  1.0000  0.9765\n",
       "  0.9961  0.9961  0.9765  0.9765  1.0000  1.0000  1.0000  0.9804  1.0000\n",
       "  0.9804  0.9961  0.9725  0.9882  1.0000  1.0000  1.0000  0.9608  1.0000\n",
       "  0.9804  0.9961  0.9765  1.0000  1.0000  1.0000  0.9725  0.9569  1.0000\n",
       "  0.9765  0.9804  0.9882  1.0000  1.0000  1.0000  0.9490  0.9686  1.0000\n",
       "  0.9725  0.9725  0.9922  1.0000  1.0000  1.0000  0.9216  0.9686  0.9059\n",
       "  0.9725  0.9725  1.0000  1.0000  1.0000  1.0000  0.8902  0.9686  0.8314\n",
       "  0.9569  0.9843  1.0000  1.0000  1.0000  0.8902  0.8431  0.9961  0.8078\n",
       "  0.9529  0.9686  1.0000  1.0000  1.0000  0.8863  0.8627  0.9529  0.7686\n",
       "  0.9451  0.9412  1.0000  1.0000  0.9961  0.8863  0.8980  0.8941  0.7137\n",
       "  0.9412  0.9294  1.0000  1.0000  0.9647  0.8784  0.9333  0.8275  0.6863\n",
       "  0.9412  0.9333  1.0000  1.0000  0.9451  0.8745  0.9529  0.7725  0.6980\n",
       "  0.9216  0.9216  1.0000  1.0000  0.9294  0.8745  0.9451  0.7333  0.7373\n",
       "  0.8863  0.9176  1.0000  1.0000  0.9216  0.8863  0.9333  0.7059  0.7725\n",
       "  0.8784  0.9176  1.0000  1.0000  0.9176  0.9059  0.9412  0.7059  0.8000\n",
       "  0.7686  0.9490  1.0000  1.0000  0.9451  0.9255  0.8353  0.7373  0.8078\n",
       "  0.7569  0.9882  1.0000  1.0000  0.9569  0.9569  0.8078  0.7529  0.8196\n",
       "  0.7216  1.0000  1.0000  1.0000  0.9608  0.9843  0.7412  0.7647  0.8196\n",
       "  0.6980  1.0000  1.0000  0.9843  0.9765  1.0000  0.6863  0.7647  0.8235\n",
       "  0.6863  1.0000  0.9922  0.9608  0.9922  0.9882  0.6627  0.7765  0.8157\n",
       "  0.6902  1.0000  0.9804  0.9412  0.9961  0.9255  0.6549  0.7804  0.8039\n",
       "  0.6902  0.9451  0.9804  0.9294  0.9882  0.8392  0.6627  0.7725  0.7922\n",
       "  0.6863  0.9059  0.9804  0.9176  0.9725  0.7725  0.6588  0.7647  0.7843\n",
       "  0.7765  0.8196  1.0000  0.9216  1.0000  0.7137  0.7529  0.7725  0.8118\n",
       "  0.7569  0.7765  1.0000  0.9294  0.9922  0.6980  0.7451  0.7765  0.8118\n",
       "  0.7412  0.7176  0.9804  0.9529  0.9255  0.6784  0.7412  0.7843  0.8118\n",
       "  0.7451  0.6667  0.9569  0.9922  0.8588  0.6627  0.7412  0.7961  0.8039\n",
       "  0.7569  0.6392  0.9176  1.0000  0.8000  0.6627  0.7451  0.8000  0.7961\n",
       "  0.7686  0.6353  0.8627  1.0000  0.7529  0.6667  0.7490  0.8039  0.7882\n",
       "  0.7882  0.6392  0.7961  1.0000  0.7176  0.6784  0.7569  0.8039  0.7843\n",
       "  0.7922  0.6471  0.7686  1.0000  0.7137  0.6902  0.7569  0.8039  0.7804\n",
       "  0.7961  0.6863  0.7451  1.0000  0.6745  0.7451  0.7882  0.7686  0.8118\n",
       "  0.8000  0.6980  0.7294  1.0000  0.6941  0.7529  0.7843  0.7608  0.8000\n",
       "  0.7961  0.7098  0.6941  0.9373  0.7020  0.7686  0.7843  0.7647  0.7922\n",
       "  0.7922  0.7216  0.6627  0.8510  0.7176  0.7882  0.7922  0.7686  0.7961\n",
       "  0.7922  0.7333  0.6431  0.7647  0.7373  0.8000  0.7922  0.7647  0.7843\n",
       "  0.7882  0.7451  0.6510  0.6941  0.7529  0.8000  0.7765  0.7490  0.7686\n",
       "  0.7882  0.7569  0.6745  0.6588  0.7765  0.8118  0.7647  0.7373  0.7647\n",
       "  0.7882  0.7608  0.7020  0.6549  0.7961  0.8235  0.7686  0.7451  0.7608\n",
       "  0.8275  0.8235  0.7882  0.7490  0.7686  0.8039  0.8000  0.7843  0.8039\n",
       "  0.8235  0.8235  0.7882  0.7490  0.7686  0.8039  0.8000  0.7843  0.8039\n",
       "  0.8196  0.8235  0.7882  0.7490  0.7725  0.8039  0.8000  0.7843  0.8000\n",
       "  0.8157  0.8353  0.7961  0.7490  0.7725  0.8039  0.8000  0.7843  0.8000\n",
       "  0.8118  0.8392  0.7961  0.7569  0.7725  0.8118  0.8000  0.7765  0.7961\n",
       "  0.8118  0.8392  0.8000  0.7608  0.7765  0.8118  0.8000  0.7765  0.7961\n",
       "  0.8078  0.8431  0.8000  0.7608  0.7765  0.8118  0.8000  0.7765  0.7882\n",
       "  0.8039  0.8471  0.8039  0.7686  0.7843  0.8118  0.8000  "
      ]
     },
     "execution_count": 86,
     "metadata": {},
     "output_type": "execute_result"
    },
    {
     "data": {
      "text/plain": [
       "0.7725  0.7882\n",
       "  0.8118  0.8549  0.8118  0.7725  0.7882  0.8157  0.8000  0.7725  0.7843\n",
       "  0.8118  0.8549  0.8157  0.7765  0.7882  0.8157  0.8000  0.7725  0.7765\n",
       "  0.8157  0.8549  0.8157  0.7765  0.7961  0.8157  0.8000  0.7686  0.7765\n",
       "  0.8196  0.8549  0.8235  0.7843  0.7961  0.8235  0.8000  0.7686  0.7725\n",
       "  0.8235  0.8549  0.8235  0.7843  0.8000  0.8235  0.8000  0.7686  0.7725\n",
       "  0.8275  0.8549  0.8275  0.7882  0.8000  0.8235  0.8000  0.7608  0.7686\n",
       "  0.8314  0.8510  0.8275  0.7882  0.8000  0.8235  0.8000  0.7608  0.7686\n",
       "  0.8314  0.8510  0.8275  0.7882  0.8000  0.8235  0.8000  0.7608  0.7686\n",
       "  0.8392  0.7686  0.6941  0.6863  0.7255  0.7725  0.7961  0.7882  0.7608\n",
       "  0.8588  0.7922  0.7725  0.7569  0.7843  0.8314  0.8627  0.8549  0.8235\n",
       "  0.9059  0.8588  0.7843  0.7686  0.7922  0.8392  0.8784  0.8824  0.8588\n",
       "  0.7765  0.7216  0.6745  0.6745  0.6980  0.7412  0.7765  0.7843  0.7804\n",
       "  0.6196  0.5922  0.5529  0.5569  0.5804  0.6039  0.6039  0.6078  0.6118\n",
       "  0.9804  1.0000  0.9569  0.9647  0.9686  0.9725  0.9686  0.9647  0.9647\n",
       "  0.8588  0.8980  0.9333  0.9216  0.9216  0.9412  0.9725  0.9922  0.9922\n",
       "  0.8078  0.8314  0.8353  0.8157  0.8078  0.8549  0.9373  0.9882  0.9765\n",
       "  0.9569  0.9843  0.9686  0.9882  0.9098  0.8431  0.7647  0.9333  0.9961\n",
       "  1.0000  1.0000  1.0000  1.0000  1.0000  0.9020  0.8118  0.8314  0.9255\n",
       "  0.9255  0.9176  0.9686  0.9451  1.0000  0.9255  0.8745  0.7451  0.8588\n",
       "  0.8824  0.8863  0.8902  0.8627  0.9255  0.9608  0.9490  0.7961  0.8392\n",
       "  0.9765  1.0000  0.9843  0.9333  0.8941  1.0000  0.9961  0.9216  0.8706\n",
       "  0.9647  1.0000  1.0000  0.9843  0.8549  0.9490  0.9882  1.0000  0.9098\n",
       "  0.8353  0.9216  0.9059  0.9255  0.8431  0.8471  0.9765  1.0000  0.9333\n",
       "  0.7686  0.8510  0.7922  0.8667  0.8745  0.7961  0.9882  0.9922  0.9216\n",
       "  0.8863  0.8627  0.8235  0.9412  0.9373  0.9333  1.0000  1.0000  0.8314\n",
       "  0.8667  0.8863  0.8863  0.9529  0.9098  0.9176  1.0000  0.9843  0.8000\n",
       "  0.9176  0.9765  0.9608  0.9451  0.9020  0.9490  1.0000  0.9608  0.7882\n",
       "  0.9176  0.9804  0.9294  0.9294  0.9451  1.0000  1.0000  0.9412  0.8157\n",
       "  0.8078  0.8392  0.9176  0.9451  1.0000  1.0000  1.0000  0.8824  0.8196\n",
       "  0.8980  0.9451  0.9451  0.9686  1.0000  1.0000  0.9020  0.8000  0.8235\n",
       "  0.8784  0.9216  0.9647  0.9725  0.9725  0.9216  0.8275  0.8118  0.8784\n",
       "  0.9451  0.9843  0.9765  0.9686  0.9490  0.8902  0.8471  0.9059  0.9882\n",
       "  0.8353  0.8549  0.9059  0.8863  0.8745  0.9176  0.9882  1.0000  1.0000\n",
       "  1.0000  1.0000  1.0000  1.0000  0.9843  0.9804  0.9922  0.9961  1.0000\n",
       "  0.9490  0.9608  0.9529  0.9373  0.9137  0.8941  0.8863  0.8902  0.9137\n",
       "  1.0000  1.0000  0.9725  0.9608  0.9529  0.9451  0.9490  0.9725  1.0000\n",
       "  0.9255  0.9176  0.8824  0.8549  0.8431  0.8431  0.8667  0.8902  0.9098\n",
       "  0.7686  0.7451  0.7176  0.6824  0.6667  0.6784  0.7098  0.7373  0.7451\n",
       "  0.8824  0.8667  0.8000  0.7686  0.7647  0.7804  0.8078  0.8353  0.8431\n",
       "  0.8588  0.8196  0.7922  0.7725  0.7647  0.7765  0.7843  0.7961  0.8000\n",
       "  0.8196  0.8000  0.8039  0.8157  0.8039  0.7961  0.8039  0.8431  0.9098\n",
       "  0.8000  0.7725  0.7843  0.7882  0.7765  0.7608  0.7686  0.8039  0.8667\n",
       "  0.7765  0.7529  0.7608  0.7608  0.7451  0.7216  0.7216  0.7490  0.8039\n",
       "  0.7804  0.7569  0.7608  0.7608  0.7412  0.7137  0.7020  0.7216  0.7725\n",
       "  0.8078  0.7922  0.7961  0.7961  0.7725  0.7333  0.7137  0.7294  0.7686\n",
       "  0.8431  0.8275  0.8392  0.8314  0.8118  0.7725  0.7451  0.7490  0.7843\n",
       "  0.8471  0.8392  0.8549  0.8549  0.8392  0.7961  0.7686  0.7686  0.7961\n",
       "  0.8196  0.8196  0.8392  0.8510  0.8314  0.7961  0.7686  0.7608  0.7882\n",
       "  0.8157  0.7725  0.8196  0.8431  0.8314  0.7922  0.7647  0.7608  0.7882\n",
       "  0.7765  0.7647  0.8000  0.8275  0.8235  0.7961  0.7647  0.7647  0.7843\n",
       "  0.7569  0.7608  0.8039  0.8314  0.8314  0.8039  0.7843  0.7765  0.8000\n",
       "  0.7333  0.7490  0.7882  0.8196  0.8275  0.8000  0.7725  0.7725  0.7922\n",
       "  0.6235  0.6627  0.6863  0.7176  0.7176  0.6980  0.6706  0.6627  0.6863\n",
       "  0.9020  0.9059  0.9412  0.9686  0.9686  0.9412  0.9137  0.9098  0.9294\n",
       "  1.0000  1.0000  1.0000  1.0000  1.0000  1.0000  1.0000  1.0000  1.0000\n",
       "  0.9412  0.9294  0.9451  0.9686  0.9608  0.9294  0.9020  0.8941  "
      ]
     },
     "execution_count": 86,
     "metadata": {},
     "output_type": "execute_result"
    },
    {
     "data": {
      "text/plain": [
       "0.9137\n",
       "\n",
       "Columns 64 to 72\n",
       "  1.0000  0.9529  1.0000  1.0000  0.9059  0.8000  0.8941  1.0000  1.0000\n",
       "  1.0000  0.9725  1.0000  1.0000  0.9294  0.8431  0.8941  1.0000  1.0000\n",
       "  1.0000  0.9843  0.9843  1.0000  0.9725  0.9059  0.8824  1.0000  0.9922\n",
       "  1.0000  1.0000  0.9843  1.0000  1.0000  0.9608  0.8980  1.0000  0.8039\n",
       "  1.0000  1.0000  0.9922  1.0000  1.0000  1.0000  0.9529  0.9137  0.6627\n",
       "  1.0000  1.0000  1.0000  1.0000  1.0000  1.0000  0.9922  0.7922  0.6275\n",
       "  1.0000  1.0000  1.0000  1.0000  1.0000  1.0000  0.9765  0.6392  0.6667\n",
       "  1.0000  1.0000  1.0000  1.0000  0.9882  1.0000  0.9490  0.5686  0.7333\n",
       "  1.0000  0.9608  1.0000  0.9765  0.9765  1.0000  0.7333  0.6588  0.8353\n",
       "  1.0000  0.9647  1.0000  0.9922  0.9490  0.9176  0.6902  0.7490  0.8510\n",
       "  1.0000  0.9725  0.9961  1.0000  0.9569  0.8078  0.6627  0.8235  0.8667\n",
       "  1.0000  0.9686  0.9686  1.0000  0.9843  0.7216  0.6941  0.8588  0.8706\n",
       "  1.0000  0.9490  0.9490  0.9882  0.9922  0.6706  0.7529  0.8196  0.8157\n",
       "  1.0000  0.9608  0.9569  0.9569  0.9373  0.7216  0.8314  0.7725  0.7490\n",
       "  1.0000  0.9686  0.9412  0.9412  0.8078  0.8275  0.8824  0.7608  0.7020\n",
       "  1.0000  0.9529  0.9059  0.9020  0.6784  0.8863  0.8902  0.7529  0.6588\n",
       "  1.0000  0.9020  1.0000  0.9333  0.7176  0.8235  0.8000  0.7569  0.8000\n",
       "  1.0000  0.9059  1.0000  0.7843  0.7569  0.8000  0.7961  0.7686  0.8078\n",
       "  0.9686  0.9176  0.9451  0.6275  0.7843  0.7804  0.8039  0.7804  0.8078\n",
       "  0.9333  0.9647  0.8431  0.5843  0.7765  0.7882  0.8196  0.7765  0.8078\n",
       "  0.8941  1.0000  0.7255  0.6627  0.7490  0.8157  0.8314  0.7647  0.8000\n",
       "  0.8667  0.9765  0.6431  0.7490  0.7529  0.8392  0.8235  0.7922  0.7725\n",
       "  0.8549  0.8941  0.6314  0.7725  0.7922  0.8392  0.8039  0.8353  0.7255\n",
       "  0.8706  0.8392  0.6588  0.7529  0.8392  0.8353  0.7843  0.8745  0.6784\n",
       "  0.8863  0.6824  0.7216  0.8196  0.8275  0.8235  0.8510  0.7804  0.6510\n",
       "  0.8549  0.7098  0.7255  0.8118  0.8275  0.8392  0.8392  0.7490  0.6235\n",
       "  0.7882  0.7255  0.7216  0.7882  0.8314  0.8667  0.8392  0.7137  0.6235\n",
       "  0.7333  0.7647  0.7294  0.7686  0.8392  0.9059  0.8431  0.6980  0.6588\n",
       "  0.7020  0.7961  0.7333  0.7490  0.8392  0.9294  0.8275  0.6784  0.7137\n",
       "  0.6980  0.8314  0.7373  0.7098  0.8235  0.9373  0.8157  0.6706  0.7882\n",
       "  0.6941  0.8667  0.7412  0.6863  0.8118  0.9490  0.8157  0.6863  0.8706\n",
       "  0.6902  0.8941  0.7451  0.6824  0.8078  0.9569  0.8314  0.7137  0.9412\n",
       "  0.8627  0.7765  0.8039  0.8157  0.8431  0.8275  0.6549  0.6275  0.9333\n",
       "  0.8510  0.7765  0.7961  0.8118  0.8431  0.8196  0.6510  0.7176  0.9451\n",
       "  0.8431  0.7765  0.7804  0.8157  0.8353  0.8157  0.6431  0.8510  0.9490\n",
       "  0.8431  0.7843  0.7686  0.8196  0.8196  0.7843  0.6471  0.9647  0.9451\n",
       "  0.8510  0.7922  0.7686  0.8275  0.8039  0.7490  0.6784  1.0000  0.9373\n",
       "  0.8392  0.8000  0.7686  0.8353  0.7882  0.7137  0.7529  1.0000  0.9333\n",
       "  0.8078  0.7922  0.7686  0.8392  0.7647  0.6824  0.8314  1.0000  0.9529\n",
       "  0.7882  0.7882  0.7725  0.8431  0.7490  0.6471  0.8667  1.0000  0.9725\n",
       "  0.7922  0.7765  0.7922  0.8196  0.7569  0.6235  0.9804  1.0000  0.9843\n",
       "  0.7882  0.7804  0.8078  0.8118  0.7294  0.6157  0.9725  0.9961  0.9882\n",
       "  0.7843  0.7804  0.8275  0.8118  0.6941  0.6353  0.9882  1.0000  0.9961\n",
       "  0.7804  0.7765  0.8353  0.8039  0.6627  0.6824  1.0000  0.9843  1.0000\n",
       "  0.7686  0.7765  0.8392  0.7961  0.6510  0.7412  1.0000  0.9686  1.0000\n",
       "  0.7647  0.7765  0.8392  0.7922  0.6549  0.8039  1.0000  0.9412  1.0000\n",
       "  0.7608  0.7804  0.8431  0.8000  0.6784  0.8706  0.9843  0.9176  1.0000\n",
       "  0.7608  0.7882  0.8431  0.8039  0.6980  0.9098  0.9765  0.9020  1.0000\n",
       "  0.8000  0.8392  0.8000  0.7216  0.6196  0.9725  0.9529  0.9098  0.9608\n",
       "  0.8039  0.8431  0.7922  0.7216  0.6588  1.0000  0.9608  0.9098  0.9608\n",
       "  0.8118  0.8431  0.7882  0.7098  0.7098  1.0000  0.9608  0.9176  0.9490\n",
       "  0.8196  0.8549  0.7843  0.6902  0.7608  1.0000  0.9608  0.9216  0.9529\n",
       "  0.8235  0.8588  0.7725  0.6627  0.8039  1.0000  0.9608  0.9294  0.9608\n",
       "  0.8314  0.8549  0.7608  0.6471  0.8549  1.0000  0.9490  0.9333  0.9725\n",
       "  0.8510  0.8392  0.7529  0.6353  0.9059  1.0000  0.9529  0.9412  0.9725\n",
       "  0.8627  0.8275  0.7412  0.6353  0.9255  1.0000  0.9529"
      ]
     },
     "execution_count": 86,
     "metadata": {},
     "output_type": "execute_result"
    },
    {
     "data": {
      "text/plain": [
       "  0.9490  0.9765\n",
       "  0.8471  0.8157  0.7255  0.6235  1.0000  1.0000  0.9647  0.9569  0.9765\n",
       "  0.8392  0.8118  0.7216  0.6235  1.0000  1.0000  0.9686  0.9686  0.9843\n",
       "  0.8392  0.8157  0.7098  0.6392  1.0000  1.0000  0.9686  0.9765  0.9882\n",
       "  0.8431  0.8039  0.6980  0.6745  1.0000  0.9843  0.9725  0.9843  0.9882\n",
       "  0.8471  0.8000  0.6824  0.7020  1.0000  0.9569  0.9725  0.9843  0.9961\n",
       "  0.8353  0.7961  0.6706  0.7373  1.0000  0.9373  0.9725  0.9882  0.9961\n",
       "  0.8392  0.8039  0.6706  0.7725  1.0000  0.9294  0.9725  0.9922  1.0000\n",
       "  0.8431  0.8078  0.6745  0.7922  1.0000  0.9333  0.9725  1.0000  1.0000\n",
       "  0.8431  0.8706  0.6039  0.7922  0.9843  1.0000  1.0000  0.9608  0.9882\n",
       "  0.8431  0.8667  0.6157  0.8118  0.9843  1.0000  1.0000  0.9686  0.9882\n",
       "  0.8431  0.8627  0.6235  0.8392  0.9765  1.0000  1.0000  0.9765  0.9882\n",
       "  0.8392  0.8471  0.6431  0.8824  0.9804  1.0000  1.0000  0.9882  0.9882\n",
       "  0.8392  0.8392  0.6588  0.9333  0.9686  1.0000  1.0000  0.9961  0.9843\n",
       "  0.8314  0.8275  0.6706  0.9686  0.9647  1.0000  1.0000  0.9961  0.9843\n",
       "  0.8275  0.8157  0.6784  0.9922  0.9647  1.0000  1.0000  0.9961  0.9804\n",
       "  0.8235  0.7961  0.6784  1.0000  0.9529  0.9922  1.0000  0.9882  0.9804\n",
       "  0.8235  0.7882  0.7333  1.0000  0.9451  0.9882  1.0000  0.9882  0.9882\n",
       "  0.8157  0.7765  0.7412  1.0000  0.9373  0.9843  1.0000  0.9843  0.9882\n",
       "  0.8118  0.7647  0.7686  0.9961  0.9333  0.9765  0.9922  0.9843  0.9882\n",
       "  0.8039  0.7529  0.8039  0.9843  0.9216  0.9725  0.9922  0.9843  0.9882\n",
       "  0.8039  0.7451  0.8471  0.9804  0.9176  0.9686  0.9922  0.9765  0.9882\n",
       "  0.8000  0.7373  0.8941  0.9765  0.9137  0.9608  0.9922  0.9765  0.9843\n",
       "  0.8000  0.7333  0.9255  0.9686  0.9137  0.9569  0.9922  0.9765  0.9843\n",
       "  0.8000  0.7333  0.9451  0.9686  0.9059  0.9529  0.9922  0.9765  0.9843\n",
       "  0.7412  0.5725  0.9098  0.9961  0.9451  0.9843  1.0000  1.0000  0.8902\n",
       "  0.7961  0.6314  0.9451  0.9882  0.9333  1.0000  1.0000  1.0000  0.8863\n",
       "  0.8314  0.6196  0.9843  1.0000  0.9569  1.0000  1.0000  1.0000  0.9333\n",
       "  0.7647  0.5765  0.9765  1.0000  0.9725  1.0000  1.0000  1.0000  0.9686\n",
       "  0.6157  0.6824  0.9961  1.0000  0.9608  0.9922  0.9961  0.9961  0.9725\n",
       "  0.9686  0.9333  1.0000  0.9725  0.9294  0.9804  1.0000  1.0000  0.9647\n",
       "  0.9843  1.0000  0.9882  0.9373  0.9490  0.9843  1.0000  1.0000  0.9569\n",
       "  0.9608  0.9294  0.9137  0.9176  0.9765  0.9922  0.9882  1.0000  0.9725\n",
       "  0.9765  0.8745  0.9098  0.9843  1.0000  0.9804  0.9569  0.9961  1.0000\n",
       "  0.9608  0.8667  0.8941  0.8980  0.8431  0.8039  0.8471  0.8392  0.7255\n",
       "  0.9569  0.9216  0.8275  0.8353  0.9843  1.0000  0.9490  0.9412  0.9765\n",
       "  0.9765  0.8588  0.8549  0.9294  1.0000  1.0000  0.9804  0.9765  0.9647\n",
       "  0.9922  0.8275  0.9255  1.0000  1.0000  0.9686  0.8863  0.9098  0.9490\n",
       "  0.9843  0.8000  0.8745  1.0000  1.0000  0.8549  0.7098  0.7647  0.9098\n",
       "  0.9216  0.8157  1.0000  1.0000  0.9176  0.7569  0.8039  0.8275  0.7647\n",
       "  0.8353  0.8353  0.9333  0.9843  0.9098  0.8431  0.8784  0.8745  0.8275\n",
       "  0.7137  0.8392  0.9647  1.0000  0.9255  0.8902  0.9059  0.9412  0.8784\n",
       "  0.7059  0.8824  0.9843  1.0000  0.9333  0.8941  0.9333  0.9529  0.8510\n",
       "  0.7373  0.8706  0.9843  1.0000  0.9686  0.9137  0.9765  0.9882  0.8980\n",
       "  0.8196  0.8196  0.9608  1.0000  0.9961  0.8980  1.0000  0.9725  0.9137\n",
       "  0.8824  0.7804  0.9255  0.9961  1.0000  0.8627  0.9020  0.8863  0.8706\n",
       "  0.9098  0.7882  0.8745  0.9647  0.9961  0.8902  0.8706  0.8784  0.9059\n",
       "  0.9373  0.8549  0.8275  0.9098  0.9647  0.9569  0.9059  0.9451  0.9647\n",
       "  1.0000  0.9451  0.8157  0.8549  0.9059  0.9882  0.9137  0.9529  0.9451\n",
       "  1.0000  1.0000  0.9098  0.8275  0.7961  0.8745  0.9647  0.9333  0.8784\n",
       "  1.0000  1.0000  0.9765  0.9333  0.8627  0.8314  0.8235  0.8000  0.7922\n",
       "  0.9333  1.0000  1.0000  0.9725  0.9882  1.0000  1.0000  1.0000  1.0000\n",
       "  1.0000  1.0000  0.9922  0.8706  0.9137  1.0000  1.0000  1.0000  1.0000\n",
       "  0.9216  0.9922  1.0000  0.9412  0.9412  1.0000  1.0000  1.0000  0.9765\n",
       "  0.7412  0.8196  1.0000  0.9137  0.9059  1.0000  1.0000  1.0000  0.9569\n",
       "  0.8392  0.8745  1.0000  0.9333  0.8902  0.9882  1.0000  1.0000  0.9176\n",
       "  0.8039  0.8863  1.0000  0.9412  0.8627  0.9843  1.0000  1.0000"
      ]
     },
     "execution_count": 86,
     "metadata": {},
     "output_type": "execute_result"
    },
    {
     "data": {
      "text/plain": [
       "  0.9333\n",
       "  0.9373  0.7686  1.0000  1.0000  1.0000  1.0000  0.9961  0.9843  0.9765\n",
       "  0.9098  0.7647  1.0000  1.0000  1.0000  1.0000  0.9961  0.9843  0.9765\n",
       "  0.8510  0.7647  1.0000  1.0000  1.0000  1.0000  0.9961  0.9843  0.9765\n",
       "  0.8118  0.7569  1.0000  1.0000  1.0000  1.0000  0.9961  0.9843  0.9765\n",
       "  0.8039  0.7529  1.0000  1.0000  1.0000  1.0000  0.9961  0.9843  0.9765\n",
       "  0.8157  0.7490  1.0000  1.0000  1.0000  1.0000  0.9882  0.9843  0.9843\n",
       "  0.8235  0.7373  1.0000  1.0000  1.0000  1.0000  0.9882  0.9843  0.9843\n",
       "  0.8157  0.7294  1.0000  1.0000  1.0000  0.9961  0.9882  0.9843  0.9843\n",
       "  0.8078  0.7059  1.0000  1.0000  1.0000  1.0000  0.9843  0.9843  0.9804\n",
       "  0.8118  0.6980  1.0000  1.0000  1.0000  1.0000  0.9882  0.9843  0.9765\n",
       "  0.8275  0.6784  1.0000  1.0000  1.0000  0.9843  0.9843  0.9843  0.9765\n",
       "  0.8157  0.6627  0.9961  1.0000  1.0000  0.9647  0.9843  0.9843  0.9843\n",
       "  0.7059  0.7373  0.9882  1.0000  1.0000  0.9608  0.9843  0.9843  0.9882\n",
       "  0.9529  0.8863  1.0000  1.0000  1.0000  0.9608  0.9843  0.9725  0.9882\n",
       "  1.0000  1.0000  1.0000  1.0000  1.0000  0.9686  0.9843  0.9608  0.9961\n",
       "  0.9333  1.0000  1.0000  0.9804  1.0000  0.9686  0.9843  0.9569  0.9961\n",
       "\n",
       "Columns 73 to 81\n",
       "  1.0000  0.6706  0.6824  0.8275  0.8196  0.7686  0.7882  0.8706  0.8314\n",
       "  0.8078  0.6314  0.7059  0.8392  0.8196  0.7961  0.8078  0.8588  0.7922\n",
       "  0.6824  0.6588  0.7686  0.8275  0.8078  0.8157  0.8000  0.7922  0.6980\n",
       "  0.7020  0.7647  0.8196  0.8000  0.8000  0.8627  0.8039  0.7294  0.6118\n",
       "  0.7725  0.8549  0.8471  0.7843  0.8275  0.9059  0.7804  0.6431  0.5412\n",
       "  0.8431  0.8902  0.8431  0.7765  0.8314  0.8549  0.6745  0.5412  0.5294\n",
       "  0.8745  0.8784  0.8314  0.7922  0.8275  0.7882  0.6392  0.5922  0.7804\n",
       "  0.8627  0.8118  0.8078  0.8235  0.8471  0.7765  0.6902  0.7725  1.0000\n",
       "  0.8000  0.7569  0.7686  0.8039  0.8000  0.7059  0.9176  0.9725  1.0000\n",
       "  0.7686  0.6980  0.7608  0.8431  0.7647  0.8314  0.9804  0.9686  1.0000\n",
       "  0.7333  0.6510  0.7294  0.8118  0.7490  0.9804  1.0000  0.9569  0.9608\n",
       "  0.7255  0.6667  0.7137  0.7216  0.7961  1.0000  0.9765  0.9569  0.9176\n",
       "  0.7529  0.7333  0.7412  0.6824  0.9137  0.9961  0.9294  1.0000  0.9137\n",
       "  0.7686  0.7922  0.7765  0.7333  0.9725  0.9176  0.9137  1.0000  0.9451\n",
       "  0.7961  0.8510  0.8196  0.8706  0.9294  0.8667  0.9569  1.0000  0.9725\n",
       "  0.8314  0.9098  0.8706  1.0000  0.8745  0.8471  0.9765  1.0000  1.0000\n",
       "  0.8392  0.6314  0.5922  0.8627  0.9451  1.0000  1.0000  1.0000  1.0000\n",
       "  0.8196  0.6667  0.7137  0.8902  0.9569  1.0000  1.0000  1.0000  1.0000\n",
       "  0.7686  0.7176  0.8863  0.9294  0.9608  1.0000  1.0000  1.0000  0.9725\n",
       "  0.7137  0.7765  1.0000  0.9608  0.9686  1.0000  1.0000  1.0000  0.9569\n",
       "  0.6627  0.8392  1.0000  0.9843  0.9686  0.9765  1.0000  1.0000  0.9216\n",
       "  0.6510  0.9216  1.0000  1.0000  0.9686  0.9373  0.9843  1.0000  0.8941\n",
       "  0.6706  1.0000  1.0000  1.0000  0.9765  0.9216  0.9608  1.0000  0.8784\n",
       "  0.6667  1.0000  1.0000  1.0000  0.9922  0.9137  0.9451  1.0000  0.8745\n",
       "  0.8314  0.9725  1.0000  1.0000  1.0000  0.9176  0.9294  1.0000  0.8784\n",
       "  0.8549  0.9686  1.0000  1.0000  1.0000  0.9333  0.9294  1.0000  0.9059\n",
       "  0.9176  0.9725  1.0000  1.0000  1.0000  0.9569  0.9333  0.9843  0.9412\n",
       "  0.9529  0.9569  1.0000  1.0000  1.0000  0.9882  0.9412  0.9686  0.9843\n",
       "  0.9608  0.9412  0.9961  1.0000  1.0000  1.0000  0.9608  0.9490  1.0000\n",
       "  0.9412  0.9333  0.9804  1.0000  1.0000  1.0000  0.9922  0.9255  1.0000\n",
       "  0.9294  0.9333  0.9765  1.0000  1.0000  1.0000  1.0000  0.9098  1.0000\n",
       "  0.9216  0.9412  0.9725  1.0000  1.0000  1.0000  1.0000  0.9059  1.0000\n",
       "  0.9137  1.0000  1.0000  1.0000  0.9843  0.9216  0.9451  1.0000  0.9333\n",
       "  0.9176  1.0000  1.0000  1.0000  0.9843  0.9216  0.9451  1.0000  0.9412\n",
       "  0.9216  1.0000  1.0000  1.0000  0.9843  0.9294  0.9490  1.0000  0.9412\n",
       "  0.9294  1.0000  1.0000  1.0000  0.9882  0.9333  0.9569  1.0000  0.9412\n",
       "  0.9412  1.0000  1.0000  1.0000  0.9882  0.9451  0.9608  1.0000  0.9451\n",
       "  0.9490  1.0000  1.0000  1.0000  0.9882  0.9490  0.9725  1.0000  0.9490\n",
       "  0.9608  1.0000  1.0000  1.0000  0.9882  0.9608  0.9765  1.0000  0.9569\n",
       "  0.9725  1.0000  1.0000  1.0000  0.9882  0.9765  0.98"
      ]
     },
     "execution_count": 86,
     "metadata": {},
     "output_type": "execute_result"
    },
    {
     "data": {
      "text/plain": [
       "82  1.0000  0.9608\n",
       "  0.9882  1.0000  1.0000  1.0000  0.9882  0.9882  1.0000  1.0000  0.9686\n",
       "  1.0000  1.0000  1.0000  0.9882  0.9882  1.0000  1.0000  1.0000  0.9686\n",
       "  1.0000  1.0000  0.9882  0.9765  0.9882  1.0000  1.0000  1.0000  0.9725\n",
       "  1.0000  1.0000  0.9725  0.9686  0.9882  1.0000  1.0000  1.0000  0.9765\n",
       "  1.0000  1.0000  0.9608  0.9569  0.9882  1.0000  1.0000  1.0000  0.9843\n",
       "  1.0000  1.0000  0.9569  0.9451  0.9961  1.0000  1.0000  1.0000  0.9843\n",
       "  1.0000  1.0000  0.9451  0.9412  0.9961  1.0000  1.0000  1.0000  0.9882\n",
       "  1.0000  1.0000  0.9451  0.9412  0.9961  1.0000  1.0000  1.0000  0.9882\n",
       "  1.0000  1.0000  1.0000  0.9843  0.9294  0.9333  1.0000  1.0000  1.0000\n",
       "  1.0000  1.0000  1.0000  0.9843  0.9294  0.9333  1.0000  1.0000  1.0000\n",
       "  1.0000  1.0000  1.0000  0.9882  0.9333  0.9412  1.0000  1.0000  1.0000\n",
       "  1.0000  1.0000  1.0000  0.9882  0.9412  0.9451  1.0000  1.0000  1.0000\n",
       "  1.0000  1.0000  1.0000  0.9961  0.9490  0.9569  0.9961  1.0000  1.0000\n",
       "  1.0000  1.0000  1.0000  1.0000  0.9608  0.9686  0.9961  1.0000  1.0000\n",
       "  1.0000  1.0000  1.0000  1.0000  0.9765  0.9725  0.9961  1.0000  1.0000\n",
       "  1.0000  1.0000  1.0000  1.0000  0.9882  0.9843  0.9961  1.0000  1.0000\n",
       "  1.0000  1.0000  1.0000  1.0000  1.0000  0.9961  0.9961  0.9961  1.0000\n",
       "  1.0000  1.0000  1.0000  1.0000  1.0000  1.0000  0.9961  0.9843  1.0000\n",
       "  0.9961  0.9961  1.0000  1.0000  1.0000  1.0000  0.9882  0.9725  1.0000\n",
       "  0.9882  0.9843  1.0000  1.0000  1.0000  1.0000  0.9882  0.9608  1.0000\n",
       "  0.9843  0.9765  0.9961  1.0000  1.0000  1.0000  0.9882  0.9490  1.0000\n",
       "  0.9765  0.9686  0.9882  1.0000  1.0000  1.0000  0.9882  0.9451  1.0000\n",
       "  0.9765  0.9686  0.9882  1.0000  1.0000  1.0000  0.9882  0.9412  1.0000\n",
       "  0.9725  0.9608  0.9882  1.0000  1.0000  1.0000  0.9882  0.9412  1.0000\n",
       "  1.0000  1.0000  1.0000  0.9490  0.9608  1.0000  1.0000  1.0000  1.0000\n",
       "  1.0000  1.0000  1.0000  0.9490  0.9608  1.0000  1.0000  1.0000  1.0000\n",
       "  1.0000  1.0000  1.0000  0.9490  0.9608  1.0000  1.0000  1.0000  1.0000\n",
       "  1.0000  1.0000  1.0000  0.9490  0.9608  1.0000  1.0000  1.0000  1.0000\n",
       "  1.0000  1.0000  1.0000  0.9490  0.9608  1.0000  1.0000  1.0000  1.0000\n",
       "  1.0000  1.0000  1.0000  0.9569  0.9608  1.0000  1.0000  1.0000  1.0000\n",
       "  1.0000  1.0000  1.0000  0.9569  0.9608  1.0000  1.0000  1.0000  1.0000\n",
       "  1.0000  1.0000  1.0000  0.9569  0.9608  1.0000  1.0000  1.0000  1.0000\n",
       "  1.0000  1.0000  1.0000  0.9569  0.9608  1.0000  1.0000  1.0000  1.0000\n",
       "  1.0000  1.0000  1.0000  0.9569  0.9608  1.0000  1.0000  1.0000  1.0000\n",
       "  1.0000  1.0000  1.0000  0.9569  0.9608  1.0000  1.0000  1.0000  1.0000\n",
       "  1.0000  1.0000  1.0000  0.9608  0.9608  1.0000  1.0000  1.0000  1.0000\n",
       "  1.0000  1.0000  1.0000  0.9608  0.9608  1.0000  1.0000  1.0000  1.0000\n",
       "  1.0000  1.0000  1.0000  0.9608  0.9608  1.0000  1.0000  1.0000  1.0000\n",
       "  1.0000  1.0000  1.0000  0.9608  0.9608  1.0000  1.0000  1.0000  1.0000\n",
       "  1.0000  1.0000  1.0000  0.9608  0.9608  1.0000  1.0000  1.0000  1.0000\n",
       "  0.8392  0.8941  0.9961  1.0000  1.0000  0.9608  0.9490  0.9608  0.9765\n",
       "  0.8745  0.9294  1.0000  1.0000  1.0000  0.9765  0.9569  0.9686  0.9961\n",
       "  0.9176  0.9765  1.0000  1.0000  1.0000  1.0000  0.9725  0.9686  1.0000\n",
       "  0.9569  1.0000  1.0000  1.0000  1.0000  1.0000  0.9725  0.9686  1.0000\n",
       "  0.9725  1.0000  1.0000  1.0000  1.0000  1.0000  0.9686  0.9569  1.0000\n",
       "  0.9647  1.0000  1.0000  1.0000  1.0000  0.9804  0.9529  0.9412  0.9882\n",
       "  0.9529  0.9686  0.9922  0.9961  0.9804  0.9647  0.9529  0.9569  0.9686\n",
       "  0.9647  0.9412  0.9412  0.9412  0.9529  0.9686  0.9922  1.0000  0.9686\n",
       "  1.0000  0.9216  0.9098  0.9294  0.9333  0.9647  1.0000  1.0000  0.9569\n",
       "  0.8353  0.9255  0.9490  0.8667  0.6863  0.7686  0.8784  0.8824  0.9569\n",
       "  0.7961  0.8824  0.9294  0.9176  0.7451  0.9294  1.0000  0.9843  0.7608\n",
       "  0.9608  0.8706  0.8235  0.9804  0.8784  1.0000  1.0000  1.0000  0.9098\n",
       "  1.0000  0.9059  0.8235  0.9725  0.8706  0.9843  0.9922  1.0000  1.0000\n",
       "  0.9922  0.9804  0.8706  0.9020  0.8784  1.0000  1.0000  1.0000  0.8863\n",
       "  0.9922  1.0000  0.8941  0.8000  0.8627  0.9804  0.9255  0.8667  0.8824\n",
       "  0.9020  1.0000  0.9098  0.7843  0.8706  0.9137  0.8824  0.88"
      ]
     },
     "execution_count": 86,
     "metadata": {},
     "output_type": "execute_result"
    },
    {
     "data": {
      "text/plain": [
       "63  0.8863\n",
       "  0.9490  0.9686  0.9137  0.8235  0.8431  0.9608  1.0000  0.9059  0.8667\n",
       "  0.9333  0.9765  0.9333  0.8118  0.8588  0.9608  0.9961  0.9098  0.8980\n",
       "  0.9216  0.9843  0.9529  0.7804  0.8863  0.9569  1.0000  0.9255  0.9333\n",
       "  0.9451  0.9843  0.9294  0.7686  0.8980  0.9569  1.0000  0.9333  0.9490\n",
       "  0.9765  0.9569  0.8941  0.7843  0.8941  0.9725  1.0000  0.9412  0.9569\n",
       "  0.9843  0.9137  0.8510  0.8510  0.8667  0.9608  0.9882  0.9333  0.9569\n",
       "  0.9490  0.8471  0.8275  0.9451  0.8314  0.9294  0.9490  0.9176  0.9451\n",
       "  0.8941  0.7882  0.8118  1.0000  0.7922  0.8863  0.9020  0.8941  0.9255\n",
       "  0.7647  0.8824  0.9725  0.9216  0.8078  0.7647  0.7922  0.8196  0.9137\n",
       "  0.8627  0.9490  1.0000  0.9843  0.9216  0.8980  0.9216  0.9412  0.9765\n",
       "  0.9608  0.9843  1.0000  1.0000  0.9922  0.9922  1.0000  1.0000  1.0000\n",
       "  0.9569  0.9686  1.0000  1.0000  0.9843  0.9843  0.9843  0.9765  1.0000\n",
       "  0.9333  0.9608  1.0000  1.0000  1.0000  0.9725  0.9569  0.9569  1.0000\n",
       "  0.9137  0.9686  1.0000  1.0000  1.0000  0.9725  0.9490  0.9569  1.0000\n",
       "  0.9098  0.9569  1.0000  1.0000  1.0000  0.9765  0.9451  0.9451  1.0000\n",
       "  0.9059  0.9647  1.0000  1.0000  1.0000  0.9765  0.9373  0.9333  1.0000\n",
       "  0.9843  0.9961  1.0000  1.0000  1.0000  1.0000  1.0000  1.0000  1.0000\n",
       "  0.9843  0.9961  1.0000  1.0000  1.0000  1.0000  1.0000  1.0000  1.0000\n",
       "  0.9843  0.9961  1.0000  1.0000  1.0000  1.0000  1.0000  0.9961  1.0000\n",
       "  0.9843  0.9961  1.0000  1.0000  1.0000  1.0000  1.0000  0.9961  1.0000\n",
       "  0.9882  0.9961  1.0000  1.0000  1.0000  1.0000  1.0000  0.9961  1.0000\n",
       "  0.9882  1.0000  1.0000  1.0000  1.0000  1.0000  0.9961  0.9961  1.0000\n",
       "  0.9882  1.0000  1.0000  1.0000  1.0000  1.0000  0.9961  0.9882  1.0000\n",
       "  0.9961  1.0000  1.0000  1.0000  1.0000  1.0000  0.9961  0.9882  1.0000\n",
       "  0.9961  1.0000  1.0000  1.0000  1.0000  1.0000  0.9882  0.9843  1.0000\n",
       "  0.9961  1.0000  1.0000  1.0000  1.0000  1.0000  0.9882  0.9843  1.0000\n",
       "  1.0000  1.0000  1.0000  1.0000  1.0000  1.0000  0.9882  0.9843  1.0000\n",
       "  1.0000  1.0000  1.0000  1.0000  1.0000  0.9961  0.9843  0.9765  1.0000\n",
       "  1.0000  1.0000  1.0000  1.0000  1.0000  0.9961  0.9843  0.9765  1.0000\n",
       "  1.0000  1.0000  1.0000  1.0000  1.0000  0.9961  0.9843  0.9765  1.0000\n",
       "  1.0000  1.0000  1.0000  1.0000  1.0000  0.9961  0.9843  0.9765  1.0000\n",
       "  1.0000  1.0000  1.0000  1.0000  1.0000  0.9961  0.9843  0.9765  1.0000\n",
       "\n",
       "Columns 82 to 90\n",
       "  0.8118  0.7882  0.8039  0.8078  0.7765  0.7804  0.7765  1.0000  0.9961\n",
       "  0.8078  0.8039  0.8157  0.8314  0.7882  0.7373  0.6667  0.7922  0.9412\n",
       "  0.7922  0.8510  0.8510  0.8353  0.7765  0.7216  0.6706  0.6196  0.7922\n",
       "  0.7686  0.8941  0.9098  0.8431  0.7529  0.7451  0.7843  0.6745  0.6471\n",
       "  0.6784  0.8196  0.8824  0.8549  0.7608  0.7608  0.8392  0.7608  0.6471\n",
       "  0.6039  0.6706  0.7647  0.8471  0.8314  0.7882  0.8000  0.7686  0.7608\n",
       "  0.7961  0.7373  0.7020  0.8078  0.8980  0.8471  0.7686  0.7647  0.8431\n",
       "  1.0000  0.9137  0.6941  0.7412  0.8941  0.8784  0.7569  0.8039  0.8392\n",
       "  1.0000  0.9255  0.9098  0.7373  0.8196  0.8392  0.7569  0.7725  0.8706\n",
       "  0.9451  0.8941  0.9294  0.8510  0.7373  0.7922  0.7686  0.7765  0.8275\n",
       "  0.9176  0.9020  0.9569  0.9725  0.6824  0.7020  0.7843  0.8039  0.7922\n",
       "  0.9137  0.9333  0.9490  0.9922  0.7373  0.6196  0.8000  0.8196  0.7961\n",
       "  0.9451  1.0000  0.9686  0.9686  0.8824  0.5882  0.7490  0.8000  0.8314\n",
       "  0.9922  1.0000  1.0000  0.9529  0.9882  0.6471  0.6431  0.7686  0.8471\n",
       "  1.0000  1.0000  1.0000  0.9882  0.9882  0.8196  0.5961  0.7569  0.8549\n",
       "  1.0000  1.0000  1.0000  1.0000  0.9725  1.0000  0.6431  0.7569  0.8667\n",
       "  0.9451  0.9255  0.9961  0.9961  0.9725  0.9255  0.7137  0.6863  0.8588\n",
       "  0.9451  0.9412  1.0000  0.9961  0.9725  0.9686  0.8588  0.7020  0.8196\n",
       "  0.9686  0.9765  1.0000  1.0000  0.9686  0.9765  1.0000  0.7490  0.7373\n",
       "  0.9765  1.0000  1.0000  1.0000  0.9490  0.9686  1.0000  0.8353  0.6549\n",
       "  0.9882  1.0000  1.0000  0.9961  0.9529  0.9373  1.0000  0.9294  0.6196\n",
       "  0.9843  1.0000  1.0000  0.9882  0.9608  0.9373  1.0000  0.9961  0.6549\n",
       "  0.9725  1.0000  1.0000  0.9765  0.9608  0.9647  0.9961  1.0000  0.7373\n",
       "  0.9765  1.0000  1.0000  0.9608  0.9686  0.9765  0."
      ]
     },
     "execution_count": 86,
     "metadata": {},
     "output_type": "execute_result"
    },
    {
     "data": {
      "text/plain": [
       "9686  0.9569  0.7922\n",
       "  1.0000  1.0000  1.0000  0.9843  0.9725  0.9882  0.9490  0.9176  0.9255\n",
       "  1.0000  1.0000  1.0000  0.9882  0.9843  0.9882  0.9451  0.9098  0.9294\n",
       "  1.0000  1.0000  1.0000  1.0000  1.0000  0.9961  0.9451  0.9137  0.9686\n",
       "  0.9961  1.0000  1.0000  1.0000  1.0000  1.0000  0.9490  0.9333  0.9961\n",
       "  0.9882  0.9608  0.9765  1.0000  1.0000  1.0000  0.9608  0.9529  1.0000\n",
       "  0.9765  0.9216  0.9608  1.0000  1.0000  1.0000  0.9765  0.9765  1.0000\n",
       "  0.9725  0.8902  0.9451  1.0000  1.0000  1.0000  0.9843  1.0000  1.0000\n",
       "  0.9725  0.8784  0.9333  1.0000  1.0000  1.0000  0.9882  1.0000  1.0000\n",
       "  0.9608  1.0000  1.0000  1.0000  0.9608  0.9176  1.0000  1.0000  1.0000\n",
       "  0.9608  1.0000  1.0000  1.0000  0.9608  0.9176  1.0000  1.0000  1.0000\n",
       "  0.9608  1.0000  1.0000  1.0000  0.9686  0.9216  1.0000  1.0000  1.0000\n",
       "  0.9686  1.0000  1.0000  1.0000  0.9686  0.9294  1.0000  1.0000  1.0000\n",
       "  0.9725  1.0000  1.0000  1.0000  0.9725  0.9412  1.0000  1.0000  1.0000\n",
       "  0.9765  1.0000  1.0000  1.0000  0.9765  0.9490  1.0000  1.0000  1.0000\n",
       "  0.9843  1.0000  1.0000  1.0000  0.9765  0.9608  1.0000  1.0000  1.0000\n",
       "  0.9882  1.0000  1.0000  1.0000  0.9843  0.9725  0.9961  1.0000  1.0000\n",
       "  0.9961  1.0000  1.0000  1.0000  0.9882  0.9843  0.9961  1.0000  1.0000\n",
       "  1.0000  1.0000  1.0000  1.0000  0.9961  0.9961  0.9961  0.9843  1.0000\n",
       "  1.0000  1.0000  1.0000  0.9882  1.0000  1.0000  0.9882  0.9647  0.9961\n",
       "  1.0000  1.0000  0.9961  0.9765  1.0000  1.0000  0.9882  0.9569  0.9882\n",
       "  1.0000  1.0000  0.9882  0.9725  1.0000  1.0000  0.9882  0.9451  0.9882\n",
       "  1.0000  1.0000  0.9765  0.9686  1.0000  1.0000  0.9843  0.9412  0.9843\n",
       "  1.0000  1.0000  0.9725  0.9608  1.0000  1.0000  0.9843  0.9333  0.9804\n",
       "  1.0000  1.0000  0.9725  0.9608  1.0000  1.0000  0.9843  0.9255  0.9647\n",
       "  1.0000  1.0000  1.0000  0.9961  0.9882  0.9843  0.9843  0.9882  1.0000\n",
       "  1.0000  1.0000  1.0000  0.9961  0.9882  0.9843  0.9843  0.9882  1.0000\n",
       "  1.0000  1.0000  1.0000  0.9961  0.9882  0.9843  0.9843  0.9882  1.0000\n",
       "  1.0000  1.0000  1.0000  0.9961  0.9882  0.9843  0.9843  0.9882  1.0000\n",
       "  1.0000  1.0000  1.0000  0.9961  0.9882  0.9882  0.9882  0.9843  0.9922\n",
       "  1.0000  1.0000  1.0000  0.9961  0.9882  0.9882  0.9882  0.9922  0.9843\n",
       "  1.0000  1.0000  1.0000  0.9961  0.9961  0.9882  0.9882  0.9961  0.9765\n",
       "  1.0000  1.0000  1.0000  1.0000  0.9961  0.9961  0.9961  0.9961  0.9725\n",
       "  1.0000  1.0000  1.0000  1.0000  0.9961  0.9961  0.9961  0.9961  1.0000\n",
       "  1.0000  1.0000  1.0000  1.0000  1.0000  0.9961  0.9961  1.0000  1.0000\n",
       "  1.0000  1.0000  1.0000  1.0000  1.0000  1.0000  1.0000  1.0000  1.0000\n",
       "  1.0000  1.0000  1.0000  1.0000  1.0000  1.0000  1.0000  1.0000  1.0000\n",
       "  1.0000  1.0000  1.0000  1.0000  1.0000  1.0000  1.0000  1.0000  1.0000\n",
       "  1.0000  1.0000  1.0000  1.0000  1.0000  1.0000  1.0000  1.0000  1.0000\n",
       "  1.0000  1.0000  1.0000  1.0000  1.0000  1.0000  1.0000  1.0000  1.0000\n",
       "  1.0000  1.0000  1.0000  1.0000  1.0000  1.0000  1.0000  1.0000  1.0000\n",
       "  1.0000  1.0000  1.0000  1.0000  1.0000  1.0000  1.0000  1.0000  1.0000\n",
       "  1.0000  1.0000  1.0000  1.0000  1.0000  1.0000  1.0000  1.0000  1.0000\n",
       "  1.0000  1.0000  1.0000  1.0000  1.0000  1.0000  1.0000  1.0000  1.0000\n",
       "  1.0000  1.0000  1.0000  1.0000  1.0000  1.0000  1.0000  1.0000  1.0000\n",
       "  1.0000  1.0000  1.0000  1.0000  1.0000  1.0000  1.0000  1.0000  1.0000\n",
       "  1.0000  1.0000  1.0000  1.0000  1.0000  1.0000  1.0000  1.0000  1.0000\n",
       "  1.0000  1.0000  1.0000  1.0000  1.0000  1.0000  1.0000  1.0000  1.0000\n",
       "  1.0000  1.0000  1.0000  1.0000  1.0000  1.0000  1.0000  1.0000  1.0000\n",
       "  1.0000  1.0000  1.0000  1.0000  1.0000  1.0000  1.0000  1.0000  1.0000\n",
       "  1.0000  1.0000  1.0000  1.0000  1.0000  1.0000  1.0000  1.0000  1.0000\n",
       "  1.0000  1.0000  1.0000  1.0000  1.0000  1.0000  1.0000  1.0000  1.0000\n",
       "  1.0000  1.0000  1.0000  1.0000  1.0000  1.0000  1.0000  1.0000  1.0000\n",
       "  1.0000  1.0000  1.0000  1.0000  1.0000  1.0000  1.0000  1.0000  1.0000\n",
       "  1.0000  1.0000  1.0000  1.0000  1.0000  1.0000  1.0000  1.0000  1.0000\n",
       "  1.0000  1.0000  1.0000  1.0000  1.0000  1.0000  1.0000  1.0000  1.0000\n",
       "  1.0000  1.0000  1.0000  1.0000  1.0000  1.0000  1.0000  1."
      ]
     },
     "execution_count": 86,
     "metadata": {},
     "output_type": "execute_result"
    },
    {
     "data": {
      "text/plain": [
       "0000  1.0000\n",
       "  0.9765  0.9843  0.9843  0.9843  0.9765  0.9765  0.9765  0.9725  0.9686\n",
       "  1.0000  1.0000  1.0000  1.0000  1.0000  0.9961  0.9961  0.9882  0.9882\n",
       "  1.0000  1.0000  1.0000  1.0000  1.0000  1.0000  1.0000  1.0000  1.0000\n",
       "  1.0000  1.0000  1.0000  1.0000  1.0000  1.0000  1.0000  1.0000  1.0000\n",
       "  1.0000  1.0000  1.0000  1.0000  1.0000  1.0000  1.0000  1.0000  1.0000\n",
       "  0.9882  0.9882  0.9882  0.9882  0.9882  0.9882  0.9961  0.9922  0.9922\n",
       "  0.9686  0.9686  0.9608  0.9608  0.9608  0.9686  0.9686  0.9647  0.9686\n",
       "  0.9608  0.9608  0.9608  0.9608  0.9569  0.9608  0.9608  0.9647  0.9647\n",
       "  0.9569  0.9725  0.9725  0.9451  0.9725  0.9882  0.9765  0.9882  0.9961\n",
       "  0.8196  0.7020  0.6902  0.7725  0.9020  1.0000  1.0000  1.0000  0.9020\n",
       "  0.8275  0.8980  0.8941  0.8157  0.8118  0.9569  1.0000  1.0000  0.8980\n",
       "  0.9373  0.9647  0.9686  0.9216  0.8824  0.9490  1.0000  0.9059  0.8941\n",
       "  0.9961  0.9294  0.9333  0.9804  0.9529  0.9412  1.0000  0.8980  0.9451\n",
       "  0.9569  0.9686  0.9686  0.9804  0.9098  0.8745  0.9608  0.8588  0.8980\n",
       "  0.9216  0.8510  0.8157  0.8902  0.8667  0.8314  0.8902  0.7804  0.7373\n",
       "  0.9765  0.9333  0.8588  0.8980  0.8588  0.8157  0.8784  0.9647  0.8118\n",
       "  0.9725  0.8941  0.7922  1.0000  1.0000  0.9569  0.9569  0.8431  0.8667\n",
       "  0.9882  0.9255  0.8039  0.9922  1.0000  0.9490  0.8824  0.8510  0.9333\n",
       "  1.0000  0.9647  0.8314  0.9804  1.0000  0.9529  0.8000  0.8784  0.9686\n",
       "  1.0000  0.9882  0.8549  0.9765  1.0000  0.9725  0.7529  0.9059  0.9490\n",
       "  1.0000  0.9882  0.8471  0.9686  1.0000  0.9490  0.7255  0.9294  0.9255\n",
       "  1.0000  0.9686  0.8078  0.9451  0.9961  0.9059  0.7255  0.9333  0.9098\n",
       "  1.0000  0.9373  0.7647  0.9373  0.9725  0.8745  0.7647  0.8588  0.9176\n",
       "  1.0000  0.9098  0.7333  0.9294  0.9529  0.8627  0.8039  0.7294  0.9373\n",
       "  0.9961  0.8588  0.7216  0.8157  0.8157  0.7843  0.8980  0.8549  0.8353\n",
       "  0.9843  0.9098  0.8275  0.9255  0.9490  0.9137  0.9647  0.9490  0.9529\n",
       "  0.9765  0.9373  0.9216  1.0000  1.0000  1.0000  0.9843  0.9843  1.0000\n",
       "  0.9725  0.9412  0.9529  1.0000  1.0000  1.0000  0.9294  0.9608  1.0000\n",
       "  0.9804  0.9490  0.9608  0.9882  1.0000  0.9882  0.9176  0.9490  1.0000\n",
       "  1.0000  0.9608  0.9686  0.9922  1.0000  0.9843  0.9373  0.9451  1.0000\n",
       "  1.0000  0.9686  0.9686  1.0000  1.0000  0.9804  0.9412  0.9373  0.9961\n",
       "  1.0000  0.9647  0.9686  1.0000  1.0000  0.9725  0.9373  0.9490  1.0000\n",
       "  1.0000  1.0000  1.0000  1.0000  1.0000  1.0000  1.0000  1.0000  1.0000\n",
       "  1.0000  1.0000  1.0000  1.0000  1.0000  1.0000  1.0000  1.0000  1.0000\n",
       "  1.0000  1.0000  1.0000  1.0000  1.0000  1.0000  1.0000  1.0000  1.0000\n",
       "  1.0000  1.0000  1.0000  1.0000  1.0000  1.0000  1.0000  1.0000  1.0000\n",
       "  1.0000  1.0000  1.0000  1.0000  1.0000  1.0000  1.0000  1.0000  1.0000\n",
       "  1.0000  1.0000  1.0000  1.0000  1.0000  1.0000  1.0000  1.0000  1.0000\n",
       "  1.0000  1.0000  1.0000  1.0000  1.0000  1.0000  1.0000  1.0000  1.0000\n",
       "  1.0000  1.0000  1.0000  1.0000  1.0000  1.0000  1.0000  1.0000  1.0000\n",
       "  1.0000  1.0000  1.0000  1.0000  1.0000  1.0000  1.0000  1.0000  1.0000\n",
       "  1.0000  1.0000  1.0000  1.0000  1.0000  1.0000  1.0000  1.0000  1.0000\n",
       "  1.0000  1.0000  1.0000  1.0000  1.0000  1.0000  1.0000  1.0000  1.0000\n",
       "  1.0000  1.0000  1.0000  1.0000  1.0000  1.0000  1.0000  1.0000  1.0000\n",
       "  1.0000  1.0000  1.0000  1.0000  1.0000  1.0000  1.0000  1.0000  1.0000\n",
       "  1.0000  1.0000  1.0000  1.0000  1.0000  1.0000  1.0000  1.0000  1.0000\n",
       "  1.0000  1.0000  1.0000  1.0000  1.0000  1.0000  1.0000  1.0000  1.0000\n",
       "  1.0000  1.0000  1.0000  1.0000  1.0000  1.0000  1.0000  1.0000  1.0000\n",
       "\n",
       "Columns 91 to 99\n",
       "  0.9176  0.9647  1.0000  1.0000  1.0000  1.0000  1.0000  1.0000  1.0000\n",
       "  0.9569  0.9294  1.0000  1.0000  0.9843  0.9882  1.0000  1.0000  1.0000\n",
       "  0.9843  0.9490  1.0000  1.0000  0.9490  0.9569  1.0000  1.0000  1.0000\n",
       "  0.8902  1.0000  0.9765  1.0000  0.9882  0.9137  1.0000  1.0000  1.0000\n",
       "  0.7333  0.9922  1.0000  0.9529  0.9608  0.9176  1.0000  1.0000  1.0000\n",
       "  0.6471  0.8471  1.0000  0.9176  0.9216  0.9725  1.0000  1.0000  1.0000\n",
       "  0.7216  0.7176  0.8824  0.9020  0.9020  1.0000  1.0000  1.0000  1.0000\n",
       "  0.8588  0.6902  0.7059  0.9176  0.9569  1.0000  "
      ]
     },
     "execution_count": 86,
     "metadata": {},
     "output_type": "execute_result"
    },
    {
     "data": {
      "text/plain": [
       "1.0000  1.0000  1.0000\n",
       "  0.9098  0.7176  0.5725  0.8627  0.9804  1.0000  0.9961  1.0000  0.9922\n",
       "  0.8784  0.7765  0.6471  0.7686  1.0000  1.0000  1.0000  1.0000  1.0000\n",
       "  0.8353  0.8078  0.7137  0.6627  0.9961  1.0000  1.0000  1.0000  1.0000\n",
       "  0.8000  0.8235  0.7843  0.6667  0.8706  1.0000  0.9961  0.9843  0.9882\n",
       "  0.7922  0.8196  0.8275  0.7451  0.7059  1.0000  1.0000  0.9882  0.9804\n",
       "  0.8157  0.8235  0.8275  0.7804  0.6157  0.9216  0.9804  1.0000  1.0000\n",
       "  0.8667  0.8549  0.8039  0.7098  0.6627  0.7804  0.8824  0.9725  1.0000\n",
       "  0.9176  0.8824  0.7804  0.6275  0.7529  0.6667  0.7804  0.9255  1.0000\n",
       "  0.7647  0.7647  0.7176  0.7804  0.7725  0.7490  0.6588  1.0000  1.0000\n",
       "  0.8039  0.7569  0.7137  0.7882  0.7922  0.7490  0.5608  0.9529  1.0000\n",
       "  0.8314  0.7608  0.7255  0.8000  0.8000  0.7647  0.5059  0.7922  1.0000\n",
       "  0.8078  0.7725  0.7725  0.8000  0.7882  0.7765  0.5843  0.6824  1.0000\n",
       "  0.7451  0.8078  0.8314  0.7922  0.7647  0.8000  0.6941  0.6314  0.9412\n",
       "  0.6941  0.8353  0.8667  0.7922  0.7529  0.8275  0.7725  0.6314  0.8039\n",
       "  0.6745  0.8510  0.8627  0.8000  0.7686  0.8431  0.8431  0.7059  0.6706\n",
       "  0.6627  0.8431  0.8431  0.8157  0.7922  0.8588  0.9216  0.8078  0.6118\n",
       "  0.6588  0.8039  0.8627  0.7804  0.7961  0.8392  0.9294  0.8314  0.6275\n",
       "  0.7216  0.7529  0.8431  0.7961  0.7961  0.8314  0.9373  0.8431  0.6941\n",
       "  0.8392  0.7020  0.8118  0.8196  0.7961  0.8275  0.9059  0.8392  0.7569\n",
       "  0.9412  0.6510  0.7490  0.8235  0.8000  0.8196  0.8353  0.8392  0.7961\n",
       "  0.9922  0.6471  0.6863  0.8118  0.8078  0.8118  0.7647  0.8392  0.8039\n",
       "  1.0000  0.7176  0.6471  0.7961  0.8314  0.7843  0.7176  0.8196  0.8235\n",
       "  1.0000  0.8314  0.6471  0.7843  0.8510  0.7529  0.6941  0.7804  0.8510\n",
       "  1.0000  0.9176  0.6588  0.7843  0.8588  0.7255  0.6980  0.7529  0.8745\n",
       "  0.9059  0.8118  0.5373  0.7490  0.8275  0.8667  0.8784  0.7765  0.7333\n",
       "  0.9176  0.8510  0.6314  0.7373  0.8392  0.8510  0.8863  0.7804  0.7294\n",
       "  0.9216  0.9059  0.7647  0.7137  0.8392  0.8353  0.8941  0.7804  0.7216\n",
       "  0.9294  0.9412  0.8902  0.6902  0.8314  0.8157  0.8980  0.7804  0.7294\n",
       "  0.9294  0.9490  0.9725  0.7020  0.7922  0.8000  0.8824  0.7843  0.7412\n",
       "  0.9333  0.9608  1.0000  0.7490  0.7451  0.7922  0.8667  0.8000  0.7608\n",
       "  0.9569  0.9765  1.0000  0.8157  0.6902  0.7804  0.8471  0.8157  0.7804\n",
       "  0.9882  0.9961  1.0000  0.8431  0.6431  0.7765  0.8353  0.8275  0.8000\n",
       "  1.0000  1.0000  1.0000  0.9608  0.6353  0.7255  0.8353  0.8118  0.7922\n",
       "  1.0000  1.0000  1.0000  0.9647  0.6353  0.7098  0.8235  0.8078  0.8000\n",
       "  1.0000  1.0000  0.9922  0.9882  0.6706  0.6941  0.8078  0.8078  0.8039\n",
       "  1.0000  1.0000  0.9804  1.0000  0.7216  0.6745  0.7922  0.8078  0.8039\n",
       "  1.0000  1.0000  0.9529  1.0000  0.7922  0.6667  0.7725  0.7961  0.8078\n",
       "  1.0000  1.0000  0.9412  0.9725  0.8745  0.6824  0.7529  0.7843  0.8039\n",
       "  1.0000  1.0000  0.9373  0.9490  0.9647  0.7255  0.7333  0.7725  0.8039\n",
       "  1.0000  1.0000  0.9412  0.9412  1.0000  0.7569  0.7255  0.7686  0.8000\n",
       "  1.0000  1.0000  1.0000  1.0000  0.9882  0.5020  0.8392  0.7412  0.7333\n",
       "  1.0000  1.0000  1.0000  1.0000  1.0000  0.5804  0.8196  0.7294  0.7333\n",
       "  1.0000  1.0000  1.0000  1.0000  1.0000  0.6824  0.7922  0.7176  0.7294\n",
       "  1.0000  1.0000  1.0000  1.0000  1.0000  0.7804  0.7765  0.7059  0.7373\n",
       "  1.0000  1.0000  1.0000  1.0000  1.0000  0.8510  0.7647  0.7020  0.7373\n",
       "  1.0000  1.0000  1.0000  1.0000  1.0000  0.9059  0.7647  0.7059  0.7333\n",
       "  1.0000  0.9882  1.0000  1.0000  1.0000  0.9686  0.7608  0.7020  0.7412\n",
       "  1.0000  0.9725  1.0000  1.0000  1.0000  1.0000  0.7451  0.6941  0.7490\n",
       "  1.0000  1.0000  1.0000  1.0000  1.0000  1.0000  0.8314  0.6118  0.7961\n",
       "  1.0000  1.0000  1.0000  1.0000  1.0000  1.0000  0.8392  0.6196  0.8000\n",
       "  1.0000  1.0000  1.0000  1.0000  1.0000  0.9961  0.8784  0.6235  0.7922\n",
       "  1.0000  1.0000  1.0000  1.0000  0.9961  0.9922  0.9098  0.6314  0.7843\n",
       "  1.0000  1.0000  0.9961  0.9961  0.9922  0.9882  0.9333  0.6392  0.7804\n",
       "  1.0000  0.9961  0.9961  0.9961  0.9843  0.9804  0.9569  0.6667  0.8000\n",
       "  1.0000  0.9961  0.9961  0.9882  0.9843  0.9804  0.9804  0.7020  0.8314\n",
       "  1.0000  0.9961  0.9882  0.9882  0.9843  0.9765  0.9961  "
      ]
     },
     "execution_count": 86,
     "metadata": {},
     "output_type": "execute_result"
    },
    {
     "data": {
      "text/plain": [
       "0.7373  0.8667\n",
       "  1.0000  1.0000  1.0000  1.0000  1.0000  1.0000  0.8980  0.7882  0.6902\n",
       "  1.0000  1.0000  1.0000  1.0000  1.0000  1.0000  0.9176  0.8235  0.7059\n",
       "  1.0000  1.0000  1.0000  1.0000  1.0000  1.0000  0.9412  0.8784  0.7216\n",
       "  1.0000  1.0000  1.0000  1.0000  1.0000  1.0000  0.9412  0.9294  0.7255\n",
       "  1.0000  1.0000  1.0000  1.0000  1.0000  1.0000  0.9373  0.9686  0.7255\n",
       "  1.0000  1.0000  1.0000  1.0000  1.0000  1.0000  0.9373  1.0000  0.7255\n",
       "  1.0000  1.0000  1.0000  1.0000  1.0000  1.0000  0.9529  1.0000  0.7255\n",
       "  1.0000  1.0000  1.0000  1.0000  1.0000  1.0000  0.9608  1.0000  0.7137\n",
       "  1.0000  1.0000  1.0000  1.0000  1.0000  1.0000  0.9569  1.0000  0.7608\n",
       "  1.0000  1.0000  1.0000  1.0000  1.0000  1.0000  0.9686  1.0000  0.7529\n",
       "  1.0000  1.0000  1.0000  1.0000  1.0000  1.0000  0.9765  1.0000  0.7725\n",
       "  1.0000  1.0000  1.0000  1.0000  1.0000  1.0000  0.9843  1.0000  0.8078\n",
       "  1.0000  1.0000  1.0000  1.0000  1.0000  1.0000  0.9882  0.9843  0.8431\n",
       "  1.0000  1.0000  1.0000  1.0000  1.0000  1.0000  0.9961  0.9765  0.8824\n",
       "  1.0000  1.0000  1.0000  1.0000  1.0000  1.0000  0.9961  0.9725  0.9216\n",
       "  1.0000  1.0000  1.0000  1.0000  1.0000  1.0000  0.9961  0.9725  0.9412\n",
       "  0.9608  0.9608  0.9569  0.9490  0.9451  0.9451  0.9686  1.0000  1.0000\n",
       "  0.9843  0.9765  0.9725  0.9725  0.9686  0.9686  0.9490  0.9843  1.0000\n",
       "  1.0000  1.0000  1.0000  1.0000  1.0000  1.0000  0.8902  0.9333  1.0000\n",
       "  1.0000  1.0000  1.0000  1.0000  1.0000  1.0000  0.9059  0.9216  1.0000\n",
       "  1.0000  1.0000  1.0000  1.0000  1.0000  1.0000  0.9020  0.8824  0.9255\n",
       "  0.9961  0.9961  1.0000  1.0000  1.0000  1.0000  0.9843  0.9333  0.9490\n",
       "  0.9725  0.9804  0.9843  0.9843  0.9922  0.9922  1.0000  0.9529  0.9333\n",
       "  0.9686  0.9804  0.9843  0.9922  0.9961  0.9961  1.0000  0.9725  0.8431\n",
       "  0.9804  0.9059  0.8627  0.8863  0.9451  0.9843  1.0000  1.0000  0.9020\n",
       "  0.7843  0.7451  0.7647  0.7765  0.7882  0.8078  1.0000  0.9961  0.9216\n",
       "  0.8275  0.8706  0.9333  0.9255  0.8980  0.8941  0.9529  0.9373  0.9216\n",
       "  0.9216  0.9686  0.9765  0.9451  0.9490  0.9882  0.9490  0.8784  0.8667\n",
       "  0.9765  0.9373  0.8824  0.8745  0.9373  0.9882  1.0000  0.8431  0.7882\n",
       "  0.9059  0.8824  0.8824  0.9216  0.9569  0.9647  1.0000  0.8196  0.7490\n",
       "  0.7137  0.7490  0.8235  0.8706  0.8784  0.8627  1.0000  0.8235  0.7608\n",
       "  0.6941  0.7176  0.7843  0.8275  0.8549  0.8863  1.0000  0.8235  0.7882\n",
       "  0.9098  0.9608  0.8275  0.8745  0.9137  0.9569  0.9843  0.8353  0.8588\n",
       "  0.9137  0.8510  0.7725  0.7725  0.8549  1.0000  1.0000  0.8627  0.8863\n",
       "  0.9294  0.8588  0.9451  0.8941  0.8941  1.0000  1.0000  0.8745  0.8980\n",
       "  0.9647  0.9098  1.0000  0.9608  0.9529  1.0000  0.9725  0.8353  0.8627\n",
       "  0.9882  0.9059  0.8706  0.8196  0.9529  1.0000  0.9176  0.7804  0.8196\n",
       "  0.9686  0.9216  0.8353  0.8392  0.9725  1.0000  0.9176  0.7882  0.8314\n",
       "  0.9451  0.9569  0.9059  0.9137  0.9294  0.9922  0.9725  0.8588  0.9020\n",
       "  0.9333  0.9020  0.8196  0.7804  0.7686  0.9686  1.0000  0.9176  0.9725\n",
       "  0.8118  0.7804  0.7608  0.7765  0.8000  0.8235  0.9098  0.8784  0.9098\n",
       "  0.9490  0.9373  0.9176  0.9294  0.9608  0.9922  0.9686  0.9686  0.9922\n",
       "  1.0000  1.0000  1.0000  0.9843  1.0000  1.0000  0.9686  0.9725  0.9608\n",
       "  1.0000  1.0000  0.9765  0.9529  0.9882  1.0000  0.9059  0.9216  0.9569\n",
       "  1.0000  1.0000  0.9686  0.9333  0.9647  1.0000  0.9451  0.9490  1.0000\n",
       "  1.0000  1.0000  0.9686  0.9412  0.9686  1.0000  0.9569  0.9843  1.0000\n",
       "  1.0000  1.0000  0.9647  0.9333  0.9686  1.0000  0.9176  0.9333  1.0000\n",
       "  1.0000  1.0000  0.9686  0.9333  0.9686  1.0000  0.8941  0.9255  1.0000\n",
       "  1.0000  1.0000  1.0000  1.0000  1.0000  1.0000  0.9490  0.9922  1.0000\n",
       "  1.0000  1.0000  1.0000  1.0000  1.0000  1.0000  0.9490  0.9922  1.0000\n",
       "  1.0000  1.0000  1.0000  1.0000  1.0000  1.0000  0.9529  0.9922  1.0000\n",
       "  1.0000  1.0000  1.0000  1.0000  1.0000  1.0000  0.9569  0.9961  1.0000\n",
       "  1.0000  1.0000  1.0000  1.0000  1.0000  1.0000  0.9608  0.9961  1.0000\n",
       "  1.0000  1.0000  1.0000  1.0000  1.0000  1.0000  0.9608  0.9961  1.0000\n",
       "  1.0000  1.0000  1.0000  1.0000  1.0000  1.0000  0.9608  0.9961  1.0000\n",
       "  1.0000  1.0000  1.0000  1.0000  1.0000  1.0000  0.9608  0.9961  "
      ]
     },
     "execution_count": 86,
     "metadata": {},
     "output_type": "execute_result"
    },
    {
     "data": {
      "text/plain": [
       "1.0000\n",
       "  1.0000  1.0000  1.0000  1.0000  1.0000  1.0000  0.9529  1.0000  1.0000\n",
       "  1.0000  1.0000  1.0000  1.0000  1.0000  1.0000  0.9529  1.0000  1.0000\n",
       "  1.0000  1.0000  1.0000  1.0000  1.0000  1.0000  0.9529  1.0000  1.0000\n",
       "  1.0000  1.0000  1.0000  1.0000  1.0000  1.0000  0.9529  1.0000  1.0000\n",
       "  1.0000  1.0000  1.0000  1.0000  1.0000  1.0000  0.9529  1.0000  1.0000\n",
       "  1.0000  1.0000  1.0000  1.0000  1.0000  1.0000  0.9529  1.0000  1.0000\n",
       "  1.0000  1.0000  1.0000  1.0000  1.0000  1.0000  0.9529  1.0000  1.0000\n",
       "  1.0000  1.0000  1.0000  1.0000  1.0000  1.0000  0.9529  1.0000  1.0000\n",
       "\n",
       "Columns 100 to 108\n",
       "  1.0000  1.0000  1.0000  1.0000  1.0000  1.0000  1.0000  1.0000  1.0000\n",
       "  1.0000  1.0000  1.0000  1.0000  1.0000  1.0000  1.0000  1.0000  1.0000\n",
       "  1.0000  1.0000  1.0000  1.0000  1.0000  1.0000  1.0000  1.0000  1.0000\n",
       "  1.0000  1.0000  1.0000  1.0000  1.0000  1.0000  1.0000  1.0000  1.0000\n",
       "  1.0000  1.0000  1.0000  1.0000  1.0000  1.0000  1.0000  1.0000  1.0000\n",
       "  1.0000  1.0000  1.0000  1.0000  1.0000  1.0000  1.0000  1.0000  1.0000\n",
       "  1.0000  1.0000  1.0000  1.0000  1.0000  1.0000  1.0000  1.0000  1.0000\n",
       "  1.0000  1.0000  1.0000  1.0000  1.0000  1.0000  1.0000  1.0000  1.0000\n",
       "  0.9765  0.9882  1.0000  1.0000  0.9843  1.0000  1.0000  1.0000  1.0000\n",
       "  1.0000  0.9961  1.0000  1.0000  0.9922  1.0000  1.0000  1.0000  1.0000\n",
       "  1.0000  1.0000  0.9882  0.9922  1.0000  1.0000  1.0000  1.0000  1.0000\n",
       "  1.0000  1.0000  0.9882  0.9961  1.0000  1.0000  1.0000  1.0000  1.0000\n",
       "  0.9922  1.0000  0.9961  1.0000  1.0000  1.0000  1.0000  1.0000  1.0000\n",
       "  1.0000  0.9961  1.0000  1.0000  0.9961  1.0000  1.0000  1.0000  1.0000\n",
       "  1.0000  0.9843  1.0000  1.0000  0.9882  1.0000  1.0000  1.0000  1.0000\n",
       "  1.0000  0.9686  0.9922  1.0000  0.9922  1.0000  1.0000  1.0000  1.0000\n",
       "  0.9961  1.0000  1.0000  1.0000  1.0000  0.9569  0.9137  0.9412  1.0000\n",
       "  1.0000  1.0000  1.0000  1.0000  1.0000  0.9608  0.9216  0.9451  1.0000\n",
       "  1.0000  0.9804  1.0000  1.0000  1.0000  0.9725  0.9412  0.9490  1.0000\n",
       "  1.0000  0.9490  0.9922  1.0000  1.0000  0.9843  0.9569  0.9608  0.9961\n",
       "  1.0000  0.9686  0.9412  1.0000  1.0000  1.0000  0.9765  0.9765  0.9961\n",
       "  0.9922  0.9686  0.9412  0.9647  1.0000  1.0000  1.0000  0.9882  0.9882\n",
       "  0.9176  0.9725  0.9412  0.9373  1.0000  1.0000  1.0000  1.0000  0.9882\n",
       "  0.8549  0.9922  0.9412  0.9294  0.9882  1.0000  1.0000  1.0000  0.9961\n",
       "  0.6941  1.0000  0.9569  0.9451  0.9725  1.0000  1.0000  1.0000  1.0000\n",
       "  0.6667  0.9843  0.9686  0.9490  0.9490  1.0000  1.0000  1.0000  1.0000\n",
       "  0.6275  0.8941  1.0000  0.9569  0.9255  0.9961  1.0000  1.0000  1.0000\n",
       "  0.6510  0.7843  1.0000  0.9725  0.9255  0.9765  1.0000  1.0000  1.0000\n",
       "  0.7412  0.7059  1.0000  0.9804  0.9333  0.9608  1.0000  1.0000  1.0000\n",
       "  0.8275  0.6824  0.9686  0.9647  0.9216  0.9412  1.0000  1.0000  1.0000\n",
       "  0.8627  0.7020  0.8118  0.9569  0.9176  0.9294  1.0000  1.0000  1.0000\n",
       "  0.8627  0.7294  0.6824  0.9490  0.9137  0.9216  0.9961  1.0000  1.0000\n",
       "  0.6902  0.7804  0.7412  1.0000  1.0000  0.8863  0.9098  1.0000  1.0000\n",
       "  0.7020  0.7686  0.7373  0.9725  1.0000  0.8980  0.9176  1.0000  1.0000\n",
       "  0.7176  0.7490  0.7333  0.8196  1.0000  0.9294  0.9294  1.0000  1.0000\n",
       "  0.7412  0.7451  0.7373  0.6863  1.0000  0.9569  0.9412  0.9961  1.0000\n",
       "  0.7569  0.7569  0.7529  0.6196  0.9412  0.9961  0.9490  0.9882  1.0000\n",
       "  0.7647  0.7804  0.7686  0.6118  0.8392  1.0000  0.9647  0.9765  1.0000\n",
       "  0.7686  0.7922  0.7686  0.6353  0.7294  1.0000  0.9647  0.9686  0.9882\n",
       "  0.7647  0.8039  0.7725  0.6784  0.6784  1.0000  0.9804  0.9529  0.9725\n",
       "  0.7843  0.8000  0.8000  0.7529  0.6235  0.9686  1.0000  0.9529  0.9294\n",
       "  0.7922  0.8000  0.8118  0.7843  0.6745  0.9098  1.0000  0.9373  0.9294\n",
       "  0.7961  0.8000  0.8196  0.8078  0.7176  0.7961  1.0000  0.9294  0.9333\n",
       "  0.8000  0.8000  0.8235  0.8314  0.7529  0.7059  1.0000  0.9255  0.9216\n",
       "  0.8039  0.8000  0.8275  0.8510  0.7922  0.6706  0.9922  0.9333  0.9176\n",
       "  0.8039  0.8000  0.8314  0.8667  0.8196  0.6667  0.8745  0.9373  0.9059\n",
       "  0.8000  0.8000  0.8392  0.8824  0.8392  0.6745  0.7216  0.9333  0.8941\n",
       "  0.8000  0.8000  0.8392  0.8941  0.8510  0.6745  0.61"
      ]
     },
     "execution_count": 86,
     "metadata": {},
     "output_type": "execute_result"
    },
    {
     "data": {
      "text/plain": [
       "96  0.9294  0.8902\n",
       "  0.8235  0.8784  0.8588  0.7922  0.7490  0.7843  0.7804  1.0000  0.9373\n",
       "  0.8275  0.8784  0.8549  0.7922  0.7569  0.7765  0.7412  1.0000  0.9569\n",
       "  0.8314  0.8745  0.8392  0.7882  0.7647  0.7725  0.6863  0.9294  0.9804\n",
       "  0.8392  0.8706  0.8314  0.7843  0.7725  0.7882  0.6588  0.8392  0.9961\n",
       "  0.8392  0.8627  0.8235  0.7804  0.7725  0.8000  0.6706  0.7647  1.0000\n",
       "  0.8353  0.8549  0.8157  0.7686  0.7647  0.8000  0.7098  0.7020  0.9882\n",
       "  0.8353  0.8510  0.8039  0.7647  0.7608  0.7882  0.7490  0.6471  0.9608\n",
       "  0.8353  0.8431  0.7961  0.7569  0.7569  0.7725  0.7843  0.6431  0.9569\n",
       "  0.8510  0.8157  0.7686  0.7569  0.7686  0.8039  0.7686  0.6745  0.8706\n",
       "  0.8588  0.8118  0.7490  0.7451  0.7725  0.8118  0.7961  0.7059  0.8392\n",
       "  0.8667  0.8157  0.7373  0.7294  0.7765  0.8118  0.8196  0.7412  0.7765\n",
       "  0.8588  0.8157  0.7176  0.7255  0.7843  0.8078  0.8353  0.7765  0.7255\n",
       "  0.8549  0.8039  0.7098  0.7216  0.7843  0.8078  0.8588  0.8118  0.6980\n",
       "  0.8510  0.7922  0.7098  0.7216  0.7804  0.8078  0.8667  0.8353  0.6902\n",
       "  0.8510  0.7804  0.7098  0.7255  0.7686  0.8235  0.8745  0.8431  0.6902\n",
       "  0.8588  0.7725  0.7098  0.7255  0.7608  0.8314  0.8784  0.8392  0.6902\n",
       "  0.8235  0.8314  0.8275  0.7882  0.7882  0.7490  0.7412  0.8745  0.7843\n",
       "  0.8196  0.8314  0.8235  0.7922  0.7882  0.7373  0.7569  0.8627  0.7804\n",
       "  0.8078  0.8275  0.8196  0.8000  0.7882  0.7255  0.7804  0.8392  0.7843\n",
       "  0.7922  0.8196  0.8157  0.8078  0.7882  0.7255  0.8039  0.8314  0.7882\n",
       "  0.7647  0.8118  0.8157  0.8196  0.7882  0.7373  0.8196  0.8314  0.7922\n",
       "  0.7451  0.8118  0.8118  0.8275  0.7765  0.7529  0.8118  0.8353  0.8000\n",
       "  0.7333  0.8118  0.8157  0.8314  0.7647  0.7608  0.7922  0.8275  0.7922\n",
       "  0.7216  0.8196  0.8196  0.8196  0.7529  0.7647  0.7765  0.8275  0.7843\n",
       "  0.6549  0.8235  0.8431  0.7765  0.7804  0.7804  0.8000  0.8314  0.7961\n",
       "  0.6431  0.8275  0.8549  0.7843  0.7843  0.7765  0.8078  0.8314  0.7961\n",
       "  0.6431  0.8314  0.8627  0.7882  0.7765  0.7725  0.8078  0.8275  0.8000\n",
       "  0.6392  0.8275  0.8588  0.7922  0.7686  0.7765  0.8196  0.8314  0.8118\n",
       "  0.6392  0.8196  0.8510  0.7961  0.7608  0.7843  0.8314  0.8314  0.8235\n",
       "  0.6431  0.8157  0.8549  0.7961  0.7490  0.7961  0.8314  0.8275  0.8314\n",
       "  0.6510  0.8196  0.8588  0.8039  0.7490  0.7922  0.8314  0.8078  0.8392\n",
       "  0.6627  0.8235  0.8627  0.8118  0.7529  0.7882  0.8235  0.7961  0.8353\n",
       "  0.6706  0.7647  0.7686  0.7373  0.7569  0.7176  0.7529  0.7059  0.7490\n",
       "  0.7412  0.8000  0.8275  0.8039  0.8039  0.8118  0.8157  0.7765  0.7882\n",
       "  0.7451  0.7725  0.8431  0.8549  0.8314  0.8863  0.8627  0.8431  0.8235\n",
       "  0.7412  0.7098  0.7843  0.7922  0.7569  0.8196  0.8000  0.8275  0.7882\n",
       "  0.6902  0.6196  0.6706  0.6157  0.5647  0.6039  0.6039  0.6706  0.6431\n",
       "  0.8667  0.8706  0.9176  0.8000  0.7647  0.7843  0.8078  0.8784  0.8745\n",
       "  0.8588  0.9490  1.0000  0.8314  0.8392  0.9137  0.9529  0.9961  1.0000\n",
       "  0.7490  0.8471  0.8706  0.6627  0.6980  0.8824  0.9216  0.9373  0.9686\n",
       "  0.7412  0.9569  0.9765  0.7882  0.7922  0.9294  0.9804  1.0000  0.9490\n",
       "  0.7686  0.9961  1.0000  0.8784  0.8549  1.0000  1.0000  0.9529  0.7686\n",
       "  0.7804  0.9882  1.0000  0.8941  0.8471  1.0000  0.9882  0.9608  0.8941\n",
       "  0.7608  0.9647  1.0000  0.8510  0.8039  0.9412  0.8824  0.8824  0.9294\n",
       "  0.7451  0.9569  0.9765  0.8078  0.7725  0.8196  0.8235  0.8510  0.9176\n",
       "  0.7490  0.9804  1.0000  0.8392  0.7843  0.7333  0.8549  0.9412  0.9686\n",
       "  0.7725  1.0000  1.0000  0.9373  0.8353  0.8000  0.9294  0.9451  0.8863\n",
       "  0.7922  1.0000  1.0000  1.0000  0.8784  0.8863  0.9961  0.9765  0.9412\n",
       "  0.8157  1.0000  1.0000  0.9020  0.7412  0.7686  0.9176  0.9882  0.9216\n",
       "  0.8431  1.0000  1.0000  0.9333  0.7882  0.8235  0.9765  1.0000  0.9569\n",
       "  0.8510  1.0000  1.0000  0.9451  0.8235  0.8314  1.0000  1.0000  0.9882\n",
       "  0.8157  0.9647  1.0000  0.8980  0.8039  0.7804  0.9686  1.0000  0.9765\n",
       "  0.7647  0.8980  0.9373  0.8353  0.7686  0.7333  0.9098  1.0000  0.9373\n",
       "  0.7647  0.8706  0.9020  0.8118  0.7804  0.7569  0.8549  0.9804  0.9490\n",
       "  0.8235  0.9098  0.9255  0.8510  0.8431  0.8863  0.8549  0.9725  0.9804\n",
       "  0.8902  0.9490  0.9569  0.8902  0.8902  1.0000  0.8784  0.94"
      ]
     },
     "execution_count": 86,
     "metadata": {},
     "output_type": "execute_result"
    },
    {
     "data": {
      "text/plain": [
       "90  0.9804\n",
       "  0.8902  0.8824  0.8784  0.8000  0.8863  1.0000  0.9725  0.8863  0.8510\n",
       "  0.9490  0.9686  1.0000  0.9255  0.9529  1.0000  0.9882  0.9137  0.7882\n",
       "  0.9176  0.9765  1.0000  0.9725  0.9569  0.9686  0.9961  1.0000  0.9804\n",
       "  0.9294  1.0000  1.0000  1.0000  1.0000  1.0000  1.0000  1.0000  1.0000\n",
       "  1.0000  1.0000  0.8471  0.8431  0.9098  0.9529  0.9529  0.9412  0.9176\n",
       "  1.0000  1.0000  0.6314  0.5843  0.6706  0.6471  0.6902  0.7216  0.7255\n",
       "  1.0000  1.0000  0.6588  0.6549  0.7608  0.8549  0.8431  0.8118  0.8078\n",
       "  1.0000  1.0000  0.6471  0.6824  0.7961  0.8471  0.8745  0.8784  0.8824\n",
       "  1.0000  1.0000  0.6784  0.7804  0.8549  0.7765  0.7412  0.7843  0.8314\n",
       "  1.0000  1.0000  0.6784  0.7804  0.8549  0.7765  0.7412  0.7843  0.8314\n",
       "  1.0000  1.0000  0.6824  0.7843  0.8549  0.7765  0.7412  0.7843  0.8314\n",
       "  1.0000  1.0000  0.6863  0.7843  0.8549  0.7765  0.7412  0.7843  0.8314\n",
       "  1.0000  1.0000  0.6941  0.7882  0.8510  0.7765  0.7412  0.7843  0.8314\n",
       "  1.0000  1.0000  0.6980  0.7882  0.8510  0.7765  0.7412  0.7843  0.8314\n",
       "  1.0000  1.0000  0.7020  0.7922  0.8510  0.7765  0.7412  0.7843  0.8314\n",
       "  1.0000  1.0000  0.7020  0.7922  0.8471  0.7765  0.7412  0.7843  0.8314\n",
       "  1.0000  1.0000  0.7098  0.7804  0.8471  0.7765  0.7412  0.7843  0.8314\n",
       "  1.0000  1.0000  0.7137  0.7804  0.8471  0.7765  0.7412  0.7843  0.8314\n",
       "  1.0000  1.0000  0.7176  0.7843  0.8471  0.7765  0.7412  0.7843  0.8314\n",
       "  1.0000  1.0000  0.7255  0.7882  0.8431  0.7765  0.7412  0.7843  0.8314\n",
       "  1.0000  1.0000  0.7333  0.7922  0.8431  0.7765  0.7412  0.7843  0.8314\n",
       "  1.0000  1.0000  0.7412  0.7922  0.8392  0.7765  0.7412  0.7843  0.8314\n",
       "  1.0000  1.0000  0.7451  0.7961  0.8392  0.7765  0.7412  0.7843  0.8314\n",
       "  1.0000  1.0000  0.7490  0.7961  0.8392  0.7765  0.7412  0.7843  0.8314\n",
       "\n",
       "Columns 109 to 117\n",
       "  1.0000  1.0000  1.0000  1.0000  1.0000  1.0000  1.0000  1.0000  1.0000\n",
       "  1.0000  1.0000  1.0000  1.0000  1.0000  1.0000  1.0000  1.0000  1.0000\n",
       "  1.0000  1.0000  1.0000  1.0000  1.0000  1.0000  1.0000  1.0000  1.0000\n",
       "  1.0000  1.0000  1.0000  1.0000  1.0000  1.0000  1.0000  1.0000  1.0000\n",
       "  1.0000  1.0000  1.0000  1.0000  1.0000  1.0000  1.0000  1.0000  1.0000\n",
       "  1.0000  1.0000  1.0000  1.0000  1.0000  1.0000  1.0000  1.0000  1.0000\n",
       "  1.0000  1.0000  1.0000  1.0000  1.0000  1.0000  1.0000  1.0000  1.0000\n",
       "  1.0000  1.0000  1.0000  1.0000  1.0000  1.0000  1.0000  1.0000  1.0000\n",
       "  1.0000  1.0000  1.0000  1.0000  1.0000  1.0000  1.0000  1.0000  1.0000\n",
       "  1.0000  1.0000  1.0000  1.0000  1.0000  1.0000  1.0000  1.0000  1.0000\n",
       "  1.0000  1.0000  1.0000  1.0000  1.0000  1.0000  1.0000  1.0000  1.0000\n",
       "  1.0000  1.0000  1.0000  1.0000  1.0000  1.0000  1.0000  1.0000  1.0000\n",
       "  1.0000  1.0000  1.0000  1.0000  1.0000  1.0000  1.0000  1.0000  1.0000\n",
       "  1.0000  1.0000  1.0000  1.0000  1.0000  1.0000  1.0000  1.0000  1.0000\n",
       "  1.0000  1.0000  1.0000  1.0000  1.0000  1.0000  1.0000  1.0000  1.0000\n",
       "  1.0000  1.0000  1.0000  1.0000  1.0000  1.0000  1.0000  1.0000  1.0000\n",
       "  1.0000  1.0000  1.0000  0.9451  1.0000  1.0000  1.0000  1.0000  1.0000\n",
       "  1.0000  1.0000  0.9961  0.9490  1.0000  1.0000  1.0000  1.0000  1.0000\n",
       "  1.0000  1.0000  0.9961  0.9569  1.0000  1.0000  1.0000  1.0000  1.0000\n",
       "  1.0000  1.0000  0.9961  0.9608  1.0000  1.0000  1.0000  1.0000  1.0000\n",
       "  1.0000  1.0000  0.9882  0.9725  1.0000  1.0000  1.0000  1.0000  1.0000\n",
       "  0.9961  0.9961  0.9882  0.9765  1.0000  1.0000  1.0000  1.0000  1.0000\n",
       "  0.9843  0.9843  0.9843  0.9843  1.0000  1.0000  1.0000  1.0000  1.0000\n",
       "  0.9765  0.9765  0.9843  0.9882  1.0000  1.0000  1.0000  1.0000  1.0000\n",
       "  0.9765  0.9725  0.9765  0.9882  1.0000  1.0000  1.0000  1.0000  1.0000\n",
       "  0.9843  0.9725  0.9765  0.9882  1.0000  1.0000  1.0000  1.0000  1.0000\n",
       "  0.9882  0.9725  0.9765  0.9843  1.0000  1.0000  1.0000  1.0000  1.0000\n",
       "  1.0000  0.9765  0.9765  0.9843  1.0000  1.0000  1.0000  1.0000  1.0000\n",
       "  1.0000  0.9843  0.9725  0.9765  1.0000  1.0000  1.0000  1.0000  1.0000\n",
       "  1.0000  0.9961  0.9725  0.9686  1.0000  1.0000  1.0000  1.0000  1.0000\n",
       "  1.0000  1.0000  0.9725  0.9686  1.0000  1.0000  1.0000  1.0000  1.0000\n",
       "  1.0000  1.0000  0.9725  0.9608  1.0000  1.0000  "
      ]
     },
     "execution_count": 86,
     "metadata": {},
     "output_type": "execute_result"
    },
    {
     "data": {
      "text/plain": [
       "1.0000  1.0000  1.0000\n",
       "  1.0000  1.0000  1.0000  1.0000  1.0000  1.0000  1.0000  1.0000  1.0000\n",
       "  1.0000  1.0000  1.0000  1.0000  1.0000  1.0000  1.0000  1.0000  1.0000\n",
       "  1.0000  1.0000  1.0000  1.0000  1.0000  1.0000  1.0000  1.0000  1.0000\n",
       "  1.0000  1.0000  1.0000  1.0000  1.0000  1.0000  1.0000  1.0000  1.0000\n",
       "  1.0000  0.9961  1.0000  1.0000  1.0000  1.0000  1.0000  1.0000  1.0000\n",
       "  1.0000  1.0000  0.9922  0.9961  1.0000  1.0000  1.0000  1.0000  1.0000\n",
       "  1.0000  1.0000  0.9922  0.9804  1.0000  1.0000  1.0000  1.0000  1.0000\n",
       "  1.0000  1.0000  0.9882  0.9686  1.0000  1.0000  1.0000  1.0000  1.0000\n",
       "  0.9961  1.0000  0.9843  0.9765  1.0000  1.0000  1.0000  1.0000  1.0000\n",
       "  0.9882  1.0000  0.9922  0.9765  1.0000  1.0000  1.0000  1.0000  1.0000\n",
       "  0.9882  1.0000  1.0000  0.9686  1.0000  1.0000  1.0000  1.0000  1.0000\n",
       "  0.9882  1.0000  1.0000  0.9725  1.0000  1.0000  1.0000  1.0000  1.0000\n",
       "  0.9804  1.0000  1.0000  0.9765  1.0000  1.0000  1.0000  1.0000  1.0000\n",
       "  0.9961  1.0000  1.0000  0.9882  1.0000  1.0000  1.0000  1.0000  1.0000\n",
       "  0.9961  1.0000  1.0000  0.9961  1.0000  1.0000  1.0000  1.0000  1.0000\n",
       "  0.9961  1.0000  1.0000  0.9961  1.0000  1.0000  1.0000  1.0000  1.0000\n",
       "  0.9098  1.0000  1.0000  0.9882  1.0000  1.0000  1.0000  1.0000  1.0000\n",
       "  0.9176  1.0000  1.0000  0.9843  1.0000  1.0000  1.0000  1.0000  1.0000\n",
       "  0.9333  0.9882  1.0000  0.9804  1.0000  1.0000  1.0000  1.0000  1.0000\n",
       "  0.9490  0.9686  1.0000  0.9843  1.0000  1.0000  1.0000  1.0000  1.0000\n",
       "  0.9608  0.9608  1.0000  0.9843  1.0000  1.0000  1.0000  1.0000  1.0000\n",
       "  0.9765  0.9529  1.0000  0.9922  1.0000  1.0000  1.0000  1.0000  1.0000\n",
       "  0.9961  0.9490  0.9882  1.0000  1.0000  1.0000  1.0000  1.0000  1.0000\n",
       "  1.0000  0.9412  0.9843  1.0000  1.0000  1.0000  1.0000  1.0000  1.0000\n",
       "  1.0000  0.9490  0.9608  1.0000  1.0000  1.0000  1.0000  1.0000  1.0000\n",
       "  1.0000  0.9412  0.9529  1.0000  1.0000  1.0000  1.0000  1.0000  1.0000\n",
       "  1.0000  0.9216  0.9373  1.0000  1.0000  1.0000  1.0000  1.0000  1.0000\n",
       "  1.0000  0.9137  0.9294  1.0000  1.0000  1.0000  1.0000  1.0000  1.0000\n",
       "  0.9843  0.9137  0.9294  1.0000  1.0000  1.0000  1.0000  1.0000  1.0000\n",
       "  0.8941  0.9098  0.9255  1.0000  1.0000  1.0000  1.0000  1.0000  1.0000\n",
       "  0.8000  0.8941  0.9216  1.0000  1.0000  1.0000  1.0000  1.0000  1.0000\n",
       "  0.7255  0.8824  0.9255  1.0000  1.0000  1.0000  1.0000  1.0000  1.0000\n",
       "  0.8392  1.0000  0.9490  0.9608  1.0000  1.0000  1.0000  1.0000  1.0000\n",
       "  0.7961  1.0000  0.9569  0.9569  1.0000  1.0000  1.0000  1.0000  1.0000\n",
       "  0.7255  1.0000  0.9608  0.9529  1.0000  1.0000  1.0000  1.0000  1.0000\n",
       "  0.6706  0.9765  0.9765  0.9529  1.0000  1.0000  1.0000  1.0000  1.0000\n",
       "  0.6510  0.9412  0.9961  0.9569  1.0000  1.0000  1.0000  1.0000  1.0000\n",
       "  0.6510  0.8902  1.0000  0.9569  1.0000  1.0000  1.0000  1.0000  1.0000\n",
       "  0.6706  0.8510  1.0000  0.9451  1.0000  1.0000  1.0000  1.0000  1.0000\n",
       "  0.7020  0.8392  1.0000  0.9412  1.0000  1.0000  1.0000  1.0000  1.0000\n",
       "  0.7294  0.7765  1.0000  0.9451  1.0000  1.0000  1.0000  1.0000  1.0000\n",
       "  0.7412  0.7843  1.0000  0.9451  1.0000  1.0000  1.0000  1.0000  1.0000\n",
       "  0.7490  0.7725  1.0000  0.9412  1.0000  1.0000  1.0000  1.0000  1.0000\n",
       "  0.7647  0.7490  0.9882  0.9412  1.0000  1.0000  1.0000  1.0000  1.0000\n",
       "  0.7922  0.7294  0.9490  0.9333  1.0000  1.0000  1.0000  1.0000  1.0000\n",
       "  0.8157  0.7137  0.9059  0.9333  1.0000  1.0000  1.0000  1.0000  1.0000\n",
       "  0.8314  0.7020  0.8706  0.9216  1.0000  1.0000  1.0000  1.0000  1.0000\n",
       "  0.8392  0.6863  0.8431  0.9020  1.0000  1.0000  1.0000  1.0000  1.0000\n",
       "  0.7686  0.6784  0.7765  0.9882  0.9686  0.9725  0.9843  1.0000  1.0000\n",
       "  0.8039  0.6980  0.7294  0.9961  0.9647  0.9686  0.9843  0.9961  1.0000\n",
       "  0.8431  0.7333  0.6980  1.0000  0.9725  0.9765  0.9882  0.9961  1.0000\n",
       "  0.8275  0.7490  0.6824  1.0000  0.9882  0.9961  0.9961  1.0000  1.0000\n",
       "  0.6902  0.6627  0.5882  0.8824  1.0000  1.0000  1.0000  1.0000  1.0000\n",
       "  0.9294  0.9412  0.8549  0.9451  1.0000  1.0000  1.0000  1.0000  1.0000\n",
       "  1.0000  1.0000  0.9804  0.8235  0.9412  0.9373  0.9294  0.9216  0.9137\n",
       "  1.0000  1.0000  0.8824  0.5412  0.8157  0.8078  0.7961  "
      ]
     },
     "execution_count": 86,
     "metadata": {},
     "output_type": "execute_result"
    },
    {
     "data": {
      "text/plain": [
       "0.7882  0.7843\n",
       "  0.9843  0.9451  0.8627  0.6235  0.8902  0.9412  0.8980  0.7765  0.8196\n",
       "  0.7569  0.7686  0.8196  0.7294  0.9961  0.9804  0.8745  0.7804  0.8667\n",
       "  0.8980  0.8745  0.8706  0.7765  0.9725  0.9490  0.8549  0.7765  0.8588\n",
       "  0.9882  0.9961  0.9882  0.9294  0.9961  0.9882  0.9176  0.8196  0.8510\n",
       "  0.9333  0.9843  1.0000  1.0000  0.9686  0.9373  0.8431  0.7412  0.7765\n",
       "  0.8667  0.9059  0.9686  1.0000  1.0000  0.9608  0.8980  0.8824  0.9843\n",
       "  0.7451  0.8392  0.8980  0.9294  0.9451  0.9059  0.8824  0.9333  1.0000\n",
       "  0.8314  0.9412  0.9020  0.8157  0.9725  0.9176  0.8745  0.9098  1.0000\n",
       "  0.6824  0.8941  0.8627  0.7686  1.0000  1.0000  0.9569  0.8784  0.8627\n",
       "  0.7569  0.9569  0.9059  0.8314  1.0000  1.0000  0.9373  0.8824  0.8902\n",
       "  0.8549  1.0000  0.9647  0.9647  0.9647  0.9608  0.9137  0.9294  0.9843\n",
       "  0.8667  0.9608  0.9373  1.0000  0.9373  0.9333  0.9020  0.9490  1.0000\n",
       "  0.8078  0.8353  0.8510  0.9961  0.9176  0.9216  0.8745  0.9294  1.0000\n",
       "  0.8314  0.8353  0.8902  1.0000  0.9255  0.9255  0.8392  0.8863  1.0000\n",
       "  0.9137  0.9216  0.9765  1.0000  0.9843  0.9608  0.8196  0.8196  0.9451\n",
       "  0.9294  0.9333  0.9490  0.9451  0.9765  0.9569  0.8039  0.8000  0.9137\n",
       "  0.8471  0.8471  0.8196  0.7882  0.9176  0.8706  0.7490  0.7686  0.8706\n",
       "  0.6980  0.7176  0.8549  0.9843  1.0000  1.0000  0.8706  0.8784  0.9216\n",
       "  0.9255  0.9020  0.9216  0.9529  1.0000  1.0000  0.9608  0.9569  0.9686\n",
       "  1.0000  1.0000  0.9961  0.9529  1.0000  1.0000  0.9647  0.9569  1.0000\n",
       "  0.8980  0.8902  0.8824  0.8863  0.8549  1.0000  0.9922  0.9608  1.0000\n",
       "  0.7020  0.6667  0.6353  0.6118  0.6275  0.9765  1.0000  0.9608  0.9922\n",
       "  0.8314  0.8353  0.8118  0.7804  0.6000  0.9922  1.0000  0.9569  0.9608\n",
       "  0.8824  0.8588  0.8275  0.7922  0.7137  1.0000  1.0000  0.9412  0.9451\n",
       "  0.8118  0.7686  0.7765  0.8275  0.7529  1.0000  0.9843  0.9137  0.9686\n",
       "  0.8118  0.7686  0.7765  0.8275  0.7529  1.0000  0.9843  0.9137  0.9686\n",
       "  0.8118  0.7686  0.7765  0.8275  0.7569  0.9961  0.9882  0.9176  0.9686\n",
       "  0.8118  0.7686  0.7765  0.8275  0.7608  0.9686  0.9882  0.9216  0.9725\n",
       "  0.8118  0.7686  0.7765  0.8275  0.7608  0.9333  0.9922  0.9216  0.9608\n",
       "  0.8118  0.7686  0.7765  0.8275  0.7686  0.9059  1.0000  0.9294  0.9529\n",
       "  0.8118  0.7686  0.7765  0.8275  0.7686  0.8824  1.0000  0.9333  0.9490\n",
       "  0.8118  0.7686  0.7765  0.8275  0.7804  0.8784  1.0000  0.9412  0.9451\n",
       "  0.8118  0.7686  0.7765  0.8275  0.7804  0.8235  1.0000  0.9412  0.9608\n",
       "  0.8118  0.7686  0.7765  0.8275  0.7922  0.8275  1.0000  0.9451  0.9608\n",
       "  0.8118  0.7686  0.7765  0.8275  0.7961  0.8275  1.0000  0.9451  0.9686\n",
       "  0.8118  0.7686  0.7765  0.8275  0.7961  0.8196  1.0000  0.9529  0.9765\n",
       "  0.8118  0.7686  0.7765  0.8275  0.7961  0.8118  1.0000  0.9529  0.9882\n",
       "  0.8118  0.7686  0.7765  0.8275  0.8000  0.8000  1.0000  0.9569  0.9961\n",
       "  0.8118  0.7686  0.7765  0.8275  0.8039  0.8000  0.9922  0.9569  0.9961\n",
       "  0.8118  0.7686  0.7765  0.8275  0.8000  0.7961  0.9922  0.9569  0.9961\n",
       "\n",
       "Columns 118 to 126\n",
       "  1.0000  1.0000  1.0000  1.0000  1.0000  1.0000  1.0000  1.0000  1.0000\n",
       "  1.0000  1.0000  1.0000  1.0000  1.0000  1.0000  1.0000  1.0000  1.0000\n",
       "  1.0000  1.0000  1.0000  1.0000  1.0000  1.0000  1.0000  1.0000  1.0000\n",
       "  1.0000  1.0000  1.0000  1.0000  1.0000  1.0000  1.0000  1.0000  1.0000\n",
       "  1.0000  1.0000  1.0000  1.0000  1.0000  1.0000  1.0000  1.0000  1.0000\n",
       "  1.0000  1.0000  1.0000  1.0000  1.0000  1.0000  1.0000  1.0000  1.0000\n",
       "  1.0000  1.0000  1.0000  1.0000  1.0000  1.0000  1.0000  1.0000  1.0000\n",
       "  1.0000  1.0000  1.0000  1.0000  1.0000  1.0000  1.0000  1.0000  1.0000\n",
       "  1.0000  1.0000  1.0000  1.0000  1.0000  1.0000  1.0000  1.0000  1.0000\n",
       "  1.0000  1.0000  1.0000  1.0000  1.0000  1.0000  1.0000  1.0000  1.0000\n",
       "  1.0000  1.0000  1.0000  1.0000  1.0000  1.0000  1.0000  1.0000  1.0000\n",
       "  1.0000  1.0000  1.0000  1.0000  1.0000  1.0000  1.0000  1.0000  1.0000\n",
       "  1.0000  1.0000  1.0000  1.0000  1.0000  1.0000  1.0000  1.0000  1.0000\n",
       "  1.0000  1.0000  1.0000  1.0000  1.0000  1.0000  1.0000  1.0000  1.0000\n",
       "  1.0000  1.0000  1.0000  1.0000  1.0000  1.0000  1.0000  1.0000  1.0000\n",
       "  1.0000  1.0000  1.0000  1.0000  1.0000  1.00"
      ]
     },
     "execution_count": 86,
     "metadata": {},
     "output_type": "execute_result"
    },
    {
     "data": {
      "text/plain": [
       "00  1.0000  1.0000  1.0000\n",
       "  1.0000  1.0000  1.0000  1.0000  1.0000  1.0000  1.0000  1.0000  1.0000\n",
       "  1.0000  1.0000  1.0000  1.0000  1.0000  1.0000  1.0000  1.0000  1.0000\n",
       "  1.0000  1.0000  1.0000  1.0000  1.0000  1.0000  1.0000  1.0000  1.0000\n",
       "  1.0000  1.0000  1.0000  1.0000  1.0000  1.0000  1.0000  1.0000  1.0000\n",
       "  1.0000  1.0000  1.0000  1.0000  1.0000  1.0000  1.0000  1.0000  1.0000\n",
       "  1.0000  1.0000  1.0000  1.0000  1.0000  1.0000  1.0000  1.0000  1.0000\n",
       "  1.0000  1.0000  1.0000  1.0000  1.0000  1.0000  1.0000  1.0000  1.0000\n",
       "  1.0000  1.0000  1.0000  1.0000  1.0000  1.0000  1.0000  1.0000  1.0000\n",
       "  1.0000  1.0000  1.0000  1.0000  1.0000  1.0000  1.0000  1.0000  1.0000\n",
       "  1.0000  1.0000  1.0000  1.0000  1.0000  1.0000  1.0000  1.0000  1.0000\n",
       "  1.0000  1.0000  1.0000  1.0000  1.0000  1.0000  1.0000  1.0000  1.0000\n",
       "  1.0000  1.0000  1.0000  1.0000  1.0000  1.0000  1.0000  1.0000  1.0000\n",
       "  1.0000  1.0000  1.0000  1.0000  1.0000  1.0000  1.0000  1.0000  1.0000\n",
       "  1.0000  1.0000  1.0000  1.0000  1.0000  1.0000  1.0000  1.0000  1.0000\n",
       "  1.0000  1.0000  1.0000  1.0000  1.0000  1.0000  1.0000  1.0000  1.0000\n",
       "  1.0000  1.0000  1.0000  1.0000  1.0000  1.0000  1.0000  1.0000  1.0000\n",
       "  1.0000  1.0000  1.0000  1.0000  1.0000  1.0000  1.0000  1.0000  1.0000\n",
       "  1.0000  1.0000  1.0000  1.0000  1.0000  1.0000  1.0000  1.0000  1.0000\n",
       "  1.0000  1.0000  1.0000  1.0000  1.0000  1.0000  1.0000  1.0000  1.0000\n",
       "  1.0000  1.0000  1.0000  1.0000  1.0000  1.0000  1.0000  1.0000  1.0000\n",
       "  1.0000  1.0000  1.0000  1.0000  1.0000  1.0000  1.0000  1.0000  1.0000\n",
       "  1.0000  1.0000  1.0000  1.0000  1.0000  1.0000  1.0000  1.0000  1.0000\n",
       "  1.0000  1.0000  1.0000  1.0000  1.0000  1.0000  1.0000  1.0000  1.0000\n",
       "  1.0000  1.0000  1.0000  1.0000  1.0000  1.0000  1.0000  1.0000  1.0000\n",
       "  1.0000  1.0000  1.0000  1.0000  1.0000  1.0000  1.0000  1.0000  1.0000\n",
       "  1.0000  1.0000  1.0000  1.0000  1.0000  1.0000  1.0000  1.0000  1.0000\n",
       "  1.0000  1.0000  1.0000  1.0000  1.0000  1.0000  1.0000  1.0000  1.0000\n",
       "  1.0000  1.0000  1.0000  1.0000  1.0000  1.0000  1.0000  1.0000  1.0000\n",
       "  1.0000  1.0000  1.0000  1.0000  1.0000  1.0000  1.0000  1.0000  1.0000\n",
       "  1.0000  1.0000  1.0000  1.0000  1.0000  1.0000  1.0000  1.0000  1.0000\n",
       "  1.0000  1.0000  1.0000  1.0000  1.0000  1.0000  1.0000  1.0000  1.0000\n",
       "  1.0000  1.0000  1.0000  1.0000  1.0000  1.0000  1.0000  1.0000  1.0000\n",
       "  1.0000  1.0000  1.0000  1.0000  1.0000  1.0000  1.0000  1.0000  1.0000\n",
       "  1.0000  1.0000  1.0000  1.0000  1.0000  1.0000  1.0000  1.0000  1.0000\n",
       "  1.0000  1.0000  1.0000  1.0000  1.0000  1.0000  1.0000  1.0000  1.0000\n",
       "  1.0000  1.0000  1.0000  1.0000  1.0000  1.0000  1.0000  1.0000  1.0000\n",
       "  1.0000  1.0000  1.0000  1.0000  1.0000  1.0000  1.0000  1.0000  1.0000\n",
       "  1.0000  1.0000  1.0000  1.0000  1.0000  1.0000  1.0000  1.0000  1.0000\n",
       "  1.0000  1.0000  1.0000  1.0000  1.0000  1.0000  1.0000  1.0000  1.0000\n",
       "  1.0000  1.0000  1.0000  1.0000  1.0000  1.0000  1.0000  1.0000  1.0000\n",
       "  1.0000  1.0000  1.0000  1.0000  1.0000  1.0000  1.0000  1.0000  1.0000\n",
       "  1.0000  1.0000  1.0000  1.0000  1.0000  1.0000  1.0000  1.0000  1.0000\n",
       "  1.0000  1.0000  1.0000  1.0000  1.0000  1.0000  1.0000  1.0000  1.0000\n",
       "  1.0000  1.0000  1.0000  1.0000  1.0000  1.0000  1.0000  1.0000  1.0000\n",
       "  1.0000  1.0000  1.0000  1.0000  1.0000  1.0000  1.0000  1.0000  1.0000\n",
       "  1.0000  1.0000  1.0000  1.0000  1.0000  1.0000  1.0000  1.0000  1.0000\n",
       "  1.0000  1.0000  1.0000  1.0000  1.0000  1.0000  1.0000  1.0000  1.0000\n",
       "  1.0000  1.0000  1.0000  1.0000  1.0000  1.0000  1.0000  1.0000  1.0000\n",
       "  1.0000  1.0000  1.0000  1.0000  1.0000  1.0000  1.0000  1.0000  1.0000\n",
       "  1.0000  1.0000  1.0000  1.0000  1.0000  1.0000  1.0000  1.0000  1.0000\n",
       "  1.0000  1.0000  1.0000  1.0000  1.0000  1.0000  1.0000  1.0000  1.0000\n",
       "  1.0000  1.0000  1.0000  1.0000  1.0000  1.0000  1.0000  1.0000  1.0000\n",
       "  1.0000  1.0000  1.0000  1.0000  1.0000  1.0000  1.0000  1.0000  1.0000\n",
       "  1.0000  1.0000  1.0000  1.0000  1.0000  1.0000  1.0000  1.0000  1.0000\n",
       "  1.0000  1.0000  1.0000  1.0000  1.0000  1.0000  1.0000  1.0000  1.0000\n",
       "  1.0000  1.0000  1.0000  1.0000  1.0000  1.0000  1.00"
      ]
     },
     "execution_count": 86,
     "metadata": {},
     "output_type": "execute_result"
    },
    {
     "data": {
      "text/plain": [
       "00  1.0000  1.0000\n",
       "  1.0000  1.0000  1.0000  1.0000  1.0000  1.0000  1.0000  1.0000  1.0000\n",
       "  1.0000  1.0000  1.0000  1.0000  1.0000  1.0000  1.0000  1.0000  1.0000\n",
       "  1.0000  1.0000  1.0000  1.0000  1.0000  1.0000  1.0000  1.0000  1.0000\n",
       "  1.0000  1.0000  1.0000  1.0000  1.0000  1.0000  1.0000  1.0000  1.0000\n",
       "  1.0000  1.0000  1.0000  1.0000  1.0000  1.0000  1.0000  1.0000  1.0000\n",
       "  1.0000  1.0000  1.0000  1.0000  1.0000  1.0000  1.0000  1.0000  1.0000\n",
       "  1.0000  1.0000  1.0000  1.0000  1.0000  1.0000  1.0000  1.0000  1.0000\n",
       "  1.0000  1.0000  1.0000  1.0000  1.0000  1.0000  1.0000  1.0000  1.0000\n",
       "  1.0000  1.0000  1.0000  1.0000  0.9882  0.9882  0.9961  1.0000  1.0000\n",
       "  1.0000  1.0000  1.0000  0.9961  0.9882  0.9843  0.9882  1.0000  1.0000\n",
       "  1.0000  1.0000  0.9961  0.9882  0.9843  0.9765  0.9765  0.9882  0.9961\n",
       "  1.0000  0.9922  0.9882  0.9843  0.9765  0.9725  0.9725  0.9765  0.9843\n",
       "  1.0000  1.0000  0.9961  0.9882  0.9765  0.9725  0.9725  0.9725  0.9725\n",
       "  1.0000  1.0000  0.9961  0.9961  0.9922  0.9843  0.9804  0.9725  0.9686\n",
       "  0.9137  0.9098  0.9059  1.0000  1.0000  1.0000  1.0000  0.9922  0.9804\n",
       "  0.7765  0.7765  0.7804  1.0000  1.0000  1.0000  1.0000  1.0000  1.0000\n",
       "  0.8471  0.8078  0.9176  1.0000  1.0000  0.9608  0.9882  1.0000  0.9922\n",
       "  0.9137  0.8392  0.9059  0.8196  0.8235  0.8275  0.8157  0.7843  0.7882\n",
       "  0.8706  0.7569  0.8000  0.8471  0.8980  0.9490  0.9255  0.8431  0.8000\n",
       "  0.8275  0.7373  0.8471  0.9373  0.9490  0.9647  0.9608  0.9294  0.8706\n",
       "  0.7529  0.7098  0.8588  0.9569  0.9255  0.8824  0.8941  0.9333  0.9373\n",
       "  0.9490  0.8235  0.9059  0.9451  0.9529  0.9373  0.9176  0.9333  0.9255\n",
       "  1.0000  0.8157  0.8431  0.8863  0.9333  0.9333  0.8784  0.8353  0.8235\n",
       "  0.9765  0.8196  0.8863  0.9451  0.9843  0.9412  0.8549  0.8235  0.8784\n",
       "  0.8392  0.7843  0.7882  0.9255  0.9569  0.9098  0.8941  0.9255  0.8784\n",
       "  0.8667  0.8431  0.8902  0.9216  0.8784  0.8235  0.8706  0.9608  0.9490\n",
       "  0.9608  0.9804  1.0000  0.9098  0.8157  0.7686  0.8392  0.9490  1.0000\n",
       "  0.9294  0.8627  0.9569  0.9098  0.8078  0.7765  0.8196  0.8863  1.0000\n",
       "  0.8980  0.7961  0.9059  0.9451  0.8510  0.8157  0.8235  0.8706  0.9843\n",
       "  0.9294  0.8471  0.9882  0.9922  0.9294  0.8627  0.8627  0.9137  0.9765\n",
       "  0.8549  0.7490  0.8941  0.9961  0.9961  0.9412  0.9176  0.9529  0.9451\n",
       "  0.8745  0.7569  0.8902  0.9608  1.0000  1.0000  0.9490  0.9373  0.8706\n",
       "  0.9216  0.8784  0.7451  0.9176  0.9647  0.9882  0.9686  0.8431  0.7451\n",
       "  0.9412  0.9529  0.9255  0.8275  0.8353  0.8314  0.8000  0.7490  0.7647\n",
       "  0.9647  1.0000  1.0000  1.0000  1.0000  1.0000  0.9608  0.9294  0.9451\n",
       "  1.0000  1.0000  1.0000  0.9647  0.9961  1.0000  0.9765  0.9451  0.9569\n",
       "  1.0000  1.0000  0.9686  0.9765  1.0000  1.0000  0.9569  0.9176  0.9333\n",
       "  1.0000  0.9882  0.9569  0.9686  1.0000  1.0000  0.9725  0.8902  0.8863\n",
       "  0.9608  0.9490  0.9294  0.9451  1.0000  1.0000  1.0000  0.9451  0.9059\n",
       "  0.9451  0.9098  0.9020  0.9765  1.0000  1.0000  1.0000  0.9569  0.8784\n",
       "  0.9882  0.9843  0.9843  1.0000  1.0000  1.0000  0.9608  0.9608  1.0000\n",
       "  0.9922  0.9843  0.9843  1.0000  1.0000  1.0000  0.9608  0.9608  1.0000\n",
       "  0.9961  0.9843  0.9882  1.0000  1.0000  1.0000  0.9608  0.9608  1.0000\n",
       "  1.0000  0.9804  0.9882  1.0000  1.0000  1.0000  0.9608  0.9608  1.0000\n",
       "  1.0000  0.9804  0.9882  1.0000  1.0000  1.0000  0.9569  0.9608  1.0000\n",
       "  1.0000  0.9765  0.9843  1.0000  1.0000  1.0000  0.9569  0.9608  1.0000\n",
       "  1.0000  0.9686  0.9843  1.0000  1.0000  1.0000  0.9569  0.9608  1.0000\n",
       "  1.0000  0.9686  0.9843  1.0000  1.0000  1.0000  0.9569  0.9608  1.0000\n",
       "  1.0000  0.9765  0.9843  1.0000  1.0000  1.0000  0.9569  0.9608  1.0000\n",
       "  1.0000  0.9765  0.9765  1.0000  1.0000  1.0000  0.9569  0.9608  1.0000\n",
       "  1.0000  0.9765  0.9765  1.0000  1.0000  1.0000  0.9569  0.9608  1.0000\n",
       "  1.0000  0.9725  0.9765  1.0000  1.0000  1.0000  0.9490  0.9608  1.0000\n",
       "  1.0000  0.9686  0.9765  1.0000  1.0000  1.0000  0.9490  0.9608  1.0000\n",
       "  1.0000  0.9647  0.9765  1.0000  1.0000  1.0000  0.9490  0.9608  1.0000\n",
       "  1.0000  0.9647  0.9725  1.0000  1.0000  1.0000  0.9490  0.9608  1.0000\n",
       "  1.0000  0.9608  0.9725  1.0000  1.0000  1.0000  0.9490  0.96"
      ]
     },
     "execution_count": 86,
     "metadata": {},
     "output_type": "execute_result"
    },
    {
     "data": {
      "text/plain": [
       "08  1.0000\n",
       "\n",
       "Columns 127 to 128\n",
       "  1.0000  1.0000\n",
       "  1.0000  1.0000\n",
       "  1.0000  1.0000\n",
       "  1.0000  1.0000\n",
       "  1.0000  1.0000\n",
       "  1.0000  1.0000\n",
       "  1.0000  1.0000\n",
       "  1.0000  1.0000\n",
       "  1.0000  1.0000\n",
       "  1.0000  1.0000\n",
       "  1.0000  1.0000\n",
       "  1.0000  1.0000\n",
       "  1.0000  1.0000\n",
       "  1.0000  1.0000\n",
       "  1.0000  1.0000\n",
       "  1.0000  1.0000\n",
       "  1.0000  1.0000\n",
       "  1.0000  1.0000\n",
       "  1.0000  1.0000\n",
       "  1.0000  1.0000\n",
       "  1.0000  1.0000\n",
       "  1.0000  1.0000\n",
       "  1.0000  1.0000\n",
       "  1.0000  1.0000\n",
       "  1.0000  1.0000\n",
       "  1.0000  1.0000\n",
       "  1.0000  1.0000\n",
       "  1.0000  1.0000\n",
       "  1.0000  1.0000\n",
       "  1.0000  1.0000\n",
       "  1.0000  1.0000\n",
       "  1.0000  1.0000\n",
       "  1.0000  1.0000\n",
       "  1.0000  1.0000\n",
       "  1.0000  1.0000\n",
       "  1.0000  1.0000\n",
       "  1.0000  1.0000\n",
       "  1.0000  1.0000\n",
       "  1.0000  1.0000\n",
       "  1.0000  1.0000\n",
       "  1.0000  1.0000\n",
       "  1.0000  1.0000\n",
       "  1.0000  1.0000\n",
       "  1.0000  1.0000\n",
       "  1.0000  1.0000\n",
       "  1.0000  1.0000\n",
       "  1.0000  1.0000\n",
       "  1.0000  1.0000\n",
       "  1.0000  1.0000\n",
       "  1.0000  1.0000\n",
       "  1.0000  1.0000\n",
       "  1.0000  1.0000\n",
       "  1.0000  1.0000\n",
       "  1.0000  1.0000\n",
       "  1.0000  1.0000\n",
       "  1.0000  1.0000\n",
       "  1.0000  1.0000\n",
       "  1.0000  1.0000\n",
       "  1.0000  1.0000\n",
       "  1.0000  1.0000\n",
       "  1.0000  1.0000\n",
       "  1.0000  1.0000\n",
       "  1.0000  1.0000\n",
       "  1.0000  1.0000\n",
       "  1.0000  1.0000\n",
       "  1.0000  1.0000\n",
       "  1.0000  1.0000\n",
       "  1.0000  1.0000\n",
       "  1.0000  1.0000\n",
       "  1.0000  1.0000\n",
       "  1.0000  1.0000\n",
       "  1.0000  1.0000\n",
       "  1.0000  1.0000\n",
       "  1.0000  1.0000\n",
       "  1.0000  1.0000\n",
       "  1.0000  1.0000\n",
       "  1.0000  1.0000\n",
       "  1.0000  1.0000\n",
       "  1.0000  1.0000\n",
       "  1.0000  1.0000\n",
       "  1.0000  1.0000\n",
       "  1.0000  1.0000\n",
       "  1.0000  1.0000\n",
       "  0.9882  0.9882\n",
       "  0.9725  0.9725\n",
       "  0.9647  0.9647\n",
       "  0.9686  0.9647\n",
       "  0.9843  0.9804\n",
       "  1.0000  1.0000\n",
       "  0.8941  1.0000\n",
       "  0.8706  0.9765\n",
       "  0.8235  0.8039\n",
       "  0.8588  0.7804\n",
       "  0.8549  0.7686\n",
       "  0.7843  0.7255\n",
       "  0.9294  0.9333\n",
       "  0.8902  1.0000\n",
       "  0.8902  0.8667\n",
       "  0.9333  0.8039\n",
       "  1.0000  0.8706\n",
       "  1.0000  0.9020\n",
       "  0.9412  0.8392\n",
       "  0.8667  0.8157\n",
       "  0.8157  0.8549\n",
       "  0.8078  0.9451\n",
       "  0.9020  1.0000\n",
       "  1.0000  1.0000\n",
       "  1.0000  1.0000\n",
       "  1.0000  1.0000\n",
       "  0.9647  1.0000\n",
       "  0.9569  1.0000\n",
       "  0.9137  0.9961\n",
       "  1.0000  0.9961\n",
       "  1.0000  0.9961\n",
       "  1.0000  0.9961\n",
       "  1.0000  0.9961\n",
       "  1.0000  1.0000\n",
       "  1.0000  1.0000\n",
       "  1.0000  1.0000\n",
       "  1.0000  1.0000\n",
       "  1.0000  1.0000\n",
       "  1.0000  1.0000\n",
       "  1.0000  1.0000\n",
       "  1.0000  1.0000\n",
       "  1.0000  1.0000\n",
       "  1.0000  1.0000\n",
       "  1.0000  1.0000\n",
       "  1.0000  1.0000\n",
       "\n",
       "(2,.,.) = \n",
       " Columns 1 to 9\n",
       "  0.9882  0.9725  0.9412  0.9137  0.8980  0.8902  0.8941  0.9020  0.9098\n",
       "  1.0000  0.9882  0.9686  0.9490  0.9412  0.9373  0.9412  0.9490  0.9451\n",
       "  1.0000  0.9961  0.9882  0.9843  0.9804  0.9843  0.9882  0.9922  0.9765\n",
       "  0.9922  0.9922  0.9922  0.9961  0.9961  1.0000  1.0000  1.0000  0.9882\n",
       "  0.9922  0.9961  0.9961  1.0000  1.0000  1.0000  1.0000  1.0000  0.9922\n",
       "  1.0000  1.0000  1.0000  1.0000  1.0000  1.0000  1.0000  1.0000  1.0000\n",
       "  1.0000  1.0000  1.0000  1.0000  1.0000  1.0000  1.0000  1.0000  1.0000\n",
       "  1.0000  1.0000  0.9922  0.9922  0.9922  0.9961  1.0000  1.0000  1.0000\n",
       "  1.0000  1.0000  1.0000  1.0000  1.0000  1.0000  1.0000  1.0000  1.0000\n",
       "  1.0000  1.0000  1.0000  1.0000  1.0000  1.0000  1.0000  1.0000  1.0000\n",
       "  1.0000  1.0000  1.0000  1.0000  1.0000  1.0000  1.0000  1.0000  1.0000\n",
       "  1.0000  1.0000  1.0000  1.0000  1.0000  1.0000  1.0000  1.0000  1.0000\n",
       "  1.0000  1.0000  1.0000  1.0000  1.0000  1.0000  1.0000  1.0000  1.0000\n",
       "  1.0000  1.0000  1.0000  1.0000  1.0000  1.0000  1.0000  1.0000  1.0000\n",
       "  1.0000  1.0000  1.0000  1.0000  1.0000  1.0000  1.0000  1.0000  1.0000\n",
       "  1.0000  1.0000  1.0000  1.0000  1.0000  1.0000  1.0000  1.0000  1.0000\n",
       "  1.0000  1.0000  1.0000  1.0000  1.0000  1.0000  1.0000  0.9961  0.9961\n",
       "  1.0000  1.0000  1.0000  1.0000  1.0000  1.0000  0.9961  0.9961  0.9961\n",
       "  1.0000  1.0000  1.0000  1.0000  1.0000  1.0000  0.9961  0.9961  0.9961\n",
       "  1.0000  1.0000  1.0000  1.0000  1.0000  1.0000  0.9961  0.9961  0.9961\n",
       "  1.0000  1.0000  1.0000  1.0000  1.0000  0.9961  0.9961  0.9961  0.9961\n",
       "  1.0000  1.0000  1.0000  1.0000  0.9961  0.9961  0.9961  0.9961  0.9961\n",
       "  0.9961  0.9961  0.9961  0.9961  0.9961  0.9961  0.9961  0.9961  1.0000\n",
       "  0.9961  0.9961  0.9961  0.9961  0.9961  0.9961  0.9961  1.0000  1.0000\n",
       "  0.9961  0.9961  0.9961  0.9961  0.9961  0.9961  1.0000  1.0000  1.0000\n",
       "  0.9961  0.9961  0.9961  0.9961  1."
      ]
     },
     "execution_count": 86,
     "metadata": {},
     "output_type": "execute_result"
    },
    {
     "data": {
      "text/plain": [
       "0000  1.0000  1.0000  1.0000  1.0000\n",
       "  0.9961  0.9961  0.9961  1.0000  1.0000  1.0000  1.0000  1.0000  1.0000\n",
       "  1.0000  1.0000  1.0000  1.0000  1.0000  1.0000  1.0000  1.0000  1.0000\n",
       "  1.0000  1.0000  1.0000  1.0000  1.0000  1.0000  1.0000  1.0000  1.0000\n",
       "  1.0000  1.0000  1.0000  1.0000  1.0000  1.0000  1.0000  1.0000  1.0000\n",
       "  1.0000  1.0000  1.0000  1.0000  1.0000  1.0000  1.0000  1.0000  0.9882\n",
       "  1.0000  1.0000  1.0000  1.0000  1.0000  1.0000  1.0000  1.0000  0.9725\n",
       "  0.9882  1.0000  1.0000  1.0000  0.9961  0.9765  0.9765  0.9765  0.9608\n",
       "  0.9843  1.0000  1.0000  1.0000  0.9961  0.9804  0.9804  0.9804  0.9686\n",
       "  0.9843  1.0000  1.0000  1.0000  1.0000  0.9804  0.9843  0.9843  0.9686\n",
       "  0.9765  1.0000  1.0000  1.0000  1.0000  0.9882  0.9922  0.9922  0.9765\n",
       "  0.9765  1.0000  1.0000  1.0000  1.0000  0.9922  0.9961  0.9961  0.9843\n",
       "  0.9725  0.9922  1.0000  1.0000  1.0000  0.9961  1.0000  1.0000  0.9882\n",
       "  0.9725  0.9882  1.0000  1.0000  1.0000  1.0000  1.0000  1.0000  1.0000\n",
       "  0.9725  0.9843  0.9961  1.0000  1.0000  1.0000  1.0000  1.0000  1.0000\n",
       "  0.9765  0.9804  0.9961  1.0000  1.0000  1.0000  1.0000  1.0000  1.0000\n",
       "  0.9843  0.9843  0.9922  1.0000  1.0000  1.0000  1.0000  1.0000  1.0000\n",
       "  0.9922  0.9922  0.9922  1.0000  1.0000  1.0000  0.9961  0.9961  1.0000\n",
       "  1.0000  0.9961  0.9922  0.9961  1.0000  1.0000  0.9843  0.9882  1.0000\n",
       "  1.0000  1.0000  0.9922  0.9961  1.0000  1.0000  0.9804  0.9765  1.0000\n",
       "  1.0000  1.0000  0.9961  0.9961  1.0000  0.9961  0.9765  0.9725  1.0000\n",
       "  1.0000  1.0000  0.9961  0.9961  1.0000  0.9922  0.9686  0.9608  0.9961\n",
       "  1.0000  1.0000  0.9961  0.9961  1.0000  0.9922  0.9647  0.9608  0.9961\n",
       "  0.9569  1.0000  1.0000  1.0000  0.9882  0.9608  0.9882  1.0000  1.0000\n",
       "  0.9608  1.0000  1.0000  1.0000  0.9882  0.9608  0.9882  1.0000  1.0000\n",
       "  0.9647  1.0000  1.0000  1.0000  0.9882  0.9647  0.9882  1.0000  1.0000\n",
       "  0.9647  1.0000  1.0000  1.0000  0.9882  0.9647  0.9882  1.0000  1.0000\n",
       "  0.9686  1.0000  1.0000  1.0000  0.9882  0.9686  0.9882  1.0000  1.0000\n",
       "  0.9765  1.0000  1.0000  1.0000  0.9843  0.9686  0.9922  1.0000  1.0000\n",
       "  0.9843  1.0000  1.0000  1.0000  0.9843  0.9725  0.9922  1.0000  0.9686\n",
       "  0.9882  1.0000  1.0000  1.0000  0.9804  0.9765  0.9961  1.0000  0.9294\n",
       "  0.9961  1.0000  1.0000  0.9961  0.9804  0.9765  1.0000  1.0000  0.8941\n",
       "  1.0000  1.0000  1.0000  1.0000  0.9804  0.9804  0.9922  0.9843  0.8118\n",
       "  1.0000  1.0000  1.0000  0.9922  0.9765  0.9804  0.9843  0.9686  0.6902\n",
       "  0.9961  1.0000  1.0000  0.9922  0.9725  0.9843  1.0000  0.9725  0.5608\n",
       "  1.0000  1.0000  1.0000  0.9725  0.9686  0.9922  1.0000  0.9804  0.4471\n",
       "  1.0000  1.0000  1.0000  0.9686  0.9686  0.9922  1.0000  0.9451  0.3451\n",
       "  1.0000  1.0000  1.0000  0.9647  0.9725  0.9922  0.9765  0.8863  0.2627\n",
       "  1.0000  1.0000  1.0000  0.9686  0.9725  0.9922  0.9490  0.8275  0.2078\n",
       "  0.9608  0.9804  0.9804  0.9882  1.0000  1.0000  1.0000  0.6353  0.0196\n",
       "  0.9647  0.9804  0.9882  0.9882  1.0000  1.0000  1.0000  0.5608  0.0196\n",
       "  0.9647  0.9725  0.9922  0.9961  1.0000  1.0000  1.0000  0.4392  0.0235\n",
       "  0.9686  0.9608  0.9922  0.9961  1.0000  1.0000  0.9686  0.3216  0.0196\n",
       "  0.9765  0.9647  0.9922  1.0000  1.0000  1.0000  0.9137  0.2314  0.0157\n",
       "  0.9765  0.9725  0.9882  1.0000  1.0000  1.0000  0.8275  0.1608  0.0118\n",
       "  0.9843  0.9843  0.9843  1.0000  1.0000  0.9686  0.7294  0.1059  0.0157\n",
       "  0.9882  0.9843  0.9804  1.0000  1.0000  0.9294  0.6510  0.0627  0.0078\n",
       "  0.9765  0.9843  0.9647  1.0000  1.0000  0.9529  0.4667  0.0627  0.0118\n",
       "  0.9922  0.9843  0.9647  1.0000  1.0000  0.9333  0.3765  0.0275  0.0078\n",
       "  1.0000  0.9843  0.9725  1.0000  0.9882  0.9098  0.2627  0.0000  0.0157\n",
       "  1.0000  0.9765  0.9804  1.0000  0.9765  0.8627  0.1608  0.0000  0.0157\n",
       "  1.0000  0.9686  0.9843  1.0000  0.9843  0.7882  0.0941  0.0000  0.0118\n",
       "  1.0000  0.9686  0.9804  1.0000  1.0000  0.6784  0.0549  0.0000  0.0078\n",
       "  1.0000  0.9804  0.9804  1.0000  1.0000  0.5608  0.0275  0.0000  0.0000\n",
       "  1.0000  0.9843  0.9804  0.9882  1.0000  0.4824  0.0157  0.0000  0.0000\n",
       "  0.9451  0.9961  1.0000  1.0000  0.9412  0.3451  0.0392  0.0000  0.0000\n",
       "  0.9529  0.9961  1.0000  1.0000  0.9294  0."
      ]
     },
     "execution_count": 86,
     "metadata": {},
     "output_type": "execute_result"
    },
    {
     "data": {
      "text/plain": [
       "3020  0.0314  0.0000  0.0000\n",
       "  0.9647  0.9922  1.0000  1.0000  0.8902  0.2353  0.0235  0.0000  0.0000\n",
       "  0.9686  0.9686  1.0000  1.0000  0.8353  0.1725  0.0235  0.0000  0.0000\n",
       "  0.9725  0.9725  1.0000  1.0000  0.7451  0.1255  0.0275  0.0000  0.0000\n",
       "  0.9725  0.9843  1.0000  1.0000  0.6275  0.0980  0.0314  0.0000  0.0000\n",
       "  0.9725  0.9961  1.0000  0.9922  0.5059  0.0784  0.0353  0.0000  0.0000\n",
       "  0.9647  1.0000  1.0000  0.9765  0.4235  0.0667  0.0314  0.0000  0.0000\n",
       "  0.9765  1.0000  0.9961  0.9608  0.2941  0.0706  0.0392  0.0000  0.0000\n",
       "  0.9765  1.0000  0.9922  0.9373  0.2353  0.0431  0.0314  0.0000  0.0000\n",
       "  0.9804  1.0000  0.9961  0.8627  0.1765  0.0157  0.0275  0.0196  0.0000\n",
       "  0.9686  1.0000  1.0000  0.7882  0.1333  0.0000  0.0275  0.0314  0.0000\n",
       "  0.9569  1.0000  1.0000  0.7176  0.0980  0.0000  0.0196  0.0235  0.0000\n",
       "  0.9608  1.0000  1.0000  0.6392  0.0627  0.0000  0.0157  0.0235  0.0000\n",
       "  0.9686  1.0000  1.0000  0.5647  0.0275  0.0000  0.0196  0.0235  0.0000\n",
       "  0.9765  1.0000  0.9922  0.5137  0.0000  0.0000  0.0157  0.0235  0.0000\n",
       "  1.0000  1.0000  0.9765  0.3529  0.0549  0.0000  0.0000  0.0000  0.0118\n",
       "  1.0000  1.0000  0.9725  0.3333  0.0549  0.0000  0.0000  0.0000  0.0118\n",
       "  1.0000  1.0000  0.9333  0.2980  0.0510  0.0000  0.0000  0.0000  0.0078\n",
       "  1.0000  1.0000  0.8784  0.2471  0.0431  0.0000  0.0000  0.0000  0.0078\n",
       "  1.0000  1.0000  0.8157  0.1922  0.0392  0.0000  0.0000  0.0000  0.0078\n",
       "  1.0000  1.0000  0.7569  0.1451  0.0314  0.0000  0.0000  0.0000  0.0039\n",
       "  1.0000  1.0000  0.7059  0.1020  0.0275  0.0000  0.0078  0.0000  0.0000\n",
       "  1.0000  0.9961  0.6784  0.0745  0.0196  0.0000  0.0157  0.0000  0.0000\n",
       "  1.0000  0.9882  0.5529  0.0784  0.0000  0.0157  0.0118  0.0000  0.0000\n",
       "  1.0000  0.9725  0.5137  0.0549  0.0000  0.0118  0.0157  0.0039  0.0000\n",
       "  1.0000  0.9529  0.4510  0.0392  0.0000  0.0039  0.0157  0.0118  0.0000\n",
       "  1.0000  0.9373  0.3804  0.0314  0.0000  0.0039  0.0235  0.0157  0.0000\n",
       "  1.0000  0.9176  0.3137  0.0275  0.0000  0.0118  0.0275  0.0235  0.0000\n",
       "  1.0000  0.8980  0.2510  0.0275  0.0000  0.0118  0.0275  0.0196  0.0000\n",
       "  1.0000  0.8784  0.2039  0.0235  0.0000  0.0078  0.0235  0.0118  0.0000\n",
       "  0.9922  0.8627  0.1686  0.0235  0.0000  0.0039  0.0196  0.0078  0.0000\n",
       "  1.0000  0.7216  0.0824  0.0118  0.0000  0.0314  0.0118  0.0000  0.0000\n",
       "  1.0000  0.6941  0.0784  0.0118  0.0000  0.0314  0.0118  0.0000  0.0000\n",
       "  1.0000  0.6431  0.0706  0.0078  0.0000  0.0314  0.0118  0.0000  0.0000\n",
       "  0.9961  0.5804  0.0588  0.0078  0.0000  0.0275  0.0078  0.0000  0.0000\n",
       "  0.9843  0.5098  0.0471  0.0000  0.0000  0.0196  0.0118  0.0000  0.0000\n",
       "  0.9647  0.4431  0.0353  0.0000  0.0118  0.0196  0.0078  0.0000  0.0000\n",
       "  0.9529  0.3843  0.0196  0.0000  0.0157  0.0157  0.0078  0.0000  0.0000\n",
       "  0.9373  0.3529  0.0078  0.0000  0.0196  0.0196  0.0078  0.0000  0.0000\n",
       "  0.9098  0.2706  0.0275  0.0000  0.0235  0.0392  0.0118  0.0000  0.0000\n",
       "  0.8667  0.2353  0.0078  0.0000  0.0196  0.0353  0.0196  0.0000  0.0000\n",
       "  0.8039  0.2000  0.0000  0.0000  0.0157  0.0392  0.0196  0.0000  0.0000\n",
       "  0.7490  0.1725  0.0000  0.0000  0.0157  0.0392  0.0235  0.0000  0.0000\n",
       "  0.6980  0.1529  0.0078  0.0000  0.0235  0.0431  0.0235  0.0000  0.0000\n",
       "  0.6510  0.1333  0.0078  0.0000  0.0235  0.0392  0.0275  0.0000  0.0000\n",
       "  0.5961  0.0980  0.0000  0.0000  0.0196  0.0392  0.0275  0.0000  0.0000\n",
       "  0.5569  0.0784  0.0000  0.0000  0.0157  0.0392  0.0314  0.0000  0.0000\n",
       "\n",
       "Columns 10 to 18\n",
       "  0.9176  0.9294  0.9373  0.9412  0.9373  0.9333  0.9294  1.0000  0.9412\n",
       "  0.9529  0.9608  0.9686  0.9725  0.9725  0.9647  0.9647  1.0000  0.9686\n",
       "  0.9843  0.9922  0.9961  1.0000  1.0000  0.9961  0.9922  1.0000  1.0000\n",
       "  0.9922  0.9961  1.0000  1.0000  1.0000  1.0000  1.0000  0.9882  0.9961\n",
       "  0.9922  0.9961  1.0000  1.0000  1.0000  1.0000  1.0000  0.9529  0.9922\n",
       "  1.0000  1.0000  1.0000  1.0000  1.0000  1.0000  1.0000  0.9294  0.9922\n",
       "  1.0000  1.0000  1.0000  0.9961  1.0000  1.0000  1.0000  0.9294  0.9961\n",
       "  0.9961  0.9922  0.9922  0.9922  0.9922  0.9961  0.9961  0.9569  0.9961\n",
       "  1.0000  1.0000  1.0000  1.0000  1.0000  1.0000  1.0000  0.9765  0.9529\n",
       "  1.0000  1.0000  1.0000  1.0000  "
      ]
     },
     "execution_count": 86,
     "metadata": {},
     "output_type": "execute_result"
    },
    {
     "data": {
      "text/plain": [
       "1.0000  1.0000  1.0000  0.9882  0.9961\n",
       "  1.0000  1.0000  1.0000  1.0000  1.0000  1.0000  1.0000  1.0000  1.0000\n",
       "  1.0000  1.0000  1.0000  1.0000  1.0000  1.0000  1.0000  1.0000  1.0000\n",
       "  1.0000  1.0000  1.0000  1.0000  1.0000  1.0000  1.0000  1.0000  0.9804\n",
       "  1.0000  1.0000  1.0000  1.0000  1.0000  1.0000  1.0000  0.9922  0.9608\n",
       "  1.0000  1.0000  1.0000  1.0000  1.0000  1.0000  1.0000  0.9765  0.9765\n",
       "  1.0000  1.0000  1.0000  1.0000  1.0000  1.0000  1.0000  0.9647  0.9882\n",
       "  0.9961  0.9961  1.0000  1.0000  1.0000  1.0000  1.0000  0.9647  1.0000\n",
       "  0.9961  0.9961  1.0000  1.0000  1.0000  1.0000  1.0000  0.9765  1.0000\n",
       "  0.9961  0.9961  1.0000  1.0000  1.0000  1.0000  1.0000  0.9843  0.9882\n",
       "  0.9961  1.0000  1.0000  1.0000  1.0000  1.0000  1.0000  0.9843  1.0000\n",
       "  1.0000  1.0000  1.0000  1.0000  1.0000  1.0000  1.0000  0.9725  0.9843\n",
       "  1.0000  1.0000  1.0000  1.0000  1.0000  1.0000  1.0000  0.9765  0.9059\n",
       "  1.0000  1.0000  1.0000  1.0000  1.0000  1.0000  1.0000  0.9922  0.6980\n",
       "  1.0000  1.0000  1.0000  1.0000  1.0000  1.0000  1.0000  0.9922  0.5255\n",
       "  0.9922  1.0000  0.9922  1.0000  1.0000  0.9961  1.0000  0.9176  0.3098\n",
       "  0.9882  1.0000  1.0000  1.0000  0.9961  0.9882  0.9843  0.7529  0.2235\n",
       "  0.9882  1.0000  0.9961  0.9922  0.9843  0.9922  0.9647  0.5294  0.1294\n",
       "  0.9922  0.9882  0.9961  0.9843  0.9725  0.9843  0.9176  0.3255  0.0706\n",
       "  1.0000  0.9765  0.9922  0.9686  0.9804  0.9804  0.8157  0.1765  0.0431\n",
       "  0.9961  0.9686  0.9843  0.9647  0.9765  0.9608  0.6510  0.0824  0.0314\n",
       "  0.9961  0.9686  0.9843  0.9647  0.9765  0.8980  0.4549  0.0392  0.0314\n",
       "  0.9961  0.9725  0.9843  0.9647  0.9725  0.8549  0.3176  0.0314  0.0353\n",
       "  0.9490  0.9765  1.0000  1.0000  1.0000  0.6039  0.0392  0.0392  0.0392\n",
       "  0.9529  0.9765  1.0000  1.0000  0.9922  0.4902  0.0157  0.0353  0.0275\n",
       "  0.9608  0.9725  1.0000  1.0000  0.9098  0.3255  0.0000  0.0353  0.0078\n",
       "  0.9725  0.9804  1.0000  1.0000  0.8000  0.1765  0.0000  0.0353  0.0000\n",
       "  0.9843  0.9882  1.0000  1.0000  0.6510  0.0941  0.0039  0.0353  0.0039\n",
       "  0.9961  0.9961  1.0000  0.9412  0.4667  0.0588  0.0039  0.0235  0.0235\n",
       "  1.0000  0.9961  0.9882  0.8627  0.2824  0.0510  0.0000  0.0118  0.0392\n",
       "  1.0000  1.0000  0.9451  0.8000  0.1451  0.0471  0.0000  0.0000  0.0471\n",
       "  1.0000  1.0000  0.9765  0.5529  0.1216  0.0000  0.0000  0.0118  0.0196\n",
       "  1.0000  1.0000  0.9176  0.4314  0.0745  0.0000  0.0000  0.0039  0.0157\n",
       "  1.0000  1.0000  0.8353  0.2745  0.0353  0.0000  0.0000  0.0039  0.0039\n",
       "  1.0000  1.0000  0.7412  0.1490  0.0157  0.0000  0.0000  0.0039  0.0000\n",
       "  1.0000  1.0000  0.6275  0.0784  0.0039  0.0039  0.0000  0.0078  0.0000\n",
       "  1.0000  0.9882  0.4902  0.0588  0.0000  0.0000  0.0157  0.0078  0.0039\n",
       "  1.0000  0.9451  0.3451  0.0510  0.0000  0.0000  0.0275  0.0000  0.0118\n",
       "  1.0000  0.9059  0.2510  0.0431  0.0000  0.0000  0.0353  0.0000  0.0118\n",
       "  0.9451  0.6549  0.0784  0.0196  0.0000  0.0196  0.0000  0.0078  0.0000\n",
       "  0.9412  0.5608  0.0667  0.0196  0.0000  0.0196  0.0000  0.0078  0.0000\n",
       "  0.9294  0.4118  0.0431  0.0196  0.0000  0.0078  0.0000  0.0118  0.0000\n",
       "  0.8902  0.2706  0.0353  0.0235  0.0039  0.0000  0.0000  0.0196  0.0000\n",
       "  0.8039  0.1725  0.0314  0.0275  0.0157  0.0000  0.0000  0.0235  0.0000\n",
       "  0.6745  0.1255  0.0275  0.0235  0.0157  0.0000  0.0000  0.0157  0.0000\n",
       "  0.5294  0.0980  0.0157  0.0118  0.0118  0.0000  0.0000  0.0039  0.0353\n",
       "  0.4196  0.0784  0.0118  0.0039  0.0157  0.0000  0.0000  0.0000  0.0627\n",
       "  0.2353  0.0706  0.0039  0.0000  0.0157  0.0039  0.0000  0.0000  0.0235\n",
       "  0.1882  0.0392  0.0000  0.0039  0.0157  0.0039  0.0000  0.0000  0.0549\n",
       "  0.1373  0.0078  0.0000  0.0078  0.0157  0.0118  0.0000  0.0000  0.0980\n",
       "  0.0980  0.0000  0.0000  0.0196  0.0157  0.0157  0.0000  0.0000  0.1333\n",
       "  0.0745  0.0000  0.0000  0.0275  0.0118  0.0196  0.0000  0.0000  0.1569\n",
       "  0.0588  0.0000  0.0000  0.0353  0.0039  0.0235  0.0000  0.0000  0.1922\n",
       "  0.0392  0.0000  0.0000  0.0353  0.0000  0.0353  0.0000  0.0000  0.2275\n",
       "  0.0157  0.0000  0.0000  0.0314  0.0000  0.0392  0.0000  0.0000  0.2588\n",
       "  0.0000  0.0157  0.0549  0.0235  0.0000  0.0000  0.0275  0.0196  0.3569\n",
       "  0.0000  0.0157  0.0549  0.0196  0.0000  "
      ]
     },
     "execution_count": 86,
     "metadata": {},
     "output_type": "execute_result"
    },
    {
     "data": {
      "text/plain": [
       "0.0000  0.0314  0.0353  0.4078\n",
       "  0.0000  0.0196  0.0510  0.0157  0.0000  0.0000  0.0275  0.0471  0.4784\n",
       "  0.0000  0.0157  0.0431  0.0157  0.0000  0.0000  0.0275  0.0549  0.5569\n",
       "  0.0000  0.0157  0.0353  0.0118  0.0000  0.0000  0.0353  0.0667  0.6353\n",
       "  0.0000  0.0157  0.0275  0.0078  0.0000  0.0000  0.0392  0.0941  0.7216\n",
       "  0.0000  0.0157  0.0235  0.0000  0.0000  0.0039  0.0392  0.1412  0.8000\n",
       "  0.0000  0.0118  0.0118  0.0000  0.0000  0.0118  0.0392  0.1804  0.8510\n",
       "  0.0039  0.0118  0.0039  0.0000  0.0000  0.0157  0.0431  0.2549  0.8980\n",
       "  0.0196  0.0118  0.0000  0.0000  0.0000  0.0196  0.0392  0.2941  0.9098\n",
       "  0.0314  0.0157  0.0000  0.0000  0.0000  0.0196  0.0353  0.3529  0.9255\n",
       "  0.0353  0.0196  0.0000  0.0000  0.0000  0.0235  0.0353  0.4235  0.9490\n",
       "  0.0431  0.0196  0.0000  0.0000  0.0000  0.0275  0.0392  0.5059  0.9647\n",
       "  0.0392  0.0157  0.0000  0.0000  0.0000  0.0314  0.0471  0.5765  0.9804\n",
       "  0.0392  0.0118  0.0000  0.0000  0.0000  0.0431  0.0510  0.6275  0.9922\n",
       "  0.0353  0.0078  0.0000  0.0000  0.0078  0.0471  0.0549  0.6549  0.9961\n",
       "  0.0000  0.0235  0.0000  0.0000  0.0392  0.0510  0.1137  0.7804  0.9255\n",
       "  0.0000  0.0196  0.0000  0.0000  0.0275  0.0510  0.1294  0.8118  0.9373\n",
       "  0.0000  0.0196  0.0000  0.0000  0.0235  0.0510  0.1647  0.8627  0.9608\n",
       "  0.0000  0.0196  0.0000  0.0000  0.0196  0.0510  0.2157  0.9059  0.9922\n",
       "  0.0078  0.0118  0.0000  0.0039  0.0078  0.0471  0.2667  0.9373  1.0000\n",
       "  0.0078  0.0118  0.0000  0.0118  0.0000  0.0471  0.3176  0.9412  1.0000\n",
       "  0.0118  0.0078  0.0000  0.0196  0.0000  0.0510  0.3608  0.9451  1.0000\n",
       "  0.0118  0.0118  0.0000  0.0235  0.0000  0.0510  0.3922  0.9451  0.9961\n",
       "  0.0000  0.0157  0.0275  0.0000  0.0000  0.0431  0.5020  0.9294  0.9843\n",
       "  0.0000  0.0196  0.0314  0.0000  0.0000  0.0549  0.5333  0.9137  0.9765\n",
       "  0.0000  0.0196  0.0431  0.0000  0.0000  0.0667  0.5725  0.9137  0.9765\n",
       "  0.0000  0.0235  0.0431  0.0000  0.0000  0.0824  0.6235  0.9216  0.9843\n",
       "  0.0000  0.0235  0.0549  0.0000  0.0000  0.1020  0.6745  0.9451  1.0000\n",
       "  0.0000  0.0275  0.0588  0.0000  0.0000  0.1216  0.7176  0.9765  1.0000\n",
       "  0.0000  0.0275  0.0588  0.0000  0.0000  0.1373  0.7490  1.0000  1.0000\n",
       "  0.0000  0.0275  0.0588  0.0000  0.0000  0.1412  0.7686  1.0000  1.0000\n",
       "  0.0314  0.0314  0.0000  0.0000  0.0000  0.2157  0.8784  0.9961  1.0000\n",
       "  0.0314  0.0314  0.0000  0.0000  0.0000  0.2235  0.8863  0.9882  1.0000\n",
       "  0.0275  0.0314  0.0000  0.0000  0.0000  0.2353  0.9059  0.9686  1.0000\n",
       "  0.0314  0.0353  0.0000  0.0000  0.0000  0.2510  0.9255  0.9647  0.9961\n",
       "  0.0275  0.0353  0.0039  0.0000  0.0000  0.2667  0.9451  0.9686  0.9922\n",
       "  0.0235  0.0353  0.0078  0.0000  0.0118  0.2863  0.9686  0.9843  0.9882\n",
       "  0.0196  0.0392  0.0196  0.0000  0.0235  0.3059  0.9843  0.9922  0.9922\n",
       "  0.0157  0.0353  0.0235  0.0000  0.0353  0.3098  0.9922  0.9961  0.9882\n",
       "  0.0039  0.0353  0.0000  0.0000  0.0353  0.3569  1.0000  0.9922  1.0000\n",
       "  0.0000  0.0314  0.0000  0.0000  0.0431  0.3725  1.0000  0.9804  1.0000\n",
       "  0.0000  0.0235  0.0118  0.0078  0.0510  0.4039  1.0000  1.0000  1.0000\n",
       "  0.0000  0.0196  0.0314  0.0118  0.0588  0.4392  1.0000  1.0000  1.0000\n",
       "  0.0000  0.0118  0.0431  0.0118  0.0588  0.4824  1.0000  1.0000  1.0000\n",
       "  0.0000  0.0039  0.0549  0.0118  0.0627  0.5176  1.0000  0.9882  1.0000\n",
       "  0.0000  0.0039  0.0667  0.0196  0.0667  0.5451  1.0000  0.9804  0.9843\n",
       "  0.0000  0.0000  0.0706  0.0157  0.0706  0.5608  1.0000  0.9686  0.9686\n",
       "  0.0118  0.0353  0.0353  0.0000  0.0392  0.6039  0.9922  1.0000  1.0000\n",
       "  0.0157  0.0353  0.0353  0.0000  0.0431  0.6118  0.9922  1.0000  1.0000\n",
       "  0.0157  0.0353  0.0314  0.0000  0.0510  0.6235  1.0000  1.0000  1.0000\n",
       "  0.0157  0.0314  0.0235  0.0000  0.0627  0.6392  1.0000  1.0000  1.0000\n",
       "  0.0196  0.0314  0.0157  0.0000  0.0745  0.6510  1.0000  1.0000  1.0000\n",
       "  0.0235  0.0275  0.0078  0.0000  0.0902  0.6667  1.0000  1.0000  1.0000\n",
       "  0.0196  0.0196  0.0039  0.0000  0.0980  0.6784  1.0000  1.0000  1.0000\n",
       "  0.0157  0.0196  0.0000  0.0000  0.1059  0.6863  1.0000  1.0000  1.0000\n",
       "  0.0000  0.0118  0.0000  0.0000  0.0745  0.7529  1.0000  1.0000  1.0000\n",
       "  0.0000  0.0157  0.0000  0.0000  0.0863  0.7608  "
      ]
     },
     "execution_count": 86,
     "metadata": {},
     "output_type": "execute_result"
    },
    {
     "data": {
      "text/plain": [
       "1.0000  1.0000  1.0000\n",
       "  0.0000  0.0157  0.0000  0.0039  0.0980  0.7765  1.0000  1.0000  1.0000\n",
       "  0.0000  0.0196  0.0000  0.0000  0.1020  0.7804  1.0000  1.0000  1.0000\n",
       "  0.0000  0.0118  0.0000  0.0000  0.1059  0.7882  1.0000  1.0000  1.0000\n",
       "  0.0000  0.0157  0.0000  0.0000  0.1059  0.7961  1.0000  1.0000  1.0000\n",
       "  0.0000  0.0157  0.0000  0.0000  0.1137  0.8039  1.0000  1.0000  1.0000\n",
       "  0.0000  0.0235  0.0000  0.0000  0.1216  0.8118  1.0000  1.0000  1.0000\n",
       "\n",
       "Columns 19 to 27\n",
       "  0.8941  0.9294  0.9765  0.9451  0.8941  0.9059  1.0000  1.0000  0.9333\n",
       "  0.9294  0.9725  1.0000  0.9961  0.9490  0.9490  1.0000  1.0000  0.6431\n",
       "  0.9765  1.0000  1.0000  1.0000  0.9804  0.9843  0.9961  0.9098  0.3098\n",
       "  1.0000  0.9961  0.9922  0.9882  0.9961  0.9922  0.9490  0.6353  0.1176\n",
       "  1.0000  0.9922  0.9569  0.9765  1.0000  1.0000  0.8588  0.2980  0.0471\n",
       "  1.0000  1.0000  0.9647  0.9922  1.0000  1.0000  0.6314  0.0549  0.0000\n",
       "  1.0000  1.0000  0.9765  1.0000  1.0000  0.9098  0.3176  0.0000  0.0000\n",
       "  1.0000  0.9922  0.9882  1.0000  0.9765  0.7843  0.0824  0.0392  0.0000\n",
       "  1.0000  0.9922  0.9882  1.0000  0.9961  0.4078  0.0275  0.0000  0.0118\n",
       "  0.9961  0.9922  1.0000  1.0000  0.7882  0.2196  0.0000  0.0000  0.0000\n",
       "  0.9843  0.9961  1.0000  0.9922  0.5137  0.0667  0.0000  0.0000  0.0000\n",
       "  0.9804  0.9765  1.0000  0.8353  0.2784  0.0275  0.0000  0.0000  0.0510\n",
       "  1.0000  0.9804  0.9922  0.5882  0.1059  0.0275  0.0000  0.0000  0.0353\n",
       "  1.0000  1.0000  0.8941  0.3451  0.0000  0.0000  0.0000  0.0275  0.0000\n",
       "  1.0000  1.0000  0.6980  0.1647  0.0000  0.0000  0.0000  0.0431  0.0000\n",
       "  0.9725  0.9843  0.5176  0.0745  0.0000  0.0000  0.0000  0.0235  0.0314\n",
       "  1.0000  0.8039  0.1451  0.0275  0.0471  0.0157  0.0000  0.0000  0.0510\n",
       "  1.0000  0.6039  0.1294  0.0314  0.0275  0.0314  0.0000  0.0000  0.0627\n",
       "  0.9490  0.3451  0.1020  0.0314  0.0039  0.0353  0.0000  0.0000  0.1412\n",
       "  0.7843  0.1686  0.0745  0.0275  0.0078  0.0196  0.0000  0.0078  0.3176\n",
       "  0.5529  0.1059  0.0549  0.0118  0.0157  0.0000  0.0000  0.0314  0.5569\n",
       "  0.3294  0.0824  0.0314  0.0039  0.0196  0.0000  0.0235  0.1529  0.7765\n",
       "  0.1843  0.0431  0.0157  0.0000  0.0000  0.0000  0.0314  0.3647  0.9098\n",
       "  0.1176  0.0000  0.0000  0.0000  0.0000  0.0157  0.0431  0.5490  0.9725\n",
       "  0.0784  0.0039  0.0000  0.0000  0.0196  0.0039  0.1137  0.7765  1.0000\n",
       "  0.0353  0.0000  0.0000  0.0000  0.0118  0.0118  0.2588  0.8510  1.0000\n",
       "  0.0078  0.0000  0.0000  0.0000  0.0000  0.0392  0.4510  0.9373  1.0000\n",
       "  0.0078  0.0078  0.0000  0.0000  0.0000  0.0941  0.6431  0.9961  1.0000\n",
       "  0.0118  0.0275  0.0000  0.0000  0.0000  0.1765  0.8039  1.0000  1.0000\n",
       "  0.0118  0.0275  0.0000  0.0000  0.0000  0.2980  0.9176  1.0000  1.0000\n",
       "  0.0039  0.0353  0.0000  0.0000  0.0235  0.4471  0.9961  1.0000  0.9922\n",
       "  0.0078  0.0471  0.0000  0.0000  0.0667  0.5569  1.0000  1.0000  0.9843\n",
       "  0.0000  0.0000  0.0000  0.0549  0.2196  0.8549  1.0000  1.0000  0.9647\n",
       "  0.0000  0.0000  0.0000  0.0471  0.2941  0.9020  1.0000  1.0000  0.9647\n",
       "  0.0000  0.0000  0.0000  0.0471  0.4078  0.9686  1.0000  1.0000  0.9686\n",
       "  0.0000  0.0000  0.0000  0.0549  0.5373  1.0000  1.0000  1.0000  0.9725\n",
       "  0.0000  0.0000  0.0039  0.0980  0.6627  1.0000  1.0000  1.0000  0.9725\n",
       "  0.0000  0.0000  0.0235  0.1804  0.7882  1.0000  1.0000  1.0000  0.9765\n",
       "  0.0000  0.0039  0.0471  0.2863  0.8941  1.0000  1.0000  1.0000  0.9843\n",
       "  0.0000  0.0275  0.0745  0.3647  0.9647  1.0000  1.0000  0.9961  0.9882\n",
       "  0.0000  0.0118  0.0824  0.5882  0.9765  0.9922  1.0000  0.9922  0.9961\n",
       "  0.0000  0.0353  0.1294  0.6824  0.9882  0.9882  0.9961  0.9922  1.0000\n",
       "  0.0000  0.0510  0.1922  0.8118  0.9804  0.9882  0.9843  0.9922  1.0000\n",
       "  0.0000  0.0549  0.2706  0.9216  0.9843  0.9922  0.9804  0.9882  1.0000\n",
       "  0.0000  0.0588  0.3725  0.9843  0.9922  0.9922  0.9725  0.9882  1.0000\n",
       "  0.0000  0.0706  0.5020  0.9961  1.0000  0.9922  0.9686  0.9843  1.0000\n",
       "  0.0000  0.1059  0.6353  0.9922  1.0000  0.9843  0.9647  0.9843  1.0000\n",
       "  0.0000  0.1333  0.7255  0.9804  1.0000  0.9765  0.9647  0.9843  1.0000\n",
       "  0.0157  0.1843  0.8980  1.0000  0.9725  0.9529  0.9843  1.0000  1.0000\n",
       "  0.0235  0.2549  0.9333  1.0000  0.9686"
      ]
     },
     "execution_count": 86,
     "metadata": {},
     "output_type": "execute_result"
    },
    {
     "data": {
      "text/plain": [
       "  0.9569  0.9843  1.0000  1.0000\n",
       "  0.0235  0.3647  0.9765  1.0000  0.9686  0.9569  0.9843  1.0000  1.0000\n",
       "  0.0353  0.4784  1.0000  1.0000  0.9647  0.9608  0.9882  1.0000  1.0000\n",
       "  0.0510  0.5843  0.9922  1.0000  0.9686  0.9647  0.9922  1.0000  1.0000\n",
       "  0.0941  0.6941  0.9843  1.0000  0.9765  0.9725  0.9961  1.0000  1.0000\n",
       "  0.1569  0.7882  0.9804  1.0000  0.9922  0.9804  1.0000  1.0000  1.0000\n",
       "  0.2118  0.8549  0.9843  1.0000  0.9922  0.9804  1.0000  1.0000  1.0000\n",
       "  0.3686  0.9216  0.9804  0.9843  0.9922  0.9961  1.0000  1.0000  1.0000\n",
       "  0.4392  0.9529  0.9843  0.9765  0.9922  1.0000  1.0000  1.0000  1.0000\n",
       "  0.5333  0.9843  0.9882  0.9725  0.9922  1.0000  1.0000  1.0000  1.0000\n",
       "  0.6353  1.0000  0.9882  0.9686  0.9922  1.0000  1.0000  1.0000  1.0000\n",
       "  0.7255  1.0000  0.9843  0.9608  0.9922  1.0000  1.0000  1.0000  1.0000\n",
       "  0.8157  1.0000  0.9765  0.9569  0.9922  1.0000  1.0000  1.0000  1.0000\n",
       "  0.8941  1.0000  0.9725  0.9569  0.9922  1.0000  1.0000  1.0000  1.0000\n",
       "  0.9373  1.0000  0.9725  0.9529  0.9922  1.0000  1.0000  1.0000  1.0000\n",
       "  0.9373  1.0000  0.9922  0.9686  1.0000  1.0000  1.0000  0.9765  0.9882\n",
       "  0.9608  1.0000  0.9961  0.9686  1.0000  1.0000  1.0000  0.9804  0.9882\n",
       "  0.9882  1.0000  0.9922  0.9686  1.0000  1.0000  1.0000  0.9804  0.9882\n",
       "  1.0000  1.0000  0.9922  0.9725  1.0000  1.0000  1.0000  0.9804  0.9882\n",
       "  1.0000  1.0000  0.9922  0.9765  0.9922  1.0000  1.0000  0.9804  0.9922\n",
       "  1.0000  1.0000  0.9882  0.9804  0.9843  1.0000  1.0000  0.9804  0.9961\n",
       "  1.0000  1.0000  0.9922  0.9765  0.9725  1.0000  1.0000  0.9843  0.9961\n",
       "  1.0000  1.0000  0.9922  0.9725  0.9686  1.0000  1.0000  0.9843  1.0000\n",
       "  1.0000  1.0000  0.9922  0.9725  0.9725  1.0000  1.0000  0.9843  1.0000\n",
       "  1.0000  1.0000  0.9882  0.9686  0.9686  1.0000  0.9961  0.9882  1.0000\n",
       "  1.0000  1.0000  0.9882  0.9647  0.9765  1.0000  1.0000  0.9882  1.0000\n",
       "  1.0000  1.0000  0.9882  0.9608  0.9804  1.0000  1.0000  0.9882  1.0000\n",
       "  1.0000  1.0000  0.9882  0.9608  0.9804  1.0000  1.0000  0.9922  1.0000\n",
       "  1.0000  1.0000  0.9882  0.9569  0.9804  1.0000  0.9961  0.9922  1.0000\n",
       "  1.0000  1.0000  0.9804  0.9569  0.9804  0.9961  0.9961  0.9961  1.0000\n",
       "  1.0000  1.0000  0.9804  0.9569  0.9804  0.9882  0.9961  0.9961  1.0000\n",
       "  1.0000  1.0000  1.0000  1.0000  0.9608  0.9647  0.9765  0.9922  1.0000\n",
       "  1.0000  1.0000  1.0000  1.0000  0.9765  0.9686  0.9529  0.9608  0.9765\n",
       "  1.0000  1.0000  1.0000  1.0000  0.9843  0.9686  0.9725  0.9765  0.9961\n",
       "  1.0000  1.0000  1.0000  1.0000  0.9804  0.9686  0.9647  0.9608  0.9843\n",
       "  1.0000  1.0000  1.0000  1.0000  0.9882  0.9765  0.9725  0.9804  1.0000\n",
       "  1.0000  1.0000  1.0000  1.0000  0.9725  0.9451  0.9608  0.9725  0.9843\n",
       "  1.0000  1.0000  1.0000  1.0000  0.8941  0.8196  0.8039  0.8157  0.8118\n",
       "  1.0000  1.0000  1.0000  0.9725  0.8078  0.6824  0.7059  0.7137  0.7059\n",
       "  1.0000  1.0000  1.0000  0.9765  0.7647  0.7725  0.7961  0.8157  0.7961\n",
       "  1.0000  1.0000  1.0000  0.9647  0.7647  0.7804  0.8196  0.8353  0.8196\n",
       "  1.0000  1.0000  1.0000  0.9490  0.7647  0.7922  0.8314  0.8314  0.8431\n",
       "  1.0000  1.0000  0.9804  0.9333  0.7608  0.8039  0.8196  0.8118  0.8510\n",
       "  1.0000  1.0000  0.9647  0.9176  0.7569  0.8118  0.8039  0.7922  0.8431\n",
       "  1.0000  0.9961  0.9490  0.9020  0.7569  0.8157  0.7922  0.7843  0.8314\n",
       "  1.0000  0.9882  0.9373  0.8980  0.7569  0.8235  0.7843  0.7843  0.8157\n",
       "  1.0000  0.9843  0.9294  0.8941  0.7608  0.8235  0.7725  0.7843  0.8157\n",
       "  1.0000  1.0000  0.9412  0.7373  0.7804  0.8706  0.8706  0.6941  0.8078\n",
       "  1.0000  0.9922  0.9373  0.7373  0.7843  0.8627  0.8314  0.6706  0.7490\n",
       "  1.0000  0.9725  0.9137  0.7333  0.8039  0.8588  0.8078  0.6706  0.6980\n",
       "  1.0000  0.9608  0.8941  0.7412  0.8314  0.8549  0.8078  0.7176  0.6863\n",
       "  1.0000  0.9569  0.8863  0.7529  0.8510  0.8510  0.7843  0.7686  0.7137\n",
       "  1.0000  0.9686  0.8824  0.7647  0.8627  0.8588  0.7490  0.8118  0.7608\n",
       "  1.0000  0.9765  0.8706  0.7608  0.8784  0.8627  0.7294  0.8745  0.8392\n",
       "  1.0000  0.9804  0.8588  0.7412  0.8706  0.8392  0.7412  0.9333  0.9098\n",
       "  1.0000  0.9647  0.8118  0.6784  0.6627  0.7020  0.6980  0.9294  0.9176\n",
       "  1.0000  1.0000  0.9294  0.8549  0.8627  0.9098"
      ]
     },
     "execution_count": 86,
     "metadata": {},
     "output_type": "execute_result"
    },
    {
     "data": {
      "text/plain": [
       "  0.8706  1.0000  0.9961\n",
       "  1.0000  1.0000  0.9882  0.9608  0.9725  1.0000  0.9882  1.0000  1.0000\n",
       "  1.0000  1.0000  1.0000  0.9647  0.9608  0.9961  1.0000  1.0000  1.0000\n",
       "  1.0000  1.0000  1.0000  0.9686  0.9686  0.9961  1.0000  1.0000  1.0000\n",
       "  1.0000  1.0000  1.0000  0.9725  0.9647  0.9843  1.0000  1.0000  1.0000\n",
       "  0.9961  1.0000  0.9882  0.9647  0.9490  0.9608  0.9922  1.0000  1.0000\n",
       "  0.9647  0.9725  0.9804  0.9647  0.9529  0.9608  0.9961  0.9922  1.0000\n",
       "  1.0000  1.0000  1.0000  1.0000  1.0000  1.0000  1.0000  1.0000  1.0000\n",
       "  1.0000  1.0000  1.0000  1.0000  1.0000  1.0000  1.0000  1.0000  1.0000\n",
       "  1.0000  1.0000  1.0000  1.0000  1.0000  1.0000  1.0000  1.0000  1.0000\n",
       "  1.0000  1.0000  1.0000  1.0000  1.0000  1.0000  1.0000  1.0000  1.0000\n",
       "  1.0000  1.0000  1.0000  1.0000  1.0000  1.0000  1.0000  1.0000  1.0000\n",
       "  1.0000  1.0000  1.0000  1.0000  1.0000  1.0000  1.0000  1.0000  1.0000\n",
       "  1.0000  1.0000  1.0000  1.0000  1.0000  1.0000  1.0000  1.0000  1.0000\n",
       "  1.0000  1.0000  1.0000  1.0000  1.0000  1.0000  1.0000  1.0000  1.0000\n",
       "  1.0000  1.0000  1.0000  1.0000  1.0000  1.0000  1.0000  1.0000  1.0000\n",
       "  1.0000  1.0000  1.0000  1.0000  1.0000  1.0000  1.0000  1.0000  1.0000\n",
       "  1.0000  1.0000  1.0000  1.0000  1.0000  1.0000  1.0000  1.0000  1.0000\n",
       "  1.0000  1.0000  1.0000  1.0000  1.0000  1.0000  1.0000  1.0000  1.0000\n",
       "  1.0000  1.0000  1.0000  1.0000  1.0000  1.0000  1.0000  1.0000  1.0000\n",
       "  1.0000  1.0000  1.0000  1.0000  1.0000  1.0000  1.0000  1.0000  1.0000\n",
       "  1.0000  1.0000  1.0000  1.0000  1.0000  1.0000  1.0000  1.0000  1.0000\n",
       "  1.0000  1.0000  1.0000  1.0000  1.0000  1.0000  1.0000  1.0000  1.0000\n",
       "\n",
       "Columns 28 to 36\n",
       "  0.3843  0.1333  0.1608  0.2000  0.1765  0.2196  0.1608  0.0667  0.0078\n",
       "  0.1922  0.0157  0.0549  0.0745  0.0627  0.0588  0.0235  0.0000  0.0000\n",
       "  0.0314  0.0000  0.0314  0.0196  0.0235  0.0471  0.0275  0.0000  0.0000\n",
       "  0.0039  0.0471  0.0549  0.0196  0.0275  0.0000  0.0000  0.0039  0.0000\n",
       "  0.0000  0.0510  0.0157  0.0000  0.0000  0.0000  0.0078  0.0588  0.0549\n",
       "  0.0000  0.0157  0.0000  0.0000  0.0039  0.0000  0.0431  0.0980  0.1020\n",
       "  0.0000  0.0078  0.0000  0.0314  0.0392  0.0000  0.1569  0.3333  0.3647\n",
       "  0.0235  0.0157  0.0157  0.0353  0.0353  0.2745  0.5922  0.9137  0.9216\n",
       "  0.0078  0.0235  0.0431  0.0431  0.2157  0.7529  0.8588  0.9882  0.9686\n",
       "  0.0510  0.0157  0.0392  0.1804  0.5608  0.9451  0.9451  0.9961  1.0000\n",
       "  0.0667  0.0549  0.0549  0.4275  0.8863  1.0000  0.9882  0.9765  1.0000\n",
       "  0.0627  0.1098  0.1686  0.7255  0.9765  1.0000  0.9961  0.9725  0.9922\n",
       "  0.0784  0.1098  0.4471  0.9529  0.9647  1.0000  1.0000  0.9804  0.9804\n",
       "  0.0980  0.1647  0.7647  0.9922  0.9608  1.0000  1.0000  0.9843  0.9765\n",
       "  0.0784  0.4196  0.9529  1.0000  0.9961  1.0000  1.0000  0.9765  0.9647\n",
       "  0.0275  0.7059  0.9843  0.9843  0.9922  1.0000  1.0000  1.0000  0.9804\n",
       "  0.3647  0.9922  1.0000  0.9765  0.9922  1.0000  1.0000  1.0000  1.0000\n",
       "  0.5569  0.9961  1.0000  1.0000  0.9922  1.0000  1.0000  1.0000  1.0000\n",
       "  0.8000  1.0000  1.0000  1.0000  0.9725  0.9961  1.0000  1.0000  1.0000\n",
       "  0.9569  1.0000  1.0000  0.9961  0.9765  0.9882  1.0000  1.0000  1.0000\n",
       "  0.9961  1.0000  1.0000  0.9882  0.9961  0.9804  1.0000  1.0000  1.0000\n",
       "  1.0000  1.0000  0.9882  0.9765  1.0000  0.9804  1.0000  1.0000  1.0000\n",
       "  1.0000  1.0000  0.9725  0.9725  1.0000  0.9765  0.9961  1.0000  1.0000\n",
       "  1.0000  1.0000  0.9569  0.9804  1.0000  0.9725  0.9882  1.0000  1.0000\n",
       "  1.0000  1.0000  0.9451  0.9804  0.9961  0.9765  0.9843  1.0000  1.0000\n",
       "  1.0000  1.0000  0.9529  0.9882  0.9882  0.9804  0.9882  1.0000  1.0000\n",
       "  1.0000  0.9961  0.9725  0.9961  0.9804  0.9882  0.9882  0.9961  1.0000\n",
       "  0.9961  0.9922  0.9882  1.0000  0.9843  0.9961  0.9922  0.9961  1.0000\n",
       "  0.9725  0.9882  1.0000  1.0000  0.9882  1.0000  0.9961  0.9961  1.0000\n",
       "  0.9529  0.9843  1.0000  1.0000  0.9922  1.0000  1.0000  1.0000  1.0000\n",
       "  0.9451  0.9804  1.0000  1.0000  0.9882  1.0000  1.0000  1.0000  1.0000\n",
       "  0.9373  0.9765  1.0000  1.0000  0.9882  1.0000  1.0000  1.0000  1.0000\n",
       "  0.9725  1.0000  1.0000  1.0000  0.9804  1.0000  1.0000  0.9882  0.9647\n",
       "  0.9725  1.0000  1.0000  1.0000  0.98"
      ]
     },
     "execution_count": 86,
     "metadata": {},
     "output_type": "execute_result"
    },
    {
     "data": {
      "text/plain": [
       "04  1.0000  1.0000  0.9882  0.9686\n",
       "  0.9765  1.0000  1.0000  1.0000  0.9804  1.0000  1.0000  0.9882  0.9686\n",
       "  0.9765  1.0000  1.0000  1.0000  0.9804  1.0000  1.0000  0.9882  0.9686\n",
       "  0.9804  1.0000  1.0000  1.0000  0.9843  1.0000  1.0000  0.9882  0.9725\n",
       "  0.9843  1.0000  1.0000  1.0000  0.9882  1.0000  1.0000  0.9882  0.9765\n",
       "  0.9922  1.0000  1.0000  1.0000  0.9882  1.0000  1.0000  0.9882  0.9804\n",
       "  0.9961  1.0000  1.0000  1.0000  0.9922  1.0000  1.0000  0.9882  0.9843\n",
       "  1.0000  1.0000  1.0000  1.0000  0.9961  1.0000  1.0000  0.9882  0.9882\n",
       "  1.0000  1.0000  1.0000  1.0000  1.0000  1.0000  1.0000  0.9882  0.9922\n",
       "  1.0000  1.0000  1.0000  1.0000  1.0000  1.0000  1.0000  0.9882  0.9961\n",
       "  1.0000  1.0000  1.0000  0.9961  1.0000  1.0000  1.0000  0.9882  1.0000\n",
       "  1.0000  1.0000  0.9961  0.9961  1.0000  1.0000  0.9961  0.9882  1.0000\n",
       "  1.0000  1.0000  0.9922  0.9961  1.0000  1.0000  0.9961  0.9882  1.0000\n",
       "  1.0000  1.0000  0.9882  0.9922  1.0000  1.0000  0.9961  0.9882  1.0000\n",
       "  1.0000  1.0000  0.9882  0.9922  1.0000  1.0000  0.9961  0.9882  1.0000\n",
       "  1.0000  1.0000  1.0000  1.0000  0.9843  1.0000  1.0000  1.0000  0.9843\n",
       "  1.0000  1.0000  1.0000  1.0000  0.9843  1.0000  1.0000  1.0000  0.9843\n",
       "  1.0000  0.9961  1.0000  1.0000  0.9882  1.0000  1.0000  1.0000  0.9843\n",
       "  1.0000  0.9961  1.0000  1.0000  0.9922  1.0000  1.0000  1.0000  0.9843\n",
       "  1.0000  0.9961  1.0000  1.0000  0.9961  1.0000  1.0000  1.0000  0.9882\n",
       "  1.0000  0.9961  1.0000  1.0000  1.0000  1.0000  1.0000  1.0000  0.9922\n",
       "  1.0000  0.9922  0.9961  1.0000  1.0000  1.0000  1.0000  1.0000  0.9922\n",
       "  1.0000  0.9882  0.9922  1.0000  1.0000  1.0000  1.0000  1.0000  0.9961\n",
       "  1.0000  0.9843  0.9843  1.0000  1.0000  1.0000  1.0000  1.0000  0.9961\n",
       "  1.0000  0.9843  0.9804  1.0000  1.0000  1.0000  1.0000  1.0000  1.0000\n",
       "  1.0000  0.9804  0.9765  1.0000  1.0000  1.0000  1.0000  1.0000  1.0000\n",
       "  1.0000  0.9765  0.9686  1.0000  1.0000  1.0000  1.0000  1.0000  1.0000\n",
       "  1.0000  0.9765  0.9686  1.0000  1.0000  0.9961  1.0000  1.0000  1.0000\n",
       "  1.0000  0.9765  0.9647  0.9961  1.0000  0.9961  1.0000  1.0000  1.0000\n",
       "  1.0000  0.9765  0.9608  0.9961  1.0000  0.9961  1.0000  1.0000  1.0000\n",
       "  1.0000  0.9765  0.9608  0.9961  1.0000  0.9961  1.0000  1.0000  1.0000\n",
       "  1.0000  1.0000  0.9922  1.0000  1.0000  1.0000  1.0000  1.0000  1.0000\n",
       "  1.0000  1.0000  0.9922  1.0000  1.0000  1.0000  1.0000  1.0000  1.0000\n",
       "  1.0000  1.0000  0.9922  1.0000  1.0000  1.0000  1.0000  1.0000  1.0000\n",
       "  1.0000  1.0000  0.9882  0.9961  1.0000  1.0000  1.0000  1.0000  1.0000\n",
       "  1.0000  1.0000  0.9882  0.9961  1.0000  1.0000  1.0000  1.0000  1.0000\n",
       "  1.0000  1.0000  0.9882  0.9961  1.0000  1.0000  1.0000  1.0000  1.0000\n",
       "  1.0000  1.0000  0.9882  0.9922  1.0000  1.0000  1.0000  1.0000  1.0000\n",
       "  1.0000  1.0000  0.9882  0.9882  1.0000  1.0000  1.0000  1.0000  1.0000\n",
       "  1.0000  1.0000  0.9843  0.9843  1.0000  1.0000  1.0000  1.0000  1.0000\n",
       "  1.0000  1.0000  0.9843  0.9804  0.9922  1.0000  1.0000  1.0000  1.0000\n",
       "  1.0000  1.0000  0.9843  0.9765  0.9922  1.0000  1.0000  1.0000  1.0000\n",
       "  1.0000  1.0000  0.9843  0.9765  0.9882  1.0000  1.0000  1.0000  1.0000\n",
       "  1.0000  1.0000  0.9804  0.9765  0.9843  1.0000  1.0000  1.0000  1.0000\n",
       "  1.0000  1.0000  0.9804  0.9725  0.9843  1.0000  1.0000  1.0000  1.0000\n",
       "  1.0000  1.0000  0.9804  0.9725  0.9804  1.0000  1.0000  1.0000  1.0000\n",
       "  1.0000  1.0000  0.9804  0.9725  0.9804  1.0000  1.0000  1.0000  1.0000\n",
       "  1.0000  1.0000  1.0000  0.9922  0.9804  0.9490  0.9686  0.9843  0.9843\n",
       "  0.9961  1.0000  0.9961  0.9804  0.9686  0.9647  0.9882  0.9961  0.9843\n",
       "  1.0000  1.0000  1.0000  1.0000  0.9922  1.0000  1.0000  1.0000  0.9961\n",
       "  1.0000  1.0000  0.9961  0.9882  1.0000  0.9961  0.9961  0.9961  0.9961\n",
       "  1.0000  1.0000  1.0000  1.0000  1.0000  1.0000  1.0000  1.0000  0.9961\n",
       "  0.9961  1.0000  1.0000  1.0000  0.9765  0.9843  0.9922  0.9843  0.9765\n",
       "  0.8353  0.9333  1.0000  0.9451  0.8078  0.7804  0.8039  0.8039  0.7922\n",
       "  0.7373  0.8824  0.9843  0.8941  0.7059  0.6588  0.6980  0.7059  0.7059\n",
       "  0.7961  0.8157  0.9529  0.8431  0.7569  0.7843  0.8235  0.8471  0.8078\n",
       "  0.8039  0.7647  0.9176  0.7804  0.7529  0.80"
      ]
     },
     "execution_count": 86,
     "metadata": {},
     "output_type": "execute_result"
    },
    {
     "data": {
      "text/plain": [
       "00  0.8235  0.8627  0.8314\n",
       "  0.8196  0.7216  0.8902  0.7294  0.7882  0.8039  0.8118  0.8627  0.8314\n",
       "  0.8392  0.7020  0.8706  0.7098  0.8314  0.8039  0.7961  0.8510  0.8157\n",
       "  0.8471  0.7098  0.8118  0.7059  0.8471  0.7843  0.7882  0.8314  0.8118\n",
       "  0.8510  0.7490  0.7373  0.7176  0.8275  0.7647  0.7961  0.8235  0.8078\n",
       "  0.8627  0.8235  0.6902  0.7686  0.8314  0.7569  0.8196  0.8275  0.8118\n",
       "  0.8745  0.8824  0.6824  0.8314  0.8588  0.7569  0.8431  0.8275  0.8118\n",
       "  0.8000  0.8196  0.7843  0.8000  0.8157  0.7451  0.6314  0.8314  0.9176\n",
       "  0.7882  0.8000  0.7922  0.7922  0.8235  0.7059  0.6392  0.8000  0.8745\n",
       "  0.7882  0.7843  0.8118  0.7843  0.8275  0.6706  0.6784  0.7725  0.8353\n",
       "  0.7922  0.7843  0.8314  0.7882  0.8196  0.6667  0.7490  0.7765  0.8353\n",
       "  0.7922  0.7882  0.8471  0.8157  0.8196  0.7059  0.8275  0.7843  0.8471\n",
       "  0.7686  0.8000  0.8392  0.8510  0.8039  0.7725  0.8824  0.7765  0.8549\n",
       "  0.7490  0.8078  0.8314  0.8667  0.7725  0.8510  0.9216  0.7608  0.8510\n",
       "  0.7451  0.8000  0.8000  0.8549  0.7294  0.9059  0.9412  0.7451  0.8431\n",
       "  0.7333  0.6941  0.7137  0.6980  0.7137  0.9804  0.8784  0.7765  0.7255\n",
       "  0.8941  0.8863  0.8784  0.8549  0.9059  0.9804  0.9373  0.9059  0.9059\n",
       "  0.9882  0.9843  0.9765  0.9490  0.9961  0.9843  0.9765  0.9922  1.0000\n",
       "  0.9922  0.9882  0.9765  0.9529  1.0000  0.9961  0.9843  1.0000  1.0000\n",
       "  1.0000  0.9961  0.9882  0.9882  1.0000  1.0000  1.0000  0.9961  1.0000\n",
       "  1.0000  0.9804  0.9961  1.0000  1.0000  1.0000  1.0000  1.0000  1.0000\n",
       "  1.0000  0.9686  0.9843  1.0000  1.0000  0.9882  0.9961  1.0000  1.0000\n",
       "  1.0000  0.9765  0.9725  0.9922  1.0000  0.9843  0.9882  0.9922  0.9922\n",
       "  1.0000  1.0000  1.0000  1.0000  1.0000  1.0000  1.0000  1.0000  1.0000\n",
       "  1.0000  1.0000  1.0000  1.0000  1.0000  1.0000  1.0000  1.0000  1.0000\n",
       "  1.0000  1.0000  1.0000  1.0000  1.0000  1.0000  1.0000  1.0000  1.0000\n",
       "  1.0000  1.0000  1.0000  1.0000  1.0000  1.0000  1.0000  1.0000  1.0000\n",
       "  1.0000  1.0000  1.0000  1.0000  1.0000  1.0000  1.0000  1.0000  1.0000\n",
       "  1.0000  1.0000  1.0000  1.0000  1.0000  1.0000  1.0000  1.0000  1.0000\n",
       "  1.0000  1.0000  1.0000  1.0000  1.0000  1.0000  1.0000  1.0000  1.0000\n",
       "  1.0000  1.0000  1.0000  1.0000  1.0000  1.0000  1.0000  1.0000  1.0000\n",
       "  1.0000  1.0000  1.0000  1.0000  1.0000  1.0000  1.0000  1.0000  1.0000\n",
       "  1.0000  1.0000  1.0000  1.0000  1.0000  1.0000  1.0000  1.0000  1.0000\n",
       "  1.0000  1.0000  1.0000  1.0000  1.0000  1.0000  1.0000  1.0000  1.0000\n",
       "  1.0000  1.0000  1.0000  1.0000  1.0000  1.0000  1.0000  1.0000  1.0000\n",
       "  1.0000  1.0000  1.0000  1.0000  1.0000  1.0000  1.0000  1.0000  1.0000\n",
       "  1.0000  1.0000  1.0000  1.0000  1.0000  1.0000  1.0000  1.0000  1.0000\n",
       "  1.0000  1.0000  1.0000  1.0000  1.0000  1.0000  1.0000  1.0000  1.0000\n",
       "  1.0000  1.0000  1.0000  1.0000  1.0000  1.0000  1.0000  1.0000  1.0000\n",
       "\n",
       "Columns 37 to 45\n",
       "  0.0157  0.0510  0.0431  0.0039  0.0392  0.1294  0.7137  1.0000  1.0000\n",
       "  0.0392  0.0667  0.0275  0.0000  0.0000  0.0941  0.4157  0.9137  1.0000\n",
       "  0.0000  0.0000  0.0000  0.0000  0.0000  0.0392  0.1216  0.6510  0.9490\n",
       "  0.0000  0.0000  0.0000  0.0000  0.0000  0.0000  0.0235  0.3059  0.8275\n",
       "  0.0118  0.0000  0.0000  0.0000  0.0000  0.0000  0.0353  0.0706  0.5765\n",
       "  0.0471  0.0000  0.0000  0.0000  0.0000  0.0118  0.0157  0.0157  0.2863\n",
       "  0.2196  0.0588  0.0078  0.0471  0.0000  0.0000  0.0000  0.0275  0.1255\n",
       "  0.6000  0.2196  0.0431  0.0431  0.0549  0.0000  0.0000  0.0196  0.0863\n",
       "  0.9216  0.6078  0.0745  0.0627  0.0275  0.0353  0.0235  0.0000  0.0549\n",
       "  1.0000  0.8314  0.3137  0.0588  0.0392  0.0118  0.0000  0.0000  0.0000\n",
       "  1.0000  0.9843  0.5686  0.0667  0.0471  0.0000  0.0000  0.0000  0.0000\n",
       "  0.9804  0.9922  0.7647  0.1647  0.0510  0.0000  0.0000  0.0000  0.0000\n",
       "  0.9373  0.9961  0.9098  0.3647  0.0588  0.0000  0.0000  0.0000  0.0000\n",
       "  0.9490  0.9922  0.9843  0.5882  0.1255  0.0078  0.0000  0.0000  0.0000\n",
       "  0.9725  0.9882  0.9882  0.8078  0.2471  0.0353  0.0000  0.0000  0.0039\n",
       "  0.9686  0.9882  0.9843  0.9765  0.3490  0.0627  0.0000  0.0000  0.0510\n",
       "  0.9608  0.9451  0.9765  1.0000  0.6588  0.0941  0.0157  0.0000  0.0000\n",
       "  0.9608  0.9490  0.9804  1.0000  0."
      ]
     },
     "execution_count": 86,
     "metadata": {},
     "output_type": "execute_result"
    },
    {
     "data": {
      "text/plain": [
       "7608  0.1882  0.0275  0.0000  0.0000\n",
       "  0.9686  0.9529  0.9843  1.0000  0.8902  0.3216  0.0392  0.0000  0.0000\n",
       "  0.9725  0.9608  0.9922  1.0000  0.9765  0.4627  0.0627  0.0000  0.0000\n",
       "  0.9804  0.9686  0.9961  1.0000  1.0000  0.6000  0.1059  0.0000  0.0000\n",
       "  0.9843  0.9804  1.0000  1.0000  1.0000  0.7412  0.1922  0.0000  0.0000\n",
       "  0.9922  0.9922  1.0000  1.0000  1.0000  0.8863  0.2941  0.0471  0.0000\n",
       "  1.0000  1.0000  1.0000  1.0000  1.0000  0.9804  0.3804  0.0902  0.0000\n",
       "  1.0000  1.0000  1.0000  1.0000  1.0000  0.9882  0.6078  0.0980  0.0078\n",
       "  1.0000  1.0000  1.0000  1.0000  1.0000  0.9922  0.7098  0.1608  0.0275\n",
       "  1.0000  1.0000  1.0000  1.0000  1.0000  0.9961  0.8471  0.2471  0.0471\n",
       "  1.0000  1.0000  1.0000  0.9922  1.0000  0.9961  0.9529  0.3529  0.0471\n",
       "  1.0000  1.0000  0.9961  0.9804  0.9961  1.0000  1.0000  0.4784  0.0549\n",
       "  1.0000  1.0000  0.9882  0.9686  0.9922  1.0000  1.0000  0.6235  0.0824\n",
       "  1.0000  1.0000  0.9843  0.9647  0.9804  1.0000  0.9765  0.7686  0.1255\n",
       "  1.0000  1.0000  0.9804  0.9608  0.9647  1.0000  0.9529  0.8588  0.1647\n",
       "  0.9843  1.0000  1.0000  1.0000  0.9373  0.9451  1.0000  0.9765  0.3882\n",
       "  0.9843  1.0000  1.0000  1.0000  0.9412  0.9529  1.0000  1.0000  0.4745\n",
       "  0.9882  1.0000  1.0000  1.0000  0.9333  0.9608  1.0000  1.0000  0.5961\n",
       "  0.9882  1.0000  1.0000  1.0000  0.9412  0.9647  1.0000  1.0000  0.7176\n",
       "  0.9922  1.0000  1.0000  1.0000  0.9569  0.9725  1.0000  1.0000  0.8078\n",
       "  0.9922  1.0000  1.0000  1.0000  0.9647  0.9765  0.9961  1.0000  0.8745\n",
       "  0.9961  1.0000  1.0000  1.0000  0.9765  0.9804  1.0000  1.0000  0.9255\n",
       "  0.9961  1.0000  1.0000  1.0000  0.9843  0.9922  1.0000  1.0000  0.9647\n",
       "  1.0000  1.0000  1.0000  1.0000  0.9961  0.9961  0.9922  1.0000  0.9686\n",
       "  1.0000  1.0000  1.0000  1.0000  1.0000  1.0000  0.9882  0.9961  0.9765\n",
       "  1.0000  0.9961  0.9961  1.0000  1.0000  0.9961  0.9922  0.9961  0.9725\n",
       "  1.0000  0.9922  0.9882  1.0000  1.0000  0.9922  0.9882  0.9882  0.9725\n",
       "  1.0000  0.9882  0.9804  1.0000  1.0000  0.9961  0.9843  0.9882  0.9804\n",
       "  1.0000  0.9882  0.9765  1.0000  1.0000  1.0000  0.9804  0.9804  1.0000\n",
       "  1.0000  0.9843  0.9765  1.0000  1.0000  1.0000  0.9804  0.9686  1.0000\n",
       "  1.0000  0.9804  0.9725  1.0000  1.0000  1.0000  0.9804  0.9569  1.0000\n",
       "  0.9765  0.9765  0.9882  1.0000  1.0000  1.0000  1.0000  1.0000  0.9804\n",
       "  0.9765  0.9765  0.9882  1.0000  1.0000  1.0000  1.0000  1.0000  0.9843\n",
       "  0.9804  0.9804  0.9882  1.0000  1.0000  1.0000  1.0000  0.9961  0.9843\n",
       "  0.9804  0.9804  0.9882  1.0000  1.0000  1.0000  1.0000  0.9843  0.9843\n",
       "  0.9804  0.9843  0.9922  1.0000  1.0000  1.0000  1.0000  0.9804  0.9843\n",
       "  0.9843  0.9843  0.9922  1.0000  1.0000  1.0000  1.0000  0.9922  0.9882\n",
       "  0.9882  0.9922  0.9961  1.0000  1.0000  1.0000  1.0000  1.0000  0.9882\n",
       "  0.9922  0.9922  0.9961  1.0000  1.0000  0.9961  1.0000  1.0000  0.9882\n",
       "  0.9961  0.9961  1.0000  1.0000  1.0000  1.0000  1.0000  1.0000  0.9686\n",
       "  1.0000  1.0000  1.0000  1.0000  1.0000  1.0000  1.0000  1.0000  0.9765\n",
       "  1.0000  1.0000  1.0000  1.0000  1.0000  1.0000  0.9922  0.9961  0.9804\n",
       "  1.0000  1.0000  1.0000  1.0000  1.0000  0.9961  0.9882  0.9961  0.9882\n",
       "  1.0000  1.0000  1.0000  1.0000  0.9882  0.9961  0.9804  0.9961  0.9961\n",
       "  1.0000  1.0000  1.0000  1.0000  0.9804  0.9922  0.9765  0.9922  0.9961\n",
       "  1.0000  1.0000  1.0000  1.0000  0.9725  0.9882  0.9725  0.9922  1.0000\n",
       "  1.0000  1.0000  1.0000  1.0000  0.9686  0.9882  0.9725  0.9922  0.9961\n",
       "  1.0000  1.0000  1.0000  1.0000  1.0000  1.0000  1.0000  1.0000  1.0000\n",
       "  1.0000  1.0000  1.0000  1.0000  1.0000  1.0000  1.0000  1.0000  1.0000\n",
       "  1.0000  1.0000  1.0000  1.0000  1.0000  1.0000  1.0000  1.0000  1.0000\n",
       "  1.0000  1.0000  1.0000  1.0000  1.0000  1.0000  1.0000  1.0000  1.0000\n",
       "  1.0000  1.0000  1.0000  1.0000  1.0000  1.0000  1.0000  1.0000  1.0000\n",
       "  1.0000  1.0000  1.0000  1.0000  1.0000  1.0000  1.0000  1.0000  1.0000\n",
       "  1.0000  1.0000  1.0000  1.0000  1.0000  1.0000  1.0000  1.0000  1.0000\n",
       "  1.0000  1.0000  1.0000  1.0000  1.0000  1.0000  1.0000  1.0000  1.0000\n",
       "  1.0000  1.0000  1.0000  1.0000  1.0000  1.0000  1.0000  1.0000  1.0000\n",
       "  1.0000  1.0000  1.0000  1.0000  1.0000  1."
      ]
     },
     "execution_count": 86,
     "metadata": {},
     "output_type": "execute_result"
    },
    {
     "data": {
      "text/plain": [
       "0000  1.0000  1.0000  1.0000\n",
       "  1.0000  1.0000  1.0000  1.0000  1.0000  1.0000  1.0000  1.0000  1.0000\n",
       "  1.0000  1.0000  1.0000  1.0000  1.0000  1.0000  1.0000  1.0000  1.0000\n",
       "  1.0000  1.0000  1.0000  1.0000  1.0000  1.0000  1.0000  1.0000  1.0000\n",
       "  1.0000  1.0000  1.0000  1.0000  1.0000  1.0000  1.0000  1.0000  1.0000\n",
       "  1.0000  1.0000  1.0000  1.0000  1.0000  1.0000  1.0000  1.0000  1.0000\n",
       "  1.0000  1.0000  1.0000  1.0000  1.0000  1.0000  1.0000  1.0000  1.0000\n",
       "  0.9922  1.0000  1.0000  1.0000  0.9804  0.9647  0.9843  0.9961  0.9843\n",
       "  0.9843  1.0000  1.0000  1.0000  0.9882  0.9765  0.9922  1.0000  0.9882\n",
       "  0.9922  1.0000  1.0000  1.0000  1.0000  0.9922  1.0000  1.0000  0.9961\n",
       "  0.9843  0.9804  1.0000  1.0000  1.0000  1.0000  1.0000  1.0000  1.0000\n",
       "  0.9843  0.9961  1.0000  1.0000  1.0000  1.0000  1.0000  1.0000  1.0000\n",
       "  0.9843  0.9922  1.0000  1.0000  1.0000  1.0000  1.0000  1.0000  1.0000\n",
       "  0.8588  0.9569  0.9922  0.9608  0.9922  0.9922  0.9961  1.0000  1.0000\n",
       "  0.8078  0.9569  0.9765  0.9843  0.9843  0.9843  0.9843  0.9882  0.9961\n",
       "  0.7569  0.9490  0.9647  0.9725  0.9882  0.9137  0.9020  0.8706  0.9569\n",
       "  0.7647  0.9490  0.9529  0.9373  0.8235  0.7451  0.7216  0.6824  0.7529\n",
       "  0.7412  0.9255  0.9176  0.8392  0.7765  0.7882  0.8039  0.7804  0.8157\n",
       "  0.7098  0.8745  0.8392  0.7333  0.7765  0.8510  0.8667  0.8510  0.8706\n",
       "  0.7059  0.8314  0.7804  0.7137  0.8706  0.9020  0.8314  0.7922  0.8353\n",
       "  0.7373  0.8235  0.7569  0.7686  0.8549  0.8157  0.7216  0.7020  0.7020\n",
       "  0.7725  0.8039  0.7255  0.8353  0.8902  0.8157  0.8039  0.8549  0.7294\n",
       "  0.7882  0.7804  0.6863  0.8549  0.8353  0.7451  0.8000  0.9059  0.6745\n",
       "  0.8588  0.6784  0.7098  0.7804  0.8549  0.8000  0.9176  0.9686  1.0000\n",
       "  0.8353  0.6588  0.6902  0.7922  0.8667  0.8157  0.9176  0.9843  0.9961\n",
       "  0.8235  0.6549  0.6667  0.8118  0.8235  0.7804  0.8275  0.9294  0.8235\n",
       "  0.8392  0.6706  0.6627  0.8196  0.8392  0.8039  0.7765  0.8627  0.7804\n",
       "  0.8588  0.6941  0.6667  0.8000  0.8235  0.7765  0.6627  0.6706  0.6667\n",
       "  0.8510  0.7176  0.6941  0.7765  0.8745  0.8627  0.7608  0.7176  0.7569\n",
       "  0.8353  0.7529  0.7333  0.7686  0.7765  0.8078  0.8078  0.7843  0.8510\n",
       "  0.8196  0.7686  0.7725  0.7725  0.8157  0.8275  0.8392  0.7804  0.8392\n",
       "  0.6980  0.6980  0.7804  0.8902  0.7412  0.7529  0.7804  0.8078  0.7725\n",
       "  0.8941  0.8784  0.9059  0.9686  0.9490  0.8039  0.6706  0.6745  0.7608\n",
       "  1.0000  1.0000  0.9961  1.0000  1.0000  0.9608  0.9255  0.9451  0.9922\n",
       "  1.0000  1.0000  1.0000  1.0000  1.0000  1.0000  0.9961  0.9922  0.9961\n",
       "  1.0000  1.0000  1.0000  1.0000  1.0000  0.9922  0.9686  0.9529  0.9725\n",
       "  1.0000  1.0000  1.0000  1.0000  0.9922  1.0000  1.0000  1.0000  1.0000\n",
       "  1.0000  0.9961  0.9882  0.9765  0.9725  0.9882  1.0000  1.0000  0.9922\n",
       "  0.9843  0.9804  0.9647  0.9451  0.9490  0.9608  1.0000  1.0000  1.0000\n",
       "  1.0000  1.0000  1.0000  1.0000  1.0000  1.0000  1.0000  1.0000  1.0000\n",
       "  1.0000  1.0000  1.0000  1.0000  1.0000  1.0000  1.0000  1.0000  1.0000\n",
       "  1.0000  1.0000  1.0000  1.0000  1.0000  1.0000  1.0000  1.0000  1.0000\n",
       "  1.0000  1.0000  1.0000  1.0000  1.0000  1.0000  1.0000  1.0000  1.0000\n",
       "  1.0000  1.0000  1.0000  1.0000  1.0000  1.0000  1.0000  1.0000  1.0000\n",
       "  1.0000  1.0000  1.0000  1.0000  1.0000  1.0000  1.0000  1.0000  1.0000\n",
       "  1.0000  1.0000  1.0000  1.0000  1.0000  1.0000  1.0000  1.0000  1.0000\n",
       "  1.0000  1.0000  1.0000  1.0000  1.0000  1.0000  1.0000  1.0000  1.0000\n",
       "  1.0000  1.0000  1.0000  1.0000  1.0000  1.0000  1.0000  1.0000  1.0000\n",
       "  1.0000  1.0000  1.0000  1.0000  1.0000  1.0000  1.0000  1.0000  1.0000\n",
       "  1.0000  1.0000  1.0000  1.0000  1.0000  1.0000  1.0000  1.0000  1.0000\n",
       "  1.0000  1.0000  1.0000  1.0000  1.0000  1.0000  1.0000  1.0000  1.0000\n",
       "  1.0000  1.0000  1.0000  1.0000  1.0000  1.0000  1.0000  1.0000  1.0000\n",
       "  1.0000  1.0000  1.0000  1.0000  1.0000  1.0000  1.0000  1.0000  1.0000\n",
       "  1.0000  1.0000  1.0000  1.0000  1.0000  1.0000  1.0000  1.0000  1.0000\n",
       "  1.0000  1.0000  1.0000  1.0000  1.0000  1.0000  1.0000  1.0000  1.0000\n",
       "\n",
       "Columns 46 to 54\n",
       "  1.0000  1.0000  0.9843  1.0000  1.0000  1.0000  1.0000  1.0000  1.0000\n",
       "  1.0000  1.0000  1.0000  1.0000  "
      ]
     },
     "execution_count": 86,
     "metadata": {},
     "output_type": "execute_result"
    },
    {
     "data": {
      "text/plain": [
       "1.0000  1.0000  1.0000  1.0000  1.0000\n",
       "  1.0000  0.9961  0.9804  1.0000  1.0000  1.0000  1.0000  1.0000  1.0000\n",
       "  0.9608  0.9882  0.9529  1.0000  1.0000  1.0000  1.0000  1.0000  1.0000\n",
       "  0.9412  0.9882  0.9608  1.0000  1.0000  1.0000  1.0000  1.0000  1.0000\n",
       "  0.8549  0.9725  1.0000  1.0000  1.0000  1.0000  1.0000  1.0000  1.0000\n",
       "  0.6196  0.9490  1.0000  1.0000  1.0000  1.0000  1.0000  1.0000  1.0000\n",
       "  0.3569  0.9333  1.0000  1.0000  1.0000  1.0000  1.0000  1.0000  1.0000\n",
       "  0.1804  0.6627  1.0000  0.9922  0.9843  1.0000  0.9961  0.9725  1.0000\n",
       "  0.0824  0.4863  0.9804  0.9843  0.9843  1.0000  1.0000  0.9804  0.9922\n",
       "  0.0078  0.2627  0.8353  0.9843  0.9882  1.0000  1.0000  0.9961  0.9843\n",
       "  0.0000  0.1020  0.6353  0.9961  1.0000  0.9961  1.0000  1.0000  0.9922\n",
       "  0.0157  0.0235  0.3922  0.9725  1.0000  0.9922  0.9804  1.0000  1.0000\n",
       "  0.0314  0.0353  0.1843  0.8784  0.9922  1.0000  0.9686  1.0000  1.0000\n",
       "  0.0353  0.0784  0.0588  0.7333  0.9569  1.0000  0.9765  1.0000  1.0000\n",
       "  0.0353  0.1216  0.0078  0.6235  0.9255  1.0000  0.9843  1.0000  1.0000\n",
       "  0.0157  0.0235  0.0745  0.2941  0.8824  0.9843  0.9804  0.9608  0.9804\n",
       "  0.0078  0.0196  0.0667  0.2275  0.7647  0.9922  0.9843  0.9569  0.9843\n",
       "  0.0039  0.0039  0.0549  0.1333  0.5804  0.9882  0.9882  0.9490  0.9882\n",
       "  0.0000  0.0000  0.0392  0.0667  0.4000  0.9804  1.0000  0.9608  0.9961\n",
       "  0.0000  0.0000  0.0275  0.0275  0.2549  0.9020  1.0000  0.9843  1.0000\n",
       "  0.0000  0.0078  0.0157  0.0118  0.1529  0.7529  1.0000  1.0000  1.0000\n",
       "  0.0000  0.0039  0.0157  0.0000  0.0784  0.5765  0.9843  1.0000  1.0000\n",
       "  0.0000  0.0078  0.0157  0.0000  0.0275  0.4471  0.9529  1.0000  1.0000\n",
       "  0.0000  0.0157  0.0000  0.0000  0.0549  0.2275  0.8784  1.0000  1.0000\n",
       "  0.0000  0.0078  0.0000  0.0000  0.0314  0.1686  0.7686  1.0000  1.0000\n",
       "  0.0000  0.0000  0.0000  0.0000  0.0039  0.0980  0.6039  1.0000  1.0000\n",
       "  0.0000  0.0000  0.0039  0.0000  0.0000  0.0471  0.4431  0.9725  1.0000\n",
       "  0.0000  0.0000  0.0196  0.0118  0.0000  0.0118  0.3098  0.9059  1.0000\n",
       "  0.0000  0.0000  0.0275  0.0314  0.0000  0.0000  0.2000  0.7843  1.0000\n",
       "  0.0235  0.0000  0.0196  0.0471  0.0196  0.0000  0.1216  0.6471  0.9882\n",
       "  0.0431  0.0000  0.0157  0.0627  0.0275  0.0000  0.0706  0.5490  0.9725\n",
       "  0.0588  0.0000  0.0235  0.0549  0.0000  0.0000  0.0000  0.3765  0.9569\n",
       "  0.0431  0.0000  0.0118  0.0588  0.0000  0.0000  0.0000  0.3059  0.9098\n",
       "  0.0353  0.0235  0.0000  0.0471  0.0000  0.0000  0.0000  0.1961  0.8235\n",
       "  0.0510  0.0471  0.0000  0.0275  0.0000  0.0000  0.0118  0.1020  0.7137\n",
       "  0.1059  0.0549  0.0000  0.0039  0.0000  0.0000  0.0118  0.0471  0.5843\n",
       "  0.2157  0.0549  0.0078  0.0000  0.0000  0.0039  0.0118  0.0314  0.4392\n",
       "  0.3373  0.0471  0.0078  0.0000  0.0000  0.0235  0.0000  0.0353  0.2941\n",
       "  0.4353  0.0549  0.0078  0.0000  0.0000  0.0392  0.0000  0.0392  0.1961\n",
       "  0.5529  0.1020  0.0000  0.0000  0.0000  0.0627  0.0000  0.0000  0.1647\n",
       "  0.6471  0.1333  0.0118  0.0000  0.0000  0.0549  0.0000  0.0000  0.1137\n",
       "  0.7765  0.1725  0.0275  0.0000  0.0118  0.0392  0.0000  0.0000  0.0627\n",
       "  0.8902  0.2157  0.0235  0.0000  0.0196  0.0196  0.0000  0.0039  0.0275\n",
       "  0.9608  0.2824  0.0118  0.0000  0.0157  0.0000  0.0000  0.0118  0.0118\n",
       "  0.9922  0.3765  0.0078  0.0000  0.0000  0.0000  0.0000  0.0039  0.0039\n",
       "  1.0000  0.4824  0.0196  0.0039  0.0000  0.0000  0.0039  0.0000  0.0000\n",
       "  1.0000  0.5490  0.0353  0.0157  0.0000  0.0000  0.0078  0.0000  0.0000\n",
       "  0.8941  0.7098  0.1569  0.0000  0.0000  0.0118  0.0118  0.0353  0.0000\n",
       "  0.9176  0.7490  0.1882  0.0000  0.0000  0.0157  0.0118  0.0353  0.0000\n",
       "  0.9529  0.7961  0.2353  0.0157  0.0039  0.0157  0.0078  0.0275  0.0000\n",
       "  0.9569  0.8392  0.2824  0.0275  0.0000  0.0118  0.0078  0.0275  0.0000\n",
       "  0.9608  0.8706  0.3451  0.0235  0.0000  0.0039  0.0039  0.0196  0.0000\n",
       "  0.9608  0.8980  0.4275  0.0235  0.0000  0.0078  0.0039  0.0000  0.0078\n",
       "  0.9608  0.9255  0.5137  0.0353  0.0000  0.0118  0.0039  0.0000  0.0078\n",
       "  0.9647  0.9529  0.5804  0.0471  0.0000  0.0196  0.0039  0.0000  0.0039\n",
       "  0.9804  0.9490  0.6745  0.0745  0.0000  0.0000  0.0000  0.0000  0.0000\n",
       "  0.9843  0.9647  0.7176  0.0941  0.0000  "
      ]
     },
     "execution_count": 86,
     "metadata": {},
     "output_type": "execute_result"
    },
    {
     "data": {
      "text/plain": [
       "0.0000  0.0000  0.0000  0.0078\n",
       "  0.9922  0.9804  0.7765  0.1216  0.0039  0.0000  0.0000  0.0000  0.0118\n",
       "  0.9961  0.9961  0.8431  0.1569  0.0157  0.0000  0.0000  0.0039  0.0196\n",
       "  1.0000  1.0000  0.9098  0.2000  0.0314  0.0000  0.0000  0.0078  0.0235\n",
       "  0.9961  1.0000  0.9490  0.2392  0.0471  0.0000  0.0000  0.0078  0.0235\n",
       "  0.9882  1.0000  0.9765  0.2706  0.0627  0.0000  0.0000  0.0078  0.0235\n",
       "  0.9804  0.9961  0.9922  0.2902  0.0667  0.0000  0.0000  0.0039  0.0235\n",
       "  1.0000  0.9961  0.9922  0.4980  0.0549  0.0000  0.0000  0.0000  0.0314\n",
       "  1.0000  0.9961  0.9922  0.5216  0.0627  0.0000  0.0000  0.0000  0.0314\n",
       "  1.0000  0.9961  0.9922  0.5569  0.0784  0.0000  0.0000  0.0078  0.0235\n",
       "  1.0000  0.9961  0.9922  0.6157  0.0980  0.0000  0.0000  0.0157  0.0235\n",
       "  1.0000  0.9961  0.9922  0.6706  0.1216  0.0000  0.0000  0.0196  0.0196\n",
       "  1.0000  0.9961  0.9922  0.7255  0.1451  0.0000  0.0000  0.0314  0.0235\n",
       "  1.0000  0.9961  0.9922  0.7686  0.1647  0.0000  0.0000  0.0353  0.0235\n",
       "  1.0000  0.9961  0.9922  0.7961  0.1765  0.0000  0.0000  0.0392  0.0196\n",
       "  1.0000  1.0000  1.0000  0.8824  0.1882  0.0000  0.0275  0.0000  0.0431\n",
       "  1.0000  1.0000  1.0000  0.8902  0.2157  0.0039  0.0275  0.0000  0.0392\n",
       "  1.0000  1.0000  1.0000  0.9098  0.2510  0.0039  0.0196  0.0039  0.0392\n",
       "  1.0000  1.0000  1.0000  0.9294  0.2980  0.0078  0.0196  0.0157  0.0353\n",
       "  1.0000  1.0000  1.0000  0.9490  0.3451  0.0078  0.0118  0.0275  0.0275\n",
       "  1.0000  1.0000  1.0000  0.9647  0.3882  0.0078  0.0078  0.0353  0.0275\n",
       "  1.0000  1.0000  1.0000  0.9804  0.4235  0.0118  0.0000  0.0471  0.0235\n",
       "  1.0000  1.0000  1.0000  0.9843  0.4392  0.0078  0.0000  0.0471  0.0196\n",
       "  0.9725  0.9922  1.0000  1.0000  0.5804  0.1686  0.0353  0.0000  0.0000\n",
       "  0.9725  0.9922  1.0000  0.9804  0.5922  0.1686  0.0549  0.0000  0.0000\n",
       "  0.9843  0.9961  1.0000  0.8353  0.5216  0.0431  0.0000  0.0000  0.0000\n",
       "  0.9961  1.0000  1.0000  0.8784  0.6235  0.0667  0.0118  0.0235  0.0000\n",
       "  1.0000  1.0000  1.0000  0.8667  0.6706  0.2196  0.2078  0.2118  0.1529\n",
       "  1.0000  1.0000  1.0000  0.9765  0.9529  0.7647  0.8471  0.8353  0.7882\n",
       "  1.0000  1.0000  1.0000  0.9569  0.8706  0.8039  0.8980  0.8431  0.8235\n",
       "  0.9961  0.9882  0.9843  0.9569  0.7647  0.6902  0.7608  0.7216  0.7725\n",
       "  0.9529  0.9725  0.9333  0.9373  0.7412  0.7922  0.8745  0.8353  0.8275\n",
       "  0.7608  0.8667  0.9216  0.9529  0.7451  0.7686  0.8510  0.8431  0.8510\n",
       "  0.7529  0.7961  0.8627  0.9333  0.7451  0.7804  0.8627  0.8549  0.8196\n",
       "  0.8000  0.7216  0.7059  0.8980  0.7490  0.7804  0.8431  0.8157  0.7529\n",
       "  0.8980  0.8392  0.7608  0.8745  0.7451  0.7569  0.7725  0.7529  0.7333\n",
       "  0.8431  0.8392  0.7529  0.8000  0.7333  0.7725  0.7922  0.7647  0.7490\n",
       "  0.8078  0.8275  0.7686  0.7529  0.7373  0.8118  0.8431  0.8196  0.7725\n",
       "  0.6745  0.7333  0.7373  0.7804  0.7608  0.8196  0.8235  0.8353  0.8039\n",
       "  0.9765  0.9961  0.8627  0.9412  0.7059  0.7255  0.8039  0.7686  0.8000\n",
       "  0.9647  1.0000  0.9569  0.9647  0.7882  0.7922  0.8118  0.7647  0.7686\n",
       "  0.7451  0.7216  0.7255  0.7686  0.7059  0.7529  0.7725  0.7569  0.7725\n",
       "  0.8000  0.7765  0.7961  0.7647  0.7765  0.8392  0.8431  0.8314  0.7843\n",
       "  0.8078  0.8235  0.8196  0.7569  0.7529  0.8000  0.8078  0.7961  0.7294\n",
       "  0.8549  0.8078  0.7333  0.8588  0.7843  0.8275  0.8706  0.8941  0.8824\n",
       "  0.8431  0.7882  0.7176  0.9333  0.7804  0.8078  0.8667  0.8745  0.8706\n",
       "  0.7647  0.7608  0.7608  0.9059  0.7098  0.7647  0.8510  0.8431  0.8471\n",
       "  0.7333  0.7961  0.9137  0.8824  0.6784  0.6471  0.6980  0.6941  0.6902\n",
       "  0.8392  0.9098  0.9647  0.9412  0.8314  0.8353  0.8980  0.9059  0.9059\n",
       "  1.0000  0.9961  0.9765  1.0000  0.9922  1.0000  1.0000  1.0000  0.9882\n",
       "  0.9961  1.0000  1.0000  1.0000  1.0000  1.0000  1.0000  1.0000  0.9765\n",
       "  1.0000  1.0000  1.0000  0.9725  0.9765  0.7373  0.5922  0.5961  0.5451\n",
       "  1.0000  1.0000  0.9804  0.9451  0.9020  0.4392  0.1255  0.0902  0.0275\n",
       "  0.9529  0.9608  0.9647  0.9686  0.9451  0.4039  0.0431  0.0314  0.0000\n",
       "  0.9804  0.9490  0.9373  0.9843  0.9922  0.4549  0.0863  0.0745  0.0000\n",
       "  1.0000  1.0000  1.0000  1.0000  0.9529  0.3961  0.0118  0.0000  0.0000\n",
       "  1.0000  1.0000  1.0000  1.0000  0.9608  0.4039  "
      ]
     },
     "execution_count": 86,
     "metadata": {},
     "output_type": "execute_result"
    },
    {
     "data": {
      "text/plain": [
       "0.0196  0.0118  0.0000\n",
       "  1.0000  1.0000  1.0000  1.0000  0.9686  0.4118  0.0275  0.0196  0.0039\n",
       "  1.0000  1.0000  1.0000  1.0000  0.9608  0.4078  0.0235  0.0157  0.0000\n",
       "  1.0000  1.0000  1.0000  1.0000  0.9451  0.3882  0.0078  0.0000  0.0000\n",
       "  1.0000  1.0000  1.0000  1.0000  0.9333  0.3765  0.0000  0.0000  0.0000\n",
       "  1.0000  1.0000  1.0000  1.0000  0.9333  0.3804  0.0000  0.0000  0.0000\n",
       "  1.0000  1.0000  1.0000  1.0000  0.9490  0.3961  0.0196  0.0118  0.0000\n",
       "  1.0000  1.0000  1.0000  1.0000  0.9255  0.4000  0.0784  0.0275  0.0000\n",
       "  1.0000  1.0000  1.0000  1.0000  0.9686  0.4039  0.0471  0.0118  0.0000\n",
       "  1.0000  1.0000  1.0000  0.9804  0.9176  0.3804  0.0157  0.0235  0.0275\n",
       "  1.0000  1.0000  1.0000  0.9725  0.9216  0.4078  0.0275  0.0431  0.0510\n",
       "  1.0000  1.0000  1.0000  0.9569  0.8745  0.4118  0.0392  0.0353  0.0588\n",
       "  1.0000  1.0000  1.0000  1.0000  0.9647  0.7255  0.5216  0.5333  0.5647\n",
       "  1.0000  1.0000  1.0000  1.0000  1.0000  0.9490  0.9020  0.9294  0.9529\n",
       "  1.0000  1.0000  1.0000  1.0000  1.0000  1.0000  0.9765  0.9569  1.0000\n",
       "\n",
       "Columns 55 to 63\n",
       "  1.0000  1.0000  1.0000  1.0000  1.0000  1.0000  1.0000  1.0000  1.0000\n",
       "  1.0000  1.0000  1.0000  1.0000  1.0000  1.0000  1.0000  1.0000  1.0000\n",
       "  1.0000  1.0000  1.0000  1.0000  1.0000  1.0000  1.0000  1.0000  1.0000\n",
       "  1.0000  1.0000  1.0000  1.0000  1.0000  1.0000  1.0000  1.0000  1.0000\n",
       "  1.0000  1.0000  1.0000  1.0000  1.0000  1.0000  1.0000  1.0000  1.0000\n",
       "  1.0000  1.0000  1.0000  1.0000  1.0000  1.0000  1.0000  1.0000  1.0000\n",
       "  1.0000  1.0000  1.0000  1.0000  1.0000  1.0000  1.0000  1.0000  1.0000\n",
       "  1.0000  1.0000  1.0000  1.0000  1.0000  1.0000  1.0000  1.0000  1.0000\n",
       "  1.0000  0.9922  1.0000  1.0000  1.0000  1.0000  1.0000  1.0000  1.0000\n",
       "  1.0000  1.0000  1.0000  1.0000  1.0000  1.0000  1.0000  1.0000  1.0000\n",
       "  0.9961  1.0000  1.0000  1.0000  1.0000  1.0000  1.0000  1.0000  1.0000\n",
       "  0.9843  1.0000  1.0000  1.0000  1.0000  1.0000  1.0000  1.0000  1.0000\n",
       "  0.9843  1.0000  1.0000  1.0000  1.0000  1.0000  1.0000  1.0000  1.0000\n",
       "  0.9843  1.0000  1.0000  1.0000  1.0000  1.0000  1.0000  1.0000  1.0000\n",
       "  0.9843  1.0000  1.0000  1.0000  1.0000  1.0000  1.0000  1.0000  1.0000\n",
       "  0.9804  1.0000  1.0000  1.0000  1.0000  1.0000  1.0000  1.0000  1.0000\n",
       "  1.0000  1.0000  0.9647  0.9725  1.0000  1.0000  1.0000  0.9647  0.9529\n",
       "  1.0000  1.0000  0.9647  0.9765  1.0000  1.0000  1.0000  0.9647  0.9569\n",
       "  1.0000  1.0000  0.9725  0.9804  1.0000  1.0000  1.0000  0.9647  0.9686\n",
       "  1.0000  1.0000  0.9804  0.9882  1.0000  1.0000  1.0000  0.9686  0.9804\n",
       "  1.0000  1.0000  0.9882  0.9961  1.0000  1.0000  0.9882  0.9725  0.9961\n",
       "  1.0000  1.0000  0.9961  1.0000  1.0000  1.0000  0.9765  0.9725  1.0000\n",
       "  0.9843  0.9961  1.0000  1.0000  1.0000  0.9961  0.9725  0.9804  1.0000\n",
       "  0.9647  0.9961  1.0000  1.0000  1.0000  0.9843  0.9686  0.9843  1.0000\n",
       "  1.0000  0.9882  1.0000  0.9961  0.9961  0.9804  0.9333  0.9882  0.9922\n",
       "  1.0000  1.0000  1.0000  1.0000  0.9961  0.9765  0.9490  0.9961  0.9961\n",
       "  1.0000  0.9961  1.0000  0.9961  0.9882  0.9765  0.9804  0.9843  0.9961\n",
       "  0.9961  0.9961  1.0000  0.9922  0.9843  0.9804  1.0000  0.9843  0.9725\n",
       "  1.0000  0.9961  0.9961  0.9922  0.9804  0.9882  1.0000  1.0000  0.9098\n",
       "  1.0000  0.9922  0.9882  0.9922  0.9765  0.9961  1.0000  1.0000  0.7843\n",
       "  1.0000  0.9843  0.9922  0.9843  0.9725  1.0000  1.0000  1.0000  0.6392\n",
       "  1.0000  0.9843  0.9961  0.9804  0.9647  0.9961  1.0000  1.0000  0.5412\n",
       "  1.0000  1.0000  0.9608  0.9098  0.9765  1.0000  1.0000  0.9569  0.2980\n",
       "  1.0000  1.0000  0.9608  0.9216  0.9804  1.0000  1.0000  0.8824  0.2353\n",
       "  1.0000  1.0000  0.9608  0.9373  0.9765  1.0000  1.0000  0.7569  0.1451\n",
       "  1.0000  1.0000  0.9490  0.9412  0.9725  1.0000  1.0000  0.6078  0.0745\n",
       "  1.0000  1.0000  0.9451  0.9412  0.9765  1.0000  1.0000  0.4588  0.0275\n",
       "  1.0000  1.0000  0.9490  0.9451  0.9804  1.0000  0.9333  0.3098  0.0078\n",
       "  0.9608  1.0000  0.9647  0.9490  0.9922  1.0000  0.8392  0.1765  0.0000\n",
       "  0.9020  1.0000  0.9765  0.9569  0.9961  1.0000  0.7725  0.0941  0.0000\n",
       "  0.7255  1.0000  0.9765  0.9647  1.0000  1.0000  0.5843  0.0510  0.0000\n",
       "  0.6275  1.0000  0.9804  0.9804  1.0000"
      ]
     },
     "execution_count": 86,
     "metadata": {},
     "output_type": "execute_result"
    },
    {
     "data": {
      "text/plain": [
       "  0.9804  0.4745  0.0196  0.0000\n",
       "  0.4863  0.9804  0.9843  0.9961  1.0000  0.9333  0.3333  0.0000  0.0000\n",
       "  0.3529  0.9294  0.9804  1.0000  1.0000  0.8706  0.2118  0.0000  0.0000\n",
       "  0.2431  0.8588  0.9765  1.0000  0.9922  0.7725  0.1294  0.0078  0.0000\n",
       "  0.1569  0.7647  0.9765  1.0000  0.9765  0.6471  0.0784  0.0196  0.0118\n",
       "  0.0902  0.6588  0.9843  1.0000  0.9490  0.5020  0.0549  0.0235  0.0196\n",
       "  0.0510  0.5882  0.9922  1.0000  0.9255  0.4118  0.0353  0.0235  0.0235\n",
       "  0.0392  0.4000  0.9922  1.0000  0.9294  0.2392  0.0392  0.0000  0.0196\n",
       "  0.0196  0.3490  0.9608  1.0000  0.8667  0.2118  0.0314  0.0000  0.0196\n",
       "  0.0000  0.2745  0.9137  1.0000  0.7804  0.1686  0.0157  0.0039  0.0118\n",
       "  0.0000  0.2000  0.8510  1.0000  0.6627  0.1294  0.0039  0.0078  0.0039\n",
       "  0.0000  0.1451  0.7647  0.9961  0.5569  0.0980  0.0000  0.0118  0.0000\n",
       "  0.0000  0.1059  0.6549  0.9608  0.4510  0.0706  0.0000  0.0157  0.0000\n",
       "  0.0000  0.0784  0.5333  0.9059  0.3529  0.0431  0.0000  0.0157  0.0000\n",
       "  0.0000  0.0588  0.4431  0.8510  0.2863  0.0235  0.0000  0.0235  0.0000\n",
       "  0.0000  0.0627  0.3608  0.7137  0.1843  0.0392  0.0039  0.0000  0.0157\n",
       "  0.0000  0.0549  0.2902  0.6118  0.1333  0.0157  0.0000  0.0000  0.0078\n",
       "  0.0000  0.0431  0.1961  0.4745  0.0980  0.0039  0.0000  0.0118  0.0118\n",
       "  0.0000  0.0314  0.1255  0.3373  0.0667  0.0039  0.0118  0.0314  0.0235\n",
       "  0.0000  0.0314  0.0784  0.2039  0.0431  0.0000  0.0118  0.0392  0.0196\n",
       "  0.0000  0.0314  0.0510  0.0941  0.0275  0.0000  0.0000  0.0392  0.0118\n",
       "  0.0000  0.0392  0.0588  0.0431  0.0353  0.0000  0.0000  0.0353  0.0157\n",
       "  0.0000  0.0431  0.0824  0.0196  0.0471  0.0000  0.0000  0.0431  0.0235\n",
       "  0.0157  0.0000  0.0078  0.0235  0.0118  0.0000  0.0000  0.0078  0.0000\n",
       "  0.0118  0.0000  0.0078  0.0235  0.0118  0.0000  0.0000  0.0078  0.0000\n",
       "  0.0078  0.0000  0.0078  0.0235  0.0118  0.0000  0.0000  0.0078  0.0000\n",
       "  0.0039  0.0000  0.0039  0.0235  0.0118  0.0000  0.0000  0.0078  0.0000\n",
       "  0.0000  0.0000  0.0039  0.0235  0.0118  0.0000  0.0000  0.0078  0.0039\n",
       "  0.0000  0.0000  0.0039  0.0196  0.0078  0.0000  0.0000  0.0078  0.0039\n",
       "  0.0000  0.0000  0.0000  0.0196  0.0078  0.0000  0.0000  0.0118  0.0078\n",
       "  0.0000  0.0000  0.0000  0.0157  0.0039  0.0000  0.0000  0.0118  0.0078\n",
       "  0.0000  0.0000  0.0000  0.0118  0.0039  0.0000  0.0000  0.0118  0.0078\n",
       "  0.0000  0.0000  0.0000  0.0078  0.0039  0.0000  0.0000  0.0118  0.0118\n",
       "  0.0000  0.0000  0.0000  0.0078  0.0000  0.0000  0.0000  0.0157  0.0118\n",
       "  0.0000  0.0000  0.0000  0.0078  0.0000  0.0000  0.0000  0.0157  0.0157\n",
       "  0.0000  0.0000  0.0000  0.0078  0.0000  0.0000  0.0000  0.0157  0.0157\n",
       "  0.0039  0.0000  0.0000  0.0039  0.0000  0.0000  0.0000  0.0196  0.0196\n",
       "  0.0078  0.0000  0.0000  0.0039  0.0000  0.0000  0.0000  0.0196  0.0196\n",
       "  0.0078  0.0000  0.0000  0.0039  0.0000  0.0000  0.0000  0.0196  0.0196\n",
       "  0.0000  0.0078  0.0275  0.0314  0.0157  0.0078  0.0118  0.0196  0.0275\n",
       "  0.0000  0.0000  0.0353  0.0235  0.0000  0.0000  0.0000  0.0000  0.0000\n",
       "  0.0000  0.0314  0.0314  0.0118  0.0000  0.0000  0.0000  0.0000  0.0000\n",
       "  0.0196  0.0549  0.0667  0.0627  0.0510  0.0431  0.0471  0.0431  0.0314\n",
       "  0.1765  0.2039  0.2000  0.2039  0.2039  0.2000  0.1922  0.1765  0.1686\n",
       "  0.8078  0.8549  0.8157  0.8196  0.8235  0.8353  0.8353  0.8314  0.8196\n",
       "  0.8000  0.8196  0.8471  0.8392  0.8549  0.9098  0.9725  1.0000  0.9961\n",
       "  0.7176  0.7059  0.6863  0.6706  0.6980  0.8078  0.9373  1.0000  1.0000\n",
       "  0.8078  0.7922  0.7451  0.7765  0.7412  0.7490  0.7294  0.9373  1.0000\n",
       "  0.8392  0.8275  0.8118  0.8157  0.8353  0.7961  0.7843  0.8431  0.9490\n",
       "  0.7451  0.7098  0.7529  0.7451  0.8353  0.8235  0.8431  0.7647  0.8902\n",
       "  0.6824  0.6863  0.7020  0.6706  0.7608  0.8314  0.8784  0.7647  0.8275\n",
       "  0.7647  0.8824  0.8275  0.7765  0.7216  0.8314  0.8510  0.7922  0.7490\n",
       "  0.8039  0.9686  0.9765  0.9137  0.7373  0.7843  0.8000  0.8118  0.7059\n",
       "  0.8039  0.9922  1.0000  1.0000  0.8353  0.7529  0.8118  0.8196  0.7059\n",
       "  0.8471  1.0000  1.0000  1.0000  0.9686  0.7804  0.8784  0.8157  0.7098\n",
       "  0.9098  1.0000  1.0000  1.0000  0.8863  0.7451  0.8078  0.8235  0.7294\n",
       "  0.8667  1.0000  1.0000  1.0000  0.8314  0.7255"
      ]
     },
     "execution_count": 86,
     "metadata": {},
     "output_type": "execute_result"
    },
    {
     "data": {
      "text/plain": [
       "  0.8039  0.8196  0.7412\n",
       "  0.8431  0.9882  0.9804  0.8941  0.7451  0.7216  0.8118  0.8039  0.7451\n",
       "  0.7490  0.8510  0.7961  0.7373  0.6902  0.7490  0.8157  0.7725  0.7490\n",
       "  0.6314  0.6667  0.7176  0.7020  0.7333  0.8000  0.8039  0.7451  0.7843\n",
       "  0.8118  0.8235  0.7922  0.7922  0.8235  0.8431  0.7922  0.7647  0.8549\n",
       "  0.8392  0.8353  0.8471  0.8392  0.8549  0.8353  0.7922  0.8275  0.9373\n",
       "  0.8392  0.8314  0.7922  0.7843  0.8000  0.7843  0.7765  0.8706  0.9686\n",
       "  0.6667  0.6431  0.6824  0.6745  0.7059  0.7922  0.8980  0.9608  0.9490\n",
       "  0.9059  0.9059  0.9137  0.9216  0.9373  0.9725  1.0000  1.0000  0.9804\n",
       "  0.9725  0.9765  0.9765  1.0000  1.0000  1.0000  1.0000  1.0000  0.9961\n",
       "  0.9647  0.9725  0.9529  0.9804  1.0000  1.0000  1.0000  0.9961  0.9922\n",
       "  0.5451  0.5529  0.5529  0.5686  0.5843  0.5882  0.5804  0.5686  0.5490\n",
       "  0.0235  0.0275  0.0431  0.0510  0.0549  0.0627  0.0667  0.0549  0.0314\n",
       "  0.0000  0.0000  0.0000  0.0000  0.0039  0.0118  0.0157  0.0118  0.0039\n",
       "  0.0000  0.0000  0.0000  0.0118  0.0275  0.0275  0.0118  0.0039  0.0000\n",
       "  0.0000  0.0000  0.0039  0.0000  0.0000  0.0000  0.0000  0.0000  0.0000\n",
       "  0.0118  0.0118  0.0118  0.0078  0.0078  0.0157  0.0118  0.0000  0.0000\n",
       "  0.0196  0.0235  0.0235  0.0196  0.0275  0.0353  0.0353  0.0196  0.0000\n",
       "  0.0157  0.0196  0.0235  0.0196  0.0275  0.0392  0.0471  0.0353  0.0118\n",
       "  0.0000  0.0000  0.0039  0.0039  0.0118  0.0314  0.0431  0.0314  0.0157\n",
       "  0.0000  0.0000  0.0000  0.0000  0.0000  0.0118  0.0275  0.0235  0.0078\n",
       "  0.0000  0.0000  0.0000  0.0000  0.0000  0.0039  0.0196  0.0196  0.0078\n",
       "  0.0000  0.0000  0.0000  0.0000  0.0000  0.0039  0.0196  0.0235  0.0118\n",
       "  0.0549  0.0000  0.0000  0.0000  0.0000  0.0118  0.0275  0.0314  0.0196\n",
       "  0.0431  0.0078  0.0000  0.0000  0.0000  0.0000  0.0157  0.0157  0.0078\n",
       "  0.0314  0.0078  0.0000  0.0000  0.0000  0.0000  0.0039  0.0078  0.0000\n",
       "  0.0314  0.0314  0.0196  0.0000  0.0000  0.0118  0.0235  0.0275  0.0196\n",
       "  0.0471  0.0745  0.0549  0.0353  0.0353  0.0471  0.0627  0.0667  0.0588\n",
       "  0.5490  0.5686  0.5608  0.5451  0.5451  0.5569  0.5725  0.5765  0.5686\n",
       "  0.9569  0.9608  0.9608  0.9490  0.9451  0.9569  0.9765  0.9804  0.9725\n",
       "  1.0000  1.0000  1.0000  1.0000  1.0000  1.0000  1.0000  1.0000  1.0000\n",
       "\n",
       "Columns 64 to 72\n",
       "  1.0000  1.0000  0.9961  0.9922  1.0000  1.0000  1.0000  0.9373  0.9412\n",
       "  1.0000  1.0000  0.9961  0.9804  1.0000  1.0000  1.0000  0.9843  0.9059\n",
       "  1.0000  1.0000  0.9725  0.9686  1.0000  1.0000  1.0000  0.9961  0.7608\n",
       "  1.0000  1.0000  0.9725  0.9843  0.9843  1.0000  1.0000  1.0000  0.5216\n",
       "  1.0000  1.0000  0.9882  0.9843  0.9608  0.9882  1.0000  0.8980  0.2941\n",
       "  1.0000  0.9882  1.0000  0.9882  0.9490  0.9804  1.0000  0.6863  0.1529\n",
       "  1.0000  0.9765  0.9961  0.9882  0.9608  0.9882  0.9098  0.4039  0.0745\n",
       "  1.0000  0.9843  0.9922  0.9922  0.9843  0.9882  0.8000  0.1529  0.0196\n",
       "  1.0000  0.9569  0.9922  0.9608  1.0000  1.0000  0.4706  0.0549  0.0196\n",
       "  1.0000  0.9843  0.9882  0.9882  1.0000  0.8784  0.3098  0.0000  0.0000\n",
       "  1.0000  1.0000  0.9882  1.0000  0.9765  0.6824  0.1569  0.0000  0.0000\n",
       "  1.0000  1.0000  0.9725  1.0000  0.9255  0.4392  0.0549  0.0000  0.0078\n",
       "  1.0000  1.0000  0.9882  0.9608  0.8039  0.2039  0.0039  0.0000  0.0196\n",
       "  1.0000  1.0000  1.0000  0.9216  0.6000  0.0510  0.0000  0.0000  0.0353\n",
       "  1.0000  1.0000  1.0000  0.8902  0.3569  0.0000  0.0000  0.0314  0.0549\n",
       "  1.0000  0.9922  1.0000  0.8431  0.1529  0.0000  0.0000  0.0667  0.0667\n",
       "  0.9725  1.0000  0.9843  0.5725  0.0275  0.0000  0.0235  0.0235  0.0000\n",
       "  0.9843  1.0000  0.9451  0.3961  0.0471  0.0000  0.0196  0.0314  0.0000\n",
       "  0.9961  1.0000  0.8314  0.1843  0.0588  0.0000  0.0235  0.0157  0.0000\n",
       "  1.0000  1.0000  0.6510  0.0706  0.0314  0.0000  0.0275  0.0000  0.0118\n",
       "  1.0000  0.9804  0.4353  0.0706  0.0000  0.0157  0.0275  0.0000  0.0196\n",
       "  1.0000  0.8627  0.2588  0.0745  0.0000  0.0392  0.0078  0.0000  0.0314\n",
       "  1.0000  0.6863  0.1529  0.0275  0.0000  0.0392  0.0000  0.0000  0.0314\n",
       "  1.0000  0.5294  0.1020  0.0000  0.0000  0.0196  0.0000  0.0353  0.0471\n",
       "  1.0000  0.2667  0.0941  0.0078  0.0000  0.0000  0.0000  0.0000  0.1020\n",
       "  0.8824  0.1882  0.0510  0.0000  0.00"
      ]
     },
     "execution_count": 86,
     "metadata": {},
     "output_type": "execute_result"
    },
    {
     "data": {
      "text/plain": [
       "00  0.0000  0.0000  0.0000  0.1608\n",
       "  0.6863  0.1059  0.0157  0.0000  0.0000  0.0000  0.0000  0.0235  0.2588\n",
       "  0.4863  0.0471  0.0078  0.0078  0.0000  0.0000  0.0000  0.0706  0.3922\n",
       "  0.3176  0.0078  0.0118  0.0314  0.0000  0.0000  0.0000  0.1216  0.5373\n",
       "  0.1804  0.0000  0.0157  0.0392  0.0000  0.0000  0.0000  0.1725  0.6863\n",
       "  0.0784  0.0000  0.0275  0.0510  0.0000  0.0000  0.0000  0.2353  0.8235\n",
       "  0.0275  0.0000  0.0431  0.0667  0.0000  0.0000  0.0000  0.2902  0.9216\n",
       "  0.0000  0.0157  0.0235  0.0000  0.0000  0.0000  0.0745  0.4314  1.0000\n",
       "  0.0000  0.0157  0.0157  0.0000  0.0000  0.0000  0.0784  0.5216  1.0000\n",
       "  0.0000  0.0157  0.0000  0.0000  0.0000  0.0078  0.0941  0.6667  1.0000\n",
       "  0.0000  0.0235  0.0000  0.0000  0.0000  0.0157  0.1294  0.7961  1.0000\n",
       "  0.0039  0.0314  0.0000  0.0000  0.0000  0.0235  0.2118  0.8863  1.0000\n",
       "  0.0118  0.0275  0.0000  0.0078  0.0000  0.0392  0.3373  0.9294  1.0000\n",
       "  0.0078  0.0196  0.0000  0.0157  0.0000  0.0667  0.4706  0.9451  1.0000\n",
       "  0.0000  0.0157  0.0000  0.0196  0.0039  0.0941  0.5725  0.9569  1.0000\n",
       "  0.0196  0.0039  0.0000  0.0000  0.0431  0.1294  0.7412  0.9569  1.0000\n",
       "  0.0275  0.0078  0.0000  0.0000  0.0471  0.1843  0.8000  0.9804  1.0000\n",
       "  0.0314  0.0039  0.0000  0.0000  0.0392  0.2627  0.8706  1.0000  1.0000\n",
       "  0.0275  0.0000  0.0078  0.0000  0.0353  0.3569  0.9412  1.0000  1.0000\n",
       "  0.0196  0.0000  0.0039  0.0000  0.0431  0.4549  0.9961  1.0000  0.9922\n",
       "  0.0078  0.0000  0.0039  0.0000  0.0706  0.5608  1.0000  1.0000  0.9961\n",
       "  0.0039  0.0000  0.0000  0.0000  0.1020  0.6510  1.0000  0.9961  0.9922\n",
       "  0.0039  0.0078  0.0000  0.0000  0.1294  0.7020  1.0000  0.9882  0.9922\n",
       "  0.0000  0.0000  0.0000  0.0510  0.1843  0.8157  1.0000  1.0000  1.0000\n",
       "  0.0000  0.0000  0.0000  0.0588  0.2314  0.8510  1.0000  1.0000  1.0000\n",
       "  0.0000  0.0000  0.0000  0.0627  0.2980  0.8902  1.0000  1.0000  1.0000\n",
       "  0.0000  0.0000  0.0000  0.0588  0.3725  0.9176  1.0000  1.0000  0.9961\n",
       "  0.0000  0.0000  0.0000  0.0627  0.4431  0.9333  1.0000  1.0000  1.0000\n",
       "  0.0000  0.0000  0.0039  0.0745  0.5255  0.9569  1.0000  1.0000  1.0000\n",
       "  0.0000  0.0000  0.0118  0.1020  0.6078  0.9765  1.0000  1.0000  1.0000\n",
       "  0.0039  0.0000  0.0235  0.1333  0.6706  0.9843  1.0000  1.0000  1.0000\n",
       "  0.0000  0.0000  0.0353  0.1608  0.7843  0.9843  1.0000  1.0000  0.9961\n",
       "  0.0000  0.0000  0.0431  0.1961  0.8196  0.9961  1.0000  1.0000  1.0000\n",
       "  0.0000  0.0000  0.0588  0.2510  0.8549  0.9961  1.0000  1.0000  1.0000\n",
       "  0.0000  0.0000  0.0588  0.3098  0.8980  0.9922  1.0000  1.0000  1.0000\n",
       "  0.0000  0.0000  0.0588  0.3686  0.9333  0.9804  1.0000  0.9922  0.9961\n",
       "  0.0000  0.0000  0.0667  0.4235  0.9725  0.9804  1.0000  0.9843  0.9961\n",
       "  0.0000  0.0000  0.0706  0.4706  0.9882  0.9765  1.0000  0.9882  0.9922\n",
       "  0.0078  0.0000  0.0745  0.5020  0.9922  0.9804  1.0000  0.9922  0.9922\n",
       "  0.0000  0.0000  0.0863  0.6706  0.9961  0.9725  0.9765  0.9647  1.0000\n",
       "  0.0000  0.0000  0.0980  0.6863  0.9961  0.9686  0.9765  0.9725  1.0000\n",
       "  0.0000  0.0000  0.1176  0.7255  0.9961  0.9765  0.9804  0.9804  1.0000\n",
       "  0.0000  0.0000  0.1451  0.7765  1.0000  0.9804  0.9804  0.9922  1.0000\n",
       "  0.0000  0.0000  0.1765  0.8314  1.0000  0.9765  0.9804  1.0000  1.0000\n",
       "  0.0000  0.0000  0.2039  0.8824  1.0000  0.9843  0.9765  1.0000  1.0000\n",
       "  0.0000  0.0000  0.2275  0.9255  1.0000  0.9882  0.9765  1.0000  1.0000\n",
       "  0.0000  0.0000  0.2392  0.9490  1.0000  0.9922  0.9725  1.0000  1.0000\n",
       "  0.0000  0.0039  0.3098  0.9765  1.0000  0.9961  0.9765  1.0000  1.0000\n",
       "  0.0000  0.0078  0.3373  0.9804  1.0000  1.0000  0.9765  1.0000  1.0000\n",
       "  0.0000  0.0118  0.3804  0.9843  1.0000  1.0000  0.9765  1.0000  1.0000\n",
       "  0.0000  0.0157  0.4314  0.9882  1.0000  1.0000  0.9843  1.0000  1.0000\n",
       "  0.0000  0.0235  0.4902  0.9882  1.0000  1.0000  0.9843  1.0000  1.0000\n",
       "  0.0039  0.0235  0.5451  0.9922  1.0000  1.0000  0.9882  1.0000  1.0000\n",
       "  0.0039  0.0275  0.5804  0.9922  1.0000  1.0000  0.9882  1.0000  1.0000\n",
       "  0.0039  0.0275  0.6000  0.9922  1.0000  1.0000  0.9882  1.0000  1.0000\n",
       "  0.0353  0.1176  0.6706  0.9882  1.0000  0.9843  0.9804  1.0000  1.0000\n",
       "  0.0000  0.1569  0.6941  0.9725  0.9922  0.99"
      ]
     },
     "execution_count": 86,
     "metadata": {},
     "output_type": "execute_result"
    },
    {
     "data": {
      "text/plain": [
       "22  0.9922  1.0000  1.0000\n",
       "  0.0000  0.1412  0.7098  0.9882  1.0000  1.0000  0.9843  1.0000  1.0000\n",
       "  0.0157  0.1294  0.7255  0.9961  1.0000  1.0000  0.9647  0.9725  1.0000\n",
       "  0.1608  0.3333  0.8078  1.0000  1.0000  0.9922  0.9333  0.9569  1.0000\n",
       "  0.8039  0.7373  0.9569  1.0000  1.0000  0.9843  0.9608  0.9765  0.9882\n",
       "  0.9686  0.9922  1.0000  1.0000  1.0000  0.9843  0.9725  0.9843  0.9922\n",
       "  0.9686  1.0000  1.0000  1.0000  1.0000  0.9608  0.9412  1.0000  0.9961\n",
       "  0.9804  1.0000  1.0000  1.0000  0.9804  0.8902  0.8745  0.9412  0.9843\n",
       "  0.9804  1.0000  0.9647  0.8392  0.6941  0.6471  0.7255  0.7490  0.6549\n",
       "  0.9922  1.0000  0.8157  0.6745  0.7490  0.8078  0.7922  0.8118  0.8431\n",
       "  0.9647  0.8902  0.7569  0.6902  0.7294  0.7882  0.8431  0.8510  0.7922\n",
       "  0.8745  0.7961  0.7765  0.7922  0.8118  0.7961  0.8078  0.8196  0.7804\n",
       "  0.7765  0.7373  0.7059  0.7569  0.8118  0.7686  0.7216  0.7490  0.7804\n",
       "  0.6863  0.7569  0.8667  0.8745  0.7647  0.7608  0.9098  0.8902  0.6902\n",
       "  0.6078  0.7804  0.7961  0.7843  0.8039  0.9020  1.0000  0.9843  0.7922\n",
       "  0.6824  0.7961  0.7843  0.7922  0.7373  0.9137  1.0000  1.0000  0.8039\n",
       "  0.7176  0.8275  0.8078  0.7725  0.7294  0.8706  1.0000  0.9882  0.7608\n",
       "  0.7725  0.8196  0.8157  0.7529  0.7412  0.8392  0.9961  0.9647  0.7725\n",
       "  0.8275  0.7804  0.8118  0.7647  0.7725  0.7725  0.9451  0.8902  0.7686\n",
       "  0.9059  0.7647  0.8196  0.8000  0.8000  0.7137  0.7961  0.7647  0.7216\n",
       "  0.9843  0.7922  0.8078  0.8275  0.8314  0.7412  0.7373  0.7451  0.7686\n",
       "  1.0000  0.8706  0.8000  0.8235  0.8471  0.8314  0.7647  0.8039  0.8431\n",
       "  0.9765  0.9569  0.8000  0.8039  0.8275  0.8745  0.7725  0.8078  0.8314\n",
       "  0.9216  0.9961  0.9020  0.8078  0.7490  0.7765  0.8157  0.7804  0.7765\n",
       "  0.9647  0.9647  0.9608  0.9333  0.8353  0.7333  0.6627  0.6431  0.7020\n",
       "  0.9922  0.9647  0.9725  0.9882  0.9922  0.9804  0.9255  0.9059  0.9569\n",
       "  0.9804  0.9137  0.9529  0.9137  0.9529  0.9961  0.9647  0.9451  0.9686\n",
       "  0.5373  0.8039  0.9725  1.0000  1.0000  1.0000  0.9294  0.9412  0.9961\n",
       "  0.0157  0.5608  0.9059  1.0000  1.0000  1.0000  0.9216  0.9608  1.0000\n",
       "  0.0000  0.5451  0.9529  1.0000  1.0000  1.0000  0.9725  0.9804  1.0000\n",
       "  0.0000  0.5176  0.9569  1.0000  1.0000  1.0000  0.9569  0.9843  1.0000\n",
       "  0.0000  0.5843  0.9373  0.9529  0.9804  0.9882  1.0000  1.0000  1.0000\n",
       "  0.0000  0.5882  0.9373  0.9529  0.9804  0.9882  1.0000  1.0000  1.0000\n",
       "  0.0000  0.5882  0.9412  0.9529  0.9804  0.9882  1.0000  1.0000  1.0000\n",
       "  0.0000  0.5922  0.9451  0.9529  0.9804  0.9882  1.0000  1.0000  1.0000\n",
       "  0.0000  0.5922  0.9451  0.9569  0.9804  0.9882  1.0000  1.0000  1.0000\n",
       "  0.0000  0.5961  0.9490  0.9608  0.9843  0.9882  1.0000  1.0000  1.0000\n",
       "  0.0000  0.6039  0.9529  0.9647  0.9882  0.9882  1.0000  1.0000  1.0000\n",
       "  0.0000  0.6039  0.9529  0.9647  0.9882  0.9922  1.0000  1.0000  1.0000\n",
       "  0.0118  0.5961  0.9725  0.9451  0.9882  1.0000  1.0000  1.0000  1.0000\n",
       "  0.0000  0.5961  0.9765  0.9765  0.9922  1.0000  1.0000  1.0000  0.9922\n",
       "  0.0000  0.5843  0.9608  0.9882  0.9961  0.9922  1.0000  1.0000  0.9922\n",
       "  0.0078  0.5882  0.9255  0.9843  1.0000  0.9725  1.0000  1.0000  1.0000\n",
       "  0.0471  0.6667  0.9294  0.9882  1.0000  0.9686  1.0000  1.0000  1.0000\n",
       "  0.5569  0.8157  0.9608  0.9961  1.0000  0.9804  1.0000  0.9961  1.0000\n",
       "  0.9608  0.9490  0.9843  0.9882  1.0000  0.9882  1.0000  0.9843  1.0000\n",
       "  1.0000  0.9843  0.9765  0.9608  1.0000  0.9882  1.0000  0.9804  1.0000\n",
       "\n",
       "Columns 73 to 81\n",
       "  0.7569  0.2784  0.0157  0.0000  0.0000  0.0157  0.0000  0.0000  0.0000\n",
       "  0.4941  0.1490  0.0157  0.0118  0.0000  0.0196  0.0000  0.0000  0.0118\n",
       "  0.2275  0.0353  0.0314  0.0275  0.0000  0.0000  0.0000  0.0000  0.0392\n",
       "  0.0863  0.0000  0.0392  0.0314  0.0000  0.0000  0.0000  0.0275  0.0824\n",
       "  0.0157  0.0000  0.0275  0.0235  0.0000  0.0000  0.0157  0.0824  0.1098\n",
       "  0.0000  0.0000  0.0078  0.0157  0.0000  0.0000  0.0000  0.1255  0.1569\n",
       "  0.0000  0.0000  0.0000  0.0039  0.0000  0.0000  0.0706  0.3412  0.4549\n",
       "  0.0000  0.0000  0.0118  0.0078  0.0000  0.0235  0.2706  0.6588  0.8745\n",
       "  0.0000  0.0157  0.0157  0.0000  0.0000  0.0902  0.6549  0.9608  0.9294\n",
       "  0.0157  0.0588  0.0471  0.0196  0."
      ]
     },
     "execution_count": 86,
     "metadata": {},
     "output_type": "execute_result"
    },
    {
     "data": {
      "text/plain": [
       "0275  0.3843  0.8510  1.0000  0.9725\n",
       "  0.0353  0.0627  0.0431  0.0431  0.1373  0.7020  1.0000  1.0000  1.0000\n",
       "  0.0471  0.0549  0.0314  0.0471  0.3608  0.9137  1.0000  1.0000  1.0000\n",
       "  0.0549  0.0353  0.0353  0.1294  0.6745  1.0000  0.9882  0.9961  1.0000\n",
       "  0.0314  0.0000  0.0392  0.3059  0.9176  1.0000  0.9686  0.9686  1.0000\n",
       "  0.0039  0.0000  0.0510  0.5490  1.0000  1.0000  0.9922  0.9412  0.9765\n",
       "  0.0157  0.0000  0.0863  0.7490  1.0000  1.0000  1.0000  0.9216  0.9725\n",
       "  0.0000  0.0431  0.4588  1.0000  1.0000  0.9608  0.9608  0.9922  0.9922\n",
       "  0.0000  0.0980  0.5804  1.0000  1.0000  0.9686  0.9608  0.9961  1.0000\n",
       "  0.0000  0.2000  0.7529  1.0000  1.0000  0.9804  0.9647  0.9922  0.9961\n",
       "  0.0078  0.3333  0.8980  1.0000  1.0000  0.9922  0.9725  0.9882  1.0000\n",
       "  0.0471  0.4784  0.9608  0.9882  1.0000  1.0000  0.9882  0.9882  1.0000\n",
       "  0.1373  0.6471  0.9608  0.9686  1.0000  1.0000  1.0000  0.9843  1.0000\n",
       "  0.2588  0.8196  0.9529  0.9686  0.9961  1.0000  1.0000  0.9725  1.0000\n",
       "  0.3569  0.9333  0.9373  0.9608  0.9922  1.0000  1.0000  0.9647  1.0000\n",
       "  0.6196  0.9333  0.9686  0.9176  0.9922  1.0000  1.0000  0.9882  1.0000\n",
       "  0.7294  0.9765  0.9765  0.9216  0.9843  1.0000  1.0000  1.0000  1.0000\n",
       "  0.8667  1.0000  0.9843  0.9333  0.9804  1.0000  1.0000  1.0000  1.0000\n",
       "  0.9647  1.0000  0.9922  0.9529  0.9765  1.0000  1.0000  1.0000  1.0000\n",
       "  1.0000  1.0000  0.9922  0.9686  0.9686  0.9882  1.0000  1.0000  0.9843\n",
       "  1.0000  1.0000  0.9922  0.9765  0.9647  0.9765  1.0000  1.0000  0.9647\n",
       "  1.0000  1.0000  1.0000  0.9843  0.9569  0.9647  1.0000  1.0000  0.9490\n",
       "  1.0000  1.0000  1.0000  0.9882  0.9412  0.9608  1.0000  1.0000  0.9412\n",
       "  1.0000  0.9922  0.9451  0.9529  1.0000  1.0000  1.0000  0.9961  1.0000\n",
       "  1.0000  0.9922  0.9451  0.9569  1.0000  1.0000  1.0000  0.9961  1.0000\n",
       "  1.0000  0.9922  0.9490  0.9569  1.0000  1.0000  1.0000  0.9922  1.0000\n",
       "  1.0000  0.9922  0.9529  0.9608  1.0000  1.0000  1.0000  0.9961  1.0000\n",
       "  1.0000  0.9961  0.9608  0.9647  1.0000  1.0000  1.0000  0.9961  1.0000\n",
       "  1.0000  0.9961  0.9647  0.9725  1.0000  1.0000  1.0000  0.9961  1.0000\n",
       "  1.0000  0.9922  0.9725  0.9804  1.0000  1.0000  1.0000  0.9961  1.0000\n",
       "  1.0000  0.9922  0.9804  0.9843  1.0000  1.0000  1.0000  0.9961  1.0000\n",
       "  1.0000  0.9922  0.9882  0.9922  1.0000  1.0000  1.0000  0.9961  1.0000\n",
       "  1.0000  0.9922  0.9961  1.0000  1.0000  1.0000  0.9961  0.9961  1.0000\n",
       "  0.9922  0.9882  1.0000  1.0000  1.0000  0.9961  0.9961  0.9961  1.0000\n",
       "  0.9843  0.9882  1.0000  1.0000  1.0000  0.9882  0.9882  0.9961  1.0000\n",
       "  0.9804  0.9882  1.0000  1.0000  1.0000  0.9882  0.9882  0.9961  1.0000\n",
       "  0.9765  0.9922  1.0000  1.0000  1.0000  0.9843  0.9843  1.0000  1.0000\n",
       "  0.9725  0.9922  1.0000  1.0000  1.0000  0.9843  0.9843  1.0000  1.0000\n",
       "  0.9686  0.9922  1.0000  1.0000  1.0000  0.9804  0.9843  1.0000  1.0000\n",
       "  0.9765  0.9569  0.9725  1.0000  1.0000  1.0000  0.9961  0.9647  0.9882\n",
       "  0.9765  0.9569  0.9765  1.0000  1.0000  1.0000  0.9961  0.9647  0.9882\n",
       "  0.9765  0.9608  0.9765  1.0000  1.0000  1.0000  0.9961  0.9686  0.9922\n",
       "  0.9804  0.9608  0.9765  1.0000  1.0000  1.0000  0.9961  0.9686  0.9922\n",
       "  0.9843  0.9647  0.9804  1.0000  1.0000  1.0000  0.9961  0.9725  0.9922\n",
       "  0.9843  0.9725  0.9843  1.0000  1.0000  1.0000  0.9961  0.9765  0.9922\n",
       "  0.9882  0.9765  0.9843  1.0000  1.0000  1.0000  0.9961  0.9843  0.9961\n",
       "  0.9922  0.9843  0.9922  1.0000  1.0000  1.0000  1.0000  0.9922  0.9961\n",
       "  0.9961  0.9922  0.9961  1.0000  1.0000  1.0000  1.0000  0.9961  0.9961\n",
       "  0.9961  0.9961  0.9961  0.9961  0.9961  0.9961  1.0000  1.0000  0.9961\n",
       "  1.0000  1.0000  1.0000  0.9961  0.9882  0.9922  1.0000  1.0000  0.9961\n",
       "  1.0000  1.0000  1.0000  0.9922  0.9804  0.9843  1.0000  1.0000  1.0000\n",
       "  1.0000  1.0000  1.0000  0.9882  0.9804  0.9843  1.0000  1.0000  1.0000\n",
       "  1.0000  1.0000  1.0000  0.9882  0.9725  0.9765  1.0000  1.0000  1.0000\n",
       "  1.0000  1.0000  1.0000  0.9882  0.9686  0.9765  1.0000  1.0000  1.0000\n",
       "  1.0000  1.0000  1.0000  0.9882  0.9686  0.9765  1.0000  1.0000  1.0000\n",
       "  0.9922  0.9765  0.9961  1.0000  1.0000  0.9922  0.9922  1.0000  1.0000\n",
       "  0.9922  0.9765  0.9961  1.0000  1.0000  0."
      ]
     },
     "execution_count": 86,
     "metadata": {},
     "output_type": "execute_result"
    },
    {
     "data": {
      "text/plain": [
       "9922  0.9922  1.0000  1.0000\n",
       "  0.9922  0.9765  0.9961  1.0000  1.0000  0.9922  0.9922  1.0000  1.0000\n",
       "  0.9882  0.9765  0.9961  1.0000  1.0000  0.9922  0.9922  1.0000  1.0000\n",
       "  0.9882  0.9765  0.9922  1.0000  1.0000  0.9922  0.9922  1.0000  1.0000\n",
       "  0.9882  0.9725  0.9922  1.0000  1.0000  0.9922  0.9922  1.0000  1.0000\n",
       "  0.9882  0.9725  0.9922  1.0000  1.0000  0.9922  0.9922  1.0000  1.0000\n",
       "  0.9882  0.9725  0.9922  1.0000  1.0000  0.9922  0.9922  1.0000  1.0000\n",
       "  0.9882  0.9725  0.9922  1.0000  1.0000  0.9961  0.9961  1.0000  1.0000\n",
       "  0.9882  0.9725  0.9882  1.0000  1.0000  0.9961  0.9961  1.0000  1.0000\n",
       "  0.9882  0.9686  0.9882  1.0000  1.0000  0.9961  0.9961  1.0000  1.0000\n",
       "  0.9882  0.9686  0.9882  1.0000  1.0000  0.9961  0.9961  1.0000  1.0000\n",
       "  0.9882  0.9686  0.9882  1.0000  1.0000  0.9961  0.9961  1.0000  1.0000\n",
       "  0.9882  0.9686  0.9882  1.0000  1.0000  0.9961  0.9961  1.0000  1.0000\n",
       "  0.9882  0.9686  0.9882  1.0000  1.0000  0.9961  0.9961  1.0000  1.0000\n",
       "  0.9843  0.9686  0.9843  1.0000  1.0000  0.9961  0.9961  1.0000  1.0000\n",
       "  1.0000  1.0000  1.0000  0.9882  1.0000  1.0000  1.0000  0.9961  1.0000\n",
       "  1.0000  1.0000  0.9843  0.9725  0.9922  1.0000  1.0000  1.0000  1.0000\n",
       "  1.0000  1.0000  0.9608  0.9490  0.9725  1.0000  1.0000  1.0000  1.0000\n",
       "  1.0000  0.9843  0.9490  0.9373  0.9647  1.0000  1.0000  1.0000  1.0000\n",
       "  1.0000  0.9804  0.9490  0.9451  0.9686  1.0000  1.0000  1.0000  0.9843\n",
       "  1.0000  0.9843  0.9608  0.9608  0.9843  1.0000  1.0000  1.0000  0.9843\n",
       "  1.0000  0.9961  0.9882  0.9961  1.0000  1.0000  1.0000  0.9922  1.0000\n",
       "  1.0000  1.0000  1.0000  1.0000  1.0000  1.0000  1.0000  0.9725  1.0000\n",
       "  1.0000  0.9765  1.0000  1.0000  1.0000  0.9882  0.9608  0.8980  0.9725\n",
       "  0.7882  0.9255  1.0000  0.9490  0.7333  0.7176  0.7176  0.6471  0.8863\n",
       "  0.6667  0.8039  0.9176  0.9294  0.7137  0.7922  0.7725  0.6745  0.6078\n",
       "  0.7608  0.7137  0.7412  0.9176  0.7725  0.8392  0.7686  0.7020  0.7490\n",
       "  0.7922  0.7059  0.6902  0.8667  0.7255  0.7725  0.7373  0.7647  0.8980\n",
       "  0.7882  0.7843  0.7333  0.7843  0.7216  0.8314  0.8314  0.8510  0.7529\n",
       "  0.8235  0.8706  0.7725  0.6980  0.7255  0.8275  0.8118  0.7922  0.6980\n",
       "  0.7529  0.8667  0.8000  0.6902  0.7569  0.7922  0.8118  0.8745  0.6627\n",
       "  0.7804  0.8196  0.8078  0.7216  0.6980  0.7922  0.8392  0.7765  0.8392\n",
       "  0.7569  0.8196  0.8196  0.6980  0.7098  0.7765  0.8157  0.7529  0.8784\n",
       "  0.7412  0.8235  0.8275  0.6706  0.7333  0.7686  0.7922  0.7176  0.9059\n",
       "  0.7686  0.8314  0.8118  0.6588  0.7647  0.7843  0.7882  0.6980  0.9059\n",
       "  0.8196  0.8275  0.7922  0.6902  0.7804  0.8196  0.8039  0.7059  0.8824\n",
       "  0.8627  0.8157  0.7725  0.7804  0.7882  0.8510  0.8275  0.7333  0.8588\n",
       "  0.8627  0.7882  0.7765  0.8902  0.7765  0.8588  0.8353  0.7647  0.8471\n",
       "  0.8353  0.7529  0.7725  0.9608  0.7490  0.8431  0.8235  0.7765  0.8549\n",
       "  0.7216  0.8627  0.9451  0.8784  0.7725  0.7294  0.7373  0.7412  0.8902\n",
       "  0.8510  0.9569  0.9961  0.9412  0.8784  0.8706  0.8824  0.8863  0.9765\n",
       "  0.9725  1.0000  0.9922  0.9686  0.9490  0.9765  0.9882  0.9765  1.0000\n",
       "  1.0000  1.0000  0.9922  0.9451  0.9529  0.9922  0.9961  0.9725  0.9922\n",
       "  1.0000  1.0000  0.9922  0.9529  0.9647  1.0000  1.0000  0.9804  0.9725\n",
       "  1.0000  1.0000  0.9804  0.9569  0.9843  1.0000  1.0000  1.0000  0.9569\n",
       "  1.0000  1.0000  0.9451  0.9412  0.9882  1.0000  1.0000  1.0000  0.9529\n",
       "  1.0000  1.0000  0.9216  0.9176  0.9843  1.0000  1.0000  1.0000  0.9647\n",
       "  1.0000  1.0000  1.0000  0.9961  0.9961  1.0000  1.0000  1.0000  1.0000\n",
       "  1.0000  1.0000  1.0000  0.9961  0.9961  1.0000  1.0000  1.0000  1.0000\n",
       "  1.0000  1.0000  0.9961  0.9961  0.9961  1.0000  1.0000  1.0000  1.0000\n",
       "  1.0000  1.0000  0.9961  0.9961  0.9961  1.0000  1.0000  1.0000  1.0000\n",
       "  1.0000  1.0000  0.9961  0.9961  0.9961  1.0000  1.0000  1.0000  1.0000\n",
       "  1.0000  1.0000  0.9961  0.9961  0.9961  1.0000  1.0000  1.0000  1.0000\n",
       "  1.0000  1.0000  0.9961  0.9961  0.9961  1.0000  1.0000  1.0000  1.0000\n",
       "  1.0000  1.0000  0.9922  0.9961  0.9961  1.0000  1.0000  1.0000  1.0000\n",
       "  1.0000  0.9961  0.9922  0.9961  0.9961  1.0000  1.0000  1.0000  1.0000\n",
       "  1.0000  0.9961  0.9922  0.9961  0.9961  1.0000  1."
      ]
     },
     "execution_count": 86,
     "metadata": {},
     "output_type": "execute_result"
    },
    {
     "data": {
      "text/plain": [
       "0000  1.0000  1.0000\n",
       "  1.0000  0.9922  0.9922  0.9922  0.9961  1.0000  1.0000  1.0000  1.0000\n",
       "  1.0000  0.9922  0.9922  0.9922  0.9961  1.0000  1.0000  1.0000  1.0000\n",
       "  1.0000  0.9922  0.9922  0.9922  0.9961  1.0000  1.0000  1.0000  1.0000\n",
       "  0.9961  0.9922  0.9922  0.9922  0.9961  1.0000  1.0000  1.0000  1.0000\n",
       "  0.9961  0.9922  0.9922  0.9922  0.9961  1.0000  1.0000  1.0000  1.0000\n",
       "  0.9961  0.9922  0.9922  0.9922  0.9961  1.0000  1.0000  1.0000  1.0000\n",
       "\n",
       "Columns 82 to 90\n",
       "  0.0039  0.0275  0.0353  0.0078  0.0000  0.0588  0.2745  0.8196  1.0000\n",
       "  0.0078  0.0000  0.0000  0.0196  0.0078  0.0157  0.1020  0.4745  0.8745\n",
       "  0.0118  0.0000  0.0000  0.0157  0.0392  0.0039  0.0078  0.1451  0.5922\n",
       "  0.0392  0.0000  0.0000  0.0039  0.0235  0.0118  0.0353  0.0275  0.2667\n",
       "  0.0510  0.0000  0.0000  0.0000  0.0000  0.0000  0.0353  0.0078  0.0784\n",
       "  0.1098  0.0118  0.0000  0.0000  0.0000  0.0000  0.0000  0.0000  0.0353\n",
       "  0.4784  0.3333  0.0980  0.0000  0.0000  0.0000  0.0000  0.0000  0.0000\n",
       "  0.9569  0.7804  0.3294  0.0157  0.0000  0.0000  0.0157  0.0431  0.0000\n",
       "  0.9882  0.9961  0.7569  0.1725  0.0000  0.0000  0.0235  0.0235  0.0000\n",
       "  1.0000  1.0000  0.9176  0.4824  0.0627  0.0078  0.0078  0.0118  0.0000\n",
       "  1.0000  1.0000  1.0000  0.8000  0.2275  0.0314  0.0157  0.0000  0.0000\n",
       "  1.0000  1.0000  1.0000  0.9608  0.4902  0.0863  0.0392  0.0000  0.0000\n",
       "  1.0000  0.9961  0.9922  1.0000  0.7922  0.1961  0.0627  0.0000  0.0157\n",
       "  0.9843  0.9765  0.9804  0.9961  0.9647  0.3765  0.0588  0.0000  0.0039\n",
       "  0.9765  0.9569  0.9647  0.9961  0.9882  0.6471  0.1294  0.0157  0.0000\n",
       "  0.9686  0.9490  0.9686  0.9922  0.9725  0.8863  0.2431  0.0549  0.0000\n",
       "  1.0000  1.0000  0.9961  0.9529  1.0000  0.9647  0.4863  0.0392  0.0000\n",
       "  1.0000  1.0000  0.9922  0.9647  1.0000  1.0000  0.6510  0.0980  0.0000\n",
       "  1.0000  0.9961  0.9843  0.9765  1.0000  1.0000  0.8431  0.2235  0.0000\n",
       "  1.0000  0.9922  0.9725  0.9922  1.0000  1.0000  0.9529  0.4275  0.0078\n",
       "  1.0000  0.9725  0.9529  0.9961  1.0000  0.9765  0.9804  0.6549  0.0941\n",
       "  0.9922  0.9569  0.9412  1.0000  1.0000  0.9765  0.9961  0.8431  0.2549\n",
       "  0.9725  0.9451  0.9529  0.9961  1.0000  0.9922  1.0000  0.9569  0.4627\n",
       "  0.9686  0.9451  0.9647  0.9843  1.0000  1.0000  1.0000  1.0000  0.6196\n",
       "  0.9961  0.9490  0.9686  1.0000  1.0000  1.0000  1.0000  1.0000  0.8392\n",
       "  0.9961  0.9608  0.9765  1.0000  1.0000  1.0000  1.0000  1.0000  0.8980\n",
       "  1.0000  0.9765  0.9882  1.0000  1.0000  1.0000  1.0000  1.0000  0.9569\n",
       "  1.0000  0.9961  1.0000  0.9961  0.9961  1.0000  1.0000  1.0000  0.9922\n",
       "  1.0000  1.0000  1.0000  0.9922  0.9843  1.0000  1.0000  1.0000  0.9961\n",
       "  1.0000  1.0000  1.0000  0.9882  0.9804  0.9961  1.0000  0.9882  0.9922\n",
       "  1.0000  1.0000  1.0000  0.9843  0.9765  0.9961  1.0000  0.9804  0.9843\n",
       "  1.0000  1.0000  1.0000  0.9843  0.9725  0.9961  1.0000  0.9804  0.9804\n",
       "  1.0000  0.9882  0.9529  0.9647  1.0000  1.0000  0.9961  0.9412  0.9765\n",
       "  1.0000  0.9882  0.9529  0.9686  1.0000  1.0000  0.9961  0.9373  0.9765\n",
       "  1.0000  0.9882  0.9569  0.9686  1.0000  1.0000  0.9961  0.9373  0.9765\n",
       "  1.0000  0.9882  0.9608  0.9725  1.0000  1.0000  0.9961  0.9412  0.9804\n",
       "  1.0000  0.9882  0.9647  0.9765  1.0000  1.0000  0.9961  0.9529  0.9843\n",
       "  1.0000  0.9882  0.9686  0.9804  1.0000  1.0000  0.9961  0.9647  0.9843\n",
       "  1.0000  0.9882  0.9725  0.9843  1.0000  1.0000  1.0000  0.9765  0.9882\n",
       "  1.0000  0.9882  0.9843  0.9922  1.0000  1.0000  1.0000  0.9843  0.9882\n",
       "  1.0000  0.9882  0.9882  0.9961  1.0000  1.0000  1.0000  0.9961  0.9922\n",
       "  1.0000  0.9882  0.9961  1.0000  1.0000  1.0000  1.0000  1.0000  0.9961\n",
       "  0.9961  0.9882  1.0000  1.0000  1.0000  1.0000  1.0000  1.0000  1.0000\n",
       "  0.9922  0.9882  1.0000  1.0000  1.0000  0.9922  1.0000  1.0000  1.0000\n",
       "  0.9922  0.9882  1.0000  1.0000  1.0000  0.9882  1.0000  1.0000  1.0000\n",
       "  0.9882  0.9882  1.0000  1.0000  1.0000  0.9843  1.0000  1.0000  1.0000\n",
       "  0.9882  0.9882  1.0000  1.0000  1.0000  0.9804  1.0000  1.0000  1.0000\n",
       "  0.9882  0.9882  1.0000  1.0000  1.0000  0.9804  1.0000  1.0000  0.9922\n",
       "  0.9922  0.9961  1.0000  1.0000  1.0000  1.0000  1.0000  1.0000  1.0000\n",
       "  0.9922  0.9961  1.0000  1.0000  1.0000  "
      ]
     },
     "execution_count": 86,
     "metadata": {},
     "output_type": "execute_result"
    },
    {
     "data": {
      "text/plain": [
       "1.0000  1.0000  1.0000  1.0000\n",
       "  0.9922  0.9961  1.0000  1.0000  1.0000  1.0000  1.0000  1.0000  1.0000\n",
       "  0.9922  0.9961  1.0000  1.0000  1.0000  1.0000  1.0000  1.0000  1.0000\n",
       "  0.9961  0.9961  1.0000  1.0000  1.0000  1.0000  1.0000  1.0000  0.9922\n",
       "  0.9961  0.9961  1.0000  1.0000  1.0000  1.0000  1.0000  1.0000  0.9843\n",
       "  0.9961  0.9961  1.0000  1.0000  1.0000  1.0000  1.0000  1.0000  0.9765\n",
       "  0.9961  0.9961  1.0000  1.0000  1.0000  1.0000  1.0000  1.0000  0.9725\n",
       "  0.9961  0.9961  1.0000  1.0000  1.0000  1.0000  1.0000  1.0000  1.0000\n",
       "  0.9961  0.9961  1.0000  1.0000  1.0000  1.0000  1.0000  1.0000  1.0000\n",
       "  0.9961  1.0000  1.0000  1.0000  1.0000  1.0000  1.0000  1.0000  1.0000\n",
       "  1.0000  1.0000  1.0000  1.0000  1.0000  1.0000  1.0000  1.0000  1.0000\n",
       "  1.0000  1.0000  1.0000  1.0000  1.0000  1.0000  1.0000  1.0000  1.0000\n",
       "  1.0000  1.0000  1.0000  1.0000  0.9961  0.9961  0.9961  1.0000  1.0000\n",
       "  1.0000  1.0000  1.0000  1.0000  0.9961  0.9961  0.9961  1.0000  1.0000\n",
       "  1.0000  1.0000  1.0000  1.0000  0.9961  0.9961  0.9961  0.9961  1.0000\n",
       "  1.0000  1.0000  1.0000  1.0000  1.0000  1.0000  1.0000  1.0000  1.0000\n",
       "  1.0000  1.0000  1.0000  1.0000  1.0000  1.0000  1.0000  1.0000  1.0000\n",
       "  1.0000  1.0000  1.0000  1.0000  1.0000  1.0000  1.0000  1.0000  1.0000\n",
       "  1.0000  1.0000  1.0000  1.0000  1.0000  1.0000  1.0000  1.0000  1.0000\n",
       "  1.0000  1.0000  1.0000  1.0000  1.0000  1.0000  1.0000  1.0000  1.0000\n",
       "  1.0000  1.0000  1.0000  1.0000  1.0000  1.0000  1.0000  1.0000  1.0000\n",
       "  1.0000  1.0000  1.0000  1.0000  1.0000  1.0000  1.0000  1.0000  1.0000\n",
       "  1.0000  1.0000  1.0000  1.0000  1.0000  1.0000  1.0000  1.0000  1.0000\n",
       "  1.0000  1.0000  1.0000  1.0000  1.0000  1.0000  1.0000  1.0000  1.0000\n",
       "  1.0000  1.0000  1.0000  1.0000  1.0000  1.0000  1.0000  1.0000  1.0000\n",
       "  1.0000  1.0000  1.0000  1.0000  1.0000  1.0000  1.0000  1.0000  1.0000\n",
       "  1.0000  1.0000  1.0000  1.0000  1.0000  1.0000  1.0000  1.0000  1.0000\n",
       "  1.0000  1.0000  1.0000  1.0000  1.0000  1.0000  1.0000  1.0000  1.0000\n",
       "  1.0000  1.0000  1.0000  1.0000  1.0000  1.0000  1.0000  1.0000  1.0000\n",
       "  1.0000  1.0000  1.0000  1.0000  1.0000  1.0000  1.0000  1.0000  1.0000\n",
       "  1.0000  1.0000  1.0000  1.0000  1.0000  1.0000  1.0000  1.0000  1.0000\n",
       "  1.0000  1.0000  1.0000  1.0000  1.0000  1.0000  0.9765  0.9529  0.9686\n",
       "  1.0000  0.9922  0.9961  1.0000  1.0000  1.0000  0.9922  0.9725  0.9725\n",
       "  1.0000  0.9725  0.9569  0.9725  0.9961  1.0000  1.0000  0.9922  0.9843\n",
       "  0.9882  0.9608  0.9451  0.9569  0.9843  1.0000  1.0000  1.0000  0.9922\n",
       "  0.9765  0.9686  0.9647  0.9725  0.9922  1.0000  1.0000  1.0000  1.0000\n",
       "  0.9882  0.9961  1.0000  1.0000  1.0000  1.0000  1.0000  1.0000  1.0000\n",
       "  1.0000  1.0000  1.0000  1.0000  1.0000  1.0000  1.0000  1.0000  1.0000\n",
       "  1.0000  1.0000  1.0000  1.0000  1.0000  1.0000  1.0000  1.0000  0.9961\n",
       "  0.9765  1.0000  1.0000  0.9725  0.9882  0.9961  0.9843  0.9882  0.9961\n",
       "  0.7608  0.6667  0.6588  0.7373  0.8471  0.9137  0.9216  0.9373  0.8510\n",
       "  0.6941  0.7961  0.8118  0.7333  0.6941  0.7961  0.9216  0.8667  0.8000\n",
       "  0.7843  0.8314  0.8549  0.8157  0.7451  0.7647  0.8745  0.7176  0.7647\n",
       "  0.8510  0.7882  0.8157  0.8784  0.8471  0.7882  0.8157  0.7176  0.8157\n",
       "  0.8118  0.8235  0.8627  0.9059  0.8510  0.7765  0.8157  0.7176  0.7843\n",
       "  0.7373  0.6980  0.7294  0.8627  0.8627  0.7765  0.7765  0.6588  0.6471\n",
       "  0.7608  0.7569  0.7843  0.9020  0.8902  0.7843  0.7765  0.8510  0.7333\n",
       "  0.9765  0.9255  0.7804  0.8784  0.8000  0.7137  0.7569  0.7216  0.7882\n",
       "  0.9843  0.9333  0.7686  0.8588  0.7843  0.6980  0.6902  0.7333  0.8431\n",
       "  0.9922  0.9373  0.7569  0.8078  0.7804  0.7020  0.6235  0.7686  0.8627\n",
       "  0.9804  0.9412  0.7529  0.7882  0.7922  0.7333  0.5961  0.8039  0.8431\n",
       "  0.9686  0.9373  0.7490  0.7922  0.8000  0.7294  0.5804  0.8353  0.8196\n",
       "  0.9647  0.9373  0.7529  0.8157  0.8000  0.7098  0.5882  0.8471  0.8235\n",
       "  0.9725  0.9412  0.7608  0.8627  0.8196  0.7137  0.6510  0.7882  0.8510\n",
       "  0.9922  0.9451  0.7647  0.8902  0.8353  0.7294  0.7216  0.6784  0.8706\n",
       "  1.0000  0.9216  0.7686  0.7843  0.7255  0.6863  0.8431  0.8196  0.7686\n",
       "  1.0000  0.9804  0.8784  0.9020  0.8745  0.8431  "
      ]
     },
     "execution_count": 86,
     "metadata": {},
     "output_type": "execute_result"
    },
    {
     "data": {
      "text/plain": [
       "0.9451  0.9451  0.8980\n",
       "  1.0000  1.0000  0.9686  0.9843  0.9804  0.9608  0.9882  1.0000  0.9765\n",
       "  0.9882  1.0000  1.0000  0.9922  0.9882  0.9765  0.9608  1.0000  0.9843\n",
       "  0.9647  0.9961  1.0000  0.9882  0.9804  0.9804  0.9647  1.0000  1.0000\n",
       "  0.9608  0.9961  1.0000  1.0000  0.9922  0.9922  0.9961  1.0000  1.0000\n",
       "  0.9608  0.9922  1.0000  1.0000  1.0000  0.9961  1.0000  1.0000  1.0000\n",
       "  0.9765  0.9843  1.0000  1.0000  1.0000  0.9882  1.0000  1.0000  1.0000\n",
       "  1.0000  1.0000  1.0000  1.0000  1.0000  1.0000  1.0000  1.0000  1.0000\n",
       "  1.0000  1.0000  1.0000  1.0000  1.0000  1.0000  1.0000  1.0000  1.0000\n",
       "  1.0000  1.0000  1.0000  1.0000  1.0000  1.0000  1.0000  1.0000  1.0000\n",
       "  1.0000  1.0000  1.0000  1.0000  1.0000  1.0000  1.0000  1.0000  1.0000\n",
       "  1.0000  1.0000  1.0000  1.0000  1.0000  1.0000  1.0000  1.0000  1.0000\n",
       "  1.0000  1.0000  1.0000  1.0000  1.0000  1.0000  1.0000  1.0000  1.0000\n",
       "  1.0000  1.0000  1.0000  1.0000  1.0000  1.0000  1.0000  1.0000  1.0000\n",
       "  1.0000  1.0000  1.0000  1.0000  1.0000  1.0000  1.0000  1.0000  1.0000\n",
       "  1.0000  1.0000  1.0000  1.0000  1.0000  1.0000  1.0000  1.0000  1.0000\n",
       "  1.0000  1.0000  1.0000  1.0000  1.0000  1.0000  1.0000  1.0000  1.0000\n",
       "  1.0000  1.0000  1.0000  1.0000  1.0000  1.0000  1.0000  1.0000  1.0000\n",
       "  1.0000  1.0000  1.0000  1.0000  1.0000  1.0000  1.0000  1.0000  1.0000\n",
       "  1.0000  1.0000  1.0000  1.0000  1.0000  1.0000  1.0000  1.0000  1.0000\n",
       "  1.0000  1.0000  1.0000  1.0000  1.0000  1.0000  1.0000  1.0000  1.0000\n",
       "  1.0000  1.0000  1.0000  1.0000  1.0000  1.0000  1.0000  1.0000  1.0000\n",
       "  1.0000  1.0000  1.0000  1.0000  1.0000  1.0000  1.0000  1.0000  1.0000\n",
       "\n",
       "Columns 91 to 99\n",
       "  1.0000  1.0000  0.9686  0.9490  0.9804  0.9882  1.0000  1.0000  1.0000\n",
       "  1.0000  0.9725  0.9804  0.9647  0.9412  1.0000  1.0000  1.0000  1.0000\n",
       "  0.9882  0.9882  0.9843  0.9686  0.9294  1.0000  1.0000  1.0000  1.0000\n",
       "  0.7765  1.0000  0.9529  0.9843  1.0000  1.0000  1.0000  1.0000  1.0000\n",
       "  0.4235  0.8824  0.9922  0.9765  1.0000  1.0000  1.0000  1.0000  1.0000\n",
       "  0.1137  0.5882  1.0000  1.0000  1.0000  1.0000  1.0000  1.0000  1.0000\n",
       "  0.0000  0.2824  0.8275  1.0000  1.0000  0.9882  1.0000  1.0000  1.0000\n",
       "  0.0000  0.0941  0.5490  1.0000  1.0000  0.9490  1.0000  1.0000  1.0000\n",
       "  0.0000  0.0039  0.2549  0.8353  0.9843  0.9686  0.9961  1.0000  0.9922\n",
       "  0.0000  0.0000  0.1412  0.5294  0.9176  0.9647  1.0000  1.0000  1.0000\n",
       "  0.0000  0.0000  0.0314  0.1922  0.7686  0.9569  1.0000  1.0000  1.0000\n",
       "  0.0196  0.0157  0.0000  0.0196  0.5176  0.9294  0.9961  0.9843  0.9882\n",
       "  0.0157  0.0039  0.0000  0.0078  0.2392  0.8078  1.0000  0.9882  0.9804\n",
       "  0.0000  0.0000  0.0000  0.0392  0.0706  0.5569  0.9804  1.0000  1.0000\n",
       "  0.0000  0.0000  0.0118  0.0196  0.0745  0.2588  0.8824  0.9725  1.0000\n",
       "  0.0000  0.0000  0.0314  0.0000  0.1412  0.0588  0.7804  0.9255  1.0000\n",
       "  0.0000  0.0863  0.0275  0.0000  0.0000  0.0314  0.4039  0.9255  0.9843\n",
       "  0.0039  0.0588  0.0039  0.0039  0.0039  0.0275  0.2549  0.7569  0.9843\n",
       "  0.0471  0.0196  0.0000  0.0157  0.0196  0.0157  0.1137  0.5216  0.9569\n",
       "  0.0431  0.0000  0.0000  0.0157  0.0078  0.0078  0.0706  0.3137  0.8667\n",
       "  0.0118  0.0000  0.0039  0.0078  0.0000  0.0039  0.0471  0.1451  0.7020\n",
       "  0.0078  0.0000  0.0039  0.0078  0.0000  0.0039  0.0000  0.0431  0.4863\n",
       "  0.0431  0.0000  0.0000  0.0157  0.0000  0.0039  0.0000  0.0157  0.2706\n",
       "  0.0902  0.0000  0.0000  0.0196  0.0118  0.0039  0.0000  0.0314  0.1255\n",
       "  0.1647  0.0000  0.0000  0.0000  0.0157  0.0000  0.0000  0.0000  0.0549\n",
       "  0.3059  0.0078  0.0000  0.0000  0.0078  0.0000  0.0000  0.0000  0.0471\n",
       "  0.5020  0.0510  0.0157  0.0157  0.0000  0.0039  0.0000  0.0000  0.0392\n",
       "  0.6863  0.1137  0.0157  0.0196  0.0000  0.0235  0.0000  0.0000  0.0157\n",
       "  0.8157  0.2275  0.0196  0.0000  0.0000  0.0431  0.0000  0.0196  0.0000\n",
       "  0.8902  0.3961  0.0353  0.0000  0.0039  0.0392  0.0196  0.0353  0.0000\n",
       "  0.9373  0.5804  0.0784  0.0000  0.0196  0.0275  0.0706  0.0235  0.0000\n",
       "  0.9647  0.7059  0.1137  0.0000  0.0275  0.0078  0.1020  0.0118  0.0000\n",
       "  1.0000  0.9255  0.2706  0.0431  0.0000  0.0000  0.0000  0.0000  0.0667\n",
       "  1.0000  0.9647  0.3725  0.0431  0.0000"
      ]
     },
     "execution_count": 86,
     "metadata": {},
     "output_type": "execute_result"
    },
    {
     "data": {
      "text/plain": [
       "  0.0000  0.0000  0.0000  0.0549\n",
       "  1.0000  1.0000  0.5216  0.0471  0.0000  0.0000  0.0000  0.0000  0.0392\n",
       "  1.0000  1.0000  0.6627  0.0745  0.0078  0.0000  0.0000  0.0000  0.0314\n",
       "  1.0000  1.0000  0.7686  0.1412  0.0157  0.0000  0.0000  0.0000  0.0196\n",
       "  1.0000  1.0000  0.8431  0.2549  0.0235  0.0000  0.0000  0.0000  0.0196\n",
       "  1.0000  1.0000  0.9098  0.3922  0.0353  0.0118  0.0000  0.0000  0.0235\n",
       "  1.0000  1.0000  0.9529  0.4980  0.0510  0.0275  0.0000  0.0039  0.0235\n",
       "  0.9961  1.0000  0.9490  0.6980  0.1098  0.0078  0.0000  0.0000  0.0000\n",
       "  0.9882  0.9961  0.9647  0.7765  0.1765  0.0196  0.0000  0.0000  0.0000\n",
       "  0.9490  0.9882  0.9843  0.8784  0.2745  0.0314  0.0118  0.0078  0.0039\n",
       "  0.9294  0.9804  0.9922  0.9608  0.3843  0.0314  0.0235  0.0118  0.0039\n",
       "  0.9294  0.9765  1.0000  1.0000  0.4980  0.0471  0.0275  0.0196  0.0078\n",
       "  0.9569  0.9725  1.0000  1.0000  0.6157  0.0784  0.0314  0.0157  0.0039\n",
       "  0.9608  0.9569  1.0000  1.0000  0.7294  0.1255  0.0275  0.0118  0.0039\n",
       "  0.9569  0.9373  1.0000  1.0000  0.7961  0.1686  0.0275  0.0118  0.0000\n",
       "  0.9882  0.9882  0.9804  0.9608  0.8980  0.4000  0.0000  0.0196  0.0392\n",
       "  0.9922  0.9882  0.9804  0.9686  0.9255  0.4784  0.0000  0.0118  0.0392\n",
       "  0.9961  0.9804  0.9804  0.9725  0.9529  0.5922  0.0000  0.0118  0.0353\n",
       "  0.9961  0.9804  0.9843  0.9686  0.9647  0.6902  0.0235  0.0157  0.0314\n",
       "  0.9961  0.9843  0.9843  0.9686  0.9608  0.7686  0.0745  0.0353  0.0235\n",
       "  0.9961  0.9765  0.9843  0.9765  0.9529  0.8392  0.1451  0.0627  0.0118\n",
       "  0.9961  0.9647  0.9882  0.9843  0.9725  0.9098  0.2196  0.0902  0.0000\n",
       "  0.9961  0.9569  0.9922  0.9882  0.9843  0.9608  0.2745  0.1098  0.0000\n",
       "  0.9961  0.9961  0.9961  0.9922  0.9843  0.9804  0.4549  0.0627  0.0353\n",
       "  1.0000  0.9961  0.9961  0.9961  0.9922  0.9843  0.5412  0.0941  0.0196\n",
       "  1.0000  1.0000  0.9961  0.9961  0.9922  0.9882  0.6510  0.1294  0.0039\n",
       "  1.0000  1.0000  1.0000  1.0000  0.9961  0.9922  0.7608  0.1608  0.0000\n",
       "  1.0000  1.0000  1.0000  1.0000  1.0000  0.9961  0.8392  0.1922  0.0000\n",
       "  1.0000  1.0000  1.0000  1.0000  1.0000  0.9961  0.9020  0.2353  0.0000\n",
       "  1.0000  1.0000  1.0000  1.0000  1.0000  0.9961  0.9569  0.2863  0.0157\n",
       "  1.0000  1.0000  1.0000  1.0000  1.0000  1.0000  0.9882  0.3216  0.0431\n",
       "  1.0000  1.0000  1.0000  1.0000  1.0000  1.0000  1.0000  0.5098  0.0157\n",
       "  1.0000  1.0000  1.0000  1.0000  1.0000  1.0000  1.0000  0.5529  0.0353\n",
       "  1.0000  1.0000  1.0000  1.0000  1.0000  1.0000  1.0000  0.6196  0.0745\n",
       "  1.0000  1.0000  1.0000  1.0000  1.0000  1.0000  1.0000  0.6863  0.1137\n",
       "  1.0000  1.0000  1.0000  1.0000  1.0000  1.0000  1.0000  0.7490  0.1490\n",
       "  1.0000  1.0000  1.0000  1.0000  1.0000  1.0000  1.0000  0.8157  0.1961\n",
       "  1.0000  1.0000  1.0000  1.0000  1.0000  1.0000  1.0000  0.8784  0.2431\n",
       "  1.0000  1.0000  1.0000  1.0000  1.0000  1.0000  1.0000  0.9255  0.2863\n",
       "  1.0000  1.0000  1.0000  1.0000  1.0000  1.0000  1.0000  0.9451  0.3922\n",
       "  1.0000  1.0000  1.0000  1.0000  1.0000  1.0000  1.0000  0.9608  0.4353\n",
       "  1.0000  1.0000  1.0000  1.0000  1.0000  1.0000  1.0000  0.9725  0.5098\n",
       "  1.0000  1.0000  1.0000  1.0000  1.0000  1.0000  1.0000  0.9804  0.5843\n",
       "  1.0000  1.0000  1.0000  1.0000  1.0000  1.0000  0.9961  0.9804  0.6588\n",
       "  1.0000  1.0000  1.0000  1.0000  1.0000  1.0000  0.9922  0.9843  0.7333\n",
       "  1.0000  1.0000  1.0000  1.0000  1.0000  1.0000  0.9922  0.9882  0.7882\n",
       "  1.0000  1.0000  1.0000  1.0000  1.0000  1.0000  0.9922  0.9961  0.8275\n",
       "  1.0000  1.0000  1.0000  1.0000  1.0000  1.0000  0.9804  0.9765  0.8196\n",
       "  0.9922  1.0000  1.0000  1.0000  1.0000  1.0000  1.0000  0.9882  0.8784\n",
       "  0.9804  0.9843  0.9843  0.9882  0.9922  0.9961  1.0000  1.0000  0.8941\n",
       "  0.9843  0.9882  0.9882  0.9882  0.9882  0.9882  1.0000  1.0000  0.9529\n",
       "  1.0000  1.0000  1.0000  1.0000  0.9961  0.9843  1.0000  1.0000  0.9412\n",
       "  1.0000  1.0000  1.0000  1.0000  0.9961  0.9804  1.0000  1.0000  1.0000\n",
       "  0.9882  0.9922  1.0000  1.0000  0.9961  0.9882  0.9725  1.0000  1.0000\n",
       "  0.9804  0.9765  0.9843  0.9961  0.9961  0.9961  0.9569  0.9765  0.9255\n",
       "  0.9725  0.8980  0.8471  0.8706  0.9255  0.9608  0.9333  0.9647  0.9608\n",
       "  0.7608  0.7373  0.7412  0.7373  0.7255  0.7255"
      ]
     },
     "execution_count": 86,
     "metadata": {},
     "output_type": "execute_result"
    },
    {
     "data": {
      "text/plain": [
       "  0.8157  0.9412  0.9804\n",
       "  0.7765  0.8471  0.8824  0.8314  0.7725  0.7529  0.7098  0.8902  1.0000\n",
       "  0.8431  0.8863  0.8627  0.7922  0.7765  0.8118  0.6941  0.8431  0.9882\n",
       "  0.8745  0.8196  0.7137  0.6784  0.7412  0.8235  0.7569  0.8118  0.9412\n",
       "  0.8118  0.7569  0.7020  0.7255  0.8000  0.8510  0.8039  0.7843  0.8941\n",
       "  0.6431  0.6549  0.6784  0.7255  0.7804  0.8275  0.7882  0.7647  0.8784\n",
       "  0.6588  0.6588  0.6902  0.7255  0.8118  0.8941  0.7412  0.7529  0.8824\n",
       "  0.8392  0.9020  0.8000  0.8431  0.8235  0.8039  0.8118  0.7765  0.8627\n",
       "  0.8118  0.7529  0.6941  0.7020  0.7333  0.8471  0.8000  0.7608  0.8549\n",
       "  0.7882  0.6941  0.8000  0.7647  0.7412  0.8353  0.7882  0.7490  0.8471\n",
       "  0.8000  0.7216  0.8588  0.8118  0.7843  0.7961  0.8039  0.7569  0.8549\n",
       "  0.8392  0.7333  0.7216  0.6941  0.7882  0.7961  0.8353  0.7725  0.8706\n",
       "  0.8510  0.8078  0.7490  0.7529  0.8353  0.8157  0.8471  0.7804  0.8667\n",
       "  0.8431  0.8784  0.8667  0.8745  0.8235  0.8118  0.8314  0.7569  0.8392\n",
       "  0.8392  0.8314  0.7882  0.7608  0.6784  0.8000  0.7961  0.7216  0.8000\n",
       "  0.6980  0.6863  0.7255  0.7569  0.7255  0.6745  0.6863  0.6824  0.7333\n",
       "  0.8314  0.8235  0.8667  0.9137  0.9020  0.8667  0.8471  0.8745  0.9255\n",
       "  0.9294  0.9255  0.9686  1.0000  1.0000  0.9882  0.9765  1.0000  1.0000\n",
       "  0.9569  0.9569  0.9922  1.0000  1.0000  0.9804  0.9804  1.0000  1.0000\n",
       "  0.9882  1.0000  1.0000  1.0000  1.0000  0.9804  1.0000  1.0000  1.0000\n",
       "  0.9961  1.0000  1.0000  1.0000  1.0000  0.9843  1.0000  1.0000  0.9922\n",
       "  0.9882  1.0000  1.0000  1.0000  1.0000  0.9647  1.0000  0.9647  0.9647\n",
       "  0.9882  0.9922  1.0000  1.0000  0.9961  0.9529  1.0000  0.9922  0.9529\n",
       "  1.0000  1.0000  1.0000  1.0000  1.0000  1.0000  1.0000  0.9882  0.9961\n",
       "  1.0000  1.0000  1.0000  1.0000  1.0000  1.0000  1.0000  0.9882  0.9961\n",
       "  1.0000  1.0000  1.0000  1.0000  1.0000  1.0000  1.0000  0.9882  0.9961\n",
       "  1.0000  1.0000  1.0000  1.0000  1.0000  1.0000  1.0000  0.9922  0.9961\n",
       "  1.0000  1.0000  1.0000  1.0000  1.0000  1.0000  1.0000  0.9922  0.9961\n",
       "  1.0000  1.0000  1.0000  1.0000  1.0000  1.0000  1.0000  0.9922  0.9961\n",
       "  1.0000  1.0000  1.0000  1.0000  1.0000  1.0000  1.0000  0.9922  0.9961\n",
       "  1.0000  1.0000  1.0000  1.0000  1.0000  1.0000  1.0000  0.9922  0.9961\n",
       "  1.0000  1.0000  1.0000  1.0000  1.0000  1.0000  1.0000  0.9961  0.9961\n",
       "  1.0000  1.0000  1.0000  1.0000  1.0000  1.0000  1.0000  0.9961  0.9961\n",
       "  1.0000  1.0000  1.0000  1.0000  1.0000  1.0000  1.0000  0.9961  0.9961\n",
       "  1.0000  1.0000  1.0000  1.0000  1.0000  1.0000  1.0000  0.9961  0.9961\n",
       "  1.0000  1.0000  1.0000  1.0000  1.0000  1.0000  1.0000  0.9961  0.9961\n",
       "  1.0000  1.0000  1.0000  1.0000  1.0000  1.0000  1.0000  0.9961  0.9922\n",
       "  1.0000  1.0000  1.0000  1.0000  1.0000  1.0000  1.0000  0.9961  0.9922\n",
       "  1.0000  1.0000  1.0000  1.0000  1.0000  1.0000  1.0000  0.9961  0.9882\n",
       "\n",
       "Columns 100 to 108\n",
       "  1.0000  1.0000  1.0000  1.0000  1.0000  1.0000  1.0000  1.0000  1.0000\n",
       "  1.0000  1.0000  1.0000  1.0000  1.0000  1.0000  1.0000  1.0000  1.0000\n",
       "  1.0000  1.0000  1.0000  1.0000  1.0000  1.0000  1.0000  1.0000  1.0000\n",
       "  1.0000  1.0000  1.0000  1.0000  1.0000  1.0000  1.0000  1.0000  1.0000\n",
       "  1.0000  1.0000  1.0000  1.0000  1.0000  1.0000  1.0000  1.0000  1.0000\n",
       "  1.0000  1.0000  1.0000  1.0000  1.0000  1.0000  1.0000  1.0000  1.0000\n",
       "  1.0000  1.0000  1.0000  1.0000  1.0000  1.0000  1.0000  1.0000  1.0000\n",
       "  1.0000  1.0000  1.0000  1.0000  1.0000  1.0000  1.0000  1.0000  1.0000\n",
       "  0.9765  0.9882  1.0000  1.0000  0.9843  1.0000  1.0000  1.0000  1.0000\n",
       "  1.0000  0.9961  1.0000  1.0000  0.9922  1.0000  1.0000  1.0000  1.0000\n",
       "  1.0000  1.0000  0.9882  0.9922  1.0000  1.0000  1.0000  1.0000  1.0000\n",
       "  1.0000  1.0000  0.9882  0.9961  1.0000  1.0000  1.0000  1.0000  1.0000\n",
       "  0.9922  1.0000  0.9961  1.0000  1.0000  1.0000  1.0000  1.0000  1.0000\n",
       "  1.0000  0.9961  1.0000  1.0000  0.9961  1.0000  1.0000  1.0000  1.0000\n",
       "  1.0000  0.9843  1.0000  1.0000  0.9882  1.0000  1.0000  1.0000  1.0000\n",
       "  1.0000  0.9686  0.9922  1.0000  0.9922  1.0000  1.0000  1.0000  1.0000\n",
       "  0.9843  0.9765  0.9529  0.9137  0.9804  1.0000  1.0000  1.0000  1.0000\n",
       "  0.9961  0.9843  0.9647  0.9569  0."
      ]
     },
     "execution_count": 86,
     "metadata": {},
     "output_type": "execute_result"
    },
    {
     "data": {
      "text/plain": [
       "9765  1.0000  1.0000  1.0000  1.0000\n",
       "  1.0000  0.9725  0.9765  0.9647  0.9647  1.0000  1.0000  1.0000  1.0000\n",
       "  0.9882  0.9686  0.9843  0.9765  0.9725  1.0000  1.0000  1.0000  1.0000\n",
       "  0.9725  1.0000  0.9765  0.9922  0.9882  0.9961  1.0000  1.0000  1.0000\n",
       "  0.9216  1.0000  1.0000  0.9843  0.9922  0.9922  1.0000  1.0000  1.0000\n",
       "  0.7922  1.0000  1.0000  0.9922  0.9961  0.9843  0.9882  1.0000  1.0000\n",
       "  0.6588  1.0000  1.0000  1.0000  1.0000  0.9843  0.9843  0.9922  1.0000\n",
       "  0.4078  0.9647  1.0000  1.0000  1.0000  0.9882  0.9765  0.9843  1.0000\n",
       "  0.2745  0.8392  0.9922  1.0000  0.9961  0.9922  0.9765  0.9804  0.9961\n",
       "  0.1255  0.6392  0.9569  1.0000  0.9882  1.0000  0.9804  0.9765  0.9882\n",
       "  0.0353  0.4078  0.9255  1.0000  1.0000  1.0000  0.9843  0.9725  0.9804\n",
       "  0.0157  0.2118  0.8471  1.0000  1.0000  1.0000  0.9882  0.9686  0.9765\n",
       "  0.0157  0.0902  0.6902  0.9647  1.0000  1.0000  0.9922  0.9686  0.9686\n",
       "  0.0000  0.0392  0.4745  0.9294  1.0000  1.0000  1.0000  0.9686  0.9647\n",
       "  0.0000  0.0235  0.3216  0.9137  1.0000  1.0000  1.0000  0.9686  0.9608\n",
       "  0.0118  0.0471  0.0824  0.6941  0.9765  1.0000  1.0000  0.9882  0.9569\n",
       "  0.0157  0.0275  0.0706  0.5765  0.9647  1.0000  1.0000  0.9882  0.9608\n",
       "  0.0196  0.0000  0.0471  0.4039  0.9294  1.0000  1.0000  0.9922  0.9686\n",
       "  0.0275  0.0000  0.0392  0.2353  0.8667  1.0000  1.0000  0.9961  0.9725\n",
       "  0.0314  0.0000  0.0392  0.1216  0.7412  1.0000  1.0000  1.0000  0.9843\n",
       "  0.0235  0.0000  0.0314  0.0627  0.5725  0.9725  1.0000  1.0000  0.9922\n",
       "  0.0078  0.0039  0.0157  0.0431  0.3804  0.9333  0.9843  1.0000  1.0000\n",
       "  0.0000  0.0078  0.0000  0.0275  0.2510  0.8941  0.9686  1.0000  1.0000\n",
       "  0.0000  0.0000  0.0118  0.0471  0.1098  0.7098  0.9882  1.0000  0.9922\n",
       "  0.0000  0.0000  0.0000  0.0196  0.0784  0.5725  0.9765  1.0000  1.0000\n",
       "  0.0039  0.0000  0.0000  0.0000  0.0431  0.3922  0.9647  1.0000  1.0000\n",
       "  0.0000  0.0000  0.0000  0.0000  0.0157  0.2353  0.9255  1.0000  1.0000\n",
       "  0.0078  0.0039  0.0000  0.0000  0.0000  0.1451  0.8353  1.0000  1.0000\n",
       "  0.0078  0.0039  0.0000  0.0000  0.0000  0.1020  0.6902  1.0000  1.0000\n",
       "  0.0078  0.0078  0.0000  0.0000  0.0000  0.0784  0.5255  1.0000  1.0000\n",
       "  0.0078  0.0118  0.0000  0.0000  0.0000  0.0627  0.4118  1.0000  1.0000\n",
       "  0.0000  0.0000  0.0000  0.0157  0.0000  0.0196  0.2000  0.8471  1.0000\n",
       "  0.0039  0.0000  0.0000  0.0157  0.0000  0.0078  0.1490  0.7804  1.0000\n",
       "  0.0039  0.0000  0.0000  0.0157  0.0039  0.0039  0.0824  0.6745  1.0000\n",
       "  0.0078  0.0000  0.0000  0.0118  0.0118  0.0118  0.0392  0.5569  1.0000\n",
       "  0.0000  0.0000  0.0000  0.0157  0.0118  0.0235  0.0275  0.4314  0.9569\n",
       "  0.0000  0.0000  0.0000  0.0157  0.0039  0.0157  0.0392  0.3098  0.8824\n",
       "  0.0000  0.0000  0.0000  0.0196  0.0000  0.0000  0.0510  0.2039  0.7922\n",
       "  0.0000  0.0000  0.0078  0.0235  0.0000  0.0000  0.0510  0.1294  0.7255\n",
       "  0.0000  0.0000  0.0039  0.0314  0.0078  0.0000  0.0118  0.0980  0.5725\n",
       "  0.0000  0.0000  0.0078  0.0275  0.0118  0.0000  0.0078  0.0627  0.4784\n",
       "  0.0000  0.0078  0.0157  0.0235  0.0157  0.0000  0.0000  0.0353  0.3490\n",
       "  0.0000  0.0235  0.0196  0.0196  0.0235  0.0000  0.0000  0.0196  0.2392\n",
       "  0.0000  0.0235  0.0275  0.0196  0.0235  0.0000  0.0000  0.0078  0.1647\n",
       "  0.0000  0.0157  0.0353  0.0314  0.0235  0.0000  0.0000  0.0000  0.1216\n",
       "  0.0000  0.0157  0.0471  0.0353  0.0039  0.0000  0.0000  0.0000  0.0980\n",
       "  0.0000  0.0118  0.0510  0.0353  0.0000  0.0000  0.0000  0.0000  0.0824\n",
       "  0.0000  0.0118  0.0157  0.0000  0.0196  0.0314  0.0000  0.0078  0.0039\n",
       "  0.0000  0.0118  0.0118  0.0000  0.0196  0.0196  0.0000  0.0000  0.0000\n",
       "  0.0000  0.0078  0.0078  0.0000  0.0196  0.0118  0.0118  0.0000  0.0000\n",
       "  0.0000  0.0000  0.0000  0.0000  0.0196  0.0039  0.0353  0.0000  0.0000\n",
       "  0.0000  0.0000  0.0000  0.0000  0.0196  0.0078  0.0392  0.0000  0.0078\n",
       "  0.0039  0.0000  0.0000  0.0078  0.0118  0.0157  0.0275  0.0000  0.0039\n",
       "  0.0275  0.0000  0.0000  0.0118  0.0000  0.0235  0.0000  0.0000  0.0000\n",
       "  0.0431  0.0000  0.0000  0.0118  0.0000  0.0196  0.0000  0.0000  0.0000\n",
       "  0.0118  0.0039  0.0000  0.0000  0.0235  0.0157  0.0000  0.0000  0.0000\n",
       "  0.0314  0.0078  0.0000  0.0000  0.0275  0."
      ]
     },
     "execution_count": 86,
     "metadata": {},
     "output_type": "execute_result"
    },
    {
     "data": {
      "text/plain": [
       "0078  0.0000  0.0000  0.0000\n",
       "  0.0627  0.0118  0.0000  0.0000  0.0314  0.0039  0.0000  0.0000  0.0000\n",
       "  0.0941  0.0078  0.0000  0.0000  0.0235  0.0000  0.0000  0.0000  0.0000\n",
       "  0.1137  0.0000  0.0000  0.0000  0.0157  0.0000  0.0000  0.0000  0.0039\n",
       "  0.1373  0.0000  0.0000  0.0000  0.0118  0.0000  0.0000  0.0000  0.0118\n",
       "  0.1608  0.0000  0.0000  0.0078  0.0078  0.0000  0.0000  0.0000  0.0078\n",
       "  0.1804  0.0000  0.0000  0.0157  0.0118  0.0000  0.0000  0.0000  0.0039\n",
       "  0.2039  0.0824  0.0353  0.0471  0.0667  0.0000  0.0000  0.0000  0.0431\n",
       "  0.2627  0.0784  0.0235  0.0235  0.0157  0.0000  0.0000  0.0000  0.0039\n",
       "  0.2824  0.0157  0.0000  0.0000  0.0000  0.0000  0.0000  0.0000  0.0000\n",
       "  0.3608  0.0157  0.0000  0.0039  0.0000  0.0275  0.0000  0.0353  0.0000\n",
       "  0.4314  0.1020  0.0667  0.0706  0.0745  0.1020  0.0667  0.1137  0.0353\n",
       "  0.7490  0.5608  0.5804  0.5686  0.6353  0.6431  0.6196  0.6353  0.5451\n",
       "  0.8353  0.7804  0.8471  0.8314  0.9608  1.0000  1.0000  0.9882  0.9294\n",
       "  0.7412  0.7137  0.7686  0.7176  0.8745  1.0000  1.0000  0.9961  0.9882\n",
       "  0.7176  0.7922  0.8118  0.7647  0.8745  0.9961  0.9882  1.0000  0.9529\n",
       "  0.7294  0.7843  0.8118  0.7608  0.8275  0.9922  0.9137  0.8392  0.6980\n",
       "  0.7569  0.7882  0.8157  0.7647  0.8039  0.9647  0.8353  0.8039  0.7804\n",
       "  0.7961  0.8078  0.8157  0.7647  0.8275  0.9294  0.7804  0.7569  0.8275\n",
       "  0.8118  0.8275  0.8000  0.7608  0.8471  0.8784  0.7882  0.7804  0.8510\n",
       "  0.8000  0.8196  0.7765  0.7412  0.8275  0.7686  0.8118  0.8706  0.9098\n",
       "  0.7765  0.7843  0.7569  0.7137  0.7608  0.7412  0.8078  0.8157  0.8039\n",
       "  0.7529  0.7451  0.7412  0.6902  0.6980  0.7294  0.8039  0.8000  0.8275\n",
       "  0.7333  0.7608  0.7843  0.7373  0.7333  0.7725  0.8078  0.8000  0.8235\n",
       "  0.7255  0.7529  0.7686  0.7216  0.7216  0.7765  0.8078  0.7765  0.7882\n",
       "  0.7294  0.7569  0.7647  0.7098  0.7176  0.7451  0.8078  0.7686  0.7569\n",
       "  0.7529  0.7882  0.7882  0.7333  0.7412  0.7255  0.8118  0.7961  0.7647\n",
       "  0.7804  0.8157  0.8235  0.7765  0.7882  0.7451  0.8275  0.8471  0.8000\n",
       "  0.7804  0.8275  0.8431  0.8078  0.8314  0.7843  0.8000  0.8627  0.8471\n",
       "  0.7490  0.8039  0.8353  0.8157  0.8431  0.8549  0.7451  0.8157  0.8549\n",
       "  0.7137  0.7686  0.8000  0.7922  0.8314  0.9294  0.7137  0.7608  0.8392\n",
       "  0.7098  0.6980  0.7294  0.7059  0.8314  0.9569  0.8314  0.7373  0.7608\n",
       "  0.8706  0.8745  0.9216  0.8902  0.9529  0.9804  0.9294  0.8549  0.7961\n",
       "  0.9451  0.9608  0.9804  0.9608  0.9647  0.9647  0.9647  0.9725  1.0000\n",
       "  0.9647  0.9765  0.9373  0.9294  0.9451  0.9412  0.8980  0.8863  0.9216\n",
       "  0.9686  0.9059  0.6157  0.5451  0.5647  0.5804  0.5647  0.5451  0.5373\n",
       "  0.9569  0.7922  0.2667  0.1020  0.0902  0.0196  0.0353  0.0549  0.0588\n",
       "  0.9294  0.7961  0.2235  0.0706  0.0392  0.0431  0.0000  0.0000  0.0000\n",
       "  0.9137  0.7725  0.2039  0.0745  0.0235  0.0000  0.0000  0.0000  0.0000\n",
       "  0.9922  0.8471  0.1922  0.0000  0.0000  0.0118  0.0353  0.0118  0.0000\n",
       "  0.9922  0.8471  0.1922  0.0000  0.0000  0.0118  0.0353  0.0118  0.0000\n",
       "  0.9922  0.8510  0.1961  0.0000  0.0000  0.0118  0.0353  0.0118  0.0000\n",
       "  0.9922  0.8510  0.2000  0.0000  0.0000  0.0118  0.0353  0.0118  0.0000\n",
       "  0.9922  0.8549  0.2078  0.0039  0.0000  0.0118  0.0353  0.0118  0.0000\n",
       "  0.9922  0.8588  0.2118  0.0039  0.0000  0.0118  0.0353  0.0118  0.0000\n",
       "  0.9922  0.8627  0.2157  0.0078  0.0000  0.0118  0.0353  0.0118  0.0000\n",
       "  0.9922  0.8627  0.2157  0.0078  0.0000  0.0118  0.0353  0.0118  0.0000\n",
       "  0.9804  0.8706  0.2235  0.0000  0.0000  0.0118  0.0353  0.0118  0.0000\n",
       "  0.9804  0.8745  0.2275  0.0000  0.0000  0.0118  0.0353  0.0118  0.0000\n",
       "  0.9843  0.8784  0.2314  0.0000  0.0000  0.0118  0.0353  0.0118  0.0000\n",
       "  0.9843  0.8863  0.2392  0.0039  0.0000  0.0118  0.0353  0.0118  0.0000\n",
       "  0.9882  0.8902  0.2471  0.0078  0.0000  0.0118  0.0353  0.0118  0.0000\n",
       "  0.9882  0.8980  0.2549  0.0078  0.0000  0.0118  0.0353  0.0118  0.0000\n",
       "  0.9882  0.9020  0.2588  0.0118  0.0000  0.0118  0.0353  0.0118  0.0000\n",
       "  0.9882  0.9059  0.2627  0.0118  0.0000  0.0118  0.0353  0.0118  0.0000\n",
       "\n",
       "Columns 109 to 117\n",
       "  1.0000  1.0000  1.0000  1.0000  1.0000  1.0000  1.0000  1.0000  1.0000\n",
       "  1.0000  1.0000  1.0000  1.0000"
      ]
     },
     "execution_count": 86,
     "metadata": {},
     "output_type": "execute_result"
    },
    {
     "data": {
      "text/plain": [
       "  1.0000  1.0000  1.0000  1.0000  1.0000\n",
       "  1.0000  1.0000  1.0000  1.0000  1.0000  1.0000  1.0000  1.0000  1.0000\n",
       "  1.0000  1.0000  1.0000  1.0000  1.0000  1.0000  1.0000  1.0000  1.0000\n",
       "  1.0000  1.0000  1.0000  1.0000  1.0000  1.0000  1.0000  1.0000  1.0000\n",
       "  1.0000  1.0000  1.0000  1.0000  1.0000  1.0000  1.0000  1.0000  1.0000\n",
       "  1.0000  1.0000  1.0000  1.0000  1.0000  1.0000  1.0000  1.0000  1.0000\n",
       "  1.0000  1.0000  1.0000  1.0000  1.0000  1.0000  1.0000  1.0000  1.0000\n",
       "  1.0000  1.0000  1.0000  1.0000  1.0000  1.0000  1.0000  1.0000  1.0000\n",
       "  1.0000  1.0000  1.0000  1.0000  1.0000  1.0000  1.0000  1.0000  1.0000\n",
       "  1.0000  1.0000  1.0000  1.0000  1.0000  1.0000  1.0000  1.0000  1.0000\n",
       "  1.0000  1.0000  1.0000  1.0000  1.0000  1.0000  1.0000  1.0000  1.0000\n",
       "  1.0000  1.0000  1.0000  1.0000  1.0000  1.0000  1.0000  1.0000  1.0000\n",
       "  1.0000  1.0000  1.0000  1.0000  1.0000  1.0000  1.0000  1.0000  1.0000\n",
       "  1.0000  1.0000  1.0000  1.0000  1.0000  1.0000  1.0000  1.0000  1.0000\n",
       "  1.0000  1.0000  1.0000  1.0000  1.0000  1.0000  1.0000  1.0000  1.0000\n",
       "  0.9765  0.9765  1.0000  1.0000  1.0000  1.0000  1.0000  1.0000  1.0000\n",
       "  0.9804  0.9804  1.0000  1.0000  1.0000  1.0000  1.0000  1.0000  1.0000\n",
       "  0.9843  0.9843  1.0000  1.0000  1.0000  1.0000  1.0000  1.0000  1.0000\n",
       "  0.9882  0.9922  1.0000  1.0000  1.0000  1.0000  1.0000  1.0000  1.0000\n",
       "  0.9961  0.9961  1.0000  1.0000  1.0000  1.0000  1.0000  1.0000  1.0000\n",
       "  1.0000  1.0000  1.0000  1.0000  1.0000  1.0000  1.0000  1.0000  1.0000\n",
       "  1.0000  1.0000  1.0000  1.0000  1.0000  1.0000  1.0000  1.0000  1.0000\n",
       "  1.0000  1.0000  1.0000  1.0000  1.0000  1.0000  1.0000  1.0000  1.0000\n",
       "  1.0000  1.0000  1.0000  1.0000  1.0000  1.0000  1.0000  1.0000  1.0000\n",
       "  1.0000  1.0000  1.0000  1.0000  1.0000  1.0000  1.0000  1.0000  1.0000\n",
       "  1.0000  1.0000  1.0000  1.0000  1.0000  1.0000  1.0000  1.0000  1.0000\n",
       "  1.0000  1.0000  1.0000  1.0000  1.0000  1.0000  1.0000  1.0000  1.0000\n",
       "  0.9922  1.0000  1.0000  1.0000  1.0000  1.0000  1.0000  1.0000  1.0000\n",
       "  0.9882  1.0000  1.0000  1.0000  1.0000  1.0000  1.0000  1.0000  1.0000\n",
       "  0.9804  1.0000  1.0000  1.0000  1.0000  1.0000  1.0000  1.0000  1.0000\n",
       "  0.9804  1.0000  1.0000  1.0000  1.0000  1.0000  1.0000  1.0000  1.0000\n",
       "  0.9647  0.9882  0.9961  0.9882  1.0000  1.0000  1.0000  1.0000  1.0000\n",
       "  0.9686  0.9843  0.9961  0.9922  1.0000  1.0000  1.0000  1.0000  1.0000\n",
       "  0.9686  0.9843  1.0000  0.9961  1.0000  1.0000  1.0000  1.0000  1.0000\n",
       "  0.9725  0.9843  1.0000  1.0000  1.0000  1.0000  1.0000  1.0000  1.0000\n",
       "  0.9804  0.9882  1.0000  1.0000  1.0000  1.0000  1.0000  1.0000  1.0000\n",
       "  0.9843  0.9922  1.0000  1.0000  1.0000  1.0000  1.0000  1.0000  1.0000\n",
       "  0.9961  0.9922  1.0000  1.0000  1.0000  1.0000  1.0000  1.0000  1.0000\n",
       "  0.9961  0.9922  0.9961  1.0000  1.0000  1.0000  1.0000  1.0000  1.0000\n",
       "  1.0000  0.9843  0.9843  1.0000  1.0000  1.0000  1.0000  1.0000  1.0000\n",
       "  1.0000  0.9922  0.9843  1.0000  1.0000  1.0000  1.0000  1.0000  1.0000\n",
       "  1.0000  0.9843  0.9882  1.0000  1.0000  1.0000  1.0000  1.0000  1.0000\n",
       "  1.0000  0.9804  0.9882  0.9961  1.0000  1.0000  1.0000  1.0000  1.0000\n",
       "  0.9961  0.9725  0.9843  1.0000  1.0000  1.0000  1.0000  1.0000  1.0000\n",
       "  1.0000  0.9647  0.9765  1.0000  1.0000  1.0000  1.0000  1.0000  1.0000\n",
       "  1.0000  0.9569  0.9765  1.0000  1.0000  1.0000  1.0000  1.0000  1.0000\n",
       "  1.0000  0.9529  0.9725  1.0000  1.0000  1.0000  1.0000  1.0000  1.0000\n",
       "  1.0000  0.9882  0.9725  1.0000  1.0000  1.0000  1.0000  1.0000  1.0000\n",
       "  1.0000  0.9882  0.9804  1.0000  1.0000  1.0000  1.0000  1.0000  1.0000\n",
       "  1.0000  0.9843  0.9843  0.9961  1.0000  1.0000  1.0000  1.0000  1.0000\n",
       "  1.0000  0.9725  0.9882  0.9882  1.0000  1.0000  1.0000  1.0000  1.0000\n",
       "  1.0000  0.9725  0.9922  0.9843  1.0000  1.0000  1.0000  1.0000  1.0000\n",
       "  1.0000  0.9765  0.9961  0.9882  1.0000  1.0000  1.0000  1.0000  1.0000\n",
       "  1.0000  0.9882  1.0000  0.9961  1.0000  1.0000  1.0000  1.0000  1.0000\n",
       "  0.9922  1.0000  1.0000  0.9961  1.0000  1.0000  1.0000  1.0000  1.0000\n",
       "  0.9843  1.0000  1.0000  0.9843  1.0000  1.0000  1.0000  1.0000  1.0000\n",
       "  0.9725  1.0000  1.0000  0.9882  1.0000"
      ]
     },
     "execution_count": 86,
     "metadata": {},
     "output_type": "execute_result"
    },
    {
     "data": {
      "text/plain": [
       "  1.0000  1.0000  1.0000  1.0000\n",
       "  0.9451  1.0000  1.0000  0.9843  1.0000  1.0000  1.0000  1.0000  1.0000\n",
       "  0.9137  1.0000  1.0000  0.9843  1.0000  1.0000  1.0000  1.0000  1.0000\n",
       "  0.8471  1.0000  1.0000  0.9804  1.0000  1.0000  1.0000  1.0000  1.0000\n",
       "  0.7529  1.0000  1.0000  0.9804  1.0000  1.0000  1.0000  1.0000  1.0000\n",
       "  0.6392  1.0000  1.0000  0.9804  1.0000  1.0000  1.0000  1.0000  1.0000\n",
       "  0.5647  1.0000  1.0000  0.9765  1.0000  1.0000  1.0000  1.0000  1.0000\n",
       "  0.3961  0.9451  1.0000  1.0000  1.0000  1.0000  1.0000  1.0000  1.0000\n",
       "  0.3451  0.9294  1.0000  1.0000  1.0000  1.0000  1.0000  1.0000  1.0000\n",
       "  0.2667  0.8902  1.0000  1.0000  1.0000  1.0000  1.0000  1.0000  1.0000\n",
       "  0.1882  0.8353  1.0000  1.0000  1.0000  1.0000  1.0000  1.0000  1.0000\n",
       "  0.1333  0.7569  1.0000  1.0000  1.0000  1.0000  1.0000  1.0000  1.0000\n",
       "  0.1059  0.6588  0.9922  1.0000  1.0000  1.0000  1.0000  1.0000  1.0000\n",
       "  0.0902  0.5647  0.9725  1.0000  1.0000  1.0000  1.0000  1.0000  1.0000\n",
       "  0.0824  0.4941  0.9490  1.0000  1.0000  1.0000  1.0000  1.0000  1.0000\n",
       "  0.0706  0.3686  0.9294  1.0000  1.0000  1.0000  1.0000  1.0000  1.0000\n",
       "  0.0392  0.3176  0.8941  1.0000  1.0000  1.0000  1.0000  1.0000  1.0000\n",
       "  0.0196  0.2471  0.8353  1.0000  1.0000  1.0000  1.0000  1.0000  1.0000\n",
       "  0.0000  0.1765  0.7725  1.0000  1.0000  1.0000  1.0000  1.0000  1.0000\n",
       "  0.0000  0.1176  0.7137  1.0000  1.0000  1.0000  1.0000  1.0000  1.0000\n",
       "  0.0000  0.0667  0.6549  1.0000  1.0000  1.0000  1.0000  1.0000  1.0000\n",
       "  0.0000  0.0314  0.6000  1.0000  1.0000  1.0000  1.0000  1.0000  1.0000\n",
       "  0.0000  0.0118  0.5647  1.0000  1.0000  1.0000  1.0000  1.0000  1.0000\n",
       "  0.0627  0.0941  0.4745  0.9451  0.9882  1.0000  1.0000  0.9922  0.9647\n",
       "  0.0314  0.0588  0.3843  0.9059  1.0000  1.0000  1.0000  0.9961  0.9882\n",
       "  0.0078  0.0353  0.2902  0.8863  1.0000  1.0000  0.9961  0.9922  1.0000\n",
       "  0.0196  0.0549  0.2588  0.8824  1.0000  1.0000  0.9725  0.9765  1.0000\n",
       "  0.0392  0.0824  0.2431  0.7647  1.0000  0.9961  0.9608  0.9608  0.9922\n",
       "  0.5255  0.5608  0.6549  0.9333  1.0000  0.9686  0.9373  0.9373  0.9647\n",
       "  0.9020  0.9333  0.9451  0.9333  0.8706  0.8471  0.8314  0.8353  0.8667\n",
       "  0.9725  0.9843  0.9569  0.7373  0.7255  0.7020  0.6863  0.7059  0.7451\n",
       "  0.9725  0.9529  0.9490  0.8078  0.7922  0.8235  0.7647  0.6863  0.7922\n",
       "  0.6980  0.7255  0.8235  0.7961  0.8784  0.8353  0.7294  0.6706  0.8275\n",
       "  0.7961  0.7529  0.7451  0.6824  0.8196  0.7882  0.7020  0.6549  0.7961\n",
       "  0.8667  0.8196  0.7608  0.6941  0.8118  0.8275  0.7765  0.7020  0.7569\n",
       "  0.8275  0.7961  0.7804  0.7765  0.7686  0.7804  0.7255  0.6353  0.6588\n",
       "  0.7882  0.7608  0.7569  0.7882  0.8353  0.8275  0.7922  0.7843  0.8667\n",
       "  0.6824  0.7451  0.7686  0.7843  0.8196  0.7961  0.7882  0.8314  0.9490\n",
       "  0.7686  0.8824  0.8353  0.7529  0.8706  0.8275  0.7765  0.7961  0.9098\n",
       "  0.7686  1.0000  0.9490  0.7216  0.7529  0.7451  0.7294  0.8353  1.0000\n",
       "  0.7569  1.0000  0.8863  0.6980  0.8196  0.7882  0.7451  0.8235  0.9922\n",
       "  0.7569  0.9725  0.8471  0.7333  0.8353  0.8078  0.7686  0.8627  0.9961\n",
       "  0.7412  0.8706  0.7765  0.7608  0.8588  0.8275  0.7804  0.8549  0.9608\n",
       "  0.7294  0.7647  0.7020  0.7569  0.8471  0.8314  0.7686  0.8392  0.9490\n",
       "  0.7843  0.7765  0.7412  0.7843  0.8235  0.8196  0.7529  0.8353  0.9882\n",
       "  0.8471  0.8392  0.7922  0.7569  0.8314  0.8471  0.7725  0.8314  1.0000\n",
       "  0.8549  0.8392  0.7490  0.6353  0.7765  0.8314  0.7882  0.8863  1.0000\n",
       "  0.8353  0.8196  0.6980  0.5686  0.6824  0.7333  0.7490  0.8824  1.0000\n",
       "  0.7725  0.8000  0.8667  0.9216  0.8157  0.8549  0.8627  0.9725  1.0000\n",
       "  1.0000  1.0000  1.0000  0.9882  0.9176  0.9373  0.9294  1.0000  1.0000\n",
       "  0.9843  1.0000  0.9686  0.9098  0.8667  0.9412  0.9333  0.9686  1.0000\n",
       "  0.5451  0.5686  0.5961  0.6196  0.5961  0.8706  0.9569  0.9608  0.9804\n",
       "  0.0471  0.0471  0.0627  0.0863  0.2745  0.7725  0.9882  0.9765  0.9686\n",
       "  0.0000  0.0039  0.0392  0.0549  0.1216  0.7020  0.9843  0.9804  0.9804\n",
       "  0.0000  0.0000  0.0000  0.0000  0.1412  0.6941  0.9608  0.9765  0.9961\n",
       "  0.0000  0.0157  0.0078  0.0000  0.0431  0.6863  1.0000  1.0000  1.0000\n",
       "  0.0000  0.0157  0.0078  0.0000  0.0431  0.6706"
      ]
     },
     "execution_count": 86,
     "metadata": {},
     "output_type": "execute_result"
    },
    {
     "data": {
      "text/plain": [
       "  1.0000  1.0000  1.0000\n",
       "  0.0000  0.0157  0.0078  0.0000  0.0392  0.6431  1.0000  1.0000  1.0000\n",
       "  0.0000  0.0157  0.0078  0.0000  0.0353  0.6078  1.0000  1.0000  1.0000\n",
       "  0.0000  0.0157  0.0078  0.0000  0.0275  0.5647  1.0000  1.0000  0.9961\n",
       "  0.0000  0.0157  0.0078  0.0000  0.0275  0.5255  0.9961  1.0000  0.9882\n",
       "  0.0000  0.0157  0.0078  0.0000  0.0196  0.4980  0.9922  1.0000  0.9765\n",
       "  0.0000  0.0157  0.0078  0.0000  0.0118  0.4745  0.9922  1.0000  0.9725\n",
       "  0.0000  0.0157  0.0078  0.0000  0.0078  0.4118  0.9922  1.0000  0.9765\n",
       "  0.0000  0.0157  0.0078  0.0000  0.0000  0.4078  0.9843  1.0000  0.9765\n",
       "  0.0000  0.0157  0.0078  0.0000  0.0000  0.3882  0.9725  1.0000  0.9765\n",
       "  0.0000  0.0157  0.0078  0.0000  0.0000  0.3765  0.9608  1.0000  0.9843\n",
       "  0.0000  0.0157  0.0078  0.0000  0.0000  0.3608  0.9451  1.0000  0.9882\n",
       "  0.0000  0.0157  0.0078  0.0000  0.0000  0.3490  0.9294  1.0000  0.9961\n",
       "  0.0000  0.0157  0.0078  0.0000  0.0000  0.3373  0.9216  1.0000  0.9961\n",
       "  0.0000  0.0157  0.0078  0.0000  0.0000  0.3333  0.9176  1.0000  0.9961\n",
       "\n",
       "Columns 118 to 126\n",
       "  1.0000  1.0000  1.0000  1.0000  1.0000  1.0000  1.0000  1.0000  1.0000\n",
       "  1.0000  1.0000  1.0000  1.0000  1.0000  1.0000  1.0000  1.0000  1.0000\n",
       "  1.0000  1.0000  1.0000  1.0000  1.0000  1.0000  1.0000  1.0000  1.0000\n",
       "  1.0000  1.0000  1.0000  1.0000  1.0000  1.0000  1.0000  1.0000  1.0000\n",
       "  1.0000  1.0000  1.0000  1.0000  1.0000  1.0000  1.0000  1.0000  1.0000\n",
       "  1.0000  1.0000  1.0000  1.0000  1.0000  1.0000  1.0000  1.0000  1.0000\n",
       "  1.0000  1.0000  1.0000  1.0000  1.0000  1.0000  1.0000  1.0000  1.0000\n",
       "  1.0000  1.0000  1.0000  1.0000  1.0000  1.0000  1.0000  1.0000  1.0000\n",
       "  1.0000  1.0000  1.0000  1.0000  1.0000  1.0000  1.0000  1.0000  1.0000\n",
       "  1.0000  1.0000  1.0000  1.0000  1.0000  1.0000  1.0000  1.0000  1.0000\n",
       "  1.0000  1.0000  1.0000  1.0000  1.0000  1.0000  1.0000  1.0000  1.0000\n",
       "  1.0000  1.0000  1.0000  1.0000  1.0000  1.0000  1.0000  1.0000  1.0000\n",
       "  1.0000  1.0000  1.0000  1.0000  1.0000  1.0000  1.0000  1.0000  1.0000\n",
       "  1.0000  1.0000  1.0000  1.0000  1.0000  1.0000  1.0000  1.0000  1.0000\n",
       "  1.0000  1.0000  1.0000  1.0000  1.0000  1.0000  1.0000  1.0000  1.0000\n",
       "  1.0000  1.0000  1.0000  1.0000  1.0000  1.0000  1.0000  1.0000  1.0000\n",
       "  1.0000  1.0000  1.0000  1.0000  1.0000  1.0000  1.0000  1.0000  1.0000\n",
       "  1.0000  1.0000  1.0000  1.0000  1.0000  1.0000  1.0000  1.0000  1.0000\n",
       "  1.0000  1.0000  1.0000  1.0000  1.0000  1.0000  1.0000  1.0000  1.0000\n",
       "  1.0000  1.0000  1.0000  1.0000  1.0000  1.0000  1.0000  1.0000  1.0000\n",
       "  1.0000  1.0000  1.0000  1.0000  1.0000  1.0000  1.0000  1.0000  1.0000\n",
       "  1.0000  1.0000  1.0000  1.0000  1.0000  1.0000  1.0000  1.0000  1.0000\n",
       "  1.0000  1.0000  1.0000  1.0000  1.0000  1.0000  1.0000  1.0000  1.0000\n",
       "  1.0000  1.0000  1.0000  1.0000  1.0000  1.0000  1.0000  1.0000  1.0000\n",
       "  1.0000  1.0000  1.0000  1.0000  1.0000  1.0000  1.0000  1.0000  1.0000\n",
       "  1.0000  1.0000  1.0000  1.0000  1.0000  1.0000  1.0000  1.0000  1.0000\n",
       "  1.0000  1.0000  1.0000  1.0000  1.0000  1.0000  1.0000  1.0000  1.0000\n",
       "  1.0000  1.0000  1.0000  1.0000  1.0000  1.0000  1.0000  1.0000  1.0000\n",
       "  1.0000  1.0000  1.0000  1.0000  1.0000  1.0000  1.0000  1.0000  1.0000\n",
       "  1.0000  1.0000  1.0000  1.0000  1.0000  1.0000  1.0000  1.0000  1.0000\n",
       "  1.0000  1.0000  1.0000  1.0000  1.0000  1.0000  1.0000  1.0000  1.0000\n",
       "  1.0000  1.0000  1.0000  1.0000  1.0000  1.0000  1.0000  1.0000  1.0000\n",
       "  1.0000  1.0000  1.0000  1.0000  1.0000  1.0000  1.0000  1.0000  1.0000\n",
       "  1.0000  1.0000  1.0000  1.0000  1.0000  1.0000  1.0000  1.0000  1.0000\n",
       "  1.0000  1.0000  1.0000  1.0000  1.0000  1.0000  1.0000  1.0000  1.0000\n",
       "  1.0000  1.0000  1.0000  1.0000  1.0000  1.0000  1.0000  1.0000  1.0000\n",
       "  1.0000  1.0000  1.0000  1.0000  1.0000  1.0000  1.0000  1.0000  1.0000\n",
       "  1.0000  1.0000  1.0000  1.0000  1.0000  1.0000  1.0000  1.0000  1.0000\n",
       "  1.0000  1.0000  1.0000  1.0000  1.0000  1.0000  1.0000  1.0000  1.0000\n",
       "  1.0000  1.0000  1.0000  1.0000  1.0000  1.0000  1.0000  1.0000  1.0000\n",
       "  1.0000  1.0000  1.0000  1.0000  1.0000  1.0000  1.0000  1.0000  1.0000\n",
       "  1.0000  1.0000  1.0000  1.0000  1."
      ]
     },
     "execution_count": 86,
     "metadata": {},
     "output_type": "execute_result"
    },
    {
     "data": {
      "text/plain": [
       "0000  1.0000  1.0000  1.0000  1.0000\n",
       "  1.0000  1.0000  1.0000  1.0000  1.0000  1.0000  1.0000  1.0000  1.0000\n",
       "  1.0000  1.0000  1.0000  1.0000  1.0000  1.0000  1.0000  1.0000  1.0000\n",
       "  1.0000  1.0000  1.0000  1.0000  1.0000  1.0000  1.0000  1.0000  1.0000\n",
       "  1.0000  1.0000  1.0000  1.0000  1.0000  1.0000  1.0000  1.0000  1.0000\n",
       "  1.0000  1.0000  1.0000  1.0000  1.0000  1.0000  1.0000  1.0000  1.0000\n",
       "  1.0000  1.0000  1.0000  1.0000  1.0000  1.0000  1.0000  1.0000  1.0000\n",
       "  1.0000  1.0000  1.0000  1.0000  1.0000  1.0000  1.0000  1.0000  1.0000\n",
       "  1.0000  1.0000  1.0000  1.0000  1.0000  1.0000  1.0000  1.0000  1.0000\n",
       "  1.0000  1.0000  1.0000  1.0000  1.0000  1.0000  1.0000  1.0000  1.0000\n",
       "  1.0000  1.0000  1.0000  1.0000  1.0000  1.0000  1.0000  1.0000  1.0000\n",
       "  1.0000  1.0000  1.0000  1.0000  1.0000  1.0000  1.0000  1.0000  1.0000\n",
       "  1.0000  1.0000  1.0000  1.0000  1.0000  1.0000  1.0000  1.0000  1.0000\n",
       "  1.0000  1.0000  1.0000  1.0000  1.0000  1.0000  1.0000  1.0000  1.0000\n",
       "  1.0000  1.0000  1.0000  1.0000  1.0000  1.0000  1.0000  1.0000  1.0000\n",
       "  1.0000  1.0000  1.0000  1.0000  1.0000  1.0000  1.0000  1.0000  1.0000\n",
       "  1.0000  1.0000  1.0000  1.0000  1.0000  1.0000  1.0000  1.0000  1.0000\n",
       "  1.0000  1.0000  1.0000  1.0000  1.0000  1.0000  1.0000  1.0000  1.0000\n",
       "  1.0000  1.0000  1.0000  1.0000  1.0000  1.0000  1.0000  1.0000  1.0000\n",
       "  1.0000  1.0000  1.0000  1.0000  1.0000  1.0000  1.0000  1.0000  1.0000\n",
       "  1.0000  1.0000  1.0000  1.0000  1.0000  1.0000  1.0000  1.0000  1.0000\n",
       "  1.0000  1.0000  1.0000  1.0000  1.0000  1.0000  1.0000  1.0000  1.0000\n",
       "  1.0000  1.0000  1.0000  1.0000  1.0000  1.0000  1.0000  1.0000  1.0000\n",
       "  1.0000  1.0000  1.0000  1.0000  1.0000  1.0000  1.0000  1.0000  1.0000\n",
       "  1.0000  1.0000  1.0000  1.0000  1.0000  1.0000  1.0000  1.0000  1.0000\n",
       "  1.0000  1.0000  1.0000  1.0000  1.0000  1.0000  1.0000  1.0000  1.0000\n",
       "  1.0000  1.0000  1.0000  1.0000  1.0000  1.0000  1.0000  1.0000  1.0000\n",
       "  1.0000  1.0000  1.0000  1.0000  1.0000  1.0000  1.0000  1.0000  1.0000\n",
       "  1.0000  1.0000  1.0000  1.0000  1.0000  1.0000  1.0000  1.0000  1.0000\n",
       "  1.0000  1.0000  1.0000  1.0000  1.0000  1.0000  1.0000  1.0000  1.0000\n",
       "  1.0000  1.0000  1.0000  1.0000  1.0000  1.0000  1.0000  1.0000  1.0000\n",
       "  1.0000  1.0000  1.0000  1.0000  1.0000  1.0000  1.0000  1.0000  1.0000\n",
       "  1.0000  1.0000  1.0000  1.0000  1.0000  1.0000  1.0000  1.0000  1.0000\n",
       "  1.0000  1.0000  1.0000  1.0000  1.0000  1.0000  1.0000  1.0000  1.0000\n",
       "  1.0000  1.0000  1.0000  1.0000  1.0000  1.0000  1.0000  1.0000  1.0000\n",
       "  1.0000  1.0000  1.0000  1.0000  1.0000  1.0000  1.0000  1.0000  1.0000\n",
       "  1.0000  1.0000  1.0000  1.0000  1.0000  1.0000  1.0000  1.0000  1.0000\n",
       "  1.0000  1.0000  1.0000  1.0000  1.0000  1.0000  1.0000  1.0000  1.0000\n",
       "  1.0000  1.0000  1.0000  1.0000  1.0000  1.0000  1.0000  1.0000  1.0000\n",
       "  0.9569  0.9725  1.0000  1.0000  1.0000  1.0000  1.0000  1.0000  1.0000\n",
       "  0.9882  0.9882  0.9882  1.0000  1.0000  1.0000  1.0000  1.0000  0.9961\n",
       "  1.0000  1.0000  0.9765  0.9725  0.9843  1.0000  1.0000  0.9882  0.9922\n",
       "  1.0000  1.0000  0.9843  0.9804  0.9961  1.0000  1.0000  0.9882  0.9882\n",
       "  1.0000  1.0000  1.0000  1.0000  1.0000  1.0000  1.0000  1.0000  0.9961\n",
       "  1.0000  1.0000  1.0000  1.0000  1.0000  1.0000  1.0000  1.0000  1.0000\n",
       "  0.8980  0.9137  0.8980  0.9882  0.9686  0.9725  0.9922  1.0000  1.0000\n",
       "  0.7765  0.7686  0.7255  0.9490  0.9333  0.9412  0.9725  0.9961  1.0000\n",
       "  0.8549  0.7922  0.8314  0.9412  0.8549  0.8392  0.8980  0.9490  0.9569\n",
       "  0.9137  0.8118  0.8157  0.6863  0.6824  0.7137  0.7294  0.7020  0.7176\n",
       "  0.8392  0.7176  0.7294  0.7333  0.7804  0.8353  0.8353  0.7647  0.7294\n",
       "  0.7569  0.6863  0.7882  0.8392  0.8196  0.8118  0.8353  0.8549  0.8314\n",
       "  0.6549  0.6471  0.8078  0.8667  0.7647  0.6824  0.7176  0.8353  0.9059\n",
       "  0.8431  0.7569  0.8588  0.8627  0.7804  0.6941  0.6980  0.7843  0.8667\n",
       "  0.9098  0.7529  0.8118  0.8118  0.7725  0.6941  0.6235  0.6353  0.6902\n",
       "  0.8784  0.7608  0.8627  0.8863  0.8471  0.7216  0.5961  0.5882  0.6902\n",
       "  1.0000  0.9451  0.7804  0.8314  0.8824  0.8824  0.8353  0.7686  0.6824\n",
       "  1.0000  0.8863  0.7725  0.7569  0.7843  0."
      ]
     },
     "execution_count": 86,
     "metadata": {},
     "output_type": "execute_result"
    },
    {
     "data": {
      "text/plain": [
       "8157  0.8510  0.8510  0.7765\n",
       "  0.9725  0.8784  0.8471  0.6706  0.6863  0.7569  0.8510  0.8784  0.8471\n",
       "  0.8471  0.6941  0.7020  0.6667  0.6667  0.7451  0.8118  0.8196  0.8353\n",
       "  0.8196  0.6667  0.7176  0.7490  0.7137  0.7333  0.7569  0.7608  0.8196\n",
       "  0.9216  0.8078  0.8863  0.8392  0.7765  0.7216  0.7294  0.7843  0.8353\n",
       "  0.9176  0.7725  0.8353  0.8431  0.8157  0.7529  0.7569  0.8314  0.8471\n",
       "  0.9882  0.7922  0.8275  0.8039  0.8275  0.7961  0.8039  0.8588  0.8275\n",
       "  1.0000  0.9137  0.6667  0.7373  0.7373  0.7882  0.8471  0.8039  0.7412\n",
       "  1.0000  0.9804  0.8627  0.6863  0.6510  0.6627  0.7137  0.7412  0.7765\n",
       "  1.0000  1.0000  1.0000  0.9569  0.9098  0.8980  0.9176  0.9490  0.9647\n",
       "  0.9882  1.0000  1.0000  0.9608  0.9529  0.9608  0.9882  1.0000  1.0000\n",
       "  0.9882  1.0000  0.9961  1.0000  0.9882  0.9882  1.0000  1.0000  1.0000\n",
       "  0.9725  1.0000  1.0000  1.0000  0.9804  0.9686  0.9765  1.0000  1.0000\n",
       "  0.9804  1.0000  1.0000  0.9922  0.9451  0.9294  0.9647  1.0000  1.0000\n",
       "  1.0000  1.0000  1.0000  1.0000  0.9373  0.8863  0.9255  1.0000  1.0000\n",
       "  0.9804  1.0000  1.0000  0.9843  0.9686  0.9882  1.0000  1.0000  0.9961\n",
       "  0.9843  1.0000  1.0000  0.9843  0.9686  0.9882  1.0000  1.0000  0.9961\n",
       "  0.9882  1.0000  1.0000  0.9843  0.9686  0.9882  1.0000  1.0000  0.9961\n",
       "  0.9922  1.0000  1.0000  0.9882  0.9686  0.9882  1.0000  1.0000  0.9961\n",
       "  0.9922  1.0000  1.0000  0.9882  0.9686  0.9882  1.0000  1.0000  0.9961\n",
       "  0.9922  1.0000  1.0000  0.9882  0.9725  0.9882  1.0000  1.0000  0.9961\n",
       "  0.9922  1.0000  1.0000  0.9882  0.9725  0.9922  1.0000  1.0000  0.9961\n",
       "  0.9922  1.0000  1.0000  0.9922  0.9725  0.9922  1.0000  1.0000  0.9961\n",
       "  0.9922  1.0000  1.0000  0.9922  0.9765  0.9922  1.0000  1.0000  0.9961\n",
       "  0.9922  1.0000  1.0000  0.9922  0.9765  0.9922  1.0000  1.0000  0.9961\n",
       "  0.9882  1.0000  1.0000  0.9922  0.9765  0.9961  1.0000  1.0000  0.9922\n",
       "  0.9882  1.0000  1.0000  0.9922  0.9804  0.9961  1.0000  1.0000  0.9922\n",
       "  0.9882  1.0000  1.0000  0.9922  0.9804  0.9961  1.0000  1.0000  0.9922\n",
       "  0.9882  1.0000  1.0000  0.9961  0.9804  0.9961  1.0000  1.0000  0.9922\n",
       "  0.9882  1.0000  1.0000  0.9961  0.9804  0.9961  1.0000  1.0000  0.9922\n",
       "  0.9882  0.9961  1.0000  0.9961  0.9804  0.9961  1.0000  1.0000  0.9922\n",
       "\n",
       "Columns 127 to 128\n",
       "  1.0000  1.0000\n",
       "  1.0000  1.0000\n",
       "  1.0000  1.0000\n",
       "  1.0000  1.0000\n",
       "  1.0000  1.0000\n",
       "  1.0000  1.0000\n",
       "  1.0000  1.0000\n",
       "  1.0000  1.0000\n",
       "  1.0000  1.0000\n",
       "  1.0000  1.0000\n",
       "  1.0000  1.0000\n",
       "  1.0000  1.0000\n",
       "  1.0000  1.0000\n",
       "  1.0000  1.0000\n",
       "  1.0000  1.0000\n",
       "  1.0000  1.0000\n",
       "  1.0000  1.0000\n",
       "  1.0000  1.0000\n",
       "  1.0000  1.0000\n",
       "  1.0000  1.0000\n",
       "  1.0000  1.0000\n",
       "  1.0000  1.0000\n",
       "  1.0000  1.0000\n",
       "  1.0000  1.0000\n",
       "  1.0000  1.0000\n",
       "  1.0000  1.0000\n",
       "  1.0000  1.0000\n",
       "  1.0000  1.0000\n",
       "  1.0000  1.0000\n",
       "  1.0000  1.0000\n",
       "  1.0000  1.0000\n",
       "  1.0000  1.0000\n",
       "  1.0000  1.0000\n",
       "  1.0000  1.0000\n",
       "  1.0000  1.0000\n",
       "  1.0000  1.0000\n",
       "  1.0000  1.0000\n",
       "  1.0000  1.0000\n",
       "  1.0000  1.0000\n",
       "  1.0000  1.0000\n",
       "  1.0000  1.0000\n",
       "  1.0000  1.0000\n",
       "  1.0000  1.0000\n",
       "  1.0000  1.0000\n",
       "  1.0000  1.0000\n",
       "  1.0000  1.0000\n",
       "  1.0000  1.0000\n",
       "  1.0000  1.0000\n",
       "  1.0000  1.0000\n",
       "  1.0000  1.0000\n",
       "  1.0000  1.0000\n",
       "  1.0000  1.0000\n",
       "  1.0000  1.0000\n",
       "  1.0000  1.0000\n",
       "  1.0000  1.0000\n",
       "  1.0000  1.0000\n",
       "  1.0000  1.0000\n",
       "  1.0000  1.0000\n",
       "  1.0000  1.0000\n",
       "  1.0000  1.0000\n",
       "  1.0000  1.0000\n",
       "  1.0000  1.0000\n",
       "  1.0000  1.0000\n",
       "  1.0000  1.0000\n",
       "  1.0000  1.0000\n",
       "  1.0000  1.0000\n",
       "  1.0000  1.0000\n",
       "  1.0000  1.0000\n",
       "  1.0000  1.0000\n",
       "  1.0000  1.0000\n",
       "  1.0000  1.0000\n",
       "  1.0000  1.0000\n",
       "  1.0000  1.0000\n",
       "  1.0000  1.0000\n",
       "  1.0000  1.0000\n",
       "  1.0000  1.0000\n",
       "  1.0000  1.0000\n",
       "  1.0000  1.0000\n",
       "  1.0000  1.0000\n",
       "  1.0000  1.0000\n",
       "  0.9686  0.9412\n",
       "  0.9922  0.9882\n",
       "  1.0000  1.0000\n",
       "  1.0000  1.0000\n",
       "  1.0000  1.0000\n",
       "  0.9922  0.9843\n",
       "  1.0000  0.9922\n",
       "  1.0000  1.0000\n",
       "  0.9843  1.0000\n",
       "  0.8392  0.9843\n",
       "  0.8078  0.9098\n",
       "  0.7882  0.7569\n",
       "  0.8549  0.7647\n",
       "  0.8353  0.7569\n",
       "  0.7059  0.6667\n",
       "  0.7922  0.8275\n",
       "  0.7490  0.9451\n",
       "  0.7216  0.7412\n",
       "  0.7333  0.6039\n",
       "  0.7843  0.6431\n",
       "  0.8157  0.6980\n",
       "  0.8000  0.7020\n",
       "  0.7843  0.7373\n",
       "  0.7765  0.8039\n",
       "  0.7882  0.8980\n",
       "  0.8745  0.9686\n",
       "  0.9843  0.9647\n",
       "  0.9686  0.9098\n",
       "  0.9922  0.9529\n",
       "  0."
      ]
     },
     "execution_count": 86,
     "metadata": {},
     "output_type": "execute_result"
    },
    {
     "data": {
      "text/plain": [
       "9843  0.9412\n",
       "  1.0000  0.9843\n",
       "  1.0000  1.0000\n",
       "  1.0000  1.0000\n",
       "  1.0000  1.0000\n",
       "  1.0000  1.0000\n",
       "  0.9961  1.0000\n",
       "  0.9961  1.0000\n",
       "  0.9961  1.0000\n",
       "  0.9961  1.0000\n",
       "  0.9922  1.0000\n",
       "  0.9922  1.0000\n",
       "  0.9922  1.0000\n",
       "  0.9882  1.0000\n",
       "  0.9882  1.0000\n",
       "  0.9882  1.0000\n",
       "  0.9882  1.0000\n",
       "  0.9882  1.0000\n",
       "  0.9882  1.0000\n",
       "\n",
       "(3,.,.) = \n",
       " Columns 1 to 9\n",
       "  0.9882  0.9725  0.9412  0.9137  0.8980  0.8902  0.8941  0.9020  0.9098\n",
       "  1.0000  0.9882  0.9686  0.9490  0.9412  0.9373  0.9412  0.9490  0.9451\n",
       "  1.0000  0.9961  0.9882  0.9843  0.9804  0.9843  0.9882  0.9922  0.9765\n",
       "  0.9922  0.9922  0.9922  0.9961  0.9961  1.0000  1.0000  1.0000  0.9882\n",
       "  0.9922  0.9961  0.9961  1.0000  1.0000  1.0000  1.0000  1.0000  0.9922\n",
       "  1.0000  1.0000  1.0000  1.0000  1.0000  1.0000  1.0000  1.0000  1.0000\n",
       "  1.0000  1.0000  1.0000  1.0000  1.0000  1.0000  1.0000  1.0000  1.0000\n",
       "  1.0000  1.0000  0.9922  0.9922  0.9922  0.9961  1.0000  1.0000  1.0000\n",
       "  1.0000  1.0000  1.0000  1.0000  1.0000  1.0000  1.0000  1.0000  1.0000\n",
       "  1.0000  1.0000  1.0000  1.0000  1.0000  1.0000  1.0000  1.0000  1.0000\n",
       "  1.0000  1.0000  1.0000  1.0000  1.0000  1.0000  1.0000  1.0000  1.0000\n",
       "  1.0000  1.0000  1.0000  1.0000  1.0000  1.0000  1.0000  1.0000  1.0000\n",
       "  1.0000  1.0000  1.0000  1.0000  1.0000  1.0000  1.0000  1.0000  1.0000\n",
       "  1.0000  1.0000  1.0000  1.0000  1.0000  1.0000  1.0000  1.0000  1.0000\n",
       "  1.0000  1.0000  1.0000  1.0000  1.0000  1.0000  1.0000  1.0000  1.0000\n",
       "  1.0000  1.0000  1.0000  1.0000  1.0000  1.0000  1.0000  1.0000  1.0000\n",
       "  1.0000  1.0000  1.0000  1.0000  1.0000  1.0000  1.0000  1.0000  1.0000\n",
       "  1.0000  1.0000  1.0000  1.0000  1.0000  1.0000  1.0000  1.0000  1.0000\n",
       "  1.0000  1.0000  1.0000  1.0000  1.0000  1.0000  1.0000  1.0000  1.0000\n",
       "  1.0000  1.0000  1.0000  1.0000  1.0000  1.0000  1.0000  1.0000  1.0000\n",
       "  1.0000  1.0000  1.0000  1.0000  1.0000  1.0000  1.0000  1.0000  1.0000\n",
       "  1.0000  1.0000  1.0000  1.0000  1.0000  1.0000  1.0000  1.0000  1.0000\n",
       "  1.0000  1.0000  1.0000  1.0000  1.0000  1.0000  1.0000  1.0000  1.0000\n",
       "  1.0000  1.0000  1.0000  1.0000  1.0000  1.0000  1.0000  1.0000  1.0000\n",
       "  1.0000  1.0000  1.0000  1.0000  1.0000  1.0000  1.0000  1.0000  1.0000\n",
       "  1.0000  1.0000  1.0000  1.0000  1.0000  1.0000  1.0000  1.0000  1.0000\n",
       "  1.0000  1.0000  1.0000  1.0000  1.0000  1.0000  1.0000  1.0000  1.0000\n",
       "  1.0000  1.0000  1.0000  1.0000  1.0000  1.0000  1.0000  1.0000  1.0000\n",
       "  1.0000  1.0000  1.0000  1.0000  1.0000  1.0000  1.0000  1.0000  1.0000\n",
       "  1.0000  1.0000  1.0000  1.0000  1.0000  1.0000  1.0000  1.0000  1.0000\n",
       "  1.0000  1.0000  1.0000  1.0000  1.0000  1.0000  1.0000  1.0000  0.9843\n",
       "  1.0000  1.0000  1.0000  1.0000  1.0000  1.0000  1.0000  1.0000  0.9686\n",
       "  1.0000  1.0000  1.0000  0.9922  0.9843  0.9922  1.0000  1.0000  1.0000\n",
       "  1.0000  1.0000  1.0000  0.9922  0.9843  0.9922  1.0000  1.0000  1.0000\n",
       "  1.0000  1.0000  1.0000  0.9922  0.9922  0.9922  1.0000  1.0000  1.0000\n",
       "  1.0000  1.0000  1.0000  0.9922  0.9922  0.9922  1.0000  1.0000  1.0000\n",
       "  1.0000  1.0000  1.0000  0.9922  0.9922  0.9922  1.0000  1.0000  1.0000\n",
       "  1.0000  1.0000  1.0000  0.9922  0.9922  1.0000  1.0000  1.0000  1.0000\n",
       "  1.0000  1.0000  1.0000  0.9922  0.9922  1.0000  1.0000  1.0000  1.0000\n",
       "  1.0000  1.0000  1.0000  0.9922  0.9922  1.0000  1.0000  1.0000  1.0000\n",
       "  1.0000  1.0000  1.0000  0.9922  0.9922  1.0000  1.0000  1.0000  1.0000\n",
       "  1.0000  1.0000  1.0000  0.9922  1.0000  1.0000  1.0000  1.0000  1.0000\n",
       "  1.0000  1.0000  1.0000  1.0000  1.0000  1.0000  1.0000  1.0000  1.0000\n",
       "  1.0000  1.0000  1.0000  1.0000  1.0000  1.0000  1.0000  1.0000  1.0000\n",
       "  1.0000  1.0000  1.0000  1.0000  1.0000  1.0000  1.0000  1.0000  1.0000\n",
       "  1.0000  1.0000  1.0000  1.0000  1.0000  1.0000  1.0000  1.0000  1.0000\n",
       "  1.0000  1.0000  1.0000  1.0000  1.0000  1.0000  1.0000  1.0000  1.0000\n",
       "  1.0000  1.0000  1.0000  1.0000  1.0000  1.0000  1.0000  1.0000  1.0000\n",
       "  0.9569  0.9725  1.0000  1.0000  1.0000  1.0000  1.0000  1.0000  0.9725\n",
       "  0.9569  0.9725  1.0000  1.0000  1.0000  1.0000  1.0000  1.0000  0.9725\n",
       "  0.9569  0.9725  1.0000  1.0000  1.0000  1.0000  1.0000  1.0000  0.9608\n",
       "  0.9647  0.9804  1.0000  "
      ]
     },
     "execution_count": 86,
     "metadata": {},
     "output_type": "execute_result"
    },
    {
     "data": {
      "text/plain": [
       "1.0000  1.0000  1.0000  1.0000  1.0000  0.9647\n",
       "  0.9647  0.9804  1.0000  1.0000  1.0000  1.0000  1.0000  1.0000  0.9569\n",
       "  0.9647  0.9804  1.0000  1.0000  1.0000  1.0000  1.0000  0.9922  0.9529\n",
       "  0.9725  0.9843  1.0000  1.0000  1.0000  1.0000  1.0000  0.9843  0.9176\n",
       "  0.9804  0.9843  1.0000  1.0000  1.0000  1.0000  1.0000  0.9804  0.8863\n",
       "  0.9804  0.9882  0.9922  1.0000  1.0000  1.0000  1.0000  0.9608  0.8588\n",
       "  0.9843  0.9882  1.0000  1.0000  1.0000  1.0000  0.9922  0.9412  0.7843\n",
       "  0.9765  0.9882  1.0000  1.0000  1.0000  1.0000  0.9765  0.9294  0.6588\n",
       "  0.9765  1.0000  1.0000  1.0000  1.0000  1.0000  0.9804  0.9294  0.5333\n",
       "  0.9843  1.0000  1.0000  1.0000  1.0000  1.0000  0.9804  0.9294  0.4275\n",
       "  0.9882  1.0000  1.0000  1.0000  1.0000  1.0000  0.9804  0.8980  0.3333\n",
       "  0.9922  1.0000  1.0000  1.0000  1.0000  1.0000  0.9412  0.8314  0.2471\n",
       "  1.0000  1.0000  1.0000  1.0000  1.0000  1.0000  0.9137  0.7765  0.1961\n",
       "  1.0000  1.0000  1.0000  1.0000  1.0000  0.9686  0.9451  0.6196  0.1020\n",
       "  1.0000  1.0000  1.0000  1.0000  1.0000  0.9686  0.9373  0.5451  0.1020\n",
       "  1.0000  1.0000  1.0000  1.0000  0.9882  0.9725  0.9176  0.4275  0.0941\n",
       "  1.0000  1.0000  1.0000  1.0000  0.9843  0.9725  0.8980  0.3216  0.0902\n",
       "  1.0000  0.9961  1.0000  1.0000  0.9882  0.9647  0.8549  0.2353  0.0824\n",
       "  1.0000  1.0000  1.0000  1.0000  0.9922  0.9529  0.7843  0.1725  0.0784\n",
       "  1.0000  1.0000  1.0000  1.0000  0.9843  0.9137  0.7020  0.1255  0.0745\n",
       "  1.0000  1.0000  1.0000  0.9922  0.9804  0.8824  0.6392  0.0980  0.0627\n",
       "  0.9882  1.0000  0.9843  0.9922  0.9804  0.9137  0.4745  0.1059  0.0549\n",
       "  1.0000  1.0000  0.9804  0.9922  0.9647  0.9020  0.4000  0.0902  0.0471\n",
       "  1.0000  1.0000  0.9882  0.9843  0.9294  0.8824  0.3020  0.0667  0.0471\n",
       "  1.0000  1.0000  0.9961  0.9843  0.9098  0.8471  0.2118  0.0667  0.0510\n",
       "  1.0000  0.9843  0.9922  0.9804  0.9176  0.7765  0.1647  0.0745  0.0392\n",
       "  1.0000  0.9843  0.9922  0.9804  0.9294  0.6667  0.1333  0.0863  0.0275\n",
       "  0.9961  0.9961  0.9922  0.9608  0.9490  0.5529  0.1176  0.0784  0.0196\n",
       "  0.9922  1.0000  0.9922  0.9490  0.9529  0.4784  0.1098  0.0706  0.0157\n",
       "  0.9608  1.0000  1.0000  1.0000  0.8902  0.2941  0.0314  0.0275  0.0392\n",
       "  0.9686  1.0000  1.0000  1.0000  0.8745  0.2510  0.0235  0.0196  0.0392\n",
       "  0.9765  1.0000  1.0000  1.0000  0.8471  0.1922  0.0157  0.0078  0.0392\n",
       "  0.9804  0.9843  1.0000  1.0000  0.8000  0.1333  0.0039  0.0000  0.0353\n",
       "  0.9804  0.9843  1.0000  1.0000  0.7216  0.0980  0.0078  0.0000  0.0353\n",
       "  0.9804  0.9922  1.0000  1.0000  0.6235  0.0745  0.0078  0.0000  0.0275\n",
       "  0.9804  0.9922  1.0000  1.0000  0.5176  0.0627  0.0000  0.0000  0.0196\n",
       "  0.9686  1.0000  1.0000  1.0000  0.4471  0.0549  0.0000  0.0000  0.0118\n",
       "  0.9725  1.0000  0.9922  0.9922  0.3294  0.0706  0.0000  0.0000  0.0196\n",
       "  0.9725  1.0000  0.9804  0.9804  0.2980  0.0471  0.0000  0.0000  0.0118\n",
       "  0.9725  1.0000  0.9843  0.9098  0.2510  0.0235  0.0000  0.0000  0.0118\n",
       "  0.9608  1.0000  0.9961  0.8471  0.2196  0.0196  0.0000  0.0000  0.0039\n",
       "  0.9490  1.0000  1.0000  0.7843  0.2000  0.0196  0.0000  0.0000  0.0000\n",
       "  0.9412  1.0000  1.0000  0.7137  0.1725  0.0275  0.0000  0.0000  0.0000\n",
       "  0.9490  0.9922  0.9922  0.6431  0.1451  0.0275  0.0000  0.0000  0.0000\n",
       "  0.9569  0.9922  0.9765  0.5882  0.1176  0.0235  0.0000  0.0000  0.0000\n",
       "  1.0000  0.9843  0.9176  0.3059  0.0627  0.0353  0.0196  0.0431  0.0314\n",
       "  1.0000  0.9843  0.9176  0.2902  0.0549  0.0353  0.0235  0.0431  0.0314\n",
       "  1.0000  0.9804  0.8824  0.2588  0.0549  0.0235  0.0235  0.0392  0.0314\n",
       "  1.0000  0.9804  0.8235  0.2157  0.0510  0.0235  0.0275  0.0392  0.0235\n",
       "  1.0000  0.9765  0.7686  0.1608  0.0431  0.0196  0.0235  0.0275  0.0235\n",
       "  1.0000  0.9804  0.7098  0.1176  0.0392  0.0118  0.0275  0.0235  0.0235\n",
       "  1.0000  0.9804  0.6627  0.0863  0.0314  0.0078  0.0235  0.0196  0.0235\n",
       "  1.0000  0.9725  0.6431  0.0588  0.0314  0.0000  0.0275  0.0196  0.0235\n",
       "  1.0000  0.9608  0.5255  0.0706  0.0078  0.0275  0.0157  0.0196  0.0157\n",
       "  1.0000  0.9412  0.4863  0.0588  0.0000  0.0118  0.0118  0.0196  0.0157\n",
       "  1.0000  0.9255  0.4275  0.0431  0.0000  0.0039  0.0078  0.0157  0.0157\n",
       "  0.9961  0.9098  0.3647  0.0392  "
      ]
     },
     "execution_count": 86,
     "metadata": {},
     "output_type": "execute_result"
    },
    {
     "data": {
      "text/plain": [
       "0.0000  0.0000  0.0039  0.0196  0.0118\n",
       "  0.9882  0.8863  0.2980  0.0431  0.0000  0.0000  0.0078  0.0275  0.0078\n",
       "  0.9843  0.8706  0.2431  0.0431  0.0000  0.0000  0.0039  0.0235  0.0078\n",
       "  0.9686  0.8431  0.1922  0.0431  0.0000  0.0000  0.0000  0.0157  0.0039\n",
       "  0.9490  0.8275  0.1608  0.0431  0.0000  0.0000  0.0000  0.0039  0.0039\n",
       "  0.9725  0.7255  0.1333  0.0510  0.0000  0.0000  0.0235  0.0157  0.0196\n",
       "  0.9686  0.7020  0.1294  0.0510  0.0000  0.0000  0.0235  0.0157  0.0196\n",
       "  0.9647  0.6549  0.1255  0.0471  0.0000  0.0000  0.0118  0.0196  0.0196\n",
       "  0.9529  0.5882  0.1098  0.0392  0.0000  0.0000  0.0078  0.0196  0.0196\n",
       "  0.9412  0.5176  0.1020  0.0353  0.0000  0.0000  0.0078  0.0235  0.0235\n",
       "  0.9333  0.4588  0.0863  0.0235  0.0000  0.0000  0.0000  0.0157  0.0235\n",
       "  0.9216  0.4039  0.0706  0.0196  0.0000  0.0000  0.0000  0.0196  0.0157\n",
       "  0.9098  0.3725  0.0667  0.0196  0.0000  0.0000  0.0000  0.0196  0.0157\n",
       "  0.8902  0.2902  0.0824  0.0000  0.0000  0.0000  0.0000  0.0078  0.0275\n",
       "  0.8471  0.2667  0.0667  0.0000  0.0000  0.0000  0.0000  0.0118  0.0314\n",
       "  0.7961  0.2314  0.0549  0.0000  0.0000  0.0000  0.0000  0.0157  0.0275\n",
       "  0.7451  0.2078  0.0588  0.0000  0.0000  0.0000  0.0000  0.0039  0.0196\n",
       "  0.6941  0.1961  0.0627  0.0000  0.0000  0.0000  0.0000  0.0000  0.0118\n",
       "  0.6510  0.1725  0.0667  0.0000  0.0000  0.0000  0.0000  0.0000  0.0078\n",
       "  0.6000  0.1412  0.0510  0.0000  0.0000  0.0000  0.0000  0.0000  0.0078\n",
       "  0.5608  0.1216  0.0431  0.0000  0.0000  0.0000  0.0000  0.0039  0.0118\n",
       "\n",
       "Columns 10 to 18\n",
       "  0.9176  0.9294  0.9373  0.9412  0.9373  0.9333  0.9294  0.8745  0.8824\n",
       "  0.9529  0.9608  0.9686  0.9725  0.9725  0.9647  0.9647  0.9098  0.9216\n",
       "  0.9843  0.9922  0.9961  1.0000  1.0000  0.9961  0.9922  0.9451  0.9569\n",
       "  0.9922  0.9961  1.0000  1.0000  1.0000  1.0000  1.0000  0.9569  0.9725\n",
       "  0.9922  0.9961  1.0000  1.0000  1.0000  1.0000  1.0000  0.9725  0.9922\n",
       "  1.0000  1.0000  1.0000  1.0000  1.0000  1.0000  1.0000  0.9843  1.0000\n",
       "  1.0000  1.0000  1.0000  0.9961  1.0000  1.0000  1.0000  1.0000  1.0000\n",
       "  0.9961  0.9922  0.9922  0.9922  0.9922  0.9961  0.9961  1.0000  1.0000\n",
       "  1.0000  1.0000  1.0000  1.0000  1.0000  1.0000  1.0000  1.0000  1.0000\n",
       "  1.0000  1.0000  1.0000  1.0000  1.0000  1.0000  1.0000  1.0000  1.0000\n",
       "  1.0000  1.0000  1.0000  1.0000  1.0000  1.0000  1.0000  1.0000  1.0000\n",
       "  1.0000  1.0000  1.0000  1.0000  1.0000  1.0000  1.0000  1.0000  1.0000\n",
       "  1.0000  1.0000  1.0000  1.0000  1.0000  1.0000  1.0000  1.0000  1.0000\n",
       "  1.0000  1.0000  1.0000  1.0000  1.0000  1.0000  1.0000  1.0000  0.9882\n",
       "  1.0000  1.0000  1.0000  1.0000  1.0000  1.0000  1.0000  1.0000  1.0000\n",
       "  1.0000  1.0000  1.0000  1.0000  1.0000  1.0000  1.0000  1.0000  1.0000\n",
       "  1.0000  1.0000  1.0000  1.0000  1.0000  1.0000  1.0000  1.0000  1.0000\n",
       "  1.0000  1.0000  1.0000  1.0000  1.0000  1.0000  1.0000  1.0000  1.0000\n",
       "  1.0000  1.0000  1.0000  1.0000  1.0000  1.0000  1.0000  1.0000  0.9961\n",
       "  1.0000  1.0000  1.0000  1.0000  1.0000  1.0000  1.0000  1.0000  1.0000\n",
       "  1.0000  1.0000  1.0000  1.0000  1.0000  1.0000  1.0000  0.9922  0.9843\n",
       "  1.0000  1.0000  1.0000  1.0000  1.0000  1.0000  1.0000  0.9725  0.9020\n",
       "  1.0000  1.0000  1.0000  1.0000  1.0000  1.0000  1.0000  0.9608  0.6980\n",
       "  1.0000  1.0000  1.0000  1.0000  1.0000  1.0000  1.0000  0.9451  0.5176\n",
       "  0.9922  1.0000  0.9882  0.9961  1.0000  0.9922  0.9961  0.8627  0.3020\n",
       "  0.9882  1.0000  1.0000  1.0000  1.0000  0.9922  0.9882  0.6980  0.2157\n",
       "  0.9882  1.0000  1.0000  0.9961  0.9922  1.0000  0.9725  0.4784  0.1176\n",
       "  0.9922  0.9922  1.0000  0.9922  0.9882  1.0000  0.9333  0.2863  0.0627\n",
       "  1.0000  0.9804  1.0000  0.9843  0.9961  1.0000  0.8392  0.1529  0.0392\n",
       "  1.0000  0.9765  1.0000  0.9804  1.0000  0.9843  0.6784  0.0706  0.0314\n",
       "  1.0000  0.9765  1.0000  0.9843  1.0000  0.9294  0.4863  0.0392  0.0275\n",
       "  1.0000  0.9804  1.0000  0.9882  1.0000  0.8863  0.3529  0.0314  0.0392\n",
       "  1.0000  1.0000  0.9765  0.9569  0.9255  0.6196  0.1529  0.0196  0.0314\n",
       "  1.0000  1.0000  0.9725  0.9569  0.9098  0.5098  0.1255  0.0196  0.0196\n",
       "  1.0000  1.0000  0.9843  0.9490  0.8353  0.3490  0.0980  0.0196  0.0000\n",
       "  1.0000  0.9961  0.9804"
      ]
     },
     "execution_count": 86,
     "metadata": {},
     "output_type": "execute_result"
    },
    {
     "data": {
      "text/plain": [
       "  0.9412  0.7373  0.2078  0.0980  0.0157  0.0000\n",
       "  1.0000  1.0000  0.9804  0.9216  0.6039  0.1216  0.1020  0.0078  0.0000\n",
       "  1.0000  0.9922  0.9725  0.8784  0.4353  0.0941  0.1020  0.0000  0.0157\n",
       "  1.0000  0.9804  0.9412  0.8157  0.2627  0.0863  0.0706  0.0000  0.0353\n",
       "  1.0000  0.9686  0.9098  0.7725  0.1451  0.0863  0.0353  0.0000  0.0392\n",
       "  0.9843  0.9843  0.9451  0.5373  0.1333  0.0353  0.0471  0.0000  0.0157\n",
       "  0.9922  0.9804  0.8941  0.4392  0.1059  0.0275  0.0235  0.0000  0.0039\n",
       "  1.0000  0.9725  0.8157  0.2902  0.0784  0.0196  0.0000  0.0000  0.0000\n",
       "  1.0000  0.9725  0.7294  0.1804  0.0588  0.0196  0.0000  0.0000  0.0000\n",
       "  1.0000  0.9647  0.6196  0.1255  0.0588  0.0118  0.0000  0.0000  0.0000\n",
       "  1.0000  0.9412  0.4824  0.1098  0.0549  0.0000  0.0000  0.0000  0.0000\n",
       "  0.9804  0.8902  0.3412  0.1020  0.0353  0.0000  0.0000  0.0000  0.0039\n",
       "  0.9608  0.8549  0.2510  0.1020  0.0196  0.0000  0.0000  0.0000  0.0078\n",
       "  0.8824  0.6353  0.0980  0.0549  0.0000  0.0392  0.0000  0.0000  0.0353\n",
       "  0.8824  0.5451  0.0863  0.0549  0.0078  0.0353  0.0000  0.0000  0.0235\n",
       "  0.8706  0.4039  0.0706  0.0510  0.0118  0.0235  0.0000  0.0039  0.0039\n",
       "  0.8431  0.2627  0.0588  0.0549  0.0196  0.0118  0.0000  0.0196  0.0000\n",
       "  0.7647  0.1725  0.0549  0.0510  0.0275  0.0000  0.0000  0.0314  0.0118\n",
       "  0.6431  0.1294  0.0510  0.0392  0.0196  0.0000  0.0000  0.0392  0.0314\n",
       "  0.5020  0.1098  0.0471  0.0275  0.0078  0.0000  0.0000  0.0392  0.0588\n",
       "  0.4039  0.1020  0.0353  0.0118  0.0078  0.0000  0.0000  0.0392  0.0902\n",
       "  0.2353  0.0980  0.0314  0.0039  0.0000  0.0000  0.0000  0.0510  0.0392\n",
       "  0.1961  0.0745  0.0157  0.0000  0.0000  0.0000  0.0000  0.0745  0.0667\n",
       "  0.1529  0.0510  0.0039  0.0000  0.0000  0.0000  0.0000  0.0863  0.1137\n",
       "  0.1216  0.0392  0.0039  0.0000  0.0000  0.0000  0.0000  0.0824  0.1412\n",
       "  0.1059  0.0392  0.0118  0.0039  0.0000  0.0000  0.0000  0.0745  0.1608\n",
       "  0.0980  0.0431  0.0039  0.0039  0.0000  0.0000  0.0000  0.0824  0.1961\n",
       "  0.0784  0.0275  0.0000  0.0039  0.0000  0.0000  0.0000  0.1059  0.2275\n",
       "  0.0627  0.0157  0.0000  0.0000  0.0000  0.0000  0.0000  0.1255  0.2549\n",
       "  0.0549  0.0196  0.0000  0.0000  0.0000  0.0000  0.0000  0.1098  0.3529\n",
       "  0.0510  0.0196  0.0000  0.0000  0.0000  0.0000  0.0000  0.1216  0.4039\n",
       "  0.0510  0.0118  0.0000  0.0000  0.0000  0.0000  0.0000  0.1373  0.4706\n",
       "  0.0471  0.0078  0.0000  0.0000  0.0000  0.0000  0.0000  0.1451  0.5529\n",
       "  0.0392  0.0078  0.0000  0.0000  0.0000  0.0000  0.0078  0.1490  0.6314\n",
       "  0.0392  0.0078  0.0000  0.0000  0.0000  0.0078  0.0118  0.1765  0.7137\n",
       "  0.0275  0.0000  0.0000  0.0000  0.0000  0.0078  0.0196  0.2196  0.7922\n",
       "  0.0196  0.0000  0.0000  0.0000  0.0000  0.0196  0.0235  0.2627  0.8471\n",
       "  0.0157  0.0000  0.0000  0.0000  0.0078  0.0235  0.0353  0.3294  0.8902\n",
       "  0.0157  0.0000  0.0000  0.0000  0.0078  0.0235  0.0392  0.3725  0.9020\n",
       "  0.0118  0.0000  0.0000  0.0000  0.0118  0.0275  0.0431  0.4275  0.9216\n",
       "  0.0118  0.0000  0.0000  0.0000  0.0118  0.0353  0.0431  0.4941  0.9412\n",
       "  0.0039  0.0000  0.0000  0.0000  0.0157  0.0353  0.0510  0.5725  0.9569\n",
       "  0.0000  0.0000  0.0000  0.0000  0.0196  0.0471  0.0549  0.6431  0.9686\n",
       "  0.0000  0.0000  0.0000  0.0000  0.0235  0.0549  0.0706  0.6980  0.9804\n",
       "  0.0000  0.0000  0.0000  0.0000  0.0275  0.0588  0.0745  0.7255  0.9804\n",
       "  0.0471  0.0627  0.0000  0.0000  0.0000  0.0510  0.1490  0.8784  0.9647\n",
       "  0.0510  0.0588  0.0000  0.0000  0.0000  0.0510  0.1647  0.8706  0.9608\n",
       "  0.0549  0.0549  0.0000  0.0000  0.0000  0.0471  0.2039  0.8745  0.9569\n",
       "  0.0549  0.0510  0.0000  0.0000  0.0000  0.0471  0.2431  0.8784  0.9608\n",
       "  0.0627  0.0431  0.0000  0.0000  0.0000  0.0510  0.2902  0.8902  0.9529\n",
       "  0.0588  0.0314  0.0000  0.0000  0.0000  0.0471  0.3294  0.9333  0.9569\n",
       "  0.0627  0.0275  0.0000  0.0000  0.0000  0.0549  0.3686  1.0000  0.9725\n",
       "  0.0588  0.0157  0.0000  0.0000  0.0000  0.0588  0.3922  1.0000  1.0000\n",
       "  0.0431  0.0196  0.0000  0.0000  0.0000  0.0549  0.4980  1.0000  1.0000\n",
       "  0.0431  0.0196  0.0000  0.0000  0.0039  0.0627  0.5176  1.0000  1.0000\n",
       "  0.0314  0.0078  0.0000  0.0000  0.0039  0.0824  0.5529  1.0000  1.0000\n",
       "  0.0235  0.0078  0.0000  0.0000"
      ]
     },
     "execution_count": 86,
     "metadata": {},
     "output_type": "execute_result"
    },
    {
     "data": {
      "text/plain": [
       "  0.0118  0.1059  0.5922  1.0000  1.0000\n",
       "  0.0196  0.0078  0.0000  0.0000  0.0078  0.1216  0.6392  1.0000  0.9569\n",
       "  0.0078  0.0000  0.0000  0.0000  0.0078  0.1451  0.6745  1.0000  0.9098\n",
       "  0.0078  0.0000  0.0000  0.0000  0.0118  0.1608  0.7098  0.9176  0.8667\n",
       "  0.0039  0.0000  0.0000  0.0000  0.0118  0.1647  0.7255  0.8549  0.8471\n",
       "  0.0000  0.0000  0.0000  0.0000  0.0706  0.2392  0.8078  1.0000  0.8118\n",
       "  0.0000  0.0000  0.0000  0.0000  0.0745  0.2471  0.8157  1.0000  0.8745\n",
       "  0.0000  0.0000  0.0000  0.0000  0.0784  0.2588  0.8353  1.0000  0.9569\n",
       "  0.0039  0.0000  0.0000  0.0000  0.0824  0.2784  0.8549  1.0000  1.0000\n",
       "  0.0000  0.0000  0.0000  0.0000  0.0863  0.2941  0.8863  1.0000  0.9843\n",
       "  0.0000  0.0000  0.0000  0.0000  0.0980  0.3098  0.9098  0.9922  0.9373\n",
       "  0.0000  0.0000  0.0000  0.0000  0.1020  0.3216  0.9255  0.9451  0.9098\n",
       "  0.0000  0.0000  0.0000  0.0000  0.1020  0.3255  0.9333  0.9569  0.9333\n",
       "  0.0000  0.0000  0.0000  0.0157  0.0941  0.3765  0.9490  0.9961  0.9922\n",
       "  0.0000  0.0000  0.0000  0.0118  0.0902  0.3882  0.9529  1.0000  1.0000\n",
       "  0.0000  0.0000  0.0000  0.0196  0.0902  0.4157  0.9529  0.9922  0.9725\n",
       "  0.0000  0.0000  0.0000  0.0157  0.0902  0.4471  0.9529  0.9294  0.9294\n",
       "  0.0000  0.0000  0.0000  0.0078  0.0941  0.4863  0.9529  0.8863  0.9059\n",
       "  0.0000  0.0000  0.0000  0.0039  0.0941  0.5176  0.9529  0.8980  0.9529\n",
       "  0.0000  0.0000  0.0000  0.0039  0.0941  0.5451  0.9529  0.9725  1.0000\n",
       "  0.0000  0.0000  0.0039  0.0000  0.0941  0.5608  0.9529  1.0000  1.0000\n",
       "  0.0078  0.0000  0.0157  0.0353  0.1059  0.6431  0.9804  1.0000  1.0000\n",
       "  0.0118  0.0000  0.0157  0.0353  0.1098  0.6510  0.9804  1.0000  1.0000\n",
       "  0.0118  0.0000  0.0118  0.0353  0.1176  0.6588  0.9843  1.0000  1.0000\n",
       "  0.0157  0.0000  0.0039  0.0353  0.1294  0.6706  0.9882  1.0000  1.0000\n",
       "  0.0196  0.0000  0.0000  0.0353  0.1412  0.6824  0.9922  1.0000  1.0000\n",
       "  0.0157  0.0000  0.0000  0.0392  0.1529  0.6941  0.9922  1.0000  1.0000\n",
       "  0.0157  0.0000  0.0000  0.0392  0.1686  0.7098  1.0000  1.0000  1.0000\n",
       "  0.0157  0.0000  0.0000  0.0392  0.1765  0.7137  1.0000  1.0000  1.0000\n",
       "  0.0000  0.0000  0.0000  0.0471  0.1451  0.7765  0.9804  1.0000  1.0000\n",
       "  0.0000  0.0000  0.0000  0.0510  0.1529  0.7843  0.9843  1.0000  1.0000\n",
       "  0.0000  0.0000  0.0000  0.0588  0.1608  0.7922  0.9961  1.0000  1.0000\n",
       "  0.0000  0.0000  0.0000  0.0549  0.1647  0.8000  0.9961  1.0000  1.0000\n",
       "  0.0000  0.0000  0.0000  0.0471  0.1647  0.8039  0.9922  1.0000  1.0000\n",
       "  0.0000  0.0000  0.0000  0.0431  0.1765  0.8078  0.9882  1.0000  1.0000\n",
       "  0.0000  0.0000  0.0000  0.0471  0.1843  0.8157  0.9922  1.0000  1.0000\n",
       "  0.0039  0.0078  0.0000  0.0510  0.1922  0.8235  1.0000  1.0000  1.0000\n",
       "\n",
       "Columns 19 to 27\n",
       "  0.9137  0.9490  0.9725  0.9882  0.9882  0.9765  0.9725  0.9333  0.8784\n",
       "  0.9412  0.9882  1.0000  1.0000  1.0000  1.0000  0.9882  0.9529  0.6118\n",
       "  0.9765  1.0000  1.0000  1.0000  1.0000  1.0000  0.9686  0.8667  0.3098\n",
       "  1.0000  1.0000  1.0000  1.0000  1.0000  0.9843  0.9255  0.6314  0.1569\n",
       "  1.0000  1.0000  1.0000  1.0000  1.0000  0.9725  0.8392  0.3333  0.1098\n",
       "  1.0000  1.0000  1.0000  1.0000  0.9922  0.9373  0.6275  0.1216  0.0784\n",
       "  1.0000  1.0000  1.0000  1.0000  0.9529  0.8353  0.3294  0.0824  0.0157\n",
       "  1.0000  1.0000  1.0000  0.9804  0.8745  0.7098  0.1137  0.1294  0.0000\n",
       "  1.0000  1.0000  0.9765  0.9490  0.8784  0.3529  0.0745  0.0196  0.0471\n",
       "  1.0000  1.0000  0.9647  0.9451  0.6745  0.1843  0.0510  0.0275  0.0000\n",
       "  1.0000  1.0000  0.9490  0.8941  0.4275  0.0549  0.0314  0.0118  0.0000\n",
       "  1.0000  0.9569  0.9451  0.7490  0.2314  0.0353  0.0196  0.0000  0.0314\n",
       "  1.0000  0.9529  0.9294  0.5451  0.0980  0.0627  0.0078  0.0000  0.0275\n",
       "  1.0000  0.9608  0.8392  0.3373  0.0275  0.0392  0.0000  0.0118  0.0000\n",
       "  0.9922  0.9412  0.6431  0.1922  0.0157  0.0196  0.0000  0.0196  0.0000\n",
       "  0.9373  0.9020  0.4745  0.1176  0.0314  0.0275  0.0000  0.0000  0.0627\n",
       "  0.9412  0.7412  0.1059  0.0000  0.0000  0.0000  0.0078  0.0196  0.1373\n",
       "  0.9529  0.5529  0.0941  0.0000  0.0000  0.0000  0.0039  0.0588  0.1333\n",
       "  0.9137  0.3059  0.0745  0.0000  0.0000  0.0000  0.0039  0.0902  0.1922\n",
       "  0.7608  0.1451  0.05"
      ]
     },
     "execution_count": 86,
     "metadata": {},
     "output_type": "execute_result"
    },
    {
     "data": {
      "text/plain": [
       "88  0.0000  0.0000  0.0000  0.0157  0.0745  0.3412\n",
       "  0.5490  0.1020  0.0392  0.0000  0.0000  0.0000  0.0353  0.0706  0.5490\n",
       "  0.3451  0.1020  0.0314  0.0000  0.0000  0.0000  0.0549  0.1647  0.7412\n",
       "  0.2118  0.0745  0.0196  0.0000  0.0000  0.0118  0.0588  0.3529  0.8471\n",
       "  0.1490  0.0314  0.0118  0.0000  0.0000  0.0431  0.0549  0.5098  0.8941\n",
       "  0.1137  0.0471  0.0078  0.0000  0.0431  0.0353  0.1176  0.7216  0.9255\n",
       "  0.0745  0.0275  0.0039  0.0000  0.0471  0.0471  0.2353  0.7882  0.9608\n",
       "  0.0392  0.0118  0.0000  0.0000  0.0431  0.0627  0.4196  0.8667  0.9843\n",
       "  0.0314  0.0235  0.0078  0.0157  0.0431  0.1059  0.5922  0.9216  1.0000\n",
       "  0.0235  0.0275  0.0000  0.0078  0.0314  0.1725  0.7373  0.9529  1.0000\n",
       "  0.0078  0.0157  0.0000  0.0000  0.0392  0.2863  0.8353  0.9647  1.0000\n",
       "  0.0000  0.0078  0.0000  0.0039  0.0706  0.4275  0.9059  0.9647  1.0000\n",
       "  0.0000  0.0157  0.0000  0.0196  0.1216  0.5294  0.9373  0.9765  1.0000\n",
       "  0.0000  0.0275  0.0000  0.0667  0.1529  0.7333  0.9647  1.0000  1.0000\n",
       "  0.0000  0.0196  0.0000  0.0588  0.2235  0.7922  0.9647  1.0000  1.0000\n",
       "  0.0039  0.0196  0.0118  0.0510  0.3412  0.8588  0.9725  1.0000  1.0000\n",
       "  0.0157  0.0157  0.0353  0.0627  0.4745  0.9137  0.9725  1.0000  1.0000\n",
       "  0.0196  0.0118  0.0549  0.1020  0.6039  0.9294  0.9725  1.0000  1.0000\n",
       "  0.0039  0.0353  0.0667  0.1804  0.7373  0.9373  0.9804  1.0000  1.0000\n",
       "  0.0000  0.0549  0.0863  0.2824  0.8510  0.9529  0.9843  1.0000  1.0000\n",
       "  0.0000  0.0784  0.1059  0.3647  0.9255  0.9529  0.9843  1.0000  1.0000\n",
       "  0.0157  0.0588  0.1137  0.5843  0.9451  0.9608  0.9922  1.0000  1.0000\n",
       "  0.0235  0.0824  0.1529  0.6706  0.9647  0.9725  1.0000  1.0000  1.0000\n",
       "  0.0392  0.1020  0.2078  0.8000  0.9647  0.9922  1.0000  1.0000  1.0000\n",
       "  0.0353  0.1059  0.2824  0.9020  0.9686  1.0000  1.0000  1.0000  0.9922\n",
       "  0.0275  0.1059  0.3843  0.9608  0.9882  1.0000  1.0000  1.0000  0.9843\n",
       "  0.0196  0.1176  0.5137  0.9765  1.0000  1.0000  1.0000  1.0000  0.9843\n",
       "  0.0196  0.1569  0.6471  0.9686  1.0000  1.0000  1.0000  1.0000  0.9804\n",
       "  0.0275  0.1843  0.7294  0.9608  1.0000  1.0000  1.0000  1.0000  0.9804\n",
       "  0.0941  0.1922  0.8275  0.9804  1.0000  1.0000  1.0000  1.0000  1.0000\n",
       "  0.0941  0.2588  0.8627  0.9843  0.9961  1.0000  1.0000  1.0000  1.0000\n",
       "  0.0902  0.3608  0.9059  0.9843  0.9961  1.0000  1.0000  1.0000  1.0000\n",
       "  0.0824  0.4745  0.9373  0.9843  0.9922  1.0000  1.0000  1.0000  1.0000\n",
       "  0.0902  0.5725  0.9333  0.9843  0.9961  1.0000  1.0000  1.0000  1.0000\n",
       "  0.1176  0.6667  0.9255  0.9804  1.0000  1.0000  1.0000  1.0000  1.0000\n",
       "  0.1608  0.7529  0.9333  0.9843  1.0000  1.0000  1.0000  1.0000  1.0000\n",
       "  0.1961  0.8118  0.9373  0.9922  1.0000  1.0000  1.0000  1.0000  1.0000\n",
       "  0.3294  0.8667  0.9451  0.9843  1.0000  1.0000  1.0000  1.0000  0.9922\n",
       "  0.3882  0.8902  0.9569  0.9843  1.0000  1.0000  1.0000  1.0000  0.9922\n",
       "  0.4667  0.9059  0.9647  0.9882  1.0000  1.0000  1.0000  1.0000  0.9922\n",
       "  0.5412  0.9216  0.9647  0.9922  1.0000  1.0000  1.0000  1.0000  0.9843\n",
       "  0.6196  0.9333  0.9725  1.0000  1.0000  1.0000  1.0000  0.9922  0.9843\n",
       "  0.7020  0.9373  0.9647  1.0000  1.0000  1.0000  1.0000  0.9922  0.9843\n",
       "  0.7686  0.9451  0.9608  1.0000  1.0000  1.0000  1.0000  0.9922  0.9843\n",
       "  0.8157  0.9451  0.9608  1.0000  1.0000  1.0000  1.0000  0.9922  0.9843\n",
       "  0.8627  0.9569  0.9804  1.0000  1.0000  1.0000  1.0000  1.0000  0.9922\n",
       "  0.8824  0.9569  0.9843  1.0000  1.0000  1.0000  1.0000  1.0000  0.9922\n",
       "  0.9059  0.9569  0.9922  1.0000  1.0000  1.0000  1.0000  1.0000  0.9922\n",
       "  0.9216  0.9647  0.9922  1.0000  1.0000  1.0000  1.0000  1.0000  0.9922\n",
       "  0.9294  0.9647  0.9922  1.0000  1.0000  1.0000  1.0000  1.0000  0.9843\n",
       "  0.9294  0.9686  0.9961  1.0000  0.9961  1.0000  1.0000  0.9922  0.9843\n",
       "  0.9412  0.9647  1.0000  1.0000  0.9922  1.0000  1.0000  0.9922  0.9843\n",
       "  0.9490  0.9647  1.0000  1.0000  0.9882  1.0000  1.0000  0.9843  0.9804\n",
       "  0.9647  0.9686  1.0000  1.0000  0.9961  1.0000  1.0000  0.9843  0.9804\n",
       "  0.9686  0.9804  1.0000  1.0000  0.9961  1.0000  1.0000  0.9843  0.9804\n",
       "  0.9725  0.9922  1.0000  1.0000  1.0000  1.0000  0.9922  0.9804  0.9804\n",
       "  0.9725  1.0000  1.0000  1.00"
      ]
     },
     "execution_count": 86,
     "metadata": {},
     "output_type": "execute_result"
    },
    {
     "data": {
      "text/plain": [
       "00  1.0000  1.0000  0.9922  0.9804  0.9725\n",
       "  0.9725  1.0000  1.0000  1.0000  1.0000  1.0000  0.9922  0.9804  0.9725\n",
       "  0.9765  1.0000  1.0000  1.0000  1.0000  1.0000  0.9843  0.9804  0.9725\n",
       "  0.9725  1.0000  1.0000  1.0000  1.0000  1.0000  0.9843  0.9725  0.9725\n",
       "  0.9686  1.0000  1.0000  1.0000  1.0000  0.9961  0.9843  0.9725  0.9725\n",
       "  0.9529  0.8941  0.9176  0.9843  1.0000  1.0000  0.9725  0.9294  0.9725\n",
       "  0.9569  0.9255  0.9373  1.0000  1.0000  1.0000  0.9725  0.9294  0.9686\n",
       "  0.9725  0.9490  0.9725  1.0000  1.0000  1.0000  1.0000  0.9922  1.0000\n",
       "  0.9804  0.9647  1.0000  1.0000  1.0000  1.0000  1.0000  1.0000  1.0000\n",
       "  0.9725  0.9922  1.0000  1.0000  1.0000  1.0000  1.0000  0.9922  0.9804\n",
       "  0.9569  0.9922  1.0000  1.0000  0.9686  0.9176  0.9137  0.8941  0.8627\n",
       "  0.9294  0.9647  1.0000  1.0000  0.8353  0.6745  0.6039  0.5686  0.5451\n",
       "  0.8824  0.9098  1.0000  0.9725  0.6784  0.4078  0.3137  0.2588  0.2549\n",
       "  0.8510  0.8824  0.9843  0.9490  0.5608  0.3451  0.2157  0.1490  0.1608\n",
       "  0.8196  0.8627  0.9725  0.9020  0.4667  0.2196  0.0745  0.0000  0.0275\n",
       "  0.8196  0.8745  0.9804  0.8549  0.3765  0.1098  0.0000  0.0000  0.0000\n",
       "  0.8353  0.9255  1.0000  0.8118  0.2863  0.0471  0.0000  0.0000  0.0000\n",
       "  0.8706  1.0000  1.0000  0.7725  0.2000  0.0039  0.0000  0.0000  0.0000\n",
       "  0.9176  1.0000  1.0000  0.7451  0.1412  0.0000  0.0275  0.0353  0.0000\n",
       "  0.9490  1.0000  1.0000  0.7255  0.0980  0.0039  0.0980  0.1490  0.0000\n",
       "  0.9725  1.0000  1.0000  0.7176  0.0824  0.0039  0.1373  0.2118  0.0275\n",
       "  0.7255  0.9804  1.0000  0.6863  0.1137  0.0000  0.0000  0.0314  0.1490\n",
       "  0.8039  1.0000  1.0000  0.6627  0.0941  0.0000  0.0196  0.1294  0.2078\n",
       "  0.9216  1.0000  1.0000  0.5725  0.0392  0.0000  0.1137  0.3176  0.3176\n",
       "  0.9922  1.0000  1.0000  0.4275  0.0000  0.0000  0.2039  0.5216  0.4471\n",
       "  1.0000  1.0000  0.9176  0.2588  0.0000  0.0000  0.2235  0.6627  0.5490\n",
       "  0.9843  1.0000  0.7882  0.1333  0.0000  0.0000  0.2196  0.7373  0.6314\n",
       "  0.9804  1.0000  0.7216  0.1216  0.0000  0.0000  0.2667  0.8353  0.7451\n",
       "  1.0000  1.0000  0.7569  0.2392  0.0353  0.0784  0.4000  0.9451  0.8824\n",
       "  1.0000  1.0000  0.8039  0.4000  0.1294  0.2039  0.5098  0.9843  0.9529\n",
       "  1.0000  1.0000  0.9922  0.7608  0.6039  0.6549  0.7804  1.0000  1.0000\n",
       "  1.0000  1.0000  1.0000  0.9765  0.8980  0.8941  0.9333  1.0000  1.0000\n",
       "  0.9412  0.9882  1.0000  0.9882  0.9569  0.9490  0.9373  0.9529  0.9255\n",
       "  0.9412  0.9569  0.9647  0.9686  0.9765  0.9804  0.9451  0.9255  0.9176\n",
       "  0.9843  0.9804  0.9569  0.9569  0.9961  1.0000  0.9686  0.9529  0.9373\n",
       "  1.0000  1.0000  0.9804  0.9765  1.0000  1.0000  1.0000  1.0000  1.0000\n",
       "  1.0000  1.0000  1.0000  1.0000  1.0000  1.0000  1.0000  1.0000  1.0000\n",
       "  1.0000  1.0000  1.0000  1.0000  1.0000  1.0000  1.0000  1.0000  1.0000\n",
       "  1.0000  1.0000  1.0000  1.0000  1.0000  1.0000  1.0000  1.0000  1.0000\n",
       "  1.0000  1.0000  1.0000  1.0000  1.0000  1.0000  1.0000  1.0000  1.0000\n",
       "  1.0000  1.0000  1.0000  1.0000  1.0000  1.0000  1.0000  1.0000  1.0000\n",
       "  1.0000  1.0000  1.0000  1.0000  1.0000  1.0000  1.0000  1.0000  1.0000\n",
       "  1.0000  1.0000  1.0000  1.0000  1.0000  1.0000  1.0000  1.0000  1.0000\n",
       "  1.0000  1.0000  1.0000  1.0000  1.0000  1.0000  1.0000  1.0000  1.0000\n",
       "  1.0000  1.0000  1.0000  1.0000  1.0000  1.0000  1.0000  1.0000  1.0000\n",
       "  1.0000  1.0000  1.0000  1.0000  1.0000  1.0000  1.0000  1.0000  1.0000\n",
       "  1.0000  1.0000  1.0000  1.0000  1.0000  1.0000  1.0000  1.0000  1.0000\n",
       "  1.0000  1.0000  1.0000  1.0000  1.0000  1.0000  1.0000  1.0000  1.0000\n",
       "  1.0000  1.0000  1.0000  1.0000  1.0000  1.0000  1.0000  1.0000  1.0000\n",
       "  1.0000  1.0000  1.0000  1.0000  1.0000  1.0000  1.0000  1.0000  1.0000\n",
       "  1.0000  1.0000  1.0000  1.0000  1.0000  1.0000  1.0000  1.0000  1.0000\n",
       "  1.0000  1.0000  1.0000  1.0000  1.0000  1.0000  1.0000  1.0000  1.0000\n",
       "  1.0000  1.0000  1.0000  1.0000  1.0000  1.0000  1.0000  1.0000  1.0000\n",
       "\n",
       "Columns 28 to 36\n",
       "  0.4157  0.2039  0.2039  0.1961  0.1490  0.1098  0.0980  0.0510  0.0000\n",
       "  0.2275  0.0784  0.0902  0.0706  0.0431  0.0000  0.0000  0.0000  0.0000\n",
       "  0.0784  0.0431  0.0549  0.0196  0.0196  0.0431  0.0235  0.0000  0.0000\n",
       "  0.0510  0.0784  0."
      ]
     },
     "execution_count": 86,
     "metadata": {},
     "output_type": "execute_result"
    },
    {
     "data": {
      "text/plain": [
       "0667  0.0275  0.0392  0.0353  0.0235  0.0039  0.0000\n",
       "  0.0510  0.0706  0.0118  0.0000  0.0157  0.0784  0.0588  0.0431  0.0275\n",
       "  0.0392  0.0196  0.0000  0.0039  0.0275  0.1255  0.0980  0.0706  0.0510\n",
       "  0.0196  0.0039  0.0000  0.0431  0.0471  0.1176  0.2078  0.3020  0.2902\n",
       "  0.0314  0.0078  0.0235  0.0392  0.0196  0.3725  0.6353  0.8784  0.8510\n",
       "  0.0000  0.0157  0.0588  0.0392  0.1804  0.8157  0.8863  0.9804  0.9137\n",
       "  0.0196  0.0078  0.0588  0.1804  0.5137  0.9804  0.9804  1.0000  0.9843\n",
       "  0.0275  0.0431  0.0706  0.4235  0.8314  1.0000  1.0000  1.0000  1.0000\n",
       "  0.0353  0.1059  0.1804  0.7137  0.9294  1.0000  1.0000  1.0000  1.0000\n",
       "  0.0667  0.1059  0.4392  0.9451  0.9451  0.9686  1.0000  1.0000  1.0000\n",
       "  0.1137  0.1608  0.7412  0.9804  0.9725  0.9529  0.9804  1.0000  1.0000\n",
       "  0.1098  0.4157  0.9137  1.0000  1.0000  0.9373  0.9529  0.9686  1.0000\n",
       "  0.0706  0.6980  0.9373  0.9725  1.0000  0.9059  0.9451  0.9804  1.0000\n",
       "  0.3608  0.9412  0.9804  0.9882  1.0000  0.9529  0.9647  1.0000  1.0000\n",
       "  0.5412  0.9451  0.9882  1.0000  1.0000  0.9529  0.9725  1.0000  1.0000\n",
       "  0.7765  0.9569  1.0000  1.0000  1.0000  0.9529  0.9725  1.0000  1.0000\n",
       "  0.9216  0.9608  1.0000  1.0000  1.0000  0.9569  0.9725  1.0000  1.0000\n",
       "  0.9490  0.9647  1.0000  1.0000  1.0000  0.9647  0.9725  1.0000  1.0000\n",
       "  0.9412  0.9686  1.0000  1.0000  1.0000  0.9647  0.9804  1.0000  1.0000\n",
       "  0.9608  0.9804  1.0000  1.0000  1.0000  0.9725  0.9843  1.0000  1.0000\n",
       "  0.9804  0.9961  0.9882  1.0000  1.0000  0.9804  0.9843  0.9922  1.0000\n",
       "  0.9686  1.0000  0.9765  1.0000  0.9882  0.9843  0.9922  0.9922  1.0000\n",
       "  0.9922  1.0000  0.9804  0.9922  0.9765  0.9922  0.9922  0.9922  1.0000\n",
       "  1.0000  1.0000  0.9882  0.9843  0.9647  1.0000  1.0000  0.9922  0.9922\n",
       "  1.0000  1.0000  0.9961  0.9843  0.9608  1.0000  1.0000  0.9922  0.9843\n",
       "  1.0000  1.0000  1.0000  0.9843  0.9686  1.0000  1.0000  0.9922  0.9843\n",
       "  1.0000  1.0000  1.0000  0.9765  0.9647  1.0000  1.0000  0.9922  0.9843\n",
       "  1.0000  1.0000  1.0000  0.9686  0.9647  1.0000  1.0000  0.9922  0.9804\n",
       "  1.0000  1.0000  1.0000  0.9647  0.9647  1.0000  1.0000  0.9922  0.9804\n",
       "  1.0000  1.0000  1.0000  0.9647  0.9529  0.9922  0.9922  0.9922  0.9922\n",
       "  1.0000  1.0000  1.0000  0.9725  0.9529  0.9922  0.9922  0.9922  0.9922\n",
       "  1.0000  1.0000  1.0000  0.9725  0.9529  0.9922  0.9922  0.9922  0.9922\n",
       "  1.0000  1.0000  1.0000  0.9725  0.9569  0.9922  0.9922  0.9922  0.9922\n",
       "  1.0000  1.0000  1.0000  0.9725  0.9647  0.9922  0.9922  0.9922  0.9922\n",
       "  1.0000  1.0000  1.0000  0.9804  0.9647  1.0000  0.9922  0.9922  0.9922\n",
       "  1.0000  1.0000  1.0000  0.9843  0.9725  1.0000  1.0000  0.9922  0.9922\n",
       "  1.0000  1.0000  0.9922  0.9843  0.9804  1.0000  1.0000  1.0000  0.9922\n",
       "  1.0000  1.0000  0.9922  0.9922  0.9843  1.0000  1.0000  1.0000  0.9922\n",
       "  1.0000  1.0000  0.9922  0.9922  0.9922  1.0000  1.0000  1.0000  0.9922\n",
       "  0.9922  0.9922  0.9922  1.0000  1.0000  1.0000  1.0000  1.0000  0.9922\n",
       "  0.9843  0.9843  0.9922  1.0000  1.0000  1.0000  1.0000  1.0000  0.9922\n",
       "  0.9843  0.9843  0.9922  1.0000  1.0000  1.0000  1.0000  1.0000  0.9922\n",
       "  0.9804  0.9843  0.9922  1.0000  1.0000  1.0000  1.0000  1.0000  0.9922\n",
       "  0.9725  0.9804  0.9922  1.0000  1.0000  1.0000  1.0000  1.0000  0.9922\n",
       "  0.9725  0.9804  0.9922  1.0000  1.0000  1.0000  1.0000  1.0000  0.9922\n",
       "  0.9922  0.9843  0.9843  0.9804  0.9843  0.9725  0.9804  0.9843  1.0000\n",
       "  0.9922  0.9843  0.9843  0.9843  0.9843  0.9725  0.9804  0.9843  1.0000\n",
       "  0.9922  0.9843  0.9843  0.9843  0.9843  0.9804  0.9804  0.9843  1.0000\n",
       "  0.9922  0.9843  0.9843  0.9843  0.9843  0.9804  0.9804  0.9843  1.0000\n",
       "  0.9922  0.9843  0.9843  0.9843  0.9843  0.9804  0.9843  0.9843  1.0000\n",
       "  0.9922  0.9843  0.9843  0.9843  0.9922  0.9804  0.9843  0.9922  1.0000\n",
       "  0.9922  0.9843  0.9843  0.9922  0.9922  0.9843  0.9843  0.9922  1.0000\n",
       "  0.9843  0.9843  0.9843  0.9922  0.9922  0.9843  0.9843  0.9922  1.0000\n",
       "  0.9843  0.9843  0.9922  0.9922  1.0000  0.9922  0.9922  0.9922  1.0000\n",
       "  0.9843  0.9843  0.9922  1.0000  1.0000  0.9922  0.9922  0.9922  1.0000\n",
       "  0.9843  0.9843  0.9922  1.0000  1.0000  0.9922  0.9922  1.0000  1.0000\n",
       "  0.9843  0.9843  0.9922  1."
      ]
     },
     "execution_count": 86,
     "metadata": {},
     "output_type": "execute_result"
    },
    {
     "data": {
      "text/plain": [
       "0000  1.0000  1.0000  1.0000  1.0000  1.0000\n",
       "  0.9843  0.9843  0.9922  1.0000  1.0000  1.0000  1.0000  1.0000  1.0000\n",
       "  0.9843  0.9843  0.9922  1.0000  1.0000  1.0000  1.0000  1.0000  1.0000\n",
       "  0.9843  0.9843  0.9922  1.0000  1.0000  1.0000  1.0000  1.0000  1.0000\n",
       "  0.9843  0.9843  0.9922  1.0000  1.0000  1.0000  1.0000  1.0000  1.0000\n",
       "  0.9843  0.9922  1.0000  1.0000  1.0000  1.0000  1.0000  1.0000  1.0000\n",
       "  0.9843  0.9922  1.0000  1.0000  1.0000  1.0000  1.0000  1.0000  1.0000\n",
       "  0.9843  0.9922  1.0000  1.0000  1.0000  1.0000  1.0000  1.0000  1.0000\n",
       "  0.9843  0.9922  1.0000  1.0000  1.0000  1.0000  1.0000  1.0000  1.0000\n",
       "  0.9843  0.9922  1.0000  1.0000  1.0000  1.0000  1.0000  1.0000  1.0000\n",
       "  0.9843  0.9922  1.0000  1.0000  1.0000  1.0000  1.0000  1.0000  1.0000\n",
       "  0.9843  0.9922  1.0000  1.0000  1.0000  1.0000  1.0000  1.0000  1.0000\n",
       "  0.9843  0.9922  1.0000  1.0000  1.0000  1.0000  1.0000  1.0000  1.0000\n",
       "  0.9804  0.9922  1.0000  1.0000  1.0000  1.0000  1.0000  1.0000  1.0000\n",
       "  0.9804  0.9922  1.0000  1.0000  1.0000  1.0000  1.0000  1.0000  1.0000\n",
       "  0.9804  0.9922  1.0000  1.0000  1.0000  1.0000  1.0000  1.0000  1.0000\n",
       "  0.9804  0.9922  1.0000  1.0000  1.0000  1.0000  1.0000  1.0000  1.0000\n",
       "  0.9804  0.9922  1.0000  1.0000  1.0000  1.0000  1.0000  1.0000  1.0000\n",
       "  0.9804  0.9922  1.0000  1.0000  1.0000  1.0000  1.0000  1.0000  1.0000\n",
       "  0.9804  0.9922  1.0000  1.0000  1.0000  1.0000  1.0000  1.0000  1.0000\n",
       "  0.9804  0.9922  1.0000  1.0000  1.0000  1.0000  1.0000  1.0000  1.0000\n",
       "  1.0000  1.0000  1.0000  1.0000  1.0000  1.0000  1.0000  1.0000  1.0000\n",
       "  1.0000  1.0000  1.0000  1.0000  1.0000  1.0000  1.0000  1.0000  1.0000\n",
       "  1.0000  1.0000  1.0000  1.0000  1.0000  0.9451  0.9098  0.9373  1.0000\n",
       "  1.0000  0.9922  0.9569  0.9608  0.9922  0.8471  0.8118  0.8784  1.0000\n",
       "  0.9647  0.9647  0.9529  0.9490  0.9451  0.8549  0.8314  0.8941  1.0000\n",
       "  0.8745  0.9451  0.9569  0.9255  0.8471  0.8667  0.8275  0.8353  0.9608\n",
       "  0.6392  0.8510  0.9647  0.8314  0.5922  0.6353  0.5725  0.5333  0.6275\n",
       "  0.4392  0.7922  0.9804  0.7569  0.3843  0.3686  0.2941  0.2157  0.3098\n",
       "  0.3843  0.7098  0.9647  0.6706  0.3373  0.2706  0.1804  0.0980  0.1608\n",
       "  0.2824  0.6078  0.9137  0.5608  0.2314  0.0941  0.0000  0.0000  0.0275\n",
       "  0.1843  0.4745  0.8235  0.4353  0.1765  0.0157  0.0000  0.0000  0.0000\n",
       "  0.1020  0.3333  0.6824  0.3333  0.1373  0.0314  0.0000  0.0000  0.0353\n",
       "  0.0196  0.1922  0.4863  0.2235  0.0863  0.0824  0.0000  0.0000  0.0706\n",
       "  0.0000  0.0824  0.2627  0.1412  0.0235  0.0941  0.0353  0.0000  0.0510\n",
       "  0.0000  0.0314  0.0941  0.1176  0.0000  0.0745  0.0392  0.0000  0.0000\n",
       "  0.0000  0.0235  0.0118  0.1451  0.0039  0.0510  0.0314  0.0000  0.0000\n",
       "  0.0078  0.0000  0.0235  0.0235  0.0000  0.2235  0.0000  0.0000  0.0000\n",
       "  0.0627  0.0000  0.0353  0.0275  0.0000  0.2824  0.1098  0.0392  0.0000\n",
       "  0.1451  0.0000  0.0196  0.0118  0.0353  0.3843  0.2784  0.1373  0.0000\n",
       "  0.2078  0.0000  0.0000  0.0000  0.0275  0.4980  0.4510  0.2118  0.0353\n",
       "  0.2157  0.0000  0.0000  0.0000  0.0000  0.5961  0.5529  0.2157  0.0118\n",
       "  0.2118  0.0000  0.0000  0.0000  0.0000  0.7020  0.6157  0.1725  0.0000\n",
       "  0.2627  0.0000  0.0000  0.0588  0.0549  0.8392  0.6902  0.1686  0.0000\n",
       "  0.3922  0.1725  0.1176  0.2667  0.2196  1.0000  0.8118  0.2588  0.0902\n",
       "  0.5529  0.3294  0.3255  0.3804  0.4549  1.0000  0.8706  0.4510  0.1647\n",
       "  0.8353  0.7412  0.7451  0.7765  0.8510  1.0000  1.0000  0.7333  0.5529\n",
       "  0.9686  0.9569  0.9804  0.9882  1.0000  1.0000  1.0000  0.9176  0.8118\n",
       "  0.9373  0.9804  1.0000  1.0000  1.0000  1.0000  1.0000  0.9569  0.9020\n",
       "  0.9255  0.9569  0.9922  1.0000  1.0000  0.9569  0.9647  0.9686  0.9608\n",
       "  0.9412  0.9412  0.9725  1.0000  1.0000  0.9020  0.9451  1.0000  1.0000\n",
       "  0.9765  0.9569  0.9804  1.0000  1.0000  0.8980  0.9569  1.0000  1.0000\n",
       "  1.0000  1.0000  0.9961  1.0000  1.0000  0.9176  0.9804  1.0000  1.0000\n",
       "  1.0000  1.0000  1.0000  1.0000  1.0000  1.0000  1.0000  1.0000  1.0000\n",
       "  1.0000  1.0000  1.0000  1.0000  1.0000  1.0000  1.0000  1.0000  1.0000\n",
       "  1.0000  1.0000  1.0000  1.0000  1.0000  1.0000  1.0000  1.0000  1.0000\n",
       "  1.0000  1.0000  1.0000  1.0000  1."
      ]
     },
     "execution_count": 86,
     "metadata": {},
     "output_type": "execute_result"
    },
    {
     "data": {
      "text/plain": [
       "0000  1.0000  1.0000  1.0000  1.0000\n",
       "  1.0000  1.0000  1.0000  1.0000  1.0000  1.0000  1.0000  1.0000  1.0000\n",
       "  1.0000  1.0000  1.0000  1.0000  1.0000  1.0000  1.0000  1.0000  1.0000\n",
       "  1.0000  1.0000  1.0000  1.0000  1.0000  1.0000  1.0000  1.0000  1.0000\n",
       "  1.0000  1.0000  1.0000  1.0000  1.0000  1.0000  1.0000  1.0000  1.0000\n",
       "  1.0000  1.0000  1.0000  1.0000  1.0000  1.0000  1.0000  1.0000  1.0000\n",
       "  1.0000  1.0000  1.0000  1.0000  1.0000  1.0000  1.0000  1.0000  1.0000\n",
       "  1.0000  1.0000  1.0000  1.0000  1.0000  1.0000  1.0000  1.0000  1.0000\n",
       "  1.0000  1.0000  1.0000  1.0000  1.0000  1.0000  1.0000  1.0000  1.0000\n",
       "  1.0000  1.0000  1.0000  1.0000  1.0000  1.0000  1.0000  1.0000  1.0000\n",
       "  1.0000  1.0000  1.0000  1.0000  1.0000  1.0000  1.0000  1.0000  1.0000\n",
       "  1.0000  1.0000  1.0000  1.0000  1.0000  1.0000  1.0000  1.0000  1.0000\n",
       "  1.0000  1.0000  1.0000  1.0000  1.0000  1.0000  1.0000  1.0000  1.0000\n",
       "\n",
       "Columns 37 to 45\n",
       "  0.0000  0.0000  0.0078  0.0510  0.1294  0.1843  0.7059  0.9529  1.0000\n",
       "  0.0000  0.0078  0.0078  0.0039  0.0863  0.1529  0.4196  0.8745  0.9686\n",
       "  0.0000  0.0000  0.0000  0.0000  0.0549  0.1059  0.1490  0.6431  0.9176\n",
       "  0.0000  0.0000  0.0000  0.0118  0.0275  0.0471  0.0824  0.3176  0.8000\n",
       "  0.0000  0.0000  0.0000  0.0000  0.0000  0.0314  0.0902  0.1020  0.5569\n",
       "  0.0275  0.0000  0.0000  0.0000  0.0000  0.0314  0.0627  0.0471  0.2706\n",
       "  0.1765  0.0431  0.0000  0.0157  0.0000  0.0000  0.0157  0.0549  0.1255\n",
       "  0.5333  0.1804  0.0196  0.0039  0.0118  0.0000  0.0000  0.0431  0.1137\n",
       "  0.8510  0.5490  0.0431  0.0431  0.0039  0.0039  0.0196  0.0039  0.1137\n",
       "  0.9725  0.7843  0.2980  0.0627  0.0353  0.0000  0.0000  0.0078  0.0902\n",
       "  1.0000  0.9569  0.5725  0.0941  0.0745  0.0000  0.0000  0.0235  0.0627\n",
       "  1.0000  0.9882  0.7765  0.2000  0.0863  0.0000  0.0078  0.0353  0.0314\n",
       "  0.9843  1.0000  0.9216  0.3843  0.0784  0.0078  0.0196  0.0118  0.0000\n",
       "  1.0000  1.0000  0.9843  0.5686  0.1098  0.0118  0.0000  0.0000  0.0000\n",
       "  1.0000  1.0000  0.9686  0.7529  0.1922  0.0157  0.0000  0.0000  0.0000\n",
       "  1.0000  1.0000  0.9490  0.8941  0.2745  0.0275  0.0000  0.0000  0.0000\n",
       "  1.0000  1.0000  1.0000  0.9647  0.5686  0.0549  0.0510  0.0118  0.0196\n",
       "  1.0000  1.0000  1.0000  0.9647  0.6784  0.1412  0.0549  0.0039  0.0196\n",
       "  1.0000  1.0000  1.0000  0.9725  0.8039  0.2745  0.0588  0.0000  0.0275\n",
       "  1.0000  1.0000  1.0000  0.9725  0.8902  0.4157  0.0784  0.0000  0.0353\n",
       "  1.0000  1.0000  1.0000  0.9725  0.9176  0.5412  0.1137  0.0118  0.0353\n",
       "  1.0000  1.0000  1.0000  0.9804  0.9176  0.6863  0.1882  0.0392  0.0431\n",
       "  1.0000  1.0000  1.0000  0.9843  0.9412  0.8314  0.2863  0.0863  0.0353\n",
       "  1.0000  1.0000  1.0000  0.9843  0.9569  0.9255  0.3686  0.1216  0.0392\n",
       "  1.0000  1.0000  1.0000  0.9922  0.9725  0.9412  0.5922  0.1255  0.0588\n",
       "  1.0000  1.0000  1.0000  1.0000  0.9843  0.9529  0.6863  0.1804  0.0784\n",
       "  0.9922  1.0000  1.0000  1.0000  1.0000  0.9647  0.8235  0.2588  0.0980\n",
       "  0.9843  0.9922  1.0000  1.0000  1.0000  0.9725  0.9255  0.3608  0.0980\n",
       "  0.9843  0.9843  1.0000  1.0000  1.0000  0.9882  0.9725  0.4863  0.1020\n",
       "  0.9804  0.9843  1.0000  1.0000  1.0000  1.0000  0.9765  0.6314  0.1255\n",
       "  0.9725  0.9804  1.0000  1.0000  1.0000  1.0000  0.9529  0.7765  0.1725\n",
       "  0.9725  0.9804  1.0000  1.0000  1.0000  1.0000  0.9373  0.8627  0.2039\n",
       "  1.0000  1.0000  1.0000  1.0000  1.0000  1.0000  0.9922  0.8902  0.3569\n",
       "  1.0000  1.0000  1.0000  1.0000  1.0000  1.0000  0.9922  0.9137  0.4392\n",
       "  1.0000  1.0000  1.0000  1.0000  1.0000  1.0000  0.9922  0.9451  0.5647\n",
       "  1.0000  1.0000  1.0000  1.0000  1.0000  1.0000  0.9922  0.9529  0.6784\n",
       "  1.0000  1.0000  1.0000  1.0000  1.0000  1.0000  0.9765  0.9529  0.7686\n",
       "  1.0000  1.0000  1.0000  1.0000  1.0000  1.0000  0.9725  0.9490  0.8275\n",
       "  1.0000  1.0000  1.0000  1.0000  1.0000  1.0000  0.9882  0.9529  0.8784\n",
       "  1.0000  1.0000  1.0000  1.0000  1.0000  1.0000  0.9961  0.9647  0.9098\n",
       "  0.9922  1.0000  1.0000  1.0000  1.0000  1.0000  0.9882  0.9647  0.9137\n",
       "  0.9922  1.0000  1.0000  1.0000  1.0000  1.0000  0.9922  0.9725  0.9137\n",
       "  0.9922  1.0000  1.0000  1.0000  1.0000  1.0000  0.9961  0.9725  0.9098\n",
       "  0.9922  1.0000  1.0000  "
      ]
     },
     "execution_count": 86,
     "metadata": {},
     "output_type": "execute_result"
    },
    {
     "data": {
      "text/plain": [
       "1.0000  1.0000  0.9961  1.0000  0.9804  0.8980\n",
       "  0.9922  0.9922  1.0000  1.0000  1.0000  0.9961  1.0000  0.9804  0.9059\n",
       "  0.9922  0.9922  1.0000  1.0000  1.0000  1.0000  1.0000  0.9765  0.9255\n",
       "  0.9922  0.9922  1.0000  1.0000  1.0000  1.0000  1.0000  0.9647  0.9529\n",
       "  0.9922  0.9922  1.0000  1.0000  1.0000  1.0000  1.0000  0.9608  0.9529\n",
       "  1.0000  1.0000  1.0000  1.0000  1.0000  0.9922  0.9804  0.9725  0.9529\n",
       "  1.0000  1.0000  1.0000  1.0000  1.0000  0.9961  0.9843  0.9725  0.9529\n",
       "  1.0000  1.0000  1.0000  1.0000  1.0000  1.0000  0.9843  0.9608  0.9529\n",
       "  1.0000  1.0000  1.0000  1.0000  1.0000  1.0000  0.9843  0.9490  0.9569\n",
       "  1.0000  1.0000  1.0000  1.0000  1.0000  1.0000  0.9922  0.9569  0.9569\n",
       "  1.0000  1.0000  1.0000  1.0000  1.0000  1.0000  0.9922  0.9686  0.9647\n",
       "  1.0000  1.0000  1.0000  1.0000  1.0000  0.9961  0.9922  0.9804  0.9725\n",
       "  1.0000  1.0000  1.0000  1.0000  1.0000  0.9843  0.9922  0.9843  0.9804\n",
       "  1.0000  1.0000  1.0000  1.0000  1.0000  1.0000  0.9922  0.9922  0.9608\n",
       "  1.0000  1.0000  1.0000  1.0000  1.0000  1.0000  1.0000  0.9922  0.9647\n",
       "  1.0000  1.0000  1.0000  1.0000  1.0000  1.0000  0.9961  1.0000  0.9765\n",
       "  1.0000  1.0000  1.0000  1.0000  1.0000  1.0000  0.9922  1.0000  0.9922\n",
       "  1.0000  1.0000  1.0000  1.0000  0.9922  1.0000  0.9882  1.0000  1.0000\n",
       "  1.0000  0.9922  0.9922  0.9922  0.9843  1.0000  0.9843  1.0000  1.0000\n",
       "  1.0000  0.9922  0.9922  0.9922  0.9765  1.0000  0.9843  1.0000  1.0000\n",
       "  1.0000  0.9922  0.9922  0.9922  0.9647  1.0000  0.9843  1.0000  1.0000\n",
       "  1.0000  1.0000  1.0000  1.0000  1.0000  1.0000  1.0000  1.0000  1.0000\n",
       "  1.0000  1.0000  1.0000  1.0000  1.0000  1.0000  1.0000  1.0000  1.0000\n",
       "  1.0000  1.0000  1.0000  1.0000  1.0000  1.0000  1.0000  1.0000  1.0000\n",
       "  1.0000  1.0000  1.0000  1.0000  1.0000  1.0000  1.0000  1.0000  1.0000\n",
       "  1.0000  1.0000  1.0000  1.0000  1.0000  1.0000  1.0000  1.0000  1.0000\n",
       "  1.0000  1.0000  1.0000  1.0000  1.0000  1.0000  1.0000  1.0000  1.0000\n",
       "  1.0000  1.0000  1.0000  1.0000  1.0000  1.0000  1.0000  1.0000  1.0000\n",
       "  1.0000  1.0000  1.0000  1.0000  1.0000  1.0000  1.0000  1.0000  1.0000\n",
       "  1.0000  1.0000  1.0000  1.0000  1.0000  1.0000  1.0000  1.0000  1.0000\n",
       "  1.0000  1.0000  1.0000  1.0000  1.0000  1.0000  1.0000  1.0000  1.0000\n",
       "  1.0000  1.0000  1.0000  1.0000  1.0000  1.0000  1.0000  1.0000  1.0000\n",
       "  1.0000  1.0000  1.0000  1.0000  1.0000  1.0000  1.0000  1.0000  1.0000\n",
       "  1.0000  1.0000  1.0000  1.0000  1.0000  1.0000  1.0000  1.0000  1.0000\n",
       "  1.0000  1.0000  1.0000  1.0000  1.0000  1.0000  1.0000  1.0000  1.0000\n",
       "  1.0000  1.0000  1.0000  1.0000  1.0000  1.0000  1.0000  1.0000  1.0000\n",
       "  1.0000  1.0000  1.0000  1.0000  1.0000  1.0000  1.0000  1.0000  1.0000\n",
       "  1.0000  0.9725  0.8667  0.9216  1.0000  1.0000  1.0000  0.9451  1.0000\n",
       "  1.0000  0.9804  0.8745  0.9176  1.0000  1.0000  0.9843  0.9373  1.0000\n",
       "  1.0000  1.0000  0.8941  0.9020  1.0000  1.0000  0.9529  0.9255  1.0000\n",
       "  1.0000  1.0000  0.9137  0.8980  0.9569  0.9804  0.9255  0.9098  1.0000\n",
       "  1.0000  1.0000  0.9843  0.9255  0.9529  0.9569  0.9255  0.9098  0.9725\n",
       "  1.0000  1.0000  1.0000  0.9804  0.9765  0.9804  0.9529  0.9412  0.9608\n",
       "  0.8627  1.0000  1.0000  0.9882  1.0000  1.0000  0.9882  0.9686  0.9686\n",
       "  0.6275  0.9804  1.0000  1.0000  1.0000  0.9804  0.9765  0.9529  0.9490\n",
       "  0.4078  0.9020  1.0000  1.0000  0.9255  0.7843  0.7686  0.7294  0.8118\n",
       "  0.3137  0.8784  1.0000  0.9176  0.5804  0.3843  0.3451  0.3059  0.3922\n",
       "  0.2941  0.8824  1.0000  0.7059  0.3020  0.1373  0.1490  0.1412  0.1843\n",
       "  0.3098  0.8510  0.8863  0.4667  0.0941  0.0000  0.0314  0.0627  0.0510\n",
       "  0.3176  0.7804  0.7412  0.2980  0.0392  0.0000  0.0157  0.0706  0.0196\n",
       "  0.2824  0.6706  0.5804  0.2275  0.0000  0.0000  0.1294  0.2706  0.1137\n",
       "  0.2000  0.5020  0.4078  0.1922  0.0039  0.1020  0.5294  0.8000  0.4745\n",
       "  0.1176  0.3765  0.2784  0.1647  0.0000  0.1569  0.7412  1.0000  0.6549\n",
       "  0.0000  0.2000  0.4000  0.2000  0.0000  0.0549  0.6863  1.0000  0.9647\n",
       "  0.0275  0.1843  0.3569  0.2000  0.0000  0.1020  0.7373  1.0000  0.9765\n",
       "  0.0549  0.1608  0.2784  0.1804  0.0000  0.1020  0.6784  1.0000  0.7686\n",
       "  0.0627  0.1216  0.2078  0.1451  "
      ]
     },
     "execution_count": 86,
     "metadata": {},
     "output_type": "execute_result"
    },
    {
     "data": {
      "text/plain": [
       "0.0000  0.0980  0.5569  0.8902  0.5765\n",
       "  0.0196  0.0824  0.1647  0.1098  0.0000  0.0000  0.2510  0.4353  0.2078\n",
       "  0.0000  0.0941  0.2235  0.1725  0.0275  0.0235  0.1294  0.1647  0.0118\n",
       "  0.0000  0.1961  0.4000  0.3412  0.0980  0.0039  0.0392  0.0000  0.0000\n",
       "  0.1059  0.3647  0.6275  0.5882  0.3804  0.1804  0.1098  0.0000  0.0000\n",
       "  0.1843  0.4627  0.7922  0.9176  0.5647  0.3569  0.2549  0.1804  0.0941\n",
       "  0.5608  0.7529  0.9765  1.0000  0.9255  0.6431  0.4078  0.3373  0.3804\n",
       "  0.8039  0.8980  1.0000  1.0000  1.0000  0.9373  0.8784  0.8588  0.8706\n",
       "  0.8745  0.8824  0.9137  0.9529  0.9725  1.0000  1.0000  1.0000  1.0000\n",
       "  0.9294  0.8745  0.8588  0.8824  0.9255  0.9961  1.0000  1.0000  1.0000\n",
       "  1.0000  0.9647  0.9020  0.9020  0.9294  0.9804  1.0000  1.0000  1.0000\n",
       "  1.0000  1.0000  1.0000  0.9804  0.9843  0.9804  0.9451  0.9451  0.9647\n",
       "  1.0000  1.0000  1.0000  1.0000  1.0000  0.9647  0.9059  0.9020  0.9725\n",
       "  1.0000  1.0000  1.0000  1.0000  1.0000  1.0000  1.0000  1.0000  1.0000\n",
       "  1.0000  1.0000  1.0000  1.0000  1.0000  1.0000  1.0000  1.0000  1.0000\n",
       "  1.0000  1.0000  1.0000  1.0000  1.0000  1.0000  1.0000  1.0000  1.0000\n",
       "  1.0000  1.0000  1.0000  1.0000  1.0000  1.0000  1.0000  1.0000  1.0000\n",
       "  1.0000  1.0000  1.0000  1.0000  1.0000  1.0000  1.0000  1.0000  1.0000\n",
       "  1.0000  1.0000  1.0000  1.0000  1.0000  1.0000  1.0000  1.0000  1.0000\n",
       "  1.0000  1.0000  1.0000  1.0000  1.0000  1.0000  1.0000  1.0000  1.0000\n",
       "  1.0000  1.0000  1.0000  1.0000  1.0000  1.0000  1.0000  1.0000  1.0000\n",
       "  1.0000  1.0000  1.0000  1.0000  1.0000  1.0000  1.0000  1.0000  1.0000\n",
       "  1.0000  1.0000  1.0000  1.0000  1.0000  1.0000  1.0000  1.0000  1.0000\n",
       "  1.0000  1.0000  1.0000  1.0000  1.0000  1.0000  1.0000  1.0000  1.0000\n",
       "  1.0000  1.0000  1.0000  1.0000  1.0000  1.0000  1.0000  1.0000  1.0000\n",
       "  1.0000  1.0000  1.0000  1.0000  1.0000  1.0000  1.0000  1.0000  1.0000\n",
       "  1.0000  1.0000  1.0000  1.0000  1.0000  1.0000  1.0000  1.0000  1.0000\n",
       "  1.0000  1.0000  1.0000  1.0000  1.0000  1.0000  1.0000  1.0000  1.0000\n",
       "  1.0000  1.0000  1.0000  1.0000  1.0000  1.0000  1.0000  1.0000  1.0000\n",
       "\n",
       "Columns 46 to 54\n",
       "  1.0000  1.0000  1.0000  1.0000  1.0000  1.0000  1.0000  1.0000  1.0000\n",
       "  1.0000  1.0000  1.0000  1.0000  1.0000  1.0000  1.0000  1.0000  1.0000\n",
       "  0.9843  1.0000  1.0000  1.0000  1.0000  1.0000  1.0000  1.0000  1.0000\n",
       "  0.9255  0.9804  0.9765  1.0000  1.0000  1.0000  1.0000  1.0000  1.0000\n",
       "  0.8980  0.9647  0.9647  1.0000  1.0000  1.0000  1.0000  1.0000  1.0000\n",
       "  0.8078  0.9255  0.9647  1.0000  1.0000  1.0000  1.0000  1.0000  1.0000\n",
       "  0.5843  0.8902  0.9647  1.0000  1.0000  1.0000  1.0000  1.0000  1.0000\n",
       "  0.3490  0.8863  0.9647  1.0000  1.0000  1.0000  1.0000  1.0000  1.0000\n",
       "  0.2118  0.6431  0.9647  0.9922  0.9843  1.0000  0.9961  0.9725  1.0000\n",
       "  0.1647  0.5020  0.9255  0.9843  0.9843  1.0000  1.0000  0.9804  0.9922\n",
       "  0.1176  0.3098  0.8196  0.9843  0.9882  1.0000  1.0000  0.9961  0.9843\n",
       "  0.1059  0.1647  0.6471  0.9961  1.0000  0.9961  1.0000  1.0000  0.9922\n",
       "  0.0863  0.0824  0.4235  0.9725  1.0000  0.9922  0.9804  1.0000  1.0000\n",
       "  0.0471  0.0588  0.2157  0.8784  0.9922  1.0000  0.9686  1.0000  1.0000\n",
       "  0.0000  0.0667  0.0824  0.7333  0.9569  1.0000  0.9765  1.0000  1.0000\n",
       "  0.0000  0.0863  0.0275  0.6235  0.9255  1.0000  0.9843  1.0000  1.0000\n",
       "  0.0235  0.0000  0.0314  0.3373  0.8824  0.9608  0.9922  1.0000  1.0000\n",
       "  0.0196  0.0000  0.0275  0.2745  0.7647  0.9647  0.9843  1.0000  1.0000\n",
       "  0.0157  0.0000  0.0235  0.1922  0.5804  0.9529  0.9804  0.9843  1.0000\n",
       "  0.0157  0.0000  0.0118  0.1294  0.4118  0.9373  0.9647  0.9647  1.0000\n",
       "  0.0235  0.0000  0.0000  0.1059  0.2706  0.8588  0.9529  0.9686  1.0000\n",
       "  0.0196  0.0078  0.0000  0.1020  0.1686  0.7020  0.9373  0.9647  1.0000\n",
       "  0.0118  0.0157  0.0000  0.0824  0.1020  0.5255  0.9098  0.9608  0.9922\n",
       "  0.0039  0.0157  0.0000  0.0588  0.0549  0.3961  0.8706  0.9451  0.9843\n",
       "  0.0039  0.0275  0.0000  0.0235  0.0863  0.1922  0.7961  0.9333  0.9843\n",
       "  0.0118  0.0118  0.0000  0.0118  0.0627  0.1529  0.7059  0.9373  0.9843\n",
       "  0.0235  0.0000  0.0000  0.0078  0.0275  0.1059  0.5647  0.9373  0.9804\n",
       "  0.0235  0.0000  0.0000"
      ]
     },
     "execution_count": 86,
     "metadata": {},
     "output_type": "execute_result"
    },
    {
     "data": {
      "text/plain": [
       "  0.0000  0.0078  0.0745  0.4353  0.9294  0.9804\n",
       "  0.0314  0.0000  0.0000  0.0000  0.0078  0.0549  0.3294  0.8784  0.9843\n",
       "  0.0392  0.0000  0.0000  0.0000  0.0157  0.0549  0.2471  0.7725  0.9804\n",
       "  0.0627  0.0000  0.0000  0.0000  0.0314  0.0510  0.1843  0.6471  0.9765\n",
       "  0.0863  0.0000  0.0000  0.0000  0.0392  0.0471  0.1451  0.5647  0.9608\n",
       "  0.0941  0.0275  0.0196  0.0196  0.0000  0.0588  0.0000  0.3294  0.8510\n",
       "  0.0784  0.0392  0.0078  0.0235  0.0039  0.0471  0.0118  0.2667  0.8078\n",
       "  0.0667  0.0588  0.0039  0.0275  0.0078  0.0275  0.0314  0.1647  0.7255\n",
       "  0.0706  0.0784  0.0039  0.0275  0.0078  0.0196  0.0510  0.0902  0.6275\n",
       "  0.1176  0.0824  0.0157  0.0235  0.0039  0.0118  0.0510  0.0549  0.5020\n",
       "  0.2157  0.0784  0.0314  0.0196  0.0039  0.0157  0.0510  0.0549  0.3765\n",
       "  0.3255  0.0745  0.0392  0.0078  0.0000  0.0196  0.0275  0.0784  0.2510\n",
       "  0.4039  0.0706  0.0510  0.0078  0.0000  0.0275  0.0157  0.0902  0.1765\n",
       "  0.5176  0.1098  0.0471  0.0000  0.0000  0.0392  0.0078  0.0392  0.1608\n",
       "  0.5961  0.1412  0.0745  0.0000  0.0000  0.0314  0.0000  0.0431  0.1255\n",
       "  0.7098  0.1725  0.0980  0.0000  0.0078  0.0078  0.0000  0.0510  0.0941\n",
       "  0.8118  0.2078  0.1020  0.0000  0.0039  0.0000  0.0000  0.0667  0.0706\n",
       "  0.8667  0.2745  0.0980  0.0000  0.0000  0.0000  0.0000  0.0627  0.0706\n",
       "  0.8941  0.3686  0.1020  0.0000  0.0000  0.0000  0.0000  0.0510  0.0706\n",
       "  0.9020  0.4667  0.1176  0.0000  0.0000  0.0000  0.0118  0.0235  0.0745\n",
       "  0.9020  0.5373  0.1333  0.0000  0.0000  0.0000  0.0157  0.0039  0.0706\n",
       "  0.8706  0.7098  0.1647  0.0000  0.0000  0.0000  0.0000  0.0431  0.0549\n",
       "  0.9020  0.7451  0.1922  0.0000  0.0000  0.0000  0.0000  0.0431  0.0549\n",
       "  0.9333  0.7922  0.2431  0.0000  0.0000  0.0000  0.0000  0.0392  0.0510\n",
       "  0.9451  0.8353  0.2863  0.0000  0.0000  0.0000  0.0000  0.0314  0.0588\n",
       "  0.9529  0.8667  0.3451  0.0000  0.0000  0.0000  0.0000  0.0275  0.0627\n",
       "  0.9529  0.8941  0.4353  0.0000  0.0000  0.0118  0.0000  0.0157  0.0627\n",
       "  0.9569  0.9294  0.5176  0.0078  0.0000  0.0196  0.0039  0.0000  0.0588\n",
       "  0.9608  0.9529  0.5765  0.0196  0.0000  0.0392  0.0078  0.0000  0.0471\n",
       "  0.9804  0.9451  0.6784  0.0510  0.0000  0.0157  0.0039  0.0000  0.0353\n",
       "  0.9843  0.9647  0.7176  0.0667  0.0000  0.0235  0.0078  0.0000  0.0314\n",
       "  0.9922  0.9843  0.7804  0.0902  0.0078  0.0275  0.0118  0.0000  0.0275\n",
       "  1.0000  1.0000  0.8471  0.1255  0.0235  0.0275  0.0118  0.0039  0.0235\n",
       "  1.0000  1.0000  0.9098  0.1608  0.0314  0.0235  0.0118  0.0000  0.0157\n",
       "  1.0000  1.0000  0.9529  0.1922  0.0510  0.0235  0.0078  0.0000  0.0078\n",
       "  1.0000  1.0000  0.9765  0.2275  0.0627  0.0196  0.0078  0.0000  0.0039\n",
       "  0.9922  0.9961  0.9922  0.2431  0.0667  0.0157  0.0000  0.0000  0.0039\n",
       "  1.0000  0.9961  0.9922  0.4078  0.0549  0.0588  0.0118  0.0000  0.0000\n",
       "  1.0000  0.9961  0.9922  0.4275  0.0627  0.0627  0.0118  0.0000  0.0000\n",
       "  1.0000  0.9961  0.9922  0.4706  0.0784  0.0588  0.0157  0.0000  0.0000\n",
       "  1.0000  0.9961  0.9922  0.5216  0.0941  0.0510  0.0157  0.0000  0.0000\n",
       "  1.0000  0.9961  0.9922  0.5804  0.1216  0.0549  0.0235  0.0039  0.0000\n",
       "  1.0000  0.9961  0.9922  0.6314  0.1373  0.0549  0.0235  0.0118  0.0000\n",
       "  1.0000  0.9961  0.9922  0.6745  0.1569  0.0510  0.0275  0.0235  0.0000\n",
       "  1.0000  0.9961  0.9922  0.6980  0.1725  0.0549  0.0353  0.0314  0.0000\n",
       "  1.0000  1.0000  1.0000  0.7843  0.1882  0.0667  0.0784  0.0000  0.0039\n",
       "  1.0000  1.0000  1.0000  0.7961  0.2118  0.0745  0.0784  0.0000  0.0078\n",
       "  1.0000  1.0000  1.0000  0.8078  0.2392  0.0706  0.0784  0.0039  0.0157\n",
       "  1.0000  1.0000  1.0000  0.8275  0.2902  0.0784  0.0706  0.0118  0.0118\n",
       "  1.0000  1.0000  1.0000  0.8471  0.3412  0.0824  0.0706  0.0314  0.0039\n",
       "  1.0000  1.0000  1.0000  0.8588  0.3804  0.0784  0.0627  0.0392  0.0118\n",
       "  1.0000  1.0000  1.0000  0.8784  0.4118  0.0784  0.0627  0.0471  0.0078\n",
       "  1.0000  1.0000  1.0000  0.8824  0.4353  0.0745  0.0588  0.0471  0.0039\n",
       "  1.0000  1.0000  0.9176  0.9373  0.3804  0.0000  0.0000  0.0000  0.0863\n",
       "  1.0000  1.0000  0.9451  1.0000  0.5255  0.0275  0.0000  0.0000  0.0118\n",
       "  1.0000  1.0000  0.9569  1.0000  0.6235  0.0314  0.0000  0.0000  0.0000\n",
       "  1.0000  1.0000  0.9373  1.0000"
      ]
     },
     "execution_count": 86,
     "metadata": {},
     "output_type": "execute_result"
    },
    {
     "data": {
      "text/plain": [
       "  0.8118  0.1098  0.0078  0.0392  0.0078\n",
       "  1.0000  0.9804  0.8941  1.0000  0.8118  0.2157  0.1490  0.1804  0.1333\n",
       "  0.9765  0.9412  0.8784  1.0000  0.9647  0.6275  0.6627  0.6902  0.6824\n",
       "  0.9686  0.9608  0.9490  0.9922  0.7569  0.5216  0.5373  0.5176  0.5529\n",
       "  0.9686  1.0000  1.0000  0.9451  0.5686  0.2667  0.2196  0.1686  0.2549\n",
       "  0.8784  1.0000  1.0000  0.9333  0.5137  0.2706  0.1451  0.0471  0.0471\n",
       "  0.5098  0.8627  1.0000  0.9804  0.5098  0.1843  0.0078  0.0000  0.0000\n",
       "  0.2392  0.5647  0.9020  0.9882  0.5176  0.1647  0.0000  0.0000  0.0000\n",
       "  0.0392  0.2157  0.4588  0.9569  0.5176  0.1765  0.0118  0.0000  0.0510\n",
       "  0.0235  0.1216  0.2667  0.9059  0.4941  0.1412  0.0000  0.0118  0.2314\n",
       "  0.0549  0.0667  0.1176  0.7843  0.4196  0.0941  0.0000  0.0353  0.3176\n",
       "  0.2196  0.1216  0.1333  0.6667  0.3412  0.0392  0.0000  0.0078  0.2902\n",
       "  0.2471  0.1098  0.1255  0.6392  0.3020  0.0000  0.0000  0.0000  0.2314\n",
       "  0.7255  0.8824  1.0000  1.0000  0.5216  0.1529  0.0000  0.0000  0.1059\n",
       "  0.6824  0.7922  1.0000  0.9529  0.5333  0.1843  0.0000  0.0000  0.1647\n",
       "  0.3804  0.3451  0.5451  0.6157  0.3451  0.1098  0.0000  0.0000  0.2549\n",
       "  0.2627  0.1961  0.3686  0.5176  0.3451  0.1686  0.0235  0.0510  0.2471\n",
       "  0.0588  0.0667  0.2314  0.4549  0.2824  0.1020  0.0000  0.0000  0.0314\n",
       "  0.0000  0.0000  0.1451  0.5490  0.3176  0.1255  0.0000  0.0000  0.0000\n",
       "  0.0000  0.0784  0.2980  0.6863  0.3843  0.1922  0.0392  0.0000  0.0000\n",
       "  0.0000  0.2784  0.6078  0.7647  0.4549  0.3255  0.2314  0.1020  0.0745\n",
       "  0.1765  0.5725  0.9882  0.8392  0.5569  0.4000  0.3451  0.2667  0.2627\n",
       "  0.5529  0.8588  1.0000  0.9255  0.7686  0.7176  0.7294  0.7294  0.7686\n",
       "  0.9020  0.9804  1.0000  0.9922  0.9490  0.9255  0.9373  0.9569  0.9804\n",
       "  0.9686  0.9569  0.9647  1.0000  1.0000  0.9608  0.9294  0.9529  0.9686\n",
       "  1.0000  0.9294  0.8706  1.0000  1.0000  0.7294  0.5373  0.5294  0.5216\n",
       "  1.0000  0.9529  0.8667  1.0000  1.0000  0.4510  0.0627  0.0000  0.0000\n",
       "  0.9961  1.0000  0.9725  1.0000  1.0000  0.3686  0.0000  0.0000  0.0000\n",
       "  1.0000  1.0000  1.0000  1.0000  0.9843  0.3529  0.0000  0.0000  0.0000\n",
       "  1.0000  1.0000  1.0000  0.9412  0.9137  0.4078  0.0627  0.0471  0.0000\n",
       "  1.0000  1.0000  1.0000  0.9490  0.9176  0.4157  0.0706  0.0549  0.0039\n",
       "  1.0000  1.0000  1.0000  0.9529  0.9255  0.4196  0.0784  0.0588  0.0118\n",
       "  1.0000  1.0000  1.0000  0.9608  0.9333  0.4275  0.0863  0.0667  0.0157\n",
       "  1.0000  1.0000  1.0000  0.9608  0.9333  0.4353  0.0863  0.0745  0.0157\n",
       "  1.0000  1.0000  1.0000  0.9529  0.9255  0.4275  0.0784  0.0667  0.0157\n",
       "  1.0000  1.0000  1.0000  0.9412  0.9176  0.4157  0.0706  0.0588  0.0118\n",
       "  1.0000  1.0000  1.0000  0.9255  0.8980  0.4078  0.0549  0.0549  0.0039\n",
       "  1.0000  1.0000  1.0000  0.9216  0.8549  0.3765  0.0902  0.0431  0.0000\n",
       "  1.0000  1.0000  1.0000  0.9176  0.8941  0.3843  0.0549  0.0196  0.0000\n",
       "  1.0000  1.0000  1.0000  0.9059  0.8824  0.3961  0.0510  0.0588  0.0314\n",
       "  1.0000  1.0000  1.0000  0.9451  0.9294  0.4588  0.1020  0.1098  0.0941\n",
       "  1.0000  1.0000  1.0000  0.9569  0.9059  0.4902  0.1333  0.1137  0.1137\n",
       "  1.0000  1.0000  1.0000  1.0000  0.9922  0.7961  0.5961  0.5961  0.5922\n",
       "  1.0000  1.0000  1.0000  1.0000  1.0000  0.9843  0.9490  0.9529  0.9294\n",
       "  1.0000  1.0000  1.0000  1.0000  1.0000  1.0000  0.9843  0.9412  0.9451\n",
       "\n",
       "Columns 55 to 63\n",
       "  1.0000  1.0000  1.0000  1.0000  1.0000  1.0000  1.0000  1.0000  1.0000\n",
       "  1.0000  1.0000  1.0000  1.0000  1.0000  1.0000  1.0000  1.0000  1.0000\n",
       "  1.0000  1.0000  1.0000  1.0000  1.0000  1.0000  1.0000  1.0000  1.0000\n",
       "  1.0000  1.0000  1.0000  1.0000  1.0000  1.0000  1.0000  1.0000  1.0000\n",
       "  1.0000  1.0000  1.0000  1.0000  1.0000  1.0000  1.0000  1.0000  1.0000\n",
       "  1.0000  1.0000  1.0000  1.0000  1.0000  1.0000  1.0000  1.0000  1.0000\n",
       "  1.0000  1.0000  1.0000  1.0000  1.0000  1.0000  1.0000  1.0000  1.0000\n",
       "  1.0000  1.0000  1.0000  1.0000  1.0000  1.0000  1.0000  1.0000  1.0000\n",
       "  1.0000  0.9922  1.0000  1.0000  1.0000  1.0000  1.0000  1.0000  1.0000\n",
       "  1.0000  1.0000  1.0000  1.0000  1.0000  1.0000  1.0000  1.0000  1.0000\n",
       "  0.9961  1.0000  1.0000  1.0000  1.0000  1.0000  1.0000  1.0000  1.0000\n",
       "  0.9843  1.0000  1.00"
      ]
     },
     "execution_count": 86,
     "metadata": {},
     "output_type": "execute_result"
    },
    {
     "data": {
      "text/plain": [
       "00  1.0000  1.0000  1.0000  1.0000  1.0000  1.0000\n",
       "  0.9843  1.0000  1.0000  1.0000  1.0000  1.0000  1.0000  1.0000  1.0000\n",
       "  0.9843  1.0000  1.0000  1.0000  1.0000  1.0000  1.0000  1.0000  1.0000\n",
       "  0.9843  1.0000  1.0000  1.0000  1.0000  1.0000  1.0000  1.0000  1.0000\n",
       "  0.9804  1.0000  1.0000  1.0000  1.0000  1.0000  1.0000  1.0000  1.0000\n",
       "  1.0000  1.0000  1.0000  0.9843  0.9804  0.9804  0.9843  1.0000  1.0000\n",
       "  1.0000  1.0000  1.0000  0.9843  0.9804  0.9804  0.9922  1.0000  1.0000\n",
       "  1.0000  1.0000  1.0000  0.9922  0.9843  0.9843  0.9922  1.0000  1.0000\n",
       "  1.0000  1.0000  1.0000  0.9922  0.9843  0.9843  0.9922  1.0000  1.0000\n",
       "  1.0000  1.0000  1.0000  1.0000  0.9922  0.9922  1.0000  1.0000  1.0000\n",
       "  1.0000  1.0000  1.0000  1.0000  0.9922  0.9922  1.0000  1.0000  1.0000\n",
       "  0.9961  1.0000  1.0000  1.0000  1.0000  1.0000  1.0000  1.0000  1.0000\n",
       "  0.9804  1.0000  1.0000  1.0000  1.0000  1.0000  1.0000  1.0000  1.0000\n",
       "  1.0000  1.0000  1.0000  1.0000  0.9961  0.9922  0.9529  0.9922  0.9725\n",
       "  1.0000  1.0000  1.0000  1.0000  1.0000  0.9922  0.9529  0.9843  0.9725\n",
       "  1.0000  1.0000  1.0000  1.0000  1.0000  0.9843  0.9569  0.9529  0.9725\n",
       "  1.0000  1.0000  1.0000  1.0000  0.9922  0.9804  0.9647  0.9294  0.9529\n",
       "  1.0000  1.0000  1.0000  1.0000  0.9843  0.9725  0.9529  0.9255  0.8941\n",
       "  1.0000  1.0000  1.0000  1.0000  0.9843  0.9647  0.9451  0.9255  0.7725\n",
       "  1.0000  1.0000  1.0000  1.0000  0.9765  0.9569  0.9255  0.9255  0.6353\n",
       "  1.0000  1.0000  1.0000  1.0000  0.9725  0.9490  0.9059  0.9176  0.5373\n",
       "  0.9333  1.0000  1.0000  1.0000  1.0000  1.0000  0.9490  0.8588  0.2902\n",
       "  0.9333  0.9922  1.0000  1.0000  1.0000  1.0000  0.9490  0.7961  0.2353\n",
       "  0.9373  0.9725  1.0000  1.0000  1.0000  1.0000  0.9608  0.6824  0.1569\n",
       "  0.9294  0.9765  1.0000  1.0000  1.0000  1.0000  0.9569  0.5569  0.0902\n",
       "  0.9294  0.9843  1.0000  1.0000  1.0000  1.0000  0.9333  0.4314  0.0588\n",
       "  0.9020  0.9843  1.0000  1.0000  1.0000  1.0000  0.8745  0.3098  0.0510\n",
       "  0.8431  0.9804  1.0000  1.0000  1.0000  1.0000  0.8000  0.2039  0.0392\n",
       "  0.8000  0.9608  1.0000  1.0000  1.0000  0.9843  0.7490  0.1373  0.0353\n",
       "  0.6392  0.9647  1.0000  1.0000  1.0000  0.9608  0.5765  0.1098  0.0078\n",
       "  0.5608  0.9569  0.9961  1.0000  1.0000  0.9412  0.4863  0.0863  0.0039\n",
       "  0.4471  0.9412  0.9961  1.0000  1.0000  0.9098  0.3608  0.0627  0.0039\n",
       "  0.3490  0.9137  0.9804  1.0000  0.9922  0.8667  0.2471  0.0510  0.0000\n",
       "  0.2667  0.8588  0.9647  1.0000  0.9843  0.7922  0.1843  0.0549  0.0000\n",
       "  0.2118  0.7765  0.9569  1.0000  0.9647  0.6784  0.1412  0.0549  0.0000\n",
       "  0.1608  0.6863  0.9608  1.0000  0.9451  0.5529  0.1176  0.0549  0.0000\n",
       "  0.1333  0.6235  0.9647  0.9922  0.9255  0.4627  0.1059  0.0510  0.0000\n",
       "  0.1333  0.4235  0.9059  0.9176  0.8627  0.2667  0.0980  0.0196  0.0118\n",
       "  0.1137  0.3686  0.8824  0.9098  0.8078  0.2431  0.0902  0.0235  0.0118\n",
       "  0.0863  0.2980  0.8353  0.9020  0.7176  0.2000  0.0706  0.0314  0.0078\n",
       "  0.0706  0.2235  0.7765  0.9020  0.6196  0.1686  0.0627  0.0392  0.0000\n",
       "  0.0667  0.1608  0.6980  0.8980  0.5137  0.1373  0.0549  0.0353  0.0000\n",
       "  0.0667  0.1294  0.5922  0.8706  0.4196  0.1176  0.0549  0.0392  0.0000\n",
       "  0.0706  0.0941  0.4706  0.8314  0.3333  0.0941  0.0431  0.0392  0.0000\n",
       "  0.0549  0.0667  0.3882  0.7882  0.2745  0.0667  0.0314  0.0353  0.0000\n",
       "  0.0431  0.0784  0.3098  0.6588  0.1765  0.0863  0.0471  0.0078  0.0000\n",
       "  0.0314  0.0588  0.2471  0.5647  0.1412  0.0706  0.0431  0.0039  0.0000\n",
       "  0.0196  0.0431  0.1608  0.4353  0.1059  0.0588  0.0392  0.0078  0.0000\n",
       "  0.0039  0.0314  0.0863  0.3059  0.0824  0.0549  0.0392  0.0235  0.0000\n",
       "  0.0000  0.0157  0.0431  0.1804  0.0667  0.0471  0.0392  0.0275  0.0000\n",
       "  0.0000  0.0157  0.0196  0.0706  0.0510  0.0353  0.0157  0.0118  0.0000\n",
       "  0.0000  0.0235  0.0235  0.0235  0.0627  0.0392  0.0118  0.0078  0.0000\n",
       "  0.0000  0.0196  0.0471  0.0000  0.0745  0.0510  0.0157  0.0157  0.0000\n",
       "  0.0000  0.0000  0.0000  0.0039  0.0157  0.0235  0.0157  0.0118  0.0039\n",
       "  0.0000  0.0000  0.0000  0.0039  0.0157  0.0235  0.0157  0.0118  0.0039\n",
       "  0.0000  0.0000  0.0000  0.0039  0.0157  0.0235  0.0157  0.0118  0.0039\n",
       "  0.0000  0.0000  0.0000  0.00"
      ]
     },
     "execution_count": 86,
     "metadata": {},
     "output_type": "execute_result"
    },
    {
     "data": {
      "text/plain": [
       "39  0.0157  0.0235  0.0157  0.0118  0.0039\n",
       "  0.0000  0.0000  0.0000  0.0039  0.0157  0.0157  0.0157  0.0118  0.0000\n",
       "  0.0000  0.0000  0.0000  0.0039  0.0157  0.0157  0.0157  0.0118  0.0000\n",
       "  0.0000  0.0000  0.0000  0.0118  0.0157  0.0157  0.0157  0.0039  0.0000\n",
       "  0.0000  0.0000  0.0000  0.0118  0.0157  0.0157  0.0157  0.0039  0.0000\n",
       "  0.0000  0.0000  0.0000  0.0118  0.0157  0.0157  0.0157  0.0039  0.0000\n",
       "  0.0000  0.0000  0.0000  0.0118  0.0157  0.0157  0.0118  0.0039  0.0000\n",
       "  0.0000  0.0000  0.0039  0.0118  0.0157  0.0157  0.0118  0.0039  0.0000\n",
       "  0.0000  0.0000  0.0039  0.0118  0.0157  0.0157  0.0118  0.0039  0.0000\n",
       "  0.0039  0.0000  0.0039  0.0118  0.0157  0.0157  0.0118  0.0039  0.0000\n",
       "  0.0078  0.0000  0.0039  0.0157  0.0157  0.0157  0.0118  0.0000  0.0000\n",
       "  0.0118  0.0000  0.0039  0.0157  0.0157  0.0157  0.0118  0.0000  0.0000\n",
       "  0.0118  0.0000  0.0039  0.0157  0.0157  0.0157  0.0118  0.0000  0.0000\n",
       "  0.1020  0.1451  0.1725  0.2118  0.1765  0.0706  0.0000  0.0000  0.0000\n",
       "  0.0039  0.0235  0.1020  0.1294  0.1098  0.0196  0.0000  0.0000  0.0000\n",
       "  0.0000  0.0000  0.0000  0.0235  0.0235  0.0000  0.0000  0.0000  0.0000\n",
       "  0.0000  0.0000  0.0000  0.0157  0.0431  0.0039  0.0000  0.0000  0.0510\n",
       "  0.1137  0.0824  0.0941  0.1686  0.2078  0.1647  0.0784  0.0706  0.1529\n",
       "  0.6941  0.7137  0.7137  0.7961  0.8510  0.8118  0.7373  0.7216  0.7961\n",
       "  0.5451  0.5725  0.6627  0.7569  0.8275  0.8588  0.8627  0.9098  1.0000\n",
       "  0.2157  0.2314  0.2902  0.3922  0.5020  0.6118  0.7412  0.8863  1.0000\n",
       "  0.0431  0.0549  0.0902  0.2471  0.2980  0.3333  0.3569  0.7098  1.0000\n",
       "  0.0000  0.0000  0.0157  0.1098  0.1765  0.1490  0.1922  0.4314  0.8157\n",
       "  0.0000  0.0000  0.0431  0.0510  0.1176  0.0353  0.0706  0.1608  0.5882\n",
       "  0.1294  0.2353  0.2706  0.1961  0.1333  0.0353  0.0078  0.0314  0.3843\n",
       "  0.4902  0.7608  0.7255  0.5451  0.2471  0.0863  0.0000  0.0118  0.2588\n",
       "  0.6784  1.0000  1.0000  0.8353  0.3529  0.0706  0.0000  0.0353  0.2353\n",
       "  0.6627  1.0000  1.0000  0.9333  0.4431  0.0235  0.0000  0.0627  0.2863\n",
       "  0.6392  1.0000  1.0000  0.9569  0.5294  0.0118  0.0000  0.0667  0.3255\n",
       "  0.5647  0.9647  1.0000  0.8392  0.3451  0.0000  0.0000  0.1020  0.2627\n",
       "  0.6235  1.0000  1.0000  0.9020  0.3804  0.0000  0.0000  0.1020  0.2431\n",
       "  0.6863  1.0000  1.0000  0.8588  0.3686  0.0549  0.0275  0.1137  0.2431\n",
       "  0.5412  0.8784  0.8588  0.6196  0.2824  0.0863  0.0745  0.1255  0.2863\n",
       "  0.1647  0.3804  0.4627  0.3137  0.1333  0.0471  0.0471  0.1412  0.3882\n",
       "  0.0314  0.1608  0.1412  0.0588  0.0000  0.0000  0.0196  0.2118  0.5608\n",
       "  0.0000  0.0000  0.0000  0.0000  0.0000  0.0000  0.0902  0.3922  0.7765\n",
       "  0.0824  0.0902  0.0431  0.0235  0.0353  0.0980  0.2745  0.6157  0.9569\n",
       "  0.2588  0.2510  0.2784  0.2471  0.2667  0.4039  0.6353  0.8863  1.0000\n",
       "  0.8118  0.8471  0.8353  0.8000  0.7804  0.8196  0.9098  1.0000  1.0000\n",
       "  1.0000  1.0000  1.0000  1.0000  1.0000  0.9804  0.9882  1.0000  1.0000\n",
       "  1.0000  1.0000  1.0000  1.0000  1.0000  0.9882  0.9725  0.9882  1.0000\n",
       "  0.5804  0.6353  0.6471  0.6353  0.6000  0.5647  0.5529  0.5765  0.6000\n",
       "  0.0314  0.0980  0.1373  0.1137  0.0706  0.0431  0.0314  0.0510  0.0784\n",
       "  0.0000  0.0392  0.0627  0.0510  0.0039  0.0000  0.0000  0.0000  0.0000\n",
       "  0.0000  0.0000  0.0471  0.0471  0.0000  0.0000  0.0000  0.0000  0.0000\n",
       "  0.0000  0.0000  0.0000  0.0000  0.0039  0.0157  0.0235  0.0235  0.0235\n",
       "  0.0000  0.0000  0.0000  0.0000  0.0118  0.0157  0.0235  0.0235  0.0235\n",
       "  0.0000  0.0000  0.0000  0.0000  0.0118  0.0235  0.0235  0.0235  0.0235\n",
       "  0.0000  0.0000  0.0000  0.0039  0.0118  0.0235  0.0235  0.0235  0.0157\n",
       "  0.0000  0.0000  0.0000  0.0039  0.0118  0.0157  0.0157  0.0157  0.0118\n",
       "  0.0000  0.0000  0.0000  0.0000  0.0039  0.0118  0.0039  0.0039  0.0000\n",
       "  0.0000  0.0000  0.0000  0.0000  0.0000  0.0000  0.0000  0.0000  0.0000\n",
       "  0.0000  0.0000  0.0000  0.0000  0.0000  0.0000  0.0000  0.0000  0.0000\n",
       "  0.0196  0.0000  0.0000  0.0000  0.0000  0.0000  0.0000  0.0000  0.0000\n",
       "  0.0078  0.0000  0.0000  0.0000  0.0000  0.0000  0.0000  0.0000  0.0000\n",
       "  0.0196  0.0039  0.0157  0.0235  0.0235  0.0235  0.0157  0.0118  0.0000\n",
       "  0.0471  0.0510  0.0667  0.0824  0.08"
      ]
     },
     "execution_count": 86,
     "metadata": {},
     "output_type": "execute_result"
    },
    {
     "data": {
      "text/plain": [
       "63  0.0863  0.0824  0.0667  0.0549\n",
       "  0.0706  0.1098  0.1137  0.1255  0.1333  0.1333  0.1255  0.1176  0.1059\n",
       "  0.5490  0.5725  0.5882  0.6039  0.6078  0.6157  0.6078  0.5961  0.5882\n",
       "  0.9059  0.9137  0.9412  0.9529  0.9608  0.9686  0.9608  0.9451  0.9412\n",
       "  0.9490  0.9569  0.9725  0.9843  1.0000  1.0000  0.9922  0.9843  0.9725\n",
       "\n",
       "Columns 64 to 72\n",
       "  1.0000  0.9373  0.9725  1.0000  1.0000  1.0000  1.0000  0.9804  0.9529\n",
       "  1.0000  0.9529  0.9725  1.0000  1.0000  1.0000  1.0000  1.0000  0.9098\n",
       "  1.0000  0.9569  0.9529  1.0000  1.0000  1.0000  1.0000  1.0000  0.7686\n",
       "  1.0000  0.9647  0.9529  1.0000  1.0000  1.0000  0.9961  0.9804  0.5255\n",
       "  1.0000  0.9725  0.9725  1.0000  1.0000  1.0000  0.9961  0.8549  0.2980\n",
       "  1.0000  0.9765  0.9922  1.0000  0.9961  1.0000  0.9765  0.6431  0.1725\n",
       "  1.0000  0.9765  1.0000  1.0000  0.9804  0.9804  0.8784  0.3725  0.1020\n",
       "  1.0000  1.0000  1.0000  1.0000  0.9647  0.9490  0.7569  0.1529  0.0667\n",
       "  1.0000  0.9765  1.0000  0.9569  0.9647  0.9255  0.4353  0.0863  0.0745\n",
       "  1.0000  1.0000  1.0000  0.9725  0.9333  0.7804  0.2824  0.0392  0.0235\n",
       "  1.0000  1.0000  1.0000  0.9804  0.8902  0.5922  0.1373  0.0235  0.0118\n",
       "  1.0000  1.0000  0.9882  0.9725  0.8510  0.3804  0.0588  0.0118  0.0157\n",
       "  1.0000  1.0000  0.9922  0.9294  0.7569  0.1882  0.0235  0.0000  0.0000\n",
       "  1.0000  1.0000  1.0000  0.8863  0.5961  0.0863  0.0196  0.0000  0.0000\n",
       "  1.0000  1.0000  1.0000  0.8588  0.3843  0.0627  0.0157  0.0000  0.0000\n",
       "  1.0000  1.0000  0.9922  0.8157  0.1961  0.0549  0.0000  0.0000  0.0000\n",
       "  1.0000  0.9922  0.9490  0.5843  0.0784  0.0314  0.0118  0.0000  0.0000\n",
       "  1.0000  0.9725  0.9098  0.4157  0.1059  0.0078  0.0078  0.0000  0.0118\n",
       "  1.0000  0.9490  0.8000  0.2078  0.1137  0.0000  0.0039  0.0000  0.0196\n",
       "  1.0000  0.9412  0.6314  0.1020  0.0784  0.0000  0.0118  0.0000  0.0353\n",
       "  1.0000  0.9098  0.4235  0.1059  0.0196  0.0196  0.0157  0.0000  0.0471\n",
       "  1.0000  0.7922  0.2549  0.1216  0.0000  0.0353  0.0000  0.0000  0.0588\n",
       "  1.0000  0.6157  0.1490  0.0745  0.0000  0.0353  0.0000  0.0196  0.0549\n",
       "  1.0000  0.4706  0.0980  0.0078  0.0235  0.0118  0.0000  0.0667  0.0667\n",
       "  0.9686  0.2157  0.1020  0.0471  0.0000  0.0000  0.0078  0.0039  0.1059\n",
       "  0.8549  0.1608  0.0510  0.0157  0.0000  0.0000  0.0000  0.0196  0.1451\n",
       "  0.6902  0.0941  0.0196  0.0039  0.0000  0.0000  0.0000  0.0353  0.2275\n",
       "  0.5176  0.0627  0.0078  0.0000  0.0000  0.0118  0.0039  0.0706  0.3412\n",
       "  0.3765  0.0392  0.0039  0.0078  0.0078  0.0196  0.0000  0.1137  0.4627\n",
       "  0.2706  0.0235  0.0078  0.0000  0.0000  0.0157  0.0000  0.1490  0.5961\n",
       "  0.1843  0.0314  0.0157  0.0000  0.0000  0.0157  0.0000  0.2078  0.7216\n",
       "  0.1490  0.0392  0.0275  0.0078  0.0000  0.0235  0.0118  0.2510  0.8078\n",
       "  0.0549  0.0000  0.0118  0.0078  0.0314  0.0824  0.1294  0.3961  0.9255\n",
       "  0.0392  0.0000  0.0039  0.0118  0.0353  0.0941  0.1294  0.4863  0.9451\n",
       "  0.0353  0.0000  0.0000  0.0157  0.0353  0.0980  0.1373  0.6275  0.9451\n",
       "  0.0431  0.0000  0.0000  0.0196  0.0353  0.0941  0.1725  0.7608  0.9490\n",
       "  0.0549  0.0000  0.0000  0.0275  0.0392  0.0941  0.2353  0.8510  0.9333\n",
       "  0.0471  0.0039  0.0000  0.0431  0.0392  0.1020  0.3529  0.8863  0.9294\n",
       "  0.0196  0.0000  0.0000  0.0510  0.0471  0.1098  0.4745  0.9020  0.9490\n",
       "  0.0000  0.0000  0.0000  0.0627  0.0510  0.1255  0.5608  0.9098  0.9725\n",
       "  0.0000  0.0000  0.0000  0.0392  0.0902  0.1451  0.7216  0.9098  0.9804\n",
       "  0.0000  0.0000  0.0078  0.0392  0.0863  0.1882  0.7647  0.9333  0.9843\n",
       "  0.0000  0.0000  0.0235  0.0471  0.0706  0.2471  0.8275  0.9569  0.9922\n",
       "  0.0000  0.0000  0.0314  0.0392  0.0667  0.3333  0.8784  0.9647  1.0000\n",
       "  0.0000  0.0000  0.0275  0.0353  0.0667  0.4196  0.9216  0.9725  0.9961\n",
       "  0.0000  0.0000  0.0275  0.0353  0.0863  0.5176  0.9294  0.9569  1.0000\n",
       "  0.0000  0.0000  0.0314  0.0431  0.1255  0.6000  0.9373  0.9490  1.0000\n",
       "  0.0000  0.0000  0.0314  0.0471  0.1490  0.6471  0.9373  0.9373  1.0000\n",
       "  0.0000  0.0000  0.0000  0.0824  0.2078  0.8157  0.9843  1.0000  1.0000\n",
       "  0.0000  0.0000  0.0000  0.0863  0.2549  0.8471  1.0000  1.0000  1.0000\n",
       "  0.0000  0.0000  0.0039  0.0863  0.3176  0.8824  1.0000  1.0000  1.0000\n",
       "  0.0000  0.0000  0.0039  0."
      ]
     },
     "execution_count": 86,
     "metadata": {},
     "output_type": "execute_result"
    },
    {
     "data": {
      "text/plain": [
       "0824  0.3843  0.9137  1.0000  1.0000  1.0000\n",
       "  0.0000  0.0039  0.0118  0.0745  0.4549  0.9255  1.0000  1.0000  1.0000\n",
       "  0.0000  0.0118  0.0157  0.0863  0.5255  0.9529  0.9961  1.0000  1.0000\n",
       "  0.0000  0.0118  0.0275  0.1098  0.6078  0.9647  0.9922  1.0000  1.0000\n",
       "  0.0000  0.0039  0.0392  0.1373  0.6627  0.9725  1.0000  1.0000  1.0000\n",
       "  0.0000  0.0039  0.0471  0.1529  0.7686  0.9765  1.0000  1.0000  1.0000\n",
       "  0.0000  0.0118  0.0588  0.1843  0.7961  0.9804  1.0000  1.0000  1.0000\n",
       "  0.0000  0.0275  0.0667  0.2314  0.8275  0.9804  1.0000  1.0000  1.0000\n",
       "  0.0000  0.0314  0.0706  0.2902  0.8588  0.9804  1.0000  1.0000  1.0000\n",
       "  0.0000  0.0275  0.0745  0.3412  0.8941  0.9647  1.0000  1.0000  1.0000\n",
       "  0.0000  0.0353  0.0745  0.3961  0.9255  0.9569  1.0000  1.0000  1.0000\n",
       "  0.0000  0.0431  0.0784  0.4392  0.9451  0.9608  1.0000  1.0000  1.0000\n",
       "  0.0000  0.0471  0.0824  0.4667  0.9451  0.9647  1.0000  1.0000  1.0000\n",
       "  0.0000  0.0314  0.0667  0.6000  0.9686  1.0000  1.0000  0.9451  0.9529\n",
       "  0.0000  0.0275  0.0784  0.6275  0.9686  1.0000  1.0000  0.9529  0.9569\n",
       "  0.0000  0.0275  0.0941  0.6627  0.9686  1.0000  1.0000  0.9608  0.9569\n",
       "  0.0000  0.0235  0.1216  0.7098  0.9765  1.0000  1.0000  0.9725  0.9569\n",
       "  0.0000  0.0314  0.1569  0.7725  0.9765  1.0000  1.0000  0.9843  0.9529\n",
       "  0.0000  0.0353  0.1804  0.8275  0.9843  1.0000  1.0000  0.9922  0.9529\n",
       "  0.0000  0.0431  0.2078  0.8627  0.9961  1.0000  1.0000  0.9922  0.9569\n",
       "  0.0000  0.0392  0.2235  0.8863  0.9961  1.0000  1.0000  1.0000  0.9569\n",
       "  0.0000  0.0471  0.2980  0.9176  1.0000  1.0000  1.0000  1.0000  0.9647\n",
       "  0.0000  0.0549  0.3176  0.9255  1.0000  1.0000  1.0000  1.0000  0.9725\n",
       "  0.0000  0.0627  0.3608  0.9255  1.0000  1.0000  1.0000  1.0000  0.9725\n",
       "  0.0000  0.0706  0.4157  0.9333  1.0000  1.0000  1.0000  1.0000  0.9725\n",
       "  0.0000  0.0706  0.4706  0.9373  1.0000  1.0000  1.0000  1.0000  0.9804\n",
       "  0.0000  0.0745  0.5294  0.9373  1.0000  1.0000  1.0000  1.0000  0.9804\n",
       "  0.0000  0.0745  0.5647  0.9373  1.0000  1.0000  1.0000  1.0000  0.9804\n",
       "  0.0000  0.0745  0.5843  0.9373  1.0000  1.0000  1.0000  1.0000  0.9804\n",
       "  0.0824  0.1686  0.7412  1.0000  1.0000  0.9529  0.8510  0.8549  0.9255\n",
       "  0.0745  0.2157  0.7490  1.0000  1.0000  0.9490  0.8824  0.8745  0.9098\n",
       "  0.0863  0.1922  0.7412  0.9843  0.9686  0.9529  0.9176  0.9294  0.9608\n",
       "  0.1451  0.1608  0.7176  0.9451  0.9647  0.9804  0.9725  0.9961  1.0000\n",
       "  0.2510  0.3412  0.7686  0.9373  0.9765  1.0000  1.0000  1.0000  1.0000\n",
       "  0.8824  0.7098  0.9059  0.9608  1.0000  1.0000  1.0000  1.0000  1.0000\n",
       "  1.0000  0.9569  0.9647  0.9882  1.0000  1.0000  1.0000  1.0000  1.0000\n",
       "  1.0000  1.0000  0.9804  0.9804  1.0000  1.0000  0.9490  0.9255  0.8863\n",
       "  1.0000  1.0000  1.0000  0.9647  0.9137  0.7569  0.6275  0.5922  0.6549\n",
       "  1.0000  1.0000  0.9176  0.6863  0.4392  0.2627  0.1765  0.0980  0.0824\n",
       "  0.9255  1.0000  0.6941  0.3647  0.2784  0.1882  0.0235  0.0000  0.0863\n",
       "  0.7647  0.8392  0.5059  0.2000  0.0627  0.0235  0.0000  0.0000  0.0000\n",
       "  0.6235  0.6157  0.3569  0.1098  0.0078  0.0392  0.0824  0.0588  0.0000\n",
       "  0.5647  0.3961  0.1020  0.0000  0.0000  0.1294  0.2706  0.2667  0.1412\n",
       "  0.5451  0.2588  0.1098  0.0000  0.0000  0.2902  0.7490  0.7137  0.2196\n",
       "  0.5294  0.1961  0.0000  0.0000  0.0000  0.5451  1.0000  0.9961  0.4353\n",
       "  0.4000  0.0000  0.0039  0.0627  0.1098  0.5216  0.9451  1.0000  0.5725\n",
       "  0.4000  0.0941  0.0745  0.0745  0.1569  0.5647  1.0000  1.0000  0.5490\n",
       "  0.4235  0.1686  0.1294  0.0706  0.2078  0.6196  1.0000  1.0000  0.5412\n",
       "  0.5020  0.2039  0.1412  0.0353  0.1882  0.5412  1.0000  0.9255  0.4235\n",
       "  0.6627  0.2392  0.1333  0.0000  0.0784  0.3176  0.6824  0.5922  0.1843\n",
       "  0.8588  0.3255  0.1490  0.0000  0.0000  0.1098  0.3529  0.3137  0.0392\n",
       "  1.0000  0.5294  0.2431  0.0078  0.0000  0.0196  0.1412  0.1804  0.0392\n",
       "  1.0000  0.7882  0.4588  0.1922  0.0078  0.0353  0.0588  0.1569  0.1255\n",
       "  1.0000  1.0000  0.8118  0.4902  0.1765  0.0784  0.1922  0.2745  0.3098\n",
       "  1.0000  1.0000  1.0000  0.9020  0.5529  0.2706  0.2392  0.3686  0.5059\n",
       "  1.0000  1.0000  1.0000  1.0000  0.9294  0.7333  0.7059  0.8471  0.9725\n",
       "  1.0000  0.9412  1.0000  1.0000  0."
      ]
     },
     "execution_count": 86,
     "metadata": {},
     "output_type": "execute_result"
    },
    {
     "data": {
      "text/plain": [
       "9882  0.8902  0.8902  1.0000  1.0000\n",
       "  0.6275  0.7647  1.0000  1.0000  1.0000  0.9451  0.9216  1.0000  1.0000\n",
       "  0.0863  0.5137  0.9216  1.0000  0.9961  0.9529  0.9333  1.0000  1.0000\n",
       "  0.0000  0.5451  0.9569  0.9922  0.9490  0.9451  0.9922  1.0000  0.9804\n",
       "  0.0000  0.5725  0.9725  0.9725  0.8941  0.9373  0.9725  1.0000  0.9765\n",
       "  0.0235  0.6078  0.9608  0.9608  0.9804  0.9765  0.9922  1.0000  1.0000\n",
       "  0.0235  0.6078  0.9608  0.9608  0.9804  0.9765  0.9922  1.0000  1.0000\n",
       "  0.0235  0.6078  0.9608  0.9608  0.9804  0.9765  0.9922  1.0000  1.0000\n",
       "  0.0157  0.6078  0.9608  0.9608  0.9804  0.9765  0.9922  1.0000  1.0000\n",
       "  0.0039  0.6078  0.9608  0.9608  0.9804  0.9765  0.9922  1.0000  1.0000\n",
       "  0.0000  0.6078  0.9608  0.9608  0.9804  0.9765  0.9922  1.0000  1.0000\n",
       "  0.0000  0.6078  0.9608  0.9608  0.9804  0.9765  0.9922  1.0000  1.0000\n",
       "  0.0000  0.6078  0.9608  0.9608  0.9804  0.9765  0.9922  1.0000  1.0000\n",
       "  0.0000  0.5922  0.9725  0.9373  0.9765  0.9843  0.9882  1.0000  1.0000\n",
       "  0.0000  0.5922  0.9725  0.9647  0.9804  0.9843  0.9922  1.0000  0.9961\n",
       "  0.0000  0.5765  0.9569  0.9725  0.9804  0.9725  0.9922  1.0000  0.9961\n",
       "  0.0471  0.5725  0.9176  0.9686  0.9804  0.9529  0.9922  1.0000  1.0000\n",
       "  0.0980  0.6510  0.9176  0.9686  0.9804  0.9490  0.9922  1.0000  1.0000\n",
       "  0.5804  0.8000  0.9490  0.9725  0.9804  0.9569  0.9922  0.9882  1.0000\n",
       "  0.9333  0.9294  0.9686  0.9647  0.9804  0.9647  0.9922  0.9765  1.0000\n",
       "  0.9647  0.9647  0.9608  0.9373  0.9804  0.9647  0.9922  0.9725  1.0000\n",
       "\n",
       "Columns 73 to 81\n",
       "  0.6980  0.1843  0.0000  0.0000  0.0000  0.0039  0.0196  0.0431  0.0039\n",
       "  0.4510  0.0863  0.0000  0.0000  0.0000  0.0157  0.0353  0.0588  0.0314\n",
       "  0.2275  0.0118  0.0000  0.0000  0.0000  0.0039  0.0275  0.0431  0.0392\n",
       "  0.1216  0.0039  0.0118  0.0000  0.0000  0.0157  0.0431  0.0510  0.0706\n",
       "  0.0824  0.0000  0.0078  0.0000  0.0000  0.0471  0.0471  0.0667  0.1059\n",
       "  0.0627  0.0000  0.0000  0.0000  0.0000  0.0039  0.0000  0.0706  0.1804\n",
       "  0.0549  0.0000  0.0000  0.0000  0.0000  0.0000  0.0588  0.2431  0.4941\n",
       "  0.0353  0.0000  0.0000  0.0078  0.0196  0.0667  0.2314  0.5333  0.9333\n",
       "  0.0000  0.0000  0.0000  0.0000  0.0275  0.1176  0.5922  0.8314  0.9804\n",
       "  0.0039  0.0000  0.0314  0.0706  0.0863  0.3843  0.7765  0.9059  1.0000\n",
       "  0.0000  0.0000  0.0314  0.0980  0.1882  0.6863  0.9294  0.9451  1.0000\n",
       "  0.0000  0.0039  0.0392  0.1020  0.3882  0.8745  0.9647  0.9647  1.0000\n",
       "  0.0078  0.0196  0.0706  0.1647  0.6706  0.9647  0.9608  1.0000  1.0000\n",
       "  0.0000  0.0118  0.0980  0.3255  0.8745  0.9922  0.9725  1.0000  1.0000\n",
       "  0.0000  0.0000  0.1373  0.5569  0.9490  1.0000  1.0000  1.0000  0.9922\n",
       "  0.0078  0.0078  0.1882  0.7451  0.9529  1.0000  1.0000  1.0000  0.9961\n",
       "  0.0706  0.0902  0.4118  0.9059  0.9647  0.9843  0.9804  0.9725  0.9843\n",
       "  0.0667  0.1490  0.5412  0.9255  0.9765  0.9843  0.9804  0.9804  0.9922\n",
       "  0.0627  0.2431  0.7176  0.9490  0.9843  0.9922  0.9765  0.9843  0.9804\n",
       "  0.0549  0.3569  0.8706  0.9647  0.9922  1.0000  0.9804  0.9922  0.9922\n",
       "  0.0824  0.4902  0.9529  0.9686  1.0000  1.0000  0.9922  0.9922  0.9922\n",
       "  0.1569  0.6471  0.9647  0.9843  1.0000  1.0000  1.0000  1.0000  0.9922\n",
       "  0.2471  0.8039  0.9725  1.0000  1.0000  1.0000  1.0000  0.9882  1.0000\n",
       "  0.3294  0.9098  0.9647  1.0000  1.0000  1.0000  1.0000  0.9804  1.0000\n",
       "  0.5725  0.8980  1.0000  0.9922  1.0000  1.0000  0.9882  0.9882  1.0000\n",
       "  0.6706  0.9333  1.0000  0.9961  1.0000  1.0000  0.9804  0.9843  1.0000\n",
       "  0.8000  0.9804  1.0000  1.0000  1.0000  1.0000  0.9686  0.9725  1.0000\n",
       "  0.8902  0.9843  1.0000  1.0000  1.0000  1.0000  0.9529  0.9569  1.0000\n",
       "  0.9333  0.9882  1.0000  1.0000  1.0000  0.9922  0.9490  0.9451  1.0000\n",
       "  0.9490  0.9882  1.0000  1.0000  1.0000  0.9843  0.9490  0.9294  1.0000\n",
       "  0.9569  0.9922  1.0000  1.0000  1.0000  0.9804  0.9451  0.9176  1.0000\n",
       "  0.9569  1.0000  1.0000  1.0000  0.9882  0.9725  0.9451  0.9137  1.0000\n",
       "  0.9647  0.9922  1.0000  1.0000  1.0000  1.0000  1.0000  1.0000  1.0000\n",
       "  0.9725  0.9922  1.0000  1.0000  1.0000  1.0000  1.0000  1.0000  1.0000\n",
       "  0.9725  0.9922  1.0000  1.0000  1.0000  1.0000  1.0000  1.0000  1.0000\n",
       "  0.9725  0.9922  1.0000  "
      ]
     },
     "execution_count": 86,
     "metadata": {},
     "output_type": "execute_result"
    },
    {
     "data": {
      "text/plain": [
       "1.0000  1.0000  1.0000  1.0000  1.0000  1.0000\n",
       "  0.9804  1.0000  1.0000  1.0000  1.0000  1.0000  1.0000  1.0000  1.0000\n",
       "  0.9843  1.0000  1.0000  1.0000  1.0000  1.0000  1.0000  1.0000  1.0000\n",
       "  0.9922  1.0000  1.0000  1.0000  1.0000  1.0000  1.0000  1.0000  1.0000\n",
       "  0.9922  1.0000  1.0000  1.0000  1.0000  1.0000  1.0000  0.9922  1.0000\n",
       "  1.0000  1.0000  1.0000  1.0000  1.0000  1.0000  0.9922  0.9922  1.0000\n",
       "  1.0000  1.0000  1.0000  1.0000  1.0000  1.0000  0.9922  0.9843  1.0000\n",
       "  1.0000  1.0000  1.0000  1.0000  1.0000  0.9922  0.9843  0.9804  1.0000\n",
       "  1.0000  1.0000  1.0000  1.0000  1.0000  0.9922  0.9804  0.9725  1.0000\n",
       "  1.0000  1.0000  1.0000  1.0000  1.0000  0.9922  0.9804  0.9725  1.0000\n",
       "  1.0000  1.0000  1.0000  1.0000  1.0000  0.9843  0.9725  0.9647  1.0000\n",
       "  1.0000  1.0000  1.0000  1.0000  1.0000  0.9843  0.9725  0.9647  1.0000\n",
       "  1.0000  1.0000  1.0000  1.0000  1.0000  0.9843  0.9725  0.9647  1.0000\n",
       "  1.0000  0.9804  0.9725  0.9725  0.9843  1.0000  1.0000  1.0000  1.0000\n",
       "  1.0000  0.9804  0.9725  0.9725  0.9843  1.0000  1.0000  1.0000  1.0000\n",
       "  1.0000  0.9804  0.9725  0.9725  0.9843  1.0000  1.0000  1.0000  1.0000\n",
       "  1.0000  0.9843  0.9725  0.9725  0.9843  1.0000  1.0000  1.0000  1.0000\n",
       "  1.0000  0.9843  0.9725  0.9725  0.9843  1.0000  1.0000  1.0000  1.0000\n",
       "  1.0000  0.9843  0.9725  0.9725  0.9843  1.0000  1.0000  1.0000  1.0000\n",
       "  1.0000  0.9843  0.9725  0.9725  0.9804  1.0000  1.0000  1.0000  1.0000\n",
       "  1.0000  0.9843  0.9725  0.9725  0.9804  1.0000  1.0000  1.0000  1.0000\n",
       "  1.0000  0.9843  0.9725  0.9725  0.9804  1.0000  1.0000  1.0000  1.0000\n",
       "  1.0000  0.9843  0.9725  0.9725  0.9804  1.0000  1.0000  1.0000  1.0000\n",
       "  1.0000  0.9843  0.9725  0.9725  0.9804  1.0000  1.0000  1.0000  1.0000\n",
       "  1.0000  0.9922  0.9725  0.9725  0.9804  1.0000  1.0000  1.0000  1.0000\n",
       "  1.0000  0.9922  0.9725  0.9647  0.9804  1.0000  1.0000  1.0000  1.0000\n",
       "  1.0000  0.9922  0.9725  0.9647  0.9804  1.0000  1.0000  1.0000  1.0000\n",
       "  1.0000  0.9922  0.9725  0.9647  0.9804  1.0000  1.0000  1.0000  1.0000\n",
       "  1.0000  0.9922  0.9725  0.9647  0.9804  0.9922  1.0000  1.0000  1.0000\n",
       "  0.9529  0.9725  1.0000  1.0000  1.0000  1.0000  0.9843  0.9569  1.0000\n",
       "  0.9529  0.9725  1.0000  1.0000  1.0000  1.0000  0.9843  0.9569  1.0000\n",
       "  0.9529  0.9725  1.0000  1.0000  1.0000  1.0000  0.9843  0.9569  1.0000\n",
       "  0.9529  0.9725  1.0000  1.0000  1.0000  1.0000  0.9843  0.9569  1.0000\n",
       "  0.9529  0.9804  1.0000  1.0000  1.0000  1.0000  0.9804  0.9529  1.0000\n",
       "  0.9529  0.9804  1.0000  1.0000  1.0000  1.0000  0.9804  0.9529  1.0000\n",
       "  0.9569  0.9804  1.0000  1.0000  1.0000  1.0000  0.9804  0.9529  1.0000\n",
       "  0.9569  0.9804  1.0000  1.0000  1.0000  1.0000  0.9804  0.9529  1.0000\n",
       "  0.9569  0.9804  1.0000  1.0000  1.0000  1.0000  0.9804  0.9529  1.0000\n",
       "  0.9569  0.9804  1.0000  1.0000  1.0000  1.0000  0.9725  0.9451  1.0000\n",
       "  0.9647  0.9804  1.0000  1.0000  1.0000  1.0000  0.9725  0.9451  1.0000\n",
       "  0.9647  0.9843  1.0000  1.0000  1.0000  1.0000  0.9725  0.9451  1.0000\n",
       "  0.9647  0.9843  1.0000  1.0000  1.0000  1.0000  0.9725  0.9451  1.0000\n",
       "  0.9647  0.9843  1.0000  1.0000  1.0000  1.0000  0.9725  0.9451  1.0000\n",
       "  0.9647  0.9843  1.0000  1.0000  1.0000  1.0000  0.9725  0.9451  1.0000\n",
       "  0.9647  0.9843  1.0000  1.0000  1.0000  1.0000  0.9725  0.9373  1.0000\n",
       "  1.0000  1.0000  1.0000  0.9569  0.9529  0.9922  1.0000  1.0000  0.9255\n",
       "  1.0000  1.0000  1.0000  0.9647  0.9569  0.9804  1.0000  1.0000  0.8196\n",
       "  1.0000  1.0000  1.0000  0.9804  0.9647  0.9725  0.9804  0.9922  0.7725\n",
       "  1.0000  1.0000  1.0000  0.9843  0.9725  0.9647  0.9569  0.9569  0.8667\n",
       "  1.0000  1.0000  1.0000  1.0000  0.9843  0.9804  0.9804  0.9804  1.0000\n",
       "  1.0000  1.0000  1.0000  1.0000  0.9765  0.9804  1.0000  1.0000  1.0000\n",
       "  1.0000  1.0000  1.0000  1.0000  0.9529  0.9608  1.0000  1.0000  1.0000\n",
       "  0.9765  1.0000  1.0000  1.0000  0.8980  0.8863  0.9804  1.0000  0.9294\n",
       "  0.8627  1.0000  1.0000  0.9922  0.7843  0.7059  0.8078  0.9098  0.8745\n",
       "  0.4902  0.9255  1.0000  0.8745  0.3961  0.2667  0.3647  0.4431  0.8078\n",
       "  0.2235  0.7098  0.9608  0.8078  0.2863  0.1804  0.1961  0.2118  0.3373\n",
       "  0.1922  0.4824  0.6667  0.7176  "
      ]
     },
     "execution_count": 86,
     "metadata": {},
     "output_type": "execute_result"
    },
    {
     "data": {
      "text/plain": [
       "0.2667  0.1137  0.0157  0.0196  0.0588\n",
       "  0.1373  0.2863  0.4392  0.5490  0.1725  0.0039  0.0000  0.0000  0.0000\n",
       "  0.0745  0.1686  0.2627  0.3373  0.1373  0.0824  0.0039  0.0157  0.0000\n",
       "  0.0784  0.0863  0.1098  0.1294  0.1294  0.1255  0.0353  0.0039  0.3373\n",
       "  0.0118  0.0000  0.0235  0.0549  0.1529  0.1294  0.0902  0.1255  0.7922\n",
       "  0.1765  0.0157  0.0510  0.0510  0.0000  0.0000  0.0314  0.0196  0.9686\n",
       "  0.1647  0.0510  0.1137  0.0863  0.0392  0.0235  0.0941  0.1333  0.9059\n",
       "  0.1294  0.0784  0.1961  0.1098  0.0941  0.0471  0.1725  0.2627  0.8353\n",
       "  0.0667  0.0745  0.2235  0.1373  0.1059  0.0275  0.1882  0.3216  0.8275\n",
       "  0.0000  0.0314  0.2235  0.1725  0.0745  0.0000  0.1216  0.2667  0.8902\n",
       "  0.0000  0.0078  0.2431  0.2941  0.0706  0.0000  0.0196  0.1412  0.9843\n",
       "  0.0000  0.0549  0.3373  0.5098  0.1451  0.0000  0.0000  0.0549  1.0000\n",
       "  0.1020  0.2000  0.4941  0.7490  0.3255  0.1529  0.0667  0.0863  0.9020\n",
       "  0.2588  0.5333  0.8353  0.8627  0.6118  0.3333  0.2157  0.2196  0.7647\n",
       "  0.6431  0.8039  0.9922  1.0000  0.9412  0.7608  0.6431  0.6078  0.7412\n",
       "  0.9294  0.9451  1.0000  1.0000  1.0000  1.0000  0.9647  0.9176  0.7882\n",
       "  1.0000  0.9451  0.9804  1.0000  1.0000  1.0000  1.0000  1.0000  0.8902\n",
       "  0.9922  0.9294  0.9608  1.0000  1.0000  1.0000  1.0000  1.0000  0.9961\n",
       "  0.9608  0.9373  0.9922  1.0000  0.9843  0.9451  1.0000  1.0000  1.0000\n",
       "  0.9490  0.9686  1.0000  1.0000  0.9529  0.8745  0.9451  1.0000  0.9843\n",
       "  0.9529  1.0000  1.0000  1.0000  0.9451  0.8314  0.9020  1.0000  0.9373\n",
       "  1.0000  1.0000  1.0000  1.0000  1.0000  0.9922  0.9922  0.9843  1.0000\n",
       "  1.0000  1.0000  1.0000  1.0000  1.0000  0.9922  0.9922  0.9843  1.0000\n",
       "  1.0000  1.0000  1.0000  1.0000  1.0000  0.9922  0.9922  0.9843  1.0000\n",
       "  1.0000  1.0000  1.0000  1.0000  1.0000  0.9922  0.9922  0.9843  1.0000\n",
       "  1.0000  1.0000  1.0000  1.0000  1.0000  0.9922  0.9922  0.9843  1.0000\n",
       "  1.0000  1.0000  1.0000  1.0000  1.0000  0.9922  0.9922  0.9843  1.0000\n",
       "  1.0000  1.0000  1.0000  1.0000  1.0000  0.9922  0.9922  0.9843  1.0000\n",
       "  1.0000  1.0000  1.0000  1.0000  1.0000  0.9922  0.9922  0.9843  1.0000\n",
       "  1.0000  1.0000  1.0000  1.0000  1.0000  0.9922  0.9922  0.9843  1.0000\n",
       "  1.0000  1.0000  1.0000  1.0000  1.0000  0.9922  0.9922  0.9843  1.0000\n",
       "  1.0000  1.0000  1.0000  1.0000  1.0000  0.9922  0.9922  0.9843  1.0000\n",
       "  1.0000  1.0000  1.0000  1.0000  1.0000  0.9922  0.9922  0.9843  1.0000\n",
       "  1.0000  1.0000  1.0000  1.0000  1.0000  0.9922  0.9922  0.9843  1.0000\n",
       "  1.0000  1.0000  1.0000  1.0000  1.0000  0.9922  0.9922  0.9843  1.0000\n",
       "  1.0000  1.0000  1.0000  1.0000  1.0000  0.9922  0.9922  0.9843  1.0000\n",
       "  1.0000  1.0000  1.0000  1.0000  1.0000  0.9922  0.9922  0.9843  1.0000\n",
       "\n",
       "Columns 82 to 90\n",
       "  0.0039  0.0000  0.0000  0.0000  0.0000  0.0510  0.2627  0.7804  0.9608\n",
       "  0.0196  0.0000  0.0000  0.0000  0.0000  0.0078  0.1020  0.4627  0.8431\n",
       "  0.0392  0.0000  0.0000  0.0000  0.0000  0.0000  0.0275  0.1647  0.5882\n",
       "  0.0824  0.0431  0.0078  0.0000  0.0000  0.0000  0.0667  0.0824  0.2941\n",
       "  0.0980  0.0510  0.0235  0.0196  0.0000  0.0000  0.0627  0.0667  0.1294\n",
       "  0.1529  0.0706  0.0196  0.0235  0.0000  0.0000  0.0118  0.0157  0.1059\n",
       "  0.5020  0.3451  0.1294  0.0392  0.0314  0.0039  0.0000  0.0000  0.0706\n",
       "  0.9529  0.7333  0.3098  0.0706  0.0431  0.0314  0.0000  0.0353  0.0039\n",
       "  0.9686  0.9098  0.6980  0.2078  0.0471  0.0235  0.0000  0.0000  0.0157\n",
       "  1.0000  0.9725  0.8431  0.4824  0.1098  0.0471  0.0000  0.0000  0.0000\n",
       "  1.0000  0.9843  0.9451  0.7647  0.2314  0.0549  0.0235  0.0000  0.0000\n",
       "  0.9961  0.9882  0.9686  0.9098  0.4549  0.0941  0.0706  0.0000  0.0000\n",
       "  1.0000  1.0000  0.9765  0.9569  0.7373  0.1882  0.0902  0.0000  0.0000\n",
       "  1.0000  1.0000  0.9961  0.9647  0.9098  0.3490  0.0667  0.0039  0.0000\n",
       "  1.0000  1.0000  1.0000  0.9922  0.9490  0.6039  0.1137  0.0314  0.0000\n",
       "  1.0000  1.0000  1.0000  1.0000  0.9412  0.8353  0.2235  0.0667  0.0000\n",
       "  0.9843  1.0000  1.0000  1.0000  1.0000  0.9294  0.4784  0.1020  0.0588\n",
       "  0.9843  1.0000  1.0000  1.0000  1.0000  0.9725  0.6353  0.1451  0.0471\n",
       "  1.0000  1.0000  1.0000  1.0000  1.0000  0.9804  0.8235  0.2510  0.0275\n",
       "  1.0000  1.0000  1.0000"
      ]
     },
     "execution_count": 86,
     "metadata": {},
     "output_type": "execute_result"
    },
    {
     "data": {
      "text/plain": [
       "  1.0000  1.0000  0.9725  0.9176  0.4314  0.0314\n",
       "  1.0000  1.0000  1.0000  1.0000  1.0000  0.9451  0.9373  0.6235  0.0902\n",
       "  0.9882  1.0000  0.9961  1.0000  1.0000  0.9451  0.9529  0.7843  0.2353\n",
       "  0.9725  1.0000  1.0000  1.0000  1.0000  0.9647  0.9569  0.8784  0.4235\n",
       "  0.9804  1.0000  1.0000  0.9843  1.0000  0.9765  0.9647  0.9216  0.5686\n",
       "  1.0000  1.0000  1.0000  1.0000  1.0000  0.9922  0.9725  0.9373  0.7843\n",
       "  1.0000  1.0000  1.0000  1.0000  0.9922  0.9922  0.9843  0.9686  0.8471\n",
       "  1.0000  1.0000  0.9922  0.9922  0.9922  0.9922  0.9922  0.9843  0.9216\n",
       "  1.0000  1.0000  0.9922  0.9843  0.9843  0.9922  1.0000  1.0000  0.9725\n",
       "  1.0000  0.9922  0.9843  0.9804  0.9843  1.0000  1.0000  1.0000  1.0000\n",
       "  1.0000  0.9922  0.9843  0.9804  0.9843  1.0000  1.0000  1.0000  1.0000\n",
       "  1.0000  0.9922  0.9804  0.9804  0.9843  1.0000  1.0000  1.0000  1.0000\n",
       "  1.0000  0.9922  0.9804  0.9725  0.9804  1.0000  1.0000  1.0000  1.0000\n",
       "  1.0000  0.9922  0.9922  0.9922  1.0000  1.0000  1.0000  1.0000  1.0000\n",
       "  1.0000  0.9922  0.9922  0.9922  1.0000  1.0000  1.0000  1.0000  1.0000\n",
       "  1.0000  0.9922  0.9922  0.9922  1.0000  1.0000  1.0000  1.0000  1.0000\n",
       "  1.0000  0.9922  0.9922  0.9922  0.9922  1.0000  1.0000  1.0000  1.0000\n",
       "  1.0000  0.9922  0.9922  0.9922  0.9922  1.0000  1.0000  1.0000  1.0000\n",
       "  1.0000  0.9922  0.9922  0.9922  0.9922  1.0000  1.0000  1.0000  1.0000\n",
       "  1.0000  0.9922  0.9922  0.9843  0.9922  1.0000  1.0000  1.0000  1.0000\n",
       "  1.0000  0.9922  0.9843  0.9843  0.9922  1.0000  1.0000  1.0000  1.0000\n",
       "  1.0000  0.9922  0.9843  0.9843  0.9843  1.0000  1.0000  1.0000  1.0000\n",
       "  1.0000  0.9922  0.9843  0.9843  0.9843  1.0000  1.0000  1.0000  1.0000\n",
       "  1.0000  0.9922  0.9843  0.9843  0.9843  0.9922  1.0000  1.0000  1.0000\n",
       "  1.0000  1.0000  0.9843  0.9804  0.9843  0.9922  1.0000  1.0000  1.0000\n",
       "  1.0000  1.0000  0.9843  0.9804  0.9843  0.9922  1.0000  1.0000  1.0000\n",
       "  1.0000  1.0000  0.9843  0.9804  0.9804  0.9922  1.0000  1.0000  1.0000\n",
       "  1.0000  1.0000  0.9843  0.9804  0.9804  0.9922  1.0000  1.0000  1.0000\n",
       "  1.0000  1.0000  0.9843  0.9804  0.9804  0.9922  1.0000  1.0000  1.0000\n",
       "  1.0000  1.0000  1.0000  1.0000  1.0000  1.0000  1.0000  1.0000  1.0000\n",
       "  1.0000  1.0000  1.0000  1.0000  1.0000  1.0000  1.0000  1.0000  1.0000\n",
       "  1.0000  1.0000  1.0000  1.0000  1.0000  1.0000  1.0000  1.0000  1.0000\n",
       "  1.0000  1.0000  1.0000  1.0000  1.0000  1.0000  1.0000  1.0000  1.0000\n",
       "  1.0000  1.0000  1.0000  1.0000  1.0000  1.0000  1.0000  0.9961  0.9922\n",
       "  1.0000  1.0000  1.0000  1.0000  1.0000  1.0000  1.0000  0.9961  0.9843\n",
       "  1.0000  1.0000  1.0000  1.0000  1.0000  1.0000  1.0000  1.0000  0.9765\n",
       "  1.0000  1.0000  1.0000  1.0000  1.0000  1.0000  1.0000  1.0000  0.9725\n",
       "  1.0000  1.0000  1.0000  1.0000  1.0000  1.0000  1.0000  1.0000  1.0000\n",
       "  1.0000  1.0000  1.0000  1.0000  1.0000  1.0000  1.0000  1.0000  1.0000\n",
       "  1.0000  1.0000  1.0000  1.0000  1.0000  1.0000  1.0000  1.0000  1.0000\n",
       "  1.0000  1.0000  1.0000  1.0000  1.0000  1.0000  1.0000  1.0000  1.0000\n",
       "  1.0000  1.0000  1.0000  1.0000  1.0000  1.0000  1.0000  1.0000  1.0000\n",
       "  1.0000  1.0000  1.0000  1.0000  1.0000  1.0000  1.0000  1.0000  1.0000\n",
       "  1.0000  1.0000  1.0000  1.0000  1.0000  1.0000  1.0000  1.0000  1.0000\n",
       "  1.0000  1.0000  1.0000  1.0000  1.0000  1.0000  1.0000  1.0000  1.0000\n",
       "  1.0000  1.0000  1.0000  1.0000  1.0000  1.0000  1.0000  1.0000  1.0000\n",
       "  1.0000  1.0000  1.0000  1.0000  1.0000  1.0000  1.0000  1.0000  1.0000\n",
       "  1.0000  1.0000  1.0000  1.0000  1.0000  1.0000  1.0000  1.0000  1.0000\n",
       "  1.0000  1.0000  1.0000  1.0000  1.0000  1.0000  1.0000  1.0000  1.0000\n",
       "  1.0000  1.0000  1.0000  1.0000  1.0000  1.0000  1.0000  1.0000  1.0000\n",
       "  1.0000  1.0000  1.0000  1.0000  1.0000  1.0000  1.0000  1.0000  1.0000\n",
       "  1.0000  1.0000  1.0000  1.0000  1.0000  1.0000  1.0000  1.0000  1.0000\n",
       "  1.0000  1.0000  1.0000  1.0000  1.0000  1.0000  1.0000  1.0000  1.0000\n",
       "  1.0000  1.0000  1.0000  1.0000  1.0000  1.0000  1.0000  1.0000  1.0000\n",
       "  1.0000  1.0000  1.0000  1.0000  1.0000  1.0000  1.0000  1.0000  1.0000\n",
       "  1.0000  1.0000  1.0000  1.0000  1.0000  1.0000  1.0000  1.0000  1.0000\n",
       "  1.0000  1.0000  1.0000  1.0000"
      ]
     },
     "execution_count": 86,
     "metadata": {},
     "output_type": "execute_result"
    },
    {
     "data": {
      "text/plain": [
       "  1.0000  1.0000  1.0000  1.0000  1.0000\n",
       "  1.0000  1.0000  1.0000  1.0000  1.0000  1.0000  1.0000  1.0000  1.0000\n",
       "  1.0000  1.0000  1.0000  1.0000  1.0000  1.0000  1.0000  1.0000  1.0000\n",
       "  1.0000  1.0000  1.0000  1.0000  1.0000  1.0000  1.0000  1.0000  1.0000\n",
       "  1.0000  1.0000  1.0000  1.0000  1.0000  1.0000  1.0000  1.0000  1.0000\n",
       "  0.9804  0.9922  0.9176  0.8039  0.8000  0.9569  1.0000  1.0000  1.0000\n",
       "  0.9294  1.0000  1.0000  0.9373  0.8745  0.9255  1.0000  1.0000  1.0000\n",
       "  0.9176  1.0000  1.0000  1.0000  0.9647  0.9020  0.9255  1.0000  1.0000\n",
       "  0.9922  1.0000  1.0000  1.0000  1.0000  0.9020  0.8667  0.9098  0.9647\n",
       "  1.0000  1.0000  1.0000  1.0000  1.0000  0.9176  0.8824  0.9020  0.9373\n",
       "  1.0000  1.0000  1.0000  1.0000  0.9569  0.9098  0.8941  0.9255  0.9686\n",
       "  1.0000  0.9725  0.9725  0.9725  0.9451  0.9098  0.8941  0.9490  1.0000\n",
       "  0.9176  0.9255  0.9529  0.9843  0.9843  0.9529  0.9373  0.9804  1.0000\n",
       "  0.8510  0.8588  0.8784  0.9098  1.0000  1.0000  1.0000  1.0000  1.0000\n",
       "  0.6078  0.4118  0.3725  0.5216  0.8039  1.0000  1.0000  1.0000  0.7255\n",
       "  0.3412  0.3137  0.2431  0.2314  0.4431  0.8588  1.0000  0.9098  0.4392\n",
       "  0.0745  0.0627  0.0078  0.0118  0.1882  0.5608  0.8745  0.5765  0.2118\n",
       "  0.0000  0.0000  0.0000  0.0000  0.0078  0.2902  0.5725  0.4157  0.2000\n",
       "  0.0196  0.0706  0.0000  0.0000  0.0000  0.1412  0.5020  0.4275  0.2745\n",
       "  0.4314  0.3020  0.0196  0.0000  0.0000  0.1922  0.6118  0.5765  0.3412\n",
       "  0.8824  0.6667  0.2392  0.0000  0.0000  0.2980  0.7882  0.9686  0.5882\n",
       "  1.0000  0.7020  0.0235  0.0000  0.0000  0.2471  0.5882  0.3686  0.0235\n",
       "  1.0000  0.7882  0.1686  0.0000  0.0000  0.2118  0.4275  0.2941  0.0902\n",
       "  1.0000  0.9059  0.3569  0.0510  0.0000  0.1686  0.2196  0.2039  0.0980\n",
       "  1.0000  0.9882  0.4627  0.1294  0.0471  0.1451  0.0784  0.1255  0.0157\n",
       "  1.0000  0.9765  0.4196  0.0824  0.0078  0.1059  0.0275  0.1059  0.0000\n",
       "  1.0000  0.8941  0.2745  0.0000  0.0000  0.0863  0.0863  0.1647  0.0000\n",
       "  1.0000  0.8078  0.1647  0.0000  0.0000  0.1490  0.2588  0.2157  0.0000\n",
       "  1.0000  0.7608  0.1843  0.0275  0.0667  0.2980  0.4667  0.2667  0.1725\n",
       "  0.9451  0.7686  0.3373  0.1451  0.1765  0.4235  0.7294  0.5882  0.3451\n",
       "  0.9176  0.9176  0.6588  0.5333  0.5725  0.7569  0.9608  0.8667  0.7216\n",
       "  0.9569  1.0000  0.9216  0.8196  0.8706  1.0000  1.0000  1.0000  0.9529\n",
       "  1.0000  1.0000  1.0000  0.9098  0.9647  1.0000  1.0000  1.0000  1.0000\n",
       "  1.0000  1.0000  1.0000  0.8941  0.9529  1.0000  1.0000  1.0000  0.9843\n",
       "  1.0000  1.0000  0.9922  0.8549  0.9176  1.0000  1.0000  1.0000  0.9529\n",
       "  1.0000  1.0000  0.9686  0.8431  0.8824  1.0000  1.0000  1.0000  0.9216\n",
       "  1.0000  1.0000  0.9490  0.8392  0.8667  0.9843  1.0000  0.9922  0.9255\n",
       "  1.0000  1.0000  1.0000  1.0000  1.0000  1.0000  1.0000  1.0000  1.0000\n",
       "  1.0000  1.0000  1.0000  1.0000  1.0000  1.0000  1.0000  1.0000  1.0000\n",
       "  1.0000  1.0000  1.0000  1.0000  1.0000  1.0000  1.0000  1.0000  1.0000\n",
       "  1.0000  1.0000  1.0000  1.0000  1.0000  1.0000  1.0000  1.0000  1.0000\n",
       "  1.0000  1.0000  1.0000  1.0000  1.0000  1.0000  1.0000  1.0000  1.0000\n",
       "  1.0000  1.0000  1.0000  1.0000  1.0000  1.0000  1.0000  1.0000  1.0000\n",
       "  1.0000  1.0000  1.0000  1.0000  1.0000  1.0000  1.0000  1.0000  1.0000\n",
       "  1.0000  1.0000  1.0000  1.0000  1.0000  1.0000  1.0000  1.0000  1.0000\n",
       "  1.0000  1.0000  1.0000  1.0000  1.0000  1.0000  1.0000  1.0000  1.0000\n",
       "  1.0000  1.0000  1.0000  1.0000  1.0000  1.0000  1.0000  1.0000  1.0000\n",
       "  1.0000  1.0000  1.0000  1.0000  1.0000  1.0000  1.0000  1.0000  1.0000\n",
       "  1.0000  1.0000  1.0000  1.0000  1.0000  1.0000  1.0000  1.0000  1.0000\n",
       "  1.0000  1.0000  1.0000  1.0000  1.0000  1.0000  1.0000  1.0000  1.0000\n",
       "  1.0000  1.0000  1.0000  1.0000  1.0000  1.0000  1.0000  1.0000  1.0000\n",
       "  1.0000  1.0000  1.0000  1.0000  1.0000  1.0000  1.0000  1.0000  1.0000\n",
       "  1.0000  1.0000  1.0000  1.0000  1.0000  1.0000  1.0000  1.0000  1.0000\n",
       "\n",
       "Columns 91 to 99\n",
       "  0.9804  1.0000  1.0000  0.9961  1.0000  0.9765  1.0000  1.0000  1.0000\n",
       "  1.0000  0.9804  1.0000  1.0000  0.9569  0.9922  1.0000  1.0000  1.0000\n",
       "  0.9647  0.9843  1.0000  1.0000  0.9451  1.0000  1.0000  1.0000  1.0000\n",
       "  0.7608  0.9843  0.96"
      ]
     },
     "execution_count": 86,
     "metadata": {},
     "output_type": "execute_result"
    },
    {
     "data": {
      "text/plain": [
       "86  1.0000  1.0000  0.9882  1.0000  1.0000  1.0000\n",
       "  0.4431  0.8784  0.9804  0.9765  1.0000  0.9922  1.0000  1.0000  1.0000\n",
       "  0.1686  0.6039  0.9725  0.9765  0.9961  1.0000  1.0000  1.0000  1.0000\n",
       "  0.0745  0.3176  0.7843  0.9765  0.9765  1.0000  1.0000  1.0000  1.0000\n",
       "  0.0706  0.1529  0.5176  0.9490  0.9922  0.9922  1.0000  1.0000  1.0000\n",
       "  0.0549  0.0627  0.2431  0.7725  0.9608  1.0000  0.9961  1.0000  0.9922\n",
       "  0.0235  0.0431  0.1608  0.5176  0.9020  0.9686  1.0000  1.0000  1.0000\n",
       "  0.0039  0.0392  0.0706  0.2275  0.7608  0.9294  1.0000  1.0000  1.0000\n",
       "  0.0000  0.0314  0.0353  0.0745  0.5176  0.8745  0.9961  0.9843  0.9882\n",
       "  0.0000  0.0000  0.0196  0.0667  0.2471  0.7569  1.0000  0.9882  0.9804\n",
       "  0.0000  0.0000  0.0157  0.0667  0.0824  0.5294  0.9804  1.0000  1.0000\n",
       "  0.0000  0.0000  0.0039  0.0196  0.0784  0.2627  0.8824  0.9725  1.0000\n",
       "  0.0000  0.0000  0.0000  0.0000  0.1451  0.0824  0.7804  0.9255  1.0000\n",
       "  0.0000  0.0235  0.0000  0.0000  0.0078  0.0471  0.3804  0.8902  0.9412\n",
       "  0.0157  0.0118  0.0000  0.0039  0.0275  0.0353  0.2392  0.7294  0.9451\n",
       "  0.0588  0.0000  0.0000  0.0157  0.0314  0.0353  0.1216  0.5020  0.9255\n",
       "  0.0667  0.0000  0.0000  0.0157  0.0196  0.0235  0.1020  0.3176  0.8392\n",
       "  0.0392  0.0000  0.0275  0.0078  0.0000  0.0196  0.1098  0.1765  0.6824\n",
       "  0.0353  0.0235  0.0431  0.0157  0.0000  0.0157  0.0784  0.0863  0.4745\n",
       "  0.0745  0.0510  0.0314  0.0235  0.0000  0.0118  0.0588  0.0667  0.2627\n",
       "  0.1333  0.0706  0.0235  0.0314  0.0000  0.0000  0.0627  0.0902  0.1333\n",
       "  0.2078  0.0863  0.0549  0.0000  0.0000  0.0000  0.0235  0.0549  0.0667\n",
       "  0.3451  0.1098  0.0784  0.0157  0.0000  0.0000  0.0118  0.0196  0.0627\n",
       "  0.5373  0.1373  0.0902  0.0353  0.0000  0.0000  0.0000  0.0000  0.0588\n",
       "  0.7098  0.1765  0.0824  0.0392  0.0000  0.0000  0.0000  0.0000  0.0431\n",
       "  0.8353  0.2667  0.0706  0.0235  0.0000  0.0000  0.0000  0.0000  0.0039\n",
       "  0.9098  0.4196  0.0784  0.0078  0.0000  0.0000  0.0000  0.0000  0.0000\n",
       "  0.9451  0.5843  0.1059  0.0000  0.0000  0.0000  0.0000  0.0000  0.0000\n",
       "  0.9647  0.6980  0.1412  0.0000  0.0000  0.0000  0.0000  0.0000  0.0039\n",
       "  0.9647  0.8039  0.2196  0.0863  0.0000  0.0196  0.0000  0.0000  0.0157\n",
       "  0.9725  0.8471  0.3176  0.0824  0.0118  0.0118  0.0000  0.0000  0.0078\n",
       "  0.9725  0.8941  0.4706  0.0824  0.0392  0.0078  0.0000  0.0000  0.0000\n",
       "  0.9725  0.9294  0.6157  0.1020  0.0588  0.0039  0.0000  0.0000  0.0000\n",
       "  0.9647  0.9373  0.7176  0.1569  0.0667  0.0196  0.0000  0.0000  0.0000\n",
       "  0.9608  0.9451  0.7922  0.2667  0.0706  0.0392  0.0000  0.0000  0.0000\n",
       "  0.9686  0.9569  0.8627  0.3922  0.0745  0.0667  0.0000  0.0000  0.0039\n",
       "  0.9922  0.9647  0.9059  0.4902  0.0863  0.0902  0.0000  0.0078  0.0118\n",
       "  1.0000  0.9686  0.9020  0.6667  0.1373  0.0784  0.0078  0.0039  0.0000\n",
       "  1.0000  0.9804  0.9176  0.7373  0.2000  0.1020  0.0196  0.0078  0.0000\n",
       "  0.9765  0.9843  0.9373  0.8314  0.2902  0.1216  0.0235  0.0118  0.0000\n",
       "  0.9725  0.9922  0.9490  0.9059  0.3961  0.1294  0.0314  0.0235  0.0000\n",
       "  0.9843  1.0000  0.9529  0.9451  0.5137  0.1451  0.0275  0.0235  0.0118\n",
       "  1.0000  1.0000  0.9608  0.9529  0.6235  0.1882  0.0235  0.0196  0.0078\n",
       "  1.0000  0.9961  0.9725  0.9569  0.7373  0.2431  0.0235  0.0157  0.0078\n",
       "  1.0000  0.9804  0.9804  0.9569  0.8000  0.2824  0.0196  0.0157  0.0039\n",
       "  0.9922  1.0000  1.0000  0.9882  0.9294  0.4353  0.1098  0.0275  0.0000\n",
       "  0.9961  1.0000  1.0000  0.9922  0.9569  0.5137  0.1020  0.0196  0.0000\n",
       "  1.0000  0.9922  1.0000  0.9961  0.9843  0.6235  0.0941  0.0235  0.0000\n",
       "  1.0000  0.9922  1.0000  0.9922  0.9922  0.7216  0.1137  0.0235  0.0000\n",
       "  1.0000  0.9922  1.0000  0.9882  0.9843  0.7961  0.1529  0.0392  0.0000\n",
       "  1.0000  0.9843  1.0000  0.9922  0.9765  0.8627  0.2039  0.0667  0.0000\n",
       "  1.0000  0.9725  1.0000  1.0000  0.9882  0.9294  0.2706  0.1020  0.0000\n",
       "  1.0000  0.9608  1.0000  1.0000  1.0000  0.9765  0.3098  0.1176  0.0000\n",
       "  1.0000  1.0000  1.0000  1.0000  0.9961  0.9922  0.4627  0.0667  0.0353\n",
       "  1.0000  1.0000  1.0000  1.0000  0.9961  0.9922  0.5412  0.0980  0.0314\n",
       "  1.0000  1.0000  1.0000  1.0000  0.9961  0.9922  0.6353  0.1333  0.0275\n",
       "  1.0000  1.0000  1.0000  1.00"
      ]
     },
     "execution_count": 86,
     "metadata": {},
     "output_type": "execute_result"
    },
    {
     "data": {
      "text/plain": [
       "00  0.9961  0.9922  0.7255  0.1647  0.0118\n",
       "  1.0000  1.0000  1.0000  1.0000  0.9961  0.9922  0.7922  0.1922  0.0118\n",
       "  1.0000  1.0000  1.0000  1.0000  0.9961  0.9922  0.8510  0.2392  0.0353\n",
       "  1.0000  1.0000  1.0000  1.0000  0.9961  0.9922  0.8941  0.2863  0.0667\n",
       "  1.0000  1.0000  1.0000  1.0000  0.9961  0.9922  0.9294  0.3294  0.0941\n",
       "  1.0000  1.0000  1.0000  1.0000  1.0000  1.0000  0.9451  0.5255  0.0784\n",
       "  1.0000  1.0000  1.0000  1.0000  1.0000  1.0000  0.9647  0.5647  0.0980\n",
       "  1.0000  1.0000  1.0000  1.0000  1.0000  1.0000  0.9804  0.6275  0.1294\n",
       "  1.0000  1.0000  1.0000  1.0000  1.0000  1.0000  0.9843  0.6980  0.1647\n",
       "  1.0000  1.0000  1.0000  1.0000  1.0000  1.0000  0.9843  0.7608  0.1882\n",
       "  1.0000  1.0000  1.0000  1.0000  1.0000  1.0000  0.9882  0.8196  0.2235\n",
       "  1.0000  1.0000  1.0000  1.0000  1.0000  1.0000  1.0000  0.8824  0.2627\n",
       "  1.0000  1.0000  1.0000  1.0000  1.0000  1.0000  1.0000  0.9255  0.2980\n",
       "  1.0000  1.0000  1.0000  1.0000  1.0000  1.0000  1.0000  0.9529  0.3922\n",
       "  1.0000  1.0000  1.0000  1.0000  1.0000  1.0000  1.0000  0.9647  0.4235\n",
       "  1.0000  1.0000  1.0000  1.0000  1.0000  1.0000  1.0000  0.9686  0.4863\n",
       "  1.0000  1.0000  1.0000  1.0000  1.0000  1.0000  1.0000  0.9725  0.5569\n",
       "  1.0000  1.0000  1.0000  1.0000  1.0000  1.0000  1.0000  0.9725  0.6196\n",
       "  1.0000  1.0000  1.0000  1.0000  1.0000  1.0000  1.0000  0.9804  0.6902\n",
       "  1.0000  1.0000  1.0000  1.0000  1.0000  1.0000  1.0000  0.9843  0.7412\n",
       "  1.0000  1.0000  1.0000  1.0000  1.0000  1.0000  1.0000  0.9882  0.7725\n",
       "  1.0000  0.9176  0.8824  0.9373  1.0000  1.0000  1.0000  1.0000  0.8941\n",
       "  1.0000  1.0000  0.9922  1.0000  1.0000  1.0000  1.0000  1.0000  0.9608\n",
       "  1.0000  1.0000  1.0000  1.0000  1.0000  1.0000  0.9882  1.0000  0.9765\n",
       "  1.0000  1.0000  1.0000  0.9922  1.0000  1.0000  0.9176  0.9922  0.9961\n",
       "  0.9373  0.9020  0.8824  0.9020  0.9647  1.0000  0.8000  0.8941  0.9373\n",
       "  0.9686  0.9216  0.8706  0.8902  0.9686  1.0000  0.8039  0.9255  0.9922\n",
       "  1.0000  1.0000  1.0000  0.9804  1.0000  1.0000  0.8353  0.9804  1.0000\n",
       "  1.0000  1.0000  1.0000  1.0000  0.9882  0.9882  0.9725  1.0000  0.9922\n",
       "  0.9765  0.8471  0.7412  0.7255  0.7765  0.8196  1.0000  1.0000  1.0000\n",
       "  0.3843  0.2078  0.1922  0.2627  0.3490  0.4078  0.8078  1.0000  1.0000\n",
       "  0.0196  0.0000  0.0000  0.1098  0.2118  0.2706  0.4235  0.8353  1.0000\n",
       "  0.0000  0.0000  0.0000  0.0824  0.1529  0.1804  0.0824  0.5333  0.8627\n",
       "  0.0157  0.0039  0.1098  0.1961  0.1490  0.0549  0.0000  0.3137  0.6941\n",
       "  0.1529  0.2275  0.4078  0.4549  0.2235  0.0000  0.0000  0.2314  0.6196\n",
       "  0.1569  0.2784  0.5137  0.5176  0.1765  0.0000  0.0000  0.2745  0.6353\n",
       "  0.2549  0.3020  0.5098  0.4863  0.1529  0.0000  0.0000  0.3294  0.6863\n",
       "  0.0000  0.0902  0.2078  0.2745  0.0627  0.0000  0.0000  0.1843  0.5961\n",
       "  0.0000  0.1569  0.3451  0.3176  0.0745  0.0000  0.0000  0.1922  0.5725\n",
       "  0.1059  0.3569  0.7255  0.5882  0.1922  0.0000  0.0000  0.2196  0.5725\n",
       "  0.1333  0.4392  0.8353  0.6667  0.2431  0.0000  0.0078  0.2667  0.6157\n",
       "  0.0275  0.2510  0.4745  0.3686  0.1529  0.0000  0.0078  0.2902  0.6588\n",
       "  0.0000  0.0235  0.1686  0.1725  0.0902  0.0000  0.0000  0.2510  0.6510\n",
       "  0.0000  0.0000  0.1059  0.1569  0.0667  0.0000  0.0000  0.1882  0.6078\n",
       "  0.0078  0.0706  0.1490  0.1647  0.0706  0.1843  0.0000  0.2078  0.6078\n",
       "  0.2275  0.3020  0.4235  0.4392  0.3569  0.2863  0.1020  0.3490  0.6510\n",
       "  0.6902  0.8078  0.8941  0.8667  0.7490  0.6667  0.6314  0.7725  0.9490\n",
       "  0.9686  1.0000  1.0000  1.0000  0.9373  0.8824  1.0000  1.0000  1.0000\n",
       "  0.9961  1.0000  1.0000  0.9725  0.9216  0.9137  1.0000  1.0000  0.9922\n",
       "  0.9373  0.9373  0.9137  0.8784  0.8980  0.9451  1.0000  0.9608  0.9020\n",
       "  0.8902  0.8745  0.8627  0.8667  0.9451  1.0000  0.9569  0.9176  0.9020\n",
       "  0.8980  0.9059  0.8980  0.9294  1.0000  1.0000  0.9176  0.9216  1.0000\n",
       "  0.9294  0.9647  0.9725  1.0000  1.0000  1.0000  0.9451  1.0000  1.0000\n",
       "  1.0000  1.0000  1.0000  1.0000  1.0000  1.0000  1.0000  1.0000  0.9843\n",
       "  1.0000  1.0000  1.0000  1.0000  1.0000  1.0000  1.0000  1.0000  0.9843\n",
       "  1.0000  1.0000  1.0000  1.0000  1.0000  1.0000  1.0000  1.0000  0.9843\n",
       "  1.0000  1.0000  1.0000  1.0000  1.00"
      ]
     },
     "execution_count": 86,
     "metadata": {},
     "output_type": "execute_result"
    },
    {
     "data": {
      "text/plain": [
       "00  1.0000  1.0000  1.0000  0.9843\n",
       "  1.0000  1.0000  1.0000  1.0000  1.0000  1.0000  1.0000  1.0000  0.9843\n",
       "  1.0000  1.0000  1.0000  1.0000  1.0000  1.0000  1.0000  1.0000  0.9843\n",
       "  1.0000  1.0000  1.0000  1.0000  1.0000  1.0000  1.0000  1.0000  0.9843\n",
       "  1.0000  1.0000  1.0000  1.0000  1.0000  1.0000  1.0000  1.0000  0.9843\n",
       "  1.0000  1.0000  1.0000  1.0000  1.0000  1.0000  1.0000  1.0000  0.9843\n",
       "  1.0000  1.0000  1.0000  1.0000  1.0000  1.0000  1.0000  1.0000  0.9843\n",
       "  1.0000  1.0000  1.0000  1.0000  1.0000  1.0000  1.0000  1.0000  0.9843\n",
       "  1.0000  1.0000  1.0000  1.0000  1.0000  1.0000  1.0000  1.0000  0.9843\n",
       "  1.0000  1.0000  1.0000  1.0000  1.0000  1.0000  1.0000  1.0000  0.9843\n",
       "  1.0000  1.0000  1.0000  1.0000  1.0000  1.0000  1.0000  1.0000  0.9804\n",
       "  1.0000  1.0000  1.0000  1.0000  1.0000  1.0000  1.0000  1.0000  0.9804\n",
       "  1.0000  1.0000  1.0000  1.0000  1.0000  1.0000  1.0000  1.0000  0.9765\n",
       "\n",
       "Columns 100 to 108\n",
       "  1.0000  1.0000  1.0000  1.0000  1.0000  1.0000  1.0000  1.0000  1.0000\n",
       "  1.0000  1.0000  1.0000  1.0000  1.0000  1.0000  1.0000  1.0000  1.0000\n",
       "  1.0000  1.0000  1.0000  1.0000  1.0000  1.0000  1.0000  1.0000  1.0000\n",
       "  1.0000  1.0000  1.0000  1.0000  1.0000  1.0000  1.0000  1.0000  1.0000\n",
       "  1.0000  1.0000  1.0000  1.0000  1.0000  1.0000  1.0000  1.0000  1.0000\n",
       "  1.0000  1.0000  1.0000  1.0000  1.0000  1.0000  1.0000  1.0000  1.0000\n",
       "  1.0000  1.0000  1.0000  1.0000  1.0000  1.0000  1.0000  1.0000  1.0000\n",
       "  1.0000  1.0000  1.0000  1.0000  1.0000  1.0000  1.0000  1.0000  1.0000\n",
       "  0.9765  0.9882  1.0000  1.0000  0.9843  1.0000  1.0000  1.0000  1.0000\n",
       "  1.0000  0.9961  1.0000  1.0000  0.9922  1.0000  1.0000  1.0000  1.0000\n",
       "  1.0000  1.0000  0.9882  0.9922  1.0000  1.0000  1.0000  1.0000  1.0000\n",
       "  1.0000  1.0000  0.9882  0.9961  1.0000  1.0000  1.0000  1.0000  1.0000\n",
       "  0.9922  1.0000  0.9961  1.0000  1.0000  1.0000  1.0000  1.0000  1.0000\n",
       "  1.0000  0.9961  1.0000  1.0000  0.9961  1.0000  1.0000  1.0000  1.0000\n",
       "  1.0000  0.9843  1.0000  1.0000  0.9882  1.0000  1.0000  1.0000  1.0000\n",
       "  1.0000  0.9686  0.9922  1.0000  0.9922  1.0000  1.0000  1.0000  1.0000\n",
       "  0.9647  1.0000  1.0000  0.9961  1.0000  1.0000  1.0000  0.9843  0.9804\n",
       "  0.9686  1.0000  1.0000  1.0000  1.0000  1.0000  1.0000  0.9843  0.9804\n",
       "  0.9647  0.9765  1.0000  1.0000  1.0000  1.0000  1.0000  0.9843  0.9804\n",
       "  0.9490  0.9529  1.0000  1.0000  1.0000  1.0000  1.0000  0.9843  0.9804\n",
       "  0.9255  0.9804  0.9725  1.0000  1.0000  1.0000  1.0000  0.9843  0.9843\n",
       "  0.8745  0.9725  0.9843  0.9961  1.0000  1.0000  1.0000  0.9922  0.9843\n",
       "  0.7412  0.9569  0.9922  0.9922  1.0000  1.0000  1.0000  0.9922  0.9843\n",
       "  0.6157  0.9373  0.9843  0.9882  1.0000  1.0000  1.0000  0.9922  0.9843\n",
       "  0.3804  0.9137  0.9725  1.0000  1.0000  1.0000  1.0000  0.9922  0.9843\n",
       "  0.2667  0.8039  0.9451  0.9922  0.9882  1.0000  1.0000  0.9922  0.9922\n",
       "  0.1294  0.6235  0.9255  0.9843  0.9765  1.0000  1.0000  0.9922  0.9922\n",
       "  0.0706  0.4235  0.9137  0.9843  0.9804  1.0000  1.0000  1.0000  0.9922\n",
       "  0.0706  0.2549  0.8549  0.9725  1.0000  1.0000  1.0000  1.0000  0.9922\n",
       "  0.0941  0.1569  0.7137  0.9333  1.0000  1.0000  1.0000  1.0000  0.9922\n",
       "  0.0784  0.1294  0.5098  0.9059  0.9922  1.0000  1.0000  1.0000  0.9922\n",
       "  0.0471  0.1216  0.3647  0.8941  0.9922  1.0000  1.0000  1.0000  0.9922\n",
       "  0.0000  0.0745  0.1333  0.7059  0.9373  0.9765  1.0000  1.0000  1.0000\n",
       "  0.0000  0.0549  0.1216  0.5922  0.9216  0.9843  1.0000  1.0000  1.0000\n",
       "  0.0039  0.0314  0.0980  0.4196  0.8980  0.9843  1.0000  1.0000  1.0000\n",
       "  0.0118  0.0157  0.0941  0.2549  0.8314  0.9804  1.0000  1.0000  1.0000\n",
       "  0.0196  0.0235  0.0902  0.1490  0.7255  0.9725  1.0000  1.0000  1.0000\n",
       "  0.0157  0.0275  0.0863  0.0980  0.5686  0.9373  0.9843  1.0000  1.0000\n",
       "  0.0000  0.0275  0.0588  0.0784  0.3882  0.9098  0.9608  1.0000  1.0000\n",
       "  0.0000  0.0235  0.0392  0.0745  0.2706  0.8863  0.9412  0.9922  1.0000\n",
       "  0.0000  0.0118  0.0510  0.0941  0.1412  0.7137  0.9529  0.9882  0.9804\n",
       "  0.0000  0.0039  0.0314  0.0745  0.1255  0.5843  0.9490  0.9686  0.9843\n",
       "  0.0000  0.0039  0.0196  0.0588  0.1059  0.4078  0.9294  0.9529  0.9922\n",
       "  0.0000  0.0000  0.0118  "
      ]
     },
     "execution_count": 86,
     "metadata": {},
     "output_type": "execute_result"
    },
    {
     "data": {
      "text/plain": [
       "0.0431  0.0824  0.2706  0.8902  0.9451  0.9922\n",
       "  0.0000  0.0000  0.0039  0.0275  0.0667  0.1804  0.8039  0.9451  0.9843\n",
       "  0.0000  0.0000  0.0000  0.0196  0.0627  0.1412  0.6588  0.9451  0.9765\n",
       "  0.0000  0.0000  0.0000  0.0196  0.0549  0.1255  0.4902  0.9412  0.9608\n",
       "  0.0000  0.0000  0.0000  0.0157  0.0549  0.1137  0.3804  0.9373  0.9569\n",
       "  0.0000  0.0000  0.0431  0.0824  0.0314  0.0353  0.1529  0.7529  0.9333\n",
       "  0.0000  0.0000  0.0392  0.0824  0.0392  0.0157  0.1059  0.6863  0.9412\n",
       "  0.0000  0.0000  0.0353  0.0824  0.0471  0.0118  0.0431  0.5882  0.9490\n",
       "  0.0000  0.0000  0.0314  0.0784  0.0471  0.0157  0.0000  0.4706  0.9373\n",
       "  0.0000  0.0000  0.0353  0.0706  0.0471  0.0275  0.0000  0.3529  0.9020\n",
       "  0.0000  0.0000  0.0392  0.0667  0.0353  0.0157  0.0000  0.2510  0.8392\n",
       "  0.0000  0.0000  0.0431  0.0588  0.0196  0.0000  0.0118  0.1490  0.7647\n",
       "  0.0000  0.0000  0.0392  0.0588  0.0078  0.0000  0.0157  0.0902  0.7098\n",
       "  0.0000  0.0000  0.0275  0.0549  0.0118  0.0000  0.0000  0.0706  0.5725\n",
       "  0.0000  0.0000  0.0235  0.0471  0.0157  0.0000  0.0000  0.0549  0.4902\n",
       "  0.0000  0.0078  0.0235  0.0353  0.0157  0.0000  0.0000  0.0392  0.3725\n",
       "  0.0000  0.0157  0.0196  0.0314  0.0157  0.0000  0.0000  0.0314  0.2784\n",
       "  0.0000  0.0118  0.0235  0.0314  0.0157  0.0000  0.0000  0.0275  0.2118\n",
       "  0.0000  0.0118  0.0275  0.0314  0.0039  0.0000  0.0000  0.0235  0.1804\n",
       "  0.0000  0.0078  0.0353  0.0353  0.0000  0.0000  0.0000  0.0118  0.1569\n",
       "  0.0000  0.0039  0.0392  0.0353  0.0000  0.0000  0.0000  0.0000  0.1451\n",
       "  0.0157  0.0000  0.0000  0.0000  0.0275  0.0392  0.0000  0.0431  0.0314\n",
       "  0.0275  0.0000  0.0000  0.0000  0.0353  0.0275  0.0000  0.0314  0.0196\n",
       "  0.0275  0.0000  0.0000  0.0000  0.0353  0.0078  0.0196  0.0118  0.0196\n",
       "  0.0196  0.0000  0.0000  0.0000  0.0353  0.0039  0.0431  0.0039  0.0235\n",
       "  0.0196  0.0000  0.0000  0.0118  0.0353  0.0118  0.0510  0.0000  0.0196\n",
       "  0.0275  0.0000  0.0000  0.0196  0.0275  0.0196  0.0392  0.0000  0.0196\n",
       "  0.0392  0.0000  0.0000  0.0235  0.0157  0.0275  0.0078  0.0000  0.0039\n",
       "  0.0510  0.0118  0.0000  0.0275  0.0039  0.0275  0.0000  0.0000  0.0000\n",
       "  0.0157  0.0157  0.0000  0.0000  0.0353  0.0314  0.0078  0.0000  0.0000\n",
       "  0.0353  0.0275  0.0000  0.0000  0.0392  0.0235  0.0000  0.0000  0.0000\n",
       "  0.0627  0.0353  0.0118  0.0039  0.0392  0.0196  0.0000  0.0000  0.0000\n",
       "  0.0824  0.0314  0.0078  0.0078  0.0314  0.0157  0.0078  0.0000  0.0000\n",
       "  0.1020  0.0314  0.0039  0.0118  0.0235  0.0196  0.0118  0.0000  0.0000\n",
       "  0.1176  0.0275  0.0000  0.0157  0.0157  0.0235  0.0039  0.0000  0.0000\n",
       "  0.1451  0.0314  0.0039  0.0235  0.0235  0.0196  0.0000  0.0000  0.0000\n",
       "  0.1608  0.0431  0.0078  0.0314  0.0275  0.0078  0.0000  0.0000  0.0000\n",
       "  0.1255  0.0000  0.0000  0.0000  0.0157  0.0941  0.2431  0.2275  0.0902\n",
       "  0.2431  0.0000  0.0000  0.0000  0.0000  0.0392  0.1137  0.1216  0.0157\n",
       "  0.3294  0.0196  0.0000  0.0196  0.0000  0.0000  0.0000  0.0039  0.0000\n",
       "  0.4392  0.1176  0.1176  0.1451  0.0353  0.0000  0.0000  0.0000  0.0000\n",
       "  0.4784  0.1843  0.2157  0.2353  0.1451  0.0039  0.0000  0.0196  0.0510\n",
       "  0.7098  0.5098  0.5843  0.6392  0.6706  0.5569  0.4784  0.5843  0.6353\n",
       "  0.7098  0.5137  0.5843  0.6980  0.9020  0.9569  0.9255  1.0000  1.0000\n",
       "  0.5490  0.2275  0.2000  0.3333  0.7059  0.9843  0.9843  1.0000  1.0000\n",
       "  0.4824  0.1255  0.0039  0.1765  0.6196  0.9255  0.9333  0.9255  0.8824\n",
       "  0.4588  0.0235  0.0000  0.0863  0.5529  0.9255  0.7961  0.5804  0.3686\n",
       "  0.4510  0.0000  0.0000  0.1255  0.5922  0.9098  0.6196  0.3294  0.1686\n",
       "  0.4314  0.0392  0.0000  0.2235  0.6863  0.8706  0.4471  0.0863  0.0000\n",
       "  0.4039  0.0784  0.0000  0.2902  0.7373  0.7647  0.3294  0.0000  0.0000\n",
       "  0.3843  0.0824  0.0000  0.2745  0.6627  0.5451  0.2235  0.0000  0.0745\n",
       "  0.3765  0.0431  0.0000  0.2000  0.5020  0.3843  0.1059  0.0000  0.1020\n",
       "  0.3686  0.0118  0.0000  0.1333  0.3647  0.2824  0.0275  0.0000  0.2235\n",
       "  0.4706  0.2471  0.0588  0.0235  0.1569  0.2314  0.1451  0.0784  0.2588\n",
       "  0.4392  0.2078  0.0471  0.0627  0.2118  0.2510  0.1137  0.0000  0.1843\n",
       "  0.4039  0.1725  0.0431  0.1294  0.3137  0.2784  0.0706  0.0000  0.1059\n",
       "  0.4196  0.1569  0.0549  0.2078  "
      ]
     },
     "execution_count": 86,
     "metadata": {},
     "output_type": "execute_result"
    },
    {
     "data": {
      "text/plain": [
       "0.4471  0.3451  0.0824  0.0000  0.0353\n",
       "  0.4510  0.1529  0.0314  0.2235  0.5294  0.4353  0.1333  0.0000  0.0000\n",
       "  0.4510  0.1216  0.0000  0.1490  0.5216  0.5176  0.1804  0.0000  0.0000\n",
       "  0.4392  0.1098  0.0000  0.0588  0.4667  0.6118  0.2510  0.0000  0.0000\n",
       "  0.4824  0.2000  0.0000  0.0824  0.4588  0.7686  0.4157  0.1020  0.0000\n",
       "  0.6196  0.3765  0.2000  0.2118  0.5922  0.9373  0.7765  0.4039  0.1176\n",
       "  0.9176  0.8275  0.7608  0.7216  0.9137  1.0000  1.0000  0.8431  0.5020\n",
       "  1.0000  1.0000  1.0000  1.0000  1.0000  1.0000  1.0000  1.0000  0.9882\n",
       "  0.9608  1.0000  1.0000  1.0000  1.0000  1.0000  1.0000  1.0000  1.0000\n",
       "  0.8863  0.9216  0.6941  0.5843  0.5255  0.5020  0.5451  0.6000  0.6039\n",
       "  0.8941  0.7608  0.2353  0.0314  0.0000  0.0000  0.0000  0.0588  0.1020\n",
       "  1.0000  0.8196  0.1569  0.0000  0.0000  0.0000  0.0000  0.0157  0.0392\n",
       "  1.0000  0.8588  0.1412  0.0000  0.0000  0.0000  0.0353  0.0667  0.0863\n",
       "  0.9451  0.7882  0.1922  0.0471  0.0275  0.0000  0.0000  0.0000  0.0000\n",
       "  0.9451  0.7882  0.1922  0.0471  0.0275  0.0000  0.0000  0.0000  0.0000\n",
       "  0.9451  0.7922  0.1961  0.0510  0.0275  0.0000  0.0000  0.0000  0.0000\n",
       "  0.9451  0.7922  0.2000  0.0510  0.0275  0.0000  0.0000  0.0000  0.0000\n",
       "  0.9451  0.7961  0.2078  0.0549  0.0235  0.0000  0.0000  0.0000  0.0000\n",
       "  0.9451  0.8000  0.2118  0.0549  0.0235  0.0000  0.0000  0.0000  0.0000\n",
       "  0.9451  0.8039  0.2157  0.0588  0.0235  0.0000  0.0000  0.0000  0.0000\n",
       "  0.9451  0.8039  0.2157  0.0588  0.0196  0.0000  0.0000  0.0000  0.0000\n",
       "  0.9333  0.8118  0.2235  0.0471  0.0196  0.0000  0.0000  0.0000  0.0000\n",
       "  0.9333  0.8157  0.2275  0.0471  0.0196  0.0000  0.0000  0.0000  0.0000\n",
       "  0.9373  0.8196  0.2314  0.0510  0.0196  0.0000  0.0000  0.0000  0.0000\n",
       "  0.9373  0.8275  0.2392  0.0549  0.0157  0.0000  0.0000  0.0000  0.0000\n",
       "  0.9412  0.8314  0.2471  0.0588  0.0157  0.0000  0.0000  0.0000  0.0000\n",
       "  0.9412  0.8392  0.2549  0.0588  0.0118  0.0000  0.0000  0.0000  0.0000\n",
       "  0.9412  0.8431  0.2588  0.0627  0.0118  0.0000  0.0000  0.0000  0.0000\n",
       "  0.9412  0.8471  0.2627  0.0627  0.0118  0.0000  0.0000  0.0000  0.0000\n",
       "\n",
       "Columns 109 to 117\n",
       "  1.0000  1.0000  1.0000  1.0000  1.0000  1.0000  1.0000  1.0000  1.0000\n",
       "  1.0000  1.0000  1.0000  1.0000  1.0000  1.0000  1.0000  1.0000  1.0000\n",
       "  1.0000  1.0000  1.0000  1.0000  1.0000  1.0000  1.0000  1.0000  1.0000\n",
       "  1.0000  1.0000  1.0000  1.0000  1.0000  1.0000  1.0000  1.0000  1.0000\n",
       "  1.0000  1.0000  1.0000  1.0000  1.0000  1.0000  1.0000  1.0000  1.0000\n",
       "  1.0000  1.0000  1.0000  1.0000  1.0000  1.0000  1.0000  1.0000  1.0000\n",
       "  1.0000  1.0000  1.0000  1.0000  1.0000  1.0000  1.0000  1.0000  1.0000\n",
       "  1.0000  1.0000  1.0000  1.0000  1.0000  1.0000  1.0000  1.0000  1.0000\n",
       "  1.0000  1.0000  1.0000  1.0000  1.0000  1.0000  1.0000  1.0000  1.0000\n",
       "  1.0000  1.0000  1.0000  1.0000  1.0000  1.0000  1.0000  1.0000  1.0000\n",
       "  1.0000  1.0000  1.0000  1.0000  1.0000  1.0000  1.0000  1.0000  1.0000\n",
       "  1.0000  1.0000  1.0000  1.0000  1.0000  1.0000  1.0000  1.0000  1.0000\n",
       "  1.0000  1.0000  1.0000  1.0000  1.0000  1.0000  1.0000  1.0000  1.0000\n",
       "  1.0000  1.0000  1.0000  1.0000  1.0000  1.0000  1.0000  1.0000  1.0000\n",
       "  1.0000  1.0000  1.0000  1.0000  1.0000  1.0000  1.0000  1.0000  1.0000\n",
       "  1.0000  1.0000  1.0000  1.0000  1.0000  1.0000  1.0000  1.0000  1.0000\n",
       "  0.9804  0.9843  0.9922  1.0000  1.0000  1.0000  1.0000  1.0000  1.0000\n",
       "  0.9804  0.9843  0.9922  1.0000  1.0000  1.0000  1.0000  1.0000  1.0000\n",
       "  0.9804  0.9843  0.9922  1.0000  1.0000  1.0000  1.0000  1.0000  1.0000\n",
       "  0.9804  0.9843  0.9922  1.0000  1.0000  1.0000  1.0000  1.0000  1.0000\n",
       "  0.9843  0.9843  0.9922  1.0000  1.0000  1.0000  1.0000  1.0000  1.0000\n",
       "  0.9843  0.9843  0.9922  1.0000  1.0000  1.0000  1.0000  1.0000  1.0000\n",
       "  0.9843  0.9922  0.9922  1.0000  1.0000  1.0000  1.0000  1.0000  1.0000\n",
       "  0.9843  0.9922  1.0000  1.0000  1.0000  1.0000  1.0000  1.0000  1.0000\n",
       "  0.9843  0.9922  1.0000  1.0000  1.0000  1.0000  1.0000  1.0000  1.0000\n",
       "  0.9843  0.9922  1.0000  1.0000  1.0000  1.0000  1.0000  1.0000  1.0000\n",
       "  0.9922  0.9922  1.0000  1.0000  1.0000  1.0000  1.0000  1.0000  1.0000\n",
       "  0.9922  0.9922  1.00"
      ]
     },
     "execution_count": 86,
     "metadata": {},
     "output_type": "execute_result"
    },
    {
     "data": {
      "text/plain": [
       "00  1.0000  1.0000  1.0000  1.0000  1.0000  1.0000\n",
       "  0.9922  0.9922  1.0000  1.0000  1.0000  1.0000  1.0000  1.0000  1.0000\n",
       "  0.9922  0.9922  1.0000  1.0000  1.0000  1.0000  1.0000  1.0000  1.0000\n",
       "  0.9922  0.9922  1.0000  1.0000  1.0000  1.0000  1.0000  1.0000  1.0000\n",
       "  0.9922  0.9922  1.0000  1.0000  1.0000  1.0000  1.0000  1.0000  1.0000\n",
       "  1.0000  0.9961  0.9765  0.9725  1.0000  1.0000  1.0000  1.0000  1.0000\n",
       "  1.0000  0.9922  0.9765  0.9725  1.0000  1.0000  1.0000  1.0000  1.0000\n",
       "  1.0000  1.0000  0.9843  0.9725  1.0000  1.0000  1.0000  1.0000  1.0000\n",
       "  1.0000  1.0000  0.9843  0.9725  1.0000  1.0000  1.0000  1.0000  1.0000\n",
       "  1.0000  1.0000  0.9843  0.9804  1.0000  1.0000  1.0000  1.0000  1.0000\n",
       "  1.0000  1.0000  0.9882  0.9804  1.0000  1.0000  1.0000  1.0000  1.0000\n",
       "  1.0000  1.0000  0.9882  0.9804  1.0000  1.0000  1.0000  1.0000  1.0000\n",
       "  1.0000  1.0000  0.9843  0.9765  1.0000  1.0000  1.0000  1.0000  1.0000\n",
       "  1.0000  1.0000  0.9843  0.9922  1.0000  1.0000  1.0000  1.0000  1.0000\n",
       "  1.0000  1.0000  0.9882  1.0000  1.0000  1.0000  1.0000  1.0000  1.0000\n",
       "  1.0000  1.0000  1.0000  0.9922  1.0000  1.0000  1.0000  1.0000  1.0000\n",
       "  1.0000  1.0000  1.0000  0.9961  1.0000  1.0000  1.0000  1.0000  1.0000\n",
       "  0.9922  1.0000  1.0000  1.0000  1.0000  1.0000  1.0000  1.0000  1.0000\n",
       "  1.0000  1.0000  1.0000  1.0000  1.0000  1.0000  1.0000  1.0000  1.0000\n",
       "  1.0000  0.9961  1.0000  1.0000  1.0000  1.0000  1.0000  1.0000  1.0000\n",
       "  1.0000  0.9961  1.0000  1.0000  1.0000  1.0000  1.0000  1.0000  1.0000\n",
       "  1.0000  1.0000  1.0000  1.0000  1.0000  1.0000  1.0000  1.0000  1.0000\n",
       "  1.0000  1.0000  1.0000  1.0000  1.0000  1.0000  1.0000  1.0000  1.0000\n",
       "  1.0000  1.0000  1.0000  1.0000  1.0000  1.0000  1.0000  1.0000  1.0000\n",
       "  1.0000  1.0000  1.0000  0.9961  1.0000  1.0000  1.0000  1.0000  1.0000\n",
       "  1.0000  1.0000  1.0000  0.9843  1.0000  1.0000  1.0000  1.0000  1.0000\n",
       "  1.0000  1.0000  1.0000  0.9804  1.0000  1.0000  1.0000  1.0000  1.0000\n",
       "  1.0000  1.0000  1.0000  0.9922  1.0000  1.0000  1.0000  1.0000  1.0000\n",
       "  1.0000  1.0000  1.0000  0.9843  1.0000  1.0000  1.0000  1.0000  1.0000\n",
       "  1.0000  1.0000  1.0000  0.9765  1.0000  1.0000  1.0000  1.0000  1.0000\n",
       "  0.9882  1.0000  0.9922  0.9725  1.0000  1.0000  1.0000  1.0000  1.0000\n",
       "  0.9608  1.0000  0.9804  0.9725  1.0000  1.0000  1.0000  1.0000  1.0000\n",
       "  0.9294  1.0000  0.9725  0.9647  1.0000  1.0000  1.0000  1.0000  1.0000\n",
       "  0.8706  1.0000  0.9765  0.9647  1.0000  1.0000  1.0000  1.0000  1.0000\n",
       "  0.7686  1.0000  0.9686  0.9569  1.0000  1.0000  1.0000  1.0000  1.0000\n",
       "  0.6627  0.9961  0.9725  0.9569  1.0000  1.0000  1.0000  1.0000  1.0000\n",
       "  0.5804  0.9843  0.9765  0.9569  1.0000  1.0000  1.0000  1.0000  1.0000\n",
       "  0.3647  0.8745  1.0000  1.0000  1.0000  1.0000  1.0000  1.0000  1.0000\n",
       "  0.3176  0.8627  1.0000  1.0000  1.0000  1.0000  1.0000  1.0000  1.0000\n",
       "  0.2314  0.8353  1.0000  1.0000  1.0000  1.0000  1.0000  1.0000  1.0000\n",
       "  0.1608  0.7804  0.9922  1.0000  1.0000  1.0000  1.0000  1.0000  1.0000\n",
       "  0.1137  0.7176  0.9843  1.0000  1.0000  1.0000  1.0000  1.0000  1.0000\n",
       "  0.0941  0.6275  0.9725  1.0000  1.0000  1.0000  1.0000  1.0000  1.0000\n",
       "  0.0824  0.5412  0.9647  1.0000  1.0000  1.0000  1.0000  1.0000  1.0000\n",
       "  0.0784  0.4863  0.9451  1.0000  1.0000  1.0000  1.0000  1.0000  1.0000\n",
       "  0.0706  0.3725  0.9216  1.0000  1.0000  1.0000  1.0000  1.0000  1.0000\n",
       "  0.0510  0.3333  0.8902  1.0000  1.0000  1.0000  1.0000  1.0000  1.0000\n",
       "  0.0392  0.2745  0.8353  1.0000  1.0000  1.0000  1.0000  1.0000  1.0000\n",
       "  0.0235  0.2157  0.7843  0.9922  1.0000  1.0000  1.0000  1.0000  1.0000\n",
       "  0.0196  0.1686  0.7216  0.9843  1.0000  1.0000  1.0000  1.0000  1.0000\n",
       "  0.0275  0.1216  0.6588  0.9804  1.0000  1.0000  1.0000  1.0000  1.0000\n",
       "  0.0314  0.0941  0.6118  0.9686  1.0000  1.0000  1.0000  1.0000  1.0000\n",
       "  0.0275  0.0745  0.5804  0.9490  1.0000  1.0000  1.0000  1.0000  1.0000\n",
       "  0.0000  0.0000  0.4039  1.0000  1.0000  1.0000  1.0000  1.0000  1.0000\n",
       "  0.0000  0.0000  0.3451  1.0000  1.0000  1.0000  1.0000  1.0000  1.0000\n",
       "  0.0000  0.0000  0.2784  1.0000  0.8549  0.9647  1.0000  1.0000  0.8980\n",
       "  0.0000  0.0000  0.2510  0.96"
      ]
     },
     "execution_count": 86,
     "metadata": {},
     "output_type": "execute_result"
    },
    {
     "data": {
      "text/plain": [
       "08  0.7725  0.9569  1.0000  1.0000  0.9059\n",
       "  0.0784  0.0745  0.2039  0.7333  0.7922  0.9843  1.0000  1.0000  1.0000\n",
       "  0.6431  0.6039  0.5882  0.8118  0.7961  0.9569  1.0000  1.0000  1.0000\n",
       "  1.0000  1.0000  0.8784  0.7765  0.5882  0.7137  0.8549  0.8824  0.7804\n",
       "  1.0000  1.0000  0.8824  0.5882  0.2078  0.3529  0.4980  0.4902  0.3608\n",
       "  0.9137  0.8667  0.8078  0.6275  0.0000  0.2510  0.4118  0.2784  0.1412\n",
       "  0.3725  0.4157  0.5255  0.4902  0.0000  0.1333  0.2706  0.1804  0.1020\n",
       "  0.1882  0.1922  0.2157  0.1569  0.0000  0.0431  0.1647  0.1647  0.1804\n",
       "  0.0667  0.0784  0.0275  0.0000  0.0275  0.0980  0.1569  0.2235  0.3412\n",
       "  0.0235  0.0588  0.0000  0.0000  0.0980  0.0588  0.0510  0.1922  0.4549\n",
       "  0.1569  0.2118  0.0980  0.0000  0.1255  0.0627  0.1294  0.4314  0.8353\n",
       "  0.2980  0.4706  0.3255  0.1294  0.0000  0.0000  0.2078  0.6392  1.0000\n",
       "  0.5647  0.8078  0.5608  0.2235  0.0000  0.0000  0.2784  0.7333  1.0000\n",
       "  0.4824  0.9451  0.7569  0.3843  0.0000  0.1529  0.4000  0.7255  0.9843\n",
       "  0.4824  0.9216  0.6588  0.2745  0.0000  0.0510  0.2392  0.6000  0.9882\n",
       "  0.4941  0.8863  0.5647  0.1843  0.0000  0.0000  0.0745  0.5176  1.0000\n",
       "  0.4392  0.7490  0.4314  0.0980  0.0000  0.0000  0.0471  0.5020  1.0000\n",
       "  0.2863  0.5216  0.2667  0.0235  0.0000  0.0000  0.1137  0.5647  1.0000\n",
       "  0.1098  0.3098  0.1804  0.0275  0.0000  0.0157  0.1804  0.6275  1.0000\n",
       "  0.0000  0.1451  0.1490  0.0745  0.0000  0.0549  0.2078  0.6078  0.9961\n",
       "  0.0000  0.0627  0.1490  0.1294  0.0000  0.1216  0.2627  0.6314  0.9843\n",
       "  0.0549  0.1608  0.2745  0.3294  0.1725  0.2784  0.4039  0.6706  0.9255\n",
       "  0.3098  0.3882  0.6824  0.9333  0.6549  0.7529  0.8118  0.9098  0.9294\n",
       "  0.8353  0.8235  0.9647  1.0000  0.9922  1.0000  1.0000  1.0000  0.9373\n",
       "  0.9569  0.9255  0.9451  0.9725  0.9137  1.0000  1.0000  1.0000  0.9804\n",
       "  0.5529  0.5137  0.5216  0.5451  0.4706  0.8627  1.0000  1.0000  1.0000\n",
       "  0.0784  0.0118  0.0000  0.0000  0.0392  0.6275  0.9804  1.0000  1.0000\n",
       "  0.0588  0.0510  0.0078  0.0000  0.0000  0.5647  0.9451  1.0000  1.0000\n",
       "  0.0824  0.0588  0.0196  0.0000  0.0510  0.6196  0.9569  1.0000  1.0000\n",
       "  0.0000  0.0118  0.0157  0.0235  0.0627  0.6392  0.9176  1.0000  1.0000\n",
       "  0.0000  0.0118  0.0157  0.0235  0.0627  0.6275  0.9176  1.0000  1.0000\n",
       "  0.0000  0.0118  0.0157  0.0235  0.0588  0.6000  0.9176  1.0000  1.0000\n",
       "  0.0000  0.0118  0.0157  0.0235  0.0588  0.5647  0.9176  1.0000  1.0000\n",
       "  0.0000  0.0118  0.0157  0.0235  0.0549  0.5255  0.9176  1.0000  1.0000\n",
       "  0.0000  0.0118  0.0157  0.0235  0.0549  0.4902  0.9176  1.0000  1.0000\n",
       "  0.0000  0.0118  0.0157  0.0235  0.0510  0.4627  0.9176  1.0000  1.0000\n",
       "  0.0000  0.0118  0.0157  0.0235  0.0510  0.4471  0.9176  1.0000  1.0000\n",
       "  0.0000  0.0118  0.0157  0.0235  0.0471  0.3882  0.9216  1.0000  1.0000\n",
       "  0.0000  0.0118  0.0157  0.0235  0.0471  0.3843  0.9176  1.0000  1.0000\n",
       "  0.0000  0.0118  0.0157  0.0235  0.0431  0.3725  0.9098  1.0000  1.0000\n",
       "  0.0000  0.0118  0.0157  0.0235  0.0392  0.3608  0.8980  1.0000  1.0000\n",
       "  0.0000  0.0118  0.0157  0.0235  0.0353  0.3490  0.8863  1.0000  1.0000\n",
       "  0.0000  0.0118  0.0157  0.0235  0.0314  0.3373  0.8745  1.0000  1.0000\n",
       "  0.0000  0.0118  0.0157  0.0235  0.0314  0.3294  0.8667  1.0000  1.0000\n",
       "  0.0000  0.0118  0.0157  0.0235  0.0275  0.3255  0.8627  1.0000  1.0000\n",
       "\n",
       "Columns 118 to 126\n",
       "  1.0000  1.0000  1.0000  1.0000  1.0000  1.0000  1.0000  1.0000  1.0000\n",
       "  1.0000  1.0000  1.0000  1.0000  1.0000  1.0000  1.0000  1.0000  1.0000\n",
       "  1.0000  1.0000  1.0000  1.0000  1.0000  1.0000  1.0000  1.0000  1.0000\n",
       "  1.0000  1.0000  1.0000  1.0000  1.0000  1.0000  1.0000  1.0000  1.0000\n",
       "  1.0000  1.0000  1.0000  1.0000  1.0000  1.0000  1.0000  1.0000  1.0000\n",
       "  1.0000  1.0000  1.0000  1.0000  1.0000  1.0000  1.0000  1.0000  1.0000\n",
       "  1.0000  1.0000  1.0000  1.0000  1.0000  1.0000  1.0000  1.0000  1.0000\n",
       "  1.0000  1.0000  1.0000  1.0000  1.0000  1.0000  1.0000  1.0000  1.0000\n",
       "  1.0000  1.0000  1.0000  1.0000  1.0000  1.0000  1.0000  1.0000  1.0000\n",
       "  1.0000  1.0000  1.0000  1.0000  1.0000  1.0000  1.0000  1.0000  1.0000\n",
       "  1.0000  1.0000  1.0000  1.0000  1.0000  1.0000  1.0000  1.0000  1.0000\n",
       "  1.0000  1.0000  "
      ]
     },
     "execution_count": 86,
     "metadata": {},
     "output_type": "execute_result"
    },
    {
     "data": {
      "text/plain": [
       "1.0000  1.0000  1.0000  1.0000  1.0000  1.0000  1.0000\n",
       "  1.0000  1.0000  1.0000  1.0000  1.0000  1.0000  1.0000  1.0000  1.0000\n",
       "  1.0000  1.0000  1.0000  1.0000  1.0000  1.0000  1.0000  1.0000  1.0000\n",
       "  1.0000  1.0000  1.0000  1.0000  1.0000  1.0000  1.0000  1.0000  1.0000\n",
       "  1.0000  1.0000  1.0000  1.0000  1.0000  1.0000  1.0000  1.0000  1.0000\n",
       "  1.0000  1.0000  1.0000  1.0000  1.0000  1.0000  1.0000  1.0000  1.0000\n",
       "  1.0000  1.0000  1.0000  1.0000  1.0000  1.0000  1.0000  1.0000  1.0000\n",
       "  1.0000  1.0000  1.0000  1.0000  1.0000  1.0000  1.0000  1.0000  1.0000\n",
       "  1.0000  1.0000  1.0000  1.0000  1.0000  1.0000  1.0000  1.0000  1.0000\n",
       "  1.0000  1.0000  1.0000  1.0000  1.0000  1.0000  1.0000  1.0000  1.0000\n",
       "  1.0000  1.0000  1.0000  1.0000  1.0000  1.0000  1.0000  1.0000  1.0000\n",
       "  1.0000  1.0000  1.0000  1.0000  1.0000  1.0000  1.0000  1.0000  1.0000\n",
       "  1.0000  1.0000  1.0000  1.0000  1.0000  1.0000  1.0000  1.0000  1.0000\n",
       "  1.0000  1.0000  1.0000  1.0000  1.0000  1.0000  1.0000  1.0000  1.0000\n",
       "  1.0000  1.0000  1.0000  1.0000  1.0000  1.0000  1.0000  1.0000  1.0000\n",
       "  1.0000  1.0000  1.0000  1.0000  1.0000  1.0000  1.0000  1.0000  1.0000\n",
       "  1.0000  1.0000  1.0000  1.0000  1.0000  1.0000  1.0000  1.0000  1.0000\n",
       "  1.0000  1.0000  1.0000  1.0000  1.0000  1.0000  1.0000  1.0000  1.0000\n",
       "  1.0000  1.0000  1.0000  1.0000  1.0000  1.0000  1.0000  1.0000  1.0000\n",
       "  1.0000  1.0000  1.0000  1.0000  1.0000  1.0000  1.0000  1.0000  1.0000\n",
       "  1.0000  1.0000  1.0000  1.0000  1.0000  1.0000  1.0000  1.0000  1.0000\n",
       "  1.0000  1.0000  1.0000  1.0000  1.0000  1.0000  1.0000  1.0000  1.0000\n",
       "  1.0000  1.0000  1.0000  1.0000  1.0000  1.0000  1.0000  1.0000  1.0000\n",
       "  1.0000  1.0000  1.0000  1.0000  1.0000  1.0000  1.0000  1.0000  1.0000\n",
       "  1.0000  1.0000  1.0000  1.0000  1.0000  1.0000  1.0000  1.0000  1.0000\n",
       "  1.0000  1.0000  1.0000  1.0000  1.0000  1.0000  1.0000  1.0000  1.0000\n",
       "  1.0000  1.0000  1.0000  1.0000  1.0000  1.0000  1.0000  1.0000  1.0000\n",
       "  1.0000  1.0000  1.0000  1.0000  1.0000  1.0000  1.0000  1.0000  1.0000\n",
       "  1.0000  1.0000  1.0000  1.0000  1.0000  1.0000  1.0000  1.0000  1.0000\n",
       "  1.0000  1.0000  1.0000  1.0000  1.0000  1.0000  1.0000  1.0000  1.0000\n",
       "  1.0000  1.0000  1.0000  1.0000  1.0000  1.0000  1.0000  1.0000  1.0000\n",
       "  1.0000  1.0000  1.0000  1.0000  1.0000  1.0000  1.0000  1.0000  1.0000\n",
       "  1.0000  1.0000  1.0000  1.0000  1.0000  1.0000  1.0000  1.0000  1.0000\n",
       "  1.0000  1.0000  1.0000  1.0000  1.0000  1.0000  1.0000  1.0000  1.0000\n",
       "  1.0000  1.0000  1.0000  1.0000  1.0000  1.0000  1.0000  1.0000  1.0000\n",
       "  1.0000  1.0000  1.0000  1.0000  1.0000  1.0000  1.0000  1.0000  1.0000\n",
       "  1.0000  1.0000  1.0000  1.0000  1.0000  1.0000  1.0000  1.0000  1.0000\n",
       "  1.0000  1.0000  1.0000  1.0000  1.0000  1.0000  1.0000  1.0000  1.0000\n",
       "  1.0000  1.0000  1.0000  1.0000  1.0000  1.0000  1.0000  1.0000  1.0000\n",
       "  1.0000  1.0000  1.0000  1.0000  1.0000  1.0000  1.0000  1.0000  1.0000\n",
       "  1.0000  1.0000  1.0000  1.0000  1.0000  1.0000  1.0000  1.0000  1.0000\n",
       "  1.0000  1.0000  1.0000  1.0000  1.0000  1.0000  1.0000  1.0000  1.0000\n",
       "  1.0000  1.0000  1.0000  1.0000  1.0000  1.0000  1.0000  1.0000  1.0000\n",
       "  1.0000  1.0000  1.0000  1.0000  1.0000  1.0000  1.0000  1.0000  1.0000\n",
       "  1.0000  1.0000  1.0000  1.0000  1.0000  1.0000  1.0000  1.0000  1.0000\n",
       "  1.0000  1.0000  1.0000  1.0000  1.0000  1.0000  1.0000  1.0000  1.0000\n",
       "  1.0000  1.0000  1.0000  1.0000  1.0000  1.0000  1.0000  1.0000  1.0000\n",
       "  1.0000  1.0000  1.0000  1.0000  1.0000  1.0000  1.0000  1.0000  1.0000\n",
       "  1.0000  1.0000  1.0000  1.0000  1.0000  1.0000  1.0000  1.0000  1.0000\n",
       "  1.0000  1.0000  1.0000  1.0000  1.0000  1.0000  1.0000  1.0000  1.0000\n",
       "  1.0000  1.0000  1.0000  1.0000  1.0000  1.0000  1.0000  1.0000  1.0000\n",
       "  1.0000  1.0000  1.0000  1.0000  1.0000  1.0000  1.0000  1.0000  1.0000\n",
       "  1.0000  1.0000  1.0000  1.0000  1.0000  1.0000  1.0000  1.0000  1.0000\n",
       "  1.0000  1.0000  1.0000  1.0000  1.0000  1.0000  1.0000  1.0000  1.0000\n",
       "  1.0000  1.0000  1.0000  1.0000  1.0000  1.0000  1.0000  1.0000  1.0000\n",
       "  1.0000  1.0000  1.0000  1.0000  1.0000  1.0000  1.0000  1.0000  1.0000\n",
       "  1.0000  1.0000  1.0000  "
      ]
     },
     "execution_count": 86,
     "metadata": {},
     "output_type": "execute_result"
    },
    {
     "data": {
      "text/plain": [
       "1.0000  1.0000  1.0000  1.0000  1.0000  1.0000\n",
       "  1.0000  1.0000  1.0000  1.0000  1.0000  1.0000  1.0000  1.0000  1.0000\n",
       "  1.0000  1.0000  1.0000  1.0000  1.0000  1.0000  1.0000  1.0000  1.0000\n",
       "  1.0000  1.0000  1.0000  1.0000  1.0000  1.0000  1.0000  1.0000  1.0000\n",
       "  1.0000  1.0000  1.0000  1.0000  1.0000  1.0000  1.0000  1.0000  1.0000\n",
       "  1.0000  1.0000  1.0000  1.0000  1.0000  1.0000  1.0000  1.0000  1.0000\n",
       "  1.0000  1.0000  1.0000  1.0000  1.0000  1.0000  1.0000  1.0000  1.0000\n",
       "  1.0000  1.0000  1.0000  1.0000  1.0000  1.0000  1.0000  1.0000  1.0000\n",
       "  1.0000  1.0000  1.0000  1.0000  1.0000  1.0000  1.0000  1.0000  1.0000\n",
       "  1.0000  1.0000  1.0000  1.0000  1.0000  1.0000  1.0000  1.0000  1.0000\n",
       "  1.0000  1.0000  1.0000  1.0000  1.0000  1.0000  1.0000  1.0000  1.0000\n",
       "  1.0000  1.0000  1.0000  1.0000  1.0000  1.0000  1.0000  1.0000  1.0000\n",
       "  1.0000  1.0000  1.0000  1.0000  1.0000  1.0000  1.0000  1.0000  1.0000\n",
       "  1.0000  1.0000  0.9529  0.8549  0.8627  0.8941  0.9020  0.8941  0.9529\n",
       "  1.0000  1.0000  1.0000  1.0000  1.0000  0.9922  0.9922  0.9922  0.9843\n",
       "  0.8588  0.9529  1.0000  1.0000  1.0000  1.0000  1.0000  1.0000  1.0000\n",
       "  0.8000  0.8745  1.0000  1.0000  1.0000  1.0000  1.0000  1.0000  1.0000\n",
       "  0.8549  0.8314  0.9294  1.0000  0.9804  0.9373  0.9647  1.0000  1.0000\n",
       "  0.8745  0.7922  0.8196  0.9137  0.9608  0.9608  0.9490  0.9686  1.0000\n",
       "  0.6471  0.6078  0.7059  0.9804  1.0000  1.0000  1.0000  0.9412  0.9529\n",
       "  0.2588  0.3412  0.5804  1.0000  1.0000  1.0000  1.0000  0.9412  0.9255\n",
       "  0.0824  0.2078  0.6471  1.0000  1.0000  0.8314  0.7725  0.8275  0.8902\n",
       "  0.0510  0.1176  0.4471  0.5098  0.4471  0.3059  0.2627  0.3765  0.5765\n",
       "  0.1059  0.0000  0.1098  0.1843  0.1686  0.1216  0.0902  0.1412  0.3294\n",
       "  0.2706  0.0314  0.0000  0.0314  0.0784  0.0941  0.0549  0.0078  0.0706\n",
       "  0.4314  0.1098  0.0000  0.0000  0.0980  0.1804  0.1176  0.0000  0.0000\n",
       "  0.8078  0.3412  0.0353  0.0000  0.1647  0.3608  0.3333  0.1529  0.0314\n",
       "  0.9843  0.4118  0.0078  0.0000  0.0667  0.3294  0.4039  0.3176  0.2588\n",
       "  1.0000  0.4431  0.0549  0.0000  0.0157  0.2549  0.4078  0.4941  0.6000\n",
       "  0.8824  0.4275  0.0000  0.0000  0.0000  0.0000  0.0314  0.0824  0.2000\n",
       "  1.0000  0.7686  0.4353  0.2235  0.1255  0.0471  0.0000  0.0000  0.1137\n",
       "  1.0000  1.0000  0.9216  0.5569  0.3765  0.2039  0.0078  0.0000  0.0000\n",
       "  1.0000  0.9020  0.6941  0.5216  0.4706  0.4118  0.1725  0.0000  0.0000\n",
       "  0.9255  0.4667  0.1843  0.1569  0.3216  0.4784  0.3490  0.0353  0.0000\n",
       "  0.8235  0.2314  0.0000  0.0000  0.0745  0.3412  0.3451  0.1451  0.0118\n",
       "  0.7725  0.1922  0.0000  0.0000  0.0000  0.1333  0.1529  0.0902  0.0471\n",
       "  0.9098  0.4745  0.2196  0.0471  0.0667  0.0353  0.0000  0.0000  0.0902\n",
       "  0.9804  0.8078  0.4588  0.4039  0.2549  0.1333  0.0549  0.0353  0.1922\n",
       "  0.8863  0.8588  0.8000  0.6000  0.4471  0.2941  0.2471  0.3137  0.5137\n",
       "  0.7686  0.7922  0.8941  0.9294  0.8784  0.8078  0.8000  0.8706  0.9412\n",
       "  0.8000  0.7961  0.8941  0.9451  0.9843  0.9922  1.0000  1.0000  1.0000\n",
       "  0.9529  0.9294  0.9647  1.0000  1.0000  1.0000  0.9843  1.0000  1.0000\n",
       "  1.0000  1.0000  1.0000  1.0000  1.0000  1.0000  0.9529  0.9137  0.9216\n",
       "  1.0000  1.0000  0.9451  0.9451  1.0000  1.0000  1.0000  0.9843  0.9529\n",
       "  1.0000  0.9176  0.8235  0.9020  1.0000  1.0000  1.0000  1.0000  0.9569\n",
       "  1.0000  1.0000  0.9608  0.9569  0.9804  1.0000  1.0000  1.0000  1.0000\n",
       "  1.0000  1.0000  0.9608  0.9569  0.9804  1.0000  1.0000  1.0000  1.0000\n",
       "  1.0000  1.0000  0.9647  0.9569  0.9804  1.0000  1.0000  1.0000  1.0000\n",
       "  1.0000  0.9961  0.9647  0.9569  0.9804  1.0000  1.0000  1.0000  1.0000\n",
       "  1.0000  0.9961  0.9647  0.9569  0.9804  1.0000  1.0000  1.0000  1.0000\n",
       "  1.0000  0.9922  0.9647  0.9569  0.9804  1.0000  1.0000  1.0000  1.0000\n",
       "  1.0000  0.9922  0.9647  0.9569  0.9804  1.0000  1.0000  1.0000  1.0000\n",
       "  1.0000  0.9922  0.9647  0.9569  0.9804  1.0000  1.0000  1.0000  1.0000\n",
       "  1.0000  1.0000  0.9647  0.9569  0.9804  1.0000  1.0000  1.0000  1.0000\n",
       "  1.0000  1.0000  0.9647  0.9569  0.9804  1.0000  1.0000  1.0000  1.0000\n",
       "  1.0000  1.0000  0.9647  0.9569  0.9804  1.0000  1.0000  1.0000  1.0000\n",
       "  1.0000  0.9961  0.9647  0.9569  "
      ]
     },
     "execution_count": 86,
     "metadata": {},
     "output_type": "execute_result"
    },
    {
     "data": {
      "text/plain": [
       "0.9804  1.0000  1.0000  1.0000  1.0000\n",
       "  1.0000  0.9922  0.9647  0.9569  0.9804  1.0000  1.0000  1.0000  1.0000\n",
       "  1.0000  0.9882  0.9647  0.9569  0.9804  1.0000  1.0000  1.0000  1.0000\n",
       "  1.0000  0.9882  0.9647  0.9569  0.9804  1.0000  1.0000  1.0000  1.0000\n",
       "  1.0000  0.9843  0.9647  0.9569  0.9804  1.0000  1.0000  1.0000  1.0000\n",
       "\n",
       "Columns 127 to 128\n",
       "  1.0000  1.0000\n",
       "  1.0000  1.0000\n",
       "  1.0000  1.0000\n",
       "  1.0000  1.0000\n",
       "  1.0000  1.0000\n",
       "  1.0000  1.0000\n",
       "  1.0000  1.0000\n",
       "  1.0000  1.0000\n",
       "  1.0000  1.0000\n",
       "  1.0000  1.0000\n",
       "  1.0000  1.0000\n",
       "  1.0000  1.0000\n",
       "  1.0000  1.0000\n",
       "  1.0000  1.0000\n",
       "  1.0000  1.0000\n",
       "  1.0000  1.0000\n",
       "  1.0000  1.0000\n",
       "  1.0000  1.0000\n",
       "  1.0000  1.0000\n",
       "  1.0000  1.0000\n",
       "  1.0000  1.0000\n",
       "  1.0000  1.0000\n",
       "  1.0000  1.0000\n",
       "  1.0000  1.0000\n",
       "  1.0000  1.0000\n",
       "  1.0000  1.0000\n",
       "  1.0000  1.0000\n",
       "  1.0000  1.0000\n",
       "  1.0000  1.0000\n",
       "  1.0000  1.0000\n",
       "  1.0000  1.0000\n",
       "  1.0000  1.0000\n",
       "  1.0000  1.0000\n",
       "  1.0000  1.0000\n",
       "  1.0000  1.0000\n",
       "  1.0000  1.0000\n",
       "  1.0000  1.0000\n",
       "  1.0000  1.0000\n",
       "  1.0000  1.0000\n",
       "  1.0000  1.0000\n",
       "  1.0000  1.0000\n",
       "  1.0000  1.0000\n",
       "  1.0000  1.0000\n",
       "  1.0000  1.0000\n",
       "  1.0000  1.0000\n",
       "  1.0000  1.0000\n",
       "  1.0000  1.0000\n",
       "  1.0000  1.0000\n",
       "  1.0000  1.0000\n",
       "  1.0000  1.0000\n",
       "  1.0000  1.0000\n",
       "  1.0000  1.0000\n",
       "  1.0000  1.0000\n",
       "  1.0000  1.0000\n",
       "  1.0000  1.0000\n",
       "  1.0000  1.0000\n",
       "  1.0000  1.0000\n",
       "  1.0000  1.0000\n",
       "  1.0000  1.0000\n",
       "  1.0000  1.0000\n",
       "  1.0000  1.0000\n",
       "  1.0000  1.0000\n",
       "  1.0000  1.0000\n",
       "  1.0000  1.0000\n",
       "  1.0000  1.0000\n",
       "  1.0000  1.0000\n",
       "  1.0000  1.0000\n",
       "  1.0000  1.0000\n",
       "  1.0000  1.0000\n",
       "  1.0000  1.0000\n",
       "  1.0000  1.0000\n",
       "  1.0000  1.0000\n",
       "  1.0000  1.0000\n",
       "  1.0000  1.0000\n",
       "  1.0000  1.0000\n",
       "  1.0000  1.0000\n",
       "  1.0000  1.0000\n",
       "  1.0000  1.0000\n",
       "  1.0000  1.0000\n",
       "  1.0000  1.0000\n",
       "  1.0000  1.0000\n",
       "  0.9804  0.9647\n",
       "  0.9020  0.7647\n",
       "  0.9529  0.8000\n",
       "  1.0000  1.0000\n",
       "  1.0000  1.0000\n",
       "  1.0000  1.0000\n",
       "  0.9529  0.9804\n",
       "  0.9373  0.9373\n",
       "  0.8039  0.9647\n",
       "  0.6157  0.8392\n",
       "  0.2510  0.4196\n",
       "  0.0235  0.1412\n",
       "  0.0392  0.1020\n",
       "  0.2667  0.2941\n",
       "  0.7059  0.7608\n",
       "  0.5059  0.8824\n",
       "  0.4118  0.6980\n",
       "  0.2745  0.4902\n",
       "  0.1529  0.3216\n",
       "  0.0471  0.1294\n",
       "  0.0157  0.0510\n",
       "  0.1294  0.2627\n",
       "  0.3412  0.6275\n",
       "  0.5725  0.9373\n",
       "  0.8118  1.0000\n",
       "  0.9804  0.9725\n",
       "  0.9843  0.8784\n",
       "  0.9922  0.9569\n",
       "  0.9569  0.9882\n",
       "  0.9725  1.0000\n",
       "  0.9451  1.0000\n",
       "  0.9804  0.9529\n",
       "  0.9804  0.9529\n",
       "  0.9804  0.9529\n",
       "  0.9804  0.9529\n",
       "  0.9804  0.9529\n",
       "  0.9804  0.9529\n",
       "  0.9804  0.9529\n",
       "  0.9804  0.9529\n",
       "  0.9804  0.9529\n",
       "  0.9804  0.9529\n",
       "  0.9804  0.9529\n",
       "  0.9804  0.9529\n",
       "  0.9804  0.9529\n",
       "  0.9804  0.9529\n",
       "  0.9804  0.9529\n",
       "  0.9804  0.9529\n",
       "[torch.FloatTensor of size 3x128x128]\n",
       "\n"
      ]
     },
     "execution_count": 86,
     "metadata": {},
     "output_type": "execute_result"
    }
   ],
   "source": [
    "trainset.data[2219]"
   ]
  },
  {
   "cell_type": "code",
   "execution_count": 84,
   "metadata": {
    "collapsed": false
   },
   "outputs": [
    {
     "data": {
      "text/plain": [
       "2220\t\n"
      ]
     },
     "execution_count": 84,
     "metadata": {},
     "output_type": "execute_result"
    }
   ],
   "source": [
    "count"
   ]
  },
  {
   "cell_type": "code",
   "execution_count": null,
   "metadata": {
    "collapsed": true
   },
   "outputs": [],
   "source": []
  }
 ],
 "metadata": {
  "anaconda-cloud": {},
  "kernelspec": {
   "display_name": "iTorch",
   "language": "lua",
   "name": "itorch"
  },
  "language_info": {
   "name": "lua",
   "version": "5.1"
  }
 },
 "nbformat": 4,
 "nbformat_minor": 0
}
